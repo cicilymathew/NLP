{
 "cells": [
  {
   "cell_type": "markdown",
   "metadata": {},
   "source": [
    "# **Import Library**"
   ]
  },
  {
   "cell_type": "code",
   "execution_count": 121,
   "metadata": {},
   "outputs": [],
   "source": [
    "import pandas as pd\n",
    "import numpy as np\n",
    "import matplotlib.pyplot as plt\n",
    "import seaborn as sns\n",
    "import spacy\n",
    "import re\n",
    "from tqdm import tqdm\n",
    "import pyLDAvis.gensim_models as gensimvis\n",
    "import pyLDAvis\n",
    "from gensim.models import Phrases, LdaModel, LdaMulticore, CoherenceModel\n",
    "from gensim.corpora import Dictionary\n",
    "from sklearn.datasets import fetch_20newsgroups\n",
    "import pyLDAvis\n",
    "from bertopic import BERTopic\n",
    "from bertopic.vectorizers import ClassTfidfTransformer\n",
    "from sklearn.cluster import HDBSCAN\n",
    "from sklearn.feature_extraction.text import CountVectorizer\n",
    "from umap import UMAP\n",
    "from sentence_transformers import SentenceTransformer"
   ]
  },
  {
   "cell_type": "markdown",
   "metadata": {},
   "source": [
    "# **Data Loading**"
   ]
  },
  {
   "cell_type": "code",
   "execution_count": 86,
   "metadata": {},
   "outputs": [],
   "source": [
    "url = \"https://storage.googleapis.com/adsp-nlp-open/data/nlp_a_6_news.json\"\n",
    "news_df = pd.read_json(url, orient=\"records\", lines=True).sample(n=5000, random_state=0)"
   ]
  },
  {
   "cell_type": "code",
   "execution_count": 87,
   "metadata": {},
   "outputs": [
    {
     "name": "stdout",
     "output_type": "stream",
     "text": [
      "Shape: (5000, 5)\n",
      "Columns: Index(['url', 'date', 'language', 'title', 'text'], dtype='object')\n"
     ]
    }
   ],
   "source": [
    "print(f'Shape: {news_df.shape}')\n",
    "print(f'Columns: {news_df.columns}')"
   ]
  },
  {
   "cell_type": "code",
   "execution_count": 88,
   "metadata": {},
   "outputs": [
    {
     "data": {
      "text/html": [
       "<div>\n",
       "<style scoped>\n",
       "    .dataframe tbody tr th:only-of-type {\n",
       "        vertical-align: middle;\n",
       "    }\n",
       "\n",
       "    .dataframe tbody tr th {\n",
       "        vertical-align: top;\n",
       "    }\n",
       "\n",
       "    .dataframe thead th {\n",
       "        text-align: right;\n",
       "    }\n",
       "</style>\n",
       "<table border=\"1\" class=\"dataframe\">\n",
       "  <thead>\n",
       "    <tr style=\"text-align: right;\">\n",
       "      <th></th>\n",
       "      <th>url</th>\n",
       "      <th>date</th>\n",
       "      <th>language</th>\n",
       "      <th>title</th>\n",
       "      <th>text</th>\n",
       "    </tr>\n",
       "  </thead>\n",
       "  <tbody>\n",
       "    <tr>\n",
       "      <th>3844</th>\n",
       "      <td>https://www.kxii.com/prnewswire/2022/05/23/com...</td>\n",
       "      <td>2022-05-23</td>\n",
       "      <td>en</td>\n",
       "      <td>COMPUTEX 2022 Global Press Conference Industry...</td>\n",
       "      <td>COMPUTEX 2022 Global Press Conference Industry...</td>\n",
       "    </tr>\n",
       "    <tr>\n",
       "      <th>3617</th>\n",
       "      <td>https://www.bigrapidsnews.com/business/article...</td>\n",
       "      <td>2022-06-09</td>\n",
       "      <td>en</td>\n",
       "      <td>Moderna, Roku rise; Scotts Miracle-Gro, Charle...</td>\n",
       "      <td>Moderna, Roku rise; Scotts Miracle-Gro, Charle...</td>\n",
       "    </tr>\n",
       "    <tr>\n",
       "      <th>2608</th>\n",
       "      <td>https://www.devdiscourse.com/article/education...</td>\n",
       "      <td>2022-04-12</td>\n",
       "      <td>en</td>\n",
       "      <td>Create entrepreneurship ecosystem in districts...</td>\n",
       "      <td>Create entrepreneurship ecosystem in districts...</td>\n",
       "    </tr>\n",
       "    <tr>\n",
       "      <th>3857</th>\n",
       "      <td>https://www.seattletimes.com/seattle-news/heal...</td>\n",
       "      <td>2022-04-30</td>\n",
       "      <td>en</td>\n",
       "      <td>Connecticut Senate OKs bill that protects abor...</td>\n",
       "      <td>Connecticut Senate OKs bill that protects abor...</td>\n",
       "    </tr>\n",
       "    <tr>\n",
       "      <th>1595</th>\n",
       "      <td>https://www.breakinglatest.news/news/maturity-...</td>\n",
       "      <td>2022-07-24</td>\n",
       "      <td>en</td>\n",
       "      <td>Maturity, thanks from Fabio and Adriana: “Incl...</td>\n",
       "      <td>Maturity, thanks from Fabio and Adriana: “Incl...</td>\n",
       "    </tr>\n",
       "  </tbody>\n",
       "</table>\n",
       "</div>"
      ],
      "text/plain": [
       "                                                    url       date language  \\\n",
       "3844  https://www.kxii.com/prnewswire/2022/05/23/com... 2022-05-23       en   \n",
       "3617  https://www.bigrapidsnews.com/business/article... 2022-06-09       en   \n",
       "2608  https://www.devdiscourse.com/article/education... 2022-04-12       en   \n",
       "3857  https://www.seattletimes.com/seattle-news/heal... 2022-04-30       en   \n",
       "1595  https://www.breakinglatest.news/news/maturity-... 2022-07-24       en   \n",
       "\n",
       "                                                  title  \\\n",
       "3844  COMPUTEX 2022 Global Press Conference Industry...   \n",
       "3617  Moderna, Roku rise; Scotts Miracle-Gro, Charle...   \n",
       "2608  Create entrepreneurship ecosystem in districts...   \n",
       "3857  Connecticut Senate OKs bill that protects abor...   \n",
       "1595  Maturity, thanks from Fabio and Adriana: “Incl...   \n",
       "\n",
       "                                                   text  \n",
       "3844  COMPUTEX 2022 Global Press Conference Industry...  \n",
       "3617  Moderna, Roku rise; Scotts Miracle-Gro, Charle...  \n",
       "2608  Create entrepreneurship ecosystem in districts...  \n",
       "3857  Connecticut Senate OKs bill that protects abor...  \n",
       "1595  Maturity, thanks from Fabio and Adriana: “Incl...  "
      ]
     },
     "execution_count": 88,
     "metadata": {},
     "output_type": "execute_result"
    }
   ],
   "source": [
    "news_df.head()"
   ]
  },
  {
   "cell_type": "code",
   "execution_count": 89,
   "metadata": {},
   "outputs": [],
   "source": [
    "news_df['combined_text'] = news_df['title'] + \" \" + news_df['text']"
   ]
  },
  {
   "cell_type": "markdown",
   "metadata": {},
   "source": [
    "# **Exploratory Data Analysis**"
   ]
  },
  {
   "cell_type": "code",
   "execution_count": 90,
   "metadata": {},
   "outputs": [],
   "source": [
    "# Light cleaning: Remove extra whitespace and duplicate punctuation/characters\n",
    "def light_clean_text(text):\n",
    "    if pd.isnull(text):  # handle NaNs gracefully\n",
    "        return \"\"\n",
    "    text = re.sub(r\"(\\s)+\", \" \", text) # Replace multiple spaces with a single space\n",
    "    text = re.sub(r\"([^a-zA-Z0-9])\\1+\", r\"\\1\", text) # Remove repeated punctuation\n",
    "    return text.strip()"
   ]
  },
  {
   "cell_type": "code",
   "execution_count": 91,
   "metadata": {},
   "outputs": [],
   "source": [
    "news_df['combined_light_cleaned'] = news_df['combined_text'].apply(light_clean_text)"
   ]
  },
  {
   "cell_type": "code",
   "execution_count": 92,
   "metadata": {},
   "outputs": [],
   "source": [
    "def plot_word_count(text_distribution, plot_title):\n",
    "    plt.figure(figsize= (8,5))\n",
    "    sns.histplot(text_distribution, kde= True)\n",
    "    plt.title(plot_title, fontweight= 'bold', fontsize= 16)\n",
    "    plt.xlabel('Text Length', fontweight= 'bold')\n",
    "    plt.ylabel('Count', fontweight= 'bold')\n",
    "    plt.show()"
   ]
  },
  {
   "cell_type": "code",
   "execution_count": 93,
   "metadata": {},
   "outputs": [
    {
     "data": {
      "image/png": "[encoded data removed]",
      "text/plain": [
       "<Figure size 800x500 with 1 Axes>"
      ]
     },
     "metadata": {},
     "output_type": "display_data"
    }
   ],
   "source": [
    "# Number of words in each document after light cleaning\n",
    "news_df['text_length'] = news_df['combined_light_cleaned'].str.split().str.len()\n",
    "\n",
    "plot_word_count(news_df['text_length'], 'Text Length Distribution')"
   ]
  },
  {
   "cell_type": "code",
   "execution_count": 94,
   "metadata": {},
   "outputs": [
    {
     "data": {
      "image/png": "[encoded data removed]",
      "text/plain": [
       "<Figure size 800x500 with 1 Axes>"
      ]
     },
     "metadata": {},
     "output_type": "display_data"
    }
   ],
   "source": [
    "cutoff = np.percentile(news_df['text_length'], 95)\n",
    "shortened_lengths = news_df[news_df['text_length'] <= cutoff]['text_length']\n",
    "\n",
    "plot_word_count(shortened_lengths, 'Text Length Distribution (<= 95th Percentile)')"
   ]
  },
  {
   "cell_type": "code",
   "execution_count": 95,
   "metadata": {},
   "outputs": [
    {
     "name": "stdout",
     "output_type": "stream",
     "text": [
      "Shape: (4750, 8)\n"
     ]
    }
   ],
   "source": [
    "news_df = news_df[news_df['text_length'] <= cutoff]\n",
    "print(f'Shape: {news_df.shape}')"
   ]
  },
  {
   "cell_type": "code",
   "execution_count": 96,
   "metadata": {},
   "outputs": [],
   "source": [
    "# Type-to-Token Ratio (TTR) as a measure of lexical diversity (can help identify excessive repition).\n",
    "def calc_ttr(text: str) -> float:\n",
    "    words = text.split()\n",
    "    unique_words = len(set(words))\n",
    "    total_words = len(words)\n",
    "    return unique_words / total_words if total_words > 0 else 0"
   ]
  },
  {
   "cell_type": "code",
   "execution_count": 97,
   "metadata": {},
   "outputs": [
    {
     "data": {
      "image/png": "[encoded data removed]",
      "text/plain": [
       "<Figure size 640x480 with 1 Axes>"
      ]
     },
     "metadata": {},
     "output_type": "display_data"
    }
   ],
   "source": [
    "# Apply the TTR function to the light-cleaned text\n",
    "news_df['ttr'] = news_df['combined_light_cleaned'].apply(calc_ttr)\n",
    "\n",
    "sns.histplot(news_df['ttr'], kde= True)\n",
    "plt.title('Type-to-Token Ratio Distribution', fontweight= 'bold', fontsize= 16)\n",
    "plt.xlabel('Type-to-Token Ratio (TTR)', fontweight= 'bold')\n",
    "plt.ylabel('Count', fontweight= 'bold')\n",
    "plt.show()"
   ]
  },
  {
   "cell_type": "markdown",
   "metadata": {},
   "source": [
    "# **Model Preprocessing**"
   ]
  },
  {
   "cell_type": "code",
   "execution_count": 100,
   "metadata": {},
   "outputs": [],
   "source": [
    "def heavy_clean_text(corpus, spacy_pipeline, as_string=True, batch_size=500):\n",
    "    \"\"\"\n",
    "    Cleans a sequence of text by applying simple processing techniques in batches with progress tracking.\n",
    "\n",
    "    Args:\n",
    "        corpus (Iterable): a sequence of text to be processed\n",
    "        spacy_pipeline: the Spacy pipeline object for processing text\n",
    "        as_string (bool): whether to return the cleaned tokens as joined strings or lists\n",
    "        batch_size (int): number of documents to process per batch\n",
    "\n",
    "    Returns:\n",
    "        clean_sequence (list): a cleaned version of the original text\n",
    "    \"\"\"\n",
    "    corpus_clean = []\n",
    "    total_batches = (len(corpus) + batch_size - 1) // batch_size  # ceiling division\n",
    "\n",
    "    for i in tqdm(range(0, len(corpus), batch_size), desc=\"Cleaning text (batches)\", total=total_batches):\n",
    "        batch = corpus[i:i + batch_size]\n",
    "\n",
    "        try:\n",
    "            docs = list(spacy_pipeline.pipe(\n",
    "                batch,\n",
    "                disable=[\"ner\"],\n",
    "                n_process=1  # safer for Mac/Jupyter\n",
    "            ))\n",
    "\n",
    "            for doc in tqdm(docs, desc=f\"Processing batch {i // batch_size + 1}\", leave=False):\n",
    "                doc_tokens = [\n",
    "                    token.lemma_.lower()\n",
    "                    for token in doc\n",
    "                    if not token.is_stop and token.is_alpha and len(token) > 1 and token.pos_ in (\"NOUN\", \"VERB\")\n",
    "                ]\n",
    "\n",
    "                if as_string:\n",
    "                    corpus_clean.append(\" \".join(doc_tokens))\n",
    "                else:\n",
    "                    corpus_clean.append(doc_tokens)\n",
    "\n",
    "        except Exception as e:\n",
    "            print(f\"\\nError processing batch {i // batch_size + 1}: {e}\")\n",
    "            continue\n",
    "\n",
    "    return corpus_clean"
   ]
  },
  {
   "cell_type": "code",
   "execution_count": 101,
   "metadata": {},
   "outputs": [],
   "source": [
    "# loading spacy model\n",
    "nlp = spacy.load(\"en_core_web_md\")"
   ]
  },
  {
   "cell_type": "code",
   "execution_count": 102,
   "metadata": {},
   "outputs": [
    {
     "name": "stderr",
     "output_type": "stream",
     "text": [
      "Cleaning text (batches): 100%|██████████| 10/10 [10:48<00:00, 64.87s/it]\n"
     ]
    }
   ],
   "source": [
    "# Apply cleaning to the full text\n",
    "normalized_corpus = heavy_clean_text(\n",
    "    corpus= news_df['combined_light_cleaned'].tolist(),\n",
    "    spacy_pipeline= nlp,\n",
    "    as_string= False\n",
    ")"
   ]
  },
  {
   "cell_type": "code",
   "execution_count": 103,
   "metadata": {},
   "outputs": [
    {
     "data": {
      "text/plain": [
       "['rise',\n",
       " 'fall',\n",
       " 'rise',\n",
       " 'fall',\n",
       " 'content',\n",
       " 'rise',\n",
       " 'sportsopinioncolumnsletter',\n",
       " 'estatearchiveseventsclassifiedsadvertisecontacte',\n",
       " 'update',\n",
       " 'suspect',\n",
       " 'assault',\n",
       " 'cooperate',\n",
       " 'authority',\n",
       " 'got',\n",
       " 'snake',\n",
       " 'racer',\n",
       " 'snake',\n",
       " 'report',\n",
       " 'way',\n",
       " 'end',\n",
       " 'season',\n",
       " 'penalty',\n",
       " 'haunt',\n",
       " 'restaurant',\n",
       " 'restaurant',\n",
       " 'car',\n",
       " 'crash',\n",
       " 'official',\n",
       " 'assemble',\n",
       " 'emergency',\n",
       " 'exercise',\n",
       " 'sophomore',\n",
       " 'make',\n",
       " 'claim',\n",
       " 'sprinter',\n",
       " 'circuit',\n",
       " 'judge',\n",
       " 'retire',\n",
       " 'year',\n",
       " 'rise',\n",
       " 'falljune',\n",
       " 'stock',\n",
       " 'trade',\n",
       " 'price',\n",
       " 'change',\n",
       " 'lawn',\n",
       " 'garden',\n",
       " 'care',\n",
       " 'company',\n",
       " 'slash',\n",
       " 'profit',\n",
       " 'forecast',\n",
       " 'year',\n",
       " 'cent',\n",
       " 'maker',\n",
       " 'can',\n",
       " 'soup',\n",
       " 'cookie',\n",
       " 'raise',\n",
       " 'revenue',\n",
       " 'forecast',\n",
       " 'year',\n",
       " 'maker',\n",
       " 'signature',\n",
       " 'technology',\n",
       " 'announce',\n",
       " 'expand',\n",
       " 'partnership',\n",
       " 'drugmaker',\n",
       " 'say',\n",
       " 'vaccine',\n",
       " 'combine',\n",
       " 'shoot',\n",
       " 'protection',\n",
       " 'variant',\n",
       " 'appear',\n",
       " 'work',\n",
       " 'maker',\n",
       " 'datum',\n",
       " 'storage',\n",
       " 'device',\n",
       " 'say',\n",
       " 'review',\n",
       " 'option',\n",
       " 'separate',\n",
       " 'flash',\n",
       " 'disk',\n",
       " 'drive',\n",
       " 'business',\n",
       " 'create',\n",
       " 'day',\n",
       " 'news',\n",
       " 'inbox',\n",
       " 'blotter',\n",
       " 'teal',\n",
       " 'swing',\n",
       " 'report',\n",
       " 'steal',\n",
       " 'gas',\n",
       " 'price',\n",
       " 'strain',\n",
       " 'law',\n",
       " 'enforcement',\n",
       " 'golf',\n",
       " 'outing',\n",
       " 'set',\n",
       " 'provider',\n",
       " 'pharmaceutical',\n",
       " 'research',\n",
       " 'service',\n",
       " 'warn',\n",
       " 'investor',\n",
       " 'earning',\n",
       " 'growth',\n",
       " 'quarter',\n",
       " 'cent',\n",
       " 'glass',\n",
       " 'container',\n",
       " 'maker',\n",
       " 'give',\n",
       " 'investor',\n",
       " 'update',\n",
       " 'quarter',\n",
       " 'earning',\n",
       " 'growth',\n",
       " 'video',\n",
       " 'streaming',\n",
       " 'company',\n",
       " 'buyout',\n",
       " 'target',\n",
       " 'day',\n",
       " 'news',\n",
       " 'inbox',\n",
       " 'blotter',\n",
       " 'teal',\n",
       " 'swing',\n",
       " 'report',\n",
       " 'steal',\n",
       " 'gas',\n",
       " 'price',\n",
       " 'strain',\n",
       " 'law',\n",
       " 'enforcement',\n",
       " 'golf',\n",
       " 'outing',\n",
       " 'set',\n",
       " 'write',\n",
       " 'create',\n",
       " 'awareness',\n",
       " 'begin',\n",
       " 'year',\n",
       " 'host',\n",
       " 'community',\n",
       " 'house',\n",
       " 'kick',\n",
       " 'summer',\n",
       " 'celebrate',\n",
       " 'end',\n",
       " 'school',\n",
       " 'year',\n",
       " 'name',\n",
       " 'place',\n",
       " 'people',\n",
       " 'product',\n",
       " 'popularity',\n",
       " 'year',\n",
       " 'charge',\n",
       " 'threat',\n",
       " 'school',\n",
       " 'year',\n",
       " 'man',\n",
       " 'charge',\n",
       " 'threaten',\n",
       " 'school',\n",
       " 'medium',\n",
       " 'return',\n",
       " 'base',\n",
       " 'usecareersprint',\n",
       " 'editionfacebooktwitter']"
      ]
     },
     "execution_count": 103,
     "metadata": {},
     "output_type": "execute_result"
    }
   ],
   "source": [
    "normalized_corpus[1]"
   ]
  },
  {
   "cell_type": "code",
   "execution_count": 104,
   "metadata": {},
   "outputs": [
    {
     "data": {
      "text/plain": [
       "\"Moderna, Roku rise; Scotts Miracle-Gro, Charles River fall Moderna, Roku rise; Scotts Miracle-Gro, Charles River fall        Skip to main content Big Rapids Pioneer HomepageCurrently ReadingModerna, Roku rise; Scotts Miracle-Gro, Charles River fallSubscribeSubscribee-EditionSign In  homeFormsNewslettersPuzzlesNewsCoronavirusLocal NewsHeroes UnmaskedState NewsSpecial SectionsSportsLocal SportsFerris SportsState SportsOpinionColumnsLetters to the EditorObituariesSubmit an ObituaryCoronavirusCannabisPhotosWeatherReal EstateArchivesEventsClassifiedsAdvertiseContactE-EditionSubscriber Services   Most Popular Update: Suspect in assault ID'd, cooperating with authorities Got snakes? Blue racer snakes reported in Mecosta County Tough way to end the season: Penalty kicks haunt Big Rapids Michigan restaurants that have been on 'Restaurant: Impossible' Two dead in three-car crash in Grand Rapids Midland County officials assemble for emergency exercise Chippewa Hills sophomore makes her claim as the fastest sprinter in the... Mecosta, Osceola County circuit judge to retire after 17 years   NewsModerna, Roku rise; Scotts Miracle-Gro, Charles River fallJune 8, 2022Updated: June 8, 2022 5:57\\xa0p.m.FacebookTwitterEmailCommentsNEW YORK (AP) — Stocks that traded heavily or had substantial price changes Wednesday:Scotts Miracle-Gro Co., down $9.05 to $93.13.The lawn and garden care company slashed its profit forecast for the year.Campbell Soup Co., up 71 cents to $47.31.The maker of canned soup, Pepperidge Farm cookies and V8 juice raised its revenue forecast for the year.DocuSign Inc., up $2.36 to $90.10.The maker of electronic signature technology announced an expanded partnership with Microsoft.Moderna Inc., up $3.19 to $148.53.The drugmaker said an experimental vaccine that combines its original COVID-19 shot with protection against the omicron variant appears to work. Western Digital Corp., down $2.50 to $57.82.The maker of data storage devices said it's reviewing options for separating its flash and hard disk drive businesses.Charles River Laboratories International Inc., down $10.31 to $236.90.More NewsWorld Oceans Day creates awarenessEd Sheeran, Chicago among mispronounced namesNewslettersStart your day with local news in your inbox  More NewsNewsSHERIFF'S BLOTTER: Teal colored swing reported stolen...  NewsHigh gas prices straining Mecosta County law enforcement  NewsHabitat for Humanity golf outing set for June 22  The provider of pharmaceutical research services warned investors of weak earnings growth in the second quarter.O-I Glass Inc., up 68 cents to $17.65.The glass container maker gave investors an encouraging update on second-quarter earnings growth.Roku Inc., up $8.46 to $101.88.The video streaming company is reportedly a buyout target for Netflix.NewslettersStart your day with local news in your inbox  More NewsNewsSHERIFF'S BLOTTER: Teal colored swing reported stolen...  NewsHigh gas prices straining Mecosta County law enforcement  NewsHabitat for Humanity golf outing set for June 22  Written By  View CommentsMore NewsWorld Oceans Day creates awareness It all began 30 years ago in 1992 in Canada with the International Centre of Ocean Development... Mecosta County Parks host 7th annual community open house\\xa0 The Mecosta County Parks are kicking off summer and celebrating the end of the school year with... Ed Sheeran, Chicago among mispronounced names Some of the greatest places, people and products despite their popularity may not be the easiest... 19-year-old charged in online threat against Baldwin school A 19-year-old man has been charged for allegedly threatening a Lake County school on social media...   Return to TopAboutPrivacy NoticeYour California Privacy RightsInterest Based AdsTerms of UseCareersPrint ArchivesContactCustomer ServiceNewsroom ContactsAdvertiseConnecte-EditionFacebookTwitter ©2022 Hearst \""
      ]
     },
     "execution_count": 104,
     "metadata": {},
     "output_type": "execute_result"
    }
   ],
   "source": [
    "news_df.combined_text.iloc[1]"
   ]
  },
  {
   "cell_type": "code",
   "execution_count": 105,
   "metadata": {},
   "outputs": [],
   "source": [
    "min_counts = np.insert(np.arange(5, 50, 5), 0, 2)\n",
    "bigram_counts = []\n",
    "\n",
    "for mc in min_counts:\n",
    "    phraser = Phrases(normalized_corpus, min_count=mc)\n",
    "    count = sum(1 for doc in phraser[normalized_corpus] for token in doc if '_' in token)\n",
    "    bigram_counts.append(count)"
   ]
  },
  {
   "cell_type": "code",
   "execution_count": 106,
   "metadata": {},
   "outputs": [
    {
     "data": {
      "text/plain": [
       "[279383,\n",
       " 219365,\n",
       " 178615,\n",
       " 157106,\n",
       " 144184,\n",
       " 133097,\n",
       " 123012,\n",
       " 115836,\n",
       " 110024,\n",
       " 105378]"
      ]
     },
     "execution_count": 106,
     "metadata": {},
     "output_type": "execute_result"
    }
   ],
   "source": [
    "bigram_counts"
   ]
  },
  {
   "cell_type": "code",
   "execution_count": 107,
   "metadata": {},
   "outputs": [
    {
     "data": {
      "image/png": "[encoded data removed]",
      "text/plain": [
       "<Figure size 800x500 with 1 Axes>"
      ]
     },
     "metadata": {},
     "output_type": "display_data"
    }
   ],
   "source": [
    "plt.figure(figsize=(8, 5))\n",
    "plt.plot(min_counts, bigram_counts, marker='o', linestyle='-')\n",
    "plt.title('Bigram Count vs. min_count')\n",
    "plt.xlabel('min_count')\n",
    "plt.ylabel('Number of Bigrams Found')\n",
    "plt.grid(True)\n",
    "plt.xticks(min_counts)\n",
    "plt.tight_layout()\n",
    "plt.show()"
   ]
  },
  {
   "cell_type": "code",
   "execution_count": 108,
   "metadata": {},
   "outputs": [],
   "source": [
    "# training the phrases to find bigrams\n",
    "bigram_phraser = Phrases(\n",
    "    normalized_corpus,\n",
    "    min_count= 10)\n",
    "\n",
    "# adding bigrams to the original unigram data\n",
    "for idx in range(len(normalized_corpus)):\n",
    "    for phrase in bigram_phraser[normalized_corpus[idx]]:\n",
    "        if '_' in phrase:\n",
    "            # phrase is a bigram, add to document.\n",
    "            normalized_corpus[idx].append(phrase)"
   ]
  },
  {
   "cell_type": "code",
   "execution_count": 109,
   "metadata": {},
   "outputs": [],
   "source": [
    "# a dictiohary is the mapping of an id to a word\n",
    "dictionary = Dictionary(normalized_corpus)\n",
    "\n",
    "# Filter out words that occur less than 20 documents, or more than 50% of the documents.\n",
    "dictionary.filter_extremes(no_below=0.01*len(normalized_corpus), no_above=0.5)"
   ]
  },
  {
   "cell_type": "code",
   "execution_count": 110,
   "metadata": {},
   "outputs": [
    {
     "data": {
      "text/plain": [
       "[('accelerate', 0),\n",
       " ('achieve', 1),\n",
       " ('adapt', 2),\n",
       " ('addition', 3),\n",
       " ('address', 4),\n",
       " ('adopt', 5),\n",
       " ('advantage', 6),\n",
       " ('agreement', 7),\n",
       " ('aim', 8),\n",
       " ('allow', 9)]"
      ]
     },
     "execution_count": 110,
     "metadata": {},
     "output_type": "execute_result"
    }
   ],
   "source": [
    "[(token, idx) for token, idx in dictionary.token2id.items()][:10]"
   ]
  },
  {
   "cell_type": "code",
   "execution_count": 111,
   "metadata": {},
   "outputs": [
    {
     "name": "stdout",
     "output_type": "stream",
     "text": [
      "Number of unique tokens: 3474\n",
      "Number of documents: 4750\n"
     ]
    }
   ],
   "source": [
    "corpus = [dictionary.doc2bow(doc) for doc in normalized_corpus]\n",
    "\n",
    "print('Number of unique tokens: %d' % len(dictionary))\n",
    "print('Number of documents: %d' % len(corpus))"
   ]
  },
  {
   "cell_type": "markdown",
   "metadata": {},
   "source": [
    "# **Topic Modeling**"
   ]
  },
  {
   "cell_type": "markdown",
   "metadata": {},
   "source": [
    "Here is where we will apply two approaches to topic modeling & identification: LDA and BERTopic."
   ]
  },
  {
   "cell_type": "markdown",
   "metadata": {},
   "source": [
    "## LDA Topic Modeling"
   ]
  },
  {
   "cell_type": "markdown",
   "metadata": {},
   "source": [
    "### Inital Model"
   ]
  },
  {
   "cell_type": "code",
   "execution_count": 112,
   "metadata": {},
   "outputs": [],
   "source": [
    "num_topics = 5\n",
    "chunksize = 10 \n",
    "passes = 20 \n",
    "iterations = 400 \n",
    "eval_every = 0 \n",
    "\n",
    "model = LdaModel(\n",
    "    corpus= corpus,\n",
    "    id2word= dictionary,\n",
    "    chunksize= chunksize,\n",
    "    alpha=\"auto\",\n",
    "    eta='auto',\n",
    "    iterations=iterations,\n",
    "    num_topics=num_topics,\n",
    "    passes=passes,\n",
    "    eval_every=eval_every,\n",
    "    random_state= 42\n",
    ")"
   ]
  },
  {
   "cell_type": "code",
   "execution_count": 113,
   "metadata": {},
   "outputs": [
    {
     "data": {
      "text/plain": [
       "[(0,\n",
       "  '0.018*\"market\" + 0.012*\"provide\" + 0.012*\"use\" + 0.011*\"product\" + 0.010*\"datum\" + 0.008*\"business\" + 0.008*\"technology\" + 0.007*\"growth\" + 0.007*\"user\" + 0.007*\"industry\"'),\n",
       " (1,\n",
       "  '0.029*\"buy\" + 0.022*\"rate\" + 0.021*\"analyst\" + 0.020*\"rating\" + 0.014*\"inflation\" + 0.013*\"report\" + 0.013*\"sale\" + 0.011*\"trade\" + 0.010*\"acquire\" + 0.010*\"own\"'),\n",
       " (2,\n",
       "  '0.046*\"open\" + 0.036*\"link\" + 0.031*\"tab\" + 0.018*\"email\" + 0.016*\"link_open\" + 0.012*\"open_tab\" + 0.012*\"podcast\" + 0.011*\"window\" + 0.010*\"account\" + 0.010*\"profile\"'),\n",
       " (3,\n",
       "  '0.026*\"share\" + 0.022*\"stock\" + 0.021*\"price\" + 0.013*\"sell\" + 0.010*\"quarter\" + 0.009*\"deal\" + 0.009*\"want\" + 0.008*\"week\" + 0.007*\"rise\" + 0.007*\"know\"'),\n",
       " (4,\n",
       "  '0.011*\"pm\" + 0.010*\"hour\" + 0.010*\"come\" + 0.009*\"game\" + 0.007*\"tv\" + 0.007*\"need\" + 0.007*\"right\" + 0.006*\"post\" + 0.006*\"go\" + 0.006*\"search\"')]"
      ]
     },
     "execution_count": 113,
     "metadata": {},
     "output_type": "execute_result"
    }
   ],
   "source": [
    "model.show_topics()"
   ]
  },
  {
   "cell_type": "code",
   "execution_count": 114,
   "metadata": {},
   "outputs": [
    {
     "data": {
      "text/html": [
       "\n",
       "<link rel=\"stylesheet\" type=\"text/css\" href=\"https://cdn.jsdelivr.net/gh/bmabey/pyLDAvis@3.4.0/pyLDAvis/js/ldavis.v1.0.0.css\">\n",
       "\n",
       "\n",
       "<div id=\"ldavis_el53169158736109604403272202\" style=\"background-color:white;\"></div>\n",
       "<script type=\"text/javascript\">\n",
       "\n",
       "var ldavis_el53169158736109604403272202_data = {\"mdsDat\": {\"x\": [-0.11091401602787326, 0.038672717830576075, -0.07158012943531318, -0.22237053652948954, 0.36619196416209976], \"y\": [0.13444924963814392, -0.15597713879140684, -0.3109096551027363, 0.2090628342731395, 0.12337470998285982], \"topics\": [1, 2, 3, 4, 5], \"cluster\": [1, 1, 1, 1, 1], \"Freq\": [29.371411779864072, 27.6884718129723, 25.547519949437397, 8.86042964822723, 8.532166809499001]}, \"tinfo\": {\"Term\": [\"open\", \"share\", \"link\", \"stock\", \"buy\", \"price\", \"tab\", \"rate\", \"market\", \"analyst\", \"provide\", \"sell\", \"email\", \"rating\", \"use\", \"report\", \"link_open\", \"hour\", \"product\", \"pm\", \"quarter\", \"game\", \"sale\", \"want\", \"come\", \"increase\", \"technology\", \"inflation\", \"deal\", \"post\", \"game\", \"min\", \"win\", \"menu\", \"child\", \"list\", \"cost\", \"try\", \"gaming\", \"tablet\", \"city\", \"icon\", \"screen\", \"money\", \"season\", \"laptop\", \"police\", \"kill\", \"break\", \"die\", \"tip\", \"quality\", \"age\", \"happen\", \"select\", \"lot\", \"inch\", \"computer\", \"battery\", \"card\", \"food\", \"hour\", \"pm\", \"come\", \"series\", \"right\", \"test\", \"home\", \"search\", \"check\", \"play\", \"tv\", \"remain\", \"app\", \"get\", \"video\", \"post\", \"reserve\", \"go\", \"need\", \"look\", \"update\", \"buy\", \"way\", \"start\", \"case\", \"people\", \"feature\", \"provide\", \"technology\", \"user\", \"industry\", \"option\", \"platform\", \"customer\", \"opinion\", \"solution\", \"transform\", \"press\", \"project\", \"network\", \"model\", \"management\", \"cookie\", \"size\", \"mean\", \"software\", \"cloud\", \"tool\", \"enable\", \"analysis\", \"symbol\", \"organization\", \"application\", \"download\", \"type\", \"strategy\", \"client\", \"use\", \"container\", \"product\", \"watch\", \"review\", \"security\", \"market\", \"datum\", \"growth\", \"support\", \"base\", \"launch\", \"content\", \"website\", \"build\", \"system\", \"business\", \"release\", \"increase\", \"information\", \"help\", \"report\", \"lead\", \"result\", \"stock\", \"price\", \"quarter\", \"want\", \"rise\", \"investor\", \"earning\", \"government\", \"risk\", \"experience\", \"man\", \"woman\", \"raise\", \"charge\", \"consumer\", \"move\", \"law\", \"economy\", \"period\", \"attack\", \"bank\", \"war\", \"develop\", \"worker\", \"staff\", \"reduce\", \"official\", \"travel\", \"advertising\", \"vaccine\", \"version\", \"measure\", \"share\", \"sell\", \"deal\", \"see\", \"design\", \"purchase\", \"firm\", \"pay\", \"investment\", \"state\", \"think\", \"week\", \"policy\", \"thing\", \"know\", \"give\", \"month\", \"find\", \"fall\", \"plan\", \"receive\", \"issue\", \"report\", \"market\", \"follow\", \"tab\", \"link_open\", \"open_tab\", \"podcast\", \"window\", \"text\", \"browser\", \"preference\", \"tab_link\", \"dialog\", \"email_preference\", \"join_profile\", \"newsletter_manage\", \"password\", \"cheat\", \"notification\", \"email_send\", \"dialog_window\", \"go_work\", \"star_open\", \"date_cheat\", \"subscription_account\", \"podcast_mom\", \"datum_provide\", \"open_window\", \"singer\", \"link_site\", \"photo_video\", \"mom_people\", \"news_text\", \"open\", \"link\", \"mom\", \"profile\", \"ditch\", \"email\", \"account\", \"manage\", \"newsletter\", \"subscription\", \"star\", \"join\", \"date\", \"page\", \"send\", \"follow\", \"people\", \"way\", \"view\", \"sign\", \"rating\", \"inflation\", \"acquire\", \"dividend\", \"ratio\", \"oil\", \"stake\", \"holding\", \"yield\", \"hike\", \"recession\", \"share_quarter\", \"debt\", \"stock_value\", \"consensus\", \"target_price\", \"buy_rating\", \"mortgage\", \"post_earning\", \"own_share\", \"interest_rate\", \"wealth\", \"trader\", \"acquire_share\", \"day_move\", \"hold_rating\", \"etfs\", \"purchase_share\", \"hedge\", \"email_newsletter\", \"analyst\", \"insider\", \"own\", \"index\", \"cash\", \"trading\", \"rate\", \"equity\", \"buy\", \"estimate\", \"trade\", \"fund\", \"low\", \"position\", \"sale\", \"portfolio\", \"boost\", \"hold\", \"expect\", \"report\", \"increase\", \"email\", \"post\", \"result\"], \"Freq\": [7199.0, 10523.0, 5586.0, 8684.0, 6377.0, 8141.0, 4137.0, 4049.0, 9770.0, 2964.0, 5234.0, 5319.0, 5363.0, 2549.0, 4917.0, 7056.0, 2197.0, 4712.0, 5140.0, 5250.0, 3790.0, 4215.0, 3332.0, 3539.0, 4589.0, 3497.0, 3516.0, 1798.0, 3719.0, 3753.0, 4214.255447587981, 2090.45407113419, 2046.2976878749105, 2014.4409896055672, 1963.6786671182786, 1975.6138893551756, 1980.23228341061, 1786.021318881003, 1643.8701683858383, 1636.938223652053, 1632.548810888275, 1597.1195276406909, 1554.9199030245056, 1545.8205658836398, 1377.5270908923942, 1333.7666825240728, 1161.0543557980982, 1124.2434104244448, 1075.089658187913, 1062.0893464210167, 1042.8660093651688, 1048.4245846407582, 992.5219483137482, 987.7888044666146, 1011.0916158244696, 973.3149892769502, 933.9289632118864, 903.1808909788782, 894.3410106841036, 886.7863902513689, 906.3243303946668, 4623.487412042284, 5032.35864544409, 4408.560948531345, 1766.967877858213, 2984.6760820343093, 1834.5850477983372, 2266.357312799529, 2834.2039649365524, 1399.4208743201975, 2248.2855163362615, 3113.3938361828855, 1665.0831237812295, 2406.7389116288427, 2146.3159697302717, 2780.5309160256743, 2893.4896987808947, 1674.6868624454994, 2839.033614706064, 3084.646888366095, 2713.8974638120408, 2340.032069304529, 2644.8162233588546, 2172.4484466832528, 1983.9534108021346, 1958.2009453544554, 2145.394032379438, 1980.7613556209376, 5233.620756737698, 3515.90980739481, 2996.953211217525, 2943.7446985406687, 2172.133220021652, 2086.7716802392315, 1955.8455889036786, 1944.450591119911, 1822.1157476632131, 1962.2334716335038, 1578.1709393499377, 1558.013294784024, 1475.5402271694315, 1435.2173159655083, 1370.3524075195348, 1288.3599213224927, 1298.6099470709942, 1331.3273983871663, 1270.6987985246926, 1238.2502695470928, 1239.172637989602, 1193.6138518499781, 1145.7127443238785, 1136.345706312056, 1112.4846141772632, 1084.4348025501354, 1066.4646926758214, 1067.234521957534, 1034.9139069847276, 971.7908374504741, 4847.710556002922, 1061.9680610145756, 4814.701120694143, 2133.4424094350384, 1814.703184830819, 1903.329903036589, 7729.132111703943, 3994.9539116348874, 3017.343426701245, 2618.08072371821, 2860.3711515111254, 2615.833580514063, 2772.616085652763, 2164.3463939055614, 2196.3630054643786, 1755.780854210283, 3543.191353242193, 2652.1525586145467, 2443.155732613175, 2437.8658191406903, 2582.2718381349314, 2932.2357605509505, 2097.018872140415, 1920.2810005029696, 8683.511264489043, 8140.405597375758, 3789.9171404924937, 3538.36966675707, 2641.7221904672233, 2618.8837297973364, 2437.029707439808, 2239.8102920319257, 2215.0771467068957, 2093.2538102141925, 1847.8118121667694, 1855.7618418984991, 1681.0400711332625, 1549.368053082999, 1535.5168569536725, 1451.8548172592896, 1421.5019943295324, 1412.4266405671167, 1393.48087597133, 1300.5420584391725, 1273.3278986639875, 1126.741933555009, 1131.4297768630342, 1096.14350669451, 1074.9786510769104, 1059.8215344876483, 1010.2952854624262, 1011.4956250842934, 940.3975247941265, 933.4346894227832, 954.9436970975199, 943.6477195427983, 10198.308310245873, 5186.810234069891, 3605.9287803051116, 2293.563471261666, 1645.745235482572, 2108.6776288692163, 1594.4300629662162, 2312.223419242015, 1861.1355549206041, 2392.606412037272, 1663.2079995450101, 3135.0573570690985, 1823.3332870694987, 1761.3758185321503, 2631.583544797598, 2008.0366396103252, 2584.9820923617062, 2425.7012712158253, 1841.1300147734446, 2171.592447823825, 1994.0052978666, 1959.769516463521, 2458.0631054469004, 2041.2232846925112, 1898.7059236124337, 4136.581539430031, 2196.5390490112004, 1667.7872469699143, 1574.6581938412874, 1446.484088071894, 1201.9532328412326, 1106.6476307417695, 1027.2591296399676, 985.0806600802432, 948.4684571575616, 865.1128606498037, 865.1128606498037, 865.1128606498037, 874.9402900814833, 701.717149232786, 710.8155392025659, 483.45404173765553, 468.51273538735563, 438.14624361695064, 437.14852837840834, 437.1484345670338, 432.62334910539704, 388.87372664511105, 398.0668661031622, 350.8715831269939, 346.0240367006531, 291.5081831133474, 291.87851914951796, 266.91590652685124, 265.2428744735543, 6239.168872098928, 4791.309134030984, 770.911668592177, 1353.0034299115434, 465.7857950821753, 2450.825911947069, 1382.7836631320772, 1253.3741241010925, 1289.905524159849, 981.9664351505613, 830.3504304100261, 1333.9580948189378, 1034.889496680248, 711.1481317957188, 977.7478001790429, 1204.7593186760548, 1255.0694832615266, 983.6842464999653, 949.5460371462838, 903.1126588835576, 2548.612827107644, 1797.6204507591722, 1354.5946137247827, 1247.4757074675656, 1253.1092909306349, 1101.0457781799935, 941.9874414055225, 834.8467341005244, 813.1424661089277, 708.7427286593417, 698.9086493934186, 625.1779273651105, 632.0047869628036, 490.4702468201341, 479.95304798244166, 466.8931363315892, 448.09093709820655, 444.738002195758, 413.9831677328005, 397.32581219057374, 391.20107280159726, 392.7755360410007, 378.1029189812945, 363.95358729222266, 358.09332111134154, 328.0083870765403, 329.13580838865425, 326.2868571004481, 319.6069739036104, 315.4430340013177, 2695.5514073608483, 509.95722178223076, 1343.6378407220243, 755.152522145764, 1159.6804790976985, 1109.1915409445517, 2793.9114716645263, 931.9448670362348, 3732.26373891228, 1175.0119153900037, 1449.7922011746518, 893.5177500232348, 559.2872114174256, 1021.6110709624944, 1620.595340538111, 799.8925480886021, 873.775636555822, 1226.1687364710288, 1261.149541441844, 1665.46755791708, 1053.9393749706885, 1068.9428319640556, 859.8027909731655, 784.3191924345939], \"Total\": [7199.0, 10523.0, 5586.0, 8684.0, 6377.0, 8141.0, 4137.0, 4049.0, 9770.0, 2964.0, 5234.0, 5319.0, 5363.0, 2549.0, 4917.0, 7056.0, 2197.0, 4712.0, 5140.0, 5250.0, 3790.0, 4215.0, 3332.0, 3539.0, 4589.0, 3497.0, 3516.0, 1798.0, 3719.0, 3753.0, 4215.078768345949, 2091.2808966760495, 2047.1295019844247, 2015.276687873113, 1964.5138091984736, 1976.4650563545702, 1981.121715984269, 1786.8536494559762, 1644.6940633491445, 1637.7664872645125, 1633.381736602424, 1597.9525916262462, 1555.7537595494814, 1546.6856575175125, 1378.3648005028372, 1334.593068918901, 1161.8821915828057, 1125.0662390031994, 1075.9233427499792, 1062.9187607082577, 1043.6937727364561, 1049.2775577705436, 993.3578344854918, 988.6234804870838, 1011.9512374584846, 974.1457238771852, 934.7500124452142, 904.0125589023761, 895.1659922876019, 887.6364358413512, 907.2129275863563, 4712.686558279361, 5250.030725975478, 4589.987184832545, 1797.992806966336, 3097.215536833593, 1889.5995943175838, 2499.964883297104, 3217.383690273669, 1457.5167888251617, 2508.039938057993, 3678.0154824490687, 1787.5862867933959, 2747.755807863067, 2407.871976976412, 3340.6244903699803, 3753.893107538528, 1841.5613401578219, 4150.918489402527, 4779.2788125298675, 4341.703297655732, 3886.572635311238, 6377.677890361852, 3848.0734465597243, 3153.0003693786266, 3117.26253323085, 5002.219143623219, 4069.6407700306386, 5234.452614249634, 3516.737589431046, 2997.77205592131, 2944.568482709618, 2172.9868082680728, 2087.5927565086286, 1956.6734232971146, 1945.2948589433665, 1822.939220451428, 1963.1356405305035, 1578.9989983323744, 1558.8474568381869, 1476.3619175567949, 1436.0705535947686, 1371.1916901376492, 1289.172526990212, 1299.4329964157594, 1332.1900939228892, 1271.5285305349987, 1239.0694700604015, 1239.9971050575232, 1194.4411478253658, 1146.5292128020697, 1137.1624028909096, 1113.304893066524, 1085.2470685993817, 1067.2826568925236, 1068.0559826556969, 1035.7443479528051, 972.6341181315632, 4917.9889105926995, 1062.8970012116201, 5140.429848851719, 2256.722638239088, 1895.04866947647, 1997.806687433277, 9770.971245854049, 4742.241825163334, 3503.935159623579, 3190.7183616708076, 3593.4939437753915, 3242.5540973521, 3501.9342498665287, 2554.9621542472073, 2646.623437541214, 1965.4658750795727, 5331.7796995595045, 3949.211135135037, 3497.6926005890145, 3719.954451759256, 4680.254601633139, 7056.139760327852, 3962.011352408061, 2705.2156829953597, 8684.353582488191, 8141.259433496092, 3790.7733917413657, 3539.224697780541, 2642.5537579522297, 2619.7180796208468, 2437.886125753153, 2240.636187919266, 2215.909570682482, 2094.0998535913773, 1848.643713247356, 1856.6006470483271, 1681.8821152935639, 1550.2050074633341, 1536.356568314, 1452.6977756996841, 1422.3348182558516, 1413.2625268049776, 1394.318122561447, 1301.3705637668756, 1274.1630145428799, 1127.5674363304713, 1132.2682696097434, 1096.9700648059477, 1075.8036505667264, 1060.6588889996508, 1011.1188890885162, 1012.3413863984725, 941.2199468039352, 934.2542669610708, 955.7927792759875, 944.4897643958487, 10523.268076217835, 5319.138441318798, 3719.868030586166, 2378.6282353560787, 1690.5502217202313, 2212.7338899286215, 1660.9574432706793, 2545.294493503768, 2011.2634571099998, 2847.940846363811, 1803.377636527178, 4476.73421409836, 2060.571920283871, 1987.9151990595772, 3854.63554828758, 2556.4593662305583, 4192.394040755762, 3958.8450362788717, 2313.854847771464, 3500.2994254458054, 2893.980447014207, 2943.528700303332, 7056.139760327852, 9770.971245854049, 4458.684690134569, 4137.446672572944, 2197.39905120309, 1668.6487881680603, 1575.5661569941797, 1447.3807848650106, 1202.861776613253, 1107.5482184831424, 1028.1515718581784, 985.9406179287271, 949.3298442146172, 865.9729771415771, 865.9729771415771, 865.9729771415771, 875.8343278698511, 702.5822032718693, 711.7079560413986, 484.3174146563804, 469.3728253445652, 439.00671413491796, 438.00863540617064, 438.0085415947961, 433.4834659374416, 389.7338610952725, 398.9816434263259, 351.7455359880341, 346.9300660197634, 292.37688580559364, 292.7940443303323, 267.77598713393814, 266.1027999658323, 7199.7655819805295, 5586.112752933946, 821.7511954621447, 1674.7321936854617, 522.9956876501442, 5363.317411924462, 2464.8800668019385, 2253.990967429325, 2384.154078027342, 1618.0869389799366, 1310.2378148233938, 2981.601101797784, 1972.5949859810712, 1056.4803105055485, 2011.3995946150596, 4458.684690134569, 5002.219143623219, 3848.0734465597243, 3377.5197588175397, 2650.9994681743324, 2549.416251576099, 1798.41802526819, 1355.412530999222, 1248.267122286318, 1253.9067386686781, 1101.8452516252942, 942.7939998817367, 835.644084799872, 813.9492209630783, 709.5381905939857, 699.701599450203, 625.9670605983928, 632.8145769033022, 491.258444286817, 480.7595474266259, 467.6831799233476, 448.87933137211286, 445.5426754006871, 414.7725162774696, 398.1148489276684, 391.9946376784893, 393.57542559902424, 378.90066848460435, 364.74137650891015, 358.8907731500885, 328.7966059966166, 329.927619969017, 327.0749698747338, 320.3983045341193, 316.2382469411011, 2964.621522873793, 534.0302502491014, 1552.4116646812715, 824.1406021803524, 1389.674409679568, 1330.0379062857876, 4049.158752424206, 1127.748316111247, 6377.677890361852, 1599.8896979079361, 2116.200642697445, 1138.6942846411532, 629.0867713739777, 1607.1128518987966, 3332.0199872945864, 1103.6923670115602, 1416.796934230791, 2979.620643187418, 3517.0400868034803, 7056.139760327852, 3497.6926005890145, 5363.317411924462, 3753.893107538528, 2705.2156829953597], \"Category\": [\"Default\", \"Default\", \"Default\", \"Default\", \"Default\", \"Default\", \"Default\", \"Default\", \"Default\", \"Default\", \"Default\", \"Default\", \"Default\", \"Default\", \"Default\", \"Default\", \"Default\", \"Default\", \"Default\", \"Default\", \"Default\", \"Default\", \"Default\", \"Default\", \"Default\", \"Default\", \"Default\", \"Default\", \"Default\", \"Default\", \"Topic1\", \"Topic1\", \"Topic1\", \"Topic1\", \"Topic1\", \"Topic1\", \"Topic1\", \"Topic1\", \"Topic1\", \"Topic1\", \"Topic1\", \"Topic1\", \"Topic1\", \"Topic1\", \"Topic1\", \"Topic1\", \"Topic1\", \"Topic1\", \"Topic1\", \"Topic1\", \"Topic1\", \"Topic1\", \"Topic1\", \"Topic1\", \"Topic1\", \"Topic1\", \"Topic1\", \"Topic1\", \"Topic1\", \"Topic1\", \"Topic1\", \"Topic1\", \"Topic1\", \"Topic1\", \"Topic1\", \"Topic1\", \"Topic1\", \"Topic1\", \"Topic1\", \"Topic1\", \"Topic1\", \"Topic1\", \"Topic1\", \"Topic1\", \"Topic1\", \"Topic1\", \"Topic1\", \"Topic1\", \"Topic1\", \"Topic1\", \"Topic1\", \"Topic1\", \"Topic1\", \"Topic1\", \"Topic1\", \"Topic1\", \"Topic1\", \"Topic1\", \"Topic2\", \"Topic2\", \"Topic2\", \"Topic2\", \"Topic2\", \"Topic2\", \"Topic2\", \"Topic2\", \"Topic2\", \"Topic2\", \"Topic2\", \"Topic2\", \"Topic2\", \"Topic2\", \"Topic2\", \"Topic2\", \"Topic2\", \"Topic2\", \"Topic2\", \"Topic2\", \"Topic2\", \"Topic2\", \"Topic2\", \"Topic2\", \"Topic2\", \"Topic2\", \"Topic2\", \"Topic2\", \"Topic2\", \"Topic2\", \"Topic2\", \"Topic2\", \"Topic2\", \"Topic2\", \"Topic2\", \"Topic2\", \"Topic2\", \"Topic2\", \"Topic2\", \"Topic2\", \"Topic2\", \"Topic2\", \"Topic2\", \"Topic2\", \"Topic2\", \"Topic2\", \"Topic2\", \"Topic2\", \"Topic2\", \"Topic2\", \"Topic2\", \"Topic2\", \"Topic2\", \"Topic2\", \"Topic3\", \"Topic3\", \"Topic3\", \"Topic3\", \"Topic3\", \"Topic3\", \"Topic3\", \"Topic3\", \"Topic3\", \"Topic3\", \"Topic3\", \"Topic3\", \"Topic3\", \"Topic3\", \"Topic3\", \"Topic3\", \"Topic3\", \"Topic3\", \"Topic3\", \"Topic3\", \"Topic3\", \"Topic3\", \"Topic3\", \"Topic3\", \"Topic3\", \"Topic3\", \"Topic3\", \"Topic3\", \"Topic3\", \"Topic3\", \"Topic3\", \"Topic3\", \"Topic3\", \"Topic3\", \"Topic3\", \"Topic3\", \"Topic3\", \"Topic3\", \"Topic3\", \"Topic3\", \"Topic3\", \"Topic3\", \"Topic3\", \"Topic3\", \"Topic3\", \"Topic3\", \"Topic3\", \"Topic3\", \"Topic3\", \"Topic3\", \"Topic3\", \"Topic3\", \"Topic3\", \"Topic3\", \"Topic3\", \"Topic3\", \"Topic3\", \"Topic4\", \"Topic4\", \"Topic4\", \"Topic4\", \"Topic4\", \"Topic4\", \"Topic4\", \"Topic4\", \"Topic4\", \"Topic4\", \"Topic4\", \"Topic4\", \"Topic4\", \"Topic4\", \"Topic4\", \"Topic4\", \"Topic4\", \"Topic4\", \"Topic4\", \"Topic4\", \"Topic4\", \"Topic4\", \"Topic4\", \"Topic4\", \"Topic4\", \"Topic4\", \"Topic4\", \"Topic4\", \"Topic4\", \"Topic4\", \"Topic4\", \"Topic4\", \"Topic4\", \"Topic4\", \"Topic4\", \"Topic4\", \"Topic4\", \"Topic4\", \"Topic4\", \"Topic4\", \"Topic4\", \"Topic4\", \"Topic4\", \"Topic4\", \"Topic4\", \"Topic4\", \"Topic4\", \"Topic4\", \"Topic4\", \"Topic4\", \"Topic5\", \"Topic5\", \"Topic5\", \"Topic5\", \"Topic5\", \"Topic5\", \"Topic5\", \"Topic5\", \"Topic5\", \"Topic5\", \"Topic5\", \"Topic5\", \"Topic5\", \"Topic5\", \"Topic5\", \"Topic5\", \"Topic5\", \"Topic5\", \"Topic5\", \"Topic5\", \"Topic5\", \"Topic5\", \"Topic5\", \"Topic5\", \"Topic5\", \"Topic5\", \"Topic5\", \"Topic5\", \"Topic5\", \"Topic5\", \"Topic5\", \"Topic5\", \"Topic5\", \"Topic5\", \"Topic5\", \"Topic5\", \"Topic5\", \"Topic5\", \"Topic5\", \"Topic5\", \"Topic5\", \"Topic5\", \"Topic5\", \"Topic5\", \"Topic5\", \"Topic5\", \"Topic5\", \"Topic5\", \"Topic5\", \"Topic5\", \"Topic5\", \"Topic5\", \"Topic5\", \"Topic5\"], \"logprob\": [30.0, 29.0, 28.0, 27.0, 26.0, 25.0, 24.0, 23.0, 22.0, 21.0, 20.0, 19.0, 18.0, 17.0, 16.0, 15.0, 14.0, 13.0, 12.0, 11.0, 10.0, 9.0, 8.0, 7.0, 6.0, 5.0, 4.0, 3.0, 2.0, 1.0, -4.6601, -5.3612, -5.3825, -5.3982, -5.4237, -5.4177, -5.4153, -5.5186, -5.6015, -5.6057, -5.6084, -5.6303, -5.6571, -5.663, -5.7783, -5.8105, -5.9492, -5.9814, -6.0261, -6.0383, -6.0566, -6.0513, -6.1061, -6.1108, -6.0875, -6.1256, -6.1669, -6.2004, -6.2102, -6.2187, -6.1969, -4.5674, -4.4827, -4.615, -5.5293, -5.0051, -5.4917, -5.2804, -5.0568, -5.7625, -5.2884, -4.9628, -5.5887, -5.2203, -5.3348, -5.0759, -5.0361, -5.5829, -5.0551, -4.9721, -5.1002, -5.2484, -5.1259, -5.3227, -5.4135, -5.4265, -5.3352, -5.4151, -4.3844, -4.7822, -4.9419, -4.9599, -5.2638, -5.3039, -5.3687, -5.3746, -5.4395, -5.3655, -5.5833, -5.5961, -5.6505, -5.6782, -5.7245, -5.7862, -5.7782, -5.7534, -5.8, -5.8258, -5.8251, -5.8626, -5.9035, -5.9117, -5.9329, -5.9585, -5.9752, -5.9745, -6.0052, -6.0682, -4.461, -5.9794, -4.4679, -5.2818, -5.4436, -5.3959, -3.9945, -4.6545, -4.9352, -5.0771, -4.9886, -5.078, -5.0197, -5.2674, -5.2527, -5.4766, -4.7745, -5.0642, -5.1462, -5.1484, -5.0909, -4.9638, -5.299, -5.3871, -3.7976, -3.8622, -4.6267, -4.6954, -4.9876, -4.9963, -5.0683, -5.1527, -5.1638, -5.2203, -5.3451, -5.3408, -5.4397, -5.5212, -5.5302, -5.5862, -5.6073, -5.6138, -5.6273, -5.6963, -5.7174, -5.8397, -5.8356, -5.8673, -5.8868, -5.901, -5.9488, -5.9476, -6.0205, -6.0279, -6.0052, -6.0171, -3.6368, -4.3129, -4.6765, -5.129, -5.4609, -5.213, -5.4925, -5.1209, -5.3379, -5.0867, -5.4503, -4.8164, -5.3584, -5.393, -4.9915, -5.2619, -5.0093, -5.0729, -5.3487, -5.1836, -5.2689, -5.2862, -5.0597, -5.2455, -5.3179, -3.4802, -4.1132, -4.3886, -4.4461, -4.531, -4.7162, -4.7988, -4.8732, -4.9151, -4.953, -5.045, -5.045, -5.045, -5.0337, -5.2543, -5.2415, -5.6269, -5.6583, -5.7253, -5.7276, -5.7276, -5.738, -5.8446, -5.8213, -5.9475, -5.9614, -6.1328, -6.1315, -6.2209, -6.2272, -3.0693, -3.3333, -5.1603, -4.5978, -5.6641, -4.0037, -4.576, -4.6743, -4.6455, -4.9183, -5.086, -4.612, -4.8658, -5.241, -4.9226, -4.7138, -4.6729, -4.9166, -4.9519, -5.002, -3.9268, -4.2759, -4.5589, -4.6412, -4.6367, -4.7661, -4.9221, -5.0429, -5.0692, -5.2066, -5.2206, -5.3321, -5.3212, -5.5748, -5.5964, -5.624, -5.6651, -5.6726, -5.7443, -5.7854, -5.8009, -5.7969, -5.835, -5.8731, -5.8893, -5.9771, -5.9737, -5.9823, -6.003, -6.0161, -3.8708, -5.5358, -4.567, -5.1432, -4.7142, -4.7587, -3.8349, -4.9328, -3.5454, -4.7011, -4.4909, -4.975, -5.4435, -4.841, -4.3796, -5.0856, -4.9973, -4.6585, -4.6303, -4.3523, -4.8098, -4.7957, -5.0134, -5.1053], \"loglift\": [30.0, 29.0, 28.0, 27.0, 26.0, 25.0, 24.0, 23.0, 22.0, 21.0, 20.0, 19.0, 18.0, 17.0, 16.0, 15.0, 14.0, 13.0, 12.0, 11.0, 10.0, 9.0, 8.0, 7.0, 6.0, 5.0, 4.0, 3.0, 2.0, 1.0, 1.225, 1.2248, 1.2247, 1.2247, 1.2247, 1.2247, 1.2247, 1.2247, 1.2246, 1.2246, 1.2246, 1.2246, 1.2246, 1.2246, 1.2245, 1.2245, 1.2244, 1.2244, 1.2244, 1.2244, 1.2244, 1.2243, 1.2243, 1.2243, 1.2243, 1.2243, 1.2243, 1.2242, 1.2242, 1.2242, 1.2242, 1.206, 1.1828, 1.1848, 1.2077, 1.1881, 1.1956, 1.127, 1.0983, 1.1845, 1.1158, 1.0585, 1.1542, 1.0926, 1.1102, 1.0416, 0.9648, 1.1302, 0.8453, 0.7873, 0.7553, 0.7178, 0.3449, 0.6534, 0.7619, 0.7602, 0.3786, 0.5051, 1.284, 1.2839, 1.2839, 1.2839, 1.2838, 1.2838, 1.2837, 1.2837, 1.2837, 1.2837, 1.2836, 1.2836, 1.2836, 1.2836, 1.2835, 1.2835, 1.2835, 1.2835, 1.2835, 1.2835, 1.2835, 1.2835, 1.2834, 1.2834, 1.2834, 1.2834, 1.2834, 1.2834, 1.2834, 1.2833, 1.2698, 1.2833, 1.2187, 1.228, 1.2408, 1.2357, 1.0497, 1.1127, 1.1346, 1.0863, 1.056, 1.0694, 1.0506, 1.1182, 1.0977, 1.1713, 0.8755, 0.886, 0.9253, 0.8616, 0.6895, 0.406, 0.6479, 0.9414, 1.3645, 1.3645, 1.3644, 1.3644, 1.3643, 1.3643, 1.3643, 1.3643, 1.3643, 1.3642, 1.3642, 1.3642, 1.3641, 1.3641, 1.3641, 1.364, 1.364, 1.364, 1.364, 1.364, 1.364, 1.3639, 1.3639, 1.3639, 1.3639, 1.3638, 1.3638, 1.3638, 1.3638, 1.3638, 1.3637, 1.3637, 1.3333, 1.3394, 1.3335, 1.3282, 1.3378, 1.3165, 1.3238, 1.2686, 1.2871, 1.1904, 1.2837, 1.0084, 1.2423, 1.2436, 0.9829, 1.1232, 0.8811, 0.8748, 1.1361, 0.8872, 0.9921, 0.9578, 0.3101, -0.2012, 0.5109, 2.4234, 2.4232, 2.4231, 2.423, 2.423, 2.4228, 2.4228, 2.4227, 2.4227, 2.4227, 2.4226, 2.4226, 2.4226, 2.4226, 2.4223, 2.4223, 2.4218, 2.4217, 2.4216, 2.4216, 2.4216, 2.4216, 2.4214, 2.4213, 2.4211, 2.421, 2.4206, 2.4204, 2.4204, 2.4203, 2.2804, 2.2701, 2.3597, 2.2102, 2.3077, 1.6404, 1.8455, 1.8367, 1.8093, 1.9241, 1.9675, 1.6193, 1.7785, 2.0278, 1.7022, 1.115, 1.0409, 1.0596, 1.1547, 1.3467, 2.461, 2.4609, 2.4607, 2.4607, 2.4607, 2.4606, 2.4605, 2.4604, 2.4603, 2.4602, 2.4602, 2.4601, 2.46, 2.4597, 2.4596, 2.4596, 2.4596, 2.4595, 2.4594, 2.4593, 2.4593, 2.4593, 2.4592, 2.4592, 2.4591, 2.4589, 2.4589, 2.4589, 2.4589, 2.4588, 2.3662, 2.4152, 2.3169, 2.3739, 2.2804, 2.2798, 2.0903, 2.2706, 1.9255, 2.1527, 2.0831, 2.2189, 2.3437, 2.0083, 1.7405, 2.1394, 1.978, 1.5734, 1.4357, 1.0175, 1.2618, 0.8484, 0.9875, 1.2232]}, \"token.table\": {\"Topic\": [1, 4, 5, 5, 5, 3, 1, 2, 2, 5, 1, 2, 2, 3, 3, 2, 3, 4, 1, 2, 3, 5, 1, 4, 1, 2, 2, 3, 1, 5, 5, 1, 1, 3, 1, 2, 5, 3, 4, 1, 2, 1, 1, 2, 2, 1, 2, 3, 1, 5, 3, 2, 1, 2, 3, 4, 2, 1, 2, 1, 2, 4, 5, 4, 2, 3, 4, 4, 5, 2, 3, 4, 5, 3, 4, 3, 4, 4, 1, 4, 5, 5, 2, 3, 3, 1, 2, 4, 5, 5, 4, 4, 2, 4, 5, 2, 3, 5, 5, 1, 2, 5, 3, 3, 4, 1, 2, 4, 2, 3, 4, 2, 3, 1, 2, 3, 4, 1, 1, 5, 1, 1, 1, 3, 4, 1, 3, 1, 3, 4, 4, 3, 2, 3, 1, 5, 1, 2, 3, 5, 1, 2, 5, 5, 5, 1, 4, 1, 2, 1, 1, 2, 5, 2, 3, 5, 2, 5, 2, 3, 4, 4, 5, 5, 3, 4, 3, 1, 2, 3, 1, 2, 4, 4, 1, 2, 3, 4, 1, 2, 3, 3, 1, 2, 3, 4, 5, 1, 4, 5, 4, 4, 1, 1, 2, 4, 5, 1, 4, 5, 3, 1, 4, 5, 2, 2, 3, 2, 3, 1, 1, 2, 1, 4, 4, 1, 1, 3, 4, 5, 3, 1, 2, 3, 2, 4, 1, 4, 5, 4, 4, 3, 5, 1, 4, 5, 4, 4, 2, 2, 2, 2, 3, 5, 5, 3, 4, 4, 3, 5, 1, 3, 4, 3, 4, 1, 2, 3, 2, 1, 2, 1, 4, 4, 4, 1, 1, 2, 3, 2, 5, 1, 2, 5, 1, 5, 5, 4, 2, 3, 2, 4, 2, 4, 2, 2, 2, 3, 4, 5, 1, 3, 3, 1, 2, 5, 5, 5, 1, 3, 4, 5, 3, 1, 2, 4, 1, 2, 2, 3, 5, 1, 4, 2, 5, 2, 3, 1, 4, 3, 3, 1, 2, 5, 1, 1, 4, 1, 2, 3, 2, 3, 1, 1, 3, 1, 4, 1, 4, 3, 4, 5, 1, 2, 3, 4, 4, 2, 2, 2, 3, 5, 1, 4, 4, 1, 2, 3, 2, 3, 3, 5, 2, 1, 4, 4, 2, 3, 4, 2, 2, 3, 4, 4, 1, 5, 2, 1, 4, 4, 3, 4, 3, 4, 1, 2, 2, 5, 5, 4, 5, 2, 3, 1, 1, 4, 2, 1, 2, 3, 4, 2, 3, 2, 3, 3, 1, 4, 1, 2, 4, 3, 3, 2, 4, 1, 2, 4, 5, 1, 2, 3, 4, 1, 3, 4, 1, 4, 3, 3, 5], \"Freq\": [0.3083314317138614, 0.5610820658687767, 0.13022945997388094, 0.9996956417402176, 0.9979673912622522, 0.9987038663937396, 0.9996397728259956, 0.9995384218769479, 0.09039939767428082, 0.9093909557084369, 0.8759875943531994, 0.12373734195267462, 0.9988508896863539, 0.99971525115352, 0.9990872325364921, 0.7958827939460031, 0.18116073386673007, 0.022819017169081208, 0.9986974568988908, 0.15175075185825979, 0.2308023063146556, 0.6168844517400887, 0.9991418136280795, 0.9995050161482872, 0.17002796605551954, 0.8297364743509353, 0.6645060748276438, 0.33534768890539857, 0.41472774973430493, 0.5851659591714276, 0.9980410517690245, 0.99928299941772, 0.628115206572176, 0.3714797799849744, 0.12592877783534318, 0.0388580228749059, 0.8347278987942748, 0.9992226786408683, 0.999171337860313, 0.9598517222759887, 0.039107611272145355, 0.9997384547789546, 0.9997662906386977, 0.9993480404195759, 0.9991368764332887, 0.9605691306872031, 0.01699351149775501, 0.022440149798317512, 0.9988799282793089, 0.9984201095314872, 0.9997679130474306, 0.999156078895135, 0.10251477451744925, 0.7918481051166762, 0.03369566404751814, 0.07196023169469976, 0.9990904809358997, 0.9994337975424636, 0.9996558325527927, 0.24637596843443643, 0.08212532281147882, 0.5246895624066702, 0.14701446676128924, 0.9976974385222627, 0.8424285701335786, 0.09784401915944442, 0.05967641685802322, 0.9975396275931497, 0.9975179825820822, 0.022581446252748792, 0.9693892284215732, 0.007795975492020416, 0.9987127715873925, 0.9736475017731807, 0.026027029209003617, 0.9988798859388858, 0.9985991758052046, 0.9992056946537298, 0.9991356247135524, 0.891020731153196, 0.10898751432560552, 0.9989848949285813, 0.9987982031899045, 0.9996365188087367, 0.999106657976822, 0.1355504334656073, 0.20808017021680572, 0.4569932770621781, 0.1993169372417252, 0.996084449135807, 0.9988764347534392, 0.9972798528062117, 0.9996306659175558, 0.17291092100443817, 0.8264255301340326, 0.22439046921137076, 0.04062780083214234, 0.7344256304271884, 0.997188413722064, 0.3272638274208882, 0.3141846475239631, 0.3585401271744049, 0.9994747845526607, 0.7956419573047622, 0.2039885952459792, 0.4867751509146312, 0.3629312962649724, 0.15013610156932844, 0.3597008690540949, 0.6128049918014286, 0.027533282813831703, 0.03973611742275341, 0.9596874419980143, 0.18032223758252217, 0.12357904590543498, 0.425910359663196, 0.27025907498375523, 0.9986630177442651, 0.21515871582442253, 0.7851097630491174, 0.9997440692320982, 0.9995779985076793, 0.8912433968747594, 0.05066714558188287, 0.05772732160558787, 0.21435897133307996, 0.7854613402131835, 0.6839450129526968, 0.11467341534536235, 0.20116029792726378, 0.9977068365869945, 0.9997160681762188, 0.8610319148497344, 0.13870119675736525, 0.9993693448523226, 0.9987568456871254, 0.23716658482909755, 0.551679389215072, 0.21109962685689043, 0.9992414917179648, 0.5067759224492059, 0.08155400606301791, 0.4114617754455142, 0.9975772073613655, 0.9992292354944077, 0.9064127320906457, 0.09320130916907345, 0.9809691229895616, 0.018885194018185374, 0.9994038674043034, 0.9991976331262599, 0.6984604649329665, 0.30134151864074776, 0.047322022354949284, 0.036401555657653295, 0.9161058173842745, 0.9998069385334537, 0.9997675594537441, 0.6553843687110231, 0.2591429579316761, 0.08548491765795954, 0.043068721274256504, 0.955002080429166, 0.9974626242736894, 0.9252890233853727, 0.07408278585944145, 0.9997258943141887, 0.2225220361984247, 0.11143088224898214, 0.6658674670975762, 0.45680154839584997, 0.09558622708723732, 0.447410620822367, 0.9988764347534392, 0.9990522877976109, 0.2285559786297783, 0.6828142290051947, 0.088724341306906, 0.9995556181635339, 0.8067714281578987, 0.1930576888481822, 0.9997645995502928, 0.1577481598128518, 0.5292766258040804, 0.24331076169534266, 0.046693455304604135, 0.022968132068751226, 0.1328293990504015, 0.857662602224358, 0.009487814217885823, 0.9998183983911018, 0.9987109589578014, 0.9997647029715628, 0.6251002921976273, 0.21074678237318678, 0.0780799554366233, 0.0861413077678381, 0.9988238680834884, 0.1096828023410797, 0.8885896595458487, 0.999651791612011, 0.37799619089499076, 0.5559028488162246, 0.06566131015546788, 0.9991309091600974, 0.7910165535774671, 0.2088840452647963, 0.9991066635847856, 0.9994814508168206, 0.9993664949925758, 0.9993875061556363, 0.9992545257667955, 0.0608456674917041, 0.9382401927220773, 0.9971021033579459, 0.9995566923930664, 0.37305653638369785, 0.6165928047006771, 0.010256669478579929, 0.9987819900749147, 0.9995196690520517, 0.6454948792508264, 0.3517267073000451, 0.002720075666210938, 0.9997548585123397, 0.9958557370836614, 0.15938567205120124, 0.54107241301592, 0.2994772890646255, 0.9988764347534392, 0.9990052717053547, 0.9988934149083845, 0.99923287628272, 0.08250268612726153, 0.8665559911582232, 0.050834988421848006, 0.999611189500954, 0.9978804678048296, 0.9993343636634757, 0.9995458747083424, 0.9988279104182055, 0.10177712754589438, 0.032852110790130465, 0.8657497431752029, 0.9971996801157473, 0.3265560148820096, 0.672989352409011, 0.9990473907640954, 0.9083428286592399, 0.09114858834296871, 0.42880968194574715, 0.3200579490886439, 0.2508886484111481, 0.9990546471855178, 0.9972880448024535, 0.3565409264497571, 0.02285518759293315, 0.620518343148135, 0.9997160574030637, 0.8963174652396704, 0.10326789301471291, 0.9584705809631301, 0.041333091428656446, 0.9996406644102716, 0.9981170199242885, 0.9992407220033178, 0.0689129064616379, 0.04610370502715212, 0.8847058343631402, 0.2745330212080975, 0.7248396599553729, 0.07404582687482215, 0.2899609691064464, 0.6359229837484727, 0.7706665898904549, 0.22909549509360222, 0.9981374940548067, 0.9988799590549697, 0.9993673217440736, 0.9998453023753413, 0.9366920941593213, 0.06322428465249832, 0.19167243647093127, 0.8078903630690654, 0.999456356788171, 0.9999135316941447, 0.03660629973114973, 0.9531195818888245, 0.009942451778830791, 0.9967133838607536, 0.9987824405839213, 0.9997959804869765, 0.9994755189525218, 0.10249042464722878, 0.20745049808113777, 0.6900198709984512, 0.9998367267111278, 0.999276869131718, 0.09813473352696975, 0.6890164037069636, 0.21251007436298025, 0.9989972876283914, 0.9993787927424318, 0.26005193565445656, 0.6715265173861916, 0.06836808434927291, 0.9314235694807811, 0.06824845373973291, 0.41552464939608413, 0.3483491092140433, 0.23596471393058668, 0.9095542806390866, 0.09014090184244082, 0.709740081749812, 0.28981053338117324, 0.9577590429386785, 0.04221527461988666, 0.9637688964493846, 0.03616151303260672, 0.9997904459084084, 0.9995895271654963, 0.3103222681564855, 0.20318005371560993, 0.48649167957607636, 0.9995155020228268, 0.8808399223777197, 0.11904082225499882, 0.9997353382045855, 0.952544614036165, 0.04705159943215949, 0.03531447190923691, 0.9644214114260651, 0.9990599967436439, 0.024816048962860354, 0.9751579240178535, 0.5135727394822782, 0.48622859556018205, 0.9827625523048512, 0.016685272534887118, 0.9690905834706494, 0.030788914399342067, 0.9984550934717422, 0.35307438241192723, 0.09128632536718632, 0.21463602947904553, 0.34062624713458367, 0.9973191541729611, 0.9996667804981452, 0.999584334505828, 0.9994847768697437, 0.9992529765386992, 0.9991578225128328, 0.36558248783604536, 0.6334727868557779, 0.9976972248384205, 0.6292419180372611, 0.13796382779546806, 0.23279413701580126, 0.1597645543027813, 0.8402562163660563, 0.9999592851114556, 0.9974383253836095, 0.9992813400775236, 0.392438740281973, 0.6068895164675551, 0.9988846957832727, 0.8205048842446546, 0.15701793239364858, 0.02225204231526756, 0.9989778039724542, 0.893426857349486, 0.10633611229273494, 0.999892041491216, 0.9990459689847213, 0.9995319923380575, 0.9985392249439897, 0.9997902631594513, 0.9711052042550306, 0.0285774828500118, 0.9992835613949931, 0.8858526766298059, 0.113686942031991, 0.9221584909983093, 0.07707758884471737, 0.9993352717486882, 0.9991958811408056, 0.3147149597077306, 0.685190227591906, 0.9976229430045438, 0.16540881952331982, 0.833810822051644, 0.9994215170327219, 0.9986749663537469, 0.9995222611229319, 0.8463803414789207, 0.15334356331323845, 0.9990113040207207, 0.6020728851791064, 0.15849440054287586, 0.11475406273071857, 0.12453131471225962, 0.985768794548936, 0.014233460317331996, 0.9997424567622528, 0.9986574672383882, 0.9991705531856099, 0.8324790792909499, 0.16733398249681444, 0.16639428933992517, 0.5524764126482213, 0.28127148553901943, 0.9996539643890626, 0.999496760626293, 0.9451759661809267, 0.05450381802168494, 0.5644382910471273, 0.17957037712410912, 0.2557123749495273, 0.9985379534351048, 0.02348371379993234, 0.8469792777175597, 0.018786971039945873, 0.11076485008968087, 0.2175693158045053, 0.7002872741756921, 0.08197940338835057, 0.9994482508393682, 0.9990460113334036, 0.9996764802116804, 0.9991156870756366, 0.9988338081312306], \"Term\": [\"account\", \"account\", \"account\", \"acquire\", \"acquire_share\", \"advertising\", \"age\", \"analysis\", \"analyst\", \"analyst\", \"app\", \"app\", \"application\", \"attack\", \"bank\", \"base\", \"base\", \"base\", \"battery\", \"boost\", \"boost\", \"boost\", \"break\", \"browser\", \"build\", \"build\", \"business\", \"business\", \"buy\", \"buy\", \"buy_rating\", \"card\", \"case\", \"case\", \"cash\", \"cash\", \"cash\", \"charge\", \"cheat\", \"check\", \"check\", \"child\", \"city\", \"client\", \"cloud\", \"come\", \"come\", \"come\", \"computer\", \"consensus\", \"consumer\", \"container\", \"content\", \"content\", \"content\", \"content\", \"cookie\", \"cost\", \"customer\", \"date\", \"date\", \"date\", \"date\", \"date_cheat\", \"datum\", \"datum\", \"datum\", \"datum_provide\", \"day_move\", \"deal\", \"deal\", \"deal\", \"debt\", \"design\", \"design\", \"develop\", \"dialog\", \"dialog_window\", \"die\", \"ditch\", \"ditch\", \"dividend\", \"download\", \"earning\", \"economy\", \"email\", \"email\", \"email\", \"email\", \"email_newsletter\", \"email_preference\", \"email_send\", \"enable\", \"equity\", \"equity\", \"estimate\", \"estimate\", \"estimate\", \"etfs\", \"expect\", \"expect\", \"expect\", \"experience\", \"fall\", \"fall\", \"feature\", \"feature\", \"feature\", \"find\", \"find\", \"find\", \"firm\", \"firm\", \"follow\", \"follow\", \"follow\", \"follow\", \"food\", \"fund\", \"fund\", \"game\", \"gaming\", \"get\", \"get\", \"get\", \"give\", \"give\", \"go\", \"go\", \"go\", \"go_work\", \"government\", \"growth\", \"growth\", \"happen\", \"hedge\", \"help\", \"help\", \"help\", \"hike\", \"hold\", \"hold\", \"hold\", \"hold_rating\", \"holding\", \"home\", \"home\", \"hour\", \"hour\", \"icon\", \"inch\", \"increase\", \"increase\", \"index\", \"index\", \"index\", \"industry\", \"inflation\", \"information\", \"information\", \"information\", \"insider\", \"insider\", \"interest_rate\", \"investment\", \"investment\", \"investor\", \"issue\", \"issue\", \"issue\", \"join\", \"join\", \"join\", \"join_profile\", \"kill\", \"know\", \"know\", \"know\", \"laptop\", \"launch\", \"launch\", \"law\", \"lead\", \"lead\", \"lead\", \"lead\", \"lead\", \"link\", \"link\", \"link\", \"link_open\", \"link_site\", \"list\", \"look\", \"look\", \"look\", \"look\", \"lot\", \"low\", \"low\", \"man\", \"manage\", \"manage\", \"manage\", \"management\", \"market\", \"market\", \"mean\", \"measure\", \"menu\", \"min\", \"model\", \"mom\", \"mom\", \"mom_people\", \"money\", \"month\", \"month\", \"month\", \"mortgage\", \"move\", \"need\", \"need\", \"need\", \"network\", \"news_text\", \"newsletter\", \"newsletter\", \"newsletter\", \"newsletter_manage\", \"notification\", \"official\", \"oil\", \"open\", \"open\", \"open\", \"open_tab\", \"open_window\", \"opinion\", \"option\", \"organization\", \"own\", \"own\", \"own\", \"own_share\", \"page\", \"page\", \"password\", \"pay\", \"pay\", \"people\", \"people\", \"people\", \"period\", \"photo_video\", \"plan\", \"plan\", \"plan\", \"platform\", \"play\", \"play\", \"pm\", \"pm\", \"podcast\", \"podcast_mom\", \"police\", \"policy\", \"policy\", \"policy\", \"portfolio\", \"portfolio\", \"position\", \"position\", \"position\", \"post\", \"post\", \"post_earning\", \"preference\", \"press\", \"price\", \"product\", \"product\", \"profile\", \"profile\", \"project\", \"provide\", \"purchase\", \"purchase\", \"purchase\", \"purchase_share\", \"quality\", \"quarter\", \"raise\", \"rate\", \"rate\", \"rate\", \"rating\", \"ratio\", \"receive\", \"receive\", \"receive\", \"recession\", \"reduce\", \"release\", \"release\", \"release\", \"remain\", \"remain\", \"report\", \"report\", \"report\", \"reserve\", \"reserve\", \"result\", \"result\", \"review\", \"review\", \"right\", \"right\", \"rise\", \"risk\", \"sale\", \"sale\", \"sale\", \"screen\", \"search\", \"search\", \"season\", \"security\", \"security\", \"see\", \"see\", \"select\", \"sell\", \"sell\", \"send\", \"send\", \"series\", \"series\", \"share\", \"share\", \"share_quarter\", \"sign\", \"sign\", \"sign\", \"sign\", \"singer\", \"size\", \"software\", \"solution\", \"staff\", \"stake\", \"star\", \"star\", \"star_open\", \"start\", \"start\", \"start\", \"state\", \"state\", \"stock\", \"stock_value\", \"strategy\", \"subscription\", \"subscription\", \"subscription_account\", \"support\", \"support\", \"support\", \"symbol\", \"system\", \"system\", \"tab\", \"tab_link\", \"tablet\", \"target_price\", \"technology\", \"test\", \"test\", \"text\", \"thing\", \"thing\", \"think\", \"think\", \"tip\", \"tool\", \"trade\", \"trade\", \"trader\", \"trading\", \"trading\", \"transform\", \"travel\", \"try\", \"tv\", \"tv\", \"type\", \"update\", \"update\", \"update\", \"update\", \"use\", \"use\", \"user\", \"vaccine\", \"version\", \"video\", \"video\", \"view\", \"view\", \"view\", \"want\", \"war\", \"watch\", \"watch\", \"way\", \"way\", \"way\", \"wealth\", \"website\", \"website\", \"website\", \"website\", \"week\", \"week\", \"week\", \"win\", \"window\", \"woman\", \"worker\", \"yield\"]}, \"R\": 30, \"lambda.step\": 0.01, \"plot.opts\": {\"xlab\": \"PC1\", \"ylab\": \"PC2\"}, \"topic.order\": [5, 1, 4, 3, 2]};\n",
       "\n",
       "function LDAvis_load_lib(url, callback){\n",
       "  var s = document.createElement('script');\n",
       "  s.src = url;\n",
       "  s.async = true;\n",
       "  s.onreadystatechange = s.onload = callback;\n",
       "  s.onerror = function(){console.warn(\"failed to load library \" + url);};\n",
       "  document.getElementsByTagName(\"head\")[0].appendChild(s);\n",
       "}\n",
       "\n",
       "if(typeof(LDAvis) !== \"undefined\"){\n",
       "   // already loaded: just create the visualization\n",
       "   !function(LDAvis){\n",
       "       new LDAvis(\"#\" + \"ldavis_el53169158736109604403272202\", ldavis_el53169158736109604403272202_data);\n",
       "   }(LDAvis);\n",
       "}else if(typeof define === \"function\" && define.amd){\n",
       "   // require.js is available: use it to load d3/LDAvis\n",
       "   require.config({paths: {d3: \"https://d3js.org/d3.v5\"}});\n",
       "   require([\"d3\"], function(d3){\n",
       "      window.d3 = d3;\n",
       "      LDAvis_load_lib(\"https://cdn.jsdelivr.net/gh/bmabey/pyLDAvis@3.4.0/pyLDAvis/js/ldavis.v3.0.0.js\", function(){\n",
       "        new LDAvis(\"#\" + \"ldavis_el53169158736109604403272202\", ldavis_el53169158736109604403272202_data);\n",
       "      });\n",
       "    });\n",
       "}else{\n",
       "    // require.js not available: dynamically load d3 & LDAvis\n",
       "    LDAvis_load_lib(\"https://d3js.org/d3.v5.js\", function(){\n",
       "         LDAvis_load_lib(\"https://cdn.jsdelivr.net/gh/bmabey/pyLDAvis@3.4.0/pyLDAvis/js/ldavis.v3.0.0.js\", function(){\n",
       "                 new LDAvis(\"#\" + \"ldavis_el53169158736109604403272202\", ldavis_el53169158736109604403272202_data);\n",
       "            })\n",
       "         });\n",
       "}\n",
       "</script>"
      ],
      "text/plain": [
       "<IPython.core.display.HTML object>"
      ]
     },
     "execution_count": 114,
     "metadata": {},
     "output_type": "execute_result"
    }
   ],
   "source": [
    "# Prepare the visualization\n",
    "vis_data = gensimvis.prepare(model, corpus, dictionary)\n",
    "\n",
    "# display\n",
    "pyLDAvis.display(vis_data)"
   ]
  },
  {
   "cell_type": "markdown",
   "metadata": {},
   "source": [
    "### Hyperparameter Tuning"
   ]
  },
  {
   "cell_type": "code",
   "execution_count": 128,
   "metadata": {},
   "outputs": [],
   "source": [
    "min_topics = 2\n",
    "max_topics = 30\n",
    "step_size = 1\n",
    "topics_range = range(min_topics, max_topics + 1, step_size)\n",
    "\n",
    "coherence_scores = []\n",
    "\n",
    "for num_topics in topics_range:\n",
    "    model = LdaModel(\n",
    "        corpus= corpus,\n",
    "        id2word= dictionary,\n",
    "        chunksize= chunksize,\n",
    "        alpha= 'symmetric',\n",
    "        eta= 'auto',\n",
    "        iterations= iterations,\n",
    "        num_topics= num_topics,\n",
    "        passes= passes,\n",
    "        eval_every= eval_every,\n",
    "        random_state= 42\n",
    "    )\n",
    "    \n",
    "    # Compute Coherence Score\n",
    "    coherence_model = CoherenceModel(model= model, texts= normalized_corpus, dictionary= dictionary, coherence= 'c_v')\n",
    "    coherence_score = coherence_model.get_coherence()\n",
    "    coherence_scores.append(coherence_score)"
   ]
  },
  {
   "cell_type": "code",
   "execution_count": 129,
   "metadata": {},
   "outputs": [
    {
     "data": {
      "image/png": "[encoded data removed]",
      "text/plain": [
       "<Figure size 1000x600 with 1 Axes>"
      ]
     },
     "metadata": {},
     "output_type": "display_data"
    }
   ],
   "source": [
    "plt.figure(figsize=(10, 6))\n",
    "plt.plot(topics_range, coherence_scores, marker='o')\n",
    "plt.title(\"Coherence Scores by Number of Topics\")\n",
    "plt.xlabel(\"Number of Topics\")\n",
    "plt.ylabel(\"Coherence Score\")\n",
    "plt.xticks(topics_range)\n",
    "plt.show()"
   ]
  },
  {
   "cell_type": "code",
   "execution_count": 131,
   "metadata": {},
   "outputs": [],
   "source": [
    "num_topics = 15\n",
    "chunksize = 10\n",
    "passes = 20\n",
    "iterations = 400 \n",
    "eval_every = 0  \n",
    "\n",
    "model = LdaModel(\n",
    "    corpus= corpus,\n",
    "    id2word= dictionary,\n",
    "    chunksize= chunksize,\n",
    "    alpha= 'auto',\n",
    "    eta= 'auto',\n",
    "    iterations= iterations,\n",
    "    num_topics= num_topics,\n",
    "    passes= passes,\n",
    "    eval_every= eval_every,\n",
    "    random_state= 42\n",
    ")"
   ]
  },
  {
   "cell_type": "code",
   "execution_count": 132,
   "metadata": {},
   "outputs": [
    {
     "data": {
      "text/plain": [
       "[(11,\n",
       "  '0.000*\"search_shopping\" + 0.000*\"save_screeneretf\" + 0.000*\"spark\" + 0.000*\"sensor\" + 0.000*\"selection\" + 0.000*\"trend_activesstock\" + 0.000*\"screeneretf\" + 0.000*\"panel\" + 0.000*\"recession_fear\" + 0.000*\"affiliate_commission\"'),\n",
       " (6,\n",
       "  '0.000*\"search_shopping\" + 0.000*\"save_screeneretf\" + 0.000*\"spark\" + 0.000*\"sensor\" + 0.000*\"selection\" + 0.000*\"trend_activesstock\" + 0.000*\"screeneretf\" + 0.000*\"panel\" + 0.000*\"recession_fear\" + 0.000*\"affiliate_commission\"'),\n",
       " (12,\n",
       "  '0.075*\"open\" + 0.052*\"link\" + 0.050*\"tab\" + 0.027*\"link_open\" + 0.022*\"email\" + 0.020*\"open_tab\" + 0.019*\"podcast\" + 0.017*\"window\" + 0.017*\"join\" + 0.015*\"people\"'),\n",
       " (1,\n",
       "  '0.093*\"screen\" + 0.070*\"let\" + 0.069*\"range\" + 0.061*\"earn\" + 0.056*\"inch\" + 0.049*\"role\" + 0.049*\"trust\" + 0.048*\"color\" + 0.040*\"affiliate\" + 0.039*\"commission\"'),\n",
       " (2,\n",
       "  '0.089*\"pm\" + 0.041*\"menu\" + 0.038*\"message\" + 0.033*\"view\" + 0.027*\"delay\" + 0.026*\"account\" + 0.026*\"percent\" + 0.023*\"password\" + 0.023*\"sign\" + 0.022*\"volume\"'),\n",
       " (0,\n",
       "  '0.037*\"game\" + 0.032*\"deal\" + 0.032*\"feature\" + 0.023*\"launch\" + 0.020*\"come\" + 0.020*\"tv\" + 0.019*\"app\" + 0.018*\"watch\" + 0.017*\"buy\" + 0.016*\"know\"'),\n",
       " (10,\n",
       "  '0.044*\"provide\" + 0.037*\"business\" + 0.034*\"lead\" + 0.027*\"technology\" + 0.025*\"industry\" + 0.024*\"product\" + 0.023*\"growth\" + 0.022*\"datum\" + 0.020*\"release\" + 0.017*\"transform\"'),\n",
       " (8,\n",
       "  '0.020*\"hit\" + 0.020*\"story\" + 0.020*\"show\" + 0.019*\"state\" + 0.017*\"review\" + 0.017*\"woman\" + 0.017*\"man\" + 0.017*\"drop\" + 0.016*\"file\" + 0.014*\"policy\"'),\n",
       " (3,\n",
       "  '0.038*\"want\" + 0.035*\"use\" + 0.034*\"information\" + 0.030*\"base\" + 0.025*\"website\" + 0.025*\"value\" + 0.023*\"risk\" + 0.022*\"experience\" + 0.022*\"leave\" + 0.020*\"help\"'),\n",
       " (7,\n",
       "  '0.019*\"sell\" + 0.012*\"plan\" + 0.011*\"sale\" + 0.010*\"search\" + 0.010*\"take\" + 0.010*\"look\" + 0.010*\"continue\" + 0.010*\"issue\" + 0.010*\"follow\" + 0.009*\"pay\"')]"
      ]
     },
     "execution_count": 132,
     "metadata": {},
     "output_type": "execute_result"
    }
   ],
   "source": [
    "model.show_topics()"
   ]
  },
  {
   "cell_type": "code",
   "execution_count": 133,
   "metadata": {},
   "outputs": [
    {
     "data": {
      "text/plain": [
       "[('pm', 0.08949963),\n",
       " ('menu', 0.041157372),\n",
       " ('message', 0.03769895),\n",
       " ('view', 0.03321853),\n",
       " ('delay', 0.027307708),\n",
       " ('account', 0.026133666),\n",
       " ('percent', 0.026127627),\n",
       " ('password', 0.023114445),\n",
       " ('sign', 0.022722425),\n",
       " ('volume', 0.021823762)]"
      ]
     },
     "execution_count": 133,
     "metadata": {},
     "output_type": "execute_result"
    }
   ],
   "source": [
    "topic_words = model.show_topic(2, topn=10)\n",
    "topic_words"
   ]
  },
  {
   "cell_type": "code",
   "execution_count": 134,
   "metadata": {},
   "outputs": [
    {
     "data": {
      "text/html": [
       "\n",
       "<link rel=\"stylesheet\" type=\"text/css\" href=\"https://cdn.jsdelivr.net/gh/bmabey/pyLDAvis@3.4.0/pyLDAvis/js/ldavis.v1.0.0.css\">\n",
       "\n",
       "\n",
       "<div id=\"ldavis_el53169181804689441426427106\" style=\"background-color:white;\"></div>\n",
       "<script type=\"text/javascript\">\n",
       "\n",
       "var ldavis_el53169181804689441426427106_data = {\"mdsDat\": {\"x\": [-0.11929134608218908, 0.050840217587420945, -0.05287964084521075, 0.03320393967376458, -0.049982357854534656, 0.0033581802053552676, 0.06845729482941468, 0.1778437566103028, 0.0913109688898334, 0.02763145804598851, 0.14720520628315148, 0.11444718516554044, 0.1319631285728176, -0.31205399554082774, -0.3120539955408278], \"y\": [0.14251335938884413, -0.10859345521671747, -0.03956307089992819, -0.23435658346687144, 0.020258984128730607, 0.014329670917877553, -0.2921386470945303, 0.05996686321590277, 0.25587234132630987, -0.03493747279804274, 0.22661682885626547, 0.016866976212836088, -0.06205297679503022, 0.017608591112176893, 0.017608591112176972], \"topics\": [1, 2, 3, 4, 5, 6, 7, 8, 9, 10, 11, 12, 13, 14, 15], \"cluster\": [1, 1, 1, 1, 1, 1, 1, 1, 1, 1, 1, 1, 1, 1, 1], \"Freq\": [22.446946323222562, 9.973131937847349, 9.880201945798953, 9.749397913909007, 9.375685811404413, 8.733841193277335, 6.384055165159587, 5.744184702118592, 5.611991466718888, 3.7295000145518578, 3.703128743188819, 3.234455213928361, 1.4329420437112632, 0.0002687625815002318, 0.0002687625815002318]}, \"tinfo\": {\"Term\": [\"market\", \"share\", \"stock\", \"price\", \"hour\", \"open\", \"pm\", \"report\", \"provide\", \"link\", \"game\", \"buy\", \"business\", \"use\", \"want\", \"tab\", \"people\", \"lead\", \"video\", \"email\", \"deal\", \"increase\", \"user\", \"information\", \"week\", \"quarter\", \"case\", \"feature\", \"play\", \"hold\", \"government\", \"member\", \"employee\", \"tell\", \"win\", \"thing\", \"investment\", \"office\", \"remain\", \"design\", \"group\", \"position\", \"lose\", \"seek\", \"cash\", \"bank\", \"job\", \"talk\", \"develop\", \"party\", \"cause\", \"oil\", \"author\", \"client\", \"measure\", \"recommendation\", \"food\", \"center\", \"class\", \"involve\", \"face\", \"step\", \"interest\", \"sell\", \"pay\", \"continue\", \"plan\", \"take\", \"search\", \"money\", \"sale\", \"issue\", \"device\", \"home\", \"start\", \"look\", \"announce\", \"follow\", \"return\", \"set\", \"get\", \"find\", \"come\", \"go\", \"month\", \"help\", \"stock\", \"price\", \"quarter\", \"analyst\", \"investor\", \"earning\", \"rating\", \"revenue\", \"firm\", \"forecast\", \"estimate\", \"own\", \"loss\", \"trading\", \"compare\", \"ratio\", \"dividend\", \"equity\", \"fund\", \"portfolio\", \"beat\", \"stake\", \"average\", \"cent\", \"holding\", \"index\", \"cap\", \"yield\", \"transaction\", \"alert\", \"share\", \"inflation\", \"trade\", \"research\", \"buy\", \"fall\", \"rate\", \"expect\", \"purchase\", \"report\", \"target\", \"rise\", \"game\", \"deal\", \"gaming\", \"tablet\", \"pc\", \"laptop\", \"mean\", \"fix\", \"tip\", \"track\", \"battery\", \"need_know\", \"camera\", \"smartphone\", \"chip\", \"monitor\", \"mobile\", \"guide\", \"leak\", \"core\", \"pdf\", \"accessory\", \"cpu\", \"stream\", \"pro\", \"processor\", \"graphic\", \"speaker\", \"unveil\", \"break_news\", \"feature\", \"watch\", \"phone\", \"launch\", \"app\", \"display\", \"tv\", \"model\", \"tech\", \"come\", \"know\", \"support\", \"build\", \"buy\", \"find\", \"product\", \"update\", \"offer\", \"need\", \"use\", \"expect\", \"power\", \"run\", \"provide\", \"lead\", \"industry\", \"transform\", \"customer\", \"source\", \"solution\", \"consider\", \"press\", \"management\", \"size\", \"tool\", \"cloud\", \"problem\", \"asset\", \"analysis\", \"symbol\", \"organization\", \"application\", \"segment\", \"communication\", \"reflect\", \"ability\", \"resource\", \"data\", \"insight\", \"factor\", \"scale\", \"income\", \"crypto\", \"technology\", \"platform\", \"business\", \"opinion\", \"growth\", \"opportunity\", \"software\", \"product\", \"datum\", \"release\", \"visit\", \"view\", \"content\", \"drive\", \"world\", \"today\", \"hit\", \"review\", \"woman\", \"man\", \"drop\", \"file\", \"care\", \"law\", \"boost\", \"cut\", \"ceo\", \"war\", \"tax\", \"worker\", \"staff\", \"container\", \"threat\", \"travel\", \"official\", \"lot\", \"spend\", \"vaccine\", \"rule\", \"warn\", \"musictv\", \"radioentertainmentmoviesbooksmusictheaterclassical\", \"court\", \"vote\", \"effort\", \"streaming\", \"name\", \"show\", \"state\", \"story\", \"policy\", \"see\", \"charge\", \"claim\", \"comment\", \"term\", \"option\", \"read\", \"right\", \"know\", \"update\", \"want\", \"value\", \"risk\", \"experience\", \"leave\", \"project\", \"consumer\", \"period\", \"page\", \"cookie\", \"reduce\", \"type\", \"parent\", \"version\", \"word\", \"study\", \"perform\", \"score\", \"campaign\", \"express\", \"upgrade\", \"thank\", \"course\", \"interview\", \"fuel\", \"maintain\", \"disclose\", \"advice\", \"function\", \"crisis\", \"website\", \"process\", \"information\", \"point\", \"web\", \"move\", \"base\", \"improve\", \"provider\", \"use\", \"contact\", \"site\", \"control\", \"record\", \"system\", \"help\", \"term\", \"read\", \"support\", \"way\", \"add\", \"content\", \"market\", \"hold\", \"gain\", \"supply\", \"save\", \"note\", \"economy\", \"acquire\", \"publish\", \"chain\", \"meeting\", \"election\", \"pandemic\", \"wait\", \"conference\", \"flight\", \"air\", \"supply_chain\", \"field\", \"mark\", \"relationship\", \"urge\", \"secure\", \"agreement\", \"flow\", \"entity\", \"fly\", \"eat\", \"explore\", \"buyer\", \"increase\", \"demand\", \"reach\", \"grow\", \"impact\", \"result\", \"report\", \"sector\", \"decade\", \"minute\", \"trend\", \"accord\", \"country\", \"end\", \"believe\", \"turn\", \"week\", \"user\", \"min\", \"access\", \"list\", \"click\", \"block\", \"cover\", \"enable\", \"quality\", \"select\", \"store\", \"computer\", \"effect\", \"copyright\", \"cybersecurity\", \"package\", \"install\", \"light\", \"log\", \"discount\", \"announcement\", \"mandate\", \"privacy\", \"remember\", \"administration\", \"chapter\", \"connection\", \"capability\", \"grant\", \"workforce\", \"internet\", \"hope\", \"choose\", \"form\", \"card\", \"security\", \"article\", \"network\", \"cost\", \"email\", \"image\", \"enter\", \"create\", \"post\", \"need\", \"comment\", \"change\", \"receive\", \"link\", \"tab\", \"link_open\", \"open_tab\", \"podcast\", \"text\", \"tab_link\", \"dialog\", \"email_preference\", \"join_profile\", \"newsletter_manage\", \"mom\", \"cheat\", \"ditch\", \"email_send\", \"dialog_window\", \"go_work\", \"star_open\", \"date_cheat\", \"subscription_account\", \"podcast_mom\", \"slide\", \"song\", \"open_window\", \"calendar\", \"singer\", \"instruction\", \"wedding\", \"hair\", \"photo_video\", \"link_site\", \"notification\", \"window\", \"open\", \"preference\", \"link\", \"newsletter\", \"manage\", \"profile\", \"join\", \"subscription\", \"email\", \"star\", \"people\", \"date\", \"clear\", \"browser\", \"follow\", \"go\", \"send\", \"way\", \"city\", \"police\", \"kill\", \"die\", \"school\", \"person\", \"death\", \"arrest\", \"mask\", \"letter\", \"investigate\", \"disease\", \"ship\", \"teen\", \"murder\", \"injure\", \"channel_topic\", \"gamescomputerselectronicscell\", \"phonesinternetsoftwarecoding\", \"phonesinternetsoftwarecoding_location\", \"relationshipsprotestsfestivalhomelesshouse\", \"relationshipsprotestsfestivalhomelesshouse_gamescomputerselectronicscell\", \"showsphotographymuseumsdesignrock\", \"showsphotographymuseumsdesignrock_violationsvandalismsocietysocietyenvironmentreligionadvocacyrelationshipscharitieskidsrelationship\", \"violationsvandalismsocietysocietyenvironmentreligionadvocacyrelationshipscharitieskidsrelationship\", \"virus\", \"infection\", \"park\", \"shooting\", \"crew\", \"child\", \"hour\", \"case\", \"student\", \"crash\", \"family\", \"week\", \"vehicle\", \"people\", \"officer\", \"test\", \"fire\", \"health\", \"month\", \"location\", \"area\", \"enter\", \"age\", \"call\", \"player\", \"fight\", \"movie\", \"fan\", \"title\", \"friend\", \"film\", \"headset\", \"competition\", \"bit\", \"sound\", \"husband\", \"console\", \"video_game\", \"daughter\", \"sister\", \"fun\", \"caption\", \"adventure\", \"love\", \"picture\", \"play\", \"kid\", \"night\", \"figure\", \"feel\", \"write\", \"video\", \"drink\", \"series\", \"reveal\", \"life\", \"match\", \"right_reserve\", \"way\", \"post\", \"get\", \"release\", \"read\", \"go\", \"world\", \"story\", \"reserve\", \"image\", \"right\", \"menu\", \"message\", \"delay\", \"percent\", \"password\", \"volume\", \"subscribe\", \"represent\", \"basis\", \"disclosure\", \"datum_provide\", \"publication\", \"listing\", \"forget\", \"market_cap\", \"advisor\", \"load\", \"consult\", \"chart\", \"base_minute\", \"delay_price\", \"minute_delay\", \"sign_receive\", \"world_lead\", \"member_sign\", \"renew\", \"disclaimer\", \"week_source\", \"send_message\", \"story_inbox\", \"pm\", \"view\", \"account\", \"exchange\", \"profile\", \"sign\", \"article\", \"datum\", \"close\", \"week\", \"register\", \"send\", \"update\", \"confirm\", \"display\", \"screen\", \"let\", \"range\", \"earn\", \"inch\", \"role\", \"trust\", \"color\", \"affiliate\", \"commission\", \"desktop\", \"button\", \"explain\", \"refresh\", \"usb\", \"mention\", \"port\", \"describe\", \"character\", \"mode\", \"gpu\", \"keyboard\", \"controller\", \"framework\", \"creator\", \"gamer\", \"mouse\", \"link\", \"icon\", \"style\", \"complete_form\", \"assurance\", \"announce_dividend\", \"strap\", \"grow_laterremote\", \"laterremote\", \"dare\", \"town_flash\", \"party_make\", \"comeback_employer\", \"czar_shortcut\", \"doom_business\", \"plan_dollarsjane\", \"plan_remake\", \"self_holiday\", \"succeed_work\", \"torment_ceo\", \"travel_name\", \"shower\", \"face_challenge\", \"ist\", \"recession_fear\", \"holding_filing\", \"warning_sign\", \"press_secretary\", \"ray\", \"hit_record\", \"voting_right\", \"successor\", \"augment\", \"accelerate\", \"achieve\", \"adapt\", \"addition\", \"address\", \"adopt\", \"advantage\", \"agreement\", \"aim\", \"allow\", \"alternative\", \"application\", \"attract\", \"await\", \"barrier\", \"bear\", \"believe\", \"benefit\", \"branch\", \"break\", \"bring\", \"build\", \"building\", \"business\", \"buyer\", \"call\", \"chain\", \"challenge\", \"change\", \"choose\", \"complete_form\", \"assurance\", \"announce_dividend\", \"strap\", \"grow_laterremote\", \"laterremote\", \"dare\", \"town_flash\", \"party_make\", \"comeback_employer\", \"czar_shortcut\", \"doom_business\", \"plan_dollarsjane\", \"plan_remake\", \"self_holiday\", \"succeed_work\", \"torment_ceo\", \"travel_name\", \"shower\", \"face_challenge\", \"ist\", \"recession_fear\", \"holding_filing\", \"warning_sign\", \"press_secretary\", \"ray\", \"hit_record\", \"voting_right\", \"successor\", \"augment\", \"accelerate\", \"achieve\", \"adapt\", \"addition\", \"address\", \"adopt\", \"advantage\", \"agreement\", \"aim\", \"allow\", \"alternative\", \"application\", \"attract\", \"await\", \"barrier\", \"bear\", \"believe\", \"benefit\", \"branch\", \"break\", \"bring\", \"build\", \"building\", \"business\", \"buyer\", \"call\", \"chain\", \"challenge\", \"change\", \"choose\"], \"Freq\": [12426.0, 12727.0, 10521.0, 9863.0, 6080.0, 7617.0, 5606.0, 8654.0, 6531.0, 6277.0, 5573.0, 7501.0, 6630.0, 6662.0, 4970.0, 4249.0, 6228.0, 5046.0, 4374.0, 6530.0, 4865.0, 4314.0, 3869.0, 5251.0, 5651.0, 4592.0, 4031.0, 5242.0, 3349.0, 3693.0, 2989.100901806167, 2835.650140902821, 2806.4679004766167, 2766.81748352607, 2766.772169488141, 2745.211243231361, 2744.726097832276, 2655.8167866019544, 2411.5939272517485, 2273.2439902678593, 2193.2995702756225, 2001.0321073433454, 1942.1141931535738, 1714.3208413664315, 1700.8277151492982, 1699.2661236883644, 1626.7494033398561, 1526.1191250330814, 1509.9540549850647, 1466.8486803034784, 1323.196842441217, 1322.4255531522736, 1279.804848547696, 1279.4245116664085, 1259.3512642877167, 1256.8497234211425, 1225.6121903375476, 1183.7670529205993, 1176.1566711589269, 1161.7316760114484, 2692.959721159974, 1639.9088534595128, 1637.6268321717862, 6296.57823410071, 3126.1343550797374, 3272.3240959474006, 4136.973928923901, 3357.0176172434153, 3571.7789052273165, 1961.209782241915, 3576.1144763248203, 3263.4393756994973, 2313.469071608504, 2704.2885475235807, 3063.3687086833115, 3351.049790136319, 2892.6006970192957, 3257.082735134088, 2043.6350665904122, 2743.856575314256, 2275.16080576039, 2629.538288739116, 2614.8237432268998, 2517.0922958220376, 2509.8943351817948, 2437.8469161631656, 10520.545243953493, 9862.548038339697, 4591.688590685931, 3259.9164358772837, 3172.8576890603977, 2952.61465911744, 2779.0476533872425, 2275.8069580221068, 2010.1381168034065, 1837.982669058179, 1789.1403130366484, 1714.4685295783938, 1629.4798143845896, 1558.6624317795693, 1549.8116844501114, 1366.364617563594, 1360.1594503354302, 1325.6552627506978, 1274.1756332228379, 1234.2891944703993, 1065.3227752427817, 1027.1565759915757, 1023.1920775576267, 974.0700427073367, 910.2759565396026, 905.3457108487314, 897.5450438335464, 886.6474247940859, 850.2394078804329, 842.5478529177466, 12462.372598774702, 1843.7091511528001, 2184.8308773359004, 3312.8074826003685, 4929.152599289784, 2069.962917685856, 2727.5194513973024, 2347.063886211515, 1820.0430989401984, 2386.664662571025, 1359.6040347907756, 1369.205050672189, 5572.938375990172, 4864.619025898447, 2173.8377878443903, 2164.706730170481, 1833.792156548539, 1763.7797097661908, 1714.404546833311, 1448.4611321715531, 1379.0233341781413, 1211.7128050228507, 1182.628881365325, 1071.3165516521974, 955.5023647458406, 953.540748103219, 953.0999980612194, 933.5975758309695, 853.5582748099199, 847.4119736308754, 760.5769625081388, 759.1718625324726, 702.9551710204383, 701.848274712429, 687.3197027583598, 643.0733500056675, 542.1733216011991, 537.9013239235445, 532.6729265503229, 446.4980292760907, 379.0262066084689, 369.4414971903811, 4754.094536885394, 2671.0571157631234, 1936.3305616518523, 3389.0188493686223, 2905.960708717051, 1465.8183151546584, 2971.3420720675904, 1438.5423035365, 2160.993271588772, 3016.3225665437208, 2423.570945977272, 2104.0180994664865, 1821.7090499382612, 2571.5402195711517, 2110.8778996454835, 2293.9361767412734, 2039.936390828401, 1853.6738888228451, 1985.9975122707647, 2008.4314104528275, 1657.9591116285935, 1547.7717406065256, 1466.6218471141397, 6530.46158531311, 5045.677359068434, 3673.1311936749166, 2448.6911857292625, 2440.4360595488765, 2324.4580053861846, 2273.537309669395, 2263.952802632451, 1969.1824510076794, 1709.8805146453712, 1620.330150027617, 1546.1086105760294, 1544.9892551037874, 1503.822628202105, 1434.669361868102, 1429.5037834119125, 1417.8110399156294, 1388.072904388417, 1353.0127036016293, 1299.1685811559703, 1197.602314717966, 1000.5932742397189, 983.1136157227022, 982.1707724099524, 977.1528723530886, 897.0833095775981, 890.7248117121305, 888.9515698697148, 868.4568909847318, 866.9979990622228, 4022.6995903788297, 2379.04203377292, 5437.8104415559965, 2164.4972500174276, 3341.7554545073185, 1518.7784725088377, 1411.8156822706844, 3591.9149556114658, 3258.72275836903, 2885.5869260761783, 1903.6614126667835, 2139.9007450978656, 2082.908031094543, 1740.8880237764797, 1520.7522431749417, 1448.7577160061956, 2819.9044793698054, 2409.2684107374866, 2391.2669827297564, 2381.00041923567, 2378.0097108415853, 2338.3660154517, 1924.6423540853932, 1831.6699179385319, 1708.0703830843233, 1686.382055934018, 1549.9749937093895, 1451.783906417619, 1448.8465373527438, 1412.3183617401803, 1385.0901562688084, 1349.9547592201923, 1321.60258952141, 1303.3369796250888, 1301.7247553841457, 1270.4447462276917, 1247.1058116963172, 1202.6638267237292, 1198.6553033380303, 1172.2041579207244, 1135.3129307448323, 1135.3129307448323, 1091.5096279883735, 1010.2768737824986, 975.4354386449845, 969.8201176002226, 1778.572799578867, 2801.088269946161, 2771.054389287242, 2816.6898252064343, 2029.2581172559594, 1984.7179243869114, 1527.5827991825686, 1351.2165056850893, 1828.9024935354553, 1969.458111429414, 1555.3958842960656, 1875.362769900387, 1487.3497240582676, 1439.3880051361355, 1359.6776056810468, 4969.773081266791, 3335.2500144836968, 3111.037933300116, 2940.089450929334, 2936.4418976604193, 2158.8230936985537, 2156.584799957211, 1957.0918459970699, 1792.2140295369682, 1785.0379024780627, 1488.420335392079, 1478.6440443631848, 1439.6902862580937, 1341.3330950485117, 1324.4154460934133, 1202.8069522164503, 1162.2323607124558, 974.2134054859255, 944.5923237307957, 929.1346084647595, 927.5457084182307, 916.0342897137874, 897.2853431416257, 823.0050982062829, 747.416448887161, 702.7791705333823, 671.5838608125445, 653.9978307639227, 653.5043433396788, 647.0750128650694, 3350.6539732183223, 1566.887486684995, 4519.201616718336, 2516.3052605260586, 2155.8756082859427, 1852.566832576919, 4004.964664529158, 1654.282907394326, 1185.6683589854629, 4653.589986169354, 1598.4441734552918, 2269.0922884074243, 1257.3046086505497, 1629.4774738131173, 1776.0809053739906, 2600.42042316618, 1926.600056386847, 2019.8666520256147, 1751.458071386862, 1808.321385087412, 1689.434747144892, 1602.181238746693, 12425.543400801711, 3692.8431340247803, 2110.505121547125, 2041.3844941821078, 1942.9758442137295, 1898.5035223645589, 1815.5843284357884, 1567.1976933013593, 1481.8189500342696, 1323.2069922871606, 1201.0620825067863, 999.9646566246463, 983.4550071692687, 888.1044140015885, 830.9011237514924, 779.3574736354005, 761.5441035128387, 732.7732072186373, 721.6138053180822, 708.3729204554583, 656.0694425400419, 645.8821083234527, 645.6928498275944, 611.9206175341493, 499.04058704924125, 490.04576160274627, 469.2142141482565, 461.858232091255, 442.136865961161, 420.6518810189469, 4082.0310604765546, 1791.2168464785582, 2027.921005279117, 3457.4012392685036, 1967.300067086192, 2674.8883758916777, 5803.6052866339, 1122.7370935034307, 1083.1569235260124, 1820.8574306227754, 1191.1748581907725, 1440.8352030023284, 1375.7432581524827, 1585.354973147824, 852.4402726727592, 1008.8152851219158, 968.2977448514389, 3868.190279335526, 2770.9085165186443, 2674.605909685197, 2618.7632099581388, 2197.872812754741, 2071.0493506121097, 1702.4417975951935, 1540.4732359051798, 1389.7776582137953, 1340.3258317182613, 1273.9761251095738, 1197.1183574479116, 972.0100408934862, 952.7509791486584, 935.7823073752105, 932.7149931228679, 823.0835248985303, 768.3374877302597, 759.2584775700319, 743.3569515577225, 689.3959476807574, 682.7210158169183, 611.6305790364554, 579.9708132245975, 562.5491721333896, 559.0654196548824, 450.2855596967665, 425.9865858435583, 408.2269612012543, 400.36337005628684, 1662.5714155407395, 943.5294936767042, 957.3305427398667, 2587.1718031034725, 1062.6514232460734, 1899.7951611783283, 1867.4706997886549, 1460.2021425198395, 1724.581504174268, 3240.4578411862376, 1377.2875117626818, 1314.9258975307841, 1433.503712506138, 1506.6473101603965, 1558.448316952297, 1300.6157647982882, 1138.9363704171058, 1089.3594218919793, 1139.980648769077, 4248.147605055736, 2255.7270439131817, 1712.7031552205692, 1617.1647826038131, 1234.4025353493298, 1011.5708526700405, 973.9746545922802, 888.3652604579153, 888.3652604579153, 888.3652604579153, 831.4021354217073, 720.5630840080253, 518.0197819825167, 496.4103420587096, 481.06046519241715, 449.8746725619844, 448.84967317154354, 448.8495147236551, 444.202436215015, 399.27227956007215, 369.6816610466998, 362.3632699745583, 360.2871669040529, 359.250759265643, 355.4529218271707, 338.56031709489775, 327.1674979889928, 318.1356712570424, 299.8550432158831, 299.20065343654767, 723.2343569595546, 1418.682816855284, 6338.292644332114, 985.096745674767, 4429.019038689385, 1268.6527101425584, 1218.7638079823766, 963.6974076510566, 1408.964415616655, 957.4952819531082, 1838.910859575326, 824.8324898464784, 1298.7724653794394, 812.6880929876546, 506.9091783719432, 654.0930460523089, 933.0166676650867, 843.9524757707629, 702.1112728293722, 786.7734654865296, 2101.186995642297, 1494.3263736552685, 1446.8775214193788, 1366.894118472935, 1143.2926856305155, 1088.5819577481245, 1026.5334343708869, 787.697962666793, 712.1639787935128, 673.1412820420617, 655.4339514219176, 430.51097619856006, 427.8857394454136, 423.1898177855979, 401.05489110001497, 397.5568656603618, 391.86779971534503, 391.86772074185507, 391.86772074185507, 391.86772074185507, 391.86772074185507, 391.86772074185507, 391.86772074185507, 391.86772074185507, 391.86772074185507, 368.62727049486256, 329.3393017906463, 322.79719053161205, 297.9670039317876, 278.73543230648255, 2475.7102426258634, 5417.485800469812, 2949.143047371019, 956.0253760474554, 806.029815645516, 1261.4844106999753, 2721.7244572160307, 1259.3206423731435, 2211.5405491845436, 692.9016075071246, 1013.6016833374284, 621.3063474719536, 820.415889821027, 954.7438995504219, 505.8510011805062, 551.5324267111613, 609.7339934456195, 504.1734989558356, 508.0115052697531, 2556.360521148041, 1163.0196812784234, 1059.9842672569278, 1058.0321502549812, 1056.4987697209685, 960.3909610999326, 927.5948517894185, 808.4552305141962, 768.5975305888262, 718.4926540128331, 639.6058923335318, 634.519786411155, 619.1321360570502, 506.4185774015934, 490.60926308364884, 227.70502278578968, 222.52690984923524, 138.70530491546816, 134.84401623097668, 1683.9577496679567, 570.4894914092197, 2784.7392862058323, 386.4180370849014, 819.0997624572996, 452.49300500844345, 1012.3515041431234, 2055.3095597661804, 2999.225410336482, 188.313487375861, 1568.3282482603286, 1158.6994291956514, 1137.0129577402517, 444.8166402533998, 700.0623421552121, 1459.7135498097787, 1404.5316111826887, 1020.5485972323858, 1216.0338091873748, 1282.2967380310738, 1225.8738548002614, 1107.453299706866, 904.526393159699, 760.2052885314245, 755.1192348857604, 727.0496199916407, 2017.8464244589388, 1848.2883738198177, 1338.8308704772128, 1280.9743679343142, 1133.245320709037, 1069.9662692876823, 930.353283448146, 840.5432023207762, 824.3234992035066, 679.4401052496145, 515.7390174234181, 500.54635578481185, 496.94954173605197, 487.99592991937146, 419.19629654017183, 388.9108784225787, 382.4200109794007, 381.64640806950626, 343.58966529154935, 316.1710640840449, 316.17056181861716, 301.78111391989313, 300.58670390257134, 290.4746168768965, 272.3135665605723, 265.2589974957858, 265.158179126298, 256.51250167729216, 253.65579856649768, 246.9285695790925, 4387.950405488486, 1628.624141471185, 1281.2704305736977, 563.573772226888, 849.9029642264939, 1114.0255405316107, 707.6990650084043, 917.1474468600481, 634.0421596593802, 681.6356444155796, 442.13987259857976, 481.36648287864114, 536.0347414679686, 425.1724332409423, 412.1979127125478, 2020.1527457007148, 1520.8045703684566, 1495.4152798191985, 1334.816353223766, 1213.2531634858524, 1062.397109512929, 1056.5269820295584, 1033.7880564260297, 872.2821556075266, 842.7280174170977, 799.3666551700591, 787.7674347354631, 772.2322746869121, 741.991816988937, 674.7287427102639, 595.9566275644506, 552.0381263208064, 535.1062550980622, 522.3412948444121, 501.74669289915715, 414.0749184753455, 388.70646349236836, 315.93084455085335, 250.47700543002685, 235.19804193190834, 137.66447032814662, 85.04661444467084, 649.388850658926, 0.09866232876677779, 0.09663450972807582, 0.0011726767952910363, 0.0011726767952910363, 0.0011726767952910363, 0.0011726767952910363, 0.0011726767952910363, 0.0011726767952910363, 0.0011726767952910363, 0.0011726767952910363, 0.0011726767952910363, 0.0011726767952910363, 0.0011726767952910363, 0.0011726767952910363, 0.0011726767952910363, 0.0011726767952910363, 0.0011726767952910363, 0.0011726767952910363, 0.0011726767952910363, 0.0011726767952910363, 0.0011726767952910363, 0.0011726767952910363, 0.0011726767952910363, 0.0011726767952910363, 0.0011726767952910363, 0.0011726767952910363, 0.0011726767952910363, 0.0011726767952910363, 0.0011726767952910363, 0.0011726767952910363, 0.0011726767952910363, 0.0011726767952910363, 0.0011726767952910363, 0.0011726767952910363, 0.0011726767952910363, 0.0011726767952910363, 0.0011726767952910363, 0.0011726767952910363, 0.0011726767952910363, 0.0011726767952910363, 0.0011726767952910363, 0.0011726767952910363, 0.0011726767952910363, 0.0011726767952910363, 0.0011726767952910363, 0.0011726767952910363, 0.0011726767952910363, 0.0011726767952910363, 0.0011726767952910363, 0.0011726767952910363, 0.0011726767952910363, 0.0011726767952910363, 0.0011726767952910363, 0.0011726767952910363, 0.0011726767952910363, 0.0011726767952910363, 0.0011726767952910363, 0.0011726767952910363, 0.0011726767952910363, 0.0011726767952910363, 0.0011726767952910363, 0.0011726767952910363, 0.0011726767952910363, 0.0011726767952910363, 0.0011726767952910363, 0.0011726767952910363, 0.0011726767952910363, 0.0011726767952910363, 0.0011726767952910363, 0.0011726767952910363, 0.0011726767952910363, 0.0011726767952910363, 0.0011726767952910363, 0.0011726767952910363, 0.0011726767952910363, 0.0011726767952910363, 0.0011726767952910363, 0.0011726767952910363, 0.0011726767952910363, 0.0011726767952910363, 0.0011726767952910363, 0.0011726767952910363, 0.0011726767952910363, 0.0011726767952910363, 0.0011726767952910363, 0.0011726767952910363, 0.0011726767952910363, 0.0011726767952910363, 0.0011726767952910363, 0.0011726767952910363, 0.0011726767952910363, 0.0011726767952910363, 0.0011726767952910363, 0.0011726767952910363, 0.0011726767952910363, 0.0011726767952910363, 0.0011726767952910363, 0.0011726767952910363, 0.0011726767952910363, 0.0011726767952910363, 0.0011726767952910363, 0.0011726767952910363, 0.0011726767952910363, 0.0011726767952910363, 0.0011726767952910363, 0.0011726767952910363, 0.0011726767952910363, 0.0011726767952910363, 0.0011726767952910363, 0.0011726767952910363, 0.0011726767952910363, 0.0011726767952910363, 0.0011726767952910363, 0.0011726767952910363, 0.0011726767952910363, 0.0011726767952910363, 0.0011726767952910363, 0.0011726767952910363, 0.0011726767952910363, 0.0011726767952910363, 0.0011726767952910363, 0.0011726767952910363], \"Total\": [12426.0, 12727.0, 10521.0, 9863.0, 6080.0, 7617.0, 5606.0, 8654.0, 6531.0, 6277.0, 5573.0, 7501.0, 6630.0, 6662.0, 4970.0, 4249.0, 6228.0, 5046.0, 4374.0, 6530.0, 4865.0, 4314.0, 3869.0, 5251.0, 5651.0, 4592.0, 4031.0, 5242.0, 3349.0, 3693.0, 2990.1281255391846, 2836.6773671577976, 2807.4951241528483, 2767.844707761295, 2767.799393123508, 2746.2384674927807, 2745.7533221953117, 2656.8440107006923, 2412.6211507569838, 2274.27121529906, 2194.3267943722913, 2002.059332571489, 1943.1414171763922, 1715.3480642391332, 1701.8549394172564, 1700.293346968362, 1627.7766261639076, 1527.1463488908396, 1510.9812790584726, 1467.8759036103083, 1324.2240664629614, 1323.4527758036747, 1280.8320752904588, 1280.4517362427196, 1260.3784883162632, 1257.8769500404453, 1226.639414262182, 1184.7942774893643, 1177.1838955770136, 1162.7589004423044, 2768.127763439406, 1663.3065953599432, 1669.4457780541634, 7076.035559708681, 3343.744438041709, 3598.8600592599614, 4679.578748207849, 3779.730078616438, 4118.363616634181, 2088.369409110696, 4221.984695030245, 3919.0876902168047, 2570.493666806074, 3374.4563476710846, 4209.07220938887, 5658.519060972043, 4411.578223497929, 5691.463711450872, 2436.9554684079217, 4496.362270890421, 3296.644729319708, 5253.572003556723, 6116.487945844472, 5302.435749978392, 5433.157819755205, 6284.106567107055, 10521.58103624799, 9863.583832906346, 4592.724382856882, 3260.95222834767, 3173.893481635547, 2953.6504507622603, 2780.083445994891, 2276.8427515679045, 2011.1739112862572, 1839.0184630748297, 1790.1761058358047, 1715.5043239034674, 1630.5156105786193, 1559.6982249329847, 1550.8474822338544, 1367.4004093595559, 1361.1952419030235, 1326.6910555959726, 1275.211426692834, 1235.3249878322483, 1066.358572249966, 1028.1923682938002, 1024.2278725572069, 975.1058406030838, 911.3117484601567, 906.3815040642513, 898.5808402892984, 887.6832174240352, 851.2752006375836, 843.5836510483844, 12727.276131877068, 1968.5056922637584, 2389.1868659596753, 3863.0333766148087, 7501.637691990637, 3038.219410817767, 4746.3171477951855, 4245.37301238707, 2754.805573444403, 8654.565314999178, 2183.9141840781604, 3387.5009645960545, 5573.9676407226125, 4865.648291783789, 2174.8670519207885, 2165.7359945087946, 1834.8214210119734, 1764.8089738455672, 1715.4338131887523, 1449.4903976858727, 1380.0525990826388, 1212.7420717939297, 1183.65814589298, 1072.3458170503432, 956.5316299804946, 954.5700121666616, 954.1292623924469, 934.626842111037, 854.5875521683159, 848.441239276961, 761.6062285522942, 760.2011292326375, 703.984439066476, 702.8775390903843, 688.3489671348703, 644.102615200017, 543.2025854606849, 538.9305877745373, 533.702191246117, 447.5272949823136, 380.0554718276744, 370.47076474178505, 5242.896213656694, 2953.3930630574914, 2189.2441518662054, 4172.722087496242, 3623.407911073011, 1878.9766209981037, 4666.261302254467, 1836.559508406359, 3434.3467664217055, 6116.487945844472, 5232.0511932830805, 4280.311001919827, 3382.85230154257, 7501.637691990637, 5253.572003556723, 6467.883531521462, 5083.984192059377, 4844.758155588123, 6355.147443490671, 6662.952826907468, 4245.37301238707, 3453.9547766253468, 3111.724033426821, 6531.493668606719, 5046.709444143308, 3674.1632761666838, 2449.723294578878, 2441.468142311893, 2325.490091036885, 2274.5693918206116, 2264.9848895354835, 1970.214533953667, 1710.9125970585505, 1621.3622331092865, 1547.1406943041002, 1546.0213370443444, 1504.8547135390393, 1435.7014461228007, 1430.5358654682702, 1418.8431216714985, 1389.104986521726, 1354.0447856406265, 1300.2006647514445, 1198.6343995239188, 1001.6253579967336, 984.1457003414337, 983.2028563490393, 978.1849552697552, 898.1153927715527, 891.756894648812, 889.9836535113457, 869.4889751998991, 868.0300838677066, 4399.7652621626075, 2611.992832272974, 6630.957528250073, 2435.6867943918337, 4336.723868399606, 1684.6290425792936, 1592.0886566059678, 6467.883531521462, 5901.7066579270695, 4996.384053379998, 2873.6013878638023, 4179.47202949648, 4550.570413317673, 3023.869936170191, 4431.722563600322, 3034.3366613100416, 2820.934908579225, 2410.2988412005484, 2392.297410904111, 2382.030847217873, 2379.0401417206335, 2339.396445119364, 1925.6727830828897, 1832.7003465436133, 1709.1008141427023, 1687.4124856520166, 1551.00542405944, 1452.8143343273932, 1449.8769666852802, 1413.3487903059083, 1386.1205844435042, 1350.9852181805536, 1322.6330192857213, 1304.3674088629516, 1302.7551832799431, 1271.4751766636668, 1248.136240855967, 1203.6942547160606, 1199.6857308060619, 1173.234585993718, 1136.343357125234, 1136.343357125234, 1092.5400559467946, 1011.3073015866523, 976.465867401746, 970.8505498912904, 1828.0871245408644, 3047.0263977947743, 3645.3904406136267, 4214.77947131538, 2680.7994316688905, 3141.9835100568425, 2003.5488243459345, 1595.7008352787172, 3798.028254935184, 4927.75532024534, 2690.1330041582287, 5727.98887682665, 4044.309516568116, 5232.0511932830805, 5083.984192059377, 4970.795433676276, 3336.2723663559605, 3112.0602848414082, 2941.111802418782, 2937.4642510534245, 2159.8454446654573, 2157.607152331232, 1958.1141976811625, 1793.2363824110698, 1786.0602525339773, 1489.4426874947417, 1479.6663961743468, 1440.712640063543, 1342.3554464498663, 1325.4377978699652, 1203.8293033886237, 1163.25471233782, 975.2357582287694, 945.6146753686909, 930.1569618690247, 928.5680618451756, 917.0566419983677, 898.307695212869, 824.0274505291145, 748.4388002292637, 703.8015225542938, 672.606213895104, 655.0201829561648, 654.5266940675166, 648.0973651075029, 3530.179253470728, 1619.6027775815191, 5251.036884258785, 2803.0815295653993, 2383.1805923179404, 2024.622816062632, 4959.445069608847, 1849.1607307464124, 1252.6295939128129, 6662.952826907468, 1898.041083280435, 3589.6635163344286, 1460.9075362459673, 2208.903549536933, 2641.9586130447633, 6284.106567107055, 4927.75532024534, 5727.98887682665, 4280.311001919827, 5088.571516165142, 4745.378701393481, 4550.570413317673, 12426.574044563798, 3693.873779414209, 2111.535766199229, 2042.4151392802323, 1944.006490902897, 1899.5341687313896, 1816.6149727328575, 1568.2283377898423, 1482.8495948844006, 1324.2376362313566, 1202.092727529913, 1000.9953014210927, 984.4856515912204, 889.1350606108737, 831.9317688464786, 780.3881194838453, 762.5747497138615, 733.803850832867, 722.644452012925, 709.4035657922881, 657.1000892231806, 646.9127531602517, 646.7234955435921, 612.9512625563481, 500.07123191954594, 491.0764081519052, 470.24485977886917, 462.8888843943142, 443.16751202393897, 421.6825261079305, 4314.679824272519, 1849.598065960754, 2133.8620104970782, 3761.1705535240694, 2340.6248067608585, 3332.795825608654, 8654.565314999178, 1292.5252656832847, 1250.2051677637226, 2686.172930749063, 1758.2019419211863, 2984.4984961710365, 2820.115888819524, 4388.464623288921, 1034.1018990912432, 1966.9704415287583, 5651.437533534494, 3869.2193298028833, 2771.9375682555333, 2675.6349615626887, 2619.792262323311, 2198.901863470531, 2072.078403330063, 1703.4708498142402, 1541.5022881231039, 1390.8067100715766, 1341.3548839469076, 1275.0051770802907, 1198.1474083183336, 973.0390939946697, 953.7800310070807, 936.8113581935525, 933.7440442123666, 824.1125745337902, 769.3665397110872, 760.2875284752287, 744.386003543408, 690.4249997470812, 683.7500693269078, 612.6596304188228, 580.9998657167117, 563.5782256058658, 560.0944697344947, 451.31461321792165, 427.01563698260117, 409.25601443250866, 401.39242213594184, 1699.7536687987247, 981.7475756494737, 1006.1805695375291, 3099.862090974449, 1168.0735312907855, 2557.5812772756112, 2576.1299453303204, 1890.7094129170018, 2559.475071613853, 6530.628586118945, 2325.1357356319895, 2481.3879047418295, 3014.2848892138177, 4786.860118325947, 6355.147443490671, 3798.028254935184, 4042.1606466280114, 3660.9654898958233, 6277.29723257088, 4249.213178983765, 2256.7926169574644, 1713.7687286504422, 1618.230361226687, 1235.4681131499806, 1012.6364257272323, 975.0402278156666, 889.4308335065016, 889.4308335065016, 889.4308335065016, 832.4677096467962, 721.6286577599678, 519.0853588886731, 497.4759158712578, 482.1260382367001, 450.94024566900885, 449.91524622013, 449.9150877722415, 445.2680092636014, 400.33785261154406, 370.7472482836346, 363.42884779314426, 361.3527411152274, 360.31634277743115, 356.5184972163628, 339.6258978526569, 328.2330866614042, 319.20124977753363, 300.92062125805745, 300.2662312836459, 732.8076777916966, 1533.5452335010393, 7617.845452631073, 1105.1006625504922, 6277.29723257088, 2735.549345481989, 2653.220797025534, 1814.597077426288, 3559.0115527509, 1896.7177932254872, 6530.628586118945, 1513.0338448864927, 6228.973486981978, 2318.3863052807255, 648.1183294529502, 1519.5539671514277, 5691.463711450872, 5302.435749978392, 2445.306394798557, 5088.571516165142, 2102.218691211757, 1495.3580680368623, 1447.9092166265657, 1367.9258138536263, 1144.3243812787794, 1089.6136547174822, 1027.5651296499843, 788.7296570751982, 713.1956751358133, 674.1729799082539, 656.4656458708876, 431.5426727984768, 428.9174392125461, 424.2215138395525, 402.08658611517546, 398.5885610881364, 392.8994951237352, 392.89941615024526, 392.89941615024526, 392.89941615024526, 392.89941615024526, 392.89941615024526, 392.89941615024526, 392.89941615024526, 392.89941615024526, 369.65896777172344, 330.37099624598824, 323.82888745277864, 298.9986993052881, 279.76712675809523, 2529.747625435063, 6080.167154140674, 4031.2098524186877, 1123.164849749428, 967.4698223283209, 1878.2824529965776, 5651.437533534494, 1953.0640155246442, 6228.973486981978, 993.8608034274407, 2406.32189820943, 954.9864575360994, 1744.20962606097, 5433.157819755205, 1037.5175751774825, 1547.2951533068913, 2481.3879047418295, 1307.7830919254732, 3067.3600265132254, 2557.388809708523, 1164.04797171175, 1061.0125548299784, 1059.060438146807, 1057.5270597282931, 961.4192495974605, 928.6231396131786, 809.4835178040556, 769.6258187747701, 719.520943301592, 640.6341811869098, 635.548076343739, 620.1604236748225, 507.44686483441404, 491.63755092902613, 228.7333110711885, 223.55519689688714, 139.73359421003647, 135.87230356572377, 1813.0235324144376, 677.5941745237956, 3349.568877342143, 486.03587048126724, 1043.001703396193, 607.0160656113275, 1390.9733154826092, 2899.021347523291, 4374.910452929631, 279.74035456049944, 2405.92342798647, 1807.7260654580002, 2603.9436203041846, 752.3549930534647, 1507.9015740851287, 5088.571516165142, 4786.860118325947, 3296.644729319708, 4996.384053379998, 5727.98887682665, 5302.435749978392, 4431.722563600322, 4214.77947131538, 2425.415193708291, 2325.1357356319895, 4044.309516568116, 2018.897743276361, 1849.339692205269, 1339.882186711146, 1282.0256827054047, 1134.2966346126382, 1071.0175850148578, 931.4046019506933, 841.5945221880794, 825.3748163979868, 680.4914196680239, 516.7903302354124, 501.5976733690484, 498.0008602726938, 489.0472479722551, 420.2476126137959, 389.96219451568555, 383.47132869239925, 382.69772215879857, 344.64098126759234, 317.22237624580157, 317.22187398037386, 302.83242632191013, 301.638021365199, 291.5259313563486, 273.36487979114617, 266.31032034531023, 266.20949183356896, 257.56381455497564, 254.70711491782012, 247.97988187890678, 5606.080777574877, 4179.47202949648, 2993.4912995658037, 889.0821757147604, 1814.597077426288, 3460.898430277503, 2576.1299453303204, 5901.7066579270695, 2180.846137009203, 5651.437533534494, 1304.598542626637, 2445.306394798557, 5083.984192059377, 1920.353877207403, 1878.9766209981037, 2021.1836063228245, 1521.8354313991042, 1496.4461424118385, 1335.8472136467954, 1214.2840234275027, 1063.4279717230863, 1057.5578426956706, 1034.8189170969636, 873.3130156270665, 843.7588768718523, 800.397515252837, 788.7982952917296, 773.2631365808994, 743.0226766535318, 675.7596018297834, 596.9874882621486, 553.0689857760677, 536.137119377987, 523.3721543207654, 502.7775518453339, 415.10577889681457, 389.7373225874707, 316.96170372107827, 251.50786796310314, 236.22890178114866, 138.69532962117245, 86.07747394852586, 6277.29723257088, 1.1824927767692286, 1.1702556185617465, 1.120279012044695, 1.1203567279521622, 1.1203825232296345, 1.1204034031806862, 1.120439156665879, 1.120439156665879, 1.120463146272371, 1.1204737320234344, 1.1204737643017, 1.1204737643017, 1.1204737643017, 1.1204737643017, 1.1204737643017, 1.1204737643017, 1.1204737643017, 1.1204737643017, 1.1204737643017, 1.1204737643017, 1.120474874028032, 1.1204753335436304, 1.120491271885339, 1.1204957541391753, 1.1204976806194666, 1.1205059963662702, 1.1205143381009977, 1.1205371083648616, 1.120540528487058, 1.1205501777239193, 1.1205542116427307, 1.1205716292755898, 659.6785694934548, 563.9424714207528, 214.00895603973422, 738.7457662779232, 1795.656811230515, 334.2162546852082, 504.6081969927249, 612.9512625563481, 950.4794346848424, 2080.6276755333574, 395.5053075243138, 1354.0447856406265, 359.9260494069847, 345.7777700597245, 124.89807856657842, 668.5751037450655, 1034.1018990912432, 1235.2946012520035, 205.09589668840647, 1435.3702647811458, 2341.3951838891785, 3382.85230154257, 853.4838583604417, 6630.957528250073, 421.6825261079305, 3067.3600265132254, 1324.2376362313566, 1251.8664113652042, 4042.1606466280114, 1006.1805695375291, 1.120279012044695, 1.1203567279521622, 1.1203825232296345, 1.1204034031806862, 1.120439156665879, 1.120439156665879, 1.120463146272371, 1.1204737320234344, 1.1204737643017, 1.1204737643017, 1.1204737643017, 1.1204737643017, 1.1204737643017, 1.1204737643017, 1.1204737643017, 1.1204737643017, 1.1204737643017, 1.1204737643017, 1.120474874028032, 1.1204753335436304, 1.120491271885339, 1.1204957541391753, 1.1204976806194666, 1.1205059963662702, 1.1205143381009977, 1.1205371083648616, 1.120540528487058, 1.1205501777239193, 1.1205542116427307, 1.1205716292755898, 659.6785694934548, 563.9424714207528, 214.00895603973422, 738.7457662779232, 1795.656811230515, 334.2162546852082, 504.6081969927249, 612.9512625563481, 950.4794346848424, 2080.6276755333574, 395.5053075243138, 1354.0447856406265, 359.9260494069847, 345.7777700597245, 124.89807856657842, 668.5751037450655, 1034.1018990912432, 1235.2946012520035, 205.09589668840647, 1435.3702647811458, 2341.3951838891785, 3382.85230154257, 853.4838583604417, 6630.957528250073, 421.6825261079305, 3067.3600265132254, 1324.2376362313566, 1251.8664113652042, 4042.1606466280114, 1006.1805695375291], \"Category\": [\"Default\", \"Default\", \"Default\", \"Default\", \"Default\", \"Default\", \"Default\", \"Default\", \"Default\", \"Default\", \"Default\", \"Default\", \"Default\", \"Default\", \"Default\", \"Default\", \"Default\", \"Default\", \"Default\", \"Default\", \"Default\", \"Default\", \"Default\", \"Default\", \"Default\", \"Default\", \"Default\", \"Default\", \"Default\", \"Default\", \"Topic1\", \"Topic1\", \"Topic1\", \"Topic1\", \"Topic1\", \"Topic1\", \"Topic1\", \"Topic1\", \"Topic1\", \"Topic1\", \"Topic1\", \"Topic1\", \"Topic1\", \"Topic1\", \"Topic1\", \"Topic1\", \"Topic1\", \"Topic1\", \"Topic1\", \"Topic1\", \"Topic1\", \"Topic1\", \"Topic1\", \"Topic1\", \"Topic1\", \"Topic1\", \"Topic1\", \"Topic1\", \"Topic1\", \"Topic1\", \"Topic1\", \"Topic1\", \"Topic1\", \"Topic1\", \"Topic1\", \"Topic1\", \"Topic1\", \"Topic1\", \"Topic1\", \"Topic1\", \"Topic1\", \"Topic1\", \"Topic1\", \"Topic1\", \"Topic1\", \"Topic1\", \"Topic1\", \"Topic1\", \"Topic1\", \"Topic1\", \"Topic1\", \"Topic1\", \"Topic1\", \"Topic1\", \"Topic1\", \"Topic1\", \"Topic2\", \"Topic2\", \"Topic2\", \"Topic2\", \"Topic2\", \"Topic2\", \"Topic2\", \"Topic2\", \"Topic2\", \"Topic2\", \"Topic2\", \"Topic2\", \"Topic2\", \"Topic2\", \"Topic2\", \"Topic2\", \"Topic2\", \"Topic2\", \"Topic2\", \"Topic2\", \"Topic2\", \"Topic2\", \"Topic2\", \"Topic2\", \"Topic2\", \"Topic2\", \"Topic2\", \"Topic2\", \"Topic2\", \"Topic2\", \"Topic2\", \"Topic2\", \"Topic2\", \"Topic2\", \"Topic2\", \"Topic2\", \"Topic2\", \"Topic2\", \"Topic2\", \"Topic2\", \"Topic2\", \"Topic2\", \"Topic3\", \"Topic3\", \"Topic3\", \"Topic3\", \"Topic3\", \"Topic3\", \"Topic3\", \"Topic3\", \"Topic3\", \"Topic3\", \"Topic3\", \"Topic3\", \"Topic3\", \"Topic3\", \"Topic3\", \"Topic3\", \"Topic3\", \"Topic3\", \"Topic3\", \"Topic3\", \"Topic3\", \"Topic3\", \"Topic3\", \"Topic3\", \"Topic3\", \"Topic3\", \"Topic3\", \"Topic3\", \"Topic3\", \"Topic3\", \"Topic3\", \"Topic3\", \"Topic3\", \"Topic3\", \"Topic3\", \"Topic3\", \"Topic3\", \"Topic3\", \"Topic3\", \"Topic3\", \"Topic3\", \"Topic3\", \"Topic3\", \"Topic3\", \"Topic3\", \"Topic3\", \"Topic3\", \"Topic3\", \"Topic3\", \"Topic3\", \"Topic3\", \"Topic3\", \"Topic3\", \"Topic4\", \"Topic4\", \"Topic4\", \"Topic4\", \"Topic4\", \"Topic4\", \"Topic4\", \"Topic4\", \"Topic4\", \"Topic4\", \"Topic4\", \"Topic4\", \"Topic4\", \"Topic4\", \"Topic4\", \"Topic4\", \"Topic4\", \"Topic4\", \"Topic4\", \"Topic4\", \"Topic4\", \"Topic4\", \"Topic4\", \"Topic4\", \"Topic4\", \"Topic4\", \"Topic4\", \"Topic4\", \"Topic4\", \"Topic4\", \"Topic4\", \"Topic4\", \"Topic4\", \"Topic4\", \"Topic4\", \"Topic4\", \"Topic4\", \"Topic4\", \"Topic4\", \"Topic4\", \"Topic4\", \"Topic4\", \"Topic4\", \"Topic4\", \"Topic4\", \"Topic4\", \"Topic5\", \"Topic5\", \"Topic5\", \"Topic5\", \"Topic5\", \"Topic5\", \"Topic5\", \"Topic5\", \"Topic5\", \"Topic5\", \"Topic5\", \"Topic5\", \"Topic5\", \"Topic5\", \"Topic5\", \"Topic5\", \"Topic5\", \"Topic5\", \"Topic5\", \"Topic5\", \"Topic5\", \"Topic5\", \"Topic5\", \"Topic5\", \"Topic5\", \"Topic5\", \"Topic5\", \"Topic5\", \"Topic5\", \"Topic5\", \"Topic5\", \"Topic5\", \"Topic5\", \"Topic5\", \"Topic5\", \"Topic5\", \"Topic5\", \"Topic5\", \"Topic5\", \"Topic5\", \"Topic5\", \"Topic5\", \"Topic5\", \"Topic5\", \"Topic5\", \"Topic6\", \"Topic6\", \"Topic6\", \"Topic6\", \"Topic6\", \"Topic6\", \"Topic6\", \"Topic6\", \"Topic6\", \"Topic6\", \"Topic6\", \"Topic6\", \"Topic6\", \"Topic6\", \"Topic6\", \"Topic6\", \"Topic6\", \"Topic6\", \"Topic6\", \"Topic6\", \"Topic6\", \"Topic6\", \"Topic6\", \"Topic6\", \"Topic6\", \"Topic6\", \"Topic6\", \"Topic6\", \"Topic6\", \"Topic6\", \"Topic6\", \"Topic6\", \"Topic6\", \"Topic6\", \"Topic6\", \"Topic6\", \"Topic6\", \"Topic6\", \"Topic6\", \"Topic6\", \"Topic6\", \"Topic6\", \"Topic6\", \"Topic6\", \"Topic6\", \"Topic6\", \"Topic6\", \"Topic6\", \"Topic6\", \"Topic6\", \"Topic6\", \"Topic6\", \"Topic7\", \"Topic7\", \"Topic7\", \"Topic7\", \"Topic7\", \"Topic7\", \"Topic7\", \"Topic7\", \"Topic7\", \"Topic7\", \"Topic7\", \"Topic7\", \"Topic7\", \"Topic7\", \"Topic7\", \"Topic7\", \"Topic7\", \"Topic7\", \"Topic7\", \"Topic7\", \"Topic7\", \"Topic7\", \"Topic7\", \"Topic7\", \"Topic7\", \"Topic7\", \"Topic7\", \"Topic7\", \"Topic7\", \"Topic7\", \"Topic7\", \"Topic7\", \"Topic7\", \"Topic7\", \"Topic7\", \"Topic7\", \"Topic7\", \"Topic7\", \"Topic7\", \"Topic7\", \"Topic7\", \"Topic7\", \"Topic7\", \"Topic7\", \"Topic7\", \"Topic7\", \"Topic7\", \"Topic8\", \"Topic8\", \"Topic8\", \"Topic8\", \"Topic8\", \"Topic8\", \"Topic8\", \"Topic8\", \"Topic8\", \"Topic8\", \"Topic8\", \"Topic8\", \"Topic8\", \"Topic8\", \"Topic8\", \"Topic8\", \"Topic8\", \"Topic8\", \"Topic8\", \"Topic8\", \"Topic8\", \"Topic8\", \"Topic8\", \"Topic8\", \"Topic8\", \"Topic8\", \"Topic8\", \"Topic8\", \"Topic8\", \"Topic8\", \"Topic8\", \"Topic8\", \"Topic8\", \"Topic8\", \"Topic8\", \"Topic8\", \"Topic8\", \"Topic8\", \"Topic8\", \"Topic8\", \"Topic8\", \"Topic8\", \"Topic8\", \"Topic8\", \"Topic8\", \"Topic8\", \"Topic8\", \"Topic8\", \"Topic8\", \"Topic9\", \"Topic9\", \"Topic9\", \"Topic9\", \"Topic9\", \"Topic9\", \"Topic9\", \"Topic9\", \"Topic9\", \"Topic9\", \"Topic9\", \"Topic9\", \"Topic9\", \"Topic9\", \"Topic9\", \"Topic9\", \"Topic9\", \"Topic9\", \"Topic9\", \"Topic9\", \"Topic9\", \"Topic9\", \"Topic9\", \"Topic9\", \"Topic9\", \"Topic9\", \"Topic9\", \"Topic9\", \"Topic9\", \"Topic9\", \"Topic9\", \"Topic9\", \"Topic9\", \"Topic9\", \"Topic9\", \"Topic9\", \"Topic9\", \"Topic9\", \"Topic9\", \"Topic9\", \"Topic9\", \"Topic9\", \"Topic9\", \"Topic9\", \"Topic9\", \"Topic9\", \"Topic9\", \"Topic9\", \"Topic9\", \"Topic9\", \"Topic10\", \"Topic10\", \"Topic10\", \"Topic10\", \"Topic10\", \"Topic10\", \"Topic10\", \"Topic10\", \"Topic10\", \"Topic10\", \"Topic10\", \"Topic10\", \"Topic10\", \"Topic10\", \"Topic10\", \"Topic10\", \"Topic10\", \"Topic10\", \"Topic10\", \"Topic10\", \"Topic10\", \"Topic10\", \"Topic10\", \"Topic10\", \"Topic10\", \"Topic10\", \"Topic10\", \"Topic10\", \"Topic10\", \"Topic10\", \"Topic10\", \"Topic10\", \"Topic10\", \"Topic10\", \"Topic10\", \"Topic10\", \"Topic10\", \"Topic10\", \"Topic10\", \"Topic10\", \"Topic10\", \"Topic10\", \"Topic10\", \"Topic10\", \"Topic10\", \"Topic10\", \"Topic10\", \"Topic10\", \"Topic10\", \"Topic11\", \"Topic11\", \"Topic11\", \"Topic11\", \"Topic11\", \"Topic11\", \"Topic11\", \"Topic11\", \"Topic11\", \"Topic11\", \"Topic11\", \"Topic11\", \"Topic11\", \"Topic11\", \"Topic11\", \"Topic11\", \"Topic11\", \"Topic11\", \"Topic11\", \"Topic11\", \"Topic11\", \"Topic11\", \"Topic11\", \"Topic11\", \"Topic11\", \"Topic11\", \"Topic11\", \"Topic11\", \"Topic11\", \"Topic11\", \"Topic11\", \"Topic11\", \"Topic11\", \"Topic11\", \"Topic11\", \"Topic11\", \"Topic11\", \"Topic11\", \"Topic11\", \"Topic11\", \"Topic11\", \"Topic11\", \"Topic11\", \"Topic11\", \"Topic11\", \"Topic12\", \"Topic12\", \"Topic12\", \"Topic12\", \"Topic12\", \"Topic12\", \"Topic12\", \"Topic12\", \"Topic12\", \"Topic12\", \"Topic12\", \"Topic12\", \"Topic12\", \"Topic12\", \"Topic12\", \"Topic12\", \"Topic12\", \"Topic12\", \"Topic12\", \"Topic12\", \"Topic12\", \"Topic12\", \"Topic12\", \"Topic12\", \"Topic12\", \"Topic12\", \"Topic12\", \"Topic12\", \"Topic12\", \"Topic12\", \"Topic12\", \"Topic12\", \"Topic12\", \"Topic12\", \"Topic12\", \"Topic12\", \"Topic12\", \"Topic12\", \"Topic12\", \"Topic12\", \"Topic12\", \"Topic12\", \"Topic12\", \"Topic12\", \"Topic12\", \"Topic13\", \"Topic13\", \"Topic13\", \"Topic13\", \"Topic13\", \"Topic13\", \"Topic13\", \"Topic13\", \"Topic13\", \"Topic13\", \"Topic13\", \"Topic13\", \"Topic13\", \"Topic13\", \"Topic13\", \"Topic13\", \"Topic13\", \"Topic13\", \"Topic13\", \"Topic13\", \"Topic13\", \"Topic13\", \"Topic13\", \"Topic13\", \"Topic13\", \"Topic13\", \"Topic13\", \"Topic13\", \"Topic13\", \"Topic13\", \"Topic14\", \"Topic14\", \"Topic14\", \"Topic14\", \"Topic14\", \"Topic14\", \"Topic14\", \"Topic14\", \"Topic14\", \"Topic14\", \"Topic14\", \"Topic14\", \"Topic14\", \"Topic14\", \"Topic14\", \"Topic14\", \"Topic14\", \"Topic14\", \"Topic14\", \"Topic14\", \"Topic14\", \"Topic14\", \"Topic14\", \"Topic14\", \"Topic14\", \"Topic14\", \"Topic14\", \"Topic14\", \"Topic14\", \"Topic14\", \"Topic14\", \"Topic14\", \"Topic14\", \"Topic14\", \"Topic14\", \"Topic14\", \"Topic14\", \"Topic14\", \"Topic14\", \"Topic14\", \"Topic14\", \"Topic14\", \"Topic14\", \"Topic14\", \"Topic14\", \"Topic14\", \"Topic14\", \"Topic14\", \"Topic14\", \"Topic14\", \"Topic14\", \"Topic14\", \"Topic14\", \"Topic14\", \"Topic14\", \"Topic14\", \"Topic14\", \"Topic14\", \"Topic14\", \"Topic14\", \"Topic15\", \"Topic15\", \"Topic15\", \"Topic15\", \"Topic15\", \"Topic15\", \"Topic15\", \"Topic15\", \"Topic15\", \"Topic15\", \"Topic15\", \"Topic15\", \"Topic15\", \"Topic15\", \"Topic15\", \"Topic15\", \"Topic15\", \"Topic15\", \"Topic15\", \"Topic15\", \"Topic15\", \"Topic15\", \"Topic15\", \"Topic15\", \"Topic15\", \"Topic15\", \"Topic15\", \"Topic15\", \"Topic15\", \"Topic15\", \"Topic15\", \"Topic15\", \"Topic15\", \"Topic15\", \"Topic15\", \"Topic15\", \"Topic15\", \"Topic15\", \"Topic15\", \"Topic15\", \"Topic15\", \"Topic15\", \"Topic15\", \"Topic15\", \"Topic15\", \"Topic15\", \"Topic15\", \"Topic15\", \"Topic15\", \"Topic15\", \"Topic15\", \"Topic15\", \"Topic15\", \"Topic15\", \"Topic15\", \"Topic15\", \"Topic15\", \"Topic15\", \"Topic15\", \"Topic15\"], \"logprob\": [30.0, 29.0, 28.0, 27.0, 26.0, 25.0, 24.0, 23.0, 22.0, 21.0, 20.0, 19.0, 18.0, 17.0, 16.0, 15.0, 14.0, 13.0, 12.0, 11.0, 10.0, 9.0, 8.0, 7.0, 6.0, 5.0, 4.0, 3.0, 2.0, 1.0, -4.7347, -4.7874, -4.7978, -4.812, -4.812, -4.8198, -4.82, -4.8529, -4.9494, -5.0085, -5.0443, -5.136, -5.1659, -5.2907, -5.2986, -5.2995, -5.3431, -5.4069, -5.4176, -5.4466, -5.5496, -5.5502, -5.583, -5.5833, -5.5991, -5.6011, -5.6262, -5.661, -5.6674, -5.6798, -4.839, -5.335, -5.3364, -3.9897, -4.6899, -4.6442, -4.4097, -4.6186, -4.5566, -5.1561, -4.5554, -4.6469, -4.9909, -4.8348, -4.7102, -4.6204, -4.7675, -4.6488, -5.1149, -4.8203, -5.0076, -4.8629, -4.8685, -4.9066, -4.9094, -4.9386, -2.6651, -2.7297, -3.4942, -3.8367, -3.8638, -3.9357, -3.9963, -4.1961, -4.3202, -4.4097, -4.4367, -4.4793, -4.5302, -4.5746, -4.5803, -4.7063, -4.7108, -4.7365, -4.7761, -4.8079, -4.9551, -4.9916, -4.9955, -5.0447, -5.1124, -5.1179, -5.1265, -5.1387, -5.1807, -5.1897, -2.4957, -4.4066, -4.2369, -3.8206, -3.4233, -4.2909, -4.015, -4.1653, -4.4196, -4.1485, -4.7112, -4.7042, -3.2911, -3.4271, -4.2326, -4.2368, -4.4027, -4.4416, -4.47, -4.6386, -4.6877, -4.817, -4.8413, -4.9402, -5.0546, -5.0566, -5.0571, -5.0778, -5.1674, -5.1746, -5.2827, -5.2846, -5.3615, -5.3631, -5.384, -5.4506, -5.6212, -5.6291, -5.6389, -5.8154, -5.9792, -6.0048, -3.45, -4.0266, -4.3483, -3.7885, -3.9423, -4.6266, -3.92, -4.6454, -4.2385, -3.905, -4.1238, -4.2652, -4.4093, -4.0646, -4.262, -4.1788, -4.2961, -4.3919, -4.3229, -4.3117, -4.5035, -4.5722, -4.6261, -3.1193, -3.3772, -3.6947, -4.1002, -4.1036, -4.1522, -4.1744, -4.1786, -4.3181, -4.4593, -4.5131, -4.56, -4.5607, -4.5877, -4.6348, -4.6384, -4.6466, -4.6678, -4.6934, -4.734, -4.8154, -4.9951, -5.0128, -5.0137, -5.0188, -5.1043, -5.1114, -5.1134, -5.1368, -5.1384, -3.6038, -4.129, -3.3024, -4.2235, -3.7892, -4.5778, -4.6509, -3.717, -3.8144, -3.936, -4.3519, -4.235, -4.262, -4.4413, -4.5765, -4.625, -3.9199, -4.0773, -4.0848, -4.0891, -4.0904, -4.1072, -4.3019, -4.3514, -4.4213, -4.4341, -4.5184, -4.5838, -4.5859, -4.6114, -4.6309, -4.6566, -4.6778, -4.6917, -4.693, -4.7173, -4.7358, -4.7721, -4.7754, -4.7978, -4.8297, -4.8297, -4.8691, -4.9464, -4.9815, -4.9873, -4.3808, -3.9266, -3.9374, -3.9211, -4.249, -4.2712, -4.533, -4.6556, -4.3529, -4.2789, -4.5149, -4.3278, -4.5596, -4.5924, -4.6494, -3.2824, -3.6812, -3.7508, -3.8073, -3.8085, -4.1162, -4.1172, -4.2143, -4.3023, -4.3063, -4.488, -4.4946, -4.5213, -4.5921, -4.6048, -4.7011, -4.7354, -4.9119, -4.9427, -4.9592, -4.9609, -4.9734, -4.9941, -5.0805, -5.1769, -5.2384, -5.2838, -5.3104, -5.3111, -5.321, -3.6766, -4.4366, -3.3774, -3.9629, -4.1175, -4.2692, -3.4982, -4.3824, -4.7154, -3.3481, -4.4167, -4.0663, -4.6568, -4.3975, -4.3113, -3.9301, -4.23, -4.1827, -4.3253, -4.2933, -4.3613, -4.4144, -2.0526, -3.2659, -3.8254, -3.8587, -3.9081, -3.9313, -3.9759, -4.123, -4.1791, -4.2923, -4.3891, -4.5724, -4.589, -4.691, -4.7576, -4.8216, -4.8447, -4.8832, -4.8986, -4.9171, -4.9938, -5.0095, -5.0098, -5.0635, -5.2674, -5.2856, -5.329, -5.3448, -5.3885, -5.4383, -3.1657, -3.9894, -3.8653, -3.3318, -3.8957, -3.5884, -2.8138, -4.4566, -4.4924, -3.973, -4.3974, -4.2071, -4.2533, -4.1115, -4.732, -4.5635, -4.6045, -3.1139, -3.4475, -3.4829, -3.504, -3.6792, -3.7387, -3.9346, -4.0346, -4.1376, -4.1738, -4.2246, -4.2868, -4.4951, -4.5151, -4.5331, -4.5364, -4.6614, -4.7302, -4.7421, -4.7633, -4.8387, -4.8484, -4.9583, -5.0115, -5.042, -5.0482, -5.2646, -5.3201, -5.3626, -5.3821, -3.9583, -4.5248, -4.5103, -3.5161, -4.4059, -3.825, -3.8421, -4.0881, -3.9217, -3.291, -4.1466, -4.1929, -4.1066, -4.0568, -4.023, -4.2039, -4.3366, -4.3811, -4.3357, -2.9969, -3.63, -3.9054, -3.9628, -4.2328, -4.4319, -4.4698, -4.5618, -4.5618, -4.5618, -4.6281, -4.7712, -5.1012, -5.1438, -5.1752, -5.2422, -5.2445, -5.2445, -5.2549, -5.3615, -5.4385, -5.4585, -5.4643, -5.4672, -5.4778, -5.5265, -5.5607, -5.5887, -5.6479, -5.6501, -4.7675, -4.0937, -2.5968, -4.4584, -2.9553, -4.2055, -4.2456, -4.4804, -4.1006, -4.4869, -3.8343, -4.636, -4.182, -4.6508, -5.1229, -4.8679, -4.5128, -4.6131, -4.7971, -4.6832, -3.2923, -3.6331, -3.6654, -3.7223, -3.9009, -3.9499, -4.0086, -4.2734, -4.3742, -4.4306, -4.4573, -4.8776, -4.8837, -4.8947, -4.9485, -4.9572, -4.9716, -4.9716, -4.9716, -4.9716, -4.9716, -4.9716, -4.9716, -4.9716, -4.9716, -5.0328, -5.1455, -5.1655, -5.2456, -5.3123, -3.1283, -2.3452, -2.9533, -4.0798, -4.2504, -3.8025, -3.0335, -3.8042, -3.2411, -4.4017, -4.0213, -4.5107, -4.2327, -4.0811, -4.7163, -4.6299, -4.5295, -4.7196, -4.712, -3.0891, -3.8767, -3.9694, -3.9713, -3.9727, -4.0681, -4.1029, -4.2403, -4.2909, -4.3583, -4.4746, -4.4826, -4.5071, -4.7081, -4.7398, -5.5074, -5.5304, -6.0031, -6.0313, -3.5066, -4.589, -3.0035, -4.9785, -4.2272, -4.8207, -4.0154, -3.3073, -2.9293, -5.6973, -3.5777, -3.8804, -3.8993, -4.8378, -4.3843, -3.6495, -3.688, -4.0074, -3.8321, -3.779, -3.824, -3.9256, -4.128, -4.3019, -4.3086, -4.3465, -3.1904, -3.2781, -3.6006, -3.6448, -3.7673, -3.8248, -3.9646, -4.0661, -4.0856, -4.2789, -4.5545, -4.5844, -4.5916, -4.6098, -4.7618, -4.8368, -4.8536, -4.8556, -4.9607, -5.0439, -5.0439, -5.0904, -5.0944, -5.1286, -5.1932, -5.2194, -5.2198, -5.253, -5.2642, -5.291, -2.4135, -3.4046, -3.6445, -4.4658, -4.055, -3.7844, -4.2381, -3.9789, -4.348, -4.2756, -4.7085, -4.6235, -4.5159, -4.7476, -4.7786, -2.3751, -2.659, -2.6758, -2.7895, -2.8849, -3.0177, -3.0233, -3.045, -3.2149, -3.2494, -3.3022, -3.3168, -3.3367, -3.3767, -3.4717, -3.5958, -3.6724, -3.7035, -3.7277, -3.7679, -3.96, -4.0232, -4.2305, -4.4626, -4.5256, -5.0612, -5.5428, -3.51, -12.3021, -12.3228, -8.1531, -8.1531, -8.1531, -8.1531, -8.1531, -8.1531, -8.1531, -8.1531, -8.1531, -8.1531, -8.1531, -8.1531, -8.1531, -8.1531, -8.1531, -8.1531, -8.1531, -8.1531, -8.1531, -8.1531, -8.1531, -8.1531, -8.1531, -8.1531, -8.1531, -8.1531, -8.1531, -8.1531, -8.1531, -8.1531, -8.1531, -8.1531, -8.1531, -8.1531, -8.1531, -8.1531, -8.1531, -8.1531, -8.1531, -8.1531, -8.1531, -8.1531, -8.1531, -8.1531, -8.1531, -8.1531, -8.1531, -8.1531, -8.1531, -8.1531, -8.1531, -8.1531, -8.1531, -8.1531, -8.1531, -8.1531, -8.1531, -8.1531, -8.1531, -8.1531, -8.1531, -8.1531, -8.1531, -8.1531, -8.1531, -8.1531, -8.1531, -8.1531, -8.1531, -8.1531, -8.1531, -8.1531, -8.1531, -8.1531, -8.1531, -8.1531, -8.1531, -8.1531, -8.1531, -8.1531, -8.1531, -8.1531, -8.1531, -8.1531, -8.1531, -8.1531, -8.1531, -8.1531, -8.1531, -8.1531, -8.1531, -8.1531, -8.1531, -8.1531, -8.1531, -8.1531, -8.1531, -8.1531, -8.1531, -8.1531, -8.1531, -8.1531, -8.1531, -8.1531, -8.1531, -8.1531, -8.1531, -8.1531, -8.1531, -8.1531, -8.1531, -8.1531, -8.1531, -8.1531, -8.1531, -8.1531, -8.1531, -8.1531, -8.1531, -8.1531], \"loglift\": [30.0, 29.0, 28.0, 27.0, 26.0, 25.0, 24.0, 23.0, 22.0, 21.0, 20.0, 19.0, 18.0, 17.0, 16.0, 15.0, 14.0, 13.0, 12.0, 11.0, 10.0, 9.0, 8.0, 7.0, 6.0, 5.0, 4.0, 3.0, 2.0, 1.0, 1.4937, 1.4937, 1.4936, 1.4936, 1.4936, 1.4936, 1.4936, 1.4936, 1.4936, 1.4936, 1.4935, 1.4935, 1.4935, 1.4934, 1.4934, 1.4934, 1.4934, 1.4933, 1.4933, 1.4933, 1.4932, 1.4932, 1.4932, 1.4932, 1.4932, 1.4932, 1.4932, 1.4931, 1.4931, 1.4931, 1.4665, 1.4798, 1.4748, 1.3773, 1.4267, 1.3989, 1.3708, 1.3754, 1.3516, 1.4312, 1.328, 1.3109, 1.3887, 1.2726, 1.1763, 0.9701, 1.0719, 0.9359, 1.318, 1.0001, 1.1232, 0.8019, 0.6442, 0.749, 0.7217, 0.5471, 2.3052, 2.3052, 2.3051, 2.305, 2.3049, 2.3049, 2.3049, 2.3048, 2.3048, 2.3047, 2.3047, 2.3047, 2.3046, 2.3046, 2.3046, 2.3045, 2.3045, 2.3045, 2.3045, 2.3044, 2.3043, 2.3043, 2.3043, 2.3042, 2.3041, 2.3041, 2.3041, 2.3041, 2.3041, 2.304, 2.2842, 2.2398, 2.2159, 2.1516, 1.8853, 1.9215, 1.7513, 1.7126, 1.8908, 1.0171, 1.8314, 1.3994, 2.3145, 2.3144, 2.3142, 2.3142, 2.3141, 2.3141, 2.314, 2.3139, 2.3139, 2.3138, 2.3138, 2.3137, 2.3136, 2.3136, 2.3136, 2.3135, 2.3134, 2.3134, 2.3133, 2.3133, 2.3132, 2.3132, 2.3131, 2.313, 2.3127, 2.3127, 2.3127, 2.3123, 2.3119, 2.3119, 2.2168, 2.2142, 2.1919, 2.1066, 2.094, 2.0663, 1.8633, 2.0704, 1.8514, 1.6077, 1.5451, 1.6045, 1.6957, 1.244, 1.4028, 1.2781, 1.4015, 1.3539, 1.1515, 1.1154, 1.3744, 1.5119, 1.5624, 2.3278, 2.3278, 2.3277, 2.3275, 2.3275, 2.3275, 2.3275, 2.3275, 2.3274, 2.3274, 2.3273, 2.3273, 2.3273, 2.3273, 2.3272, 2.3272, 2.3272, 2.3272, 2.3272, 2.3272, 2.3271, 2.3269, 2.3269, 2.3269, 2.3269, 2.3268, 2.3268, 2.3268, 2.3268, 2.3268, 2.2384, 2.2345, 2.1296, 2.2099, 2.0673, 2.2243, 2.2078, 1.7398, 1.7341, 1.779, 1.9162, 1.6585, 1.5465, 1.7758, 1.2584, 1.5887, 2.3667, 2.3666, 2.3666, 2.3666, 2.3666, 2.3666, 2.3665, 2.3665, 2.3664, 2.3664, 2.3664, 2.3663, 2.3663, 2.3663, 2.3663, 2.3663, 2.3663, 2.3663, 2.3663, 2.3662, 2.3662, 2.3662, 2.3662, 2.3662, 2.3661, 2.3661, 2.3661, 2.366, 2.366, 2.366, 2.3396, 2.2829, 2.0928, 1.964, 2.0886, 1.9077, 2.0958, 2.2007, 1.6363, 1.4499, 1.8192, 1.2505, 1.3667, 1.0765, 1.0482, 2.4378, 2.4377, 2.4376, 2.4376, 2.4376, 2.4375, 2.4375, 2.4374, 2.4374, 2.4374, 2.4373, 2.4373, 2.4373, 2.4372, 2.4372, 2.4371, 2.4371, 2.4369, 2.4369, 2.4369, 2.4369, 2.4368, 2.4368, 2.4367, 2.4366, 2.4365, 2.4364, 2.4364, 2.4364, 2.4364, 2.3858, 2.4049, 2.2879, 2.33, 2.3377, 2.3492, 2.2242, 2.3266, 2.383, 2.079, 2.2662, 1.9793, 2.2879, 2.1337, 2.0409, 1.5556, 1.4988, 1.3956, 1.5444, 1.4034, 1.4052, 1.3941, 2.7513, 2.7511, 2.7509, 2.7509, 2.7508, 2.7508, 2.7508, 2.7507, 2.7507, 2.7506, 2.7505, 2.7503, 2.7503, 2.7502, 2.7501, 2.75, 2.75, 2.75, 2.7499, 2.7499, 2.7498, 2.7498, 2.7498, 2.7497, 2.7493, 2.7493, 2.7492, 2.7491, 2.749, 2.7489, 2.6959, 2.7193, 2.7004, 2.6672, 2.5776, 2.5315, 2.3518, 2.6105, 2.6079, 2.3626, 2.362, 2.0232, 2.0336, 1.7332, 2.5582, 2.0836, 0.9872, 2.8567, 2.8566, 2.8566, 2.8566, 2.8565, 2.8565, 2.8564, 2.8563, 2.8562, 2.8562, 2.8562, 2.8561, 2.8559, 2.8559, 2.8559, 2.8559, 2.8557, 2.8556, 2.8556, 2.8556, 2.8555, 2.8555, 2.8553, 2.8552, 2.8552, 2.8551, 2.8547, 2.8546, 2.8545, 2.8544, 2.8349, 2.8173, 2.8072, 2.6762, 2.7624, 2.5597, 2.5353, 2.5986, 2.4622, 2.1562, 2.3333, 2.2219, 2.1137, 1.701, 1.4514, 1.7853, 1.5903, 1.6448, 1.1511, 2.88, 2.8798, 2.8796, 2.8796, 2.8794, 2.8792, 2.8792, 2.8791, 2.8791, 2.8791, 2.879, 2.8788, 2.8782, 2.8781, 2.8781, 2.8779, 2.8779, 2.8779, 2.8779, 2.8776, 2.8774, 2.8773, 2.8773, 2.8773, 2.8773, 2.8771, 2.877, 2.8769, 2.8767, 2.8767, 2.8671, 2.8024, 2.6964, 2.7653, 2.5315, 2.1119, 2.1023, 2.2474, 1.9536, 2.1967, 1.6129, 2.2736, 1.3125, 1.832, 2.6345, 2.0373, 1.072, 1.0424, 1.6324, 1.0135, 3.2884, 3.2882, 3.2882, 3.2881, 3.288, 3.2879, 3.2879, 3.2876, 3.2874, 3.2874, 3.2873, 3.2865, 3.2865, 3.2865, 3.2863, 3.2863, 3.2863, 3.2863, 3.2863, 3.2863, 3.2863, 3.2863, 3.2863, 3.2863, 3.2863, 3.2861, 3.2858, 3.2857, 3.2854, 3.2852, 3.2673, 3.1735, 2.9763, 3.1278, 3.1063, 2.8908, 2.5583, 2.8501, 2.2534, 2.9282, 2.4243, 2.859, 2.5347, 1.5501, 2.5706, 2.2573, 1.8853, 2.3357, 1.4908, 3.2956, 3.2951, 3.295, 3.295, 3.295, 3.2949, 3.2949, 3.2947, 3.2947, 3.2946, 3.2944, 3.2944, 3.2943, 3.294, 3.2939, 3.2915, 3.2914, 3.2886, 3.2884, 3.2221, 3.1239, 3.1113, 3.0666, 3.0543, 3.0022, 2.9783, 2.952, 2.9185, 2.9002, 2.8681, 2.8512, 2.4674, 2.7704, 2.5287, 2.0472, 2.0698, 2.1234, 1.8829, 1.7993, 1.8315, 1.9093, 1.7571, 2.1358, 2.1713, 1.5799, 3.4308, 3.4307, 3.4305, 3.4305, 3.4304, 3.4303, 3.4302, 3.4301, 3.43, 3.4298, 3.4293, 3.4292, 3.4292, 3.4292, 3.4288, 3.4286, 3.4286, 3.4286, 3.4283, 3.428, 3.428, 3.4278, 3.4278, 3.4277, 3.4275, 3.4274, 3.4274, 3.4272, 3.4272, 3.4271, 3.1863, 2.4889, 2.5827, 2.9754, 2.6728, 2.2978, 2.1393, 1.5696, 2.196, 1.3161, 2.3493, 1.806, 1.1817, 1.9235, 1.9143, 4.2449, 4.2448, 4.2448, 4.2447, 4.2446, 4.2445, 4.2445, 4.2444, 4.2443, 4.2442, 4.2442, 4.2441, 4.2441, 4.2441, 4.2439, 4.2437, 4.2436, 4.2435, 4.2435, 4.2434, 4.243, 4.2428, 4.2422, 4.2413, 4.2411, 4.238, 4.2334, 1.9768, 1.7618, 1.7514, 5.9648, 5.9647, 5.9647, 5.9647, 5.9647, 5.9647, 5.9646, 5.9646, 5.9646, 5.9646, 5.9646, 5.9646, 5.9646, 5.9646, 5.9646, 5.9646, 5.9646, 5.9646, 5.9646, 5.9646, 5.9646, 5.9646, 5.9646, 5.9646, 5.9646, 5.9646, 5.9646, 5.9646, 5.9646, 5.9645, -0.4134, -0.2566, 0.7124, -0.5266, -1.4147, 0.2666, -0.1454, -0.3399, -0.7786, -1.562, 0.0982, -1.1325, 0.1925, 0.2326, 1.2509, -0.4268, -0.8629, -1.0407, 0.7549, -1.1908, -1.6801, -2.0481, -0.6709, -2.7211, 0.0341, -1.9502, -1.1102, -1.054, -2.2261, -0.8355, 5.9648, 5.9647, 5.9647, 5.9647, 5.9647, 5.9647, 5.9646, 5.9646, 5.9646, 5.9646, 5.9646, 5.9646, 5.9646, 5.9646, 5.9646, 5.9646, 5.9646, 5.9646, 5.9646, 5.9646, 5.9646, 5.9646, 5.9646, 5.9646, 5.9646, 5.9646, 5.9646, 5.9646, 5.9646, 5.9645, -0.4134, -0.2566, 0.7124, -0.5266, -1.4147, 0.2666, -0.1454, -0.3399, -0.7786, -1.562, 0.0982, -1.1325, 0.1925, 0.2326, 1.2509, -0.4268, -0.8629, -1.0407, 0.7549, -1.1908, -1.6801, -2.0481, -0.6709, -2.7211, 0.0341, -1.9502, -1.1102, -1.054, -2.2261, -0.8355]}, \"token.table\": {\"Topic\": [4, 4, 8, 3, 1, 7, 7, 8, 9, 12, 4, 7, 7, 4, 1, 2, 3, 6, 3, 4, 1, 2, 8, 12, 8, 4, 7, 3, 4, 11, 6, 12, 13, 1, 3, 10, 7, 1, 4, 7, 7, 2, 3, 4, 5, 6, 3, 4, 4, 2, 1, 2, 3, 8, 3, 8, 4, 1, 10, 10, 8, 12, 4, 4, 7, 1, 2, 7, 1, 4, 7, 1, 2, 3, 6, 12, 12, 3, 5, 7, 2, 4, 7, 4, 8, 11, 8, 5, 7, 1, 3, 10, 3, 1, 3, 4, 12, 6, 9, 1, 3, 4, 1, 2, 4, 13, 2, 3, 7, 9, 1, 3, 9, 10, 11, 3, 6, 2, 8, 11, 2, 8, 5, 1, 3, 8, 10, 1, 1, 2, 1, 5, 7, 4, 7, 1, 3, 4, 7, 8, 9, 11, 10, 8, 13, 3, 5, 12, 9, 3, 10, 3, 3, 8, 10, 3, 5, 1, 5, 9, 8, 1, 1, 12, 4, 13, 1, 3, 5, 3, 5, 7, 8, 11, 13, 4, 2, 11, 8, 7, 3, 7, 12, 8, 4, 11, 12, 6, 3, 6, 5, 4, 6, 9, 11, 1, 4, 3, 6, 13, 6, 8, 3, 2, 8, 1, 7, 6, 5, 8, 3, 1, 10, 1, 4, 6, 8, 13, 10, 6, 4, 4, 5, 8, 4, 1, 9, 11, 12, 9, 2, 4, 6, 12, 12, 11, 3, 10, 4, 7, 12, 12, 4, 7, 13, 1, 13, 1, 1, 9, 12, 9, 9, 10, 12, 6, 12, 8, 10, 3, 12, 9, 2, 1, 11, 1, 3, 4, 5, 13, 2, 7, 7, 8, 5, 7, 2, 3, 8, 9, 9, 9, 1, 8, 1, 3, 4, 5, 7, 2, 8, 10, 7, 2, 2, 2, 12, 2, 3, 8, 6, 13, 7, 6, 1, 3, 4, 2, 5, 1, 9, 10, 11, 11, 3, 9, 1, 11, 7, 11, 10, 11, 5, 11, 1, 3, 5, 6, 1, 10, 2, 3, 7, 7, 7, 1, 3, 6, 9, 12, 1, 2, 12, 2, 8, 13, 11, 6, 11, 6, 2, 7, 3, 13, 10, 3, 1, 11, 1, 5, 9, 11, 9, 1, 13, 8, 3, 1, 4, 7, 2, 4, 3, 9, 11, 1, 10, 1, 4, 6, 8, 5, 7, 2, 1, 3, 12, 2, 8, 3, 10, 11, 8, 9, 11, 4, 7, 6, 8, 13, 4, 4, 7, 2, 4, 10, 2, 5, 5, 6, 10, 4, 8, 9, 1, 9, 8, 12, 6, 10, 1, 2, 1, 1, 3, 1, 1, 9, 11, 9, 13, 1, 11, 10, 3, 5, 6, 3, 1, 3, 4, 5, 4, 3, 6, 13, 10, 1, 3, 6, 11, 8, 2, 8, 9, 13, 9, 9, 8, 12, 12, 1, 3, 10, 8, 1, 3, 9, 11, 1, 2, 5, 9, 11, 6, 5, 1, 8, 9, 4, 8, 7, 7, 12, 10, 11, 12, 3, 1, 7, 1, 12, 13, 12, 12, 8, 4, 7, 12, 3, 13, 3, 4, 9, 1, 3, 3, 1, 2, 3, 5, 9, 10, 13, 5, 6, 11, 10, 5, 2, 5, 1, 3, 6, 8, 3, 4, 8, 1, 9, 9, 10, 11, 7, 9, 12, 1, 2, 3, 8, 9, 1, 1, 10, 5, 1, 1, 7, 9, 12, 9, 9, 3, 4, 1, 4, 2, 5, 4, 2, 8, 6, 7, 6, 10, 1, 12, 1, 2, 3, 3, 1, 6, 9, 10, 12, 6, 6, 10, 3, 9, 10, 10, 9, 1, 11, 1, 3, 3, 4, 1, 11, 11, 5, 12, 9, 9, 2, 6, 10, 1, 5, 6, 13, 2, 1, 1, 2, 8, 11, 3, 4, 5, 8, 1, 9, 4, 2, 8, 3, 4, 6, 8, 3, 2, 3, 4, 9, 9, 12, 6, 4, 2, 6, 12, 7, 2, 3, 8, 2, 5, 13, 1, 2, 2, 2, 2, 7, 5, 6, 9, 11, 12, 1, 2, 8, 9, 11, 12, 1, 5, 6, 6, 4, 13, 8, 9, 12, 7, 10, 10, 3, 4, 9, 11, 1, 8, 12, 2, 7, 10, 12, 1, 2, 1, 9, 11, 4, 4, 7, 1, 2, 1, 9, 11, 2, 5, 1, 3, 5, 9, 11, 1, 9, 11, 1, 2, 6, 13, 5, 3, 5, 6, 1, 3, 7, 4, 10, 6, 13, 1, 9, 4, 7, 7, 4, 8, 3, 5, 6, 1, 4, 8, 1, 3, 5, 1, 9, 12, 12, 3, 11, 1, 2, 3, 2, 9, 10, 10, 2, 5, 10, 10, 1, 3, 5, 8, 9, 12, 12, 9, 11, 3, 6, 9, 4, 9, 3, 3, 4, 4, 9, 11, 4, 3, 5, 5, 2, 9, 11, 9, 1, 3, 4, 5, 1, 12, 2, 8, 5, 9, 11, 12, 12, 3, 5, 1, 10, 6, 12, 1, 9, 11, 9, 7, 7, 1, 3, 6, 4, 3, 4, 6, 9, 9, 3, 1, 3, 5, 1, 1, 2, 5, 1, 3, 4, 7, 3, 4, 10, 1, 1, 3, 5, 6, 8, 9, 1, 3, 9, 10, 9, 6, 1, 5, 3, 11, 1, 3, 4, 4, 3, 2, 7, 2, 2, 4, 5, 4, 7, 13, 3, 7, 3, 5, 9, 6, 3, 3, 5, 6, 9, 10, 12, 6, 7, 13, 3, 6, 8, 5, 6, 1, 3, 10, 6, 1, 9, 11, 11, 3, 4, 12, 10, 10, 1, 4, 12, 5, 7, 6, 5, 5, 3, 7, 1, 6, 9, 11, 6, 9, 6, 9, 9, 2, 3, 5, 7, 10, 12, 12, 1, 1, 9, 5, 6, 5, 8, 1, 4, 7, 11, 12, 12, 1, 11, 2], \"Freq\": [0.9988358427608471, 0.9989713634414775, 0.9997626875220984, 0.9987515050039585, 0.5170047838789641, 0.48282818766661517, 0.16034788545055148, 0.24118994436520452, 0.1700355701965223, 0.42792841929615927, 0.6951063625557864, 0.3032224183597946, 0.9992167353693063, 0.9952854494577933, 0.3546608407682588, 0.12391002636466796, 0.16521336848622395, 0.3559252287923881, 0.29374110811264204, 0.7052493886022418, 0.14757831136919905, 0.23111320459704757, 0.41934516400379956, 0.20159754232320776, 0.9989740100316258, 0.5505417448152127, 0.44581913031231896, 0.3051872738449, 0.693607440556591, 0.9935799751470187, 0.998442516760994, 0.9975325953920211, 0.9984965120139384, 0.28368618793944633, 0.3303300085979537, 0.38538501003094594, 0.9984480616739726, 0.8448367957232622, 0.02630251543347641, 0.12835627531536487, 0.9992463037701194, 0.9993081290187891, 0.3229794585077489, 0.059116775887579034, 0.0999698323952556, 0.5176322571619725, 0.6978414568634652, 0.30088091799547956, 0.999625409274101, 0.9997079907091578, 0.655774385817452, 0.18814128594140517, 0.15595325870805632, 0.9979360542454239, 0.8020074116191453, 0.1978800117449853, 0.9992283965407155, 0.6430576596026157, 0.3567515860307979, 0.9990748958548054, 0.7247305219925957, 0.2748308567599131, 0.9995114261919182, 0.5167728212682972, 0.4806542907495452, 0.9993503634812784, 0.9988011724830909, 0.997750664944163, 0.9992393389230935, 0.26421543372589956, 0.7285940748199049, 0.12884506049189856, 0.028430600202437713, 0.03508457046258271, 0.8075500270266882, 0.9961466266652816, 0.9983343126411506, 0.9994439729956968, 0.24380207861008474, 0.7553377282091582, 0.9987259705268748, 0.17503110685616252, 0.8239033317207208, 0.6370949886791012, 0.3626665246864515, 0.997886172298734, 0.9994795547657223, 0.999355910351459, 0.99465666204882, 0.6005419097430106, 0.24105278511726408, 0.15745066311127653, 0.9960300113213787, 0.4668156864423333, 0.3728546150632726, 0.12471196746675327, 0.03544894965664562, 0.5685879005795784, 0.430389452522042, 0.05025345029769125, 0.538598743778785, 0.41089585831641673, 0.9982614101650473, 0.1797628766164895, 0.8200927206715352, 0.998987960171194, 0.6570565258386984, 0.3428584671245957, 0.9983814218857249, 0.9963467025467555, 0.5780214857971631, 0.059660424083971146, 0.15811642448484156, 0.165614729151133, 0.03879557631689927, 0.999444210767494, 0.99934997268475, 0.9993536026328901, 0.9976215461574711, 0.994750051237258, 0.08903549067247014, 0.9100454479311132, 0.9996506244005731, 0.1012103102881642, 0.0697061205661131, 0.09748934299815816, 0.7315421692151869, 0.9994976426031063, 0.9990756349367438, 0.998865927618278, 0.9993296072538033, 0.9993517598044187, 0.9990653971783502, 0.33310263476535557, 0.6662052695307111, 0.4720247824864809, 0.10959485253747958, 0.00816395064048945, 0.056652869596123756, 0.2817799933187116, 0.061353326025496466, 0.010390482633350209, 0.9977106228567386, 0.9980459194053218, 0.9973782435510995, 0.2370793235623122, 0.7626467503225538, 0.998140147856953, 0.9991288348193941, 0.020950706492267237, 0.9787537599028996, 0.9988164471660629, 0.04770515497239451, 0.9511215272621156, 0.9994202833335792, 0.15291086813110624, 0.8466499296931332, 0.9989942985276457, 0.2160099377503614, 0.7822645602816659, 0.9995898573349209, 0.998866231188862, 0.7088991624691934, 0.2907128518793458, 0.9993393771354431, 0.9992086372954402, 0.42753292790785685, 0.49309342660424327, 0.07913037747893029, 0.03343840315958032, 0.48156566440057014, 0.04291700563001254, 0.3425461615008976, 0.09926203142647072, 0.9991005998364536, 0.9994707314222162, 0.9994535360546005, 0.9991868531960552, 0.9990423479528749, 0.9988799936709106, 0.6274885136026712, 0.1510138331491906, 0.22131337616691726, 0.9970871467942323, 0.9995651672821158, 0.9981288330720198, 0.9981768322140442, 0.9997185992220242, 0.1575308367315371, 0.8419206591872784, 0.9992707409620066, 0.4577448123654793, 0.3520437779210263, 0.04395053407253762, 0.1459157731208249, 0.9091767799031413, 0.09058423907347923, 0.1389547216120471, 0.8604240643662227, 0.9969658677695507, 0.9994063735909956, 0.9991821688631318, 0.9984199849402355, 0.3258480651949187, 0.673966321895965, 0.5116810999579267, 0.4879232110478912, 0.9985442680499813, 0.9995056877376212, 0.9991365570978802, 0.9980402859606441, 0.16641345940128247, 0.8331009209778489, 0.14331757477398685, 0.22891001526400678, 0.15227492319736102, 0.4757347273747619, 0.9947978347616111, 0.9972579810680955, 0.9983067897408888, 0.998813308562859, 0.9993986641535683, 0.9991629280546239, 0.9991339150764387, 0.9987886183861534, 0.3519689527760531, 0.3506749492732, 0.13112568828911783, 0.16606378286615253, 0.9979660878305446, 0.06455759699412499, 0.5522131459418722, 0.2277307358532913, 0.15537878331656854, 0.9984706946140954, 0.9987032094521231, 0.9998667614786535, 0.9994500303351314, 0.1327782065538322, 0.8662578174566282, 0.9993415938207886, 0.9961482038894661, 0.03081750627285175, 0.9683184865732892, 0.9978790512037177, 0.9994410449859681, 0.9982539735241487, 0.9993505683544378, 0.8998271537754774, 0.08636473330659576, 0.013227031227136287, 0.9989331436939817, 0.9976644318136842, 0.9993231987844295, 0.9954566164217573, 0.9990987090476113, 0.9978083196570626, 0.9981380580279446, 0.998742481722705, 0.7802119428294257, 0.21926829498344025, 0.9979090936199843, 0.9991219173662754, 0.3217269104466503, 0.6720517684885584, 0.3674099823906811, 0.05655005129505533, 0.5757522766356218, 0.9995627893357524, 0.9993657855193765, 0.9997797807245293, 0.9980797024420294, 0.9996614732664388, 0.9989321148542925, 0.9984988032345191, 0.9990056882188362, 0.19737763111192844, 0.024806187928729562, 0.4961237585745913, 0.28159617037613377, 0.9983912931139787, 0.9970331913080195, 0.9994674526270818, 0.9990254389275458, 0.4379663880164911, 0.10094646716509134, 0.08659064903551854, 0.01298859735532778, 0.3611741545297286, 0.22406815110910594, 0.5299453573893422, 0.24583016578517017, 0.9978080638083265, 0.9994791133979101, 0.9993430222691663, 0.3655455129765958, 0.6343620594424617, 0.5528371695848556, 0.39054283219927166, 0.05629658437613144, 0.9996219788659962, 0.9983664854547644, 0.9973655288524943, 0.9987561649093074, 0.9728597196879166, 0.02673287012881761, 0.9991512320752954, 0.6813201155353158, 0.31827852740224655, 0.08624900889722317, 0.03141167607985289, 0.6713580260456693, 0.21029850934816763, 0.9989986991217776, 0.9067507359037134, 0.0930783254356357, 0.2717521578541928, 0.7275481051546115, 0.999108203195735, 0.99909971776317, 0.2537000397920378, 0.7446260908181889, 0.9994030746168407, 0.9993289639396254, 0.5006117738977334, 0.4018218458928194, 0.060720591586835335, 0.03692725632553622, 0.34869604419224165, 0.6502710013314776, 0.999416305432529, 0.99897177815855, 0.9982212447252997, 0.9978578413410546, 0.9973527413368122, 0.572260522973575, 0.10085279096924532, 0.10155559787495434, 0.16392971075663046, 0.06131990252311258, 0.999478726792285, 0.9994461920338055, 0.9978585955107665, 0.16516863814385097, 0.834553255621372, 0.9940046886989462, 0.9985237973984246, 0.9980775980229473, 0.9975165108904034, 0.9991953054439331, 0.9990500189478573, 0.999746267049886, 0.9998264000107315, 0.9949866399750327, 0.9977108233983699, 0.9996013310698588, 0.6900955931849734, 0.3097088354469705, 0.4746875056449778, 0.13484368952568895, 0.15917213141214195, 0.23121449420768486, 0.9979149218149427, 0.999622716655668, 0.9973361515232255, 0.9969309811262022, 0.9986843013620059, 0.9993953524262229, 0.08056002664279632, 0.9191287528189666, 0.2292052780309526, 0.7706278060155369, 0.9983013092595673, 0.9962367008952163, 0.998167327967245, 0.5291795127197262, 0.4701269777141663, 0.38796286695092685, 0.179341325288636, 0.41374218788860123, 0.018777530065713442, 0.9996685820093254, 0.9997634517402629, 0.9985605930546017, 0.8013142626266875, 0.12327911732718268, 0.0749750401052337, 0.03768789546082933, 0.9615506301357538, 0.10887858560749752, 0.8909294535284201, 0.9991376319681556, 0.5922234899657249, 0.0825758243089464, 0.3247122257982007, 0.15893192233350845, 0.8403739011559439, 0.894459833857906, 0.10491245935213649, 0.998942567469612, 0.9982875283731381, 0.05376992255482516, 0.9460725166758462, 0.9984758028952967, 0.99968339018186, 0.9958501313324508, 0.936751164727099, 0.06299194383197412, 0.13921060089890894, 0.8605919363367571, 0.9985233869067149, 0.998758074095456, 0.9986499726273202, 0.9981570962149404, 0.9811639416700222, 0.01856903674711275, 0.9783770616452325, 0.021179539518477675, 0.9987531355557939, 0.9977673685133315, 0.9997256409782983, 0.9997184903523963, 0.9993473277718917, 0.8325917299950719, 0.16713073341917625, 0.999522891438896, 0.577407510355399, 0.39589643897360444, 0.02641182772428589, 0.9983912931139787, 0.9981081550451067, 0.20368866993699727, 0.7941800666230399, 0.9993720485952261, 0.4632982190831651, 0.2750355351735456, 0.26146533156178625, 0.9995416082660752, 0.050326859924190705, 0.812179658490868, 0.13708078036493848, 0.9996178608549215, 0.9998594244128456, 0.9992040131375415, 0.9995015254899189, 0.999451036963743, 0.9982601202611034, 0.34793380046153377, 0.11252163745610308, 0.10253678225522021, 0.4366453985924546, 0.9982238118756759, 0.009239645320450436, 0.18160682181574994, 0.7055584331771548, 0.10338844505124711, 0.9996487860907074, 0.995782971404301, 0.9996975858220878, 0.9979902438880413, 0.9961631324630805, 0.20722540527876948, 0.30457315380507516, 0.4877025817258482, 0.9983065242727172, 0.592204420254149, 0.23769470165378404, 0.05513810179626812, 0.11469432072364746, 0.9994125918132861, 0.9990704715926753, 0.9988397912198823, 0.070600297079178, 0.9288351584479356, 0.9988611525712748, 0.9995672401895731, 0.30227412694002104, 0.2382010576385203, 0.45944159693252573, 0.9994666021746993, 0.9989030065801, 0.9980214847232681, 0.9999538050824194, 0.9970312440181726, 0.9983234963734383, 0.5914761038455378, 0.408052053664225, 0.999164168749777, 0.9989062901905723, 0.9990909790027943, 0.9997612110684, 0.9950071135978076, 0.9983458811422945, 0.9995553299916498, 0.9992755834901962, 0.9996617642957509, 0.3216471992959388, 0.6779161457383155, 0.9972511981889771, 0.9993124728217428, 0.9984534873474759, 0.7835302877001061, 0.21616506199926486, 0.9982369170241824, 0.9390101154733279, 0.06033415326345707, 0.9993293129591472, 0.4619781135150405, 0.12515741720726195, 0.14374697476304646, 0.07840744077984352, 0.014908457049688557, 0.17577254916608112, 0.9874825096613524, 0.08446017630708658, 0.9152322029066164, 0.9990456712077826, 0.9972976315234147, 0.9988178246330119, 0.02680397413351219, 0.9731483670105752, 0.35089665815450144, 0.31250258434746186, 0.09126460167247123, 0.24515560242363824, 0.9987449785051197, 0.2274278622946043, 0.772196927790982, 0.535906984248423, 0.463892198506991, 0.9983912931139787, 0.21380597871880133, 0.785233616908961, 0.9997187896168531, 0.9866163004442695, 0.012281530710924516, 0.34119350170108464, 0.05614315333496371, 0.3826816407464071, 0.1543936716711502, 0.06563795132543551, 0.999682325835731, 0.3018531357363287, 0.6972807435509194, 0.9994203183455836, 0.9989022836097854, 0.12221303330306452, 0.016802651195265583, 0.8319937755905724, 0.02887955674186272, 0.9995514396793507, 0.9962564525979449, 0.11085169103912487, 0.8884557755876527, 0.09794441139835308, 0.9016821873581717, 0.42154049567331364, 0.5780383340141118, 0.9992045334712296, 0.9991231010715004, 0.9992031604196263, 0.9993105301547544, 0.9984909362682746, 0.9995053558608943, 0.9974403535790194, 0.9994032849724189, 0.9988568822536611, 0.9348800597424746, 0.06489730421116986, 0.9995523155536737, 0.9986016181440296, 0.370687081077743, 0.06566089916015456, 0.20854158437418285, 0.3551146917903714, 0.9991999515148243, 0.9989213778164729, 0.9994309843202802, 0.9994368144022192, 0.8843234768263151, 0.11510822115714431, 0.9977108233983699, 0.9977108233983699, 0.9969406508128004, 0.15643581952943358, 0.841211482375256, 0.8840539336119428, 0.11582239110893716, 0.08882107069111367, 0.9107988240265491, 0.1683798783225887, 0.8314502856886693, 0.9994569422908044, 0.21708570537694954, 0.7827215079655337, 0.9992396872187256, 0.996658191068327, 0.10203056778171649, 0.8975835962895059, 0.9990918108071298, 0.22306778826334064, 0.7568637832547126, 0.01977022203671748, 0.998067174613728, 0.9989274176064604, 0.9994708785327914, 0.16023029314427387, 0.23146696845352732, 0.3148201457215394, 0.29351181469061904, 0.44818189585923257, 0.35698209146927246, 0.19079578124756735, 0.004053324639553783, 0.1076824981041606, 0.8913215179209932, 0.9993835524341455, 0.9999408092518666, 0.9989233329795668, 0.9977861197776425, 0.9994320291976697, 0.9675211858675196, 0.032106637948379715, 0.9982732697017994, 0.055968849506299864, 0.3546755269819113, 0.5553594127807434, 0.033859607850496326, 0.5312474113356767, 0.46842354733954894, 0.9996085624239709, 0.9997713128600433, 0.052689159126312175, 0.9468082230879733, 0.9988084606433, 0.9994270525565563, 0.6606636844154515, 0.33904389079342406, 0.9994199696724679, 0.9998422760008012, 0.9988178246330119, 0.9990336154634287, 0.4251717567877707, 0.5747614234474918, 0.9996102829228195, 0.9989758600699763, 0.04920655575828003, 0.9503894769313513, 0.32734002113474153, 0.35265431610249487, 0.04120119732682613, 0.22381328378386062, 0.054643960861426186, 0.042065406086191276, 0.33816216061496623, 0.2974625144666383, 0.07183897273161238, 0.15515032894127692, 0.09533004366286205, 0.9993028332060484, 0.26166828339841725, 0.7374699544221829, 0.99903139106536, 0.9993756567845045, 0.9986236265922087, 0.4829071775073258, 0.17706596508601946, 0.3388015435845048, 0.9983258422252216, 0.9977108233983699, 0.9977108233983699, 0.13109480636439463, 0.5776177269735007, 0.04783459346731347, 0.24337600692992958, 0.9997425411126861, 0.9982790603308, 0.9950797237463002, 0.2758081906046863, 0.6706287131418514, 0.053497776392949205, 0.9992935764523114, 0.1421162973437964, 0.8576161987249499, 0.6147401087730323, 0.07132799384153896, 0.31334841225184745, 0.9987765939233477, 0.19713178795764214, 0.8026294258549356, 0.8387514776112663, 0.16085644776106478, 0.08463671732322804, 0.2738246736927966, 0.6411369632524269, 0.9996298595643796, 0.9994611285628376, 0.33306056187881117, 0.07739269180999844, 0.36767710134654213, 0.04203436935367327, 0.17975874423600277, 0.40055664798046103, 0.13462417142389668, 0.4642212807720575, 0.5954241846955515, 0.40413272625097174, 0.9996592981033906, 0.9986571993956745, 0.9994284079668089, 0.471442834981883, 0.33518396515753507, 0.19314052067083276, 0.8469950173455999, 0.15277175228968454, 0.9994822594947049, 0.9988947510356345, 0.9988426522230529, 0.9987328620609505, 0.999414399404823, 0.8673347796616588, 0.13257692880606545, 0.13075179610563303, 0.868841816725597, 0.9988812907702016, 0.2568833318563585, 0.7428893919742482, 0.07733968024409009, 0.6317665238046042, 0.2905807739212109, 0.9992141162092772, 0.9990765542704333, 0.9989899138825059, 0.8899050812937472, 0.031090855627223184, 0.07899903770735346, 0.5156817986826884, 0.28708058895737293, 0.1967033665078296, 0.9972238116785694, 0.34789137104853324, 0.6517248145807647, 0.6102711113303159, 0.17591998872532064, 0.2137283301707119, 0.9791568809281469, 0.02074285159404837, 0.9978610354145766, 0.9966598540140524, 0.08040626106072266, 0.9192568866574864, 0.9977108233983699, 0.9977108233983699, 0.3519317381129668, 0.10430817525351478, 0.055476924234556343, 0.146782695370597, 0.01964807733307204, 0.3218817374859154, 0.997884811197503, 0.9957407617606969, 0.9967940346434269, 0.29306367998364535, 0.6320926709913415, 0.07465880820876136, 0.9991598218575289, 0.9979844805670334, 0.9994028597594766, 0.11243092478379575, 0.8868852837693832, 0.9997496704991023, 0.9960684249425419, 0.9990100728223167, 0.9993592356971855, 0.9965872584768847, 0.9990896499766823, 0.9991915678505315, 0.9988403256719569, 0.5452620923108903, 0.45405461505161404, 0.9979657363740855, 0.727713816162999, 0.2720314461334097, 0.23948052046053217, 0.7601380552074852, 0.9859877935763853, 0.013226665523585658, 0.9999447767169223, 0.9992116290205248, 0.668362370836178, 0.025386856116248153, 0.21472060546920166, 0.09158249028852136, 0.9960485428435469, 0.9982881373650772, 0.9991239126440361, 0.14779664804951267, 0.8511662381646634, 0.9993111121433169, 0.9984919529624917, 0.14867789030462006, 0.5045558192252532, 0.34638785081608287, 0.9971522560857258, 0.9993071245639459, 0.9989045426349907, 0.0990582225940651, 0.4915530668347004, 0.4090824239674717, 0.9994057682215739, 0.11393062651087793, 0.21347798455858855, 0.6722285471206618, 0.9997144932643612, 0.9993715160633538, 0.999660164253325, 0.8881586595275668, 0.060850906074274756, 0.05079727811417719, 0.9992493523023042, 0.3768463092552292, 0.6227350918433922, 0.9993951440670962, 0.2131409696763618, 0.6292317424461993, 0.062311704249646764, 0.09492343731488245, 0.08545910465577554, 0.9143669628462368, 0.9971205754547977, 0.9996948138893319, 0.059662053185173675, 0.03936883781606698, 0.39957341061771073, 0.39105026016268596, 0.0773171505562965, 0.03287500889795284, 0.13132075149012234, 0.3893909624881159, 0.05776450777571837, 0.4213900063638736, 0.9988116948269612, 0.9988477898201956, 0.9995490313359745, 0.9995213946147639, 0.9992372761129985, 0.9985560088375559, 0.26496730249203193, 0.2573873920973594, 0.47753435486437096, 0.9992627080986883, 0.9993881041886904, 0.9145370883839767, 0.08496614596885459, 0.9995523333156229, 0.998502011292437, 0.9997047443764451, 0.9989516689441484, 0.32191979004501164, 0.6773965900063761, 0.9994725180286606, 0.4865350184195984, 0.5129716129418754, 0.6366981631664272, 0.2335917192364206, 0.12943981506311747, 0.9995496307978138, 0.9972228479632231, 0.4012600989566913, 0.26750673263779423, 0.16306108923289073, 0.023013446851927882, 0.03953592151485047, 0.10542912403960125, 0.9993882388717453, 0.998589062967467, 0.9988759289135862, 0.3013678848049101, 0.6984891114950457, 0.999684864129182, 0.9994232300159774, 0.9996186263541336, 0.31335378417465787, 0.04147329496429295, 0.644628127901788, 0.9989902477369529, 0.20731852908958015, 0.10697361809693882, 0.6854997450271785, 0.9971487362821994, 0.09809851510105562, 0.5120263958933147, 0.38976214902346246, 0.9977108233983699, 0.9982173629502467, 0.33720752088038974, 0.662583198922871, 0.9990498895358065, 0.998707315190347, 0.998723410355572, 0.9998399785935894, 0.9994394780474339, 0.9989477074674948, 0.9043835151542122, 0.09514480260514176, 0.20300392688172164, 0.35530600174458155, 0.1546603005381558, 0.2869174571610006, 0.9046733625432142, 0.0948312522888527, 0.9492435820944316, 0.050705640464011714, 0.9962432590999695, 0.09891288662097146, 0.04635988603702061, 0.08104132749982992, 0.17128385375509905, 0.48164736562126, 0.12067726060018343, 0.9978109714054756, 0.9997111809744977, 0.07433755295221472, 0.9253069091157253, 0.999457671567842, 0.9989152279554153, 0.9990456776733673, 0.9965310203702096, 0.23625125105968262, 0.34320740483455325, 0.09950983927155686, 0.2497900047020713, 0.07107845662254061, 0.9947657096943345, 0.29078778627145907, 0.7088599060354074, 0.9992303364413965], \"Term\": [\"ability\", \"accelerate\", \"access\", \"accessory\", \"accord\", \"accord\", \"account\", \"account\", \"account\", \"account\", \"achieve\", \"achieve\", \"acquire\", \"adapt\", \"add\", \"add\", \"add\", \"add\", \"addition\", \"addition\", \"address\", \"address\", \"address\", \"address\", \"administration\", \"adopt\", \"adopt\", \"advantage\", \"advantage\", \"adventure\", \"advice\", \"advisor\", \"affiliate\", \"age\", \"age\", \"age\", \"agreement\", \"aim\", \"aim\", \"aim\", \"air\", \"alert\", \"allow\", \"allow\", \"allow\", \"allow\", \"alternative\", \"alternative\", \"analysis\", \"analyst\", \"announce\", \"announce\", \"announce\", \"announcement\", \"app\", \"app\", \"application\", \"area\", \"area\", \"arrest\", \"article\", \"article\", \"asset\", \"attract\", \"attract\", \"author\", \"average\", \"await\", \"bank\", \"barrier\", \"barrier\", \"base\", \"base\", \"base\", \"base\", \"base_minute\", \"basis\", \"battery\", \"bear\", \"bear\", \"beat\", \"believe\", \"believe\", \"benefit\", \"benefit\", \"bit\", \"block\", \"boost\", \"branch\", \"break\", \"break\", \"break\", \"break_news\", \"bring\", \"bring\", \"bring\", \"bring\", \"browser\", \"browser\", \"build\", \"build\", \"build\", \"building\", \"business\", \"business\", \"button\", \"buy\", \"buy\", \"buyer\", \"calendar\", \"call\", \"call\", \"call\", \"call\", \"call\", \"camera\", \"campaign\", \"cap\", \"capability\", \"caption\", \"card\", \"card\", \"care\", \"case\", \"case\", \"case\", \"case\", \"cash\", \"cause\", \"cent\", \"center\", \"ceo\", \"chain\", \"challenge\", \"challenge\", \"change\", \"change\", \"change\", \"change\", \"change\", \"change\", \"change\", \"channel_topic\", \"chapter\", \"character\", \"charge\", \"charge\", \"chart\", \"cheat\", \"child\", \"child\", \"chip\", \"choose\", \"choose\", \"city\", \"claim\", \"claim\", \"class\", \"clear\", \"clear\", \"click\", \"client\", \"close\", \"close\", \"cloud\", \"color\", \"come\", \"come\", \"come\", \"comment\", \"comment\", \"comment\", \"comment\", \"comment\", \"commission\", \"communication\", \"compare\", \"competition\", \"computer\", \"conference\", \"confirm\", \"confirm\", \"confirm\", \"connection\", \"consider\", \"console\", \"consult\", \"consumer\", \"contact\", \"contact\", \"container\", \"content\", \"content\", \"content\", \"content\", \"continue\", \"continue\", \"control\", \"control\", \"controller\", \"cookie\", \"copyright\", \"core\", \"cost\", \"cost\", \"country\", \"country\", \"course\", \"court\", \"cover\", \"cpu\", \"crash\", \"crash\", \"create\", \"create\", \"create\", \"create\", \"creator\", \"crew\", \"crisis\", \"crypto\", \"customer\", \"cut\", \"cybersecurity\", \"data\", \"date\", \"date\", \"date\", \"date\", \"date_cheat\", \"datum\", \"datum\", \"datum\", \"datum\", \"datum_provide\", \"daughter\", \"deal\", \"death\", \"decade\", \"decade\", \"delay\", \"delay_price\", \"demand\", \"demand\", \"describe\", \"design\", \"desktop\", \"develop\", \"device\", \"device\", \"device\", \"dialog\", \"dialog_window\", \"die\", \"disclaimer\", \"disclose\", \"disclosure\", \"discount\", \"disease\", \"display\", \"display\", \"ditch\", \"dividend\", \"drink\", \"drink\", \"drive\", \"drive\", \"drive\", \"drop\", \"earn\", \"earning\", \"eat\", \"economy\", \"effect\", \"effort\", \"election\", \"email\", \"email\", \"email\", \"email\", \"email_preference\", \"email_send\", \"employee\", \"enable\", \"end\", \"end\", \"end\", \"end\", \"end\", \"enter\", \"enter\", \"enter\", \"entity\", \"equity\", \"estimate\", \"exchange\", \"exchange\", \"expect\", \"expect\", \"expect\", \"experience\", \"explain\", \"explore\", \"express\", \"face\", \"face\", \"factor\", \"fall\", \"fall\", \"family\", \"family\", \"family\", \"family\", \"fan\", \"feature\", \"feature\", \"feel\", \"feel\", \"field\", \"fight\", \"figure\", \"figure\", \"file\", \"film\", \"find\", \"find\", \"find\", \"find\", \"fire\", \"fire\", \"firm\", \"fix\", \"flight\", \"flow\", \"fly\", \"follow\", \"follow\", \"follow\", \"follow\", \"follow\", \"food\", \"forecast\", \"forget\", \"form\", \"form\", \"framework\", \"friend\", \"fuel\", \"fun\", \"function\", \"fund\", \"gain\", \"game\", \"gamer\", \"gamescomputerselectronicscell\", \"gaming\", \"get\", \"get\", \"go\", \"go\", \"go\", \"go\", \"go_work\", \"government\", \"gpu\", \"grant\", \"graphic\", \"group\", \"grow\", \"grow\", \"growth\", \"growth\", \"guide\", \"hair\", \"headset\", \"health\", \"health\", \"help\", \"help\", \"help\", \"help\", \"hit\", \"hold\", \"holding\", \"home\", \"home\", \"home\", \"hope\", \"hope\", \"hour\", \"hour\", \"husband\", \"image\", \"image\", \"image\", \"impact\", \"impact\", \"improve\", \"improve\", \"inch\", \"income\", \"increase\", \"increase\", \"index\", \"industry\", \"infection\", \"inflation\", \"inflation\", \"information\", \"information\", \"injure\", \"insight\", \"install\", \"instruction\", \"interest\", \"interest\", \"internet\", \"internet\", \"interview\", \"investigate\", \"investment\", \"investor\", \"involve\", \"issue\", \"issue\", \"job\", \"join\", \"join\", \"join\", \"join_profile\", \"keyboard\", \"kid\", \"kid\", \"kill\", \"know\", \"know\", \"know\", \"laptop\", \"launch\", \"launch\", \"launch\", \"law\", \"lead\", \"leak\", \"leave\", \"let\", \"letter\", \"life\", \"life\", \"life\", \"life\", \"light\", \"link\", \"link\", \"link\", \"link\", \"link_open\", \"link_site\", \"list\", \"listing\", \"load\", \"location\", \"location\", \"location\", \"log\", \"look\", \"look\", \"look\", \"look\", \"lose\", \"loss\", \"lot\", \"love\", \"love\", \"maintain\", \"man\", \"manage\", \"manage\", \"manage\", \"management\", \"mandate\", \"mark\", \"market\", \"market_cap\", \"mask\", \"match\", \"match\", \"mean\", \"measure\", \"meeting\", \"member\", \"member_sign\", \"mention\", \"menu\", \"message\", \"min\", \"minute\", \"minute\", \"minute_delay\", \"mobile\", \"mode\", \"model\", \"model\", \"mom\", \"money\", \"money\", \"monitor\", \"month\", \"month\", \"month\", \"month\", \"month\", \"month\", \"mouse\", \"move\", \"move\", \"movie\", \"murder\", \"musictv\", \"name\", \"name\", \"need\", \"need\", \"need\", \"need\", \"need_know\", \"network\", \"network\", \"newsletter\", \"newsletter\", \"newsletter_manage\", \"night\", \"night\", \"note\", \"notification\", \"notification\", \"offer\", \"offer\", \"offer\", \"offer\", \"offer\", \"office\", \"officer\", \"officer\", \"official\", \"oil\", \"open\", \"open\", \"open\", \"open\", \"open_tab\", \"open_window\", \"opinion\", \"opinion\", \"opportunity\", \"opportunity\", \"option\", \"option\", \"organization\", \"own\", \"package\", \"page\", \"pandemic\", \"parent\", \"park\", \"party\", \"password\", \"pay\", \"pay\", \"pc\", \"pdf\", \"people\", \"people\", \"people\", \"people\", \"percent\", \"perform\", \"period\", \"person\", \"phone\", \"phone\", \"phonesinternetsoftwarecoding\", \"phonesinternetsoftwarecoding_location\", \"photo_video\", \"picture\", \"picture\", \"plan\", \"plan\", \"platform\", \"platform\", \"play\", \"play\", \"player\", \"pm\", \"pm\", \"podcast\", \"podcast_mom\", \"point\", \"point\", \"police\", \"policy\", \"policy\", \"policy\", \"port\", \"portfolio\", \"position\", \"post\", \"post\", \"post\", \"post\", \"power\", \"power\", \"power\", \"power\", \"preference\", \"preference\", \"press\", \"price\", \"privacy\", \"pro\", \"problem\", \"process\", \"process\", \"processor\", \"product\", \"product\", \"product\", \"product\", \"profile\", \"profile\", \"project\", \"provide\", \"provider\", \"provider\", \"publication\", \"publish\", \"purchase\", \"purchase\", \"quality\", \"quarter\", \"radioentertainmentmoviesbooksmusictheaterclassical\", \"range\", \"rate\", \"rate\", \"rating\", \"ratio\", \"reach\", \"reach\", \"read\", \"read\", \"read\", \"read\", \"read\", \"receive\", \"receive\", \"receive\", \"receive\", \"receive\", \"receive\", \"recommendation\", \"record\", \"record\", \"reduce\", \"reflect\", \"refresh\", \"register\", \"register\", \"register\", \"relationship\", \"relationshipsprotestsfestivalhomelesshouse\", \"relationshipsprotestsfestivalhomelesshouse_gamescomputerselectronicscell\", \"release\", \"release\", \"release\", \"release\", \"remain\", \"remember\", \"renew\", \"report\", \"report\", \"report\", \"represent\", \"research\", \"research\", \"reserve\", \"reserve\", \"reserve\", \"resource\", \"result\", \"result\", \"return\", \"return\", \"reveal\", \"reveal\", \"reveal\", \"revenue\", \"review\", \"right\", \"right\", \"right\", \"right\", \"right\", \"right_reserve\", \"right_reserve\", \"right_reserve\", \"rise\", \"rise\", \"risk\", \"role\", \"rule\", \"run\", \"run\", \"run\", \"sale\", \"sale\", \"save\", \"scale\", \"school\", \"score\", \"screen\", \"search\", \"search\", \"sector\", \"sector\", \"secure\", \"security\", \"security\", \"see\", \"see\", \"see\", \"seek\", \"segment\", \"select\", \"sell\", \"sell\", \"sell\", \"send\", \"send\", \"send\", \"send_message\", \"series\", \"series\", \"set\", \"set\", \"set\", \"share\", \"share\", \"ship\", \"shooting\", \"show\", \"show\", \"showsphotographymuseumsdesignrock\", \"showsphotographymuseumsdesignrock_violationsvandalismsocietysocietyenvironmentreligionadvocacyrelationshipscharitieskidsrelationship\", \"sign\", \"sign\", \"sign\", \"sign\", \"sign\", \"sign\", \"sign_receive\", \"singer\", \"sister\", \"site\", \"site\", \"site\", \"size\", \"slide\", \"smartphone\", \"software\", \"software\", \"solution\", \"song\", \"sound\", \"source\", \"speaker\", \"spend\", \"staff\", \"stake\", \"star\", \"star\", \"star_open\", \"start\", \"start\", \"state\", \"state\", \"step\", \"step\", \"stock\", \"store\", \"story\", \"story\", \"story\", \"story\", \"story_inbox\", \"stream\", \"streaming\", \"student\", \"student\", \"study\", \"subscribe\", \"subscription\", \"subscription\", \"subscription\", \"subscription_account\", \"supply\", \"supply_chain\", \"support\", \"support\", \"support\", \"symbol\", \"system\", \"system\", \"system\", \"tab\", \"tab_link\", \"tablet\", \"take\", \"take\", \"take\", \"talk\", \"target\", \"target\", \"tax\", \"tech\", \"tech\", \"tech\", \"tech\", \"technology\", \"technology\", \"teen\", \"tell\", \"term\", \"term\", \"term\", \"term\", \"term\", \"term\", \"test\", \"test\", \"test\", \"test\", \"text\", \"thank\", \"thing\", \"threat\", \"tip\", \"title\", \"today\", \"today\", \"today\", \"tool\", \"track\", \"trade\", \"trade\", \"trading\", \"transaction\", \"transform\", \"travel\", \"trend\", \"trend\", \"trust\", \"turn\", \"turn\", \"tv\", \"tv\", \"tv\", \"type\", \"unveil\", \"update\", \"update\", \"update\", \"update\", \"update\", \"update\", \"upgrade\", \"urge\", \"usb\", \"use\", \"use\", \"user\", \"vaccine\", \"value\", \"vehicle\", \"vehicle\", \"vehicle\", \"version\", \"video\", \"video\", \"video\", \"video_game\", \"view\", \"view\", \"view\", \"violationsvandalismsocietysocietyenvironmentreligionadvocacyrelationshipscharitieskidsrelationship\", \"virus\", \"visit\", \"visit\", \"volume\", \"vote\", \"wait\", \"want\", \"war\", \"warn\", \"watch\", \"watch\", \"way\", \"way\", \"way\", \"way\", \"web\", \"web\", \"website\", \"website\", \"wedding\", \"week\", \"week\", \"week\", \"week\", \"week\", \"week\", \"week_source\", \"win\", \"window\", \"window\", \"woman\", \"word\", \"worker\", \"workforce\", \"world\", \"world\", \"world\", \"world\", \"world\", \"world_lead\", \"write\", \"write\", \"yield\"]}, \"R\": 30, \"lambda.step\": 0.01, \"plot.opts\": {\"xlab\": \"PC1\", \"ylab\": \"PC2\"}, \"topic.order\": [8, 10, 1, 11, 9, 4, 6, 14, 13, 5, 15, 3, 2, 7, 12]};\n",
       "\n",
       "function LDAvis_load_lib(url, callback){\n",
       "  var s = document.createElement('script');\n",
       "  s.src = url;\n",
       "  s.async = true;\n",
       "  s.onreadystatechange = s.onload = callback;\n",
       "  s.onerror = function(){console.warn(\"failed to load library \" + url);};\n",
       "  document.getElementsByTagName(\"head\")[0].appendChild(s);\n",
       "}\n",
       "\n",
       "if(typeof(LDAvis) !== \"undefined\"){\n",
       "   // already loaded: just create the visualization\n",
       "   !function(LDAvis){\n",
       "       new LDAvis(\"#\" + \"ldavis_el53169181804689441426427106\", ldavis_el53169181804689441426427106_data);\n",
       "   }(LDAvis);\n",
       "}else if(typeof define === \"function\" && define.amd){\n",
       "   // require.js is available: use it to load d3/LDAvis\n",
       "   require.config({paths: {d3: \"https://d3js.org/d3.v5\"}});\n",
       "   require([\"d3\"], function(d3){\n",
       "      window.d3 = d3;\n",
       "      LDAvis_load_lib(\"https://cdn.jsdelivr.net/gh/bmabey/pyLDAvis@3.4.0/pyLDAvis/js/ldavis.v3.0.0.js\", function(){\n",
       "        new LDAvis(\"#\" + \"ldavis_el53169181804689441426427106\", ldavis_el53169181804689441426427106_data);\n",
       "      });\n",
       "    });\n",
       "}else{\n",
       "    // require.js not available: dynamically load d3 & LDAvis\n",
       "    LDAvis_load_lib(\"https://d3js.org/d3.v5.js\", function(){\n",
       "         LDAvis_load_lib(\"https://cdn.jsdelivr.net/gh/bmabey/pyLDAvis@3.4.0/pyLDAvis/js/ldavis.v3.0.0.js\", function(){\n",
       "                 new LDAvis(\"#\" + \"ldavis_el53169181804689441426427106\", ldavis_el53169181804689441426427106_data);\n",
       "            })\n",
       "         });\n",
       "}\n",
       "</script>"
      ],
      "text/plain": [
       "<IPython.core.display.HTML object>"
      ]
     },
     "execution_count": 134,
     "metadata": {},
     "output_type": "execute_result"
    }
   ],
   "source": [
    "# Prepare the visualization\n",
    "vis_data = gensimvis.prepare(model, corpus, dictionary)\n",
    "\n",
    "# display\n",
    "pyLDAvis.display(vis_data)"
   ]
  },
  {
   "cell_type": "markdown",
   "metadata": {},
   "source": [
    "# **BERTopic Modeling**"
   ]
  },
  {
   "cell_type": "code",
   "execution_count": 135,
   "metadata": {},
   "outputs": [],
   "source": [
    "# instantiating the embedding model\n",
    "embedding_model = SentenceTransformer(\"thenlper/gte-small\")"
   ]
  },
  {
   "cell_type": "code",
   "execution_count": 136,
   "metadata": {},
   "outputs": [],
   "source": [
    "# Step 2 - Reduce dimensionality\n",
    "umap_model = UMAP(n_components= 5, min_dist= 0.1, metric='cosine', random_state= 42)"
   ]
  },
  {
   "cell_type": "code",
   "execution_count": 137,
   "metadata": {},
   "outputs": [],
   "source": [
    "# Step 3 - Cluster reduced embeddings\n",
    "hdbscan_model = HDBSCAN(min_cluster_size=15, metric='euclidean', cluster_selection_method='eom')"
   ]
  },
  {
   "cell_type": "code",
   "execution_count": 138,
   "metadata": {},
   "outputs": [],
   "source": [
    "# Step 4 - Tokenize topics\n",
    "vectorizer_model = CountVectorizer(\n",
    "    stop_words=\"english\", \n",
    "    ngram_range=(1, 2),\n",
    "    min_df= 5,\n",
    "    max_df= 0.9,\n",
    "    max_features= 3000)\n",
    "\n",
    "# Step 5 - Create topic representation\n",
    "ctfidf_model = ClassTfidfTransformer()"
   ]
  },
  {
   "cell_type": "code",
   "execution_count": 139,
   "metadata": {},
   "outputs": [],
   "source": [
    "# All steps together\n",
    "topic_model = BERTopic(\n",
    "  embedding_model=embedding_model,          # Step 1 - Extract embeddings\n",
    "  umap_model=umap_model,                    # Step 2 - Reduce dimensionality\n",
    "  hdbscan_model=hdbscan_model,              # Step 3 - Cluster reduced embeddings\n",
    "  vectorizer_model=vectorizer_model,        # Step 4 - Tokenize topics\n",
    "  ctfidf_model=ctfidf_model,                # Step 5 - Extract topic words\n",
    ")"
   ]
  },
  {
   "cell_type": "code",
   "execution_count": 141,
   "metadata": {},
   "outputs": [
    {
     "name": "stderr",
     "output_type": "stream",
     "text": [
      "OMP: Info #276: omp_set_nested routine deprecated, please use omp_set_max_active_levels instead.\n"
     ]
    }
   ],
   "source": [
    "topics, probs = topic_model.fit_transform(news_df[\"combined_text\"])"
   ]
  },
  {
   "cell_type": "code",
   "execution_count": 142,
   "metadata": {},
   "outputs": [
    {
     "data": {
      "text/html": [
       "<div>\n",
       "<style scoped>\n",
       "    .dataframe tbody tr th:only-of-type {\n",
       "        vertical-align: middle;\n",
       "    }\n",
       "\n",
       "    .dataframe tbody tr th {\n",
       "        vertical-align: top;\n",
       "    }\n",
       "\n",
       "    .dataframe thead th {\n",
       "        text-align: right;\n",
       "    }\n",
       "</style>\n",
       "<table border=\"1\" class=\"dataframe\">\n",
       "  <thead>\n",
       "    <tr style=\"text-align: right;\">\n",
       "      <th></th>\n",
       "      <th>Topic</th>\n",
       "      <th>Count</th>\n",
       "      <th>Name</th>\n",
       "      <th>Representation</th>\n",
       "      <th>Representative_Docs</th>\n",
       "    </tr>\n",
       "  </thead>\n",
       "  <tbody>\n",
       "    <tr>\n",
       "      <th>0</th>\n",
       "      <td>-1</td>\n",
       "      <td>1519</td>\n",
       "      <td>-1_ago_shares_stock_covid</td>\n",
       "      <td>[ago, shares, stock, covid, growth, ukraine, n...</td>\n",
       "      <td>[Tornado hits Zierikzee, the Netherlands: One ...</td>\n",
       "    </tr>\n",
       "    <tr>\n",
       "      <th>1</th>\n",
       "      <td>0</td>\n",
       "      <td>306</td>\n",
       "      <td>0_pm_game_games_xbox</td>\n",
       "      <td>[pm, game, games, xbox, 2022 00, series, gamin...</td>\n",
       "      <td>[Canadian streamer xQc spent two hours on 'slo...</td>\n",
       "    </tr>\n",
       "    <tr>\n",
       "      <th>2</th>\n",
       "      <td>1</td>\n",
       "      <td>239</td>\n",
       "      <td>1_inflation_fed_stocks_oil</td>\n",
       "      <td>[inflation, fed, stocks, oil, rates, td, bloom...</td>\n",
       "      <td>[European Stocks Retreat as Investors Weigh Ea...</td>\n",
       "    </tr>\n",
       "    <tr>\n",
       "      <th>3</th>\n",
       "      <td>2</td>\n",
       "      <td>215</td>\n",
       "      <td>2_link_new tab_opens_tab</td>\n",
       "      <td>[link, new tab, opens, tab, opens new, subscri...</td>\n",
       "      <td>[Hoda Kotb and Jenna Bush Hager Tease Ina Gart...</td>\n",
       "    </tr>\n",
       "    <tr>\n",
       "      <th>4</th>\n",
       "      <td>3</td>\n",
       "      <td>213</td>\n",
       "      <td>3_seattle_times_seattle times_advertising</td>\n",
       "      <td>[seattle, times, seattle times, advertising, s...</td>\n",
       "      <td>[Twin earthquakes in western Afghanistan kill ...</td>\n",
       "    </tr>\n",
       "    <tr>\n",
       "      <th>5</th>\n",
       "      <td>4</td>\n",
       "      <td>201</td>\n",
       "      <td>4_cloud_prnewswire_gray_customers</td>\n",
       "      <td>[cloud, prnewswire, gray, customers, platform,...</td>\n",
       "      <td>[Lookout to Exhibit Data-Centric Cloud Securit...</td>\n",
       "    </tr>\n",
       "    <tr>\n",
       "      <th>6</th>\n",
       "      <td>5</td>\n",
       "      <td>184</td>\n",
       "      <td>5_equities_password_username_register</td>\n",
       "      <td>[equities, password, username, register, nasda...</td>\n",
       "      <td>[Hawaiian, (HA) gains 4.27% for February 24 | ...</td>\n",
       "    </tr>\n",
       "    <tr>\n",
       "      <th>7</th>\n",
       "      <td>6</td>\n",
       "      <td>150</td>\n",
       "      <td>6_india_delhi_indian_rs</td>\n",
       "      <td>[india, delhi, indian, rs, live, crore, bjp, e...</td>\n",
       "      <td>[Medical colleges Tamil Nadu Chennai inaugurat...</td>\n",
       "    </tr>\n",
       "    <tr>\n",
       "      <th>8</th>\n",
       "      <td>7</td>\n",
       "      <td>114</td>\n",
       "      <td>7_ago_cloudy_hours ago_weeks ago</td>\n",
       "      <td>[ago, cloudy, hours ago, weeks ago, antonio, p...</td>\n",
       "      <td>[What we know about mass school shootings in t...</td>\n",
       "    </tr>\n",
       "    <tr>\n",
       "      <th>9</th>\n",
       "      <td>8</td>\n",
       "      <td>111</td>\n",
       "      <td>8_shares_nyse_stock_rating</td>\n",
       "      <td>[shares, nyse, stock, rating, quarter, llc, na...</td>\n",
       "      <td>[Daiwa Securities Group Inc. Raises Stock Hold...</td>\n",
       "    </tr>\n",
       "    <tr>\n",
       "      <th>10</th>\n",
       "      <td>9</td>\n",
       "      <td>85</td>\n",
       "      <td>9_times_seattle_seattle times_season</td>\n",
       "      <td>[times, seattle, seattle times, season, associ...</td>\n",
       "      <td>[Ravens part ways with defensive coordinator D...</td>\n",
       "    </tr>\n",
       "    <tr>\n",
       "      <th>11</th>\n",
       "      <td>10</td>\n",
       "      <td>71</td>\n",
       "      <td>10_finance_yahoo_screener_yahoo finance</td>\n",
       "      <td>[finance, yahoo, screener, yahoo finance, stoc...</td>\n",
       "      <td>[Sampo plc’s share buybacks 18/01/2022 Sampo p...</td>\n",
       "    </tr>\n",
       "    <tr>\n",
       "      <th>12</th>\n",
       "      <td>11</td>\n",
       "      <td>70</td>\n",
       "      <td>11_stocks_symbols_nasdaq_stock</td>\n",
       "      <td>[stocks, symbols, nasdaq, stock, zacks, add, e...</td>\n",
       "      <td>[Here's What Could Help Immunocore Holdings PL...</td>\n",
       "    </tr>\n",
       "    <tr>\n",
       "      <th>13</th>\n",
       "      <td>12</td>\n",
       "      <td>68</td>\n",
       "      <td>12_galaxy_samsung_pro_oneplus</td>\n",
       "      <td>[galaxy, samsung, pro, oneplus, samsung galaxy...</td>\n",
       "      <td>[Samsung Galaxy S22 Ultra Gets Run Over by a C...</td>\n",
       "    </tr>\n",
       "    <tr>\n",
       "      <th>14</th>\n",
       "      <td>13</td>\n",
       "      <td>65</td>\n",
       "      <td>13_windows_windows 11_techrepublic_file</td>\n",
       "      <td>[windows, windows 11, techrepublic, file, tab,...</td>\n",
       "      <td>[Find Things Faster: How to Search in Windows ...</td>\n",
       "    </tr>\n",
       "    <tr>\n",
       "      <th>15</th>\n",
       "      <td>14</td>\n",
       "      <td>58</td>\n",
       "      <td>14_crypto_bitcoin_btc_traded</td>\n",
       "      <td>[crypto, bitcoin, btc, traded, dollar, trades,...</td>\n",
       "      <td>[STATERA 24-Hour Volume Hits $120,790.00 (STA)...</td>\n",
       "    </tr>\n",
       "    <tr>\n",
       "      <th>16</th>\n",
       "      <td>15</td>\n",
       "      <td>51</td>\n",
       "      <td>15_forbes_richest_paid_program</td>\n",
       "      <td>[forbes, richest, paid, program, insurance, cr...</td>\n",
       "      <td>[The Future Of Diversity And Inclusion In Corp...</td>\n",
       "    </tr>\n",
       "    <tr>\n",
       "      <th>17</th>\n",
       "      <td>16</td>\n",
       "      <td>50</td>\n",
       "      <td>16_cyber_attack_attacks_malware</td>\n",
       "      <td>[cyber, attack, attacks, malware, cybersecurit...</td>\n",
       "      <td>[XM Cyber Reveals Hidden Attack Paths Using Ac...</td>\n",
       "    </tr>\n",
       "    <tr>\n",
       "      <th>18</th>\n",
       "      <td>17</td>\n",
       "      <td>47</td>\n",
       "      <td>17_philips_accessories_care_pdf file</td>\n",
       "      <td>[philips, accessories, care, pdf file, pdf, pr...</td>\n",
       "      <td>[Visit the support page for your CP6966/01 | P...</td>\n",
       "    </tr>\n",
       "    <tr>\n",
       "      <th>19</th>\n",
       "      <td>18</td>\n",
       "      <td>44</td>\n",
       "      <td>18_laptop_asus_core_surface</td>\n",
       "      <td>[laptop, asus, core, surface, oled, intel, pro...</td>\n",
       "      <td>[HP AMD Athlon 3020e 14\" Touch Laptop for $250...</td>\n",
       "    </tr>\n",
       "    <tr>\n",
       "      <th>20</th>\n",
       "      <td>19</td>\n",
       "      <td>41</td>\n",
       "      <td>19_biden_trump_president_election</td>\n",
       "      <td>[biden, trump, president, election, 28 2022, g...</td>\n",
       "      <td>[Alert: Biden's 'Biggest Fear' for Ukraine War...</td>\n",
       "    </tr>\n",
       "    <tr>\n",
       "      <th>21</th>\n",
       "      <td>20</td>\n",
       "      <td>40</td>\n",
       "      <td>20_uefa_league_champions_cookie</td>\n",
       "      <td>[uefa, league, champions, cookie, euro, champi...</td>\n",
       "      <td>[Barcelona 5-1 Wolfsburg: Holders open up firs...</td>\n",
       "    </tr>\n",
       "    <tr>\n",
       "      <th>22</th>\n",
       "      <td>21</td>\n",
       "      <td>39</td>\n",
       "      <td>21_ukraine_russia_russian_ukrainian</td>\n",
       "      <td>[ukraine, russia, russian, ukrainian, attack, ...</td>\n",
       "      <td>[Russia state TV paints Moscow as savior of ea...</td>\n",
       "    </tr>\n",
       "    <tr>\n",
       "      <th>23</th>\n",
       "      <td>22</td>\n",
       "      <td>37</td>\n",
       "      <td>22_interests_marketing_medicine_products</td>\n",
       "      <td>[interests, marketing, medicine, products, gro...</td>\n",
       "      <td>[Significant Growth Expected In The Photoiniti...</td>\n",
       "    </tr>\n",
       "    <tr>\n",
       "      <th>24</th>\n",
       "      <td>23</td>\n",
       "      <td>35</td>\n",
       "      <td>23_whatsapp_messages_instagram_reviews</td>\n",
       "      <td>[whatsapp, messages, instagram, reviews, messa...</td>\n",
       "      <td>[Snapchat introduces four new social engagemen...</td>\n",
       "    </tr>\n",
       "    <tr>\n",
       "      <th>25</th>\n",
       "      <td>24</td>\n",
       "      <td>35</td>\n",
       "      <td>24_project_course_career_manager</td>\n",
       "      <td>[project, course, career, manager, programming...</td>\n",
       "      <td>[Using data analysis to inform decisions - Dat...</td>\n",
       "    </tr>\n",
       "    <tr>\n",
       "      <th>26</th>\n",
       "      <td>25</td>\n",
       "      <td>32</td>\n",
       "      <td>25_tablet_ago_bestreviews_hours ago</td>\n",
       "      <td>[tablet, ago, bestreviews, hours ago, surface,...</td>\n",
       "      <td>[Best tablet accessories for reading | KTALnew...</td>\n",
       "    </tr>\n",
       "    <tr>\n",
       "      <th>27</th>\n",
       "      <td>26</td>\n",
       "      <td>31</td>\n",
       "      <td>26_metaverse_meta_virtual_reality</td>\n",
       "      <td>[metaverse, meta, virtual, reality, vr, art, 3...</td>\n",
       "      <td>[Satya Nadella: Metaverse is just games, reall...</td>\n",
       "    </tr>\n",
       "    <tr>\n",
       "      <th>28</th>\n",
       "      <td>27</td>\n",
       "      <td>30</td>\n",
       "      <td>27_bet_awards_music_award</td>\n",
       "      <td>[bet, awards, music, award, sunday, roe, rock,...</td>\n",
       "      <td>[CULTURE'S BIGGEST NIGHT, \"BET AWARDS\" 2022 DE...</td>\n",
       "    </tr>\n",
       "    <tr>\n",
       "      <th>29</th>\n",
       "      <td>28</td>\n",
       "      <td>30</td>\n",
       "      <td>28_forecast_2028_analysis_2027</td>\n",
       "      <td>[forecast, 2028, analysis, 2027, automotive, i...</td>\n",
       "      <td>[Global Orthopedics &amp; Trauma Implants Market R...</td>\n",
       "    </tr>\n",
       "    <tr>\n",
       "      <th>30</th>\n",
       "      <td>29</td>\n",
       "      <td>28</td>\n",
       "      <td>29_amd_intel_ryzen_core</td>\n",
       "      <td>[amd, intel, ryzen, core, cpu, gen, gaming, gr...</td>\n",
       "      <td>[Intel CPUs are clawing back sales as AMD seem...</td>\n",
       "    </tr>\n",
       "    <tr>\n",
       "      <th>31</th>\n",
       "      <td>30</td>\n",
       "      <td>28</td>\n",
       "      <td>30_new tab_tab_opens new_opens</td>\n",
       "      <td>[new tab, tab, opens new, opens, tv, cookie, s...</td>\n",
       "      <td>[How to watch Becoming Elizabeth - don’t miss ...</td>\n",
       "    </tr>\n",
       "    <tr>\n",
       "      <th>32</th>\n",
       "      <td>31</td>\n",
       "      <td>28</td>\n",
       "      <td>31_azure_react_install_arm</td>\n",
       "      <td>[azure, react, install, arm, packages, log, ap...</td>\n",
       "      <td>[@azure/iot-modelsrepository: Docs &amp; Reviews |...</td>\n",
       "    </tr>\n",
       "    <tr>\n",
       "      <th>33</th>\n",
       "      <td>32</td>\n",
       "      <td>26</td>\n",
       "      <td>32_java_chapter_writing_startups</td>\n",
       "      <td>[java, chapter, writing, startups, metaverse, ...</td>\n",
       "      <td>[korg | HackerNoon korg | HackerNoonStart Writ...</td>\n",
       "    </tr>\n",
       "    <tr>\n",
       "      <th>34</th>\n",
       "      <td>33</td>\n",
       "      <td>26</td>\n",
       "      <td>33_wi_iphone_windows_wi fi</td>\n",
       "      <td>[wi, iphone, windows, wi fi, fi, browse, artic...</td>\n",
       "      <td>[Get Ready For Better Background Blur in Web V...</td>\n",
       "    </tr>\n",
       "    <tr>\n",
       "      <th>35</th>\n",
       "      <td>34</td>\n",
       "      <td>26</td>\n",
       "      <td>34_russia_ukraine_russian_ukrainian</td>\n",
       "      <td>[russia, ukraine, russian, ukrainian, times, w...</td>\n",
       "      <td>[Russia targets ammunitions depot in western U...</td>\n",
       "    </tr>\n",
       "    <tr>\n",
       "      <th>36</th>\n",
       "      <td>35</td>\n",
       "      <td>26</td>\n",
       "      <td>35_omicron_covid_vaccine_covid 19</td>\n",
       "      <td>[omicron, covid, vaccine, covid 19, cases, isr...</td>\n",
       "      <td>[Cuba's vaccine coverage and focus on children...</td>\n",
       "    </tr>\n",
       "    <tr>\n",
       "      <th>37</th>\n",
       "      <td>36</td>\n",
       "      <td>25</td>\n",
       "      <td>36_prev_opinion_party_percent</td>\n",
       "      <td>[prev, opinion, party, percent, police, travel...</td>\n",
       "      <td>[COMRADES : WE HAVE BEEN INFILTRATED BY CCC ne...</td>\n",
       "    </tr>\n",
       "    <tr>\n",
       "      <th>38</th>\n",
       "      <td>37</td>\n",
       "      <td>23</td>\n",
       "      <td>37_abortion_travel_court_supreme</td>\n",
       "      <td>[abortion, travel, court, supreme, supreme cou...</td>\n",
       "      <td>[Why companies think paying for abortion trave...</td>\n",
       "    </tr>\n",
       "    <tr>\n",
       "      <th>39</th>\n",
       "      <td>38</td>\n",
       "      <td>23</td>\n",
       "      <td>38_philips_healthcare_care_clinical</td>\n",
       "      <td>[philips, healthcare, care, clinical, websites...</td>\n",
       "      <td>[Healthcare modeling and simulation | Philips ...</td>\n",
       "    </tr>\n",
       "    <tr>\n",
       "      <th>40</th>\n",
       "      <td>39</td>\n",
       "      <td>23</td>\n",
       "      <td>39_deals_amazon_prime_sale</td>\n",
       "      <td>[deals, amazon, prime, sale, prime day, tv, 4k...</td>\n",
       "      <td>[This Massive 75-Inch TV Is Only $698 at Walma...</td>\n",
       "    </tr>\n",
       "    <tr>\n",
       "      <th>41</th>\n",
       "      <td>40</td>\n",
       "      <td>22</td>\n",
       "      <td>40_musk_elon_elon musk_tesla</td>\n",
       "      <td>[musk, elon, elon musk, tesla, deal, billion, ...</td>\n",
       "      <td>[Report says Gates 'poured' millions into atta...</td>\n",
       "    </tr>\n",
       "    <tr>\n",
       "      <th>42</th>\n",
       "      <td>41</td>\n",
       "      <td>22</td>\n",
       "      <td>41_blockchain_analysis_forecast_growth</td>\n",
       "      <td>[blockchain, analysis, forecast, growth, langu...</td>\n",
       "      <td>[Compliance Testing Solutions Market Size, Sha...</td>\n",
       "    </tr>\n",
       "    <tr>\n",
       "      <th>43</th>\n",
       "      <td>42</td>\n",
       "      <td>21</td>\n",
       "      <td>42_news network_federal_network_located</td>\n",
       "      <td>[news network, federal, network, located, inte...</td>\n",
       "      <td>[No. 1 Auburn 55, Missouri 54 | Federal News N...</td>\n",
       "    </tr>\n",
       "    <tr>\n",
       "      <th>44</th>\n",
       "      <td>43</td>\n",
       "      <td>20</td>\n",
       "      <td>43_ohio_intel_taiwan_semiconductor</td>\n",
       "      <td>[ohio, intel, taiwan, semiconductor, memory, p...</td>\n",
       "      <td>[COMPUTEX 2022 Global Press Conference Industr...</td>\n",
       "    </tr>\n",
       "    <tr>\n",
       "      <th>45</th>\n",
       "      <td>44</td>\n",
       "      <td>20</td>\n",
       "      <td>44_cars_electric_francisco_tesla</td>\n",
       "      <td>[cars, electric, francisco, tesla, car, vehicl...</td>\n",
       "      <td>[Quick 5 Minutes of Diagnosing a Used American...</td>\n",
       "    </tr>\n",
       "    <tr>\n",
       "      <th>46</th>\n",
       "      <td>45</td>\n",
       "      <td>20</td>\n",
       "      <td>45_flight_5g_band_airlines</td>\n",
       "      <td>[flight, 5g, band, airlines, files, copyright,...</td>\n",
       "      <td>[FlightSim.Com - Simworks Studios - Vans RV-14...</td>\n",
       "    </tr>\n",
       "    <tr>\n",
       "      <th>47</th>\n",
       "      <td>46</td>\n",
       "      <td>19</td>\n",
       "      <td>46_shares_msft_nasdaq msft_nasdaq</td>\n",
       "      <td>[shares, msft, nasdaq msft, nasdaq, microsoft ...</td>\n",
       "      <td>[Oldfather Financial Services LLC Buys 138 Sha...</td>\n",
       "    </tr>\n",
       "    <tr>\n",
       "      <th>48</th>\n",
       "      <td>47</td>\n",
       "      <td>18</td>\n",
       "      <td>47_chapter_javascript_startups_art</td>\n",
       "      <td>[chapter, javascript, startups, art, writing, ...</td>\n",
       "      <td>[chanwesley | HackerNoon chanwesley | HackerNo...</td>\n",
       "    </tr>\n",
       "    <tr>\n",
       "      <th>49</th>\n",
       "      <td>48</td>\n",
       "      <td>17</td>\n",
       "      <td>48_africa_african_south_cookies</td>\n",
       "      <td>[africa, african, south, cookies, child, conse...</td>\n",
       "      <td>[Cellulant &amp; Jambojet to Give Away Over 600 Di...</td>\n",
       "    </tr>\n",
       "    <tr>\n",
       "      <th>50</th>\n",
       "      <td>49</td>\n",
       "      <td>16</td>\n",
       "      <td>49_lp_options_pr_symbol</td>\n",
       "      <td>[lp, options, pr, symbol, https www, https, tr...</td>\n",
       "      <td>[Thinking about trading options or stock in Ap...</td>\n",
       "    </tr>\n",
       "    <tr>\n",
       "      <th>51</th>\n",
       "      <td>50</td>\n",
       "      <td>16</td>\n",
       "      <td>50_industry_releases_distribution_cagr</td>\n",
       "      <td>[industry, releases, distribution, cagr, usd, ...</td>\n",
       "      <td>[   Global AI in Biopharmaceutical Development...</td>\n",
       "    </tr>\n",
       "    <tr>\n",
       "      <th>52</th>\n",
       "      <td>51</td>\n",
       "      <td>16</td>\n",
       "      <td>51_ipad_pro_macbook_iphone</td>\n",
       "      <td>[ipad, pro, macbook, iphone, display, models, ...</td>\n",
       "      <td>[Apple will continue the production of old iPa...</td>\n",
       "    </tr>\n",
       "    <tr>\n",
       "      <th>53</th>\n",
       "      <td>52</td>\n",
       "      <td>15</td>\n",
       "      <td>52_linux_ubuntu_04_open source</td>\n",
       "      <td>[linux, ubuntu, 04, open source, install, min,...</td>\n",
       "      <td>[6 Best Alternative Router Firmware that are O...</td>\n",
       "    </tr>\n",
       "    <tr>\n",
       "      <th>54</th>\n",
       "      <td>53</td>\n",
       "      <td>15</td>\n",
       "      <td>53_solar_renewable_energy_peace</td>\n",
       "      <td>[solar, renewable, energy, peace, climate, prn...</td>\n",
       "      <td>[First repeat Peace REC (P-REC) transaction to...</td>\n",
       "    </tr>\n",
       "  </tbody>\n",
       "</table>\n",
       "</div>"
      ],
      "text/plain": [
       "    Topic  Count                                       Name  \\\n",
       "0      -1   1519                  -1_ago_shares_stock_covid   \n",
       "1       0    306                       0_pm_game_games_xbox   \n",
       "2       1    239                 1_inflation_fed_stocks_oil   \n",
       "3       2    215                   2_link_new tab_opens_tab   \n",
       "4       3    213  3_seattle_times_seattle times_advertising   \n",
       "5       4    201          4_cloud_prnewswire_gray_customers   \n",
       "6       5    184      5_equities_password_username_register   \n",
       "7       6    150                    6_india_delhi_indian_rs   \n",
       "8       7    114           7_ago_cloudy_hours ago_weeks ago   \n",
       "9       8    111                 8_shares_nyse_stock_rating   \n",
       "10      9     85       9_times_seattle_seattle times_season   \n",
       "11     10     71    10_finance_yahoo_screener_yahoo finance   \n",
       "12     11     70             11_stocks_symbols_nasdaq_stock   \n",
       "13     12     68              12_galaxy_samsung_pro_oneplus   \n",
       "14     13     65    13_windows_windows 11_techrepublic_file   \n",
       "15     14     58               14_crypto_bitcoin_btc_traded   \n",
       "16     15     51             15_forbes_richest_paid_program   \n",
       "17     16     50            16_cyber_attack_attacks_malware   \n",
       "18     17     47       17_philips_accessories_care_pdf file   \n",
       "19     18     44                18_laptop_asus_core_surface   \n",
       "20     19     41          19_biden_trump_president_election   \n",
       "21     20     40            20_uefa_league_champions_cookie   \n",
       "22     21     39        21_ukraine_russia_russian_ukrainian   \n",
       "23     22     37   22_interests_marketing_medicine_products   \n",
       "24     23     35     23_whatsapp_messages_instagram_reviews   \n",
       "25     24     35           24_project_course_career_manager   \n",
       "26     25     32        25_tablet_ago_bestreviews_hours ago   \n",
       "27     26     31          26_metaverse_meta_virtual_reality   \n",
       "28     27     30                  27_bet_awards_music_award   \n",
       "29     28     30             28_forecast_2028_analysis_2027   \n",
       "30     29     28                    29_amd_intel_ryzen_core   \n",
       "31     30     28             30_new tab_tab_opens new_opens   \n",
       "32     31     28                 31_azure_react_install_arm   \n",
       "33     32     26           32_java_chapter_writing_startups   \n",
       "34     33     26                 33_wi_iphone_windows_wi fi   \n",
       "35     34     26        34_russia_ukraine_russian_ukrainian   \n",
       "36     35     26          35_omicron_covid_vaccine_covid 19   \n",
       "37     36     25              36_prev_opinion_party_percent   \n",
       "38     37     23           37_abortion_travel_court_supreme   \n",
       "39     38     23        38_philips_healthcare_care_clinical   \n",
       "40     39     23                 39_deals_amazon_prime_sale   \n",
       "41     40     22               40_musk_elon_elon musk_tesla   \n",
       "42     41     22     41_blockchain_analysis_forecast_growth   \n",
       "43     42     21    42_news network_federal_network_located   \n",
       "44     43     20         43_ohio_intel_taiwan_semiconductor   \n",
       "45     44     20           44_cars_electric_francisco_tesla   \n",
       "46     45     20                 45_flight_5g_band_airlines   \n",
       "47     46     19          46_shares_msft_nasdaq msft_nasdaq   \n",
       "48     47     18         47_chapter_javascript_startups_art   \n",
       "49     48     17            48_africa_african_south_cookies   \n",
       "50     49     16                    49_lp_options_pr_symbol   \n",
       "51     50     16     50_industry_releases_distribution_cagr   \n",
       "52     51     16                 51_ipad_pro_macbook_iphone   \n",
       "53     52     15             52_linux_ubuntu_04_open source   \n",
       "54     53     15            53_solar_renewable_energy_peace   \n",
       "\n",
       "                                       Representation  \\\n",
       "0   [ago, shares, stock, covid, growth, ukraine, n...   \n",
       "1   [pm, game, games, xbox, 2022 00, series, gamin...   \n",
       "2   [inflation, fed, stocks, oil, rates, td, bloom...   \n",
       "3   [link, new tab, opens, tab, opens new, subscri...   \n",
       "4   [seattle, times, seattle times, advertising, s...   \n",
       "5   [cloud, prnewswire, gray, customers, platform,...   \n",
       "6   [equities, password, username, register, nasda...   \n",
       "7   [india, delhi, indian, rs, live, crore, bjp, e...   \n",
       "8   [ago, cloudy, hours ago, weeks ago, antonio, p...   \n",
       "9   [shares, nyse, stock, rating, quarter, llc, na...   \n",
       "10  [times, seattle, seattle times, season, associ...   \n",
       "11  [finance, yahoo, screener, yahoo finance, stoc...   \n",
       "12  [stocks, symbols, nasdaq, stock, zacks, add, e...   \n",
       "13  [galaxy, samsung, pro, oneplus, samsung galaxy...   \n",
       "14  [windows, windows 11, techrepublic, file, tab,...   \n",
       "15  [crypto, bitcoin, btc, traded, dollar, trades,...   \n",
       "16  [forbes, richest, paid, program, insurance, cr...   \n",
       "17  [cyber, attack, attacks, malware, cybersecurit...   \n",
       "18  [philips, accessories, care, pdf file, pdf, pr...   \n",
       "19  [laptop, asus, core, surface, oled, intel, pro...   \n",
       "20  [biden, trump, president, election, 28 2022, g...   \n",
       "21  [uefa, league, champions, cookie, euro, champi...   \n",
       "22  [ukraine, russia, russian, ukrainian, attack, ...   \n",
       "23  [interests, marketing, medicine, products, gro...   \n",
       "24  [whatsapp, messages, instagram, reviews, messa...   \n",
       "25  [project, course, career, manager, programming...   \n",
       "26  [tablet, ago, bestreviews, hours ago, surface,...   \n",
       "27  [metaverse, meta, virtual, reality, vr, art, 3...   \n",
       "28  [bet, awards, music, award, sunday, roe, rock,...   \n",
       "29  [forecast, 2028, analysis, 2027, automotive, i...   \n",
       "30  [amd, intel, ryzen, core, cpu, gen, gaming, gr...   \n",
       "31  [new tab, tab, opens new, opens, tv, cookie, s...   \n",
       "32  [azure, react, install, arm, packages, log, ap...   \n",
       "33  [java, chapter, writing, startups, metaverse, ...   \n",
       "34  [wi, iphone, windows, wi fi, fi, browse, artic...   \n",
       "35  [russia, ukraine, russian, ukrainian, times, w...   \n",
       "36  [omicron, covid, vaccine, covid 19, cases, isr...   \n",
       "37  [prev, opinion, party, percent, police, travel...   \n",
       "38  [abortion, travel, court, supreme, supreme cou...   \n",
       "39  [philips, healthcare, care, clinical, websites...   \n",
       "40  [deals, amazon, prime, sale, prime day, tv, 4k...   \n",
       "41  [musk, elon, elon musk, tesla, deal, billion, ...   \n",
       "42  [blockchain, analysis, forecast, growth, langu...   \n",
       "43  [news network, federal, network, located, inte...   \n",
       "44  [ohio, intel, taiwan, semiconductor, memory, p...   \n",
       "45  [cars, electric, francisco, tesla, car, vehicl...   \n",
       "46  [flight, 5g, band, airlines, files, copyright,...   \n",
       "47  [shares, msft, nasdaq msft, nasdaq, microsoft ...   \n",
       "48  [chapter, javascript, startups, art, writing, ...   \n",
       "49  [africa, african, south, cookies, child, conse...   \n",
       "50  [lp, options, pr, symbol, https www, https, tr...   \n",
       "51  [industry, releases, distribution, cagr, usd, ...   \n",
       "52  [ipad, pro, macbook, iphone, display, models, ...   \n",
       "53  [linux, ubuntu, 04, open source, install, min,...   \n",
       "54  [solar, renewable, energy, peace, climate, prn...   \n",
       "\n",
       "                                  Representative_Docs  \n",
       "0   [Tornado hits Zierikzee, the Netherlands: One ...  \n",
       "1   [Canadian streamer xQc spent two hours on 'slo...  \n",
       "2   [European Stocks Retreat as Investors Weigh Ea...  \n",
       "3   [Hoda Kotb and Jenna Bush Hager Tease Ina Gart...  \n",
       "4   [Twin earthquakes in western Afghanistan kill ...  \n",
       "5   [Lookout to Exhibit Data-Centric Cloud Securit...  \n",
       "6   [Hawaiian, (HA) gains 4.27% for February 24 | ...  \n",
       "7   [Medical colleges Tamil Nadu Chennai inaugurat...  \n",
       "8   [What we know about mass school shootings in t...  \n",
       "9   [Daiwa Securities Group Inc. Raises Stock Hold...  \n",
       "10  [Ravens part ways with defensive coordinator D...  \n",
       "11  [Sampo plc’s share buybacks 18/01/2022 Sampo p...  \n",
       "12  [Here's What Could Help Immunocore Holdings PL...  \n",
       "13  [Samsung Galaxy S22 Ultra Gets Run Over by a C...  \n",
       "14  [Find Things Faster: How to Search in Windows ...  \n",
       "15  [STATERA 24-Hour Volume Hits $120,790.00 (STA)...  \n",
       "16  [The Future Of Diversity And Inclusion In Corp...  \n",
       "17  [XM Cyber Reveals Hidden Attack Paths Using Ac...  \n",
       "18  [Visit the support page for your CP6966/01 | P...  \n",
       "19  [HP AMD Athlon 3020e 14\" Touch Laptop for $250...  \n",
       "20  [Alert: Biden's 'Biggest Fear' for Ukraine War...  \n",
       "21  [Barcelona 5-1 Wolfsburg: Holders open up firs...  \n",
       "22  [Russia state TV paints Moscow as savior of ea...  \n",
       "23  [Significant Growth Expected In The Photoiniti...  \n",
       "24  [Snapchat introduces four new social engagemen...  \n",
       "25  [Using data analysis to inform decisions - Dat...  \n",
       "26  [Best tablet accessories for reading | KTALnew...  \n",
       "27  [Satya Nadella: Metaverse is just games, reall...  \n",
       "28  [CULTURE'S BIGGEST NIGHT, \"BET AWARDS\" 2022 DE...  \n",
       "29  [Global Orthopedics & Trauma Implants Market R...  \n",
       "30  [Intel CPUs are clawing back sales as AMD seem...  \n",
       "31  [How to watch Becoming Elizabeth - don’t miss ...  \n",
       "32  [@azure/iot-modelsrepository: Docs & Reviews |...  \n",
       "33  [korg | HackerNoon korg | HackerNoonStart Writ...  \n",
       "34  [Get Ready For Better Background Blur in Web V...  \n",
       "35  [Russia targets ammunitions depot in western U...  \n",
       "36  [Cuba's vaccine coverage and focus on children...  \n",
       "37  [COMRADES : WE HAVE BEEN INFILTRATED BY CCC ne...  \n",
       "38  [Why companies think paying for abortion trave...  \n",
       "39  [Healthcare modeling and simulation | Philips ...  \n",
       "40  [This Massive 75-Inch TV Is Only $698 at Walma...  \n",
       "41  [Report says Gates 'poured' millions into atta...  \n",
       "42  [Compliance Testing Solutions Market Size, Sha...  \n",
       "43  [No. 1 Auburn 55, Missouri 54 | Federal News N...  \n",
       "44  [COMPUTEX 2022 Global Press Conference Industr...  \n",
       "45  [Quick 5 Minutes of Diagnosing a Used American...  \n",
       "46  [FlightSim.Com - Simworks Studios - Vans RV-14...  \n",
       "47  [Oldfather Financial Services LLC Buys 138 Sha...  \n",
       "48  [chanwesley | HackerNoon chanwesley | HackerNo...  \n",
       "49  [Cellulant & Jambojet to Give Away Over 600 Di...  \n",
       "50  [Thinking about trading options or stock in Ap...  \n",
       "51  [   Global AI in Biopharmaceutical Development...  \n",
       "52  [Apple will continue the production of old iPa...  \n",
       "53  [6 Best Alternative Router Firmware that are O...  \n",
       "54  [First repeat Peace REC (P-REC) transaction to...  "
      ]
     },
     "execution_count": 142,
     "metadata": {},
     "output_type": "execute_result"
    }
   ],
   "source": [
    "topic_model.get_topic_info()"
   ]
  },
  {
   "cell_type": "code",
   "execution_count": 143,
   "metadata": {},
   "outputs": [
    {
     "data": {
      "application/vnd.plotly.v1+json": {
       "config": {
        "plotlyServerURL": "https://plot.ly"
       },
       "data": [
        {
         "customdata": [
          [
           0,
           "pm | game | games | xbox | 2022 00",
           306
          ],
          [
           1,
           "inflation | fed | stocks | oil | rates",
           239
          ],
          [
           2,
           "link | new tab | opens | tab | opens new",
           215
          ],
          [
           3,
           "seattle | times | seattle times | advertising | streamingcomicsgames",
           213
          ],
          [
           4,
           "cloud | prnewswire | gray | customers | platform",
           201
          ],
          [
           5,
           "equities | password | username | register | nasdaq",
           184
          ],
          [
           6,
           "india | delhi | indian | rs | live",
           150
          ],
          [
           7,
           "ago | cloudy | hours ago | weeks ago | antonio",
           114
          ],
          [
           8,
           "shares | nyse | stock | rating | quarter",
           111
          ],
          [
           9,
           "times | seattle | seattle times | season | associated",
           85
          ],
          [
           10,
           "finance | yahoo | screener | yahoo finance | stocks",
           71
          ],
          [
           11,
           "stocks | symbols | nasdaq | stock | zacks",
           70
          ],
          [
           12,
           "galaxy | samsung | pro | oneplus | samsung galaxy",
           68
          ],
          [
           13,
           "windows | windows 11 | techrepublic | file | tab",
           65
          ],
          [
           14,
           "crypto | bitcoin | btc | traded | dollar",
           58
          ],
          [
           15,
           "forbes | richest | paid | program | insurance",
           51
          ],
          [
           16,
           "cyber | attack | attacks | malware | cybersecurity",
           50
          ],
          [
           17,
           "philips | accessories | care | pdf file | pdf",
           47
          ],
          [
           18,
           "laptop | asus | core | surface | oled",
           44
          ],
          [
           19,
           "biden | trump | president | election | 28 2022",
           41
          ],
          [
           20,
           "uefa | league | champions | cookie | euro",
           40
          ],
          [
           21,
           "ukraine | russia | russian | ukrainian | attack",
           39
          ],
          [
           22,
           "interests | marketing | medicine | products | growth",
           37
          ],
          [
           23,
           "whatsapp | messages | instagram | reviews | message",
           35
          ],
          [
           24,
           "project | course | career | manager | programming",
           35
          ],
          [
           25,
           "tablet | ago | bestreviews | hours ago | surface",
           32
          ],
          [
           26,
           "metaverse | meta | virtual | reality | vr",
           31
          ],
          [
           27,
           "bet | awards | music | award | sunday",
           30
          ],
          [
           28,
           "forecast | 2028 | analysis | 2027 | automotive",
           30
          ],
          [
           29,
           "amd | intel | ryzen | core | cpu",
           28
          ],
          [
           30,
           "new tab | tab | opens new | opens | tv",
           28
          ],
          [
           31,
           "azure | react | install | arm | packages",
           28
          ],
          [
           32,
           "java | chapter | writing | startups | metaverse",
           26
          ],
          [
           33,
           "wi | iphone | windows | wi fi | fi",
           26
          ],
          [
           34,
           "russia | ukraine | russian | ukrainian | times",
           26
          ],
          [
           35,
           "omicron | covid | vaccine | covid 19 | cases",
           26
          ],
          [
           36,
           "prev | opinion | party | percent | police",
           25
          ],
          [
           37,
           "abortion | travel | court | supreme | supreme court",
           23
          ],
          [
           38,
           "philips | healthcare | care | clinical | websites",
           23
          ],
          [
           39,
           "deals | amazon | prime | sale | prime day",
           23
          ],
          [
           40,
           "musk | elon | elon musk | tesla | deal",
           22
          ],
          [
           41,
           "blockchain | analysis | forecast | growth | language",
           22
          ],
          [
           42,
           "news network | federal | network | located | intended",
           21
          ],
          [
           43,
           "ohio | intel | taiwan | semiconductor | memory",
           20
          ],
          [
           44,
           "cars | electric | francisco | tesla | car",
           20
          ],
          [
           45,
           "flight | 5g | band | airlines | files",
           20
          ],
          [
           46,
           "shares | msft | nasdaq msft | nasdaq | microsoft nasdaq",
           19
          ],
          [
           47,
           "chapter | javascript | startups | art | writing",
           18
          ],
          [
           48,
           "africa | african | south | cookies | child",
           17
          ],
          [
           49,
           "lp | options | pr | symbol | https www",
           16
          ],
          [
           50,
           "industry | releases | distribution | cagr | usd",
           16
          ],
          [
           51,
           "ipad | pro | macbook | iphone | display",
           16
          ],
          [
           52,
           "linux | ubuntu | 04 | open source | install",
           15
          ],
          [
           53,
           "solar | renewable | energy | peace | climate",
           15
          ]
         ],
         "hovertemplate": "<b>Topic %{customdata[0]}</b><br>%{customdata[1]}<br>Size: %{customdata[2]}",
         "legendgroup": "",
         "marker": {
          "color": "#B0BEC5",
          "line": {
           "color": "DarkSlateGrey",
           "width": 2
          },
          "size": {
           "bdata": "MgHvANcA1QDJALgAlgByAG8AVQBHAEYARABBADoAMwAyAC8ALAApACgAJwAlACMAIwAgAB8AHgAeABwAHAAcABoAGgAaABoAGQAXABcAFwAWABYAFQAUABQAFAATABIAEQAQABAAEAAPAA8A",
           "dtype": "i2"
          },
          "sizemode": "area",
          "sizeref": 0.19125,
          "symbol": "circle"
         },
         "mode": "markers",
         "name": "",
         "orientation": "v",
         "showlegend": false,
         "type": "scatter",
         "x": {
          "bdata": "jYKAQIumVMCh9ibBCvidv6uGmUAwJHjAMMUqwTS7I8HD54TAooKOv2kbRcDdmFbAs7uOQAfHokE53z7ALkY7wFgjkkCfuKxA4h+RQGiRI8EpgyPBtTS7v/fgCsAGpKVBMraNQJZ1m0AdIIZAZLUkwYQrAMA+1pNAZAx3QL2xj0A49GNBTMakQdtipr9BxSrBIZ2xwEmhJMFk56ZA0WOSQFBsVcCF/QPAD0MhwfZCnEDCNY5A9iaZQA4tjMDx9GNBNymxwM5kZsCBwui/E9aOQFD0oUGkyJZA",
          "dtype": "f4"
         },
         "xaxis": "x",
         "y": {
          "bdata": "LejVP3kTcUHw4KLA8j7oP8MeRD8xQHdBD2TLP/ywsMDjwnZBeJT2P4dEfUHD8ndBujVWQRSO7kBqiH9Byh+AQf+fDj9rnRg+4SRNQUCYwsBnKbLAFMzMP6YdGUF2AvpAiUmePvHAUEFQHbQ/QdOowLbKG0FKZElBkCfxPy6/iD+BBiE/4Ir2QHk44T+YY8s/toQ7wJQfxMBZcYE+QdNOQW38bkGC1BpB1EjMwBt2Sz8YPSU/mAG+PtT/c0E8BiE/RPY6wPJfekEjux5B125XQZBD60DkyGE/",
          "dtype": "f4"
         },
         "yaxis": "y"
        }
       ],
       "layout": {
        "annotations": [
         {
          "showarrow": false,
          "text": "D1",
          "x": -12.274131345748902,
          "y": 5.538188314437867,
          "yshift": 10
         },
         {
          "showarrow": false,
          "text": "D2",
          "x": 5.768360829353332,
          "xshift": 10,
          "y": 18.417850303649903
         }
        ],
        "height": 650,
        "hoverlabel": {
         "bgcolor": "white",
         "font": {
          "family": "Rockwell",
          "size": 16
         }
        },
        "legend": {
         "itemsizing": "constant",
         "tracegroupgap": 0
        },
        "margin": {
         "t": 60
        },
        "shapes": [
         {
          "line": {
           "color": "#CFD8DC",
           "width": 2
          },
          "type": "line",
          "x0": 5.768360829353332,
          "x1": 5.768360829353332,
          "y0": -7.34147367477417,
          "y1": 18.417850303649903
         },
         {
          "line": {
           "color": "#9E9E9E",
           "width": 2
          },
          "type": "line",
          "x0": -12.274131345748902,
          "x1": 23.810853004455566,
          "y0": 5.538188314437867,
          "y1": 5.538188314437867
         }
        ],
        "sliders": [
         {
          "active": 0,
          "pad": {
           "t": 50
          },
          "steps": [
           {
            "args": [
             {
              "marker.color": [
               [
                "red",
                "#B0BEC5",
                "#B0BEC5",
                "#B0BEC5",
                "#B0BEC5",
                "#B0BEC5",
                "#B0BEC5",
                "#B0BEC5",
                "#B0BEC5",
                "#B0BEC5",
                "#B0BEC5",
                "#B0BEC5",
                "#B0BEC5",
                "#B0BEC5",
                "#B0BEC5",
                "#B0BEC5",
                "#B0BEC5",
                "#B0BEC5",
                "#B0BEC5",
                "#B0BEC5",
                "#B0BEC5",
                "#B0BEC5",
                "#B0BEC5",
                "#B0BEC5",
                "#B0BEC5",
                "#B0BEC5",
                "#B0BEC5",
                "#B0BEC5",
                "#B0BEC5",
                "#B0BEC5",
                "#B0BEC5",
                "#B0BEC5",
                "#B0BEC5",
                "#B0BEC5",
                "#B0BEC5",
                "#B0BEC5",
                "#B0BEC5",
                "#B0BEC5",
                "#B0BEC5",
                "#B0BEC5",
                "#B0BEC5",
                "#B0BEC5",
                "#B0BEC5",
                "#B0BEC5",
                "#B0BEC5",
                "#B0BEC5",
                "#B0BEC5",
                "#B0BEC5",
                "#B0BEC5",
                "#B0BEC5",
                "#B0BEC5",
                "#B0BEC5",
                "#B0BEC5",
                "#B0BEC5"
               ]
              ]
             }
            ],
            "label": "Topic 0",
            "method": "update"
           },
           {
            "args": [
             {
              "marker.color": [
               [
                "#B0BEC5",
                "red",
                "#B0BEC5",
                "#B0BEC5",
                "#B0BEC5",
                "#B0BEC5",
                "#B0BEC5",
                "#B0BEC5",
                "#B0BEC5",
                "#B0BEC5",
                "#B0BEC5",
                "#B0BEC5",
                "#B0BEC5",
                "#B0BEC5",
                "#B0BEC5",
                "#B0BEC5",
                "#B0BEC5",
                "#B0BEC5",
                "#B0BEC5",
                "#B0BEC5",
                "#B0BEC5",
                "#B0BEC5",
                "#B0BEC5",
                "#B0BEC5",
                "#B0BEC5",
                "#B0BEC5",
                "#B0BEC5",
                "#B0BEC5",
                "#B0BEC5",
                "#B0BEC5",
                "#B0BEC5",
                "#B0BEC5",
                "#B0BEC5",
                "#B0BEC5",
                "#B0BEC5",
                "#B0BEC5",
                "#B0BEC5",
                "#B0BEC5",
                "#B0BEC5",
                "#B0BEC5",
                "#B0BEC5",
                "#B0BEC5",
                "#B0BEC5",
                "#B0BEC5",
                "#B0BEC5",
                "#B0BEC5",
                "#B0BEC5",
                "#B0BEC5",
                "#B0BEC5",
                "#B0BEC5",
                "#B0BEC5",
                "#B0BEC5",
                "#B0BEC5",
                "#B0BEC5"
               ]
              ]
             }
            ],
            "label": "Topic 1",
            "method": "update"
           },
           {
            "args": [
             {
              "marker.color": [
               [
                "#B0BEC5",
                "#B0BEC5",
                "red",
                "#B0BEC5",
                "#B0BEC5",
                "#B0BEC5",
                "#B0BEC5",
                "#B0BEC5",
                "#B0BEC5",
                "#B0BEC5",
                "#B0BEC5",
                "#B0BEC5",
                "#B0BEC5",
                "#B0BEC5",
                "#B0BEC5",
                "#B0BEC5",
                "#B0BEC5",
                "#B0BEC5",
                "#B0BEC5",
                "#B0BEC5",
                "#B0BEC5",
                "#B0BEC5",
                "#B0BEC5",
                "#B0BEC5",
                "#B0BEC5",
                "#B0BEC5",
                "#B0BEC5",
                "#B0BEC5",
                "#B0BEC5",
                "#B0BEC5",
                "#B0BEC5",
                "#B0BEC5",
                "#B0BEC5",
                "#B0BEC5",
                "#B0BEC5",
                "#B0BEC5",
                "#B0BEC5",
                "#B0BEC5",
                "#B0BEC5",
                "#B0BEC5",
                "#B0BEC5",
                "#B0BEC5",
                "#B0BEC5",
                "#B0BEC5",
                "#B0BEC5",
                "#B0BEC5",
                "#B0BEC5",
                "#B0BEC5",
                "#B0BEC5",
                "#B0BEC5",
                "#B0BEC5",
                "#B0BEC5",
                "#B0BEC5",
                "#B0BEC5"
               ]
              ]
             }
            ],
            "label": "Topic 2",
            "method": "update"
           },
           {
            "args": [
             {
              "marker.color": [
               [
                "#B0BEC5",
                "#B0BEC5",
                "#B0BEC5",
                "red",
                "#B0BEC5",
                "#B0BEC5",
                "#B0BEC5",
                "#B0BEC5",
                "#B0BEC5",
                "#B0BEC5",
                "#B0BEC5",
                "#B0BEC5",
                "#B0BEC5",
                "#B0BEC5",
                "#B0BEC5",
                "#B0BEC5",
                "#B0BEC5",
                "#B0BEC5",
                "#B0BEC5",
                "#B0BEC5",
                "#B0BEC5",
                "#B0BEC5",
                "#B0BEC5",
                "#B0BEC5",
                "#B0BEC5",
                "#B0BEC5",
                "#B0BEC5",
                "#B0BEC5",
                "#B0BEC5",
                "#B0BEC5",
                "#B0BEC5",
                "#B0BEC5",
                "#B0BEC5",
                "#B0BEC5",
                "#B0BEC5",
                "#B0BEC5",
                "#B0BEC5",
                "#B0BEC5",
                "#B0BEC5",
                "#B0BEC5",
                "#B0BEC5",
                "#B0BEC5",
                "#B0BEC5",
                "#B0BEC5",
                "#B0BEC5",
                "#B0BEC5",
                "#B0BEC5",
                "#B0BEC5",
                "#B0BEC5",
                "#B0BEC5",
                "#B0BEC5",
                "#B0BEC5",
                "#B0BEC5",
                "#B0BEC5"
               ]
              ]
             }
            ],
            "label": "Topic 3",
            "method": "update"
           },
           {
            "args": [
             {
              "marker.color": [
               [
                "#B0BEC5",
                "#B0BEC5",
                "#B0BEC5",
                "#B0BEC5",
                "red",
                "#B0BEC5",
                "#B0BEC5",
                "#B0BEC5",
                "#B0BEC5",
                "#B0BEC5",
                "#B0BEC5",
                "#B0BEC5",
                "#B0BEC5",
                "#B0BEC5",
                "#B0BEC5",
                "#B0BEC5",
                "#B0BEC5",
                "#B0BEC5",
                "#B0BEC5",
                "#B0BEC5",
                "#B0BEC5",
                "#B0BEC5",
                "#B0BEC5",
                "#B0BEC5",
                "#B0BEC5",
                "#B0BEC5",
                "#B0BEC5",
                "#B0BEC5",
                "#B0BEC5",
                "#B0BEC5",
                "#B0BEC5",
                "#B0BEC5",
                "#B0BEC5",
                "#B0BEC5",
                "#B0BEC5",
                "#B0BEC5",
                "#B0BEC5",
                "#B0BEC5",
                "#B0BEC5",
                "#B0BEC5",
                "#B0BEC5",
                "#B0BEC5",
                "#B0BEC5",
                "#B0BEC5",
                "#B0BEC5",
                "#B0BEC5",
                "#B0BEC5",
                "#B0BEC5",
                "#B0BEC5",
                "#B0BEC5",
                "#B0BEC5",
                "#B0BEC5",
                "#B0BEC5",
                "#B0BEC5"
               ]
              ]
             }
            ],
            "label": "Topic 4",
            "method": "update"
           },
           {
            "args": [
             {
              "marker.color": [
               [
                "#B0BEC5",
                "#B0BEC5",
                "#B0BEC5",
                "#B0BEC5",
                "#B0BEC5",
                "red",
                "#B0BEC5",
                "#B0BEC5",
                "#B0BEC5",
                "#B0BEC5",
                "#B0BEC5",
                "#B0BEC5",
                "#B0BEC5",
                "#B0BEC5",
                "#B0BEC5",
                "#B0BEC5",
                "#B0BEC5",
                "#B0BEC5",
                "#B0BEC5",
                "#B0BEC5",
                "#B0BEC5",
                "#B0BEC5",
                "#B0BEC5",
                "#B0BEC5",
                "#B0BEC5",
                "#B0BEC5",
                "#B0BEC5",
                "#B0BEC5",
                "#B0BEC5",
                "#B0BEC5",
                "#B0BEC5",
                "#B0BEC5",
                "#B0BEC5",
                "#B0BEC5",
                "#B0BEC5",
                "#B0BEC5",
                "#B0BEC5",
                "#B0BEC5",
                "#B0BEC5",
                "#B0BEC5",
                "#B0BEC5",
                "#B0BEC5",
                "#B0BEC5",
                "#B0BEC5",
                "#B0BEC5",
                "#B0BEC5",
                "#B0BEC5",
                "#B0BEC5",
                "#B0BEC5",
                "#B0BEC5",
                "#B0BEC5",
                "#B0BEC5",
                "#B0BEC5",
                "#B0BEC5"
               ]
              ]
             }
            ],
            "label": "Topic 5",
            "method": "update"
           },
           {
            "args": [
             {
              "marker.color": [
               [
                "#B0BEC5",
                "#B0BEC5",
                "#B0BEC5",
                "#B0BEC5",
                "#B0BEC5",
                "#B0BEC5",
                "red",
                "#B0BEC5",
                "#B0BEC5",
                "#B0BEC5",
                "#B0BEC5",
                "#B0BEC5",
                "#B0BEC5",
                "#B0BEC5",
                "#B0BEC5",
                "#B0BEC5",
                "#B0BEC5",
                "#B0BEC5",
                "#B0BEC5",
                "#B0BEC5",
                "#B0BEC5",
                "#B0BEC5",
                "#B0BEC5",
                "#B0BEC5",
                "#B0BEC5",
                "#B0BEC5",
                "#B0BEC5",
                "#B0BEC5",
                "#B0BEC5",
                "#B0BEC5",
                "#B0BEC5",
                "#B0BEC5",
                "#B0BEC5",
                "#B0BEC5",
                "#B0BEC5",
                "#B0BEC5",
                "#B0BEC5",
                "#B0BEC5",
                "#B0BEC5",
                "#B0BEC5",
                "#B0BEC5",
                "#B0BEC5",
                "#B0BEC5",
                "#B0BEC5",
                "#B0BEC5",
                "#B0BEC5",
                "#B0BEC5",
                "#B0BEC5",
                "#B0BEC5",
                "#B0BEC5",
                "#B0BEC5",
                "#B0BEC5",
                "#B0BEC5",
                "#B0BEC5"
               ]
              ]
             }
            ],
            "label": "Topic 6",
            "method": "update"
           },
           {
            "args": [
             {
              "marker.color": [
               [
                "#B0BEC5",
                "#B0BEC5",
                "#B0BEC5",
                "#B0BEC5",
                "#B0BEC5",
                "#B0BEC5",
                "#B0BEC5",
                "red",
                "#B0BEC5",
                "#B0BEC5",
                "#B0BEC5",
                "#B0BEC5",
                "#B0BEC5",
                "#B0BEC5",
                "#B0BEC5",
                "#B0BEC5",
                "#B0BEC5",
                "#B0BEC5",
                "#B0BEC5",
                "#B0BEC5",
                "#B0BEC5",
                "#B0BEC5",
                "#B0BEC5",
                "#B0BEC5",
                "#B0BEC5",
                "#B0BEC5",
                "#B0BEC5",
                "#B0BEC5",
                "#B0BEC5",
                "#B0BEC5",
                "#B0BEC5",
                "#B0BEC5",
                "#B0BEC5",
                "#B0BEC5",
                "#B0BEC5",
                "#B0BEC5",
                "#B0BEC5",
                "#B0BEC5",
                "#B0BEC5",
                "#B0BEC5",
                "#B0BEC5",
                "#B0BEC5",
                "#B0BEC5",
                "#B0BEC5",
                "#B0BEC5",
                "#B0BEC5",
                "#B0BEC5",
                "#B0BEC5",
                "#B0BEC5",
                "#B0BEC5",
                "#B0BEC5",
                "#B0BEC5",
                "#B0BEC5",
                "#B0BEC5"
               ]
              ]
             }
            ],
            "label": "Topic 7",
            "method": "update"
           },
           {
            "args": [
             {
              "marker.color": [
               [
                "#B0BEC5",
                "#B0BEC5",
                "#B0BEC5",
                "#B0BEC5",
                "#B0BEC5",
                "#B0BEC5",
                "#B0BEC5",
                "#B0BEC5",
                "red",
                "#B0BEC5",
                "#B0BEC5",
                "#B0BEC5",
                "#B0BEC5",
                "#B0BEC5",
                "#B0BEC5",
                "#B0BEC5",
                "#B0BEC5",
                "#B0BEC5",
                "#B0BEC5",
                "#B0BEC5",
                "#B0BEC5",
                "#B0BEC5",
                "#B0BEC5",
                "#B0BEC5",
                "#B0BEC5",
                "#B0BEC5",
                "#B0BEC5",
                "#B0BEC5",
                "#B0BEC5",
                "#B0BEC5",
                "#B0BEC5",
                "#B0BEC5",
                "#B0BEC5",
                "#B0BEC5",
                "#B0BEC5",
                "#B0BEC5",
                "#B0BEC5",
                "#B0BEC5",
                "#B0BEC5",
                "#B0BEC5",
                "#B0BEC5",
                "#B0BEC5",
                "#B0BEC5",
                "#B0BEC5",
                "#B0BEC5",
                "#B0BEC5",
                "#B0BEC5",
                "#B0BEC5",
                "#B0BEC5",
                "#B0BEC5",
                "#B0BEC5",
                "#B0BEC5",
                "#B0BEC5",
                "#B0BEC5"
               ]
              ]
             }
            ],
            "label": "Topic 8",
            "method": "update"
           },
           {
            "args": [
             {
              "marker.color": [
               [
                "#B0BEC5",
                "#B0BEC5",
                "#B0BEC5",
                "#B0BEC5",
                "#B0BEC5",
                "#B0BEC5",
                "#B0BEC5",
                "#B0BEC5",
                "#B0BEC5",
                "red",
                "#B0BEC5",
                "#B0BEC5",
                "#B0BEC5",
                "#B0BEC5",
                "#B0BEC5",
                "#B0BEC5",
                "#B0BEC5",
                "#B0BEC5",
                "#B0BEC5",
                "#B0BEC5",
                "#B0BEC5",
                "#B0BEC5",
                "#B0BEC5",
                "#B0BEC5",
                "#B0BEC5",
                "#B0BEC5",
                "#B0BEC5",
                "#B0BEC5",
                "#B0BEC5",
                "#B0BEC5",
                "#B0BEC5",
                "#B0BEC5",
                "#B0BEC5",
                "#B0BEC5",
                "#B0BEC5",
                "#B0BEC5",
                "#B0BEC5",
                "#B0BEC5",
                "#B0BEC5",
                "#B0BEC5",
                "#B0BEC5",
                "#B0BEC5",
                "#B0BEC5",
                "#B0BEC5",
                "#B0BEC5",
                "#B0BEC5",
                "#B0BEC5",
                "#B0BEC5",
                "#B0BEC5",
                "#B0BEC5",
                "#B0BEC5",
                "#B0BEC5",
                "#B0BEC5",
                "#B0BEC5"
               ]
              ]
             }
            ],
            "label": "Topic 9",
            "method": "update"
           },
           {
            "args": [
             {
              "marker.color": [
               [
                "#B0BEC5",
                "#B0BEC5",
                "#B0BEC5",
                "#B0BEC5",
                "#B0BEC5",
                "#B0BEC5",
                "#B0BEC5",
                "#B0BEC5",
                "#B0BEC5",
                "#B0BEC5",
                "red",
                "#B0BEC5",
                "#B0BEC5",
                "#B0BEC5",
                "#B0BEC5",
                "#B0BEC5",
                "#B0BEC5",
                "#B0BEC5",
                "#B0BEC5",
                "#B0BEC5",
                "#B0BEC5",
                "#B0BEC5",
                "#B0BEC5",
                "#B0BEC5",
                "#B0BEC5",
                "#B0BEC5",
                "#B0BEC5",
                "#B0BEC5",
                "#B0BEC5",
                "#B0BEC5",
                "#B0BEC5",
                "#B0BEC5",
                "#B0BEC5",
                "#B0BEC5",
                "#B0BEC5",
                "#B0BEC5",
                "#B0BEC5",
                "#B0BEC5",
                "#B0BEC5",
                "#B0BEC5",
                "#B0BEC5",
                "#B0BEC5",
                "#B0BEC5",
                "#B0BEC5",
                "#B0BEC5",
                "#B0BEC5",
                "#B0BEC5",
                "#B0BEC5",
                "#B0BEC5",
                "#B0BEC5",
                "#B0BEC5",
                "#B0BEC5",
                "#B0BEC5",
                "#B0BEC5"
               ]
              ]
             }
            ],
            "label": "Topic 10",
            "method": "update"
           },
           {
            "args": [
             {
              "marker.color": [
               [
                "#B0BEC5",
                "#B0BEC5",
                "#B0BEC5",
                "#B0BEC5",
                "#B0BEC5",
                "#B0BEC5",
                "#B0BEC5",
                "#B0BEC5",
                "#B0BEC5",
                "#B0BEC5",
                "#B0BEC5",
                "red",
                "#B0BEC5",
                "#B0BEC5",
                "#B0BEC5",
                "#B0BEC5",
                "#B0BEC5",
                "#B0BEC5",
                "#B0BEC5",
                "#B0BEC5",
                "#B0BEC5",
                "#B0BEC5",
                "#B0BEC5",
                "#B0BEC5",
                "#B0BEC5",
                "#B0BEC5",
                "#B0BEC5",
                "#B0BEC5",
                "#B0BEC5",
                "#B0BEC5",
                "#B0BEC5",
                "#B0BEC5",
                "#B0BEC5",
                "#B0BEC5",
                "#B0BEC5",
                "#B0BEC5",
                "#B0BEC5",
                "#B0BEC5",
                "#B0BEC5",
                "#B0BEC5",
                "#B0BEC5",
                "#B0BEC5",
                "#B0BEC5",
                "#B0BEC5",
                "#B0BEC5",
                "#B0BEC5",
                "#B0BEC5",
                "#B0BEC5",
                "#B0BEC5",
                "#B0BEC5",
                "#B0BEC5",
                "#B0BEC5",
                "#B0BEC5",
                "#B0BEC5"
               ]
              ]
             }
            ],
            "label": "Topic 11",
            "method": "update"
           },
           {
            "args": [
             {
              "marker.color": [
               [
                "#B0BEC5",
                "#B0BEC5",
                "#B0BEC5",
                "#B0BEC5",
                "#B0BEC5",
                "#B0BEC5",
                "#B0BEC5",
                "#B0BEC5",
                "#B0BEC5",
                "#B0BEC5",
                "#B0BEC5",
                "#B0BEC5",
                "red",
                "#B0BEC5",
                "#B0BEC5",
                "#B0BEC5",
                "#B0BEC5",
                "#B0BEC5",
                "#B0BEC5",
                "#B0BEC5",
                "#B0BEC5",
                "#B0BEC5",
                "#B0BEC5",
                "#B0BEC5",
                "#B0BEC5",
                "#B0BEC5",
                "#B0BEC5",
                "#B0BEC5",
                "#B0BEC5",
                "#B0BEC5",
                "#B0BEC5",
                "#B0BEC5",
                "#B0BEC5",
                "#B0BEC5",
                "#B0BEC5",
                "#B0BEC5",
                "#B0BEC5",
                "#B0BEC5",
                "#B0BEC5",
                "#B0BEC5",
                "#B0BEC5",
                "#B0BEC5",
                "#B0BEC5",
                "#B0BEC5",
                "#B0BEC5",
                "#B0BEC5",
                "#B0BEC5",
                "#B0BEC5",
                "#B0BEC5",
                "#B0BEC5",
                "#B0BEC5",
                "#B0BEC5",
                "#B0BEC5",
                "#B0BEC5"
               ]
              ]
             }
            ],
            "label": "Topic 12",
            "method": "update"
           },
           {
            "args": [
             {
              "marker.color": [
               [
                "#B0BEC5",
                "#B0BEC5",
                "#B0BEC5",
                "#B0BEC5",
                "#B0BEC5",
                "#B0BEC5",
                "#B0BEC5",
                "#B0BEC5",
                "#B0BEC5",
                "#B0BEC5",
                "#B0BEC5",
                "#B0BEC5",
                "#B0BEC5",
                "red",
                "#B0BEC5",
                "#B0BEC5",
                "#B0BEC5",
                "#B0BEC5",
                "#B0BEC5",
                "#B0BEC5",
                "#B0BEC5",
                "#B0BEC5",
                "#B0BEC5",
                "#B0BEC5",
                "#B0BEC5",
                "#B0BEC5",
                "#B0BEC5",
                "#B0BEC5",
                "#B0BEC5",
                "#B0BEC5",
                "#B0BEC5",
                "#B0BEC5",
                "#B0BEC5",
                "#B0BEC5",
                "#B0BEC5",
                "#B0BEC5",
                "#B0BEC5",
                "#B0BEC5",
                "#B0BEC5",
                "#B0BEC5",
                "#B0BEC5",
                "#B0BEC5",
                "#B0BEC5",
                "#B0BEC5",
                "#B0BEC5",
                "#B0BEC5",
                "#B0BEC5",
                "#B0BEC5",
                "#B0BEC5",
                "#B0BEC5",
                "#B0BEC5",
                "#B0BEC5",
                "#B0BEC5",
                "#B0BEC5"
               ]
              ]
             }
            ],
            "label": "Topic 13",
            "method": "update"
           },
           {
            "args": [
             {
              "marker.color": [
               [
                "#B0BEC5",
                "#B0BEC5",
                "#B0BEC5",
                "#B0BEC5",
                "#B0BEC5",
                "#B0BEC5",
                "#B0BEC5",
                "#B0BEC5",
                "#B0BEC5",
                "#B0BEC5",
                "#B0BEC5",
                "#B0BEC5",
                "#B0BEC5",
                "#B0BEC5",
                "red",
                "#B0BEC5",
                "#B0BEC5",
                "#B0BEC5",
                "#B0BEC5",
                "#B0BEC5",
                "#B0BEC5",
                "#B0BEC5",
                "#B0BEC5",
                "#B0BEC5",
                "#B0BEC5",
                "#B0BEC5",
                "#B0BEC5",
                "#B0BEC5",
                "#B0BEC5",
                "#B0BEC5",
                "#B0BEC5",
                "#B0BEC5",
                "#B0BEC5",
                "#B0BEC5",
                "#B0BEC5",
                "#B0BEC5",
                "#B0BEC5",
                "#B0BEC5",
                "#B0BEC5",
                "#B0BEC5",
                "#B0BEC5",
                "#B0BEC5",
                "#B0BEC5",
                "#B0BEC5",
                "#B0BEC5",
                "#B0BEC5",
                "#B0BEC5",
                "#B0BEC5",
                "#B0BEC5",
                "#B0BEC5",
                "#B0BEC5",
                "#B0BEC5",
                "#B0BEC5",
                "#B0BEC5"
               ]
              ]
             }
            ],
            "label": "Topic 14",
            "method": "update"
           },
           {
            "args": [
             {
              "marker.color": [
               [
                "#B0BEC5",
                "#B0BEC5",
                "#B0BEC5",
                "#B0BEC5",
                "#B0BEC5",
                "#B0BEC5",
                "#B0BEC5",
                "#B0BEC5",
                "#B0BEC5",
                "#B0BEC5",
                "#B0BEC5",
                "#B0BEC5",
                "#B0BEC5",
                "#B0BEC5",
                "#B0BEC5",
                "red",
                "#B0BEC5",
                "#B0BEC5",
                "#B0BEC5",
                "#B0BEC5",
                "#B0BEC5",
                "#B0BEC5",
                "#B0BEC5",
                "#B0BEC5",
                "#B0BEC5",
                "#B0BEC5",
                "#B0BEC5",
                "#B0BEC5",
                "#B0BEC5",
                "#B0BEC5",
                "#B0BEC5",
                "#B0BEC5",
                "#B0BEC5",
                "#B0BEC5",
                "#B0BEC5",
                "#B0BEC5",
                "#B0BEC5",
                "#B0BEC5",
                "#B0BEC5",
                "#B0BEC5",
                "#B0BEC5",
                "#B0BEC5",
                "#B0BEC5",
                "#B0BEC5",
                "#B0BEC5",
                "#B0BEC5",
                "#B0BEC5",
                "#B0BEC5",
                "#B0BEC5",
                "#B0BEC5",
                "#B0BEC5",
                "#B0BEC5",
                "#B0BEC5",
                "#B0BEC5"
               ]
              ]
             }
            ],
            "label": "Topic 15",
            "method": "update"
           },
           {
            "args": [
             {
              "marker.color": [
               [
                "#B0BEC5",
                "#B0BEC5",
                "#B0BEC5",
                "#B0BEC5",
                "#B0BEC5",
                "#B0BEC5",
                "#B0BEC5",
                "#B0BEC5",
                "#B0BEC5",
                "#B0BEC5",
                "#B0BEC5",
                "#B0BEC5",
                "#B0BEC5",
                "#B0BEC5",
                "#B0BEC5",
                "#B0BEC5",
                "red",
                "#B0BEC5",
                "#B0BEC5",
                "#B0BEC5",
                "#B0BEC5",
                "#B0BEC5",
                "#B0BEC5",
                "#B0BEC5",
                "#B0BEC5",
                "#B0BEC5",
                "#B0BEC5",
                "#B0BEC5",
                "#B0BEC5",
                "#B0BEC5",
                "#B0BEC5",
                "#B0BEC5",
                "#B0BEC5",
                "#B0BEC5",
                "#B0BEC5",
                "#B0BEC5",
                "#B0BEC5",
                "#B0BEC5",
                "#B0BEC5",
                "#B0BEC5",
                "#B0BEC5",
                "#B0BEC5",
                "#B0BEC5",
                "#B0BEC5",
                "#B0BEC5",
                "#B0BEC5",
                "#B0BEC5",
                "#B0BEC5",
                "#B0BEC5",
                "#B0BEC5",
                "#B0BEC5",
                "#B0BEC5",
                "#B0BEC5",
                "#B0BEC5"
               ]
              ]
             }
            ],
            "label": "Topic 16",
            "method": "update"
           },
           {
            "args": [
             {
              "marker.color": [
               [
                "#B0BEC5",
                "#B0BEC5",
                "#B0BEC5",
                "#B0BEC5",
                "#B0BEC5",
                "#B0BEC5",
                "#B0BEC5",
                "#B0BEC5",
                "#B0BEC5",
                "#B0BEC5",
                "#B0BEC5",
                "#B0BEC5",
                "#B0BEC5",
                "#B0BEC5",
                "#B0BEC5",
                "#B0BEC5",
                "#B0BEC5",
                "red",
                "#B0BEC5",
                "#B0BEC5",
                "#B0BEC5",
                "#B0BEC5",
                "#B0BEC5",
                "#B0BEC5",
                "#B0BEC5",
                "#B0BEC5",
                "#B0BEC5",
                "#B0BEC5",
                "#B0BEC5",
                "#B0BEC5",
                "#B0BEC5",
                "#B0BEC5",
                "#B0BEC5",
                "#B0BEC5",
                "#B0BEC5",
                "#B0BEC5",
                "#B0BEC5",
                "#B0BEC5",
                "#B0BEC5",
                "#B0BEC5",
                "#B0BEC5",
                "#B0BEC5",
                "#B0BEC5",
                "#B0BEC5",
                "#B0BEC5",
                "#B0BEC5",
                "#B0BEC5",
                "#B0BEC5",
                "#B0BEC5",
                "#B0BEC5",
                "#B0BEC5",
                "#B0BEC5",
                "#B0BEC5",
                "#B0BEC5"
               ]
              ]
             }
            ],
            "label": "Topic 17",
            "method": "update"
           },
           {
            "args": [
             {
              "marker.color": [
               [
                "#B0BEC5",
                "#B0BEC5",
                "#B0BEC5",
                "#B0BEC5",
                "#B0BEC5",
                "#B0BEC5",
                "#B0BEC5",
                "#B0BEC5",
                "#B0BEC5",
                "#B0BEC5",
                "#B0BEC5",
                "#B0BEC5",
                "#B0BEC5",
                "#B0BEC5",
                "#B0BEC5",
                "#B0BEC5",
                "#B0BEC5",
                "#B0BEC5",
                "red",
                "#B0BEC5",
                "#B0BEC5",
                "#B0BEC5",
                "#B0BEC5",
                "#B0BEC5",
                "#B0BEC5",
                "#B0BEC5",
                "#B0BEC5",
                "#B0BEC5",
                "#B0BEC5",
                "#B0BEC5",
                "#B0BEC5",
                "#B0BEC5",
                "#B0BEC5",
                "#B0BEC5",
                "#B0BEC5",
                "#B0BEC5",
                "#B0BEC5",
                "#B0BEC5",
                "#B0BEC5",
                "#B0BEC5",
                "#B0BEC5",
                "#B0BEC5",
                "#B0BEC5",
                "#B0BEC5",
                "#B0BEC5",
                "#B0BEC5",
                "#B0BEC5",
                "#B0BEC5",
                "#B0BEC5",
                "#B0BEC5",
                "#B0BEC5",
                "#B0BEC5",
                "#B0BEC5",
                "#B0BEC5"
               ]
              ]
             }
            ],
            "label": "Topic 18",
            "method": "update"
           },
           {
            "args": [
             {
              "marker.color": [
               [
                "#B0BEC5",
                "#B0BEC5",
                "#B0BEC5",
                "#B0BEC5",
                "#B0BEC5",
                "#B0BEC5",
                "#B0BEC5",
                "#B0BEC5",
                "#B0BEC5",
                "#B0BEC5",
                "#B0BEC5",
                "#B0BEC5",
                "#B0BEC5",
                "#B0BEC5",
                "#B0BEC5",
                "#B0BEC5",
                "#B0BEC5",
                "#B0BEC5",
                "#B0BEC5",
                "red",
                "#B0BEC5",
                "#B0BEC5",
                "#B0BEC5",
                "#B0BEC5",
                "#B0BEC5",
                "#B0BEC5",
                "#B0BEC5",
                "#B0BEC5",
                "#B0BEC5",
                "#B0BEC5",
                "#B0BEC5",
                "#B0BEC5",
                "#B0BEC5",
                "#B0BEC5",
                "#B0BEC5",
                "#B0BEC5",
                "#B0BEC5",
                "#B0BEC5",
                "#B0BEC5",
                "#B0BEC5",
                "#B0BEC5",
                "#B0BEC5",
                "#B0BEC5",
                "#B0BEC5",
                "#B0BEC5",
                "#B0BEC5",
                "#B0BEC5",
                "#B0BEC5",
                "#B0BEC5",
                "#B0BEC5",
                "#B0BEC5",
                "#B0BEC5",
                "#B0BEC5",
                "#B0BEC5"
               ]
              ]
             }
            ],
            "label": "Topic 19",
            "method": "update"
           },
           {
            "args": [
             {
              "marker.color": [
               [
                "#B0BEC5",
                "#B0BEC5",
                "#B0BEC5",
                "#B0BEC5",
                "#B0BEC5",
                "#B0BEC5",
                "#B0BEC5",
                "#B0BEC5",
                "#B0BEC5",
                "#B0BEC5",
                "#B0BEC5",
                "#B0BEC5",
                "#B0BEC5",
                "#B0BEC5",
                "#B0BEC5",
                "#B0BEC5",
                "#B0BEC5",
                "#B0BEC5",
                "#B0BEC5",
                "#B0BEC5",
                "red",
                "#B0BEC5",
                "#B0BEC5",
                "#B0BEC5",
                "#B0BEC5",
                "#B0BEC5",
                "#B0BEC5",
                "#B0BEC5",
                "#B0BEC5",
                "#B0BEC5",
                "#B0BEC5",
                "#B0BEC5",
                "#B0BEC5",
                "#B0BEC5",
                "#B0BEC5",
                "#B0BEC5",
                "#B0BEC5",
                "#B0BEC5",
                "#B0BEC5",
                "#B0BEC5",
                "#B0BEC5",
                "#B0BEC5",
                "#B0BEC5",
                "#B0BEC5",
                "#B0BEC5",
                "#B0BEC5",
                "#B0BEC5",
                "#B0BEC5",
                "#B0BEC5",
                "#B0BEC5",
                "#B0BEC5",
                "#B0BEC5",
                "#B0BEC5",
                "#B0BEC5"
               ]
              ]
             }
            ],
            "label": "Topic 20",
            "method": "update"
           },
           {
            "args": [
             {
              "marker.color": [
               [
                "#B0BEC5",
                "#B0BEC5",
                "#B0BEC5",
                "#B0BEC5",
                "#B0BEC5",
                "#B0BEC5",
                "#B0BEC5",
                "#B0BEC5",
                "#B0BEC5",
                "#B0BEC5",
                "#B0BEC5",
                "#B0BEC5",
                "#B0BEC5",
                "#B0BEC5",
                "#B0BEC5",
                "#B0BEC5",
                "#B0BEC5",
                "#B0BEC5",
                "#B0BEC5",
                "#B0BEC5",
                "#B0BEC5",
                "red",
                "#B0BEC5",
                "#B0BEC5",
                "#B0BEC5",
                "#B0BEC5",
                "#B0BEC5",
                "#B0BEC5",
                "#B0BEC5",
                "#B0BEC5",
                "#B0BEC5",
                "#B0BEC5",
                "#B0BEC5",
                "#B0BEC5",
                "#B0BEC5",
                "#B0BEC5",
                "#B0BEC5",
                "#B0BEC5",
                "#B0BEC5",
                "#B0BEC5",
                "#B0BEC5",
                "#B0BEC5",
                "#B0BEC5",
                "#B0BEC5",
                "#B0BEC5",
                "#B0BEC5",
                "#B0BEC5",
                "#B0BEC5",
                "#B0BEC5",
                "#B0BEC5",
                "#B0BEC5",
                "#B0BEC5",
                "#B0BEC5",
                "#B0BEC5"
               ]
              ]
             }
            ],
            "label": "Topic 21",
            "method": "update"
           },
           {
            "args": [
             {
              "marker.color": [
               [
                "#B0BEC5",
                "#B0BEC5",
                "#B0BEC5",
                "#B0BEC5",
                "#B0BEC5",
                "#B0BEC5",
                "#B0BEC5",
                "#B0BEC5",
                "#B0BEC5",
                "#B0BEC5",
                "#B0BEC5",
                "#B0BEC5",
                "#B0BEC5",
                "#B0BEC5",
                "#B0BEC5",
                "#B0BEC5",
                "#B0BEC5",
                "#B0BEC5",
                "#B0BEC5",
                "#B0BEC5",
                "#B0BEC5",
                "#B0BEC5",
                "red",
                "#B0BEC5",
                "#B0BEC5",
                "#B0BEC5",
                "#B0BEC5",
                "#B0BEC5",
                "#B0BEC5",
                "#B0BEC5",
                "#B0BEC5",
                "#B0BEC5",
                "#B0BEC5",
                "#B0BEC5",
                "#B0BEC5",
                "#B0BEC5",
                "#B0BEC5",
                "#B0BEC5",
                "#B0BEC5",
                "#B0BEC5",
                "#B0BEC5",
                "#B0BEC5",
                "#B0BEC5",
                "#B0BEC5",
                "#B0BEC5",
                "#B0BEC5",
                "#B0BEC5",
                "#B0BEC5",
                "#B0BEC5",
                "#B0BEC5",
                "#B0BEC5",
                "#B0BEC5",
                "#B0BEC5",
                "#B0BEC5"
               ]
              ]
             }
            ],
            "label": "Topic 22",
            "method": "update"
           },
           {
            "args": [
             {
              "marker.color": [
               [
                "#B0BEC5",
                "#B0BEC5",
                "#B0BEC5",
                "#B0BEC5",
                "#B0BEC5",
                "#B0BEC5",
                "#B0BEC5",
                "#B0BEC5",
                "#B0BEC5",
                "#B0BEC5",
                "#B0BEC5",
                "#B0BEC5",
                "#B0BEC5",
                "#B0BEC5",
                "#B0BEC5",
                "#B0BEC5",
                "#B0BEC5",
                "#B0BEC5",
                "#B0BEC5",
                "#B0BEC5",
                "#B0BEC5",
                "#B0BEC5",
                "#B0BEC5",
                "red",
                "#B0BEC5",
                "#B0BEC5",
                "#B0BEC5",
                "#B0BEC5",
                "#B0BEC5",
                "#B0BEC5",
                "#B0BEC5",
                "#B0BEC5",
                "#B0BEC5",
                "#B0BEC5",
                "#B0BEC5",
                "#B0BEC5",
                "#B0BEC5",
                "#B0BEC5",
                "#B0BEC5",
                "#B0BEC5",
                "#B0BEC5",
                "#B0BEC5",
                "#B0BEC5",
                "#B0BEC5",
                "#B0BEC5",
                "#B0BEC5",
                "#B0BEC5",
                "#B0BEC5",
                "#B0BEC5",
                "#B0BEC5",
                "#B0BEC5",
                "#B0BEC5",
                "#B0BEC5",
                "#B0BEC5"
               ]
              ]
             }
            ],
            "label": "Topic 23",
            "method": "update"
           },
           {
            "args": [
             {
              "marker.color": [
               [
                "#B0BEC5",
                "#B0BEC5",
                "#B0BEC5",
                "#B0BEC5",
                "#B0BEC5",
                "#B0BEC5",
                "#B0BEC5",
                "#B0BEC5",
                "#B0BEC5",
                "#B0BEC5",
                "#B0BEC5",
                "#B0BEC5",
                "#B0BEC5",
                "#B0BEC5",
                "#B0BEC5",
                "#B0BEC5",
                "#B0BEC5",
                "#B0BEC5",
                "#B0BEC5",
                "#B0BEC5",
                "#B0BEC5",
                "#B0BEC5",
                "#B0BEC5",
                "#B0BEC5",
                "red",
                "#B0BEC5",
                "#B0BEC5",
                "#B0BEC5",
                "#B0BEC5",
                "#B0BEC5",
                "#B0BEC5",
                "#B0BEC5",
                "#B0BEC5",
                "#B0BEC5",
                "#B0BEC5",
                "#B0BEC5",
                "#B0BEC5",
                "#B0BEC5",
                "#B0BEC5",
                "#B0BEC5",
                "#B0BEC5",
                "#B0BEC5",
                "#B0BEC5",
                "#B0BEC5",
                "#B0BEC5",
                "#B0BEC5",
                "#B0BEC5",
                "#B0BEC5",
                "#B0BEC5",
                "#B0BEC5",
                "#B0BEC5",
                "#B0BEC5",
                "#B0BEC5",
                "#B0BEC5"
               ]
              ]
             }
            ],
            "label": "Topic 24",
            "method": "update"
           },
           {
            "args": [
             {
              "marker.color": [
               [
                "#B0BEC5",
                "#B0BEC5",
                "#B0BEC5",
                "#B0BEC5",
                "#B0BEC5",
                "#B0BEC5",
                "#B0BEC5",
                "#B0BEC5",
                "#B0BEC5",
                "#B0BEC5",
                "#B0BEC5",
                "#B0BEC5",
                "#B0BEC5",
                "#B0BEC5",
                "#B0BEC5",
                "#B0BEC5",
                "#B0BEC5",
                "#B0BEC5",
                "#B0BEC5",
                "#B0BEC5",
                "#B0BEC5",
                "#B0BEC5",
                "#B0BEC5",
                "#B0BEC5",
                "#B0BEC5",
                "red",
                "#B0BEC5",
                "#B0BEC5",
                "#B0BEC5",
                "#B0BEC5",
                "#B0BEC5",
                "#B0BEC5",
                "#B0BEC5",
                "#B0BEC5",
                "#B0BEC5",
                "#B0BEC5",
                "#B0BEC5",
                "#B0BEC5",
                "#B0BEC5",
                "#B0BEC5",
                "#B0BEC5",
                "#B0BEC5",
                "#B0BEC5",
                "#B0BEC5",
                "#B0BEC5",
                "#B0BEC5",
                "#B0BEC5",
                "#B0BEC5",
                "#B0BEC5",
                "#B0BEC5",
                "#B0BEC5",
                "#B0BEC5",
                "#B0BEC5",
                "#B0BEC5"
               ]
              ]
             }
            ],
            "label": "Topic 25",
            "method": "update"
           },
           {
            "args": [
             {
              "marker.color": [
               [
                "#B0BEC5",
                "#B0BEC5",
                "#B0BEC5",
                "#B0BEC5",
                "#B0BEC5",
                "#B0BEC5",
                "#B0BEC5",
                "#B0BEC5",
                "#B0BEC5",
                "#B0BEC5",
                "#B0BEC5",
                "#B0BEC5",
                "#B0BEC5",
                "#B0BEC5",
                "#B0BEC5",
                "#B0BEC5",
                "#B0BEC5",
                "#B0BEC5",
                "#B0BEC5",
                "#B0BEC5",
                "#B0BEC5",
                "#B0BEC5",
                "#B0BEC5",
                "#B0BEC5",
                "#B0BEC5",
                "#B0BEC5",
                "red",
                "#B0BEC5",
                "#B0BEC5",
                "#B0BEC5",
                "#B0BEC5",
                "#B0BEC5",
                "#B0BEC5",
                "#B0BEC5",
                "#B0BEC5",
                "#B0BEC5",
                "#B0BEC5",
                "#B0BEC5",
                "#B0BEC5",
                "#B0BEC5",
                "#B0BEC5",
                "#B0BEC5",
                "#B0BEC5",
                "#B0BEC5",
                "#B0BEC5",
                "#B0BEC5",
                "#B0BEC5",
                "#B0BEC5",
                "#B0BEC5",
                "#B0BEC5",
                "#B0BEC5",
                "#B0BEC5",
                "#B0BEC5",
                "#B0BEC5"
               ]
              ]
             }
            ],
            "label": "Topic 26",
            "method": "update"
           },
           {
            "args": [
             {
              "marker.color": [
               [
                "#B0BEC5",
                "#B0BEC5",
                "#B0BEC5",
                "#B0BEC5",
                "#B0BEC5",
                "#B0BEC5",
                "#B0BEC5",
                "#B0BEC5",
                "#B0BEC5",
                "#B0BEC5",
                "#B0BEC5",
                "#B0BEC5",
                "#B0BEC5",
                "#B0BEC5",
                "#B0BEC5",
                "#B0BEC5",
                "#B0BEC5",
                "#B0BEC5",
                "#B0BEC5",
                "#B0BEC5",
                "#B0BEC5",
                "#B0BEC5",
                "#B0BEC5",
                "#B0BEC5",
                "#B0BEC5",
                "#B0BEC5",
                "#B0BEC5",
                "red",
                "#B0BEC5",
                "#B0BEC5",
                "#B0BEC5",
                "#B0BEC5",
                "#B0BEC5",
                "#B0BEC5",
                "#B0BEC5",
                "#B0BEC5",
                "#B0BEC5",
                "#B0BEC5",
                "#B0BEC5",
                "#B0BEC5",
                "#B0BEC5",
                "#B0BEC5",
                "#B0BEC5",
                "#B0BEC5",
                "#B0BEC5",
                "#B0BEC5",
                "#B0BEC5",
                "#B0BEC5",
                "#B0BEC5",
                "#B0BEC5",
                "#B0BEC5",
                "#B0BEC5",
                "#B0BEC5",
                "#B0BEC5"
               ]
              ]
             }
            ],
            "label": "Topic 27",
            "method": "update"
           },
           {
            "args": [
             {
              "marker.color": [
               [
                "#B0BEC5",
                "#B0BEC5",
                "#B0BEC5",
                "#B0BEC5",
                "#B0BEC5",
                "#B0BEC5",
                "#B0BEC5",
                "#B0BEC5",
                "#B0BEC5",
                "#B0BEC5",
                "#B0BEC5",
                "#B0BEC5",
                "#B0BEC5",
                "#B0BEC5",
                "#B0BEC5",
                "#B0BEC5",
                "#B0BEC5",
                "#B0BEC5",
                "#B0BEC5",
                "#B0BEC5",
                "#B0BEC5",
                "#B0BEC5",
                "#B0BEC5",
                "#B0BEC5",
                "#B0BEC5",
                "#B0BEC5",
                "#B0BEC5",
                "#B0BEC5",
                "red",
                "#B0BEC5",
                "#B0BEC5",
                "#B0BEC5",
                "#B0BEC5",
                "#B0BEC5",
                "#B0BEC5",
                "#B0BEC5",
                "#B0BEC5",
                "#B0BEC5",
                "#B0BEC5",
                "#B0BEC5",
                "#B0BEC5",
                "#B0BEC5",
                "#B0BEC5",
                "#B0BEC5",
                "#B0BEC5",
                "#B0BEC5",
                "#B0BEC5",
                "#B0BEC5",
                "#B0BEC5",
                "#B0BEC5",
                "#B0BEC5",
                "#B0BEC5",
                "#B0BEC5",
                "#B0BEC5"
               ]
              ]
             }
            ],
            "label": "Topic 28",
            "method": "update"
           },
           {
            "args": [
             {
              "marker.color": [
               [
                "#B0BEC5",
                "#B0BEC5",
                "#B0BEC5",
                "#B0BEC5",
                "#B0BEC5",
                "#B0BEC5",
                "#B0BEC5",
                "#B0BEC5",
                "#B0BEC5",
                "#B0BEC5",
                "#B0BEC5",
                "#B0BEC5",
                "#B0BEC5",
                "#B0BEC5",
                "#B0BEC5",
                "#B0BEC5",
                "#B0BEC5",
                "#B0BEC5",
                "#B0BEC5",
                "#B0BEC5",
                "#B0BEC5",
                "#B0BEC5",
                "#B0BEC5",
                "#B0BEC5",
                "#B0BEC5",
                "#B0BEC5",
                "#B0BEC5",
                "#B0BEC5",
                "#B0BEC5",
                "red",
                "#B0BEC5",
                "#B0BEC5",
                "#B0BEC5",
                "#B0BEC5",
                "#B0BEC5",
                "#B0BEC5",
                "#B0BEC5",
                "#B0BEC5",
                "#B0BEC5",
                "#B0BEC5",
                "#B0BEC5",
                "#B0BEC5",
                "#B0BEC5",
                "#B0BEC5",
                "#B0BEC5",
                "#B0BEC5",
                "#B0BEC5",
                "#B0BEC5",
                "#B0BEC5",
                "#B0BEC5",
                "#B0BEC5",
                "#B0BEC5",
                "#B0BEC5",
                "#B0BEC5"
               ]
              ]
             }
            ],
            "label": "Topic 29",
            "method": "update"
           },
           {
            "args": [
             {
              "marker.color": [
               [
                "#B0BEC5",
                "#B0BEC5",
                "#B0BEC5",
                "#B0BEC5",
                "#B0BEC5",
                "#B0BEC5",
                "#B0BEC5",
                "#B0BEC5",
                "#B0BEC5",
                "#B0BEC5",
                "#B0BEC5",
                "#B0BEC5",
                "#B0BEC5",
                "#B0BEC5",
                "#B0BEC5",
                "#B0BEC5",
                "#B0BEC5",
                "#B0BEC5",
                "#B0BEC5",
                "#B0BEC5",
                "#B0BEC5",
                "#B0BEC5",
                "#B0BEC5",
                "#B0BEC5",
                "#B0BEC5",
                "#B0BEC5",
                "#B0BEC5",
                "#B0BEC5",
                "#B0BEC5",
                "#B0BEC5",
                "red",
                "#B0BEC5",
                "#B0BEC5",
                "#B0BEC5",
                "#B0BEC5",
                "#B0BEC5",
                "#B0BEC5",
                "#B0BEC5",
                "#B0BEC5",
                "#B0BEC5",
                "#B0BEC5",
                "#B0BEC5",
                "#B0BEC5",
                "#B0BEC5",
                "#B0BEC5",
                "#B0BEC5",
                "#B0BEC5",
                "#B0BEC5",
                "#B0BEC5",
                "#B0BEC5",
                "#B0BEC5",
                "#B0BEC5",
                "#B0BEC5",
                "#B0BEC5"
               ]
              ]
             }
            ],
            "label": "Topic 30",
            "method": "update"
           },
           {
            "args": [
             {
              "marker.color": [
               [
                "#B0BEC5",
                "#B0BEC5",
                "#B0BEC5",
                "#B0BEC5",
                "#B0BEC5",
                "#B0BEC5",
                "#B0BEC5",
                "#B0BEC5",
                "#B0BEC5",
                "#B0BEC5",
                "#B0BEC5",
                "#B0BEC5",
                "#B0BEC5",
                "#B0BEC5",
                "#B0BEC5",
                "#B0BEC5",
                "#B0BEC5",
                "#B0BEC5",
                "#B0BEC5",
                "#B0BEC5",
                "#B0BEC5",
                "#B0BEC5",
                "#B0BEC5",
                "#B0BEC5",
                "#B0BEC5",
                "#B0BEC5",
                "#B0BEC5",
                "#B0BEC5",
                "#B0BEC5",
                "#B0BEC5",
                "#B0BEC5",
                "red",
                "#B0BEC5",
                "#B0BEC5",
                "#B0BEC5",
                "#B0BEC5",
                "#B0BEC5",
                "#B0BEC5",
                "#B0BEC5",
                "#B0BEC5",
                "#B0BEC5",
                "#B0BEC5",
                "#B0BEC5",
                "#B0BEC5",
                "#B0BEC5",
                "#B0BEC5",
                "#B0BEC5",
                "#B0BEC5",
                "#B0BEC5",
                "#B0BEC5",
                "#B0BEC5",
                "#B0BEC5",
                "#B0BEC5",
                "#B0BEC5"
               ]
              ]
             }
            ],
            "label": "Topic 31",
            "method": "update"
           },
           {
            "args": [
             {
              "marker.color": [
               [
                "#B0BEC5",
                "#B0BEC5",
                "#B0BEC5",
                "#B0BEC5",
                "#B0BEC5",
                "#B0BEC5",
                "#B0BEC5",
                "#B0BEC5",
                "#B0BEC5",
                "#B0BEC5",
                "#B0BEC5",
                "#B0BEC5",
                "#B0BEC5",
                "#B0BEC5",
                "#B0BEC5",
                "#B0BEC5",
                "#B0BEC5",
                "#B0BEC5",
                "#B0BEC5",
                "#B0BEC5",
                "#B0BEC5",
                "#B0BEC5",
                "#B0BEC5",
                "#B0BEC5",
                "#B0BEC5",
                "#B0BEC5",
                "#B0BEC5",
                "#B0BEC5",
                "#B0BEC5",
                "#B0BEC5",
                "#B0BEC5",
                "#B0BEC5",
                "red",
                "#B0BEC5",
                "#B0BEC5",
                "#B0BEC5",
                "#B0BEC5",
                "#B0BEC5",
                "#B0BEC5",
                "#B0BEC5",
                "#B0BEC5",
                "#B0BEC5",
                "#B0BEC5",
                "#B0BEC5",
                "#B0BEC5",
                "#B0BEC5",
                "#B0BEC5",
                "#B0BEC5",
                "#B0BEC5",
                "#B0BEC5",
                "#B0BEC5",
                "#B0BEC5",
                "#B0BEC5",
                "#B0BEC5"
               ]
              ]
             }
            ],
            "label": "Topic 32",
            "method": "update"
           },
           {
            "args": [
             {
              "marker.color": [
               [
                "#B0BEC5",
                "#B0BEC5",
                "#B0BEC5",
                "#B0BEC5",
                "#B0BEC5",
                "#B0BEC5",
                "#B0BEC5",
                "#B0BEC5",
                "#B0BEC5",
                "#B0BEC5",
                "#B0BEC5",
                "#B0BEC5",
                "#B0BEC5",
                "#B0BEC5",
                "#B0BEC5",
                "#B0BEC5",
                "#B0BEC5",
                "#B0BEC5",
                "#B0BEC5",
                "#B0BEC5",
                "#B0BEC5",
                "#B0BEC5",
                "#B0BEC5",
                "#B0BEC5",
                "#B0BEC5",
                "#B0BEC5",
                "#B0BEC5",
                "#B0BEC5",
                "#B0BEC5",
                "#B0BEC5",
                "#B0BEC5",
                "#B0BEC5",
                "#B0BEC5",
                "red",
                "#B0BEC5",
                "#B0BEC5",
                "#B0BEC5",
                "#B0BEC5",
                "#B0BEC5",
                "#B0BEC5",
                "#B0BEC5",
                "#B0BEC5",
                "#B0BEC5",
                "#B0BEC5",
                "#B0BEC5",
                "#B0BEC5",
                "#B0BEC5",
                "#B0BEC5",
                "#B0BEC5",
                "#B0BEC5",
                "#B0BEC5",
                "#B0BEC5",
                "#B0BEC5",
                "#B0BEC5"
               ]
              ]
             }
            ],
            "label": "Topic 33",
            "method": "update"
           },
           {
            "args": [
             {
              "marker.color": [
               [
                "#B0BEC5",
                "#B0BEC5",
                "#B0BEC5",
                "#B0BEC5",
                "#B0BEC5",
                "#B0BEC5",
                "#B0BEC5",
                "#B0BEC5",
                "#B0BEC5",
                "#B0BEC5",
                "#B0BEC5",
                "#B0BEC5",
                "#B0BEC5",
                "#B0BEC5",
                "#B0BEC5",
                "#B0BEC5",
                "#B0BEC5",
                "#B0BEC5",
                "#B0BEC5",
                "#B0BEC5",
                "#B0BEC5",
                "#B0BEC5",
                "#B0BEC5",
                "#B0BEC5",
                "#B0BEC5",
                "#B0BEC5",
                "#B0BEC5",
                "#B0BEC5",
                "#B0BEC5",
                "#B0BEC5",
                "#B0BEC5",
                "#B0BEC5",
                "#B0BEC5",
                "#B0BEC5",
                "red",
                "#B0BEC5",
                "#B0BEC5",
                "#B0BEC5",
                "#B0BEC5",
                "#B0BEC5",
                "#B0BEC5",
                "#B0BEC5",
                "#B0BEC5",
                "#B0BEC5",
                "#B0BEC5",
                "#B0BEC5",
                "#B0BEC5",
                "#B0BEC5",
                "#B0BEC5",
                "#B0BEC5",
                "#B0BEC5",
                "#B0BEC5",
                "#B0BEC5",
                "#B0BEC5"
               ]
              ]
             }
            ],
            "label": "Topic 34",
            "method": "update"
           },
           {
            "args": [
             {
              "marker.color": [
               [
                "#B0BEC5",
                "#B0BEC5",
                "#B0BEC5",
                "#B0BEC5",
                "#B0BEC5",
                "#B0BEC5",
                "#B0BEC5",
                "#B0BEC5",
                "#B0BEC5",
                "#B0BEC5",
                "#B0BEC5",
                "#B0BEC5",
                "#B0BEC5",
                "#B0BEC5",
                "#B0BEC5",
                "#B0BEC5",
                "#B0BEC5",
                "#B0BEC5",
                "#B0BEC5",
                "#B0BEC5",
                "#B0BEC5",
                "#B0BEC5",
                "#B0BEC5",
                "#B0BEC5",
                "#B0BEC5",
                "#B0BEC5",
                "#B0BEC5",
                "#B0BEC5",
                "#B0BEC5",
                "#B0BEC5",
                "#B0BEC5",
                "#B0BEC5",
                "#B0BEC5",
                "#B0BEC5",
                "#B0BEC5",
                "red",
                "#B0BEC5",
                "#B0BEC5",
                "#B0BEC5",
                "#B0BEC5",
                "#B0BEC5",
                "#B0BEC5",
                "#B0BEC5",
                "#B0BEC5",
                "#B0BEC5",
                "#B0BEC5",
                "#B0BEC5",
                "#B0BEC5",
                "#B0BEC5",
                "#B0BEC5",
                "#B0BEC5",
                "#B0BEC5",
                "#B0BEC5",
                "#B0BEC5"
               ]
              ]
             }
            ],
            "label": "Topic 35",
            "method": "update"
           },
           {
            "args": [
             {
              "marker.color": [
               [
                "#B0BEC5",
                "#B0BEC5",
                "#B0BEC5",
                "#B0BEC5",
                "#B0BEC5",
                "#B0BEC5",
                "#B0BEC5",
                "#B0BEC5",
                "#B0BEC5",
                "#B0BEC5",
                "#B0BEC5",
                "#B0BEC5",
                "#B0BEC5",
                "#B0BEC5",
                "#B0BEC5",
                "#B0BEC5",
                "#B0BEC5",
                "#B0BEC5",
                "#B0BEC5",
                "#B0BEC5",
                "#B0BEC5",
                "#B0BEC5",
                "#B0BEC5",
                "#B0BEC5",
                "#B0BEC5",
                "#B0BEC5",
                "#B0BEC5",
                "#B0BEC5",
                "#B0BEC5",
                "#B0BEC5",
                "#B0BEC5",
                "#B0BEC5",
                "#B0BEC5",
                "#B0BEC5",
                "#B0BEC5",
                "#B0BEC5",
                "red",
                "#B0BEC5",
                "#B0BEC5",
                "#B0BEC5",
                "#B0BEC5",
                "#B0BEC5",
                "#B0BEC5",
                "#B0BEC5",
                "#B0BEC5",
                "#B0BEC5",
                "#B0BEC5",
                "#B0BEC5",
                "#B0BEC5",
                "#B0BEC5",
                "#B0BEC5",
                "#B0BEC5",
                "#B0BEC5",
                "#B0BEC5"
               ]
              ]
             }
            ],
            "label": "Topic 36",
            "method": "update"
           },
           {
            "args": [
             {
              "marker.color": [
               [
                "#B0BEC5",
                "#B0BEC5",
                "#B0BEC5",
                "#B0BEC5",
                "#B0BEC5",
                "#B0BEC5",
                "#B0BEC5",
                "#B0BEC5",
                "#B0BEC5",
                "#B0BEC5",
                "#B0BEC5",
                "#B0BEC5",
                "#B0BEC5",
                "#B0BEC5",
                "#B0BEC5",
                "#B0BEC5",
                "#B0BEC5",
                "#B0BEC5",
                "#B0BEC5",
                "#B0BEC5",
                "#B0BEC5",
                "#B0BEC5",
                "#B0BEC5",
                "#B0BEC5",
                "#B0BEC5",
                "#B0BEC5",
                "#B0BEC5",
                "#B0BEC5",
                "#B0BEC5",
                "#B0BEC5",
                "#B0BEC5",
                "#B0BEC5",
                "#B0BEC5",
                "#B0BEC5",
                "#B0BEC5",
                "#B0BEC5",
                "#B0BEC5",
                "red",
                "#B0BEC5",
                "#B0BEC5",
                "#B0BEC5",
                "#B0BEC5",
                "#B0BEC5",
                "#B0BEC5",
                "#B0BEC5",
                "#B0BEC5",
                "#B0BEC5",
                "#B0BEC5",
                "#B0BEC5",
                "#B0BEC5",
                "#B0BEC5",
                "#B0BEC5",
                "#B0BEC5",
                "#B0BEC5"
               ]
              ]
             }
            ],
            "label": "Topic 37",
            "method": "update"
           },
           {
            "args": [
             {
              "marker.color": [
               [
                "#B0BEC5",
                "#B0BEC5",
                "#B0BEC5",
                "#B0BEC5",
                "#B0BEC5",
                "#B0BEC5",
                "#B0BEC5",
                "#B0BEC5",
                "#B0BEC5",
                "#B0BEC5",
                "#B0BEC5",
                "#B0BEC5",
                "#B0BEC5",
                "#B0BEC5",
                "#B0BEC5",
                "#B0BEC5",
                "#B0BEC5",
                "#B0BEC5",
                "#B0BEC5",
                "#B0BEC5",
                "#B0BEC5",
                "#B0BEC5",
                "#B0BEC5",
                "#B0BEC5",
                "#B0BEC5",
                "#B0BEC5",
                "#B0BEC5",
                "#B0BEC5",
                "#B0BEC5",
                "#B0BEC5",
                "#B0BEC5",
                "#B0BEC5",
                "#B0BEC5",
                "#B0BEC5",
                "#B0BEC5",
                "#B0BEC5",
                "#B0BEC5",
                "#B0BEC5",
                "red",
                "#B0BEC5",
                "#B0BEC5",
                "#B0BEC5",
                "#B0BEC5",
                "#B0BEC5",
                "#B0BEC5",
                "#B0BEC5",
                "#B0BEC5",
                "#B0BEC5",
                "#B0BEC5",
                "#B0BEC5",
                "#B0BEC5",
                "#B0BEC5",
                "#B0BEC5",
                "#B0BEC5"
               ]
              ]
             }
            ],
            "label": "Topic 38",
            "method": "update"
           },
           {
            "args": [
             {
              "marker.color": [
               [
                "#B0BEC5",
                "#B0BEC5",
                "#B0BEC5",
                "#B0BEC5",
                "#B0BEC5",
                "#B0BEC5",
                "#B0BEC5",
                "#B0BEC5",
                "#B0BEC5",
                "#B0BEC5",
                "#B0BEC5",
                "#B0BEC5",
                "#B0BEC5",
                "#B0BEC5",
                "#B0BEC5",
                "#B0BEC5",
                "#B0BEC5",
                "#B0BEC5",
                "#B0BEC5",
                "#B0BEC5",
                "#B0BEC5",
                "#B0BEC5",
                "#B0BEC5",
                "#B0BEC5",
                "#B0BEC5",
                "#B0BEC5",
                "#B0BEC5",
                "#B0BEC5",
                "#B0BEC5",
                "#B0BEC5",
                "#B0BEC5",
                "#B0BEC5",
                "#B0BEC5",
                "#B0BEC5",
                "#B0BEC5",
                "#B0BEC5",
                "#B0BEC5",
                "#B0BEC5",
                "#B0BEC5",
                "red",
                "#B0BEC5",
                "#B0BEC5",
                "#B0BEC5",
                "#B0BEC5",
                "#B0BEC5",
                "#B0BEC5",
                "#B0BEC5",
                "#B0BEC5",
                "#B0BEC5",
                "#B0BEC5",
                "#B0BEC5",
                "#B0BEC5",
                "#B0BEC5",
                "#B0BEC5"
               ]
              ]
             }
            ],
            "label": "Topic 39",
            "method": "update"
           },
           {
            "args": [
             {
              "marker.color": [
               [
                "#B0BEC5",
                "#B0BEC5",
                "#B0BEC5",
                "#B0BEC5",
                "#B0BEC5",
                "#B0BEC5",
                "#B0BEC5",
                "#B0BEC5",
                "#B0BEC5",
                "#B0BEC5",
                "#B0BEC5",
                "#B0BEC5",
                "#B0BEC5",
                "#B0BEC5",
                "#B0BEC5",
                "#B0BEC5",
                "#B0BEC5",
                "#B0BEC5",
                "#B0BEC5",
                "#B0BEC5",
                "#B0BEC5",
                "#B0BEC5",
                "#B0BEC5",
                "#B0BEC5",
                "#B0BEC5",
                "#B0BEC5",
                "#B0BEC5",
                "#B0BEC5",
                "#B0BEC5",
                "#B0BEC5",
                "#B0BEC5",
                "#B0BEC5",
                "#B0BEC5",
                "#B0BEC5",
                "#B0BEC5",
                "#B0BEC5",
                "#B0BEC5",
                "#B0BEC5",
                "#B0BEC5",
                "#B0BEC5",
                "red",
                "#B0BEC5",
                "#B0BEC5",
                "#B0BEC5",
                "#B0BEC5",
                "#B0BEC5",
                "#B0BEC5",
                "#B0BEC5",
                "#B0BEC5",
                "#B0BEC5",
                "#B0BEC5",
                "#B0BEC5",
                "#B0BEC5",
                "#B0BEC5"
               ]
              ]
             }
            ],
            "label": "Topic 40",
            "method": "update"
           },
           {
            "args": [
             {
              "marker.color": [
               [
                "#B0BEC5",
                "#B0BEC5",
                "#B0BEC5",
                "#B0BEC5",
                "#B0BEC5",
                "#B0BEC5",
                "#B0BEC5",
                "#B0BEC5",
                "#B0BEC5",
                "#B0BEC5",
                "#B0BEC5",
                "#B0BEC5",
                "#B0BEC5",
                "#B0BEC5",
                "#B0BEC5",
                "#B0BEC5",
                "#B0BEC5",
                "#B0BEC5",
                "#B0BEC5",
                "#B0BEC5",
                "#B0BEC5",
                "#B0BEC5",
                "#B0BEC5",
                "#B0BEC5",
                "#B0BEC5",
                "#B0BEC5",
                "#B0BEC5",
                "#B0BEC5",
                "#B0BEC5",
                "#B0BEC5",
                "#B0BEC5",
                "#B0BEC5",
                "#B0BEC5",
                "#B0BEC5",
                "#B0BEC5",
                "#B0BEC5",
                "#B0BEC5",
                "#B0BEC5",
                "#B0BEC5",
                "#B0BEC5",
                "#B0BEC5",
                "red",
                "#B0BEC5",
                "#B0BEC5",
                "#B0BEC5",
                "#B0BEC5",
                "#B0BEC5",
                "#B0BEC5",
                "#B0BEC5",
                "#B0BEC5",
                "#B0BEC5",
                "#B0BEC5",
                "#B0BEC5",
                "#B0BEC5"
               ]
              ]
             }
            ],
            "label": "Topic 41",
            "method": "update"
           },
           {
            "args": [
             {
              "marker.color": [
               [
                "#B0BEC5",
                "#B0BEC5",
                "#B0BEC5",
                "#B0BEC5",
                "#B0BEC5",
                "#B0BEC5",
                "#B0BEC5",
                "#B0BEC5",
                "#B0BEC5",
                "#B0BEC5",
                "#B0BEC5",
                "#B0BEC5",
                "#B0BEC5",
                "#B0BEC5",
                "#B0BEC5",
                "#B0BEC5",
                "#B0BEC5",
                "#B0BEC5",
                "#B0BEC5",
                "#B0BEC5",
                "#B0BEC5",
                "#B0BEC5",
                "#B0BEC5",
                "#B0BEC5",
                "#B0BEC5",
                "#B0BEC5",
                "#B0BEC5",
                "#B0BEC5",
                "#B0BEC5",
                "#B0BEC5",
                "#B0BEC5",
                "#B0BEC5",
                "#B0BEC5",
                "#B0BEC5",
                "#B0BEC5",
                "#B0BEC5",
                "#B0BEC5",
                "#B0BEC5",
                "#B0BEC5",
                "#B0BEC5",
                "#B0BEC5",
                "#B0BEC5",
                "red",
                "#B0BEC5",
                "#B0BEC5",
                "#B0BEC5",
                "#B0BEC5",
                "#B0BEC5",
                "#B0BEC5",
                "#B0BEC5",
                "#B0BEC5",
                "#B0BEC5",
                "#B0BEC5",
                "#B0BEC5"
               ]
              ]
             }
            ],
            "label": "Topic 42",
            "method": "update"
           },
           {
            "args": [
             {
              "marker.color": [
               [
                "#B0BEC5",
                "#B0BEC5",
                "#B0BEC5",
                "#B0BEC5",
                "#B0BEC5",
                "#B0BEC5",
                "#B0BEC5",
                "#B0BEC5",
                "#B0BEC5",
                "#B0BEC5",
                "#B0BEC5",
                "#B0BEC5",
                "#B0BEC5",
                "#B0BEC5",
                "#B0BEC5",
                "#B0BEC5",
                "#B0BEC5",
                "#B0BEC5",
                "#B0BEC5",
                "#B0BEC5",
                "#B0BEC5",
                "#B0BEC5",
                "#B0BEC5",
                "#B0BEC5",
                "#B0BEC5",
                "#B0BEC5",
                "#B0BEC5",
                "#B0BEC5",
                "#B0BEC5",
                "#B0BEC5",
                "#B0BEC5",
                "#B0BEC5",
                "#B0BEC5",
                "#B0BEC5",
                "#B0BEC5",
                "#B0BEC5",
                "#B0BEC5",
                "#B0BEC5",
                "#B0BEC5",
                "#B0BEC5",
                "#B0BEC5",
                "#B0BEC5",
                "#B0BEC5",
                "red",
                "#B0BEC5",
                "#B0BEC5",
                "#B0BEC5",
                "#B0BEC5",
                "#B0BEC5",
                "#B0BEC5",
                "#B0BEC5",
                "#B0BEC5",
                "#B0BEC5",
                "#B0BEC5"
               ]
              ]
             }
            ],
            "label": "Topic 43",
            "method": "update"
           },
           {
            "args": [
             {
              "marker.color": [
               [
                "#B0BEC5",
                "#B0BEC5",
                "#B0BEC5",
                "#B0BEC5",
                "#B0BEC5",
                "#B0BEC5",
                "#B0BEC5",
                "#B0BEC5",
                "#B0BEC5",
                "#B0BEC5",
                "#B0BEC5",
                "#B0BEC5",
                "#B0BEC5",
                "#B0BEC5",
                "#B0BEC5",
                "#B0BEC5",
                "#B0BEC5",
                "#B0BEC5",
                "#B0BEC5",
                "#B0BEC5",
                "#B0BEC5",
                "#B0BEC5",
                "#B0BEC5",
                "#B0BEC5",
                "#B0BEC5",
                "#B0BEC5",
                "#B0BEC5",
                "#B0BEC5",
                "#B0BEC5",
                "#B0BEC5",
                "#B0BEC5",
                "#B0BEC5",
                "#B0BEC5",
                "#B0BEC5",
                "#B0BEC5",
                "#B0BEC5",
                "#B0BEC5",
                "#B0BEC5",
                "#B0BEC5",
                "#B0BEC5",
                "#B0BEC5",
                "#B0BEC5",
                "#B0BEC5",
                "#B0BEC5",
                "red",
                "#B0BEC5",
                "#B0BEC5",
                "#B0BEC5",
                "#B0BEC5",
                "#B0BEC5",
                "#B0BEC5",
                "#B0BEC5",
                "#B0BEC5",
                "#B0BEC5"
               ]
              ]
             }
            ],
            "label": "Topic 44",
            "method": "update"
           },
           {
            "args": [
             {
              "marker.color": [
               [
                "#B0BEC5",
                "#B0BEC5",
                "#B0BEC5",
                "#B0BEC5",
                "#B0BEC5",
                "#B0BEC5",
                "#B0BEC5",
                "#B0BEC5",
                "#B0BEC5",
                "#B0BEC5",
                "#B0BEC5",
                "#B0BEC5",
                "#B0BEC5",
                "#B0BEC5",
                "#B0BEC5",
                "#B0BEC5",
                "#B0BEC5",
                "#B0BEC5",
                "#B0BEC5",
                "#B0BEC5",
                "#B0BEC5",
                "#B0BEC5",
                "#B0BEC5",
                "#B0BEC5",
                "#B0BEC5",
                "#B0BEC5",
                "#B0BEC5",
                "#B0BEC5",
                "#B0BEC5",
                "#B0BEC5",
                "#B0BEC5",
                "#B0BEC5",
                "#B0BEC5",
                "#B0BEC5",
                "#B0BEC5",
                "#B0BEC5",
                "#B0BEC5",
                "#B0BEC5",
                "#B0BEC5",
                "#B0BEC5",
                "#B0BEC5",
                "#B0BEC5",
                "#B0BEC5",
                "#B0BEC5",
                "#B0BEC5",
                "red",
                "#B0BEC5",
                "#B0BEC5",
                "#B0BEC5",
                "#B0BEC5",
                "#B0BEC5",
                "#B0BEC5",
                "#B0BEC5",
                "#B0BEC5"
               ]
              ]
             }
            ],
            "label": "Topic 45",
            "method": "update"
           },
           {
            "args": [
             {
              "marker.color": [
               [
                "#B0BEC5",
                "#B0BEC5",
                "#B0BEC5",
                "#B0BEC5",
                "#B0BEC5",
                "#B0BEC5",
                "#B0BEC5",
                "#B0BEC5",
                "#B0BEC5",
                "#B0BEC5",
                "#B0BEC5",
                "#B0BEC5",
                "#B0BEC5",
                "#B0BEC5",
                "#B0BEC5",
                "#B0BEC5",
                "#B0BEC5",
                "#B0BEC5",
                "#B0BEC5",
                "#B0BEC5",
                "#B0BEC5",
                "#B0BEC5",
                "#B0BEC5",
                "#B0BEC5",
                "#B0BEC5",
                "#B0BEC5",
                "#B0BEC5",
                "#B0BEC5",
                "#B0BEC5",
                "#B0BEC5",
                "#B0BEC5",
                "#B0BEC5",
                "#B0BEC5",
                "#B0BEC5",
                "#B0BEC5",
                "#B0BEC5",
                "#B0BEC5",
                "#B0BEC5",
                "#B0BEC5",
                "#B0BEC5",
                "#B0BEC5",
                "#B0BEC5",
                "#B0BEC5",
                "#B0BEC5",
                "#B0BEC5",
                "#B0BEC5",
                "red",
                "#B0BEC5",
                "#B0BEC5",
                "#B0BEC5",
                "#B0BEC5",
                "#B0BEC5",
                "#B0BEC5",
                "#B0BEC5"
               ]
              ]
             }
            ],
            "label": "Topic 46",
            "method": "update"
           },
           {
            "args": [
             {
              "marker.color": [
               [
                "#B0BEC5",
                "#B0BEC5",
                "#B0BEC5",
                "#B0BEC5",
                "#B0BEC5",
                "#B0BEC5",
                "#B0BEC5",
                "#B0BEC5",
                "#B0BEC5",
                "#B0BEC5",
                "#B0BEC5",
                "#B0BEC5",
                "#B0BEC5",
                "#B0BEC5",
                "#B0BEC5",
                "#B0BEC5",
                "#B0BEC5",
                "#B0BEC5",
                "#B0BEC5",
                "#B0BEC5",
                "#B0BEC5",
                "#B0BEC5",
                "#B0BEC5",
                "#B0BEC5",
                "#B0BEC5",
                "#B0BEC5",
                "#B0BEC5",
                "#B0BEC5",
                "#B0BEC5",
                "#B0BEC5",
                "#B0BEC5",
                "#B0BEC5",
                "#B0BEC5",
                "#B0BEC5",
                "#B0BEC5",
                "#B0BEC5",
                "#B0BEC5",
                "#B0BEC5",
                "#B0BEC5",
                "#B0BEC5",
                "#B0BEC5",
                "#B0BEC5",
                "#B0BEC5",
                "#B0BEC5",
                "#B0BEC5",
                "#B0BEC5",
                "#B0BEC5",
                "red",
                "#B0BEC5",
                "#B0BEC5",
                "#B0BEC5",
                "#B0BEC5",
                "#B0BEC5",
                "#B0BEC5"
               ]
              ]
             }
            ],
            "label": "Topic 47",
            "method": "update"
           },
           {
            "args": [
             {
              "marker.color": [
               [
                "#B0BEC5",
                "#B0BEC5",
                "#B0BEC5",
                "#B0BEC5",
                "#B0BEC5",
                "#B0BEC5",
                "#B0BEC5",
                "#B0BEC5",
                "#B0BEC5",
                "#B0BEC5",
                "#B0BEC5",
                "#B0BEC5",
                "#B0BEC5",
                "#B0BEC5",
                "#B0BEC5",
                "#B0BEC5",
                "#B0BEC5",
                "#B0BEC5",
                "#B0BEC5",
                "#B0BEC5",
                "#B0BEC5",
                "#B0BEC5",
                "#B0BEC5",
                "#B0BEC5",
                "#B0BEC5",
                "#B0BEC5",
                "#B0BEC5",
                "#B0BEC5",
                "#B0BEC5",
                "#B0BEC5",
                "#B0BEC5",
                "#B0BEC5",
                "#B0BEC5",
                "#B0BEC5",
                "#B0BEC5",
                "#B0BEC5",
                "#B0BEC5",
                "#B0BEC5",
                "#B0BEC5",
                "#B0BEC5",
                "#B0BEC5",
                "#B0BEC5",
                "#B0BEC5",
                "#B0BEC5",
                "#B0BEC5",
                "#B0BEC5",
                "#B0BEC5",
                "#B0BEC5",
                "red",
                "#B0BEC5",
                "#B0BEC5",
                "#B0BEC5",
                "#B0BEC5",
                "#B0BEC5"
               ]
              ]
             }
            ],
            "label": "Topic 48",
            "method": "update"
           },
           {
            "args": [
             {
              "marker.color": [
               [
                "#B0BEC5",
                "#B0BEC5",
                "#B0BEC5",
                "#B0BEC5",
                "#B0BEC5",
                "#B0BEC5",
                "#B0BEC5",
                "#B0BEC5",
                "#B0BEC5",
                "#B0BEC5",
                "#B0BEC5",
                "#B0BEC5",
                "#B0BEC5",
                "#B0BEC5",
                "#B0BEC5",
                "#B0BEC5",
                "#B0BEC5",
                "#B0BEC5",
                "#B0BEC5",
                "#B0BEC5",
                "#B0BEC5",
                "#B0BEC5",
                "#B0BEC5",
                "#B0BEC5",
                "#B0BEC5",
                "#B0BEC5",
                "#B0BEC5",
                "#B0BEC5",
                "#B0BEC5",
                "#B0BEC5",
                "#B0BEC5",
                "#B0BEC5",
                "#B0BEC5",
                "#B0BEC5",
                "#B0BEC5",
                "#B0BEC5",
                "#B0BEC5",
                "#B0BEC5",
                "#B0BEC5",
                "#B0BEC5",
                "#B0BEC5",
                "#B0BEC5",
                "#B0BEC5",
                "#B0BEC5",
                "#B0BEC5",
                "#B0BEC5",
                "#B0BEC5",
                "#B0BEC5",
                "#B0BEC5",
                "red",
                "#B0BEC5",
                "#B0BEC5",
                "#B0BEC5",
                "#B0BEC5"
               ]
              ]
             }
            ],
            "label": "Topic 49",
            "method": "update"
           },
           {
            "args": [
             {
              "marker.color": [
               [
                "#B0BEC5",
                "#B0BEC5",
                "#B0BEC5",
                "#B0BEC5",
                "#B0BEC5",
                "#B0BEC5",
                "#B0BEC5",
                "#B0BEC5",
                "#B0BEC5",
                "#B0BEC5",
                "#B0BEC5",
                "#B0BEC5",
                "#B0BEC5",
                "#B0BEC5",
                "#B0BEC5",
                "#B0BEC5",
                "#B0BEC5",
                "#B0BEC5",
                "#B0BEC5",
                "#B0BEC5",
                "#B0BEC5",
                "#B0BEC5",
                "#B0BEC5",
                "#B0BEC5",
                "#B0BEC5",
                "#B0BEC5",
                "#B0BEC5",
                "#B0BEC5",
                "#B0BEC5",
                "#B0BEC5",
                "#B0BEC5",
                "#B0BEC5",
                "#B0BEC5",
                "#B0BEC5",
                "#B0BEC5",
                "#B0BEC5",
                "#B0BEC5",
                "#B0BEC5",
                "#B0BEC5",
                "#B0BEC5",
                "#B0BEC5",
                "#B0BEC5",
                "#B0BEC5",
                "#B0BEC5",
                "#B0BEC5",
                "#B0BEC5",
                "#B0BEC5",
                "#B0BEC5",
                "#B0BEC5",
                "#B0BEC5",
                "red",
                "#B0BEC5",
                "#B0BEC5",
                "#B0BEC5"
               ]
              ]
             }
            ],
            "label": "Topic 50",
            "method": "update"
           },
           {
            "args": [
             {
              "marker.color": [
               [
                "#B0BEC5",
                "#B0BEC5",
                "#B0BEC5",
                "#B0BEC5",
                "#B0BEC5",
                "#B0BEC5",
                "#B0BEC5",
                "#B0BEC5",
                "#B0BEC5",
                "#B0BEC5",
                "#B0BEC5",
                "#B0BEC5",
                "#B0BEC5",
                "#B0BEC5",
                "#B0BEC5",
                "#B0BEC5",
                "#B0BEC5",
                "#B0BEC5",
                "#B0BEC5",
                "#B0BEC5",
                "#B0BEC5",
                "#B0BEC5",
                "#B0BEC5",
                "#B0BEC5",
                "#B0BEC5",
                "#B0BEC5",
                "#B0BEC5",
                "#B0BEC5",
                "#B0BEC5",
                "#B0BEC5",
                "#B0BEC5",
                "#B0BEC5",
                "#B0BEC5",
                "#B0BEC5",
                "#B0BEC5",
                "#B0BEC5",
                "#B0BEC5",
                "#B0BEC5",
                "#B0BEC5",
                "#B0BEC5",
                "#B0BEC5",
                "#B0BEC5",
                "#B0BEC5",
                "#B0BEC5",
                "#B0BEC5",
                "#B0BEC5",
                "#B0BEC5",
                "#B0BEC5",
                "#B0BEC5",
                "#B0BEC5",
                "#B0BEC5",
                "red",
                "#B0BEC5",
                "#B0BEC5"
               ]
              ]
             }
            ],
            "label": "Topic 51",
            "method": "update"
           },
           {
            "args": [
             {
              "marker.color": [
               [
                "#B0BEC5",
                "#B0BEC5",
                "#B0BEC5",
                "#B0BEC5",
                "#B0BEC5",
                "#B0BEC5",
                "#B0BEC5",
                "#B0BEC5",
                "#B0BEC5",
                "#B0BEC5",
                "#B0BEC5",
                "#B0BEC5",
                "#B0BEC5",
                "#B0BEC5",
                "#B0BEC5",
                "#B0BEC5",
                "#B0BEC5",
                "#B0BEC5",
                "#B0BEC5",
                "#B0BEC5",
                "#B0BEC5",
                "#B0BEC5",
                "#B0BEC5",
                "#B0BEC5",
                "#B0BEC5",
                "#B0BEC5",
                "#B0BEC5",
                "#B0BEC5",
                "#B0BEC5",
                "#B0BEC5",
                "#B0BEC5",
                "#B0BEC5",
                "#B0BEC5",
                "#B0BEC5",
                "#B0BEC5",
                "#B0BEC5",
                "#B0BEC5",
                "#B0BEC5",
                "#B0BEC5",
                "#B0BEC5",
                "#B0BEC5",
                "#B0BEC5",
                "#B0BEC5",
                "#B0BEC5",
                "#B0BEC5",
                "#B0BEC5",
                "#B0BEC5",
                "#B0BEC5",
                "#B0BEC5",
                "#B0BEC5",
                "#B0BEC5",
                "#B0BEC5",
                "red",
                "#B0BEC5"
               ]
              ]
             }
            ],
            "label": "Topic 52",
            "method": "update"
           },
           {
            "args": [
             {
              "marker.color": [
               [
                "#B0BEC5",
                "#B0BEC5",
                "#B0BEC5",
                "#B0BEC5",
                "#B0BEC5",
                "#B0BEC5",
                "#B0BEC5",
                "#B0BEC5",
                "#B0BEC5",
                "#B0BEC5",
                "#B0BEC5",
                "#B0BEC5",
                "#B0BEC5",
                "#B0BEC5",
                "#B0BEC5",
                "#B0BEC5",
                "#B0BEC5",
                "#B0BEC5",
                "#B0BEC5",
                "#B0BEC5",
                "#B0BEC5",
                "#B0BEC5",
                "#B0BEC5",
                "#B0BEC5",
                "#B0BEC5",
                "#B0BEC5",
                "#B0BEC5",
                "#B0BEC5",
                "#B0BEC5",
                "#B0BEC5",
                "#B0BEC5",
                "#B0BEC5",
                "#B0BEC5",
                "#B0BEC5",
                "#B0BEC5",
                "#B0BEC5",
                "#B0BEC5",
                "#B0BEC5",
                "#B0BEC5",
                "#B0BEC5",
                "#B0BEC5",
                "#B0BEC5",
                "#B0BEC5",
                "#B0BEC5",
                "#B0BEC5",
                "#B0BEC5",
                "#B0BEC5",
                "#B0BEC5",
                "#B0BEC5",
                "#B0BEC5",
                "#B0BEC5",
                "#B0BEC5",
                "#B0BEC5",
                "red"
               ]
              ]
             }
            ],
            "label": "Topic 53",
            "method": "update"
           }
          ]
         }
        ],
        "template": {
         "data": {
          "bar": [
           {
            "error_x": {
             "color": "rgb(36,36,36)"
            },
            "error_y": {
             "color": "rgb(36,36,36)"
            },
            "marker": {
             "line": {
              "color": "white",
              "width": 0.5
             },
             "pattern": {
              "fillmode": "overlay",
              "size": 10,
              "solidity": 0.2
             }
            },
            "type": "bar"
           }
          ],
          "barpolar": [
           {
            "marker": {
             "line": {
              "color": "white",
              "width": 0.5
             },
             "pattern": {
              "fillmode": "overlay",
              "size": 10,
              "solidity": 0.2
             }
            },
            "type": "barpolar"
           }
          ],
          "carpet": [
           {
            "aaxis": {
             "endlinecolor": "rgb(36,36,36)",
             "gridcolor": "white",
             "linecolor": "white",
             "minorgridcolor": "white",
             "startlinecolor": "rgb(36,36,36)"
            },
            "baxis": {
             "endlinecolor": "rgb(36,36,36)",
             "gridcolor": "white",
             "linecolor": "white",
             "minorgridcolor": "white",
             "startlinecolor": "rgb(36,36,36)"
            },
            "type": "carpet"
           }
          ],
          "choropleth": [
           {
            "colorbar": {
             "outlinewidth": 1,
             "tickcolor": "rgb(36,36,36)",
             "ticks": "outside"
            },
            "type": "choropleth"
           }
          ],
          "contour": [
           {
            "colorbar": {
             "outlinewidth": 1,
             "tickcolor": "rgb(36,36,36)",
             "ticks": "outside"
            },
            "colorscale": [
             [
              0,
              "#440154"
             ],
             [
              0.1111111111111111,
              "#482878"
             ],
             [
              0.2222222222222222,
              "#3e4989"
             ],
             [
              0.3333333333333333,
              "#31688e"
             ],
             [
              0.4444444444444444,
              "#26828e"
             ],
             [
              0.5555555555555556,
              "#1f9e89"
             ],
             [
              0.6666666666666666,
              "#35b779"
             ],
             [
              0.7777777777777778,
              "#6ece58"
             ],
             [
              0.8888888888888888,
              "#b5de2b"
             ],
             [
              1,
              "#fde725"
             ]
            ],
            "type": "contour"
           }
          ],
          "contourcarpet": [
           {
            "colorbar": {
             "outlinewidth": 1,
             "tickcolor": "rgb(36,36,36)",
             "ticks": "outside"
            },
            "type": "contourcarpet"
           }
          ],
          "heatmap": [
           {
            "colorbar": {
             "outlinewidth": 1,
             "tickcolor": "rgb(36,36,36)",
             "ticks": "outside"
            },
            "colorscale": [
             [
              0,
              "#440154"
             ],
             [
              0.1111111111111111,
              "#482878"
             ],
             [
              0.2222222222222222,
              "#3e4989"
             ],
             [
              0.3333333333333333,
              "#31688e"
             ],
             [
              0.4444444444444444,
              "#26828e"
             ],
             [
              0.5555555555555556,
              "#1f9e89"
             ],
             [
              0.6666666666666666,
              "#35b779"
             ],
             [
              0.7777777777777778,
              "#6ece58"
             ],
             [
              0.8888888888888888,
              "#b5de2b"
             ],
             [
              1,
              "#fde725"
             ]
            ],
            "type": "heatmap"
           }
          ],
          "histogram": [
           {
            "marker": {
             "line": {
              "color": "white",
              "width": 0.6
             }
            },
            "type": "histogram"
           }
          ],
          "histogram2d": [
           {
            "colorbar": {
             "outlinewidth": 1,
             "tickcolor": "rgb(36,36,36)",
             "ticks": "outside"
            },
            "colorscale": [
             [
              0,
              "#440154"
             ],
             [
              0.1111111111111111,
              "#482878"
             ],
             [
              0.2222222222222222,
              "#3e4989"
             ],
             [
              0.3333333333333333,
              "#31688e"
             ],
             [
              0.4444444444444444,
              "#26828e"
             ],
             [
              0.5555555555555556,
              "#1f9e89"
             ],
             [
              0.6666666666666666,
              "#35b779"
             ],
             [
              0.7777777777777778,
              "#6ece58"
             ],
             [
              0.8888888888888888,
              "#b5de2b"
             ],
             [
              1,
              "#fde725"
             ]
            ],
            "type": "histogram2d"
           }
          ],
          "histogram2dcontour": [
           {
            "colorbar": {
             "outlinewidth": 1,
             "tickcolor": "rgb(36,36,36)",
             "ticks": "outside"
            },
            "colorscale": [
             [
              0,
              "#440154"
             ],
             [
              0.1111111111111111,
              "#482878"
             ],
             [
              0.2222222222222222,
              "#3e4989"
             ],
             [
              0.3333333333333333,
              "#31688e"
             ],
             [
              0.4444444444444444,
              "#26828e"
             ],
             [
              0.5555555555555556,
              "#1f9e89"
             ],
             [
              0.6666666666666666,
              "#35b779"
             ],
             [
              0.7777777777777778,
              "#6ece58"
             ],
             [
              0.8888888888888888,
              "#b5de2b"
             ],
             [
              1,
              "#fde725"
             ]
            ],
            "type": "histogram2dcontour"
           }
          ],
          "mesh3d": [
           {
            "colorbar": {
             "outlinewidth": 1,
             "tickcolor": "rgb(36,36,36)",
             "ticks": "outside"
            },
            "type": "mesh3d"
           }
          ],
          "parcoords": [
           {
            "line": {
             "colorbar": {
              "outlinewidth": 1,
              "tickcolor": "rgb(36,36,36)",
              "ticks": "outside"
             }
            },
            "type": "parcoords"
           }
          ],
          "pie": [
           {
            "automargin": true,
            "type": "pie"
           }
          ],
          "scatter": [
           {
            "fillpattern": {
             "fillmode": "overlay",
             "size": 10,
             "solidity": 0.2
            },
            "type": "scatter"
           }
          ],
          "scatter3d": [
           {
            "line": {
             "colorbar": {
              "outlinewidth": 1,
              "tickcolor": "rgb(36,36,36)",
              "ticks": "outside"
             }
            },
            "marker": {
             "colorbar": {
              "outlinewidth": 1,
              "tickcolor": "rgb(36,36,36)",
              "ticks": "outside"
             }
            },
            "type": "scatter3d"
           }
          ],
          "scattercarpet": [
           {
            "marker": {
             "colorbar": {
              "outlinewidth": 1,
              "tickcolor": "rgb(36,36,36)",
              "ticks": "outside"
             }
            },
            "type": "scattercarpet"
           }
          ],
          "scattergeo": [
           {
            "marker": {
             "colorbar": {
              "outlinewidth": 1,
              "tickcolor": "rgb(36,36,36)",
              "ticks": "outside"
             }
            },
            "type": "scattergeo"
           }
          ],
          "scattergl": [
           {
            "marker": {
             "colorbar": {
              "outlinewidth": 1,
              "tickcolor": "rgb(36,36,36)",
              "ticks": "outside"
             }
            },
            "type": "scattergl"
           }
          ],
          "scattermap": [
           {
            "marker": {
             "colorbar": {
              "outlinewidth": 1,
              "tickcolor": "rgb(36,36,36)",
              "ticks": "outside"
             }
            },
            "type": "scattermap"
           }
          ],
          "scattermapbox": [
           {
            "marker": {
             "colorbar": {
              "outlinewidth": 1,
              "tickcolor": "rgb(36,36,36)",
              "ticks": "outside"
             }
            },
            "type": "scattermapbox"
           }
          ],
          "scatterpolar": [
           {
            "marker": {
             "colorbar": {
              "outlinewidth": 1,
              "tickcolor": "rgb(36,36,36)",
              "ticks": "outside"
             }
            },
            "type": "scatterpolar"
           }
          ],
          "scatterpolargl": [
           {
            "marker": {
             "colorbar": {
              "outlinewidth": 1,
              "tickcolor": "rgb(36,36,36)",
              "ticks": "outside"
             }
            },
            "type": "scatterpolargl"
           }
          ],
          "scatterternary": [
           {
            "marker": {
             "colorbar": {
              "outlinewidth": 1,
              "tickcolor": "rgb(36,36,36)",
              "ticks": "outside"
             }
            },
            "type": "scatterternary"
           }
          ],
          "surface": [
           {
            "colorbar": {
             "outlinewidth": 1,
             "tickcolor": "rgb(36,36,36)",
             "ticks": "outside"
            },
            "colorscale": [
             [
              0,
              "#440154"
             ],
             [
              0.1111111111111111,
              "#482878"
             ],
             [
              0.2222222222222222,
              "#3e4989"
             ],
             [
              0.3333333333333333,
              "#31688e"
             ],
             [
              0.4444444444444444,
              "#26828e"
             ],
             [
              0.5555555555555556,
              "#1f9e89"
             ],
             [
              0.6666666666666666,
              "#35b779"
             ],
             [
              0.7777777777777778,
              "#6ece58"
             ],
             [
              0.8888888888888888,
              "#b5de2b"
             ],
             [
              1,
              "#fde725"
             ]
            ],
            "type": "surface"
           }
          ],
          "table": [
           {
            "cells": {
             "fill": {
              "color": "rgb(237,237,237)"
             },
             "line": {
              "color": "white"
             }
            },
            "header": {
             "fill": {
              "color": "rgb(217,217,217)"
             },
             "line": {
              "color": "white"
             }
            },
            "type": "table"
           }
          ]
         },
         "layout": {
          "annotationdefaults": {
           "arrowhead": 0,
           "arrowwidth": 1
          },
          "autotypenumbers": "strict",
          "coloraxis": {
           "colorbar": {
            "outlinewidth": 1,
            "tickcolor": "rgb(36,36,36)",
            "ticks": "outside"
           }
          },
          "colorscale": {
           "diverging": [
            [
             0,
             "rgb(103,0,31)"
            ],
            [
             0.1,
             "rgb(178,24,43)"
            ],
            [
             0.2,
             "rgb(214,96,77)"
            ],
            [
             0.3,
             "rgb(244,165,130)"
            ],
            [
             0.4,
             "rgb(253,219,199)"
            ],
            [
             0.5,
             "rgb(247,247,247)"
            ],
            [
             0.6,
             "rgb(209,229,240)"
            ],
            [
             0.7,
             "rgb(146,197,222)"
            ],
            [
             0.8,
             "rgb(67,147,195)"
            ],
            [
             0.9,
             "rgb(33,102,172)"
            ],
            [
             1,
             "rgb(5,48,97)"
            ]
           ],
           "sequential": [
            [
             0,
             "#440154"
            ],
            [
             0.1111111111111111,
             "#482878"
            ],
            [
             0.2222222222222222,
             "#3e4989"
            ],
            [
             0.3333333333333333,
             "#31688e"
            ],
            [
             0.4444444444444444,
             "#26828e"
            ],
            [
             0.5555555555555556,
             "#1f9e89"
            ],
            [
             0.6666666666666666,
             "#35b779"
            ],
            [
             0.7777777777777778,
             "#6ece58"
            ],
            [
             0.8888888888888888,
             "#b5de2b"
            ],
            [
             1,
             "#fde725"
            ]
           ],
           "sequentialminus": [
            [
             0,
             "#440154"
            ],
            [
             0.1111111111111111,
             "#482878"
            ],
            [
             0.2222222222222222,
             "#3e4989"
            ],
            [
             0.3333333333333333,
             "#31688e"
            ],
            [
             0.4444444444444444,
             "#26828e"
            ],
            [
             0.5555555555555556,
             "#1f9e89"
            ],
            [
             0.6666666666666666,
             "#35b779"
            ],
            [
             0.7777777777777778,
             "#6ece58"
            ],
            [
             0.8888888888888888,
             "#b5de2b"
            ],
            [
             1,
             "#fde725"
            ]
           ]
          },
          "colorway": [
           "#1F77B4",
           "#FF7F0E",
           "#2CA02C",
           "#D62728",
           "#9467BD",
           "#8C564B",
           "#E377C2",
           "#7F7F7F",
           "#BCBD22",
           "#17BECF"
          ],
          "font": {
           "color": "rgb(36,36,36)"
          },
          "geo": {
           "bgcolor": "white",
           "lakecolor": "white",
           "landcolor": "white",
           "showlakes": true,
           "showland": true,
           "subunitcolor": "white"
          },
          "hoverlabel": {
           "align": "left"
          },
          "hovermode": "closest",
          "mapbox": {
           "style": "light"
          },
          "paper_bgcolor": "white",
          "plot_bgcolor": "white",
          "polar": {
           "angularaxis": {
            "gridcolor": "rgb(232,232,232)",
            "linecolor": "rgb(36,36,36)",
            "showgrid": false,
            "showline": true,
            "ticks": "outside"
           },
           "bgcolor": "white",
           "radialaxis": {
            "gridcolor": "rgb(232,232,232)",
            "linecolor": "rgb(36,36,36)",
            "showgrid": false,
            "showline": true,
            "ticks": "outside"
           }
          },
          "scene": {
           "xaxis": {
            "backgroundcolor": "white",
            "gridcolor": "rgb(232,232,232)",
            "gridwidth": 2,
            "linecolor": "rgb(36,36,36)",
            "showbackground": true,
            "showgrid": false,
            "showline": true,
            "ticks": "outside",
            "zeroline": false,
            "zerolinecolor": "rgb(36,36,36)"
           },
           "yaxis": {
            "backgroundcolor": "white",
            "gridcolor": "rgb(232,232,232)",
            "gridwidth": 2,
            "linecolor": "rgb(36,36,36)",
            "showbackground": true,
            "showgrid": false,
            "showline": true,
            "ticks": "outside",
            "zeroline": false,
            "zerolinecolor": "rgb(36,36,36)"
           },
           "zaxis": {
            "backgroundcolor": "white",
            "gridcolor": "rgb(232,232,232)",
            "gridwidth": 2,
            "linecolor": "rgb(36,36,36)",
            "showbackground": true,
            "showgrid": false,
            "showline": true,
            "ticks": "outside",
            "zeroline": false,
            "zerolinecolor": "rgb(36,36,36)"
           }
          },
          "shapedefaults": {
           "fillcolor": "black",
           "line": {
            "width": 0
           },
           "opacity": 0.3
          },
          "ternary": {
           "aaxis": {
            "gridcolor": "rgb(232,232,232)",
            "linecolor": "rgb(36,36,36)",
            "showgrid": false,
            "showline": true,
            "ticks": "outside"
           },
           "baxis": {
            "gridcolor": "rgb(232,232,232)",
            "linecolor": "rgb(36,36,36)",
            "showgrid": false,
            "showline": true,
            "ticks": "outside"
           },
           "bgcolor": "white",
           "caxis": {
            "gridcolor": "rgb(232,232,232)",
            "linecolor": "rgb(36,36,36)",
            "showgrid": false,
            "showline": true,
            "ticks": "outside"
           }
          },
          "title": {
           "x": 0.05
          },
          "xaxis": {
           "automargin": true,
           "gridcolor": "rgb(232,232,232)",
           "linecolor": "rgb(36,36,36)",
           "showgrid": false,
           "showline": true,
           "ticks": "outside",
           "title": {
            "standoff": 15
           },
           "zeroline": false,
           "zerolinecolor": "rgb(36,36,36)"
          },
          "yaxis": {
           "automargin": true,
           "gridcolor": "rgb(232,232,232)",
           "linecolor": "rgb(36,36,36)",
           "showgrid": false,
           "showline": true,
           "ticks": "outside",
           "title": {
            "standoff": 15
           },
           "zeroline": false,
           "zerolinecolor": "rgb(36,36,36)"
          }
         }
        },
        "title": {
         "font": {
          "color": "Black",
          "size": 22
         },
         "text": "<b>Intertopic Distance Map</b>",
         "x": 0.5,
         "xanchor": "center",
         "y": 0.95,
         "yanchor": "top"
        },
        "width": 650,
        "xaxis": {
         "anchor": "y",
         "domain": [
          0,
          1
         ],
         "range": [
          -12.274131345748902,
          23.810853004455566
         ],
         "title": {
          "text": ""
         },
         "visible": false
        },
        "yaxis": {
         "anchor": "x",
         "domain": [
          0,
          1
         ],
         "range": [
          -7.34147367477417,
          18.417850303649903
         ],
         "title": {
          "text": ""
         },
         "visible": false
        }
       }
      }
     },
     "metadata": {},
     "output_type": "display_data"
    }
   ],
   "source": [
    "topic_model.visualize_topics()"
   ]
  },
  {
   "cell_type": "code",
   "execution_count": 144,
   "metadata": {},
   "outputs": [
    {
     "name": "stdout",
     "output_type": "stream",
     "text": [
      "Number of topics: 15\n"
     ]
    }
   ],
   "source": [
    "print(f\"Number of topics: {model.num_topics}\")"
   ]
  },
  {
   "cell_type": "code",
   "execution_count": 145,
   "metadata": {},
   "outputs": [
    {
     "name": "stdout",
     "output_type": "stream",
     "text": [
      "[('game', 0.03721166), ('deal', 0.032482065), ('feature', 0.03174407), ('launch', 0.022629179), ('come', 0.020140609), ('tv', 0.019840265), ('app', 0.0194037), ('watch', 0.0178352), ('buy', 0.017170705), ('know', 0.016182683)]\n",
      "[('screen', 0.09300713), ('let', 0.070017315), ('range', 0.0688484), ('earn', 0.061454482), ('inch', 0.055857755), ('role', 0.048912395), ('trust', 0.048642136), ('color', 0.047595244), ('affiliate', 0.04015957), ('commission', 0.038798906)]\n",
      "[('pm', 0.08949963), ('menu', 0.041157372), ('message', 0.03769895), ('view', 0.03321853), ('delay', 0.027307708), ('account', 0.026133666), ('percent', 0.026127627), ('password', 0.023114445), ('sign', 0.022722425), ('volume', 0.021823762)]\n",
      "[('want', 0.037539802), ('use', 0.035151474), ('information', 0.034136355), ('base', 0.030252), ('website', 0.025309583), ('value', 0.025193227), ('risk', 0.023499614), ('experience', 0.022208333), ('leave', 0.02218078), ('help', 0.0196426)]\n",
      "[('hour', 0.09583142), ('case', 0.052168217), ('week', 0.048145343), ('child', 0.04379353), ('people', 0.03912056), ('city', 0.037168484), ('police', 0.026433557), ('kill', 0.02559422), ('die', 0.024179371), ('family', 0.02231475)]\n",
      "[('market', 0.12840426), ('report', 0.059973847), ('increase', 0.04218328), ('hold', 0.038161453), ('grow', 0.03572842), ('result', 0.027642015), ('gain', 0.021809738), ('supply', 0.021095453), ('reach', 0.020956323), ('impact', 0.020329872)]\n",
      "[('search_shopping', 0.0002878526), ('save_screeneretf', 0.0002878526), ('spark', 0.0002878526), ('sensor', 0.0002878526), ('selection', 0.0002878526), ('trend_activesstock', 0.0002878526), ('screeneretf', 0.0002878526), ('panel', 0.0002878526), ('recession_fear', 0.0002878526), ('affiliate_commission', 0.0002878526)]\n",
      "[('sell', 0.018505806), ('plan', 0.012158673), ('sale', 0.010510293), ('search', 0.0104975505), ('take', 0.0098663615), ('look', 0.009848822), ('continue', 0.009617445), ('issue', 0.009591333), ('follow', 0.00957265), ('pay', 0.00918779)]\n",
      "[('hit', 0.0198423), ('story', 0.01981968), ('show', 0.0197099), ('state', 0.019498566), ('review', 0.016952854), ('woman', 0.016826186), ('man', 0.016753945), ('drop', 0.016732901), ('file', 0.016453948), ('policy', 0.0142789055)]\n",
      "[('share', 0.082438454), ('stock', 0.06959329), ('price', 0.065240644), ('buy', 0.03260629), ('quarter', 0.030373968), ('research', 0.021914184), ('analyst', 0.02156431), ('investor', 0.020988418), ('earning', 0.019531513), ('rating', 0.018383369)]\n",
      "[('provide', 0.044190276), ('business', 0.036796533), ('lead', 0.03414305), ('technology', 0.02722077), ('industry', 0.024855314), ('product', 0.02430574), ('growth', 0.022612965), ('datum', 0.0220511), ('release', 0.019526167), ('transform', 0.016569784)]\n",
      "[('search_shopping', 0.0002878526), ('save_screeneretf', 0.0002878526), ('spark', 0.0002878526), ('sensor', 0.0002878526), ('selection', 0.0002878526), ('trend_activesstock', 0.0002878526), ('screeneretf', 0.0002878526), ('panel', 0.0002878526), ('recession_fear', 0.0002878526), ('affiliate_commission', 0.0002878526)]\n",
      "[('open', 0.07451024), ('link', 0.05206564), ('tab', 0.049939394), ('link_open', 0.026517356), ('email', 0.021617444), ('open_tab', 0.0201338), ('podcast', 0.019010693), ('window', 0.016677424), ('join', 0.016563179), ('people', 0.01526781)]\n",
      "[('user', 0.044426292), ('email', 0.037216764), ('min', 0.031823974), ('access', 0.030717935), ('list', 0.03007658), ('form', 0.029713752), ('click', 0.02524264), ('block', 0.023786068), ('security', 0.02181921), ('article', 0.021447962)]\n",
      "[('video', 0.053431943), ('play', 0.04961082), ('player', 0.045542195), ('write', 0.03661585), ('love', 0.030000124), ('series', 0.027940156), ('way', 0.026005158), ('post', 0.025022078), ('read', 0.022844434), ('go', 0.021839246)]\n"
     ]
    }
   ],
   "source": [
    "for i in range(15):\n",
    "    print(model.show_topic(i))"
   ]
  },
  {
   "cell_type": "markdown",
   "metadata": {},
   "source": [
    "# **Model Evaluation**"
   ]
  },
  {
   "cell_type": "code",
   "execution_count": 146,
   "metadata": {},
   "outputs": [],
   "source": [
    "lda_labels = {\n",
    "    0: \"Gaming\",\n",
    "    1: \"Screen Technology\",\n",
    "    2: \"Timing\",\n",
    "    3: \"Poltical Economy\",\n",
    "    4: \"Subcriptions\",\n",
    "    5: \"Pricing Strategy\",\n",
    "    6: \"Business Technology\",\n",
    "    7: \"Crime News\",\n",
    "    8: \"Entertainment\"\n",
    "}"
   ]
  },
  {
   "cell_type": "code",
   "execution_count": 147,
   "metadata": {},
   "outputs": [
    {
     "data": {
      "text/html": [
       "<div>\n",
       "<style scoped>\n",
       "    .dataframe tbody tr th:only-of-type {\n",
       "        vertical-align: middle;\n",
       "    }\n",
       "\n",
       "    .dataframe tbody tr th {\n",
       "        vertical-align: top;\n",
       "    }\n",
       "\n",
       "    .dataframe thead th {\n",
       "        text-align: right;\n",
       "    }\n",
       "</style>\n",
       "<table border=\"1\" class=\"dataframe\">\n",
       "  <thead>\n",
       "    <tr style=\"text-align: right;\">\n",
       "      <th></th>\n",
       "      <th>Topic ID</th>\n",
       "      <th>Top Words</th>\n",
       "      <th>Label</th>\n",
       "    </tr>\n",
       "  </thead>\n",
       "  <tbody>\n",
       "    <tr>\n",
       "      <th>0</th>\n",
       "      <td>0</td>\n",
       "      <td>game, deal, feature, launch, come, tv, app, wa...</td>\n",
       "      <td>Gaming</td>\n",
       "    </tr>\n",
       "    <tr>\n",
       "      <th>1</th>\n",
       "      <td>1</td>\n",
       "      <td>screen, let, range, earn, inch, role, trust, c...</td>\n",
       "      <td>Screen Technology</td>\n",
       "    </tr>\n",
       "    <tr>\n",
       "      <th>2</th>\n",
       "      <td>2</td>\n",
       "      <td>pm, menu, message, view, delay, account, perce...</td>\n",
       "      <td>Timing</td>\n",
       "    </tr>\n",
       "    <tr>\n",
       "      <th>3</th>\n",
       "      <td>3</td>\n",
       "      <td>want, use, information, base, website, value, ...</td>\n",
       "      <td>Poltical Economy</td>\n",
       "    </tr>\n",
       "    <tr>\n",
       "      <th>4</th>\n",
       "      <td>4</td>\n",
       "      <td>hour, case, week, child, people, city, police,...</td>\n",
       "      <td>Subcriptions</td>\n",
       "    </tr>\n",
       "    <tr>\n",
       "      <th>5</th>\n",
       "      <td>5</td>\n",
       "      <td>market, report, increase, hold, grow, result, ...</td>\n",
       "      <td>Pricing Strategy</td>\n",
       "    </tr>\n",
       "    <tr>\n",
       "      <th>6</th>\n",
       "      <td>6</td>\n",
       "      <td>search_shopping, save_screeneretf, spark, sens...</td>\n",
       "      <td>Business Technology</td>\n",
       "    </tr>\n",
       "    <tr>\n",
       "      <th>7</th>\n",
       "      <td>7</td>\n",
       "      <td>sell, plan, sale, search, take, look, continue...</td>\n",
       "      <td>Crime News</td>\n",
       "    </tr>\n",
       "    <tr>\n",
       "      <th>8</th>\n",
       "      <td>8</td>\n",
       "      <td>hit, story, show, state, review, woman, man, d...</td>\n",
       "      <td>Entertainment</td>\n",
       "    </tr>\n",
       "  </tbody>\n",
       "</table>\n",
       "</div>"
      ],
      "text/plain": [
       "   Topic ID                                          Top Words  \\\n",
       "0         0  game, deal, feature, launch, come, tv, app, wa...   \n",
       "1         1  screen, let, range, earn, inch, role, trust, c...   \n",
       "2         2  pm, menu, message, view, delay, account, perce...   \n",
       "3         3  want, use, information, base, website, value, ...   \n",
       "4         4  hour, case, week, child, people, city, police,...   \n",
       "5         5  market, report, increase, hold, grow, result, ...   \n",
       "6         6  search_shopping, save_screeneretf, spark, sens...   \n",
       "7         7  sell, plan, sale, search, take, look, continue...   \n",
       "8         8  hit, story, show, state, review, woman, man, d...   \n",
       "\n",
       "                 Label  \n",
       "0               Gaming  \n",
       "1    Screen Technology  \n",
       "2               Timing  \n",
       "3     Poltical Economy  \n",
       "4         Subcriptions  \n",
       "5     Pricing Strategy  \n",
       "6  Business Technology  \n",
       "7           Crime News  \n",
       "8        Entertainment  "
      ]
     },
     "metadata": {},
     "output_type": "display_data"
    }
   ],
   "source": [
    "# Build the DataFrame\n",
    "lda_label_df = pd.DataFrame({\n",
    "    \"Topic ID\": list(lda_labels.keys())\n",
    "})\n",
    "\n",
    "# Add top 10 words for each topic\n",
    "top_words = []\n",
    "for topic_id in lda_label_df[\"Topic ID\"]:\n",
    "    words = [word for word, _ in model.show_topic(topic_id, topn=10)]\n",
    "    top_words.append(\", \".join(words))\n",
    "\n",
    "lda_label_df[\"Top Words\"] = top_words\n",
    "\n",
    "lda_label_df[\"Label\"] = list(lda_labels.values())\n",
    "\n",
    "# Display the DataFrame\n",
    "display(lda_label_df)"
   ]
  },
  {
   "cell_type": "code",
   "execution_count": 148,
   "metadata": {},
   "outputs": [],
   "source": [
    "bertopic_words = []\n",
    "for topic_id in range(9):\n",
    "    words = [word for word, _ in topic_model.get_topic(topic_id)[:10]]\n",
    "    bertopic_words.append(\", \".join(words))"
   ]
  },
  {
   "cell_type": "code",
   "execution_count": 149,
   "metadata": {},
   "outputs": [
    {
     "data": {
      "text/plain": [
       "['pm, game, games, xbox, 2022 00, series, gaming, pc, 2022 11, activision',\n",
       " 'inflation, fed, stocks, oil, rates, td, bloomberg, prices, canada, billion',\n",
       " 'link, new tab, opens, tab, opens new, subscription, music, shopping, manage, celebrity',\n",
       " 'seattle, times, seattle times, advertising, streamingcomicsgames, justicelocal, nw, politicseducationeducation, musictv streamingcomicsgames, musictv',\n",
       " 'cloud, prnewswire, gray, customers, platform, oracle, gray media, partner, media group, solutions',\n",
       " 'equities, password, username, register, nasdaq, minute, delayed, financial, news financial, nasdaq stock',\n",
       " 'india, delhi, indian, rs, live, crore, bjp, express, singh, covid',\n",
       " 'ago, cloudy, hours ago, weeks ago, antonio, partly, nfl, weeks, oklahoma, local',\n",
       " 'shares, nyse, stock, rating, quarter, llc, nasdaq, management, holdings, position']"
      ]
     },
     "execution_count": 149,
     "metadata": {},
     "output_type": "execute_result"
    }
   ],
   "source": [
    "bertopic_words"
   ]
  },
  {
   "cell_type": "code",
   "execution_count": 150,
   "metadata": {},
   "outputs": [],
   "source": [
    "bertopic_labels = {\n",
    "    0: \"Gaming\",\n",
    "    1: \"Economic Markets\",\n",
    "    2: \"Financial Markets\",\n",
    "    3: \"Seattle Politics\",\n",
    "    4: \"Cloud Computing\",\n",
    "    5: \"India Market\",\n",
    "    6: \"Shopping & Subscriptions\",\n",
    "    7: \"Business Economy\",\n",
    "    8: \"Seattle Politics\"\n",
    "}"
   ]
  },
  {
   "cell_type": "code",
   "execution_count": 151,
   "metadata": {},
   "outputs": [
    {
     "data": {
      "text/html": [
       "<div>\n",
       "<style scoped>\n",
       "    .dataframe tbody tr th:only-of-type {\n",
       "        vertical-align: middle;\n",
       "    }\n",
       "\n",
       "    .dataframe tbody tr th {\n",
       "        vertical-align: top;\n",
       "    }\n",
       "\n",
       "    .dataframe thead th {\n",
       "        text-align: right;\n",
       "    }\n",
       "</style>\n",
       "<table border=\"1\" class=\"dataframe\">\n",
       "  <thead>\n",
       "    <tr style=\"text-align: right;\">\n",
       "      <th></th>\n",
       "      <th>Topic ID</th>\n",
       "      <th>Top Words</th>\n",
       "      <th>Label</th>\n",
       "    </tr>\n",
       "  </thead>\n",
       "  <tbody>\n",
       "    <tr>\n",
       "      <th>0</th>\n",
       "      <td>0</td>\n",
       "      <td>pm, game, games, xbox, 2022 00, series, gaming...</td>\n",
       "      <td>Gaming</td>\n",
       "    </tr>\n",
       "    <tr>\n",
       "      <th>1</th>\n",
       "      <td>1</td>\n",
       "      <td>inflation, fed, stocks, oil, rates, td, bloomb...</td>\n",
       "      <td>Economic Markets</td>\n",
       "    </tr>\n",
       "    <tr>\n",
       "      <th>2</th>\n",
       "      <td>2</td>\n",
       "      <td>link, new tab, opens, tab, opens new, subscrip...</td>\n",
       "      <td>Financial Markets</td>\n",
       "    </tr>\n",
       "    <tr>\n",
       "      <th>3</th>\n",
       "      <td>3</td>\n",
       "      <td>seattle, times, seattle times, advertising, st...</td>\n",
       "      <td>Seattle Politics</td>\n",
       "    </tr>\n",
       "    <tr>\n",
       "      <th>4</th>\n",
       "      <td>4</td>\n",
       "      <td>cloud, prnewswire, gray, customers, platform, ...</td>\n",
       "      <td>Cloud Computing</td>\n",
       "    </tr>\n",
       "    <tr>\n",
       "      <th>5</th>\n",
       "      <td>5</td>\n",
       "      <td>equities, password, username, register, nasdaq...</td>\n",
       "      <td>India Market</td>\n",
       "    </tr>\n",
       "    <tr>\n",
       "      <th>6</th>\n",
       "      <td>6</td>\n",
       "      <td>india, delhi, indian, rs, live, crore, bjp, ex...</td>\n",
       "      <td>Shopping &amp; Subscriptions</td>\n",
       "    </tr>\n",
       "    <tr>\n",
       "      <th>7</th>\n",
       "      <td>7</td>\n",
       "      <td>ago, cloudy, hours ago, weeks ago, antonio, pa...</td>\n",
       "      <td>Business Economy</td>\n",
       "    </tr>\n",
       "    <tr>\n",
       "      <th>8</th>\n",
       "      <td>8</td>\n",
       "      <td>shares, nyse, stock, rating, quarter, llc, nas...</td>\n",
       "      <td>Seattle Politics</td>\n",
       "    </tr>\n",
       "  </tbody>\n",
       "</table>\n",
       "</div>"
      ],
      "text/plain": [
       "   Topic ID                                          Top Words  \\\n",
       "0         0  pm, game, games, xbox, 2022 00, series, gaming...   \n",
       "1         1  inflation, fed, stocks, oil, rates, td, bloomb...   \n",
       "2         2  link, new tab, opens, tab, opens new, subscrip...   \n",
       "3         3  seattle, times, seattle times, advertising, st...   \n",
       "4         4  cloud, prnewswire, gray, customers, platform, ...   \n",
       "5         5  equities, password, username, register, nasdaq...   \n",
       "6         6  india, delhi, indian, rs, live, crore, bjp, ex...   \n",
       "7         7  ago, cloudy, hours ago, weeks ago, antonio, pa...   \n",
       "8         8  shares, nyse, stock, rating, quarter, llc, nas...   \n",
       "\n",
       "                      Label  \n",
       "0                    Gaming  \n",
       "1          Economic Markets  \n",
       "2         Financial Markets  \n",
       "3          Seattle Politics  \n",
       "4           Cloud Computing  \n",
       "5              India Market  \n",
       "6  Shopping & Subscriptions  \n",
       "7          Business Economy  \n",
       "8          Seattle Politics  "
      ]
     },
     "metadata": {},
     "output_type": "display_data"
    }
   ],
   "source": [
    "bertopic_df = pd.DataFrame({\n",
    "    \"Topic ID\": list(bertopic_labels.keys()),\n",
    "    \"Top Words\": bertopic_words,\n",
    "     \"Label\": list(bertopic_labels.values())\n",
    "})\n",
    "\n",
    "display(bertopic_df)"
   ]
  },
  {
   "cell_type": "markdown",
   "metadata": {},
   "source": [
    "# **Analysis**"
   ]
  },
  {
   "cell_type": "markdown",
   "metadata": {},
   "source": [
    "Overall the topic modeling outputs from LDA and BERTopic are slightly different in how each model groups text topics. With LDA, we can see that the topcis are generally broader and more conceptual topics in nature. For example, “Politics & History” or “Business Technology”. However, LDA also produced some noisy/redundant topics, such as Topics 3 and 5, which appear to be somewhat unrelated. \n",
    "\n",
    "In contrast, BERTopic is much more granular (especially since we only pulled the first 9 of 61 topics), and is better at producing more concrete topics. For example, “Gaming,” “India Market,” or “Seattle Politics.” It also produced less redundnat topics. However, there was some thematic overlap such as \"Seattle Politics\". \n",
    "\n",
    "Overall, LDA was more high level, while BERTopic was more granular. As such, the choice between the two comes down to the interpreation goal."
   ]
  }
 ],
 "metadata": {
  "kernelspec": {
   "display_name": "nlp",
   "language": "python",
   "name": "python3"
  },
  "language_info": {
   "codemirror_mode": {
    "name": "ipython",
    "version": 3
   },
   "file_extension": ".py",
   "mimetype": "text/x-python",
   "name": "python",
   "nbconvert_exporter": "python",
   "pygments_lexer": "ipython3",
   "version": "3.11.9"
  }
 },
 "nbformat": 4,
 "nbformat_minor": 2
}
