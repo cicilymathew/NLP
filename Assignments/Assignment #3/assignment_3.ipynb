{
 "cells": [
  {
   "cell_type": "markdown",
   "metadata": {},
   "source": [
    "# **Import Library**"
   ]
  },
  {
   "cell_type": "code",
   "execution_count": 1,
   "metadata": {},
   "outputs": [
    {
     "name": "stderr",
     "output_type": "stream",
     "text": [
      "c:\\Old laptop\\D\\mY folder\\ML\\myenv\\Lib\\site-packages\\tqdm\\auto.py:21: TqdmWarning: IProgress not found. Please update jupyter and ipywidgets. See https://ipywidgets.readthedocs.io/en/stable/user_install.html\n",
      "  from .autonotebook import tqdm as notebook_tqdm\n"
     ]
    }
   ],
   "source": [
    "import pandas as pd\n",
    "import numpy as np\n",
    "import matplotlib.pyplot as plt\n",
    "import seaborn as sns\n",
    "import spacy\n",
    "import re\n",
    "from tqdm import tqdm\n",
    "import pyLDAvis.gensim_models as gensimvis\n",
    "import pyLDAvis\n",
    "from gensim.models import Phrases, LdaModel, LdaMulticore, CoherenceModel\n",
    "from gensim.corpora import Dictionary\n",
    "from sklearn.datasets import fetch_20newsgroups\n",
    "import pyLDAvis\n",
    "from bertopic import BERTopic\n",
    "from bertopic.vectorizers import ClassTfidfTransformer\n",
    "from sklearn.cluster import HDBSCAN\n",
    "from sklearn.feature_extraction.text import CountVectorizer\n",
    "from umap import UMAP\n",
    "from sentence_transformers import SentenceTransformer"
   ]
  },
  {
   "cell_type": "markdown",
   "metadata": {},
   "source": [
    "# **Data Loading**"
   ]
  },
  {
   "cell_type": "code",
   "execution_count": 2,
   "metadata": {},
   "outputs": [],
   "source": [
    "url = \"https://storage.googleapis.com/adsp-nlp-open/data/nlp_a_6_news.json\"\n",
    "news_df = pd.read_json(url, orient=\"records\", lines=True).sample(n=5000, random_state=0)"
   ]
  },
  {
   "cell_type": "code",
   "execution_count": 87,
   "metadata": {},
   "outputs": [
    {
     "name": "stdout",
     "output_type": "stream",
     "text": [
      "Shape: (5000, 5)\n",
      "Columns: Index(['url', 'date', 'language', 'title', 'text'], dtype='object')\n"
     ]
    }
   ],
   "source": [
    "print(f'Shape: {news_df.shape}')\n",
    "print(f'Columns: {news_df.columns}')"
   ]
  },
  {
   "cell_type": "code",
   "execution_count": 88,
   "metadata": {},
   "outputs": [
    {
     "data": {
      "text/html": [
       "<div>\n",
       "<style scoped>\n",
       "    .dataframe tbody tr th:only-of-type {\n",
       "        vertical-align: middle;\n",
       "    }\n",
       "\n",
       "    .dataframe tbody tr th {\n",
       "        vertical-align: top;\n",
       "    }\n",
       "\n",
       "    .dataframe thead th {\n",
       "        text-align: right;\n",
       "    }\n",
       "</style>\n",
       "<table border=\"1\" class=\"dataframe\">\n",
       "  <thead>\n",
       "    <tr style=\"text-align: right;\">\n",
       "      <th></th>\n",
       "      <th>url</th>\n",
       "      <th>date</th>\n",
       "      <th>language</th>\n",
       "      <th>title</th>\n",
       "      <th>text</th>\n",
       "    </tr>\n",
       "  </thead>\n",
       "  <tbody>\n",
       "    <tr>\n",
       "      <th>3844</th>\n",
       "      <td>https://www.kxii.com/prnewswire/2022/05/23/com...</td>\n",
       "      <td>2022-05-23</td>\n",
       "      <td>en</td>\n",
       "      <td>COMPUTEX 2022 Global Press Conference Industry...</td>\n",
       "      <td>COMPUTEX 2022 Global Press Conference Industry...</td>\n",
       "    </tr>\n",
       "    <tr>\n",
       "      <th>3617</th>\n",
       "      <td>https://www.bigrapidsnews.com/business/article...</td>\n",
       "      <td>2022-06-09</td>\n",
       "      <td>en</td>\n",
       "      <td>Moderna, Roku rise; Scotts Miracle-Gro, Charle...</td>\n",
       "      <td>Moderna, Roku rise; Scotts Miracle-Gro, Charle...</td>\n",
       "    </tr>\n",
       "    <tr>\n",
       "      <th>2608</th>\n",
       "      <td>https://www.devdiscourse.com/article/education...</td>\n",
       "      <td>2022-04-12</td>\n",
       "      <td>en</td>\n",
       "      <td>Create entrepreneurship ecosystem in districts...</td>\n",
       "      <td>Create entrepreneurship ecosystem in districts...</td>\n",
       "    </tr>\n",
       "    <tr>\n",
       "      <th>3857</th>\n",
       "      <td>https://www.seattletimes.com/seattle-news/heal...</td>\n",
       "      <td>2022-04-30</td>\n",
       "      <td>en</td>\n",
       "      <td>Connecticut Senate OKs bill that protects abor...</td>\n",
       "      <td>Connecticut Senate OKs bill that protects abor...</td>\n",
       "    </tr>\n",
       "    <tr>\n",
       "      <th>1595</th>\n",
       "      <td>https://www.breakinglatest.news/news/maturity-...</td>\n",
       "      <td>2022-07-24</td>\n",
       "      <td>en</td>\n",
       "      <td>Maturity, thanks from Fabio and Adriana: “Incl...</td>\n",
       "      <td>Maturity, thanks from Fabio and Adriana: “Incl...</td>\n",
       "    </tr>\n",
       "  </tbody>\n",
       "</table>\n",
       "</div>"
      ],
      "text/plain": [
       "                                                    url       date language  \\\n",
       "3844  https://www.kxii.com/prnewswire/2022/05/23/com... 2022-05-23       en   \n",
       "3617  https://www.bigrapidsnews.com/business/article... 2022-06-09       en   \n",
       "2608  https://www.devdiscourse.com/article/education... 2022-04-12       en   \n",
       "3857  https://www.seattletimes.com/seattle-news/heal... 2022-04-30       en   \n",
       "1595  https://www.breakinglatest.news/news/maturity-... 2022-07-24       en   \n",
       "\n",
       "                                                  title  \\\n",
       "3844  COMPUTEX 2022 Global Press Conference Industry...   \n",
       "3617  Moderna, Roku rise; Scotts Miracle-Gro, Charle...   \n",
       "2608  Create entrepreneurship ecosystem in districts...   \n",
       "3857  Connecticut Senate OKs bill that protects abor...   \n",
       "1595  Maturity, thanks from Fabio and Adriana: “Incl...   \n",
       "\n",
       "                                                   text  \n",
       "3844  COMPUTEX 2022 Global Press Conference Industry...  \n",
       "3617  Moderna, Roku rise; Scotts Miracle-Gro, Charle...  \n",
       "2608  Create entrepreneurship ecosystem in districts...  \n",
       "3857  Connecticut Senate OKs bill that protects abor...  \n",
       "1595  Maturity, thanks from Fabio and Adriana: “Incl...  "
      ]
     },
     "execution_count": 88,
     "metadata": {},
     "output_type": "execute_result"
    }
   ],
   "source": [
    "news_df.head()"
   ]
  },
  {
   "cell_type": "code",
   "execution_count": 3,
   "metadata": {},
   "outputs": [],
   "source": [
    "news_df['combined_text'] = news_df['title'] + \" \" + news_df['text']"
   ]
  },
  {
   "cell_type": "markdown",
   "metadata": {},
   "source": [
    "# **Exploratory Data Analysis**"
   ]
  },
  {
   "cell_type": "code",
   "execution_count": 5,
   "metadata": {},
   "outputs": [],
   "source": [
    "# Light cleaning: Remove extra whitespace and duplicate punctuation/characters\n",
    "def light_clean_text(text):\n",
    "    if pd.isnull(text):  # handle NaNs gracefully\n",
    "        return \"\"\n",
    "    text = re.sub(r\"(\\s)+\", \" \", text) # Replace multiple spaces with a single space\n",
    "    text = re.sub(r\"([^a-zA-Z0-9])\\1+\", r\"\\1\", text) # Remove repeated punctuation\n",
    "    return text.strip()"
   ]
  },
  {
   "cell_type": "code",
   "execution_count": 6,
   "metadata": {},
   "outputs": [],
   "source": [
    "news_df['combined_light_cleaned'] = news_df['combined_text'].apply(light_clean_text)"
   ]
  },
  {
   "cell_type": "code",
   "execution_count": 10,
   "metadata": {},
   "outputs": [],
   "source": [
    "def plot_word_count(text_distribution, plot_title):\n",
    "    plt.figure(figsize= (8,5))\n",
    "    sns.histplot(text_distribution, kde= True)\n",
    "    plt.title(plot_title, fontweight= 'bold', fontsize= 16)\n",
    "    plt.xlabel('Text Length', fontweight= 'bold')\n",
    "    plt.ylabel('Count', fontweight= 'bold')\n",
    "    plt.show()"
   ]
  },
  {
   "cell_type": "code",
   "execution_count": 11,
   "metadata": {},
   "outputs": [
    {
     "data": {
      "image/png": "[encoded data removed]",
      "text/plain": [
       "<Figure size 800x500 with 1 Axes>"
      ]
     },
     "metadata": {},
     "output_type": "display_data"
    }
   ],
   "source": [
    "# Number of words in each document after light cleaning\n",
    "news_df['text_length'] = news_df['combined_light_cleaned'].str.split().str.len()\n",
    "\n",
    "plot_word_count(news_df['text_length'], 'Text Length Distribution')"
   ]
  },
  {
   "cell_type": "code",
   "execution_count": 12,
   "metadata": {},
   "outputs": [
    {
     "data": {
      "image/png": "[encoded data removed]",
      "text/plain": [
       "<Figure size 800x500 with 1 Axes>"
      ]
     },
     "metadata": {},
     "output_type": "display_data"
    }
   ],
   "source": [
    "cutoff = np.percentile(news_df['text_length'], 95)\n",
    "shortened_lengths = news_df[news_df['text_length'] <= cutoff]['text_length']\n",
    "\n",
    "plot_word_count(shortened_lengths, 'Text Length Distribution (<= 95th Percentile)')"
   ]
  },
  {
   "cell_type": "code",
   "execution_count": 13,
   "metadata": {},
   "outputs": [
    {
     "name": "stdout",
     "output_type": "stream",
     "text": [
      "Shape: (4750, 8)\n"
     ]
    }
   ],
   "source": [
    "news_df = news_df[news_df['text_length'] <= cutoff]\n",
    "print(f'Shape: {news_df.shape}')"
   ]
  },
  {
   "cell_type": "code",
   "execution_count": 14,
   "metadata": {},
   "outputs": [],
   "source": [
    "# Type-to-Token Ratio (TTR) as a measure of lexical diversity (can help identify excessive repition).\n",
    "def calc_ttr(text: str) -> float:\n",
    "    words = text.split()\n",
    "    unique_words = len(set(words))\n",
    "    total_words = len(words)\n",
    "    return unique_words / total_words if total_words > 0 else 0"
   ]
  },
  {
   "cell_type": "code",
   "execution_count": 15,
   "metadata": {},
   "outputs": [
    {
     "data": {
      "image/png": "[encoded data removed]",
      "text/plain": [
       "<Figure size 640x480 with 1 Axes>"
      ]
     },
     "metadata": {},
     "output_type": "display_data"
    }
   ],
   "source": [
    "# Apply the TTR function to the light-cleaned text\n",
    "news_df['ttr'] = news_df['combined_light_cleaned'].apply(calc_ttr)\n",
    "\n",
    "sns.histplot(news_df['ttr'], kde= True)\n",
    "plt.title('Type-to-Token Ratio Distribution', fontweight= 'bold', fontsize= 16)\n",
    "plt.xlabel('Type-to-Token Ratio (TTR)', fontweight= 'bold')\n",
    "plt.ylabel('Count', fontweight= 'bold')\n",
    "plt.show()"
   ]
  },
  {
   "cell_type": "markdown",
   "metadata": {},
   "source": [
    "# **Model Preprocessing**"
   ]
  },
  {
   "cell_type": "code",
   "execution_count": 16,
   "metadata": {},
   "outputs": [],
   "source": [
    "def heavy_clean_text(corpus, spacy_pipeline, as_string=True, batch_size=500):\n",
    "    \"\"\"\n",
    "    Cleans a sequence of text by applying simple processing techniques in batches with progress tracking.\n",
    "\n",
    "    Args:\n",
    "        corpus (Iterable): a sequence of text to be processed\n",
    "        spacy_pipeline: the Spacy pipeline object for processing text\n",
    "        as_string (bool): whether to return the cleaned tokens as joined strings or lists\n",
    "        batch_size (int): number of documents to process per batch\n",
    "\n",
    "    Returns:\n",
    "        clean_sequence (list): a cleaned version of the original text\n",
    "    \"\"\"\n",
    "    corpus_clean = []\n",
    "    total_batches = (len(corpus) + batch_size - 1) // batch_size  # ceiling division\n",
    "\n",
    "    for i in tqdm(range(0, len(corpus), batch_size), desc=\"Cleaning text (batches)\", total=total_batches):\n",
    "        batch = corpus[i:i + batch_size]\n",
    "\n",
    "        try:\n",
    "            docs = list(spacy_pipeline.pipe(\n",
    "                batch,\n",
    "                disable=[\"ner\"],\n",
    "                n_process=1  # safer for Mac/Jupyter\n",
    "            ))\n",
    "\n",
    "            for doc in tqdm(docs, desc=f\"Processing batch {i // batch_size + 1}\", leave=False):\n",
    "                doc_tokens = [\n",
    "                    token.lemma_.lower()\n",
    "                    for token in doc\n",
    "                    if not token.is_stop and token.is_alpha and len(token) > 1 and token.pos_ in (\"NOUN\", \"VERB\")\n",
    "                ]\n",
    "\n",
    "                if as_string:\n",
    "                    corpus_clean.append(\" \".join(doc_tokens))\n",
    "                else:\n",
    "                    corpus_clean.append(doc_tokens)\n",
    "\n",
    "        except Exception as e:\n",
    "            print(f\"\\nError processing batch {i // batch_size + 1}: {e}\")\n",
    "            continue\n",
    "\n",
    "    return corpus_clean"
   ]
  },
  {
   "cell_type": "code",
   "execution_count": 19,
   "metadata": {},
   "outputs": [],
   "source": [
    "# loading spacy model\n",
    "nlp = spacy.load(\"en_core_web_md\")"
   ]
  },
  {
   "cell_type": "code",
   "execution_count": 20,
   "metadata": {},
   "outputs": [
    {
     "name": "stderr",
     "output_type": "stream",
     "text": [
      "Cleaning text (batches): 100%|██████████| 10/10 [06:18<00:00, 37.87s/it]\n"
     ]
    }
   ],
   "source": [
    "# Apply cleaning to the full text\n",
    "normalized_corpus = heavy_clean_text(\n",
    "    corpus= news_df['combined_light_cleaned'].tolist(),\n",
    "    spacy_pipeline= nlp,\n",
    "    as_string= False\n",
    ")"
   ]
  },
  {
   "cell_type": "code",
   "execution_count": 103,
   "metadata": {},
   "outputs": [
    {
     "data": {
      "text/plain": [
       "['rise',\n",
       " 'fall',\n",
       " 'rise',\n",
       " 'fall',\n",
       " 'content',\n",
       " 'rise',\n",
       " 'sportsopinioncolumnsletter',\n",
       " 'estatearchiveseventsclassifiedsadvertisecontacte',\n",
       " 'update',\n",
       " 'suspect',\n",
       " 'assault',\n",
       " 'cooperate',\n",
       " 'authority',\n",
       " 'got',\n",
       " 'snake',\n",
       " 'racer',\n",
       " 'snake',\n",
       " 'report',\n",
       " 'way',\n",
       " 'end',\n",
       " 'season',\n",
       " 'penalty',\n",
       " 'haunt',\n",
       " 'restaurant',\n",
       " 'restaurant',\n",
       " 'car',\n",
       " 'crash',\n",
       " 'official',\n",
       " 'assemble',\n",
       " 'emergency',\n",
       " 'exercise',\n",
       " 'sophomore',\n",
       " 'make',\n",
       " 'claim',\n",
       " 'sprinter',\n",
       " 'circuit',\n",
       " 'judge',\n",
       " 'retire',\n",
       " 'year',\n",
       " 'rise',\n",
       " 'falljune',\n",
       " 'stock',\n",
       " 'trade',\n",
       " 'price',\n",
       " 'change',\n",
       " 'lawn',\n",
       " 'garden',\n",
       " 'care',\n",
       " 'company',\n",
       " 'slash',\n",
       " 'profit',\n",
       " 'forecast',\n",
       " 'year',\n",
       " 'cent',\n",
       " 'maker',\n",
       " 'can',\n",
       " 'soup',\n",
       " 'cookie',\n",
       " 'raise',\n",
       " 'revenue',\n",
       " 'forecast',\n",
       " 'year',\n",
       " 'maker',\n",
       " 'signature',\n",
       " 'technology',\n",
       " 'announce',\n",
       " 'expand',\n",
       " 'partnership',\n",
       " 'drugmaker',\n",
       " 'say',\n",
       " 'vaccine',\n",
       " 'combine',\n",
       " 'shoot',\n",
       " 'protection',\n",
       " 'variant',\n",
       " 'appear',\n",
       " 'work',\n",
       " 'maker',\n",
       " 'datum',\n",
       " 'storage',\n",
       " 'device',\n",
       " 'say',\n",
       " 'review',\n",
       " 'option',\n",
       " 'separate',\n",
       " 'flash',\n",
       " 'disk',\n",
       " 'drive',\n",
       " 'business',\n",
       " 'create',\n",
       " 'day',\n",
       " 'news',\n",
       " 'inbox',\n",
       " 'blotter',\n",
       " 'teal',\n",
       " 'swing',\n",
       " 'report',\n",
       " 'steal',\n",
       " 'gas',\n",
       " 'price',\n",
       " 'strain',\n",
       " 'law',\n",
       " 'enforcement',\n",
       " 'golf',\n",
       " 'outing',\n",
       " 'set',\n",
       " 'provider',\n",
       " 'pharmaceutical',\n",
       " 'research',\n",
       " 'service',\n",
       " 'warn',\n",
       " 'investor',\n",
       " 'earning',\n",
       " 'growth',\n",
       " 'quarter',\n",
       " 'cent',\n",
       " 'glass',\n",
       " 'container',\n",
       " 'maker',\n",
       " 'give',\n",
       " 'investor',\n",
       " 'update',\n",
       " 'quarter',\n",
       " 'earning',\n",
       " 'growth',\n",
       " 'video',\n",
       " 'streaming',\n",
       " 'company',\n",
       " 'buyout',\n",
       " 'target',\n",
       " 'day',\n",
       " 'news',\n",
       " 'inbox',\n",
       " 'blotter',\n",
       " 'teal',\n",
       " 'swing',\n",
       " 'report',\n",
       " 'steal',\n",
       " 'gas',\n",
       " 'price',\n",
       " 'strain',\n",
       " 'law',\n",
       " 'enforcement',\n",
       " 'golf',\n",
       " 'outing',\n",
       " 'set',\n",
       " 'write',\n",
       " 'create',\n",
       " 'awareness',\n",
       " 'begin',\n",
       " 'year',\n",
       " 'host',\n",
       " 'community',\n",
       " 'house',\n",
       " 'kick',\n",
       " 'summer',\n",
       " 'celebrate',\n",
       " 'end',\n",
       " 'school',\n",
       " 'year',\n",
       " 'name',\n",
       " 'place',\n",
       " 'people',\n",
       " 'product',\n",
       " 'popularity',\n",
       " 'year',\n",
       " 'charge',\n",
       " 'threat',\n",
       " 'school',\n",
       " 'year',\n",
       " 'man',\n",
       " 'charge',\n",
       " 'threaten',\n",
       " 'school',\n",
       " 'medium',\n",
       " 'return',\n",
       " 'base',\n",
       " 'usecareersprint',\n",
       " 'editionfacebooktwitter']"
      ]
     },
     "execution_count": 103,
     "metadata": {},
     "output_type": "execute_result"
    }
   ],
   "source": [
    "normalized_corpus[1]"
   ]
  },
  {
   "cell_type": "code",
   "execution_count": 104,
   "metadata": {},
   "outputs": [
    {
     "data": {
      "text/plain": [
       "\"Moderna, Roku rise; Scotts Miracle-Gro, Charles River fall Moderna, Roku rise; Scotts Miracle-Gro, Charles River fall        Skip to main content Big Rapids Pioneer HomepageCurrently ReadingModerna, Roku rise; Scotts Miracle-Gro, Charles River fallSubscribeSubscribee-EditionSign In  homeFormsNewslettersPuzzlesNewsCoronavirusLocal NewsHeroes UnmaskedState NewsSpecial SectionsSportsLocal SportsFerris SportsState SportsOpinionColumnsLetters to the EditorObituariesSubmit an ObituaryCoronavirusCannabisPhotosWeatherReal EstateArchivesEventsClassifiedsAdvertiseContactE-EditionSubscriber Services   Most Popular Update: Suspect in assault ID'd, cooperating with authorities Got snakes? Blue racer snakes reported in Mecosta County Tough way to end the season: Penalty kicks haunt Big Rapids Michigan restaurants that have been on 'Restaurant: Impossible' Two dead in three-car crash in Grand Rapids Midland County officials assemble for emergency exercise Chippewa Hills sophomore makes her claim as the fastest sprinter in the... Mecosta, Osceola County circuit judge to retire after 17 years   NewsModerna, Roku rise; Scotts Miracle-Gro, Charles River fallJune 8, 2022Updated: June 8, 2022 5:57\\xa0p.m.FacebookTwitterEmailCommentsNEW YORK (AP) — Stocks that traded heavily or had substantial price changes Wednesday:Scotts Miracle-Gro Co., down $9.05 to $93.13.The lawn and garden care company slashed its profit forecast for the year.Campbell Soup Co., up 71 cents to $47.31.The maker of canned soup, Pepperidge Farm cookies and V8 juice raised its revenue forecast for the year.DocuSign Inc., up $2.36 to $90.10.The maker of electronic signature technology announced an expanded partnership with Microsoft.Moderna Inc., up $3.19 to $148.53.The drugmaker said an experimental vaccine that combines its original COVID-19 shot with protection against the omicron variant appears to work. Western Digital Corp., down $2.50 to $57.82.The maker of data storage devices said it's reviewing options for separating its flash and hard disk drive businesses.Charles River Laboratories International Inc., down $10.31 to $236.90.More NewsWorld Oceans Day creates awarenessEd Sheeran, Chicago among mispronounced namesNewslettersStart your day with local news in your inbox  More NewsNewsSHERIFF'S BLOTTER: Teal colored swing reported stolen...  NewsHigh gas prices straining Mecosta County law enforcement  NewsHabitat for Humanity golf outing set for June 22  The provider of pharmaceutical research services warned investors of weak earnings growth in the second quarter.O-I Glass Inc., up 68 cents to $17.65.The glass container maker gave investors an encouraging update on second-quarter earnings growth.Roku Inc., up $8.46 to $101.88.The video streaming company is reportedly a buyout target for Netflix.NewslettersStart your day with local news in your inbox  More NewsNewsSHERIFF'S BLOTTER: Teal colored swing reported stolen...  NewsHigh gas prices straining Mecosta County law enforcement  NewsHabitat for Humanity golf outing set for June 22  Written By  View CommentsMore NewsWorld Oceans Day creates awareness It all began 30 years ago in 1992 in Canada with the International Centre of Ocean Development... Mecosta County Parks host 7th annual community open house\\xa0 The Mecosta County Parks are kicking off summer and celebrating the end of the school year with... Ed Sheeran, Chicago among mispronounced names Some of the greatest places, people and products despite their popularity may not be the easiest... 19-year-old charged in online threat against Baldwin school A 19-year-old man has been charged for allegedly threatening a Lake County school on social media...   Return to TopAboutPrivacy NoticeYour California Privacy RightsInterest Based AdsTerms of UseCareersPrint ArchivesContactCustomer ServiceNewsroom ContactsAdvertiseConnecte-EditionFacebookTwitter ©2022 Hearst \""
      ]
     },
     "execution_count": 104,
     "metadata": {},
     "output_type": "execute_result"
    }
   ],
   "source": [
    "news_df.combined_text.iloc[1]"
   ]
  },
  {
   "cell_type": "code",
   "execution_count": 21,
   "metadata": {},
   "outputs": [],
   "source": [
    "min_counts = np.insert(np.arange(5, 50, 5), 0, 2)\n",
    "bigram_counts = []\n",
    "\n",
    "for mc in min_counts:\n",
    "    phraser = Phrases(normalized_corpus, min_count=mc)\n",
    "    count = sum(1 for doc in phraser[normalized_corpus] for token in doc if '_' in token)\n",
    "    bigram_counts.append(count)"
   ]
  },
  {
   "cell_type": "code",
   "execution_count": 106,
   "metadata": {},
   "outputs": [
    {
     "data": {
      "text/plain": [
       "[279383,\n",
       " 219365,\n",
       " 178615,\n",
       " 157106,\n",
       " 144184,\n",
       " 133097,\n",
       " 123012,\n",
       " 115836,\n",
       " 110024,\n",
       " 105378]"
      ]
     },
     "execution_count": 106,
     "metadata": {},
     "output_type": "execute_result"
    }
   ],
   "source": [
    "bigram_counts"
   ]
  },
  {
   "cell_type": "code",
   "execution_count": 107,
   "metadata": {},
   "outputs": [
    {
     "data": {
      "image/png": "[encoded data removed]",
      "text/plain": [
       "<Figure size 800x500 with 1 Axes>"
      ]
     },
     "metadata": {},
     "output_type": "display_data"
    }
   ],
   "source": [
    "plt.figure(figsize=(8, 5))\n",
    "plt.plot(min_counts, bigram_counts, marker='o', linestyle='-')\n",
    "plt.title('Bigram Count vs. min_count')\n",
    "plt.xlabel('min_count')\n",
    "plt.ylabel('Number of Bigrams Found')\n",
    "plt.grid(True)\n",
    "plt.xticks(min_counts)\n",
    "plt.tight_layout()\n",
    "plt.show()"
   ]
  },
  {
   "cell_type": "code",
   "execution_count": 22,
   "metadata": {},
   "outputs": [],
   "source": [
    "# training the phrases to find bigrams\n",
    "bigram_phraser = Phrases(\n",
    "    normalized_corpus,\n",
    "    min_count= 10)\n",
    "\n",
    "# adding bigrams to the original unigram data\n",
    "for idx in range(len(normalized_corpus)):\n",
    "    for phrase in bigram_phraser[normalized_corpus[idx]]:\n",
    "        if '_' in phrase:\n",
    "            # phrase is a bigram, add to document.\n",
    "            normalized_corpus[idx].append(phrase)"
   ]
  },
  {
   "cell_type": "code",
   "execution_count": 23,
   "metadata": {},
   "outputs": [],
   "source": [
    "# a dictiohary is the mapping of an id to a word\n",
    "dictionary = Dictionary(normalized_corpus)\n",
    "\n",
    "# Filter out words that occur less than 20 documents, or more than 50% of the documents.\n",
    "dictionary.filter_extremes(no_below=0.01*len(normalized_corpus), no_above=0.5)"
   ]
  },
  {
   "cell_type": "code",
   "execution_count": 110,
   "metadata": {},
   "outputs": [
    {
     "data": {
      "text/plain": [
       "[('accelerate', 0),\n",
       " ('achieve', 1),\n",
       " ('adapt', 2),\n",
       " ('addition', 3),\n",
       " ('address', 4),\n",
       " ('adopt', 5),\n",
       " ('advantage', 6),\n",
       " ('agreement', 7),\n",
       " ('aim', 8),\n",
       " ('allow', 9)]"
      ]
     },
     "execution_count": 110,
     "metadata": {},
     "output_type": "execute_result"
    }
   ],
   "source": [
    "[(token, idx) for token, idx in dictionary.token2id.items()][:10]"
   ]
  },
  {
   "cell_type": "code",
   "execution_count": 24,
   "metadata": {},
   "outputs": [
    {
     "name": "stdout",
     "output_type": "stream",
     "text": [
      "Number of unique tokens: 3474\n",
      "Number of documents: 4750\n"
     ]
    }
   ],
   "source": [
    "corpus = [dictionary.doc2bow(doc) for doc in normalized_corpus]\n",
    "\n",
    "print('Number of unique tokens: %d' % len(dictionary))\n",
    "print('Number of documents: %d' % len(corpus))"
   ]
  },
  {
   "cell_type": "markdown",
   "metadata": {},
   "source": [
    "# **Topic Modeling**"
   ]
  },
  {
   "cell_type": "markdown",
   "metadata": {},
   "source": [
    "Here is where we will apply two approaches to topic modeling & identification: LDA and BERTopic."
   ]
  },
  {
   "cell_type": "markdown",
   "metadata": {},
   "source": [
    "## LDA Topic Modeling"
   ]
  },
  {
   "cell_type": "markdown",
   "metadata": {},
   "source": [
    "### Inital Model"
   ]
  },
  {
   "cell_type": "code",
   "execution_count": 112,
   "metadata": {},
   "outputs": [],
   "source": [
    "num_topics = 5\n",
    "chunksize = 10 \n",
    "passes = 20 \n",
    "iterations = 400 \n",
    "eval_every = 0 \n",
    "\n",
    "model = LdaModel(\n",
    "    corpus= corpus,\n",
    "    id2word= dictionary,\n",
    "    chunksize= chunksize,\n",
    "    alpha=\"auto\",\n",
    "    eta='auto',\n",
    "    iterations=iterations,\n",
    "    num_topics=num_topics,\n",
    "    passes=passes,\n",
    "    eval_every=eval_every,\n",
    "    random_state= 42\n",
    ")"
   ]
  },
  {
   "cell_type": "code",
   "execution_count": 113,
   "metadata": {},
   "outputs": [
    {
     "data": {
      "text/plain": [
       "[(0,\n",
       "  '0.018*\"market\" + 0.012*\"provide\" + 0.012*\"use\" + 0.011*\"product\" + 0.010*\"datum\" + 0.008*\"business\" + 0.008*\"technology\" + 0.007*\"growth\" + 0.007*\"user\" + 0.007*\"industry\"'),\n",
       " (1,\n",
       "  '0.029*\"buy\" + 0.022*\"rate\" + 0.021*\"analyst\" + 0.020*\"rating\" + 0.014*\"inflation\" + 0.013*\"report\" + 0.013*\"sale\" + 0.011*\"trade\" + 0.010*\"acquire\" + 0.010*\"own\"'),\n",
       " (2,\n",
       "  '0.046*\"open\" + 0.036*\"link\" + 0.031*\"tab\" + 0.018*\"email\" + 0.016*\"link_open\" + 0.012*\"open_tab\" + 0.012*\"podcast\" + 0.011*\"window\" + 0.010*\"account\" + 0.010*\"profile\"'),\n",
       " (3,\n",
       "  '0.026*\"share\" + 0.022*\"stock\" + 0.021*\"price\" + 0.013*\"sell\" + 0.010*\"quarter\" + 0.009*\"deal\" + 0.009*\"want\" + 0.008*\"week\" + 0.007*\"rise\" + 0.007*\"know\"'),\n",
       " (4,\n",
       "  '0.011*\"pm\" + 0.010*\"hour\" + 0.010*\"come\" + 0.009*\"game\" + 0.007*\"tv\" + 0.007*\"need\" + 0.007*\"right\" + 0.006*\"post\" + 0.006*\"go\" + 0.006*\"search\"')]"
      ]
     },
     "execution_count": 113,
     "metadata": {},
     "output_type": "execute_result"
    }
   ],
   "source": [
    "model.show_topics()"
   ]
  },
  {
   "cell_type": "code",
   "execution_count": 114,
   "metadata": {},
   "outputs": [
    {
     "data": {
      "text/html": [
       "\n",
       "<link rel=\"stylesheet\" type=\"text/css\" href=\"https://cdn.jsdelivr.net/gh/bmabey/pyLDAvis@3.4.0/pyLDAvis/js/ldavis.v1.0.0.css\">\n",
       "\n",
       "\n",
       "<div id=\"ldavis_el53169158736109604403272202\" style=\"background-color:white;\"></div>\n",
       "<script type=\"text/javascript\">\n",
       "\n",
       "var ldavis_el53169158736109604403272202_data = {\"mdsDat\": {\"x\": [-0.11091401602787326, 0.038672717830576075, -0.07158012943531318, -0.22237053652948954, 0.36619196416209976], \"y\": [0.13444924963814392, -0.15597713879140684, -0.3109096551027363, 0.2090628342731395, 0.12337470998285982], \"topics\": [1, 2, 3, 4, 5], \"cluster\": [1, 1, 1, 1, 1], \"Freq\": [29.371411779864072, 27.6884718129723, 25.547519949437397, 8.86042964822723, 8.532166809499001]}, \"tinfo\": {\"Term\": [\"open\", \"share\", \"link\", \"stock\", \"buy\", \"price\", \"tab\", \"rate\", \"market\", \"analyst\", \"provide\", \"sell\", \"email\", \"rating\", \"use\", \"report\", \"link_open\", \"hour\", \"product\", \"pm\", \"quarter\", \"game\", \"sale\", \"want\", \"come\", \"increase\", \"technology\", \"inflation\", \"deal\", \"post\", \"game\", \"min\", \"win\", \"menu\", \"child\", \"list\", \"cost\", \"try\", \"gaming\", \"tablet\", \"city\", \"icon\", \"screen\", \"money\", \"season\", \"laptop\", \"police\", \"kill\", \"break\", \"die\", \"tip\", \"quality\", \"age\", \"happen\", \"select\", \"lot\", \"inch\", \"computer\", \"battery\", \"card\", \"food\", \"hour\", \"pm\", \"come\", \"series\", \"right\", \"test\", \"home\", \"search\", \"check\", \"play\", \"tv\", \"remain\", \"app\", \"get\", \"video\", \"post\", \"reserve\", \"go\", \"need\", \"look\", \"update\", \"buy\", \"way\", \"start\", \"case\", \"people\", \"feature\", \"provide\", \"technology\", \"user\", \"industry\", \"option\", \"platform\", \"customer\", \"opinion\", \"solution\", \"transform\", \"press\", \"project\", \"network\", \"model\", \"management\", \"cookie\", \"size\", \"mean\", \"software\", \"cloud\", \"tool\", \"enable\", \"analysis\", \"symbol\", \"organization\", \"application\", \"download\", \"type\", \"strategy\", \"client\", \"use\", \"container\", \"product\", \"watch\", \"review\", \"security\", \"market\", \"datum\", \"growth\", \"support\", \"base\", \"launch\", \"content\", \"website\", \"build\", \"system\", \"business\", \"release\", \"increase\", \"information\", \"help\", \"report\", \"lead\", \"result\", \"stock\", \"price\", \"quarter\", \"want\", \"rise\", \"investor\", \"earning\", \"government\", \"risk\", \"experience\", \"man\", \"woman\", \"raise\", \"charge\", \"consumer\", \"move\", \"law\", \"economy\", \"period\", \"attack\", \"bank\", \"war\", \"develop\", \"worker\", \"staff\", \"reduce\", \"official\", \"travel\", \"advertising\", \"vaccine\", \"version\", \"measure\", \"share\", \"sell\", \"deal\", \"see\", \"design\", \"purchase\", \"firm\", \"pay\", \"investment\", \"state\", \"think\", \"week\", \"policy\", \"thing\", \"know\", \"give\", \"month\", \"find\", \"fall\", \"plan\", \"receive\", \"issue\", \"report\", \"market\", \"follow\", \"tab\", \"link_open\", \"open_tab\", \"podcast\", \"window\", \"text\", \"browser\", \"preference\", \"tab_link\", \"dialog\", \"email_preference\", \"join_profile\", \"newsletter_manage\", \"password\", \"cheat\", \"notification\", \"email_send\", \"dialog_window\", \"go_work\", \"star_open\", \"date_cheat\", \"subscription_account\", \"podcast_mom\", \"datum_provide\", \"open_window\", \"singer\", \"link_site\", \"photo_video\", \"mom_people\", \"news_text\", \"open\", \"link\", \"mom\", \"profile\", \"ditch\", \"email\", \"account\", \"manage\", \"newsletter\", \"subscription\", \"star\", \"join\", \"date\", \"page\", \"send\", \"follow\", \"people\", \"way\", \"view\", \"sign\", \"rating\", \"inflation\", \"acquire\", \"dividend\", \"ratio\", \"oil\", \"stake\", \"holding\", \"yield\", \"hike\", \"recession\", \"share_quarter\", \"debt\", \"stock_value\", \"consensus\", \"target_price\", \"buy_rating\", \"mortgage\", \"post_earning\", \"own_share\", \"interest_rate\", \"wealth\", \"trader\", \"acquire_share\", \"day_move\", \"hold_rating\", \"etfs\", \"purchase_share\", \"hedge\", \"email_newsletter\", \"analyst\", \"insider\", \"own\", \"index\", \"cash\", \"trading\", \"rate\", \"equity\", \"buy\", \"estimate\", \"trade\", \"fund\", \"low\", \"position\", \"sale\", \"portfolio\", \"boost\", \"hold\", \"expect\", \"report\", \"increase\", \"email\", \"post\", \"result\"], \"Freq\": [7199.0, 10523.0, 5586.0, 8684.0, 6377.0, 8141.0, 4137.0, 4049.0, 9770.0, 2964.0, 5234.0, 5319.0, 5363.0, 2549.0, 4917.0, 7056.0, 2197.0, 4712.0, 5140.0, 5250.0, 3790.0, 4215.0, 3332.0, 3539.0, 4589.0, 3497.0, 3516.0, 1798.0, 3719.0, 3753.0, 4214.255447587981, 2090.45407113419, 2046.2976878749105, 2014.4409896055672, 1963.6786671182786, 1975.6138893551756, 1980.23228341061, 1786.021318881003, 1643.8701683858383, 1636.938223652053, 1632.548810888275, 1597.1195276406909, 1554.9199030245056, 1545.8205658836398, 1377.5270908923942, 1333.7666825240728, 1161.0543557980982, 1124.2434104244448, 1075.089658187913, 1062.0893464210167, 1042.8660093651688, 1048.4245846407582, 992.5219483137482, 987.7888044666146, 1011.0916158244696, 973.3149892769502, 933.9289632118864, 903.1808909788782, 894.3410106841036, 886.7863902513689, 906.3243303946668, 4623.487412042284, 5032.35864544409, 4408.560948531345, 1766.967877858213, 2984.6760820343093, 1834.5850477983372, 2266.357312799529, 2834.2039649365524, 1399.4208743201975, 2248.2855163362615, 3113.3938361828855, 1665.0831237812295, 2406.7389116288427, 2146.3159697302717, 2780.5309160256743, 2893.4896987808947, 1674.6868624454994, 2839.033614706064, 3084.646888366095, 2713.8974638120408, 2340.032069304529, 2644.8162233588546, 2172.4484466832528, 1983.9534108021346, 1958.2009453544554, 2145.394032379438, 1980.7613556209376, 5233.620756737698, 3515.90980739481, 2996.953211217525, 2943.7446985406687, 2172.133220021652, 2086.7716802392315, 1955.8455889036786, 1944.450591119911, 1822.1157476632131, 1962.2334716335038, 1578.1709393499377, 1558.013294784024, 1475.5402271694315, 1435.2173159655083, 1370.3524075195348, 1288.3599213224927, 1298.6099470709942, 1331.3273983871663, 1270.6987985246926, 1238.2502695470928, 1239.172637989602, 1193.6138518499781, 1145.7127443238785, 1136.345706312056, 1112.4846141772632, 1084.4348025501354, 1066.4646926758214, 1067.234521957534, 1034.9139069847276, 971.7908374504741, 4847.710556002922, 1061.9680610145756, 4814.701120694143, 2133.4424094350384, 1814.703184830819, 1903.329903036589, 7729.132111703943, 3994.9539116348874, 3017.343426701245, 2618.08072371821, 2860.3711515111254, 2615.833580514063, 2772.616085652763, 2164.3463939055614, 2196.3630054643786, 1755.780854210283, 3543.191353242193, 2652.1525586145467, 2443.155732613175, 2437.8658191406903, 2582.2718381349314, 2932.2357605509505, 2097.018872140415, 1920.2810005029696, 8683.511264489043, 8140.405597375758, 3789.9171404924937, 3538.36966675707, 2641.7221904672233, 2618.8837297973364, 2437.029707439808, 2239.8102920319257, 2215.0771467068957, 2093.2538102141925, 1847.8118121667694, 1855.7618418984991, 1681.0400711332625, 1549.368053082999, 1535.5168569536725, 1451.8548172592896, 1421.5019943295324, 1412.4266405671167, 1393.48087597133, 1300.5420584391725, 1273.3278986639875, 1126.741933555009, 1131.4297768630342, 1096.14350669451, 1074.9786510769104, 1059.8215344876483, 1010.2952854624262, 1011.4956250842934, 940.3975247941265, 933.4346894227832, 954.9436970975199, 943.6477195427983, 10198.308310245873, 5186.810234069891, 3605.9287803051116, 2293.563471261666, 1645.745235482572, 2108.6776288692163, 1594.4300629662162, 2312.223419242015, 1861.1355549206041, 2392.606412037272, 1663.2079995450101, 3135.0573570690985, 1823.3332870694987, 1761.3758185321503, 2631.583544797598, 2008.0366396103252, 2584.9820923617062, 2425.7012712158253, 1841.1300147734446, 2171.592447823825, 1994.0052978666, 1959.769516463521, 2458.0631054469004, 2041.2232846925112, 1898.7059236124337, 4136.581539430031, 2196.5390490112004, 1667.7872469699143, 1574.6581938412874, 1446.484088071894, 1201.9532328412326, 1106.6476307417695, 1027.2591296399676, 985.0806600802432, 948.4684571575616, 865.1128606498037, 865.1128606498037, 865.1128606498037, 874.9402900814833, 701.717149232786, 710.8155392025659, 483.45404173765553, 468.51273538735563, 438.14624361695064, 437.14852837840834, 437.1484345670338, 432.62334910539704, 388.87372664511105, 398.0668661031622, 350.8715831269939, 346.0240367006531, 291.5081831133474, 291.87851914951796, 266.91590652685124, 265.2428744735543, 6239.168872098928, 4791.309134030984, 770.911668592177, 1353.0034299115434, 465.7857950821753, 2450.825911947069, 1382.7836631320772, 1253.3741241010925, 1289.905524159849, 981.9664351505613, 830.3504304100261, 1333.9580948189378, 1034.889496680248, 711.1481317957188, 977.7478001790429, 1204.7593186760548, 1255.0694832615266, 983.6842464999653, 949.5460371462838, 903.1126588835576, 2548.612827107644, 1797.6204507591722, 1354.5946137247827, 1247.4757074675656, 1253.1092909306349, 1101.0457781799935, 941.9874414055225, 834.8467341005244, 813.1424661089277, 708.7427286593417, 698.9086493934186, 625.1779273651105, 632.0047869628036, 490.4702468201341, 479.95304798244166, 466.8931363315892, 448.09093709820655, 444.738002195758, 413.9831677328005, 397.32581219057374, 391.20107280159726, 392.7755360410007, 378.1029189812945, 363.95358729222266, 358.09332111134154, 328.0083870765403, 329.13580838865425, 326.2868571004481, 319.6069739036104, 315.4430340013177, 2695.5514073608483, 509.95722178223076, 1343.6378407220243, 755.152522145764, 1159.6804790976985, 1109.1915409445517, 2793.9114716645263, 931.9448670362348, 3732.26373891228, 1175.0119153900037, 1449.7922011746518, 893.5177500232348, 559.2872114174256, 1021.6110709624944, 1620.595340538111, 799.8925480886021, 873.775636555822, 1226.1687364710288, 1261.149541441844, 1665.46755791708, 1053.9393749706885, 1068.9428319640556, 859.8027909731655, 784.3191924345939], \"Total\": [7199.0, 10523.0, 5586.0, 8684.0, 6377.0, 8141.0, 4137.0, 4049.0, 9770.0, 2964.0, 5234.0, 5319.0, 5363.0, 2549.0, 4917.0, 7056.0, 2197.0, 4712.0, 5140.0, 5250.0, 3790.0, 4215.0, 3332.0, 3539.0, 4589.0, 3497.0, 3516.0, 1798.0, 3719.0, 3753.0, 4215.078768345949, 2091.2808966760495, 2047.1295019844247, 2015.276687873113, 1964.5138091984736, 1976.4650563545702, 1981.121715984269, 1786.8536494559762, 1644.6940633491445, 1637.7664872645125, 1633.381736602424, 1597.9525916262462, 1555.7537595494814, 1546.6856575175125, 1378.3648005028372, 1334.593068918901, 1161.8821915828057, 1125.0662390031994, 1075.9233427499792, 1062.9187607082577, 1043.6937727364561, 1049.2775577705436, 993.3578344854918, 988.6234804870838, 1011.9512374584846, 974.1457238771852, 934.7500124452142, 904.0125589023761, 895.1659922876019, 887.6364358413512, 907.2129275863563, 4712.686558279361, 5250.030725975478, 4589.987184832545, 1797.992806966336, 3097.215536833593, 1889.5995943175838, 2499.964883297104, 3217.383690273669, 1457.5167888251617, 2508.039938057993, 3678.0154824490687, 1787.5862867933959, 2747.755807863067, 2407.871976976412, 3340.6244903699803, 3753.893107538528, 1841.5613401578219, 4150.918489402527, 4779.2788125298675, 4341.703297655732, 3886.572635311238, 6377.677890361852, 3848.0734465597243, 3153.0003693786266, 3117.26253323085, 5002.219143623219, 4069.6407700306386, 5234.452614249634, 3516.737589431046, 2997.77205592131, 2944.568482709618, 2172.9868082680728, 2087.5927565086286, 1956.6734232971146, 1945.2948589433665, 1822.939220451428, 1963.1356405305035, 1578.9989983323744, 1558.8474568381869, 1476.3619175567949, 1436.0705535947686, 1371.1916901376492, 1289.172526990212, 1299.4329964157594, 1332.1900939228892, 1271.5285305349987, 1239.0694700604015, 1239.9971050575232, 1194.4411478253658, 1146.5292128020697, 1137.1624028909096, 1113.304893066524, 1085.2470685993817, 1067.2826568925236, 1068.0559826556969, 1035.7443479528051, 972.6341181315632, 4917.9889105926995, 1062.8970012116201, 5140.429848851719, 2256.722638239088, 1895.04866947647, 1997.806687433277, 9770.971245854049, 4742.241825163334, 3503.935159623579, 3190.7183616708076, 3593.4939437753915, 3242.5540973521, 3501.9342498665287, 2554.9621542472073, 2646.623437541214, 1965.4658750795727, 5331.7796995595045, 3949.211135135037, 3497.6926005890145, 3719.954451759256, 4680.254601633139, 7056.139760327852, 3962.011352408061, 2705.2156829953597, 8684.353582488191, 8141.259433496092, 3790.7733917413657, 3539.224697780541, 2642.5537579522297, 2619.7180796208468, 2437.886125753153, 2240.636187919266, 2215.909570682482, 2094.0998535913773, 1848.643713247356, 1856.6006470483271, 1681.8821152935639, 1550.2050074633341, 1536.356568314, 1452.6977756996841, 1422.3348182558516, 1413.2625268049776, 1394.318122561447, 1301.3705637668756, 1274.1630145428799, 1127.5674363304713, 1132.2682696097434, 1096.9700648059477, 1075.8036505667264, 1060.6588889996508, 1011.1188890885162, 1012.3413863984725, 941.2199468039352, 934.2542669610708, 955.7927792759875, 944.4897643958487, 10523.268076217835, 5319.138441318798, 3719.868030586166, 2378.6282353560787, 1690.5502217202313, 2212.7338899286215, 1660.9574432706793, 2545.294493503768, 2011.2634571099998, 2847.940846363811, 1803.377636527178, 4476.73421409836, 2060.571920283871, 1987.9151990595772, 3854.63554828758, 2556.4593662305583, 4192.394040755762, 3958.8450362788717, 2313.854847771464, 3500.2994254458054, 2893.980447014207, 2943.528700303332, 7056.139760327852, 9770.971245854049, 4458.684690134569, 4137.446672572944, 2197.39905120309, 1668.6487881680603, 1575.5661569941797, 1447.3807848650106, 1202.861776613253, 1107.5482184831424, 1028.1515718581784, 985.9406179287271, 949.3298442146172, 865.9729771415771, 865.9729771415771, 865.9729771415771, 875.8343278698511, 702.5822032718693, 711.7079560413986, 484.3174146563804, 469.3728253445652, 439.00671413491796, 438.00863540617064, 438.0085415947961, 433.4834659374416, 389.7338610952725, 398.9816434263259, 351.7455359880341, 346.9300660197634, 292.37688580559364, 292.7940443303323, 267.77598713393814, 266.1027999658323, 7199.7655819805295, 5586.112752933946, 821.7511954621447, 1674.7321936854617, 522.9956876501442, 5363.317411924462, 2464.8800668019385, 2253.990967429325, 2384.154078027342, 1618.0869389799366, 1310.2378148233938, 2981.601101797784, 1972.5949859810712, 1056.4803105055485, 2011.3995946150596, 4458.684690134569, 5002.219143623219, 3848.0734465597243, 3377.5197588175397, 2650.9994681743324, 2549.416251576099, 1798.41802526819, 1355.412530999222, 1248.267122286318, 1253.9067386686781, 1101.8452516252942, 942.7939998817367, 835.644084799872, 813.9492209630783, 709.5381905939857, 699.701599450203, 625.9670605983928, 632.8145769033022, 491.258444286817, 480.7595474266259, 467.6831799233476, 448.87933137211286, 445.5426754006871, 414.7725162774696, 398.1148489276684, 391.9946376784893, 393.57542559902424, 378.90066848460435, 364.74137650891015, 358.8907731500885, 328.7966059966166, 329.927619969017, 327.0749698747338, 320.3983045341193, 316.2382469411011, 2964.621522873793, 534.0302502491014, 1552.4116646812715, 824.1406021803524, 1389.674409679568, 1330.0379062857876, 4049.158752424206, 1127.748316111247, 6377.677890361852, 1599.8896979079361, 2116.200642697445, 1138.6942846411532, 629.0867713739777, 1607.1128518987966, 3332.0199872945864, 1103.6923670115602, 1416.796934230791, 2979.620643187418, 3517.0400868034803, 7056.139760327852, 3497.6926005890145, 5363.317411924462, 3753.893107538528, 2705.2156829953597], \"Category\": [\"Default\", \"Default\", \"Default\", \"Default\", \"Default\", \"Default\", \"Default\", \"Default\", \"Default\", \"Default\", \"Default\", \"Default\", \"Default\", \"Default\", \"Default\", \"Default\", \"Default\", \"Default\", \"Default\", \"Default\", \"Default\", \"Default\", \"Default\", \"Default\", \"Default\", \"Default\", \"Default\", \"Default\", \"Default\", \"Default\", \"Topic1\", \"Topic1\", \"Topic1\", \"Topic1\", \"Topic1\", \"Topic1\", \"Topic1\", \"Topic1\", \"Topic1\", \"Topic1\", \"Topic1\", \"Topic1\", \"Topic1\", \"Topic1\", \"Topic1\", \"Topic1\", \"Topic1\", \"Topic1\", \"Topic1\", \"Topic1\", \"Topic1\", \"Topic1\", \"Topic1\", \"Topic1\", \"Topic1\", \"Topic1\", \"Topic1\", \"Topic1\", \"Topic1\", \"Topic1\", \"Topic1\", \"Topic1\", \"Topic1\", \"Topic1\", \"Topic1\", \"Topic1\", \"Topic1\", \"Topic1\", \"Topic1\", \"Topic1\", \"Topic1\", \"Topic1\", \"Topic1\", \"Topic1\", \"Topic1\", \"Topic1\", \"Topic1\", \"Topic1\", \"Topic1\", \"Topic1\", \"Topic1\", \"Topic1\", \"Topic1\", \"Topic1\", \"Topic1\", \"Topic1\", \"Topic1\", \"Topic1\", \"Topic2\", \"Topic2\", \"Topic2\", \"Topic2\", \"Topic2\", \"Topic2\", \"Topic2\", \"Topic2\", \"Topic2\", \"Topic2\", \"Topic2\", \"Topic2\", \"Topic2\", \"Topic2\", \"Topic2\", \"Topic2\", \"Topic2\", \"Topic2\", \"Topic2\", \"Topic2\", \"Topic2\", \"Topic2\", \"Topic2\", \"Topic2\", \"Topic2\", \"Topic2\", \"Topic2\", \"Topic2\", \"Topic2\", \"Topic2\", \"Topic2\", \"Topic2\", \"Topic2\", \"Topic2\", \"Topic2\", \"Topic2\", \"Topic2\", \"Topic2\", \"Topic2\", \"Topic2\", \"Topic2\", \"Topic2\", \"Topic2\", \"Topic2\", \"Topic2\", \"Topic2\", \"Topic2\", \"Topic2\", \"Topic2\", \"Topic2\", \"Topic2\", \"Topic2\", \"Topic2\", \"Topic2\", \"Topic3\", \"Topic3\", \"Topic3\", \"Topic3\", \"Topic3\", \"Topic3\", \"Topic3\", \"Topic3\", \"Topic3\", \"Topic3\", \"Topic3\", \"Topic3\", \"Topic3\", \"Topic3\", \"Topic3\", \"Topic3\", \"Topic3\", \"Topic3\", \"Topic3\", \"Topic3\", \"Topic3\", \"Topic3\", \"Topic3\", \"Topic3\", \"Topic3\", \"Topic3\", \"Topic3\", \"Topic3\", \"Topic3\", \"Topic3\", \"Topic3\", \"Topic3\", \"Topic3\", \"Topic3\", \"Topic3\", \"Topic3\", \"Topic3\", \"Topic3\", \"Topic3\", \"Topic3\", \"Topic3\", \"Topic3\", \"Topic3\", \"Topic3\", \"Topic3\", \"Topic3\", \"Topic3\", \"Topic3\", \"Topic3\", \"Topic3\", \"Topic3\", \"Topic3\", \"Topic3\", \"Topic3\", \"Topic3\", \"Topic3\", \"Topic3\", \"Topic4\", \"Topic4\", \"Topic4\", \"Topic4\", \"Topic4\", \"Topic4\", \"Topic4\", \"Topic4\", \"Topic4\", \"Topic4\", \"Topic4\", \"Topic4\", \"Topic4\", \"Topic4\", \"Topic4\", \"Topic4\", \"Topic4\", \"Topic4\", \"Topic4\", \"Topic4\", \"Topic4\", \"Topic4\", \"Topic4\", \"Topic4\", \"Topic4\", \"Topic4\", \"Topic4\", \"Topic4\", \"Topic4\", \"Topic4\", \"Topic4\", \"Topic4\", \"Topic4\", \"Topic4\", \"Topic4\", \"Topic4\", \"Topic4\", \"Topic4\", \"Topic4\", \"Topic4\", \"Topic4\", \"Topic4\", \"Topic4\", \"Topic4\", \"Topic4\", \"Topic4\", \"Topic4\", \"Topic4\", \"Topic4\", \"Topic4\", \"Topic5\", \"Topic5\", \"Topic5\", \"Topic5\", \"Topic5\", \"Topic5\", \"Topic5\", \"Topic5\", \"Topic5\", \"Topic5\", \"Topic5\", \"Topic5\", \"Topic5\", \"Topic5\", \"Topic5\", \"Topic5\", \"Topic5\", \"Topic5\", \"Topic5\", \"Topic5\", \"Topic5\", \"Topic5\", \"Topic5\", \"Topic5\", \"Topic5\", \"Topic5\", \"Topic5\", \"Topic5\", \"Topic5\", \"Topic5\", \"Topic5\", \"Topic5\", \"Topic5\", \"Topic5\", \"Topic5\", \"Topic5\", \"Topic5\", \"Topic5\", \"Topic5\", \"Topic5\", \"Topic5\", \"Topic5\", \"Topic5\", \"Topic5\", \"Topic5\", \"Topic5\", \"Topic5\", \"Topic5\", \"Topic5\", \"Topic5\", \"Topic5\", \"Topic5\", \"Topic5\", \"Topic5\"], \"logprob\": [30.0, 29.0, 28.0, 27.0, 26.0, 25.0, 24.0, 23.0, 22.0, 21.0, 20.0, 19.0, 18.0, 17.0, 16.0, 15.0, 14.0, 13.0, 12.0, 11.0, 10.0, 9.0, 8.0, 7.0, 6.0, 5.0, 4.0, 3.0, 2.0, 1.0, -4.6601, -5.3612, -5.3825, -5.3982, -5.4237, -5.4177, -5.4153, -5.5186, -5.6015, -5.6057, -5.6084, -5.6303, -5.6571, -5.663, -5.7783, -5.8105, -5.9492, -5.9814, -6.0261, -6.0383, -6.0566, -6.0513, -6.1061, -6.1108, -6.0875, -6.1256, -6.1669, -6.2004, -6.2102, -6.2187, -6.1969, -4.5674, -4.4827, -4.615, -5.5293, -5.0051, -5.4917, -5.2804, -5.0568, -5.7625, -5.2884, -4.9628, -5.5887, -5.2203, -5.3348, -5.0759, -5.0361, -5.5829, -5.0551, -4.9721, -5.1002, -5.2484, -5.1259, -5.3227, -5.4135, -5.4265, -5.3352, -5.4151, -4.3844, -4.7822, -4.9419, -4.9599, -5.2638, -5.3039, -5.3687, -5.3746, -5.4395, -5.3655, -5.5833, -5.5961, -5.6505, -5.6782, -5.7245, -5.7862, -5.7782, -5.7534, -5.8, -5.8258, -5.8251, -5.8626, -5.9035, -5.9117, -5.9329, -5.9585, -5.9752, -5.9745, -6.0052, -6.0682, -4.461, -5.9794, -4.4679, -5.2818, -5.4436, -5.3959, -3.9945, -4.6545, -4.9352, -5.0771, -4.9886, -5.078, -5.0197, -5.2674, -5.2527, -5.4766, -4.7745, -5.0642, -5.1462, -5.1484, -5.0909, -4.9638, -5.299, -5.3871, -3.7976, -3.8622, -4.6267, -4.6954, -4.9876, -4.9963, -5.0683, -5.1527, -5.1638, -5.2203, -5.3451, -5.3408, -5.4397, -5.5212, -5.5302, -5.5862, -5.6073, -5.6138, -5.6273, -5.6963, -5.7174, -5.8397, -5.8356, -5.8673, -5.8868, -5.901, -5.9488, -5.9476, -6.0205, -6.0279, -6.0052, -6.0171, -3.6368, -4.3129, -4.6765, -5.129, -5.4609, -5.213, -5.4925, -5.1209, -5.3379, -5.0867, -5.4503, -4.8164, -5.3584, -5.393, -4.9915, -5.2619, -5.0093, -5.0729, -5.3487, -5.1836, -5.2689, -5.2862, -5.0597, -5.2455, -5.3179, -3.4802, -4.1132, -4.3886, -4.4461, -4.531, -4.7162, -4.7988, -4.8732, -4.9151, -4.953, -5.045, -5.045, -5.045, -5.0337, -5.2543, -5.2415, -5.6269, -5.6583, -5.7253, -5.7276, -5.7276, -5.738, -5.8446, -5.8213, -5.9475, -5.9614, -6.1328, -6.1315, -6.2209, -6.2272, -3.0693, -3.3333, -5.1603, -4.5978, -5.6641, -4.0037, -4.576, -4.6743, -4.6455, -4.9183, -5.086, -4.612, -4.8658, -5.241, -4.9226, -4.7138, -4.6729, -4.9166, -4.9519, -5.002, -3.9268, -4.2759, -4.5589, -4.6412, -4.6367, -4.7661, -4.9221, -5.0429, -5.0692, -5.2066, -5.2206, -5.3321, -5.3212, -5.5748, -5.5964, -5.624, -5.6651, -5.6726, -5.7443, -5.7854, -5.8009, -5.7969, -5.835, -5.8731, -5.8893, -5.9771, -5.9737, -5.9823, -6.003, -6.0161, -3.8708, -5.5358, -4.567, -5.1432, -4.7142, -4.7587, -3.8349, -4.9328, -3.5454, -4.7011, -4.4909, -4.975, -5.4435, -4.841, -4.3796, -5.0856, -4.9973, -4.6585, -4.6303, -4.3523, -4.8098, -4.7957, -5.0134, -5.1053], \"loglift\": [30.0, 29.0, 28.0, 27.0, 26.0, 25.0, 24.0, 23.0, 22.0, 21.0, 20.0, 19.0, 18.0, 17.0, 16.0, 15.0, 14.0, 13.0, 12.0, 11.0, 10.0, 9.0, 8.0, 7.0, 6.0, 5.0, 4.0, 3.0, 2.0, 1.0, 1.225, 1.2248, 1.2247, 1.2247, 1.2247, 1.2247, 1.2247, 1.2247, 1.2246, 1.2246, 1.2246, 1.2246, 1.2246, 1.2246, 1.2245, 1.2245, 1.2244, 1.2244, 1.2244, 1.2244, 1.2244, 1.2243, 1.2243, 1.2243, 1.2243, 1.2243, 1.2243, 1.2242, 1.2242, 1.2242, 1.2242, 1.206, 1.1828, 1.1848, 1.2077, 1.1881, 1.1956, 1.127, 1.0983, 1.1845, 1.1158, 1.0585, 1.1542, 1.0926, 1.1102, 1.0416, 0.9648, 1.1302, 0.8453, 0.7873, 0.7553, 0.7178, 0.3449, 0.6534, 0.7619, 0.7602, 0.3786, 0.5051, 1.284, 1.2839, 1.2839, 1.2839, 1.2838, 1.2838, 1.2837, 1.2837, 1.2837, 1.2837, 1.2836, 1.2836, 1.2836, 1.2836, 1.2835, 1.2835, 1.2835, 1.2835, 1.2835, 1.2835, 1.2835, 1.2835, 1.2834, 1.2834, 1.2834, 1.2834, 1.2834, 1.2834, 1.2834, 1.2833, 1.2698, 1.2833, 1.2187, 1.228, 1.2408, 1.2357, 1.0497, 1.1127, 1.1346, 1.0863, 1.056, 1.0694, 1.0506, 1.1182, 1.0977, 1.1713, 0.8755, 0.886, 0.9253, 0.8616, 0.6895, 0.406, 0.6479, 0.9414, 1.3645, 1.3645, 1.3644, 1.3644, 1.3643, 1.3643, 1.3643, 1.3643, 1.3643, 1.3642, 1.3642, 1.3642, 1.3641, 1.3641, 1.3641, 1.364, 1.364, 1.364, 1.364, 1.364, 1.364, 1.3639, 1.3639, 1.3639, 1.3639, 1.3638, 1.3638, 1.3638, 1.3638, 1.3638, 1.3637, 1.3637, 1.3333, 1.3394, 1.3335, 1.3282, 1.3378, 1.3165, 1.3238, 1.2686, 1.2871, 1.1904, 1.2837, 1.0084, 1.2423, 1.2436, 0.9829, 1.1232, 0.8811, 0.8748, 1.1361, 0.8872, 0.9921, 0.9578, 0.3101, -0.2012, 0.5109, 2.4234, 2.4232, 2.4231, 2.423, 2.423, 2.4228, 2.4228, 2.4227, 2.4227, 2.4227, 2.4226, 2.4226, 2.4226, 2.4226, 2.4223, 2.4223, 2.4218, 2.4217, 2.4216, 2.4216, 2.4216, 2.4216, 2.4214, 2.4213, 2.4211, 2.421, 2.4206, 2.4204, 2.4204, 2.4203, 2.2804, 2.2701, 2.3597, 2.2102, 2.3077, 1.6404, 1.8455, 1.8367, 1.8093, 1.9241, 1.9675, 1.6193, 1.7785, 2.0278, 1.7022, 1.115, 1.0409, 1.0596, 1.1547, 1.3467, 2.461, 2.4609, 2.4607, 2.4607, 2.4607, 2.4606, 2.4605, 2.4604, 2.4603, 2.4602, 2.4602, 2.4601, 2.46, 2.4597, 2.4596, 2.4596, 2.4596, 2.4595, 2.4594, 2.4593, 2.4593, 2.4593, 2.4592, 2.4592, 2.4591, 2.4589, 2.4589, 2.4589, 2.4589, 2.4588, 2.3662, 2.4152, 2.3169, 2.3739, 2.2804, 2.2798, 2.0903, 2.2706, 1.9255, 2.1527, 2.0831, 2.2189, 2.3437, 2.0083, 1.7405, 2.1394, 1.978, 1.5734, 1.4357, 1.0175, 1.2618, 0.8484, 0.9875, 1.2232]}, \"token.table\": {\"Topic\": [1, 4, 5, 5, 5, 3, 1, 2, 2, 5, 1, 2, 2, 3, 3, 2, 3, 4, 1, 2, 3, 5, 1, 4, 1, 2, 2, 3, 1, 5, 5, 1, 1, 3, 1, 2, 5, 3, 4, 1, 2, 1, 1, 2, 2, 1, 2, 3, 1, 5, 3, 2, 1, 2, 3, 4, 2, 1, 2, 1, 2, 4, 5, 4, 2, 3, 4, 4, 5, 2, 3, 4, 5, 3, 4, 3, 4, 4, 1, 4, 5, 5, 2, 3, 3, 1, 2, 4, 5, 5, 4, 4, 2, 4, 5, 2, 3, 5, 5, 1, 2, 5, 3, 3, 4, 1, 2, 4, 2, 3, 4, 2, 3, 1, 2, 3, 4, 1, 1, 5, 1, 1, 1, 3, 4, 1, 3, 1, 3, 4, 4, 3, 2, 3, 1, 5, 1, 2, 3, 5, 1, 2, 5, 5, 5, 1, 4, 1, 2, 1, 1, 2, 5, 2, 3, 5, 2, 5, 2, 3, 4, 4, 5, 5, 3, 4, 3, 1, 2, 3, 1, 2, 4, 4, 1, 2, 3, 4, 1, 2, 3, 3, 1, 2, 3, 4, 5, 1, 4, 5, 4, 4, 1, 1, 2, 4, 5, 1, 4, 5, 3, 1, 4, 5, 2, 2, 3, 2, 3, 1, 1, 2, 1, 4, 4, 1, 1, 3, 4, 5, 3, 1, 2, 3, 2, 4, 1, 4, 5, 4, 4, 3, 5, 1, 4, 5, 4, 4, 2, 2, 2, 2, 3, 5, 5, 3, 4, 4, 3, 5, 1, 3, 4, 3, 4, 1, 2, 3, 2, 1, 2, 1, 4, 4, 4, 1, 1, 2, 3, 2, 5, 1, 2, 5, 1, 5, 5, 4, 2, 3, 2, 4, 2, 4, 2, 2, 2, 3, 4, 5, 1, 3, 3, 1, 2, 5, 5, 5, 1, 3, 4, 5, 3, 1, 2, 4, 1, 2, 2, 3, 5, 1, 4, 2, 5, 2, 3, 1, 4, 3, 3, 1, 2, 5, 1, 1, 4, 1, 2, 3, 2, 3, 1, 1, 3, 1, 4, 1, 4, 3, 4, 5, 1, 2, 3, 4, 4, 2, 2, 2, 3, 5, 1, 4, 4, 1, 2, 3, 2, 3, 3, 5, 2, 1, 4, 4, 2, 3, 4, 2, 2, 3, 4, 4, 1, 5, 2, 1, 4, 4, 3, 4, 3, 4, 1, 2, 2, 5, 5, 4, 5, 2, 3, 1, 1, 4, 2, 1, 2, 3, 4, 2, 3, 2, 3, 3, 1, 4, 1, 2, 4, 3, 3, 2, 4, 1, 2, 4, 5, 1, 2, 3, 4, 1, 3, 4, 1, 4, 3, 3, 5], \"Freq\": [0.3083314317138614, 0.5610820658687767, 0.13022945997388094, 0.9996956417402176, 0.9979673912622522, 0.9987038663937396, 0.9996397728259956, 0.9995384218769479, 0.09039939767428082, 0.9093909557084369, 0.8759875943531994, 0.12373734195267462, 0.9988508896863539, 0.99971525115352, 0.9990872325364921, 0.7958827939460031, 0.18116073386673007, 0.022819017169081208, 0.9986974568988908, 0.15175075185825979, 0.2308023063146556, 0.6168844517400887, 0.9991418136280795, 0.9995050161482872, 0.17002796605551954, 0.8297364743509353, 0.6645060748276438, 0.33534768890539857, 0.41472774973430493, 0.5851659591714276, 0.9980410517690245, 0.99928299941772, 0.628115206572176, 0.3714797799849744, 0.12592877783534318, 0.0388580228749059, 0.8347278987942748, 0.9992226786408683, 0.999171337860313, 0.9598517222759887, 0.039107611272145355, 0.9997384547789546, 0.9997662906386977, 0.9993480404195759, 0.9991368764332887, 0.9605691306872031, 0.01699351149775501, 0.022440149798317512, 0.9988799282793089, 0.9984201095314872, 0.9997679130474306, 0.999156078895135, 0.10251477451744925, 0.7918481051166762, 0.03369566404751814, 0.07196023169469976, 0.9990904809358997, 0.9994337975424636, 0.9996558325527927, 0.24637596843443643, 0.08212532281147882, 0.5246895624066702, 0.14701446676128924, 0.9976974385222627, 0.8424285701335786, 0.09784401915944442, 0.05967641685802322, 0.9975396275931497, 0.9975179825820822, 0.022581446252748792, 0.9693892284215732, 0.007795975492020416, 0.9987127715873925, 0.9736475017731807, 0.026027029209003617, 0.9988798859388858, 0.9985991758052046, 0.9992056946537298, 0.9991356247135524, 0.891020731153196, 0.10898751432560552, 0.9989848949285813, 0.9987982031899045, 0.9996365188087367, 0.999106657976822, 0.1355504334656073, 0.20808017021680572, 0.4569932770621781, 0.1993169372417252, 0.996084449135807, 0.9988764347534392, 0.9972798528062117, 0.9996306659175558, 0.17291092100443817, 0.8264255301340326, 0.22439046921137076, 0.04062780083214234, 0.7344256304271884, 0.997188413722064, 0.3272638274208882, 0.3141846475239631, 0.3585401271744049, 0.9994747845526607, 0.7956419573047622, 0.2039885952459792, 0.4867751509146312, 0.3629312962649724, 0.15013610156932844, 0.3597008690540949, 0.6128049918014286, 0.027533282813831703, 0.03973611742275341, 0.9596874419980143, 0.18032223758252217, 0.12357904590543498, 0.425910359663196, 0.27025907498375523, 0.9986630177442651, 0.21515871582442253, 0.7851097630491174, 0.9997440692320982, 0.9995779985076793, 0.8912433968747594, 0.05066714558188287, 0.05772732160558787, 0.21435897133307996, 0.7854613402131835, 0.6839450129526968, 0.11467341534536235, 0.20116029792726378, 0.9977068365869945, 0.9997160681762188, 0.8610319148497344, 0.13870119675736525, 0.9993693448523226, 0.9987568456871254, 0.23716658482909755, 0.551679389215072, 0.21109962685689043, 0.9992414917179648, 0.5067759224492059, 0.08155400606301791, 0.4114617754455142, 0.9975772073613655, 0.9992292354944077, 0.9064127320906457, 0.09320130916907345, 0.9809691229895616, 0.018885194018185374, 0.9994038674043034, 0.9991976331262599, 0.6984604649329665, 0.30134151864074776, 0.047322022354949284, 0.036401555657653295, 0.9161058173842745, 0.9998069385334537, 0.9997675594537441, 0.6553843687110231, 0.2591429579316761, 0.08548491765795954, 0.043068721274256504, 0.955002080429166, 0.9974626242736894, 0.9252890233853727, 0.07408278585944145, 0.9997258943141887, 0.2225220361984247, 0.11143088224898214, 0.6658674670975762, 0.45680154839584997, 0.09558622708723732, 0.447410620822367, 0.9988764347534392, 0.9990522877976109, 0.2285559786297783, 0.6828142290051947, 0.088724341306906, 0.9995556181635339, 0.8067714281578987, 0.1930576888481822, 0.9997645995502928, 0.1577481598128518, 0.5292766258040804, 0.24331076169534266, 0.046693455304604135, 0.022968132068751226, 0.1328293990504015, 0.857662602224358, 0.009487814217885823, 0.9998183983911018, 0.9987109589578014, 0.9997647029715628, 0.6251002921976273, 0.21074678237318678, 0.0780799554366233, 0.0861413077678381, 0.9988238680834884, 0.1096828023410797, 0.8885896595458487, 0.999651791612011, 0.37799619089499076, 0.5559028488162246, 0.06566131015546788, 0.9991309091600974, 0.7910165535774671, 0.2088840452647963, 0.9991066635847856, 0.9994814508168206, 0.9993664949925758, 0.9993875061556363, 0.9992545257667955, 0.0608456674917041, 0.9382401927220773, 0.9971021033579459, 0.9995566923930664, 0.37305653638369785, 0.6165928047006771, 0.010256669478579929, 0.9987819900749147, 0.9995196690520517, 0.6454948792508264, 0.3517267073000451, 0.002720075666210938, 0.9997548585123397, 0.9958557370836614, 0.15938567205120124, 0.54107241301592, 0.2994772890646255, 0.9988764347534392, 0.9990052717053547, 0.9988934149083845, 0.99923287628272, 0.08250268612726153, 0.8665559911582232, 0.050834988421848006, 0.999611189500954, 0.9978804678048296, 0.9993343636634757, 0.9995458747083424, 0.9988279104182055, 0.10177712754589438, 0.032852110790130465, 0.8657497431752029, 0.9971996801157473, 0.3265560148820096, 0.672989352409011, 0.9990473907640954, 0.9083428286592399, 0.09114858834296871, 0.42880968194574715, 0.3200579490886439, 0.2508886484111481, 0.9990546471855178, 0.9972880448024535, 0.3565409264497571, 0.02285518759293315, 0.620518343148135, 0.9997160574030637, 0.8963174652396704, 0.10326789301471291, 0.9584705809631301, 0.041333091428656446, 0.9996406644102716, 0.9981170199242885, 0.9992407220033178, 0.0689129064616379, 0.04610370502715212, 0.8847058343631402, 0.2745330212080975, 0.7248396599553729, 0.07404582687482215, 0.2899609691064464, 0.6359229837484727, 0.7706665898904549, 0.22909549509360222, 0.9981374940548067, 0.9988799590549697, 0.9993673217440736, 0.9998453023753413, 0.9366920941593213, 0.06322428465249832, 0.19167243647093127, 0.8078903630690654, 0.999456356788171, 0.9999135316941447, 0.03660629973114973, 0.9531195818888245, 0.009942451778830791, 0.9967133838607536, 0.9987824405839213, 0.9997959804869765, 0.9994755189525218, 0.10249042464722878, 0.20745049808113777, 0.6900198709984512, 0.9998367267111278, 0.999276869131718, 0.09813473352696975, 0.6890164037069636, 0.21251007436298025, 0.9989972876283914, 0.9993787927424318, 0.26005193565445656, 0.6715265173861916, 0.06836808434927291, 0.9314235694807811, 0.06824845373973291, 0.41552464939608413, 0.3483491092140433, 0.23596471393058668, 0.9095542806390866, 0.09014090184244082, 0.709740081749812, 0.28981053338117324, 0.9577590429386785, 0.04221527461988666, 0.9637688964493846, 0.03616151303260672, 0.9997904459084084, 0.9995895271654963, 0.3103222681564855, 0.20318005371560993, 0.48649167957607636, 0.9995155020228268, 0.8808399223777197, 0.11904082225499882, 0.9997353382045855, 0.952544614036165, 0.04705159943215949, 0.03531447190923691, 0.9644214114260651, 0.9990599967436439, 0.024816048962860354, 0.9751579240178535, 0.5135727394822782, 0.48622859556018205, 0.9827625523048512, 0.016685272534887118, 0.9690905834706494, 0.030788914399342067, 0.9984550934717422, 0.35307438241192723, 0.09128632536718632, 0.21463602947904553, 0.34062624713458367, 0.9973191541729611, 0.9996667804981452, 0.999584334505828, 0.9994847768697437, 0.9992529765386992, 0.9991578225128328, 0.36558248783604536, 0.6334727868557779, 0.9976972248384205, 0.6292419180372611, 0.13796382779546806, 0.23279413701580126, 0.1597645543027813, 0.8402562163660563, 0.9999592851114556, 0.9974383253836095, 0.9992813400775236, 0.392438740281973, 0.6068895164675551, 0.9988846957832727, 0.8205048842446546, 0.15701793239364858, 0.02225204231526756, 0.9989778039724542, 0.893426857349486, 0.10633611229273494, 0.999892041491216, 0.9990459689847213, 0.9995319923380575, 0.9985392249439897, 0.9997902631594513, 0.9711052042550306, 0.0285774828500118, 0.9992835613949931, 0.8858526766298059, 0.113686942031991, 0.9221584909983093, 0.07707758884471737, 0.9993352717486882, 0.9991958811408056, 0.3147149597077306, 0.685190227591906, 0.9976229430045438, 0.16540881952331982, 0.833810822051644, 0.9994215170327219, 0.9986749663537469, 0.9995222611229319, 0.8463803414789207, 0.15334356331323845, 0.9990113040207207, 0.6020728851791064, 0.15849440054287586, 0.11475406273071857, 0.12453131471225962, 0.985768794548936, 0.014233460317331996, 0.9997424567622528, 0.9986574672383882, 0.9991705531856099, 0.8324790792909499, 0.16733398249681444, 0.16639428933992517, 0.5524764126482213, 0.28127148553901943, 0.9996539643890626, 0.999496760626293, 0.9451759661809267, 0.05450381802168494, 0.5644382910471273, 0.17957037712410912, 0.2557123749495273, 0.9985379534351048, 0.02348371379993234, 0.8469792777175597, 0.018786971039945873, 0.11076485008968087, 0.2175693158045053, 0.7002872741756921, 0.08197940338835057, 0.9994482508393682, 0.9990460113334036, 0.9996764802116804, 0.9991156870756366, 0.9988338081312306], \"Term\": [\"account\", \"account\", \"account\", \"acquire\", \"acquire_share\", \"advertising\", \"age\", \"analysis\", \"analyst\", \"analyst\", \"app\", \"app\", \"application\", \"attack\", \"bank\", \"base\", \"base\", \"base\", \"battery\", \"boost\", \"boost\", \"boost\", \"break\", \"browser\", \"build\", \"build\", \"business\", \"business\", \"buy\", \"buy\", \"buy_rating\", \"card\", \"case\", \"case\", \"cash\", \"cash\", \"cash\", \"charge\", \"cheat\", \"check\", \"check\", \"child\", \"city\", \"client\", \"cloud\", \"come\", \"come\", \"come\", \"computer\", \"consensus\", \"consumer\", \"container\", \"content\", \"content\", \"content\", \"content\", \"cookie\", \"cost\", \"customer\", \"date\", \"date\", \"date\", \"date\", \"date_cheat\", \"datum\", \"datum\", \"datum\", \"datum_provide\", \"day_move\", \"deal\", \"deal\", \"deal\", \"debt\", \"design\", \"design\", \"develop\", \"dialog\", \"dialog_window\", \"die\", \"ditch\", \"ditch\", \"dividend\", \"download\", \"earning\", \"economy\", \"email\", \"email\", \"email\", \"email\", \"email_newsletter\", \"email_preference\", \"email_send\", \"enable\", \"equity\", \"equity\", \"estimate\", \"estimate\", \"estimate\", \"etfs\", \"expect\", \"expect\", \"expect\", \"experience\", \"fall\", \"fall\", \"feature\", \"feature\", \"feature\", \"find\", \"find\", \"find\", \"firm\", \"firm\", \"follow\", \"follow\", \"follow\", \"follow\", \"food\", \"fund\", \"fund\", \"game\", \"gaming\", \"get\", \"get\", \"get\", \"give\", \"give\", \"go\", \"go\", \"go\", \"go_work\", \"government\", \"growth\", \"growth\", \"happen\", \"hedge\", \"help\", \"help\", \"help\", \"hike\", \"hold\", \"hold\", \"hold\", \"hold_rating\", \"holding\", \"home\", \"home\", \"hour\", \"hour\", \"icon\", \"inch\", \"increase\", \"increase\", \"index\", \"index\", \"index\", \"industry\", \"inflation\", \"information\", \"information\", \"information\", \"insider\", \"insider\", \"interest_rate\", \"investment\", \"investment\", \"investor\", \"issue\", \"issue\", \"issue\", \"join\", \"join\", \"join\", \"join_profile\", \"kill\", \"know\", \"know\", \"know\", \"laptop\", \"launch\", \"launch\", \"law\", \"lead\", \"lead\", \"lead\", \"lead\", \"lead\", \"link\", \"link\", \"link\", \"link_open\", \"link_site\", \"list\", \"look\", \"look\", \"look\", \"look\", \"lot\", \"low\", \"low\", \"man\", \"manage\", \"manage\", \"manage\", \"management\", \"market\", \"market\", \"mean\", \"measure\", \"menu\", \"min\", \"model\", \"mom\", \"mom\", \"mom_people\", \"money\", \"month\", \"month\", \"month\", \"mortgage\", \"move\", \"need\", \"need\", \"need\", \"network\", \"news_text\", \"newsletter\", \"newsletter\", \"newsletter\", \"newsletter_manage\", \"notification\", \"official\", \"oil\", \"open\", \"open\", \"open\", \"open_tab\", \"open_window\", \"opinion\", \"option\", \"organization\", \"own\", \"own\", \"own\", \"own_share\", \"page\", \"page\", \"password\", \"pay\", \"pay\", \"people\", \"people\", \"people\", \"period\", \"photo_video\", \"plan\", \"plan\", \"plan\", \"platform\", \"play\", \"play\", \"pm\", \"pm\", \"podcast\", \"podcast_mom\", \"police\", \"policy\", \"policy\", \"policy\", \"portfolio\", \"portfolio\", \"position\", \"position\", \"position\", \"post\", \"post\", \"post_earning\", \"preference\", \"press\", \"price\", \"product\", \"product\", \"profile\", \"profile\", \"project\", \"provide\", \"purchase\", \"purchase\", \"purchase\", \"purchase_share\", \"quality\", \"quarter\", \"raise\", \"rate\", \"rate\", \"rate\", \"rating\", \"ratio\", \"receive\", \"receive\", \"receive\", \"recession\", \"reduce\", \"release\", \"release\", \"release\", \"remain\", \"remain\", \"report\", \"report\", \"report\", \"reserve\", \"reserve\", \"result\", \"result\", \"review\", \"review\", \"right\", \"right\", \"rise\", \"risk\", \"sale\", \"sale\", \"sale\", \"screen\", \"search\", \"search\", \"season\", \"security\", \"security\", \"see\", \"see\", \"select\", \"sell\", \"sell\", \"send\", \"send\", \"series\", \"series\", \"share\", \"share\", \"share_quarter\", \"sign\", \"sign\", \"sign\", \"sign\", \"singer\", \"size\", \"software\", \"solution\", \"staff\", \"stake\", \"star\", \"star\", \"star_open\", \"start\", \"start\", \"start\", \"state\", \"state\", \"stock\", \"stock_value\", \"strategy\", \"subscription\", \"subscription\", \"subscription_account\", \"support\", \"support\", \"support\", \"symbol\", \"system\", \"system\", \"tab\", \"tab_link\", \"tablet\", \"target_price\", \"technology\", \"test\", \"test\", \"text\", \"thing\", \"thing\", \"think\", \"think\", \"tip\", \"tool\", \"trade\", \"trade\", \"trader\", \"trading\", \"trading\", \"transform\", \"travel\", \"try\", \"tv\", \"tv\", \"type\", \"update\", \"update\", \"update\", \"update\", \"use\", \"use\", \"user\", \"vaccine\", \"version\", \"video\", \"video\", \"view\", \"view\", \"view\", \"want\", \"war\", \"watch\", \"watch\", \"way\", \"way\", \"way\", \"wealth\", \"website\", \"website\", \"website\", \"website\", \"week\", \"week\", \"week\", \"win\", \"window\", \"woman\", \"worker\", \"yield\"]}, \"R\": 30, \"lambda.step\": 0.01, \"plot.opts\": {\"xlab\": \"PC1\", \"ylab\": \"PC2\"}, \"topic.order\": [5, 1, 4, 3, 2]};\n",
       "\n",
       "function LDAvis_load_lib(url, callback){\n",
       "  var s = document.createElement('script');\n",
       "  s.src = url;\n",
       "  s.async = true;\n",
       "  s.onreadystatechange = s.onload = callback;\n",
       "  s.onerror = function(){console.warn(\"failed to load library \" + url);};\n",
       "  document.getElementsByTagName(\"head\")[0].appendChild(s);\n",
       "}\n",
       "\n",
       "if(typeof(LDAvis) !== \"undefined\"){\n",
       "   // already loaded: just create the visualization\n",
       "   !function(LDAvis){\n",
       "       new LDAvis(\"#\" + \"ldavis_el53169158736109604403272202\", ldavis_el53169158736109604403272202_data);\n",
       "   }(LDAvis);\n",
       "}else if(typeof define === \"function\" && define.amd){\n",
       "   // require.js is available: use it to load d3/LDAvis\n",
       "   require.config({paths: {d3: \"https://d3js.org/d3.v5\"}});\n",
       "   require([\"d3\"], function(d3){\n",
       "      window.d3 = d3;\n",
       "      LDAvis_load_lib(\"https://cdn.jsdelivr.net/gh/bmabey/pyLDAvis@3.4.0/pyLDAvis/js/ldavis.v3.0.0.js\", function(){\n",
       "        new LDAvis(\"#\" + \"ldavis_el53169158736109604403272202\", ldavis_el53169158736109604403272202_data);\n",
       "      });\n",
       "    });\n",
       "}else{\n",
       "    // require.js not available: dynamically load d3 & LDAvis\n",
       "    LDAvis_load_lib(\"https://d3js.org/d3.v5.js\", function(){\n",
       "         LDAvis_load_lib(\"https://cdn.jsdelivr.net/gh/bmabey/pyLDAvis@3.4.0/pyLDAvis/js/ldavis.v3.0.0.js\", function(){\n",
       "                 new LDAvis(\"#\" + \"ldavis_el53169158736109604403272202\", ldavis_el53169158736109604403272202_data);\n",
       "            })\n",
       "         });\n",
       "}\n",
       "</script>"
      ],
      "text/plain": [
       "<IPython.core.display.HTML object>"
      ]
     },
     "execution_count": 114,
     "metadata": {},
     "output_type": "execute_result"
    }
   ],
   "source": [
    "# Prepare the visualization\n",
    "vis_data = gensimvis.prepare(model, corpus, dictionary)\n",
    "\n",
    "# display\n",
    "pyLDAvis.display(vis_data)"
   ]
  },
  {
   "cell_type": "markdown",
   "metadata": {},
   "source": [
    "### Hyperparameter Tuning"
   ]
  },
  {
   "cell_type": "code",
   "execution_count": 25,
   "metadata": {},
   "outputs": [],
   "source": [
    "from gensim.models import CoherenceModel\n",
    "from gensim import corpora\n",
    "import numpy as np\n",
    "from sklearn.decomposition import LatentDirichletAllocation\n",
    "\n",
    "def evaluate_lda_models_with_coherence(dtm, texts, topic_range, vectorizer):\n",
    "    \"\"\"\n",
    "    Evaluate LDA models using both perplexity and coherence scores.\n",
    "    \n",
    "    Parameters:\n",
    "    - dtm: Document-Term Matrix\n",
    "    - texts: Tokenized texts (list of list of tokens)\n",
    "    - topic_range: Range of topic numbers to evaluate\n",
    "    - vectorizer: The CountVectorizer used to generate dtm\n",
    "    \n",
    "    Returns:\n",
    "    - perplexity_scores: list of perplexity values\n",
    "    - coherence_scores: list of coherence values\n",
    "    \"\"\"\n",
    "    perplexity_scores = []\n",
    "    coherence_scores = []\n",
    "\n",
    "    # Create Gensim dictionary and corpus\n",
    "    vocab = vectorizer.get_feature_names_out()\n",
    "    id2word = dict((id, word) for word, id in vectorizer.vocabulary_.items())\n",
    "    dictionary = corpora.Dictionary(texts)\n",
    "    corpus = [dictionary.doc2bow(text) for text in texts]\n",
    "\n",
    "    for n_topics in topic_range:\n",
    "        print(f\"Evaluating LDA with {n_topics} topics...\")\n",
    "\n",
    "        # Fit sklearn LDA\n",
    "        lda = LatentDirichletAllocation(\n",
    "            n_components=n_topics,\n",
    "            max_iter=20,\n",
    "            learning_method='online',\n",
    "            random_state=42,\n",
    "            n_jobs=-1\n",
    "        )\n",
    "        lda.fit(dtm)\n",
    "\n",
    "        # Perplexity\n",
    "        perplexity = lda.perplexity(dtm)\n",
    "        perplexity_scores.append(perplexity)\n",
    "\n",
    "        # Convert sklearn LDA to Gensim-compatible format\n",
    "        topics = []\n",
    "        for topic_idx, topic in enumerate(lda.components_):\n",
    "            top_words = topic.argsort()[:-11:-1]\n",
    "            topics.append([vocab[i] for i in top_words])\n",
    "\n",
    "        # Coherence\n",
    "        cm = CoherenceModel(\n",
    "            topics=topics,\n",
    "            texts=texts,\n",
    "            dictionary=dictionary,\n",
    "            coherence='c_v'\n",
    "        )\n",
    "        coherence = cm.get_coherence()\n",
    "        coherence_scores.append(coherence)\n",
    "\n",
    "        print(f\"  Perplexity: {perplexity:.2f} | Coherence: {coherence:.4f}\")\n",
    "\n",
    "    return perplexity_scores, coherence_scores"
   ]
  },
  {
   "cell_type": "code",
   "execution_count": 27,
   "metadata": {},
   "outputs": [
    {
     "name": "stdout",
     "output_type": "stream",
     "text": [
      "Evaluating LDA with 5 topics...\n",
      "  Perplexity: 970.54 | Coherence: 0.4657\n",
      "Evaluating LDA with 10 topics...\n",
      "  Perplexity: 800.61 | Coherence: 0.5196\n",
      "Evaluating LDA with 15 topics...\n",
      "  Perplexity: 724.92 | Coherence: 0.5229\n",
      "Evaluating LDA with 20 topics...\n",
      "  Perplexity: 686.88 | Coherence: 0.5471\n",
      "Evaluating LDA with 25 topics...\n",
      "  Perplexity: 675.68 | Coherence: 0.5244\n",
      "Evaluating LDA with 30 topics...\n",
      "  Perplexity: 660.81 | Coherence: 0.5418\n"
     ]
    },
    {
     "data": {
      "image/png": "[encoded data removed]",
      "text/plain": [
       "<Figure size 1000x600 with 2 Axes>"
      ]
     },
     "metadata": {},
     "output_type": "display_data"
    }
   ],
   "source": [
    "import matplotlib.pyplot as plt\n",
    "from sklearn.feature_extraction.text import CountVectorizer\n",
    "\n",
    "# Define the range of topics to evaluate\n",
    "topic_range = range(5, 31, 5)\n",
    "\n",
    "# Define the vectorizer\n",
    "vectorizer = CountVectorizer(\n",
    "\tstop_words=\"english\", \n",
    "\tngram_range=(1, 2),\n",
    "\tmin_df=5,\n",
    "\tmax_df=0.9,\n",
    "\tmax_features=3000\n",
    ")\n",
    "\n",
    "\n",
    "# Create the Document-Term Matrix (dtm)\n",
    "dtm = vectorizer.fit_transform([\" \".join(doc) for doc in normalized_corpus])\n",
    "\n",
    "# Call the evaluation function\n",
    "perplexity_scores, coherence_scores = evaluate_lda_models_with_coherence(dtm, normalized_corpus, topic_range, vectorizer)\n",
    "\n",
    "# Plotting\n",
    "fig, ax1 = plt.subplots(figsize=(10, 6))\n",
    "\n",
    "color = 'tab:blue'\n",
    "ax1.set_xlabel('Number of Topics')\n",
    "ax1.set_ylabel('Perplexity', color=color)\n",
    "ax1.plot(topic_range, perplexity_scores, marker='o', color=color, label='Perplexity')\n",
    "ax1.tick_params(axis='y', labelcolor=color)\n",
    "\n",
    "# Create a second y-axis for coherence\n",
    "ax2 = ax1.twinx()\n",
    "color = 'tab:green'\n",
    "ax2.set_ylabel('Coherence', color=color)\n",
    "ax2.plot(topic_range, coherence_scores, marker='s', linestyle='--', color=color, label='Coherence')\n",
    "ax2.tick_params(axis='y', labelcolor=color)\n",
    "\n",
    "# Titles and legends\n",
    "plt.title('LDA Model Evaluation: Perplexity & Coherence vs Number of Topics')\n",
    "fig.tight_layout()\n",
    "plt.show()"
   ]
  },
  {
   "cell_type": "markdown",
   "metadata": {},
   "source": [
    "@Brad to check/remove below code for param tuning if it is not required."
   ]
  },
  {
   "cell_type": "code",
   "execution_count": 128,
   "metadata": {},
   "outputs": [],
   "source": [
    "min_topics = 2\n",
    "max_topics = 30\n",
    "step_size = 1\n",
    "topics_range = range(min_topics, max_topics + 1, step_size)\n",
    "\n",
    "coherence_scores = []\n",
    "\n",
    "for num_topics in topics_range:\n",
    "    model = LdaModel(\n",
    "        corpus= corpus,\n",
    "        id2word= dictionary,\n",
    "        chunksize= chunksize,\n",
    "        alpha= 'symmetric',\n",
    "        eta= 'auto',\n",
    "        iterations= iterations,\n",
    "        num_topics= num_topics,\n",
    "        passes= passes,\n",
    "        eval_every= eval_every,\n",
    "        random_state= 42\n",
    "    )\n",
    "    \n",
    "    # Compute Coherence Score\n",
    "    coherence_model = CoherenceModel(model= model, texts= normalized_corpus, dictionary= dictionary, coherence= 'c_v')\n",
    "    coherence_score = coherence_model.get_coherence()\n",
    "    coherence_scores.append(coherence_score)"
   ]
  },
  {
   "cell_type": "code",
   "execution_count": 129,
   "metadata": {},
   "outputs": [
    {
     "data": {
      "image/png": "[encoded data removed]",
      "text/plain": [
       "<Figure size 1000x600 with 1 Axes>"
      ]
     },
     "metadata": {},
     "output_type": "display_data"
    }
   ],
   "source": [
    "plt.figure(figsize=(10, 6))\n",
    "plt.plot(topics_range, coherence_scores, marker='o')\n",
    "plt.title(\"Coherence Scores by Number of Topics\")\n",
    "plt.xlabel(\"Number of Topics\")\n",
    "plt.ylabel(\"Coherence Score\")\n",
    "plt.xticks(topics_range)\n",
    "plt.show()"
   ]
  },
  {
   "cell_type": "markdown",
   "metadata": {},
   "source": [
    "20 topics is the optimal choice based on the peak coherence and sufficiently low perplexity."
   ]
  },
  {
   "cell_type": "code",
   "execution_count": 28,
   "metadata": {},
   "outputs": [],
   "source": [
    "num_topics = 20\n",
    "chunksize = 10\n",
    "passes = 20\n",
    "iterations = 400 \n",
    "eval_every = 0  \n",
    "\n",
    "model = LdaModel(\n",
    "    corpus= corpus,\n",
    "    id2word= dictionary,\n",
    "    chunksize= chunksize,\n",
    "    alpha= 'auto',\n",
    "    eta= 'auto',\n",
    "    iterations= iterations,\n",
    "    num_topics= num_topics,\n",
    "    passes= passes,\n",
    "    eval_every= eval_every,\n",
    "    random_state= 42\n",
    ")"
   ]
  },
  {
   "cell_type": "code",
   "execution_count": 132,
   "metadata": {},
   "outputs": [
    {
     "data": {
      "text/plain": [
       "[(11,\n",
       "  '0.000*\"search_shopping\" + 0.000*\"save_screeneretf\" + 0.000*\"spark\" + 0.000*\"sensor\" + 0.000*\"selection\" + 0.000*\"trend_activesstock\" + 0.000*\"screeneretf\" + 0.000*\"panel\" + 0.000*\"recession_fear\" + 0.000*\"affiliate_commission\"'),\n",
       " (6,\n",
       "  '0.000*\"search_shopping\" + 0.000*\"save_screeneretf\" + 0.000*\"spark\" + 0.000*\"sensor\" + 0.000*\"selection\" + 0.000*\"trend_activesstock\" + 0.000*\"screeneretf\" + 0.000*\"panel\" + 0.000*\"recession_fear\" + 0.000*\"affiliate_commission\"'),\n",
       " (12,\n",
       "  '0.075*\"open\" + 0.052*\"link\" + 0.050*\"tab\" + 0.027*\"link_open\" + 0.022*\"email\" + 0.020*\"open_tab\" + 0.019*\"podcast\" + 0.017*\"window\" + 0.017*\"join\" + 0.015*\"people\"'),\n",
       " (1,\n",
       "  '0.093*\"screen\" + 0.070*\"let\" + 0.069*\"range\" + 0.061*\"earn\" + 0.056*\"inch\" + 0.049*\"role\" + 0.049*\"trust\" + 0.048*\"color\" + 0.040*\"affiliate\" + 0.039*\"commission\"'),\n",
       " (2,\n",
       "  '0.089*\"pm\" + 0.041*\"menu\" + 0.038*\"message\" + 0.033*\"view\" + 0.027*\"delay\" + 0.026*\"account\" + 0.026*\"percent\" + 0.023*\"password\" + 0.023*\"sign\" + 0.022*\"volume\"'),\n",
       " (0,\n",
       "  '0.037*\"game\" + 0.032*\"deal\" + 0.032*\"feature\" + 0.023*\"launch\" + 0.020*\"come\" + 0.020*\"tv\" + 0.019*\"app\" + 0.018*\"watch\" + 0.017*\"buy\" + 0.016*\"know\"'),\n",
       " (10,\n",
       "  '0.044*\"provide\" + 0.037*\"business\" + 0.034*\"lead\" + 0.027*\"technology\" + 0.025*\"industry\" + 0.024*\"product\" + 0.023*\"growth\" + 0.022*\"datum\" + 0.020*\"release\" + 0.017*\"transform\"'),\n",
       " (8,\n",
       "  '0.020*\"hit\" + 0.020*\"story\" + 0.020*\"show\" + 0.019*\"state\" + 0.017*\"review\" + 0.017*\"woman\" + 0.017*\"man\" + 0.017*\"drop\" + 0.016*\"file\" + 0.014*\"policy\"'),\n",
       " (3,\n",
       "  '0.038*\"want\" + 0.035*\"use\" + 0.034*\"information\" + 0.030*\"base\" + 0.025*\"website\" + 0.025*\"value\" + 0.023*\"risk\" + 0.022*\"experience\" + 0.022*\"leave\" + 0.020*\"help\"'),\n",
       " (7,\n",
       "  '0.019*\"sell\" + 0.012*\"plan\" + 0.011*\"sale\" + 0.010*\"search\" + 0.010*\"take\" + 0.010*\"look\" + 0.010*\"continue\" + 0.010*\"issue\" + 0.010*\"follow\" + 0.009*\"pay\"')]"
      ]
     },
     "execution_count": 132,
     "metadata": {},
     "output_type": "execute_result"
    }
   ],
   "source": [
    "model.show_topics()"
   ]
  },
  {
   "cell_type": "code",
   "execution_count": 29,
   "metadata": {},
   "outputs": [
    {
     "data": {
      "text/plain": [
       "[('pm', 0.16874886),\n",
       " ('message', 0.06467363),\n",
       " ('view', 0.061026167),\n",
       " ('account', 0.050222017),\n",
       " ('sign', 0.04533165),\n",
       " ('password', 0.03965154),\n",
       " ('article', 0.035769667),\n",
       " ('datum', 0.03489503),\n",
       " ('profile', 0.031864982),\n",
       " ('send', 0.027659994)]"
      ]
     },
     "execution_count": 29,
     "metadata": {},
     "output_type": "execute_result"
    }
   ],
   "source": [
    "topic_words = model.show_topic(2, topn=10)\n",
    "topic_words"
   ]
  },
  {
   "cell_type": "code",
   "execution_count": 31,
   "metadata": {},
   "outputs": [
    {
     "ename": "TypeError",
     "evalue": "Object of type complex128 is not JSON serializable",
     "output_type": "error",
     "traceback": [
      "\u001b[31m---------------------------------------------------------------------------\u001b[39m",
      "\u001b[31mTypeError\u001b[39m                                 Traceback (most recent call last)",
      "\u001b[36mCell\u001b[39m\u001b[36m \u001b[39m\u001b[32mIn[31]\u001b[39m\u001b[32m, line 5\u001b[39m\n\u001b[32m      2\u001b[39m vis_data = gensimvis.prepare(model, corpus, dictionary)\n\u001b[32m      4\u001b[39m \u001b[38;5;66;03m# display\u001b[39;00m\n\u001b[32m----> \u001b[39m\u001b[32m5\u001b[39m \u001b[43mpyLDAvis\u001b[49m\u001b[43m.\u001b[49m\u001b[43mdisplay\u001b[49m\u001b[43m(\u001b[49m\u001b[43mvis_data\u001b[49m\u001b[43m)\u001b[49m\n",
      "\u001b[36mFile \u001b[39m\u001b[32mc:\\Old laptop\\D\\mY folder\\ML\\myenv\\Lib\\site-packages\\pyLDAvis\\_display.py:222\u001b[39m, in \u001b[36mdisplay\u001b[39m\u001b[34m(data, local, **kwargs)\u001b[39m\n\u001b[32m    218\u001b[39m         warnings.warn(\n\u001b[32m    219\u001b[39m             \u001b[33m\"\u001b[39m\u001b[33mdisplay: specified urls are ignored when local=True\u001b[39m\u001b[33m\"\u001b[39m)\n\u001b[32m    220\u001b[39m     kwargs[\u001b[33m'\u001b[39m\u001b[33md3_url\u001b[39m\u001b[33m'\u001b[39m], kwargs[\u001b[33m'\u001b[39m\u001b[33mldavis_url\u001b[39m\u001b[33m'\u001b[39m], kwargs[\u001b[33m'\u001b[39m\u001b[33mldavis_css_url\u001b[39m\u001b[33m'\u001b[39m] = write_ipynb_local_js()\n\u001b[32m--> \u001b[39m\u001b[32m222\u001b[39m \u001b[38;5;28;01mreturn\u001b[39;00m HTML(\u001b[43mprepared_data_to_html\u001b[49m\u001b[43m(\u001b[49m\u001b[43mdata\u001b[49m\u001b[43m,\u001b[49m\u001b[43m \u001b[49m\u001b[43m*\u001b[49m\u001b[43m*\u001b[49m\u001b[43mkwargs\u001b[49m\u001b[43m)\u001b[49m)\n",
      "\u001b[36mFile \u001b[39m\u001b[32mc:\\Old laptop\\D\\mY folder\\ML\\myenv\\Lib\\site-packages\\pyLDAvis\\_display.py:177\u001b[39m, in \u001b[36mprepared_data_to_html\u001b[39m\u001b[34m(data, d3_url, ldavis_url, ldavis_css_url, template_type, visid, use_http)\u001b[39m\n\u001b[32m    170\u001b[39m \u001b[38;5;28;01melif\u001b[39;00m re.search(\u001b[33mr\u001b[39m\u001b[33m'\u001b[39m\u001b[33m\\\u001b[39m\u001b[33ms\u001b[39m\u001b[33m'\u001b[39m, visid):\n\u001b[32m    171\u001b[39m     \u001b[38;5;28;01mraise\u001b[39;00m \u001b[38;5;167;01mValueError\u001b[39;00m(\u001b[33m\"\u001b[39m\u001b[33mvisid must not contain spaces\u001b[39m\u001b[33m\"\u001b[39m)\n\u001b[32m    173\u001b[39m \u001b[38;5;28;01mreturn\u001b[39;00m template.render(visid=json.dumps(visid),\n\u001b[32m    174\u001b[39m                        visid_raw=visid,\n\u001b[32m    175\u001b[39m                        d3_url=d3_url,\n\u001b[32m    176\u001b[39m                        ldavis_url=ldavis_url,\n\u001b[32m--> \u001b[39m\u001b[32m177\u001b[39m                        vis_json=\u001b[43mdata\u001b[49m\u001b[43m.\u001b[49m\u001b[43mto_json\u001b[49m\u001b[43m(\u001b[49m\u001b[43m)\u001b[49m,\n\u001b[32m    178\u001b[39m                        ldavis_css_url=ldavis_css_url)\n",
      "\u001b[36mFile \u001b[39m\u001b[32mc:\\Old laptop\\D\\mY folder\\ML\\myenv\\Lib\\site-packages\\pyLDAvis\\_prepare.py:464\u001b[39m, in \u001b[36mPreparedData.to_json\u001b[39m\u001b[34m(self)\u001b[39m\n\u001b[32m    463\u001b[39m \u001b[38;5;28;01mdef\u001b[39;00m\u001b[38;5;250m \u001b[39m\u001b[34mto_json\u001b[39m(\u001b[38;5;28mself\u001b[39m):\n\u001b[32m--> \u001b[39m\u001b[32m464\u001b[39m     \u001b[38;5;28;01mreturn\u001b[39;00m \u001b[43mjson\u001b[49m\u001b[43m.\u001b[49m\u001b[43mdumps\u001b[49m\u001b[43m(\u001b[49m\u001b[38;5;28;43mself\u001b[39;49m\u001b[43m.\u001b[49m\u001b[43mto_dict\u001b[49m\u001b[43m(\u001b[49m\u001b[43m)\u001b[49m\u001b[43m,\u001b[49m\u001b[43m \u001b[49m\u001b[38;5;28;43mcls\u001b[39;49m\u001b[43m=\u001b[49m\u001b[43mNumPyEncoder\u001b[49m\u001b[43m)\u001b[49m\n",
      "\u001b[36mFile \u001b[39m\u001b[32m~\\AppData\\Local\\Programs\\Python\\Python312\\Lib\\json\\__init__.py:238\u001b[39m, in \u001b[36mdumps\u001b[39m\u001b[34m(obj, skipkeys, ensure_ascii, check_circular, allow_nan, cls, indent, separators, default, sort_keys, **kw)\u001b[39m\n\u001b[32m    232\u001b[39m \u001b[38;5;28;01mif\u001b[39;00m \u001b[38;5;28mcls\u001b[39m \u001b[38;5;129;01mis\u001b[39;00m \u001b[38;5;28;01mNone\u001b[39;00m:\n\u001b[32m    233\u001b[39m     \u001b[38;5;28mcls\u001b[39m = JSONEncoder\n\u001b[32m    234\u001b[39m \u001b[38;5;28;01mreturn\u001b[39;00m \u001b[38;5;28;43mcls\u001b[39;49m\u001b[43m(\u001b[49m\n\u001b[32m    235\u001b[39m \u001b[43m    \u001b[49m\u001b[43mskipkeys\u001b[49m\u001b[43m=\u001b[49m\u001b[43mskipkeys\u001b[49m\u001b[43m,\u001b[49m\u001b[43m \u001b[49m\u001b[43mensure_ascii\u001b[49m\u001b[43m=\u001b[49m\u001b[43mensure_ascii\u001b[49m\u001b[43m,\u001b[49m\n\u001b[32m    236\u001b[39m \u001b[43m    \u001b[49m\u001b[43mcheck_circular\u001b[49m\u001b[43m=\u001b[49m\u001b[43mcheck_circular\u001b[49m\u001b[43m,\u001b[49m\u001b[43m \u001b[49m\u001b[43mallow_nan\u001b[49m\u001b[43m=\u001b[49m\u001b[43mallow_nan\u001b[49m\u001b[43m,\u001b[49m\u001b[43m \u001b[49m\u001b[43mindent\u001b[49m\u001b[43m=\u001b[49m\u001b[43mindent\u001b[49m\u001b[43m,\u001b[49m\n\u001b[32m    237\u001b[39m \u001b[43m    \u001b[49m\u001b[43mseparators\u001b[49m\u001b[43m=\u001b[49m\u001b[43mseparators\u001b[49m\u001b[43m,\u001b[49m\u001b[43m \u001b[49m\u001b[43mdefault\u001b[49m\u001b[43m=\u001b[49m\u001b[43mdefault\u001b[49m\u001b[43m,\u001b[49m\u001b[43m \u001b[49m\u001b[43msort_keys\u001b[49m\u001b[43m=\u001b[49m\u001b[43msort_keys\u001b[49m\u001b[43m,\u001b[49m\n\u001b[32m--> \u001b[39m\u001b[32m238\u001b[39m \u001b[43m    \u001b[49m\u001b[43m*\u001b[49m\u001b[43m*\u001b[49m\u001b[43mkw\u001b[49m\u001b[43m)\u001b[49m\u001b[43m.\u001b[49m\u001b[43mencode\u001b[49m\u001b[43m(\u001b[49m\u001b[43mobj\u001b[49m\u001b[43m)\u001b[49m\n",
      "\u001b[36mFile \u001b[39m\u001b[32m~\\AppData\\Local\\Programs\\Python\\Python312\\Lib\\json\\encoder.py:200\u001b[39m, in \u001b[36mJSONEncoder.encode\u001b[39m\u001b[34m(self, o)\u001b[39m\n\u001b[32m    196\u001b[39m         \u001b[38;5;28;01mreturn\u001b[39;00m encode_basestring(o)\n\u001b[32m    197\u001b[39m \u001b[38;5;66;03m# This doesn't pass the iterator directly to ''.join() because the\u001b[39;00m\n\u001b[32m    198\u001b[39m \u001b[38;5;66;03m# exceptions aren't as detailed.  The list call should be roughly\u001b[39;00m\n\u001b[32m    199\u001b[39m \u001b[38;5;66;03m# equivalent to the PySequence_Fast that ''.join() would do.\u001b[39;00m\n\u001b[32m--> \u001b[39m\u001b[32m200\u001b[39m chunks = \u001b[38;5;28;43mself\u001b[39;49m\u001b[43m.\u001b[49m\u001b[43miterencode\u001b[49m\u001b[43m(\u001b[49m\u001b[43mo\u001b[49m\u001b[43m,\u001b[49m\u001b[43m \u001b[49m\u001b[43m_one_shot\u001b[49m\u001b[43m=\u001b[49m\u001b[38;5;28;43;01mTrue\u001b[39;49;00m\u001b[43m)\u001b[49m\n\u001b[32m    201\u001b[39m \u001b[38;5;28;01mif\u001b[39;00m \u001b[38;5;129;01mnot\u001b[39;00m \u001b[38;5;28misinstance\u001b[39m(chunks, (\u001b[38;5;28mlist\u001b[39m, \u001b[38;5;28mtuple\u001b[39m)):\n\u001b[32m    202\u001b[39m     chunks = \u001b[38;5;28mlist\u001b[39m(chunks)\n",
      "\u001b[36mFile \u001b[39m\u001b[32m~\\AppData\\Local\\Programs\\Python\\Python312\\Lib\\json\\encoder.py:258\u001b[39m, in \u001b[36mJSONEncoder.iterencode\u001b[39m\u001b[34m(self, o, _one_shot)\u001b[39m\n\u001b[32m    253\u001b[39m \u001b[38;5;28;01melse\u001b[39;00m:\n\u001b[32m    254\u001b[39m     _iterencode = _make_iterencode(\n\u001b[32m    255\u001b[39m         markers, \u001b[38;5;28mself\u001b[39m.default, _encoder, \u001b[38;5;28mself\u001b[39m.indent, floatstr,\n\u001b[32m    256\u001b[39m         \u001b[38;5;28mself\u001b[39m.key_separator, \u001b[38;5;28mself\u001b[39m.item_separator, \u001b[38;5;28mself\u001b[39m.sort_keys,\n\u001b[32m    257\u001b[39m         \u001b[38;5;28mself\u001b[39m.skipkeys, _one_shot)\n\u001b[32m--> \u001b[39m\u001b[32m258\u001b[39m \u001b[38;5;28;01mreturn\u001b[39;00m \u001b[43m_iterencode\u001b[49m\u001b[43m(\u001b[49m\u001b[43mo\u001b[49m\u001b[43m,\u001b[49m\u001b[43m \u001b[49m\u001b[32;43m0\u001b[39;49m\u001b[43m)\u001b[49m\n",
      "\u001b[36mFile \u001b[39m\u001b[32mc:\\Old laptop\\D\\mY folder\\ML\\myenv\\Lib\\site-packages\\pyLDAvis\\utils.py:150\u001b[39m, in \u001b[36mNumPyEncoder.default\u001b[39m\u001b[34m(self, obj)\u001b[39m\n\u001b[32m    148\u001b[39m \u001b[38;5;28;01mif\u001b[39;00m \u001b[38;5;28misinstance\u001b[39m(obj, np.float64) \u001b[38;5;129;01mor\u001b[39;00m \u001b[38;5;28misinstance\u001b[39m(obj, np.float32):\n\u001b[32m    149\u001b[39m     \u001b[38;5;28;01mreturn\u001b[39;00m \u001b[38;5;28mfloat\u001b[39m(obj)\n\u001b[32m--> \u001b[39m\u001b[32m150\u001b[39m \u001b[38;5;28;01mreturn\u001b[39;00m \u001b[43mjson\u001b[49m\u001b[43m.\u001b[49m\u001b[43mJSONEncoder\u001b[49m\u001b[43m.\u001b[49m\u001b[43mdefault\u001b[49m\u001b[43m(\u001b[49m\u001b[38;5;28;43mself\u001b[39;49m\u001b[43m,\u001b[49m\u001b[43m \u001b[49m\u001b[43mobj\u001b[49m\u001b[43m)\u001b[49m\n",
      "\u001b[36mFile \u001b[39m\u001b[32m~\\AppData\\Local\\Programs\\Python\\Python312\\Lib\\json\\encoder.py:180\u001b[39m, in \u001b[36mJSONEncoder.default\u001b[39m\u001b[34m(self, o)\u001b[39m\n\u001b[32m    161\u001b[39m \u001b[38;5;28;01mdef\u001b[39;00m\u001b[38;5;250m \u001b[39m\u001b[34mdefault\u001b[39m(\u001b[38;5;28mself\u001b[39m, o):\n\u001b[32m    162\u001b[39m \u001b[38;5;250m    \u001b[39m\u001b[33;03m\"\"\"Implement this method in a subclass such that it returns\u001b[39;00m\n\u001b[32m    163\u001b[39m \u001b[33;03m    a serializable object for ``o``, or calls the base implementation\u001b[39;00m\n\u001b[32m    164\u001b[39m \u001b[33;03m    (to raise a ``TypeError``).\u001b[39;00m\n\u001b[32m   (...)\u001b[39m\u001b[32m    178\u001b[39m \n\u001b[32m    179\u001b[39m \u001b[33;03m    \"\"\"\u001b[39;00m\n\u001b[32m--> \u001b[39m\u001b[32m180\u001b[39m     \u001b[38;5;28;01mraise\u001b[39;00m \u001b[38;5;167;01mTypeError\u001b[39;00m(\u001b[33mf\u001b[39m\u001b[33m'\u001b[39m\u001b[33mObject of type \u001b[39m\u001b[38;5;132;01m{\u001b[39;00mo.\u001b[34m__class__\u001b[39m.\u001b[34m__name__\u001b[39m\u001b[38;5;132;01m}\u001b[39;00m\u001b[33m \u001b[39m\u001b[33m'\u001b[39m\n\u001b[32m    181\u001b[39m                     \u001b[33mf\u001b[39m\u001b[33m'\u001b[39m\u001b[33mis not JSON serializable\u001b[39m\u001b[33m'\u001b[39m)\n",
      "\u001b[31mTypeError\u001b[39m: Object of type complex128 is not JSON serializable"
     ]
    }
   ],
   "source": [
    "# Prepare the visualization\n",
    "vis_data = gensimvis.prepare(model, corpus, dictionary)\n",
    "\n",
    "# display\n",
    "pyLDAvis.display(vis_data)"
   ]
  },
  {
   "cell_type": "markdown",
   "metadata": {},
   "source": [
    "# **BERTopic Modeling**"
   ]
  },
  {
   "cell_type": "code",
   "execution_count": 135,
   "metadata": {},
   "outputs": [],
   "source": [
    "# instantiating the embedding model\n",
    "embedding_model = SentenceTransformer(\"thenlper/gte-small\")"
   ]
  },
  {
   "cell_type": "code",
   "execution_count": 136,
   "metadata": {},
   "outputs": [],
   "source": [
    "# Step 2 - Reduce dimensionality\n",
    "umap_model = UMAP(n_components= 5, min_dist= 0.1, metric='cosine', random_state= 42)"
   ]
  },
  {
   "cell_type": "code",
   "execution_count": 137,
   "metadata": {},
   "outputs": [],
   "source": [
    "# Step 3 - Cluster reduced embeddings\n",
    "hdbscan_model = HDBSCAN(min_cluster_size=15, metric='euclidean', cluster_selection_method='eom')"
   ]
  },
  {
   "cell_type": "code",
   "execution_count": 138,
   "metadata": {},
   "outputs": [],
   "source": [
    "# Step 4 - Tokenize topics\n",
    "vectorizer_model = CountVectorizer(\n",
    "    stop_words=\"english\", \n",
    "    ngram_range=(1, 2),\n",
    "    min_df= 5,\n",
    "    max_df= 0.9,\n",
    "    max_features= 3000)\n",
    "\n",
    "# Step 5 - Create topic representation\n",
    "ctfidf_model = ClassTfidfTransformer()"
   ]
  },
  {
   "cell_type": "code",
   "execution_count": 139,
   "metadata": {},
   "outputs": [],
   "source": [
    "# All steps together\n",
    "topic_model = BERTopic(\n",
    "  embedding_model=embedding_model,          # Step 1 - Extract embeddings\n",
    "  umap_model=umap_model,                    # Step 2 - Reduce dimensionality\n",
    "  hdbscan_model=hdbscan_model,              # Step 3 - Cluster reduced embeddings\n",
    "  vectorizer_model=vectorizer_model,        # Step 4 - Tokenize topics\n",
    "  ctfidf_model=ctfidf_model,                # Step 5 - Extract topic words\n",
    ")"
   ]
  },
  {
   "cell_type": "code",
   "execution_count": 141,
   "metadata": {},
   "outputs": [
    {
     "name": "stderr",
     "output_type": "stream",
     "text": [
      "OMP: Info #276: omp_set_nested routine deprecated, please use omp_set_max_active_levels instead.\n"
     ]
    }
   ],
   "source": [
    "topics, probs = topic_model.fit_transform(news_df[\"combined_text\"])"
   ]
  },
  {
   "cell_type": "code",
   "execution_count": 142,
   "metadata": {},
   "outputs": [
    {
     "data": {
      "text/html": [
       "<div>\n",
       "<style scoped>\n",
       "    .dataframe tbody tr th:only-of-type {\n",
       "        vertical-align: middle;\n",
       "    }\n",
       "\n",
       "    .dataframe tbody tr th {\n",
       "        vertical-align: top;\n",
       "    }\n",
       "\n",
       "    .dataframe thead th {\n",
       "        text-align: right;\n",
       "    }\n",
       "</style>\n",
       "<table border=\"1\" class=\"dataframe\">\n",
       "  <thead>\n",
       "    <tr style=\"text-align: right;\">\n",
       "      <th></th>\n",
       "      <th>Topic</th>\n",
       "      <th>Count</th>\n",
       "      <th>Name</th>\n",
       "      <th>Representation</th>\n",
       "      <th>Representative_Docs</th>\n",
       "    </tr>\n",
       "  </thead>\n",
       "  <tbody>\n",
       "    <tr>\n",
       "      <th>0</th>\n",
       "      <td>-1</td>\n",
       "      <td>1519</td>\n",
       "      <td>-1_ago_shares_stock_covid</td>\n",
       "      <td>[ago, shares, stock, covid, growth, ukraine, n...</td>\n",
       "      <td>[Tornado hits Zierikzee, the Netherlands: One ...</td>\n",
       "    </tr>\n",
       "    <tr>\n",
       "      <th>1</th>\n",
       "      <td>0</td>\n",
       "      <td>306</td>\n",
       "      <td>0_pm_game_games_xbox</td>\n",
       "      <td>[pm, game, games, xbox, 2022 00, series, gamin...</td>\n",
       "      <td>[Canadian streamer xQc spent two hours on 'slo...</td>\n",
       "    </tr>\n",
       "    <tr>\n",
       "      <th>2</th>\n",
       "      <td>1</td>\n",
       "      <td>239</td>\n",
       "      <td>1_inflation_fed_stocks_oil</td>\n",
       "      <td>[inflation, fed, stocks, oil, rates, td, bloom...</td>\n",
       "      <td>[European Stocks Retreat as Investors Weigh Ea...</td>\n",
       "    </tr>\n",
       "    <tr>\n",
       "      <th>3</th>\n",
       "      <td>2</td>\n",
       "      <td>215</td>\n",
       "      <td>2_link_new tab_opens_tab</td>\n",
       "      <td>[link, new tab, opens, tab, opens new, subscri...</td>\n",
       "      <td>[Hoda Kotb and Jenna Bush Hager Tease Ina Gart...</td>\n",
       "    </tr>\n",
       "    <tr>\n",
       "      <th>4</th>\n",
       "      <td>3</td>\n",
       "      <td>213</td>\n",
       "      <td>3_seattle_times_seattle times_advertising</td>\n",
       "      <td>[seattle, times, seattle times, advertising, s...</td>\n",
       "      <td>[Twin earthquakes in western Afghanistan kill ...</td>\n",
       "    </tr>\n",
       "    <tr>\n",
       "      <th>5</th>\n",
       "      <td>4</td>\n",
       "      <td>201</td>\n",
       "      <td>4_cloud_prnewswire_gray_customers</td>\n",
       "      <td>[cloud, prnewswire, gray, customers, platform,...</td>\n",
       "      <td>[Lookout to Exhibit Data-Centric Cloud Securit...</td>\n",
       "    </tr>\n",
       "    <tr>\n",
       "      <th>6</th>\n",
       "      <td>5</td>\n",
       "      <td>184</td>\n",
       "      <td>5_equities_password_username_register</td>\n",
       "      <td>[equities, password, username, register, nasda...</td>\n",
       "      <td>[Hawaiian, (HA) gains 4.27% for February 24 | ...</td>\n",
       "    </tr>\n",
       "    <tr>\n",
       "      <th>7</th>\n",
       "      <td>6</td>\n",
       "      <td>150</td>\n",
       "      <td>6_india_delhi_indian_rs</td>\n",
       "      <td>[india, delhi, indian, rs, live, crore, bjp, e...</td>\n",
       "      <td>[Medical colleges Tamil Nadu Chennai inaugurat...</td>\n",
       "    </tr>\n",
       "    <tr>\n",
       "      <th>8</th>\n",
       "      <td>7</td>\n",
       "      <td>114</td>\n",
       "      <td>7_ago_cloudy_hours ago_weeks ago</td>\n",
       "      <td>[ago, cloudy, hours ago, weeks ago, antonio, p...</td>\n",
       "      <td>[What we know about mass school shootings in t...</td>\n",
       "    </tr>\n",
       "    <tr>\n",
       "      <th>9</th>\n",
       "      <td>8</td>\n",
       "      <td>111</td>\n",
       "      <td>8_shares_nyse_stock_rating</td>\n",
       "      <td>[shares, nyse, stock, rating, quarter, llc, na...</td>\n",
       "      <td>[Daiwa Securities Group Inc. Raises Stock Hold...</td>\n",
       "    </tr>\n",
       "    <tr>\n",
       "      <th>10</th>\n",
       "      <td>9</td>\n",
       "      <td>85</td>\n",
       "      <td>9_times_seattle_seattle times_season</td>\n",
       "      <td>[times, seattle, seattle times, season, associ...</td>\n",
       "      <td>[Ravens part ways with defensive coordinator D...</td>\n",
       "    </tr>\n",
       "    <tr>\n",
       "      <th>11</th>\n",
       "      <td>10</td>\n",
       "      <td>71</td>\n",
       "      <td>10_finance_yahoo_screener_yahoo finance</td>\n",
       "      <td>[finance, yahoo, screener, yahoo finance, stoc...</td>\n",
       "      <td>[Sampo plc’s share buybacks 18/01/2022 Sampo p...</td>\n",
       "    </tr>\n",
       "    <tr>\n",
       "      <th>12</th>\n",
       "      <td>11</td>\n",
       "      <td>70</td>\n",
       "      <td>11_stocks_symbols_nasdaq_stock</td>\n",
       "      <td>[stocks, symbols, nasdaq, stock, zacks, add, e...</td>\n",
       "      <td>[Here's What Could Help Immunocore Holdings PL...</td>\n",
       "    </tr>\n",
       "    <tr>\n",
       "      <th>13</th>\n",
       "      <td>12</td>\n",
       "      <td>68</td>\n",
       "      <td>12_galaxy_samsung_pro_oneplus</td>\n",
       "      <td>[galaxy, samsung, pro, oneplus, samsung galaxy...</td>\n",
       "      <td>[Samsung Galaxy S22 Ultra Gets Run Over by a C...</td>\n",
       "    </tr>\n",
       "    <tr>\n",
       "      <th>14</th>\n",
       "      <td>13</td>\n",
       "      <td>65</td>\n",
       "      <td>13_windows_windows 11_techrepublic_file</td>\n",
       "      <td>[windows, windows 11, techrepublic, file, tab,...</td>\n",
       "      <td>[Find Things Faster: How to Search in Windows ...</td>\n",
       "    </tr>\n",
       "    <tr>\n",
       "      <th>15</th>\n",
       "      <td>14</td>\n",
       "      <td>58</td>\n",
       "      <td>14_crypto_bitcoin_btc_traded</td>\n",
       "      <td>[crypto, bitcoin, btc, traded, dollar, trades,...</td>\n",
       "      <td>[STATERA 24-Hour Volume Hits $120,790.00 (STA)...</td>\n",
       "    </tr>\n",
       "    <tr>\n",
       "      <th>16</th>\n",
       "      <td>15</td>\n",
       "      <td>51</td>\n",
       "      <td>15_forbes_richest_paid_program</td>\n",
       "      <td>[forbes, richest, paid, program, insurance, cr...</td>\n",
       "      <td>[The Future Of Diversity And Inclusion In Corp...</td>\n",
       "    </tr>\n",
       "    <tr>\n",
       "      <th>17</th>\n",
       "      <td>16</td>\n",
       "      <td>50</td>\n",
       "      <td>16_cyber_attack_attacks_malware</td>\n",
       "      <td>[cyber, attack, attacks, malware, cybersecurit...</td>\n",
       "      <td>[XM Cyber Reveals Hidden Attack Paths Using Ac...</td>\n",
       "    </tr>\n",
       "    <tr>\n",
       "      <th>18</th>\n",
       "      <td>17</td>\n",
       "      <td>47</td>\n",
       "      <td>17_philips_accessories_care_pdf file</td>\n",
       "      <td>[philips, accessories, care, pdf file, pdf, pr...</td>\n",
       "      <td>[Visit the support page for your CP6966/01 | P...</td>\n",
       "    </tr>\n",
       "    <tr>\n",
       "      <th>19</th>\n",
       "      <td>18</td>\n",
       "      <td>44</td>\n",
       "      <td>18_laptop_asus_core_surface</td>\n",
       "      <td>[laptop, asus, core, surface, oled, intel, pro...</td>\n",
       "      <td>[HP AMD Athlon 3020e 14\" Touch Laptop for $250...</td>\n",
       "    </tr>\n",
       "    <tr>\n",
       "      <th>20</th>\n",
       "      <td>19</td>\n",
       "      <td>41</td>\n",
       "      <td>19_biden_trump_president_election</td>\n",
       "      <td>[biden, trump, president, election, 28 2022, g...</td>\n",
       "      <td>[Alert: Biden's 'Biggest Fear' for Ukraine War...</td>\n",
       "    </tr>\n",
       "    <tr>\n",
       "      <th>21</th>\n",
       "      <td>20</td>\n",
       "      <td>40</td>\n",
       "      <td>20_uefa_league_champions_cookie</td>\n",
       "      <td>[uefa, league, champions, cookie, euro, champi...</td>\n",
       "      <td>[Barcelona 5-1 Wolfsburg: Holders open up firs...</td>\n",
       "    </tr>\n",
       "    <tr>\n",
       "      <th>22</th>\n",
       "      <td>21</td>\n",
       "      <td>39</td>\n",
       "      <td>21_ukraine_russia_russian_ukrainian</td>\n",
       "      <td>[ukraine, russia, russian, ukrainian, attack, ...</td>\n",
       "      <td>[Russia state TV paints Moscow as savior of ea...</td>\n",
       "    </tr>\n",
       "    <tr>\n",
       "      <th>23</th>\n",
       "      <td>22</td>\n",
       "      <td>37</td>\n",
       "      <td>22_interests_marketing_medicine_products</td>\n",
       "      <td>[interests, marketing, medicine, products, gro...</td>\n",
       "      <td>[Significant Growth Expected In The Photoiniti...</td>\n",
       "    </tr>\n",
       "    <tr>\n",
       "      <th>24</th>\n",
       "      <td>23</td>\n",
       "      <td>35</td>\n",
       "      <td>23_whatsapp_messages_instagram_reviews</td>\n",
       "      <td>[whatsapp, messages, instagram, reviews, messa...</td>\n",
       "      <td>[Snapchat introduces four new social engagemen...</td>\n",
       "    </tr>\n",
       "    <tr>\n",
       "      <th>25</th>\n",
       "      <td>24</td>\n",
       "      <td>35</td>\n",
       "      <td>24_project_course_career_manager</td>\n",
       "      <td>[project, course, career, manager, programming...</td>\n",
       "      <td>[Using data analysis to inform decisions - Dat...</td>\n",
       "    </tr>\n",
       "    <tr>\n",
       "      <th>26</th>\n",
       "      <td>25</td>\n",
       "      <td>32</td>\n",
       "      <td>25_tablet_ago_bestreviews_hours ago</td>\n",
       "      <td>[tablet, ago, bestreviews, hours ago, surface,...</td>\n",
       "      <td>[Best tablet accessories for reading | KTALnew...</td>\n",
       "    </tr>\n",
       "    <tr>\n",
       "      <th>27</th>\n",
       "      <td>26</td>\n",
       "      <td>31</td>\n",
       "      <td>26_metaverse_meta_virtual_reality</td>\n",
       "      <td>[metaverse, meta, virtual, reality, vr, art, 3...</td>\n",
       "      <td>[Satya Nadella: Metaverse is just games, reall...</td>\n",
       "    </tr>\n",
       "    <tr>\n",
       "      <th>28</th>\n",
       "      <td>27</td>\n",
       "      <td>30</td>\n",
       "      <td>27_bet_awards_music_award</td>\n",
       "      <td>[bet, awards, music, award, sunday, roe, rock,...</td>\n",
       "      <td>[CULTURE'S BIGGEST NIGHT, \"BET AWARDS\" 2022 DE...</td>\n",
       "    </tr>\n",
       "    <tr>\n",
       "      <th>29</th>\n",
       "      <td>28</td>\n",
       "      <td>30</td>\n",
       "      <td>28_forecast_2028_analysis_2027</td>\n",
       "      <td>[forecast, 2028, analysis, 2027, automotive, i...</td>\n",
       "      <td>[Global Orthopedics &amp; Trauma Implants Market R...</td>\n",
       "    </tr>\n",
       "    <tr>\n",
       "      <th>30</th>\n",
       "      <td>29</td>\n",
       "      <td>28</td>\n",
       "      <td>29_amd_intel_ryzen_core</td>\n",
       "      <td>[amd, intel, ryzen, core, cpu, gen, gaming, gr...</td>\n",
       "      <td>[Intel CPUs are clawing back sales as AMD seem...</td>\n",
       "    </tr>\n",
       "    <tr>\n",
       "      <th>31</th>\n",
       "      <td>30</td>\n",
       "      <td>28</td>\n",
       "      <td>30_new tab_tab_opens new_opens</td>\n",
       "      <td>[new tab, tab, opens new, opens, tv, cookie, s...</td>\n",
       "      <td>[How to watch Becoming Elizabeth - don’t miss ...</td>\n",
       "    </tr>\n",
       "    <tr>\n",
       "      <th>32</th>\n",
       "      <td>31</td>\n",
       "      <td>28</td>\n",
       "      <td>31_azure_react_install_arm</td>\n",
       "      <td>[azure, react, install, arm, packages, log, ap...</td>\n",
       "      <td>[@azure/iot-modelsrepository: Docs &amp; Reviews |...</td>\n",
       "    </tr>\n",
       "    <tr>\n",
       "      <th>33</th>\n",
       "      <td>32</td>\n",
       "      <td>26</td>\n",
       "      <td>32_java_chapter_writing_startups</td>\n",
       "      <td>[java, chapter, writing, startups, metaverse, ...</td>\n",
       "      <td>[korg | HackerNoon korg | HackerNoonStart Writ...</td>\n",
       "    </tr>\n",
       "    <tr>\n",
       "      <th>34</th>\n",
       "      <td>33</td>\n",
       "      <td>26</td>\n",
       "      <td>33_wi_iphone_windows_wi fi</td>\n",
       "      <td>[wi, iphone, windows, wi fi, fi, browse, artic...</td>\n",
       "      <td>[Get Ready For Better Background Blur in Web V...</td>\n",
       "    </tr>\n",
       "    <tr>\n",
       "      <th>35</th>\n",
       "      <td>34</td>\n",
       "      <td>26</td>\n",
       "      <td>34_russia_ukraine_russian_ukrainian</td>\n",
       "      <td>[russia, ukraine, russian, ukrainian, times, w...</td>\n",
       "      <td>[Russia targets ammunitions depot in western U...</td>\n",
       "    </tr>\n",
       "    <tr>\n",
       "      <th>36</th>\n",
       "      <td>35</td>\n",
       "      <td>26</td>\n",
       "      <td>35_omicron_covid_vaccine_covid 19</td>\n",
       "      <td>[omicron, covid, vaccine, covid 19, cases, isr...</td>\n",
       "      <td>[Cuba's vaccine coverage and focus on children...</td>\n",
       "    </tr>\n",
       "    <tr>\n",
       "      <th>37</th>\n",
       "      <td>36</td>\n",
       "      <td>25</td>\n",
       "      <td>36_prev_opinion_party_percent</td>\n",
       "      <td>[prev, opinion, party, percent, police, travel...</td>\n",
       "      <td>[COMRADES : WE HAVE BEEN INFILTRATED BY CCC ne...</td>\n",
       "    </tr>\n",
       "    <tr>\n",
       "      <th>38</th>\n",
       "      <td>37</td>\n",
       "      <td>23</td>\n",
       "      <td>37_abortion_travel_court_supreme</td>\n",
       "      <td>[abortion, travel, court, supreme, supreme cou...</td>\n",
       "      <td>[Why companies think paying for abortion trave...</td>\n",
       "    </tr>\n",
       "    <tr>\n",
       "      <th>39</th>\n",
       "      <td>38</td>\n",
       "      <td>23</td>\n",
       "      <td>38_philips_healthcare_care_clinical</td>\n",
       "      <td>[philips, healthcare, care, clinical, websites...</td>\n",
       "      <td>[Healthcare modeling and simulation | Philips ...</td>\n",
       "    </tr>\n",
       "    <tr>\n",
       "      <th>40</th>\n",
       "      <td>39</td>\n",
       "      <td>23</td>\n",
       "      <td>39_deals_amazon_prime_sale</td>\n",
       "      <td>[deals, amazon, prime, sale, prime day, tv, 4k...</td>\n",
       "      <td>[This Massive 75-Inch TV Is Only $698 at Walma...</td>\n",
       "    </tr>\n",
       "    <tr>\n",
       "      <th>41</th>\n",
       "      <td>40</td>\n",
       "      <td>22</td>\n",
       "      <td>40_musk_elon_elon musk_tesla</td>\n",
       "      <td>[musk, elon, elon musk, tesla, deal, billion, ...</td>\n",
       "      <td>[Report says Gates 'poured' millions into atta...</td>\n",
       "    </tr>\n",
       "    <tr>\n",
       "      <th>42</th>\n",
       "      <td>41</td>\n",
       "      <td>22</td>\n",
       "      <td>41_blockchain_analysis_forecast_growth</td>\n",
       "      <td>[blockchain, analysis, forecast, growth, langu...</td>\n",
       "      <td>[Compliance Testing Solutions Market Size, Sha...</td>\n",
       "    </tr>\n",
       "    <tr>\n",
       "      <th>43</th>\n",
       "      <td>42</td>\n",
       "      <td>21</td>\n",
       "      <td>42_news network_federal_network_located</td>\n",
       "      <td>[news network, federal, network, located, inte...</td>\n",
       "      <td>[No. 1 Auburn 55, Missouri 54 | Federal News N...</td>\n",
       "    </tr>\n",
       "    <tr>\n",
       "      <th>44</th>\n",
       "      <td>43</td>\n",
       "      <td>20</td>\n",
       "      <td>43_ohio_intel_taiwan_semiconductor</td>\n",
       "      <td>[ohio, intel, taiwan, semiconductor, memory, p...</td>\n",
       "      <td>[COMPUTEX 2022 Global Press Conference Industr...</td>\n",
       "    </tr>\n",
       "    <tr>\n",
       "      <th>45</th>\n",
       "      <td>44</td>\n",
       "      <td>20</td>\n",
       "      <td>44_cars_electric_francisco_tesla</td>\n",
       "      <td>[cars, electric, francisco, tesla, car, vehicl...</td>\n",
       "      <td>[Quick 5 Minutes of Diagnosing a Used American...</td>\n",
       "    </tr>\n",
       "    <tr>\n",
       "      <th>46</th>\n",
       "      <td>45</td>\n",
       "      <td>20</td>\n",
       "      <td>45_flight_5g_band_airlines</td>\n",
       "      <td>[flight, 5g, band, airlines, files, copyright,...</td>\n",
       "      <td>[FlightSim.Com - Simworks Studios - Vans RV-14...</td>\n",
       "    </tr>\n",
       "    <tr>\n",
       "      <th>47</th>\n",
       "      <td>46</td>\n",
       "      <td>19</td>\n",
       "      <td>46_shares_msft_nasdaq msft_nasdaq</td>\n",
       "      <td>[shares, msft, nasdaq msft, nasdaq, microsoft ...</td>\n",
       "      <td>[Oldfather Financial Services LLC Buys 138 Sha...</td>\n",
       "    </tr>\n",
       "    <tr>\n",
       "      <th>48</th>\n",
       "      <td>47</td>\n",
       "      <td>18</td>\n",
       "      <td>47_chapter_javascript_startups_art</td>\n",
       "      <td>[chapter, javascript, startups, art, writing, ...</td>\n",
       "      <td>[chanwesley | HackerNoon chanwesley | HackerNo...</td>\n",
       "    </tr>\n",
       "    <tr>\n",
       "      <th>49</th>\n",
       "      <td>48</td>\n",
       "      <td>17</td>\n",
       "      <td>48_africa_african_south_cookies</td>\n",
       "      <td>[africa, african, south, cookies, child, conse...</td>\n",
       "      <td>[Cellulant &amp; Jambojet to Give Away Over 600 Di...</td>\n",
       "    </tr>\n",
       "    <tr>\n",
       "      <th>50</th>\n",
       "      <td>49</td>\n",
       "      <td>16</td>\n",
       "      <td>49_lp_options_pr_symbol</td>\n",
       "      <td>[lp, options, pr, symbol, https www, https, tr...</td>\n",
       "      <td>[Thinking about trading options or stock in Ap...</td>\n",
       "    </tr>\n",
       "    <tr>\n",
       "      <th>51</th>\n",
       "      <td>50</td>\n",
       "      <td>16</td>\n",
       "      <td>50_industry_releases_distribution_cagr</td>\n",
       "      <td>[industry, releases, distribution, cagr, usd, ...</td>\n",
       "      <td>[   Global AI in Biopharmaceutical Development...</td>\n",
       "    </tr>\n",
       "    <tr>\n",
       "      <th>52</th>\n",
       "      <td>51</td>\n",
       "      <td>16</td>\n",
       "      <td>51_ipad_pro_macbook_iphone</td>\n",
       "      <td>[ipad, pro, macbook, iphone, display, models, ...</td>\n",
       "      <td>[Apple will continue the production of old iPa...</td>\n",
       "    </tr>\n",
       "    <tr>\n",
       "      <th>53</th>\n",
       "      <td>52</td>\n",
       "      <td>15</td>\n",
       "      <td>52_linux_ubuntu_04_open source</td>\n",
       "      <td>[linux, ubuntu, 04, open source, install, min,...</td>\n",
       "      <td>[6 Best Alternative Router Firmware that are O...</td>\n",
       "    </tr>\n",
       "    <tr>\n",
       "      <th>54</th>\n",
       "      <td>53</td>\n",
       "      <td>15</td>\n",
       "      <td>53_solar_renewable_energy_peace</td>\n",
       "      <td>[solar, renewable, energy, peace, climate, prn...</td>\n",
       "      <td>[First repeat Peace REC (P-REC) transaction to...</td>\n",
       "    </tr>\n",
       "  </tbody>\n",
       "</table>\n",
       "</div>"
      ],
      "text/plain": [
       "    Topic  Count                                       Name  \\\n",
       "0      -1   1519                  -1_ago_shares_stock_covid   \n",
       "1       0    306                       0_pm_game_games_xbox   \n",
       "2       1    239                 1_inflation_fed_stocks_oil   \n",
       "3       2    215                   2_link_new tab_opens_tab   \n",
       "4       3    213  3_seattle_times_seattle times_advertising   \n",
       "5       4    201          4_cloud_prnewswire_gray_customers   \n",
       "6       5    184      5_equities_password_username_register   \n",
       "7       6    150                    6_india_delhi_indian_rs   \n",
       "8       7    114           7_ago_cloudy_hours ago_weeks ago   \n",
       "9       8    111                 8_shares_nyse_stock_rating   \n",
       "10      9     85       9_times_seattle_seattle times_season   \n",
       "11     10     71    10_finance_yahoo_screener_yahoo finance   \n",
       "12     11     70             11_stocks_symbols_nasdaq_stock   \n",
       "13     12     68              12_galaxy_samsung_pro_oneplus   \n",
       "14     13     65    13_windows_windows 11_techrepublic_file   \n",
       "15     14     58               14_crypto_bitcoin_btc_traded   \n",
       "16     15     51             15_forbes_richest_paid_program   \n",
       "17     16     50            16_cyber_attack_attacks_malware   \n",
       "18     17     47       17_philips_accessories_care_pdf file   \n",
       "19     18     44                18_laptop_asus_core_surface   \n",
       "20     19     41          19_biden_trump_president_election   \n",
       "21     20     40            20_uefa_league_champions_cookie   \n",
       "22     21     39        21_ukraine_russia_russian_ukrainian   \n",
       "23     22     37   22_interests_marketing_medicine_products   \n",
       "24     23     35     23_whatsapp_messages_instagram_reviews   \n",
       "25     24     35           24_project_course_career_manager   \n",
       "26     25     32        25_tablet_ago_bestreviews_hours ago   \n",
       "27     26     31          26_metaverse_meta_virtual_reality   \n",
       "28     27     30                  27_bet_awards_music_award   \n",
       "29     28     30             28_forecast_2028_analysis_2027   \n",
       "30     29     28                    29_amd_intel_ryzen_core   \n",
       "31     30     28             30_new tab_tab_opens new_opens   \n",
       "32     31     28                 31_azure_react_install_arm   \n",
       "33     32     26           32_java_chapter_writing_startups   \n",
       "34     33     26                 33_wi_iphone_windows_wi fi   \n",
       "35     34     26        34_russia_ukraine_russian_ukrainian   \n",
       "36     35     26          35_omicron_covid_vaccine_covid 19   \n",
       "37     36     25              36_prev_opinion_party_percent   \n",
       "38     37     23           37_abortion_travel_court_supreme   \n",
       "39     38     23        38_philips_healthcare_care_clinical   \n",
       "40     39     23                 39_deals_amazon_prime_sale   \n",
       "41     40     22               40_musk_elon_elon musk_tesla   \n",
       "42     41     22     41_blockchain_analysis_forecast_growth   \n",
       "43     42     21    42_news network_federal_network_located   \n",
       "44     43     20         43_ohio_intel_taiwan_semiconductor   \n",
       "45     44     20           44_cars_electric_francisco_tesla   \n",
       "46     45     20                 45_flight_5g_band_airlines   \n",
       "47     46     19          46_shares_msft_nasdaq msft_nasdaq   \n",
       "48     47     18         47_chapter_javascript_startups_art   \n",
       "49     48     17            48_africa_african_south_cookies   \n",
       "50     49     16                    49_lp_options_pr_symbol   \n",
       "51     50     16     50_industry_releases_distribution_cagr   \n",
       "52     51     16                 51_ipad_pro_macbook_iphone   \n",
       "53     52     15             52_linux_ubuntu_04_open source   \n",
       "54     53     15            53_solar_renewable_energy_peace   \n",
       "\n",
       "                                       Representation  \\\n",
       "0   [ago, shares, stock, covid, growth, ukraine, n...   \n",
       "1   [pm, game, games, xbox, 2022 00, series, gamin...   \n",
       "2   [inflation, fed, stocks, oil, rates, td, bloom...   \n",
       "3   [link, new tab, opens, tab, opens new, subscri...   \n",
       "4   [seattle, times, seattle times, advertising, s...   \n",
       "5   [cloud, prnewswire, gray, customers, platform,...   \n",
       "6   [equities, password, username, register, nasda...   \n",
       "7   [india, delhi, indian, rs, live, crore, bjp, e...   \n",
       "8   [ago, cloudy, hours ago, weeks ago, antonio, p...   \n",
       "9   [shares, nyse, stock, rating, quarter, llc, na...   \n",
       "10  [times, seattle, seattle times, season, associ...   \n",
       "11  [finance, yahoo, screener, yahoo finance, stoc...   \n",
       "12  [stocks, symbols, nasdaq, stock, zacks, add, e...   \n",
       "13  [galaxy, samsung, pro, oneplus, samsung galaxy...   \n",
       "14  [windows, windows 11, techrepublic, file, tab,...   \n",
       "15  [crypto, bitcoin, btc, traded, dollar, trades,...   \n",
       "16  [forbes, richest, paid, program, insurance, cr...   \n",
       "17  [cyber, attack, attacks, malware, cybersecurit...   \n",
       "18  [philips, accessories, care, pdf file, pdf, pr...   \n",
       "19  [laptop, asus, core, surface, oled, intel, pro...   \n",
       "20  [biden, trump, president, election, 28 2022, g...   \n",
       "21  [uefa, league, champions, cookie, euro, champi...   \n",
       "22  [ukraine, russia, russian, ukrainian, attack, ...   \n",
       "23  [interests, marketing, medicine, products, gro...   \n",
       "24  [whatsapp, messages, instagram, reviews, messa...   \n",
       "25  [project, course, career, manager, programming...   \n",
       "26  [tablet, ago, bestreviews, hours ago, surface,...   \n",
       "27  [metaverse, meta, virtual, reality, vr, art, 3...   \n",
       "28  [bet, awards, music, award, sunday, roe, rock,...   \n",
       "29  [forecast, 2028, analysis, 2027, automotive, i...   \n",
       "30  [amd, intel, ryzen, core, cpu, gen, gaming, gr...   \n",
       "31  [new tab, tab, opens new, opens, tv, cookie, s...   \n",
       "32  [azure, react, install, arm, packages, log, ap...   \n",
       "33  [java, chapter, writing, startups, metaverse, ...   \n",
       "34  [wi, iphone, windows, wi fi, fi, browse, artic...   \n",
       "35  [russia, ukraine, russian, ukrainian, times, w...   \n",
       "36  [omicron, covid, vaccine, covid 19, cases, isr...   \n",
       "37  [prev, opinion, party, percent, police, travel...   \n",
       "38  [abortion, travel, court, supreme, supreme cou...   \n",
       "39  [philips, healthcare, care, clinical, websites...   \n",
       "40  [deals, amazon, prime, sale, prime day, tv, 4k...   \n",
       "41  [musk, elon, elon musk, tesla, deal, billion, ...   \n",
       "42  [blockchain, analysis, forecast, growth, langu...   \n",
       "43  [news network, federal, network, located, inte...   \n",
       "44  [ohio, intel, taiwan, semiconductor, memory, p...   \n",
       "45  [cars, electric, francisco, tesla, car, vehicl...   \n",
       "46  [flight, 5g, band, airlines, files, copyright,...   \n",
       "47  [shares, msft, nasdaq msft, nasdaq, microsoft ...   \n",
       "48  [chapter, javascript, startups, art, writing, ...   \n",
       "49  [africa, african, south, cookies, child, conse...   \n",
       "50  [lp, options, pr, symbol, https www, https, tr...   \n",
       "51  [industry, releases, distribution, cagr, usd, ...   \n",
       "52  [ipad, pro, macbook, iphone, display, models, ...   \n",
       "53  [linux, ubuntu, 04, open source, install, min,...   \n",
       "54  [solar, renewable, energy, peace, climate, prn...   \n",
       "\n",
       "                                  Representative_Docs  \n",
       "0   [Tornado hits Zierikzee, the Netherlands: One ...  \n",
       "1   [Canadian streamer xQc spent two hours on 'slo...  \n",
       "2   [European Stocks Retreat as Investors Weigh Ea...  \n",
       "3   [Hoda Kotb and Jenna Bush Hager Tease Ina Gart...  \n",
       "4   [Twin earthquakes in western Afghanistan kill ...  \n",
       "5   [Lookout to Exhibit Data-Centric Cloud Securit...  \n",
       "6   [Hawaiian, (HA) gains 4.27% for February 24 | ...  \n",
       "7   [Medical colleges Tamil Nadu Chennai inaugurat...  \n",
       "8   [What we know about mass school shootings in t...  \n",
       "9   [Daiwa Securities Group Inc. Raises Stock Hold...  \n",
       "10  [Ravens part ways with defensive coordinator D...  \n",
       "11  [Sampo plc’s share buybacks 18/01/2022 Sampo p...  \n",
       "12  [Here's What Could Help Immunocore Holdings PL...  \n",
       "13  [Samsung Galaxy S22 Ultra Gets Run Over by a C...  \n",
       "14  [Find Things Faster: How to Search in Windows ...  \n",
       "15  [STATERA 24-Hour Volume Hits $120,790.00 (STA)...  \n",
       "16  [The Future Of Diversity And Inclusion In Corp...  \n",
       "17  [XM Cyber Reveals Hidden Attack Paths Using Ac...  \n",
       "18  [Visit the support page for your CP6966/01 | P...  \n",
       "19  [HP AMD Athlon 3020e 14\" Touch Laptop for $250...  \n",
       "20  [Alert: Biden's 'Biggest Fear' for Ukraine War...  \n",
       "21  [Barcelona 5-1 Wolfsburg: Holders open up firs...  \n",
       "22  [Russia state TV paints Moscow as savior of ea...  \n",
       "23  [Significant Growth Expected In The Photoiniti...  \n",
       "24  [Snapchat introduces four new social engagemen...  \n",
       "25  [Using data analysis to inform decisions - Dat...  \n",
       "26  [Best tablet accessories for reading | KTALnew...  \n",
       "27  [Satya Nadella: Metaverse is just games, reall...  \n",
       "28  [CULTURE'S BIGGEST NIGHT, \"BET AWARDS\" 2022 DE...  \n",
       "29  [Global Orthopedics & Trauma Implants Market R...  \n",
       "30  [Intel CPUs are clawing back sales as AMD seem...  \n",
       "31  [How to watch Becoming Elizabeth - don’t miss ...  \n",
       "32  [@azure/iot-modelsrepository: Docs & Reviews |...  \n",
       "33  [korg | HackerNoon korg | HackerNoonStart Writ...  \n",
       "34  [Get Ready For Better Background Blur in Web V...  \n",
       "35  [Russia targets ammunitions depot in western U...  \n",
       "36  [Cuba's vaccine coverage and focus on children...  \n",
       "37  [COMRADES : WE HAVE BEEN INFILTRATED BY CCC ne...  \n",
       "38  [Why companies think paying for abortion trave...  \n",
       "39  [Healthcare modeling and simulation | Philips ...  \n",
       "40  [This Massive 75-Inch TV Is Only $698 at Walma...  \n",
       "41  [Report says Gates 'poured' millions into atta...  \n",
       "42  [Compliance Testing Solutions Market Size, Sha...  \n",
       "43  [No. 1 Auburn 55, Missouri 54 | Federal News N...  \n",
       "44  [COMPUTEX 2022 Global Press Conference Industr...  \n",
       "45  [Quick 5 Minutes of Diagnosing a Used American...  \n",
       "46  [FlightSim.Com - Simworks Studios - Vans RV-14...  \n",
       "47  [Oldfather Financial Services LLC Buys 138 Sha...  \n",
       "48  [chanwesley | HackerNoon chanwesley | HackerNo...  \n",
       "49  [Cellulant & Jambojet to Give Away Over 600 Di...  \n",
       "50  [Thinking about trading options or stock in Ap...  \n",
       "51  [   Global AI in Biopharmaceutical Development...  \n",
       "52  [Apple will continue the production of old iPa...  \n",
       "53  [6 Best Alternative Router Firmware that are O...  \n",
       "54  [First repeat Peace REC (P-REC) transaction to...  "
      ]
     },
     "execution_count": 142,
     "metadata": {},
     "output_type": "execute_result"
    }
   ],
   "source": [
    "topic_model.get_topic_info()"
   ]
  },
  {
   "cell_type": "code",
   "execution_count": 143,
   "metadata": {},
   "outputs": [
    {
     "data": {
      "application/vnd.plotly.v1+json": {
       "config": {
        "plotlyServerURL": "https://plot.ly"
       },
       "data": [
        {
         "customdata": [
          [
           0,
           "pm | game | games | xbox | 2022 00",
           306
          ],
          [
           1,
           "inflation | fed | stocks | oil | rates",
           239
          ],
          [
           2,
           "link | new tab | opens | tab | opens new",
           215
          ],
          [
           3,
           "seattle | times | seattle times | advertising | streamingcomicsgames",
           213
          ],
          [
           4,
           "cloud | prnewswire | gray | customers | platform",
           201
          ],
          [
           5,
           "equities | password | username | register | nasdaq",
           184
          ],
          [
           6,
           "india | delhi | indian | rs | live",
           150
          ],
          [
           7,
           "ago | cloudy | hours ago | weeks ago | antonio",
           114
          ],
          [
           8,
           "shares | nyse | stock | rating | quarter",
           111
          ],
          [
           9,
           "times | seattle | seattle times | season | associated",
           85
          ],
          [
           10,
           "finance | yahoo | screener | yahoo finance | stocks",
           71
          ],
          [
           11,
           "stocks | symbols | nasdaq | stock | zacks",
           70
          ],
          [
           12,
           "galaxy | samsung | pro | oneplus | samsung galaxy",
           68
          ],
          [
           13,
           "windows | windows 11 | techrepublic | file | tab",
           65
          ],
          [
           14,
           "crypto | bitcoin | btc | traded | dollar",
           58
          ],
          [
           15,
           "forbes | richest | paid | program | insurance",
           51
          ],
          [
           16,
           "cyber | attack | attacks | malware | cybersecurity",
           50
          ],
          [
           17,
           "philips | accessories | care | pdf file | pdf",
           47
          ],
          [
           18,
           "laptop | asus | core | surface | oled",
           44
          ],
          [
           19,
           "biden | trump | president | election | 28 2022",
           41
          ],
          [
           20,
           "uefa | league | champions | cookie | euro",
           40
          ],
          [
           21,
           "ukraine | russia | russian | ukrainian | attack",
           39
          ],
          [
           22,
           "interests | marketing | medicine | products | growth",
           37
          ],
          [
           23,
           "whatsapp | messages | instagram | reviews | message",
           35
          ],
          [
           24,
           "project | course | career | manager | programming",
           35
          ],
          [
           25,
           "tablet | ago | bestreviews | hours ago | surface",
           32
          ],
          [
           26,
           "metaverse | meta | virtual | reality | vr",
           31
          ],
          [
           27,
           "bet | awards | music | award | sunday",
           30
          ],
          [
           28,
           "forecast | 2028 | analysis | 2027 | automotive",
           30
          ],
          [
           29,
           "amd | intel | ryzen | core | cpu",
           28
          ],
          [
           30,
           "new tab | tab | opens new | opens | tv",
           28
          ],
          [
           31,
           "azure | react | install | arm | packages",
           28
          ],
          [
           32,
           "java | chapter | writing | startups | metaverse",
           26
          ],
          [
           33,
           "wi | iphone | windows | wi fi | fi",
           26
          ],
          [
           34,
           "russia | ukraine | russian | ukrainian | times",
           26
          ],
          [
           35,
           "omicron | covid | vaccine | covid 19 | cases",
           26
          ],
          [
           36,
           "prev | opinion | party | percent | police",
           25
          ],
          [
           37,
           "abortion | travel | court | supreme | supreme court",
           23
          ],
          [
           38,
           "philips | healthcare | care | clinical | websites",
           23
          ],
          [
           39,
           "deals | amazon | prime | sale | prime day",
           23
          ],
          [
           40,
           "musk | elon | elon musk | tesla | deal",
           22
          ],
          [
           41,
           "blockchain | analysis | forecast | growth | language",
           22
          ],
          [
           42,
           "news network | federal | network | located | intended",
           21
          ],
          [
           43,
           "ohio | intel | taiwan | semiconductor | memory",
           20
          ],
          [
           44,
           "cars | electric | francisco | tesla | car",
           20
          ],
          [
           45,
           "flight | 5g | band | airlines | files",
           20
          ],
          [
           46,
           "shares | msft | nasdaq msft | nasdaq | microsoft nasdaq",
           19
          ],
          [
           47,
           "chapter | javascript | startups | art | writing",
           18
          ],
          [
           48,
           "africa | african | south | cookies | child",
           17
          ],
          [
           49,
           "lp | options | pr | symbol | https www",
           16
          ],
          [
           50,
           "industry | releases | distribution | cagr | usd",
           16
          ],
          [
           51,
           "ipad | pro | macbook | iphone | display",
           16
          ],
          [
           52,
           "linux | ubuntu | 04 | open source | install",
           15
          ],
          [
           53,
           "solar | renewable | energy | peace | climate",
           15
          ]
         ],
         "hovertemplate": "<b>Topic %{customdata[0]}</b><br>%{customdata[1]}<br>Size: %{customdata[2]}",
         "legendgroup": "",
         "marker": {
          "color": "#B0BEC5",
          "line": {
           "color": "DarkSlateGrey",
           "width": 2
          },
          "size": {
           "bdata": "MgHvANcA1QDJALgAlgByAG8AVQBHAEYARABBADoAMwAyAC8ALAApACgAJwAlACMAIwAgAB8AHgAeABwAHAAcABoAGgAaABoAGQAXABcAFwAWABYAFQAUABQAFAATABIAEQAQABAAEAAPAA8A",
           "dtype": "i2"
          },
          "sizemode": "area",
          "sizeref": 0.19125,
          "symbol": "circle"
         },
         "mode": "markers",
         "name": "",
         "orientation": "v",
         "showlegend": false,
         "type": "scatter",
         "x": {
          "bdata": "jYKAQIumVMCh9ibBCvidv6uGmUAwJHjAMMUqwTS7I8HD54TAooKOv2kbRcDdmFbAs7uOQAfHokE53z7ALkY7wFgjkkCfuKxA4h+RQGiRI8EpgyPBtTS7v/fgCsAGpKVBMraNQJZ1m0AdIIZAZLUkwYQrAMA+1pNAZAx3QL2xj0A49GNBTMakQdtipr9BxSrBIZ2xwEmhJMFk56ZA0WOSQFBsVcCF/QPAD0MhwfZCnEDCNY5A9iaZQA4tjMDx9GNBNymxwM5kZsCBwui/E9aOQFD0oUGkyJZA",
          "dtype": "f4"
         },
         "xaxis": "x",
         "y": {
          "bdata": "LejVP3kTcUHw4KLA8j7oP8MeRD8xQHdBD2TLP/ywsMDjwnZBeJT2P4dEfUHD8ndBujVWQRSO7kBqiH9Byh+AQf+fDj9rnRg+4SRNQUCYwsBnKbLAFMzMP6YdGUF2AvpAiUmePvHAUEFQHbQ/QdOowLbKG0FKZElBkCfxPy6/iD+BBiE/4Ir2QHk44T+YY8s/toQ7wJQfxMBZcYE+QdNOQW38bkGC1BpB1EjMwBt2Sz8YPSU/mAG+PtT/c0E8BiE/RPY6wPJfekEjux5B125XQZBD60DkyGE/",
          "dtype": "f4"
         },
         "yaxis": "y"
        }
       ],
       "layout": {
        "annotations": [
         {
          "showarrow": false,
          "text": "D1",
          "x": -12.274131345748902,
          "y": 5.538188314437867,
          "yshift": 10
         },
         {
          "showarrow": false,
          "text": "D2",
          "x": 5.768360829353332,
          "xshift": 10,
          "y": 18.417850303649903
         }
        ],
        "height": 650,
        "hoverlabel": {
         "bgcolor": "white",
         "font": {
          "family": "Rockwell",
          "size": 16
         }
        },
        "legend": {
         "itemsizing": "constant",
         "tracegroupgap": 0
        },
        "margin": {
         "t": 60
        },
        "shapes": [
         {
          "line": {
           "color": "#CFD8DC",
           "width": 2
          },
          "type": "line",
          "x0": 5.768360829353332,
          "x1": 5.768360829353332,
          "y0": -7.34147367477417,
          "y1": 18.417850303649903
         },
         {
          "line": {
           "color": "#9E9E9E",
           "width": 2
          },
          "type": "line",
          "x0": -12.274131345748902,
          "x1": 23.810853004455566,
          "y0": 5.538188314437867,
          "y1": 5.538188314437867
         }
        ],
        "sliders": [
         {
          "active": 0,
          "pad": {
           "t": 50
          },
          "steps": [
           {
            "args": [
             {
              "marker.color": [
               [
                "red",
                "#B0BEC5",
                "#B0BEC5",
                "#B0BEC5",
                "#B0BEC5",
                "#B0BEC5",
                "#B0BEC5",
                "#B0BEC5",
                "#B0BEC5",
                "#B0BEC5",
                "#B0BEC5",
                "#B0BEC5",
                "#B0BEC5",
                "#B0BEC5",
                "#B0BEC5",
                "#B0BEC5",
                "#B0BEC5",
                "#B0BEC5",
                "#B0BEC5",
                "#B0BEC5",
                "#B0BEC5",
                "#B0BEC5",
                "#B0BEC5",
                "#B0BEC5",
                "#B0BEC5",
                "#B0BEC5",
                "#B0BEC5",
                "#B0BEC5",
                "#B0BEC5",
                "#B0BEC5",
                "#B0BEC5",
                "#B0BEC5",
                "#B0BEC5",
                "#B0BEC5",
                "#B0BEC5",
                "#B0BEC5",
                "#B0BEC5",
                "#B0BEC5",
                "#B0BEC5",
                "#B0BEC5",
                "#B0BEC5",
                "#B0BEC5",
                "#B0BEC5",
                "#B0BEC5",
                "#B0BEC5",
                "#B0BEC5",
                "#B0BEC5",
                "#B0BEC5",
                "#B0BEC5",
                "#B0BEC5",
                "#B0BEC5",
                "#B0BEC5",
                "#B0BEC5",
                "#B0BEC5"
               ]
              ]
             }
            ],
            "label": "Topic 0",
            "method": "update"
           },
           {
            "args": [
             {
              "marker.color": [
               [
                "#B0BEC5",
                "red",
                "#B0BEC5",
                "#B0BEC5",
                "#B0BEC5",
                "#B0BEC5",
                "#B0BEC5",
                "#B0BEC5",
                "#B0BEC5",
                "#B0BEC5",
                "#B0BEC5",
                "#B0BEC5",
                "#B0BEC5",
                "#B0BEC5",
                "#B0BEC5",
                "#B0BEC5",
                "#B0BEC5",
                "#B0BEC5",
                "#B0BEC5",
                "#B0BEC5",
                "#B0BEC5",
                "#B0BEC5",
                "#B0BEC5",
                "#B0BEC5",
                "#B0BEC5",
                "#B0BEC5",
                "#B0BEC5",
                "#B0BEC5",
                "#B0BEC5",
                "#B0BEC5",
                "#B0BEC5",
                "#B0BEC5",
                "#B0BEC5",
                "#B0BEC5",
                "#B0BEC5",
                "#B0BEC5",
                "#B0BEC5",
                "#B0BEC5",
                "#B0BEC5",
                "#B0BEC5",
                "#B0BEC5",
                "#B0BEC5",
                "#B0BEC5",
                "#B0BEC5",
                "#B0BEC5",
                "#B0BEC5",
                "#B0BEC5",
                "#B0BEC5",
                "#B0BEC5",
                "#B0BEC5",
                "#B0BEC5",
                "#B0BEC5",
                "#B0BEC5",
                "#B0BEC5"
               ]
              ]
             }
            ],
            "label": "Topic 1",
            "method": "update"
           },
           {
            "args": [
             {
              "marker.color": [
               [
                "#B0BEC5",
                "#B0BEC5",
                "red",
                "#B0BEC5",
                "#B0BEC5",
                "#B0BEC5",
                "#B0BEC5",
                "#B0BEC5",
                "#B0BEC5",
                "#B0BEC5",
                "#B0BEC5",
                "#B0BEC5",
                "#B0BEC5",
                "#B0BEC5",
                "#B0BEC5",
                "#B0BEC5",
                "#B0BEC5",
                "#B0BEC5",
                "#B0BEC5",
                "#B0BEC5",
                "#B0BEC5",
                "#B0BEC5",
                "#B0BEC5",
                "#B0BEC5",
                "#B0BEC5",
                "#B0BEC5",
                "#B0BEC5",
                "#B0BEC5",
                "#B0BEC5",
                "#B0BEC5",
                "#B0BEC5",
                "#B0BEC5",
                "#B0BEC5",
                "#B0BEC5",
                "#B0BEC5",
                "#B0BEC5",
                "#B0BEC5",
                "#B0BEC5",
                "#B0BEC5",
                "#B0BEC5",
                "#B0BEC5",
                "#B0BEC5",
                "#B0BEC5",
                "#B0BEC5",
                "#B0BEC5",
                "#B0BEC5",
                "#B0BEC5",
                "#B0BEC5",
                "#B0BEC5",
                "#B0BEC5",
                "#B0BEC5",
                "#B0BEC5",
                "#B0BEC5",
                "#B0BEC5"
               ]
              ]
             }
            ],
            "label": "Topic 2",
            "method": "update"
           },
           {
            "args": [
             {
              "marker.color": [
               [
                "#B0BEC5",
                "#B0BEC5",
                "#B0BEC5",
                "red",
                "#B0BEC5",
                "#B0BEC5",
                "#B0BEC5",
                "#B0BEC5",
                "#B0BEC5",
                "#B0BEC5",
                "#B0BEC5",
                "#B0BEC5",
                "#B0BEC5",
                "#B0BEC5",
                "#B0BEC5",
                "#B0BEC5",
                "#B0BEC5",
                "#B0BEC5",
                "#B0BEC5",
                "#B0BEC5",
                "#B0BEC5",
                "#B0BEC5",
                "#B0BEC5",
                "#B0BEC5",
                "#B0BEC5",
                "#B0BEC5",
                "#B0BEC5",
                "#B0BEC5",
                "#B0BEC5",
                "#B0BEC5",
                "#B0BEC5",
                "#B0BEC5",
                "#B0BEC5",
                "#B0BEC5",
                "#B0BEC5",
                "#B0BEC5",
                "#B0BEC5",
                "#B0BEC5",
                "#B0BEC5",
                "#B0BEC5",
                "#B0BEC5",
                "#B0BEC5",
                "#B0BEC5",
                "#B0BEC5",
                "#B0BEC5",
                "#B0BEC5",
                "#B0BEC5",
                "#B0BEC5",
                "#B0BEC5",
                "#B0BEC5",
                "#B0BEC5",
                "#B0BEC5",
                "#B0BEC5",
                "#B0BEC5"
               ]
              ]
             }
            ],
            "label": "Topic 3",
            "method": "update"
           },
           {
            "args": [
             {
              "marker.color": [
               [
                "#B0BEC5",
                "#B0BEC5",
                "#B0BEC5",
                "#B0BEC5",
                "red",
                "#B0BEC5",
                "#B0BEC5",
                "#B0BEC5",
                "#B0BEC5",
                "#B0BEC5",
                "#B0BEC5",
                "#B0BEC5",
                "#B0BEC5",
                "#B0BEC5",
                "#B0BEC5",
                "#B0BEC5",
                "#B0BEC5",
                "#B0BEC5",
                "#B0BEC5",
                "#B0BEC5",
                "#B0BEC5",
                "#B0BEC5",
                "#B0BEC5",
                "#B0BEC5",
                "#B0BEC5",
                "#B0BEC5",
                "#B0BEC5",
                "#B0BEC5",
                "#B0BEC5",
                "#B0BEC5",
                "#B0BEC5",
                "#B0BEC5",
                "#B0BEC5",
                "#B0BEC5",
                "#B0BEC5",
                "#B0BEC5",
                "#B0BEC5",
                "#B0BEC5",
                "#B0BEC5",
                "#B0BEC5",
                "#B0BEC5",
                "#B0BEC5",
                "#B0BEC5",
                "#B0BEC5",
                "#B0BEC5",
                "#B0BEC5",
                "#B0BEC5",
                "#B0BEC5",
                "#B0BEC5",
                "#B0BEC5",
                "#B0BEC5",
                "#B0BEC5",
                "#B0BEC5",
                "#B0BEC5"
               ]
              ]
             }
            ],
            "label": "Topic 4",
            "method": "update"
           },
           {
            "args": [
             {
              "marker.color": [
               [
                "#B0BEC5",
                "#B0BEC5",
                "#B0BEC5",
                "#B0BEC5",
                "#B0BEC5",
                "red",
                "#B0BEC5",
                "#B0BEC5",
                "#B0BEC5",
                "#B0BEC5",
                "#B0BEC5",
                "#B0BEC5",
                "#B0BEC5",
                "#B0BEC5",
                "#B0BEC5",
                "#B0BEC5",
                "#B0BEC5",
                "#B0BEC5",
                "#B0BEC5",
                "#B0BEC5",
                "#B0BEC5",
                "#B0BEC5",
                "#B0BEC5",
                "#B0BEC5",
                "#B0BEC5",
                "#B0BEC5",
                "#B0BEC5",
                "#B0BEC5",
                "#B0BEC5",
                "#B0BEC5",
                "#B0BEC5",
                "#B0BEC5",
                "#B0BEC5",
                "#B0BEC5",
                "#B0BEC5",
                "#B0BEC5",
                "#B0BEC5",
                "#B0BEC5",
                "#B0BEC5",
                "#B0BEC5",
                "#B0BEC5",
                "#B0BEC5",
                "#B0BEC5",
                "#B0BEC5",
                "#B0BEC5",
                "#B0BEC5",
                "#B0BEC5",
                "#B0BEC5",
                "#B0BEC5",
                "#B0BEC5",
                "#B0BEC5",
                "#B0BEC5",
                "#B0BEC5",
                "#B0BEC5"
               ]
              ]
             }
            ],
            "label": "Topic 5",
            "method": "update"
           },
           {
            "args": [
             {
              "marker.color": [
               [
                "#B0BEC5",
                "#B0BEC5",
                "#B0BEC5",
                "#B0BEC5",
                "#B0BEC5",
                "#B0BEC5",
                "red",
                "#B0BEC5",
                "#B0BEC5",
                "#B0BEC5",
                "#B0BEC5",
                "#B0BEC5",
                "#B0BEC5",
                "#B0BEC5",
                "#B0BEC5",
                "#B0BEC5",
                "#B0BEC5",
                "#B0BEC5",
                "#B0BEC5",
                "#B0BEC5",
                "#B0BEC5",
                "#B0BEC5",
                "#B0BEC5",
                "#B0BEC5",
                "#B0BEC5",
                "#B0BEC5",
                "#B0BEC5",
                "#B0BEC5",
                "#B0BEC5",
                "#B0BEC5",
                "#B0BEC5",
                "#B0BEC5",
                "#B0BEC5",
                "#B0BEC5",
                "#B0BEC5",
                "#B0BEC5",
                "#B0BEC5",
                "#B0BEC5",
                "#B0BEC5",
                "#B0BEC5",
                "#B0BEC5",
                "#B0BEC5",
                "#B0BEC5",
                "#B0BEC5",
                "#B0BEC5",
                "#B0BEC5",
                "#B0BEC5",
                "#B0BEC5",
                "#B0BEC5",
                "#B0BEC5",
                "#B0BEC5",
                "#B0BEC5",
                "#B0BEC5",
                "#B0BEC5"
               ]
              ]
             }
            ],
            "label": "Topic 6",
            "method": "update"
           },
           {
            "args": [
             {
              "marker.color": [
               [
                "#B0BEC5",
                "#B0BEC5",
                "#B0BEC5",
                "#B0BEC5",
                "#B0BEC5",
                "#B0BEC5",
                "#B0BEC5",
                "red",
                "#B0BEC5",
                "#B0BEC5",
                "#B0BEC5",
                "#B0BEC5",
                "#B0BEC5",
                "#B0BEC5",
                "#B0BEC5",
                "#B0BEC5",
                "#B0BEC5",
                "#B0BEC5",
                "#B0BEC5",
                "#B0BEC5",
                "#B0BEC5",
                "#B0BEC5",
                "#B0BEC5",
                "#B0BEC5",
                "#B0BEC5",
                "#B0BEC5",
                "#B0BEC5",
                "#B0BEC5",
                "#B0BEC5",
                "#B0BEC5",
                "#B0BEC5",
                "#B0BEC5",
                "#B0BEC5",
                "#B0BEC5",
                "#B0BEC5",
                "#B0BEC5",
                "#B0BEC5",
                "#B0BEC5",
                "#B0BEC5",
                "#B0BEC5",
                "#B0BEC5",
                "#B0BEC5",
                "#B0BEC5",
                "#B0BEC5",
                "#B0BEC5",
                "#B0BEC5",
                "#B0BEC5",
                "#B0BEC5",
                "#B0BEC5",
                "#B0BEC5",
                "#B0BEC5",
                "#B0BEC5",
                "#B0BEC5",
                "#B0BEC5"
               ]
              ]
             }
            ],
            "label": "Topic 7",
            "method": "update"
           },
           {
            "args": [
             {
              "marker.color": [
               [
                "#B0BEC5",
                "#B0BEC5",
                "#B0BEC5",
                "#B0BEC5",
                "#B0BEC5",
                "#B0BEC5",
                "#B0BEC5",
                "#B0BEC5",
                "red",
                "#B0BEC5",
                "#B0BEC5",
                "#B0BEC5",
                "#B0BEC5",
                "#B0BEC5",
                "#B0BEC5",
                "#B0BEC5",
                "#B0BEC5",
                "#B0BEC5",
                "#B0BEC5",
                "#B0BEC5",
                "#B0BEC5",
                "#B0BEC5",
                "#B0BEC5",
                "#B0BEC5",
                "#B0BEC5",
                "#B0BEC5",
                "#B0BEC5",
                "#B0BEC5",
                "#B0BEC5",
                "#B0BEC5",
                "#B0BEC5",
                "#B0BEC5",
                "#B0BEC5",
                "#B0BEC5",
                "#B0BEC5",
                "#B0BEC5",
                "#B0BEC5",
                "#B0BEC5",
                "#B0BEC5",
                "#B0BEC5",
                "#B0BEC5",
                "#B0BEC5",
                "#B0BEC5",
                "#B0BEC5",
                "#B0BEC5",
                "#B0BEC5",
                "#B0BEC5",
                "#B0BEC5",
                "#B0BEC5",
                "#B0BEC5",
                "#B0BEC5",
                "#B0BEC5",
                "#B0BEC5",
                "#B0BEC5"
               ]
              ]
             }
            ],
            "label": "Topic 8",
            "method": "update"
           },
           {
            "args": [
             {
              "marker.color": [
               [
                "#B0BEC5",
                "#B0BEC5",
                "#B0BEC5",
                "#B0BEC5",
                "#B0BEC5",
                "#B0BEC5",
                "#B0BEC5",
                "#B0BEC5",
                "#B0BEC5",
                "red",
                "#B0BEC5",
                "#B0BEC5",
                "#B0BEC5",
                "#B0BEC5",
                "#B0BEC5",
                "#B0BEC5",
                "#B0BEC5",
                "#B0BEC5",
                "#B0BEC5",
                "#B0BEC5",
                "#B0BEC5",
                "#B0BEC5",
                "#B0BEC5",
                "#B0BEC5",
                "#B0BEC5",
                "#B0BEC5",
                "#B0BEC5",
                "#B0BEC5",
                "#B0BEC5",
                "#B0BEC5",
                "#B0BEC5",
                "#B0BEC5",
                "#B0BEC5",
                "#B0BEC5",
                "#B0BEC5",
                "#B0BEC5",
                "#B0BEC5",
                "#B0BEC5",
                "#B0BEC5",
                "#B0BEC5",
                "#B0BEC5",
                "#B0BEC5",
                "#B0BEC5",
                "#B0BEC5",
                "#B0BEC5",
                "#B0BEC5",
                "#B0BEC5",
                "#B0BEC5",
                "#B0BEC5",
                "#B0BEC5",
                "#B0BEC5",
                "#B0BEC5",
                "#B0BEC5",
                "#B0BEC5"
               ]
              ]
             }
            ],
            "label": "Topic 9",
            "method": "update"
           },
           {
            "args": [
             {
              "marker.color": [
               [
                "#B0BEC5",
                "#B0BEC5",
                "#B0BEC5",
                "#B0BEC5",
                "#B0BEC5",
                "#B0BEC5",
                "#B0BEC5",
                "#B0BEC5",
                "#B0BEC5",
                "#B0BEC5",
                "red",
                "#B0BEC5",
                "#B0BEC5",
                "#B0BEC5",
                "#B0BEC5",
                "#B0BEC5",
                "#B0BEC5",
                "#B0BEC5",
                "#B0BEC5",
                "#B0BEC5",
                "#B0BEC5",
                "#B0BEC5",
                "#B0BEC5",
                "#B0BEC5",
                "#B0BEC5",
                "#B0BEC5",
                "#B0BEC5",
                "#B0BEC5",
                "#B0BEC5",
                "#B0BEC5",
                "#B0BEC5",
                "#B0BEC5",
                "#B0BEC5",
                "#B0BEC5",
                "#B0BEC5",
                "#B0BEC5",
                "#B0BEC5",
                "#B0BEC5",
                "#B0BEC5",
                "#B0BEC5",
                "#B0BEC5",
                "#B0BEC5",
                "#B0BEC5",
                "#B0BEC5",
                "#B0BEC5",
                "#B0BEC5",
                "#B0BEC5",
                "#B0BEC5",
                "#B0BEC5",
                "#B0BEC5",
                "#B0BEC5",
                "#B0BEC5",
                "#B0BEC5",
                "#B0BEC5"
               ]
              ]
             }
            ],
            "label": "Topic 10",
            "method": "update"
           },
           {
            "args": [
             {
              "marker.color": [
               [
                "#B0BEC5",
                "#B0BEC5",
                "#B0BEC5",
                "#B0BEC5",
                "#B0BEC5",
                "#B0BEC5",
                "#B0BEC5",
                "#B0BEC5",
                "#B0BEC5",
                "#B0BEC5",
                "#B0BEC5",
                "red",
                "#B0BEC5",
                "#B0BEC5",
                "#B0BEC5",
                "#B0BEC5",
                "#B0BEC5",
                "#B0BEC5",
                "#B0BEC5",
                "#B0BEC5",
                "#B0BEC5",
                "#B0BEC5",
                "#B0BEC5",
                "#B0BEC5",
                "#B0BEC5",
                "#B0BEC5",
                "#B0BEC5",
                "#B0BEC5",
                "#B0BEC5",
                "#B0BEC5",
                "#B0BEC5",
                "#B0BEC5",
                "#B0BEC5",
                "#B0BEC5",
                "#B0BEC5",
                "#B0BEC5",
                "#B0BEC5",
                "#B0BEC5",
                "#B0BEC5",
                "#B0BEC5",
                "#B0BEC5",
                "#B0BEC5",
                "#B0BEC5",
                "#B0BEC5",
                "#B0BEC5",
                "#B0BEC5",
                "#B0BEC5",
                "#B0BEC5",
                "#B0BEC5",
                "#B0BEC5",
                "#B0BEC5",
                "#B0BEC5",
                "#B0BEC5",
                "#B0BEC5"
               ]
              ]
             }
            ],
            "label": "Topic 11",
            "method": "update"
           },
           {
            "args": [
             {
              "marker.color": [
               [
                "#B0BEC5",
                "#B0BEC5",
                "#B0BEC5",
                "#B0BEC5",
                "#B0BEC5",
                "#B0BEC5",
                "#B0BEC5",
                "#B0BEC5",
                "#B0BEC5",
                "#B0BEC5",
                "#B0BEC5",
                "#B0BEC5",
                "red",
                "#B0BEC5",
                "#B0BEC5",
                "#B0BEC5",
                "#B0BEC5",
                "#B0BEC5",
                "#B0BEC5",
                "#B0BEC5",
                "#B0BEC5",
                "#B0BEC5",
                "#B0BEC5",
                "#B0BEC5",
                "#B0BEC5",
                "#B0BEC5",
                "#B0BEC5",
                "#B0BEC5",
                "#B0BEC5",
                "#B0BEC5",
                "#B0BEC5",
                "#B0BEC5",
                "#B0BEC5",
                "#B0BEC5",
                "#B0BEC5",
                "#B0BEC5",
                "#B0BEC5",
                "#B0BEC5",
                "#B0BEC5",
                "#B0BEC5",
                "#B0BEC5",
                "#B0BEC5",
                "#B0BEC5",
                "#B0BEC5",
                "#B0BEC5",
                "#B0BEC5",
                "#B0BEC5",
                "#B0BEC5",
                "#B0BEC5",
                "#B0BEC5",
                "#B0BEC5",
                "#B0BEC5",
                "#B0BEC5",
                "#B0BEC5"
               ]
              ]
             }
            ],
            "label": "Topic 12",
            "method": "update"
           },
           {
            "args": [
             {
              "marker.color": [
               [
                "#B0BEC5",
                "#B0BEC5",
                "#B0BEC5",
                "#B0BEC5",
                "#B0BEC5",
                "#B0BEC5",
                "#B0BEC5",
                "#B0BEC5",
                "#B0BEC5",
                "#B0BEC5",
                "#B0BEC5",
                "#B0BEC5",
                "#B0BEC5",
                "red",
                "#B0BEC5",
                "#B0BEC5",
                "#B0BEC5",
                "#B0BEC5",
                "#B0BEC5",
                "#B0BEC5",
                "#B0BEC5",
                "#B0BEC5",
                "#B0BEC5",
                "#B0BEC5",
                "#B0BEC5",
                "#B0BEC5",
                "#B0BEC5",
                "#B0BEC5",
                "#B0BEC5",
                "#B0BEC5",
                "#B0BEC5",
                "#B0BEC5",
                "#B0BEC5",
                "#B0BEC5",
                "#B0BEC5",
                "#B0BEC5",
                "#B0BEC5",
                "#B0BEC5",
                "#B0BEC5",
                "#B0BEC5",
                "#B0BEC5",
                "#B0BEC5",
                "#B0BEC5",
                "#B0BEC5",
                "#B0BEC5",
                "#B0BEC5",
                "#B0BEC5",
                "#B0BEC5",
                "#B0BEC5",
                "#B0BEC5",
                "#B0BEC5",
                "#B0BEC5",
                "#B0BEC5",
                "#B0BEC5"
               ]
              ]
             }
            ],
            "label": "Topic 13",
            "method": "update"
           },
           {
            "args": [
             {
              "marker.color": [
               [
                "#B0BEC5",
                "#B0BEC5",
                "#B0BEC5",
                "#B0BEC5",
                "#B0BEC5",
                "#B0BEC5",
                "#B0BEC5",
                "#B0BEC5",
                "#B0BEC5",
                "#B0BEC5",
                "#B0BEC5",
                "#B0BEC5",
                "#B0BEC5",
                "#B0BEC5",
                "red",
                "#B0BEC5",
                "#B0BEC5",
                "#B0BEC5",
                "#B0BEC5",
                "#B0BEC5",
                "#B0BEC5",
                "#B0BEC5",
                "#B0BEC5",
                "#B0BEC5",
                "#B0BEC5",
                "#B0BEC5",
                "#B0BEC5",
                "#B0BEC5",
                "#B0BEC5",
                "#B0BEC5",
                "#B0BEC5",
                "#B0BEC5",
                "#B0BEC5",
                "#B0BEC5",
                "#B0BEC5",
                "#B0BEC5",
                "#B0BEC5",
                "#B0BEC5",
                "#B0BEC5",
                "#B0BEC5",
                "#B0BEC5",
                "#B0BEC5",
                "#B0BEC5",
                "#B0BEC5",
                "#B0BEC5",
                "#B0BEC5",
                "#B0BEC5",
                "#B0BEC5",
                "#B0BEC5",
                "#B0BEC5",
                "#B0BEC5",
                "#B0BEC5",
                "#B0BEC5",
                "#B0BEC5"
               ]
              ]
             }
            ],
            "label": "Topic 14",
            "method": "update"
           },
           {
            "args": [
             {
              "marker.color": [
               [
                "#B0BEC5",
                "#B0BEC5",
                "#B0BEC5",
                "#B0BEC5",
                "#B0BEC5",
                "#B0BEC5",
                "#B0BEC5",
                "#B0BEC5",
                "#B0BEC5",
                "#B0BEC5",
                "#B0BEC5",
                "#B0BEC5",
                "#B0BEC5",
                "#B0BEC5",
                "#B0BEC5",
                "red",
                "#B0BEC5",
                "#B0BEC5",
                "#B0BEC5",
                "#B0BEC5",
                "#B0BEC5",
                "#B0BEC5",
                "#B0BEC5",
                "#B0BEC5",
                "#B0BEC5",
                "#B0BEC5",
                "#B0BEC5",
                "#B0BEC5",
                "#B0BEC5",
                "#B0BEC5",
                "#B0BEC5",
                "#B0BEC5",
                "#B0BEC5",
                "#B0BEC5",
                "#B0BEC5",
                "#B0BEC5",
                "#B0BEC5",
                "#B0BEC5",
                "#B0BEC5",
                "#B0BEC5",
                "#B0BEC5",
                "#B0BEC5",
                "#B0BEC5",
                "#B0BEC5",
                "#B0BEC5",
                "#B0BEC5",
                "#B0BEC5",
                "#B0BEC5",
                "#B0BEC5",
                "#B0BEC5",
                "#B0BEC5",
                "#B0BEC5",
                "#B0BEC5",
                "#B0BEC5"
               ]
              ]
             }
            ],
            "label": "Topic 15",
            "method": "update"
           },
           {
            "args": [
             {
              "marker.color": [
               [
                "#B0BEC5",
                "#B0BEC5",
                "#B0BEC5",
                "#B0BEC5",
                "#B0BEC5",
                "#B0BEC5",
                "#B0BEC5",
                "#B0BEC5",
                "#B0BEC5",
                "#B0BEC5",
                "#B0BEC5",
                "#B0BEC5",
                "#B0BEC5",
                "#B0BEC5",
                "#B0BEC5",
                "#B0BEC5",
                "red",
                "#B0BEC5",
                "#B0BEC5",
                "#B0BEC5",
                "#B0BEC5",
                "#B0BEC5",
                "#B0BEC5",
                "#B0BEC5",
                "#B0BEC5",
                "#B0BEC5",
                "#B0BEC5",
                "#B0BEC5",
                "#B0BEC5",
                "#B0BEC5",
                "#B0BEC5",
                "#B0BEC5",
                "#B0BEC5",
                "#B0BEC5",
                "#B0BEC5",
                "#B0BEC5",
                "#B0BEC5",
                "#B0BEC5",
                "#B0BEC5",
                "#B0BEC5",
                "#B0BEC5",
                "#B0BEC5",
                "#B0BEC5",
                "#B0BEC5",
                "#B0BEC5",
                "#B0BEC5",
                "#B0BEC5",
                "#B0BEC5",
                "#B0BEC5",
                "#B0BEC5",
                "#B0BEC5",
                "#B0BEC5",
                "#B0BEC5",
                "#B0BEC5"
               ]
              ]
             }
            ],
            "label": "Topic 16",
            "method": "update"
           },
           {
            "args": [
             {
              "marker.color": [
               [
                "#B0BEC5",
                "#B0BEC5",
                "#B0BEC5",
                "#B0BEC5",
                "#B0BEC5",
                "#B0BEC5",
                "#B0BEC5",
                "#B0BEC5",
                "#B0BEC5",
                "#B0BEC5",
                "#B0BEC5",
                "#B0BEC5",
                "#B0BEC5",
                "#B0BEC5",
                "#B0BEC5",
                "#B0BEC5",
                "#B0BEC5",
                "red",
                "#B0BEC5",
                "#B0BEC5",
                "#B0BEC5",
                "#B0BEC5",
                "#B0BEC5",
                "#B0BEC5",
                "#B0BEC5",
                "#B0BEC5",
                "#B0BEC5",
                "#B0BEC5",
                "#B0BEC5",
                "#B0BEC5",
                "#B0BEC5",
                "#B0BEC5",
                "#B0BEC5",
                "#B0BEC5",
                "#B0BEC5",
                "#B0BEC5",
                "#B0BEC5",
                "#B0BEC5",
                "#B0BEC5",
                "#B0BEC5",
                "#B0BEC5",
                "#B0BEC5",
                "#B0BEC5",
                "#B0BEC5",
                "#B0BEC5",
                "#B0BEC5",
                "#B0BEC5",
                "#B0BEC5",
                "#B0BEC5",
                "#B0BEC5",
                "#B0BEC5",
                "#B0BEC5",
                "#B0BEC5",
                "#B0BEC5"
               ]
              ]
             }
            ],
            "label": "Topic 17",
            "method": "update"
           },
           {
            "args": [
             {
              "marker.color": [
               [
                "#B0BEC5",
                "#B0BEC5",
                "#B0BEC5",
                "#B0BEC5",
                "#B0BEC5",
                "#B0BEC5",
                "#B0BEC5",
                "#B0BEC5",
                "#B0BEC5",
                "#B0BEC5",
                "#B0BEC5",
                "#B0BEC5",
                "#B0BEC5",
                "#B0BEC5",
                "#B0BEC5",
                "#B0BEC5",
                "#B0BEC5",
                "#B0BEC5",
                "red",
                "#B0BEC5",
                "#B0BEC5",
                "#B0BEC5",
                "#B0BEC5",
                "#B0BEC5",
                "#B0BEC5",
                "#B0BEC5",
                "#B0BEC5",
                "#B0BEC5",
                "#B0BEC5",
                "#B0BEC5",
                "#B0BEC5",
                "#B0BEC5",
                "#B0BEC5",
                "#B0BEC5",
                "#B0BEC5",
                "#B0BEC5",
                "#B0BEC5",
                "#B0BEC5",
                "#B0BEC5",
                "#B0BEC5",
                "#B0BEC5",
                "#B0BEC5",
                "#B0BEC5",
                "#B0BEC5",
                "#B0BEC5",
                "#B0BEC5",
                "#B0BEC5",
                "#B0BEC5",
                "#B0BEC5",
                "#B0BEC5",
                "#B0BEC5",
                "#B0BEC5",
                "#B0BEC5",
                "#B0BEC5"
               ]
              ]
             }
            ],
            "label": "Topic 18",
            "method": "update"
           },
           {
            "args": [
             {
              "marker.color": [
               [
                "#B0BEC5",
                "#B0BEC5",
                "#B0BEC5",
                "#B0BEC5",
                "#B0BEC5",
                "#B0BEC5",
                "#B0BEC5",
                "#B0BEC5",
                "#B0BEC5",
                "#B0BEC5",
                "#B0BEC5",
                "#B0BEC5",
                "#B0BEC5",
                "#B0BEC5",
                "#B0BEC5",
                "#B0BEC5",
                "#B0BEC5",
                "#B0BEC5",
                "#B0BEC5",
                "red",
                "#B0BEC5",
                "#B0BEC5",
                "#B0BEC5",
                "#B0BEC5",
                "#B0BEC5",
                "#B0BEC5",
                "#B0BEC5",
                "#B0BEC5",
                "#B0BEC5",
                "#B0BEC5",
                "#B0BEC5",
                "#B0BEC5",
                "#B0BEC5",
                "#B0BEC5",
                "#B0BEC5",
                "#B0BEC5",
                "#B0BEC5",
                "#B0BEC5",
                "#B0BEC5",
                "#B0BEC5",
                "#B0BEC5",
                "#B0BEC5",
                "#B0BEC5",
                "#B0BEC5",
                "#B0BEC5",
                "#B0BEC5",
                "#B0BEC5",
                "#B0BEC5",
                "#B0BEC5",
                "#B0BEC5",
                "#B0BEC5",
                "#B0BEC5",
                "#B0BEC5",
                "#B0BEC5"
               ]
              ]
             }
            ],
            "label": "Topic 19",
            "method": "update"
           },
           {
            "args": [
             {
              "marker.color": [
               [
                "#B0BEC5",
                "#B0BEC5",
                "#B0BEC5",
                "#B0BEC5",
                "#B0BEC5",
                "#B0BEC5",
                "#B0BEC5",
                "#B0BEC5",
                "#B0BEC5",
                "#B0BEC5",
                "#B0BEC5",
                "#B0BEC5",
                "#B0BEC5",
                "#B0BEC5",
                "#B0BEC5",
                "#B0BEC5",
                "#B0BEC5",
                "#B0BEC5",
                "#B0BEC5",
                "#B0BEC5",
                "red",
                "#B0BEC5",
                "#B0BEC5",
                "#B0BEC5",
                "#B0BEC5",
                "#B0BEC5",
                "#B0BEC5",
                "#B0BEC5",
                "#B0BEC5",
                "#B0BEC5",
                "#B0BEC5",
                "#B0BEC5",
                "#B0BEC5",
                "#B0BEC5",
                "#B0BEC5",
                "#B0BEC5",
                "#B0BEC5",
                "#B0BEC5",
                "#B0BEC5",
                "#B0BEC5",
                "#B0BEC5",
                "#B0BEC5",
                "#B0BEC5",
                "#B0BEC5",
                "#B0BEC5",
                "#B0BEC5",
                "#B0BEC5",
                "#B0BEC5",
                "#B0BEC5",
                "#B0BEC5",
                "#B0BEC5",
                "#B0BEC5",
                "#B0BEC5",
                "#B0BEC5"
               ]
              ]
             }
            ],
            "label": "Topic 20",
            "method": "update"
           },
           {
            "args": [
             {
              "marker.color": [
               [
                "#B0BEC5",
                "#B0BEC5",
                "#B0BEC5",
                "#B0BEC5",
                "#B0BEC5",
                "#B0BEC5",
                "#B0BEC5",
                "#B0BEC5",
                "#B0BEC5",
                "#B0BEC5",
                "#B0BEC5",
                "#B0BEC5",
                "#B0BEC5",
                "#B0BEC5",
                "#B0BEC5",
                "#B0BEC5",
                "#B0BEC5",
                "#B0BEC5",
                "#B0BEC5",
                "#B0BEC5",
                "#B0BEC5",
                "red",
                "#B0BEC5",
                "#B0BEC5",
                "#B0BEC5",
                "#B0BEC5",
                "#B0BEC5",
                "#B0BEC5",
                "#B0BEC5",
                "#B0BEC5",
                "#B0BEC5",
                "#B0BEC5",
                "#B0BEC5",
                "#B0BEC5",
                "#B0BEC5",
                "#B0BEC5",
                "#B0BEC5",
                "#B0BEC5",
                "#B0BEC5",
                "#B0BEC5",
                "#B0BEC5",
                "#B0BEC5",
                "#B0BEC5",
                "#B0BEC5",
                "#B0BEC5",
                "#B0BEC5",
                "#B0BEC5",
                "#B0BEC5",
                "#B0BEC5",
                "#B0BEC5",
                "#B0BEC5",
                "#B0BEC5",
                "#B0BEC5",
                "#B0BEC5"
               ]
              ]
             }
            ],
            "label": "Topic 21",
            "method": "update"
           },
           {
            "args": [
             {
              "marker.color": [
               [
                "#B0BEC5",
                "#B0BEC5",
                "#B0BEC5",
                "#B0BEC5",
                "#B0BEC5",
                "#B0BEC5",
                "#B0BEC5",
                "#B0BEC5",
                "#B0BEC5",
                "#B0BEC5",
                "#B0BEC5",
                "#B0BEC5",
                "#B0BEC5",
                "#B0BEC5",
                "#B0BEC5",
                "#B0BEC5",
                "#B0BEC5",
                "#B0BEC5",
                "#B0BEC5",
                "#B0BEC5",
                "#B0BEC5",
                "#B0BEC5",
                "red",
                "#B0BEC5",
                "#B0BEC5",
                "#B0BEC5",
                "#B0BEC5",
                "#B0BEC5",
                "#B0BEC5",
                "#B0BEC5",
                "#B0BEC5",
                "#B0BEC5",
                "#B0BEC5",
                "#B0BEC5",
                "#B0BEC5",
                "#B0BEC5",
                "#B0BEC5",
                "#B0BEC5",
                "#B0BEC5",
                "#B0BEC5",
                "#B0BEC5",
                "#B0BEC5",
                "#B0BEC5",
                "#B0BEC5",
                "#B0BEC5",
                "#B0BEC5",
                "#B0BEC5",
                "#B0BEC5",
                "#B0BEC5",
                "#B0BEC5",
                "#B0BEC5",
                "#B0BEC5",
                "#B0BEC5",
                "#B0BEC5"
               ]
              ]
             }
            ],
            "label": "Topic 22",
            "method": "update"
           },
           {
            "args": [
             {
              "marker.color": [
               [
                "#B0BEC5",
                "#B0BEC5",
                "#B0BEC5",
                "#B0BEC5",
                "#B0BEC5",
                "#B0BEC5",
                "#B0BEC5",
                "#B0BEC5",
                "#B0BEC5",
                "#B0BEC5",
                "#B0BEC5",
                "#B0BEC5",
                "#B0BEC5",
                "#B0BEC5",
                "#B0BEC5",
                "#B0BEC5",
                "#B0BEC5",
                "#B0BEC5",
                "#B0BEC5",
                "#B0BEC5",
                "#B0BEC5",
                "#B0BEC5",
                "#B0BEC5",
                "red",
                "#B0BEC5",
                "#B0BEC5",
                "#B0BEC5",
                "#B0BEC5",
                "#B0BEC5",
                "#B0BEC5",
                "#B0BEC5",
                "#B0BEC5",
                "#B0BEC5",
                "#B0BEC5",
                "#B0BEC5",
                "#B0BEC5",
                "#B0BEC5",
                "#B0BEC5",
                "#B0BEC5",
                "#B0BEC5",
                "#B0BEC5",
                "#B0BEC5",
                "#B0BEC5",
                "#B0BEC5",
                "#B0BEC5",
                "#B0BEC5",
                "#B0BEC5",
                "#B0BEC5",
                "#B0BEC5",
                "#B0BEC5",
                "#B0BEC5",
                "#B0BEC5",
                "#B0BEC5",
                "#B0BEC5"
               ]
              ]
             }
            ],
            "label": "Topic 23",
            "method": "update"
           },
           {
            "args": [
             {
              "marker.color": [
               [
                "#B0BEC5",
                "#B0BEC5",
                "#B0BEC5",
                "#B0BEC5",
                "#B0BEC5",
                "#B0BEC5",
                "#B0BEC5",
                "#B0BEC5",
                "#B0BEC5",
                "#B0BEC5",
                "#B0BEC5",
                "#B0BEC5",
                "#B0BEC5",
                "#B0BEC5",
                "#B0BEC5",
                "#B0BEC5",
                "#B0BEC5",
                "#B0BEC5",
                "#B0BEC5",
                "#B0BEC5",
                "#B0BEC5",
                "#B0BEC5",
                "#B0BEC5",
                "#B0BEC5",
                "red",
                "#B0BEC5",
                "#B0BEC5",
                "#B0BEC5",
                "#B0BEC5",
                "#B0BEC5",
                "#B0BEC5",
                "#B0BEC5",
                "#B0BEC5",
                "#B0BEC5",
                "#B0BEC5",
                "#B0BEC5",
                "#B0BEC5",
                "#B0BEC5",
                "#B0BEC5",
                "#B0BEC5",
                "#B0BEC5",
                "#B0BEC5",
                "#B0BEC5",
                "#B0BEC5",
                "#B0BEC5",
                "#B0BEC5",
                "#B0BEC5",
                "#B0BEC5",
                "#B0BEC5",
                "#B0BEC5",
                "#B0BEC5",
                "#B0BEC5",
                "#B0BEC5",
                "#B0BEC5"
               ]
              ]
             }
            ],
            "label": "Topic 24",
            "method": "update"
           },
           {
            "args": [
             {
              "marker.color": [
               [
                "#B0BEC5",
                "#B0BEC5",
                "#B0BEC5",
                "#B0BEC5",
                "#B0BEC5",
                "#B0BEC5",
                "#B0BEC5",
                "#B0BEC5",
                "#B0BEC5",
                "#B0BEC5",
                "#B0BEC5",
                "#B0BEC5",
                "#B0BEC5",
                "#B0BEC5",
                "#B0BEC5",
                "#B0BEC5",
                "#B0BEC5",
                "#B0BEC5",
                "#B0BEC5",
                "#B0BEC5",
                "#B0BEC5",
                "#B0BEC5",
                "#B0BEC5",
                "#B0BEC5",
                "#B0BEC5",
                "red",
                "#B0BEC5",
                "#B0BEC5",
                "#B0BEC5",
                "#B0BEC5",
                "#B0BEC5",
                "#B0BEC5",
                "#B0BEC5",
                "#B0BEC5",
                "#B0BEC5",
                "#B0BEC5",
                "#B0BEC5",
                "#B0BEC5",
                "#B0BEC5",
                "#B0BEC5",
                "#B0BEC5",
                "#B0BEC5",
                "#B0BEC5",
                "#B0BEC5",
                "#B0BEC5",
                "#B0BEC5",
                "#B0BEC5",
                "#B0BEC5",
                "#B0BEC5",
                "#B0BEC5",
                "#B0BEC5",
                "#B0BEC5",
                "#B0BEC5",
                "#B0BEC5"
               ]
              ]
             }
            ],
            "label": "Topic 25",
            "method": "update"
           },
           {
            "args": [
             {
              "marker.color": [
               [
                "#B0BEC5",
                "#B0BEC5",
                "#B0BEC5",
                "#B0BEC5",
                "#B0BEC5",
                "#B0BEC5",
                "#B0BEC5",
                "#B0BEC5",
                "#B0BEC5",
                "#B0BEC5",
                "#B0BEC5",
                "#B0BEC5",
                "#B0BEC5",
                "#B0BEC5",
                "#B0BEC5",
                "#B0BEC5",
                "#B0BEC5",
                "#B0BEC5",
                "#B0BEC5",
                "#B0BEC5",
                "#B0BEC5",
                "#B0BEC5",
                "#B0BEC5",
                "#B0BEC5",
                "#B0BEC5",
                "#B0BEC5",
                "red",
                "#B0BEC5",
                "#B0BEC5",
                "#B0BEC5",
                "#B0BEC5",
                "#B0BEC5",
                "#B0BEC5",
                "#B0BEC5",
                "#B0BEC5",
                "#B0BEC5",
                "#B0BEC5",
                "#B0BEC5",
                "#B0BEC5",
                "#B0BEC5",
                "#B0BEC5",
                "#B0BEC5",
                "#B0BEC5",
                "#B0BEC5",
                "#B0BEC5",
                "#B0BEC5",
                "#B0BEC5",
                "#B0BEC5",
                "#B0BEC5",
                "#B0BEC5",
                "#B0BEC5",
                "#B0BEC5",
                "#B0BEC5",
                "#B0BEC5"
               ]
              ]
             }
            ],
            "label": "Topic 26",
            "method": "update"
           },
           {
            "args": [
             {
              "marker.color": [
               [
                "#B0BEC5",
                "#B0BEC5",
                "#B0BEC5",
                "#B0BEC5",
                "#B0BEC5",
                "#B0BEC5",
                "#B0BEC5",
                "#B0BEC5",
                "#B0BEC5",
                "#B0BEC5",
                "#B0BEC5",
                "#B0BEC5",
                "#B0BEC5",
                "#B0BEC5",
                "#B0BEC5",
                "#B0BEC5",
                "#B0BEC5",
                "#B0BEC5",
                "#B0BEC5",
                "#B0BEC5",
                "#B0BEC5",
                "#B0BEC5",
                "#B0BEC5",
                "#B0BEC5",
                "#B0BEC5",
                "#B0BEC5",
                "#B0BEC5",
                "red",
                "#B0BEC5",
                "#B0BEC5",
                "#B0BEC5",
                "#B0BEC5",
                "#B0BEC5",
                "#B0BEC5",
                "#B0BEC5",
                "#B0BEC5",
                "#B0BEC5",
                "#B0BEC5",
                "#B0BEC5",
                "#B0BEC5",
                "#B0BEC5",
                "#B0BEC5",
                "#B0BEC5",
                "#B0BEC5",
                "#B0BEC5",
                "#B0BEC5",
                "#B0BEC5",
                "#B0BEC5",
                "#B0BEC5",
                "#B0BEC5",
                "#B0BEC5",
                "#B0BEC5",
                "#B0BEC5",
                "#B0BEC5"
               ]
              ]
             }
            ],
            "label": "Topic 27",
            "method": "update"
           },
           {
            "args": [
             {
              "marker.color": [
               [
                "#B0BEC5",
                "#B0BEC5",
                "#B0BEC5",
                "#B0BEC5",
                "#B0BEC5",
                "#B0BEC5",
                "#B0BEC5",
                "#B0BEC5",
                "#B0BEC5",
                "#B0BEC5",
                "#B0BEC5",
                "#B0BEC5",
                "#B0BEC5",
                "#B0BEC5",
                "#B0BEC5",
                "#B0BEC5",
                "#B0BEC5",
                "#B0BEC5",
                "#B0BEC5",
                "#B0BEC5",
                "#B0BEC5",
                "#B0BEC5",
                "#B0BEC5",
                "#B0BEC5",
                "#B0BEC5",
                "#B0BEC5",
                "#B0BEC5",
                "#B0BEC5",
                "red",
                "#B0BEC5",
                "#B0BEC5",
                "#B0BEC5",
                "#B0BEC5",
                "#B0BEC5",
                "#B0BEC5",
                "#B0BEC5",
                "#B0BEC5",
                "#B0BEC5",
                "#B0BEC5",
                "#B0BEC5",
                "#B0BEC5",
                "#B0BEC5",
                "#B0BEC5",
                "#B0BEC5",
                "#B0BEC5",
                "#B0BEC5",
                "#B0BEC5",
                "#B0BEC5",
                "#B0BEC5",
                "#B0BEC5",
                "#B0BEC5",
                "#B0BEC5",
                "#B0BEC5",
                "#B0BEC5"
               ]
              ]
             }
            ],
            "label": "Topic 28",
            "method": "update"
           },
           {
            "args": [
             {
              "marker.color": [
               [
                "#B0BEC5",
                "#B0BEC5",
                "#B0BEC5",
                "#B0BEC5",
                "#B0BEC5",
                "#B0BEC5",
                "#B0BEC5",
                "#B0BEC5",
                "#B0BEC5",
                "#B0BEC5",
                "#B0BEC5",
                "#B0BEC5",
                "#B0BEC5",
                "#B0BEC5",
                "#B0BEC5",
                "#B0BEC5",
                "#B0BEC5",
                "#B0BEC5",
                "#B0BEC5",
                "#B0BEC5",
                "#B0BEC5",
                "#B0BEC5",
                "#B0BEC5",
                "#B0BEC5",
                "#B0BEC5",
                "#B0BEC5",
                "#B0BEC5",
                "#B0BEC5",
                "#B0BEC5",
                "red",
                "#B0BEC5",
                "#B0BEC5",
                "#B0BEC5",
                "#B0BEC5",
                "#B0BEC5",
                "#B0BEC5",
                "#B0BEC5",
                "#B0BEC5",
                "#B0BEC5",
                "#B0BEC5",
                "#B0BEC5",
                "#B0BEC5",
                "#B0BEC5",
                "#B0BEC5",
                "#B0BEC5",
                "#B0BEC5",
                "#B0BEC5",
                "#B0BEC5",
                "#B0BEC5",
                "#B0BEC5",
                "#B0BEC5",
                "#B0BEC5",
                "#B0BEC5",
                "#B0BEC5"
               ]
              ]
             }
            ],
            "label": "Topic 29",
            "method": "update"
           },
           {
            "args": [
             {
              "marker.color": [
               [
                "#B0BEC5",
                "#B0BEC5",
                "#B0BEC5",
                "#B0BEC5",
                "#B0BEC5",
                "#B0BEC5",
                "#B0BEC5",
                "#B0BEC5",
                "#B0BEC5",
                "#B0BEC5",
                "#B0BEC5",
                "#B0BEC5",
                "#B0BEC5",
                "#B0BEC5",
                "#B0BEC5",
                "#B0BEC5",
                "#B0BEC5",
                "#B0BEC5",
                "#B0BEC5",
                "#B0BEC5",
                "#B0BEC5",
                "#B0BEC5",
                "#B0BEC5",
                "#B0BEC5",
                "#B0BEC5",
                "#B0BEC5",
                "#B0BEC5",
                "#B0BEC5",
                "#B0BEC5",
                "#B0BEC5",
                "red",
                "#B0BEC5",
                "#B0BEC5",
                "#B0BEC5",
                "#B0BEC5",
                "#B0BEC5",
                "#B0BEC5",
                "#B0BEC5",
                "#B0BEC5",
                "#B0BEC5",
                "#B0BEC5",
                "#B0BEC5",
                "#B0BEC5",
                "#B0BEC5",
                "#B0BEC5",
                "#B0BEC5",
                "#B0BEC5",
                "#B0BEC5",
                "#B0BEC5",
                "#B0BEC5",
                "#B0BEC5",
                "#B0BEC5",
                "#B0BEC5",
                "#B0BEC5"
               ]
              ]
             }
            ],
            "label": "Topic 30",
            "method": "update"
           },
           {
            "args": [
             {
              "marker.color": [
               [
                "#B0BEC5",
                "#B0BEC5",
                "#B0BEC5",
                "#B0BEC5",
                "#B0BEC5",
                "#B0BEC5",
                "#B0BEC5",
                "#B0BEC5",
                "#B0BEC5",
                "#B0BEC5",
                "#B0BEC5",
                "#B0BEC5",
                "#B0BEC5",
                "#B0BEC5",
                "#B0BEC5",
                "#B0BEC5",
                "#B0BEC5",
                "#B0BEC5",
                "#B0BEC5",
                "#B0BEC5",
                "#B0BEC5",
                "#B0BEC5",
                "#B0BEC5",
                "#B0BEC5",
                "#B0BEC5",
                "#B0BEC5",
                "#B0BEC5",
                "#B0BEC5",
                "#B0BEC5",
                "#B0BEC5",
                "#B0BEC5",
                "red",
                "#B0BEC5",
                "#B0BEC5",
                "#B0BEC5",
                "#B0BEC5",
                "#B0BEC5",
                "#B0BEC5",
                "#B0BEC5",
                "#B0BEC5",
                "#B0BEC5",
                "#B0BEC5",
                "#B0BEC5",
                "#B0BEC5",
                "#B0BEC5",
                "#B0BEC5",
                "#B0BEC5",
                "#B0BEC5",
                "#B0BEC5",
                "#B0BEC5",
                "#B0BEC5",
                "#B0BEC5",
                "#B0BEC5",
                "#B0BEC5"
               ]
              ]
             }
            ],
            "label": "Topic 31",
            "method": "update"
           },
           {
            "args": [
             {
              "marker.color": [
               [
                "#B0BEC5",
                "#B0BEC5",
                "#B0BEC5",
                "#B0BEC5",
                "#B0BEC5",
                "#B0BEC5",
                "#B0BEC5",
                "#B0BEC5",
                "#B0BEC5",
                "#B0BEC5",
                "#B0BEC5",
                "#B0BEC5",
                "#B0BEC5",
                "#B0BEC5",
                "#B0BEC5",
                "#B0BEC5",
                "#B0BEC5",
                "#B0BEC5",
                "#B0BEC5",
                "#B0BEC5",
                "#B0BEC5",
                "#B0BEC5",
                "#B0BEC5",
                "#B0BEC5",
                "#B0BEC5",
                "#B0BEC5",
                "#B0BEC5",
                "#B0BEC5",
                "#B0BEC5",
                "#B0BEC5",
                "#B0BEC5",
                "#B0BEC5",
                "red",
                "#B0BEC5",
                "#B0BEC5",
                "#B0BEC5",
                "#B0BEC5",
                "#B0BEC5",
                "#B0BEC5",
                "#B0BEC5",
                "#B0BEC5",
                "#B0BEC5",
                "#B0BEC5",
                "#B0BEC5",
                "#B0BEC5",
                "#B0BEC5",
                "#B0BEC5",
                "#B0BEC5",
                "#B0BEC5",
                "#B0BEC5",
                "#B0BEC5",
                "#B0BEC5",
                "#B0BEC5",
                "#B0BEC5"
               ]
              ]
             }
            ],
            "label": "Topic 32",
            "method": "update"
           },
           {
            "args": [
             {
              "marker.color": [
               [
                "#B0BEC5",
                "#B0BEC5",
                "#B0BEC5",
                "#B0BEC5",
                "#B0BEC5",
                "#B0BEC5",
                "#B0BEC5",
                "#B0BEC5",
                "#B0BEC5",
                "#B0BEC5",
                "#B0BEC5",
                "#B0BEC5",
                "#B0BEC5",
                "#B0BEC5",
                "#B0BEC5",
                "#B0BEC5",
                "#B0BEC5",
                "#B0BEC5",
                "#B0BEC5",
                "#B0BEC5",
                "#B0BEC5",
                "#B0BEC5",
                "#B0BEC5",
                "#B0BEC5",
                "#B0BEC5",
                "#B0BEC5",
                "#B0BEC5",
                "#B0BEC5",
                "#B0BEC5",
                "#B0BEC5",
                "#B0BEC5",
                "#B0BEC5",
                "#B0BEC5",
                "red",
                "#B0BEC5",
                "#B0BEC5",
                "#B0BEC5",
                "#B0BEC5",
                "#B0BEC5",
                "#B0BEC5",
                "#B0BEC5",
                "#B0BEC5",
                "#B0BEC5",
                "#B0BEC5",
                "#B0BEC5",
                "#B0BEC5",
                "#B0BEC5",
                "#B0BEC5",
                "#B0BEC5",
                "#B0BEC5",
                "#B0BEC5",
                "#B0BEC5",
                "#B0BEC5",
                "#B0BEC5"
               ]
              ]
             }
            ],
            "label": "Topic 33",
            "method": "update"
           },
           {
            "args": [
             {
              "marker.color": [
               [
                "#B0BEC5",
                "#B0BEC5",
                "#B0BEC5",
                "#B0BEC5",
                "#B0BEC5",
                "#B0BEC5",
                "#B0BEC5",
                "#B0BEC5",
                "#B0BEC5",
                "#B0BEC5",
                "#B0BEC5",
                "#B0BEC5",
                "#B0BEC5",
                "#B0BEC5",
                "#B0BEC5",
                "#B0BEC5",
                "#B0BEC5",
                "#B0BEC5",
                "#B0BEC5",
                "#B0BEC5",
                "#B0BEC5",
                "#B0BEC5",
                "#B0BEC5",
                "#B0BEC5",
                "#B0BEC5",
                "#B0BEC5",
                "#B0BEC5",
                "#B0BEC5",
                "#B0BEC5",
                "#B0BEC5",
                "#B0BEC5",
                "#B0BEC5",
                "#B0BEC5",
                "#B0BEC5",
                "red",
                "#B0BEC5",
                "#B0BEC5",
                "#B0BEC5",
                "#B0BEC5",
                "#B0BEC5",
                "#B0BEC5",
                "#B0BEC5",
                "#B0BEC5",
                "#B0BEC5",
                "#B0BEC5",
                "#B0BEC5",
                "#B0BEC5",
                "#B0BEC5",
                "#B0BEC5",
                "#B0BEC5",
                "#B0BEC5",
                "#B0BEC5",
                "#B0BEC5",
                "#B0BEC5"
               ]
              ]
             }
            ],
            "label": "Topic 34",
            "method": "update"
           },
           {
            "args": [
             {
              "marker.color": [
               [
                "#B0BEC5",
                "#B0BEC5",
                "#B0BEC5",
                "#B0BEC5",
                "#B0BEC5",
                "#B0BEC5",
                "#B0BEC5",
                "#B0BEC5",
                "#B0BEC5",
                "#B0BEC5",
                "#B0BEC5",
                "#B0BEC5",
                "#B0BEC5",
                "#B0BEC5",
                "#B0BEC5",
                "#B0BEC5",
                "#B0BEC5",
                "#B0BEC5",
                "#B0BEC5",
                "#B0BEC5",
                "#B0BEC5",
                "#B0BEC5",
                "#B0BEC5",
                "#B0BEC5",
                "#B0BEC5",
                "#B0BEC5",
                "#B0BEC5",
                "#B0BEC5",
                "#B0BEC5",
                "#B0BEC5",
                "#B0BEC5",
                "#B0BEC5",
                "#B0BEC5",
                "#B0BEC5",
                "#B0BEC5",
                "red",
                "#B0BEC5",
                "#B0BEC5",
                "#B0BEC5",
                "#B0BEC5",
                "#B0BEC5",
                "#B0BEC5",
                "#B0BEC5",
                "#B0BEC5",
                "#B0BEC5",
                "#B0BEC5",
                "#B0BEC5",
                "#B0BEC5",
                "#B0BEC5",
                "#B0BEC5",
                "#B0BEC5",
                "#B0BEC5",
                "#B0BEC5",
                "#B0BEC5"
               ]
              ]
             }
            ],
            "label": "Topic 35",
            "method": "update"
           },
           {
            "args": [
             {
              "marker.color": [
               [
                "#B0BEC5",
                "#B0BEC5",
                "#B0BEC5",
                "#B0BEC5",
                "#B0BEC5",
                "#B0BEC5",
                "#B0BEC5",
                "#B0BEC5",
                "#B0BEC5",
                "#B0BEC5",
                "#B0BEC5",
                "#B0BEC5",
                "#B0BEC5",
                "#B0BEC5",
                "#B0BEC5",
                "#B0BEC5",
                "#B0BEC5",
                "#B0BEC5",
                "#B0BEC5",
                "#B0BEC5",
                "#B0BEC5",
                "#B0BEC5",
                "#B0BEC5",
                "#B0BEC5",
                "#B0BEC5",
                "#B0BEC5",
                "#B0BEC5",
                "#B0BEC5",
                "#B0BEC5",
                "#B0BEC5",
                "#B0BEC5",
                "#B0BEC5",
                "#B0BEC5",
                "#B0BEC5",
                "#B0BEC5",
                "#B0BEC5",
                "red",
                "#B0BEC5",
                "#B0BEC5",
                "#B0BEC5",
                "#B0BEC5",
                "#B0BEC5",
                "#B0BEC5",
                "#B0BEC5",
                "#B0BEC5",
                "#B0BEC5",
                "#B0BEC5",
                "#B0BEC5",
                "#B0BEC5",
                "#B0BEC5",
                "#B0BEC5",
                "#B0BEC5",
                "#B0BEC5",
                "#B0BEC5"
               ]
              ]
             }
            ],
            "label": "Topic 36",
            "method": "update"
           },
           {
            "args": [
             {
              "marker.color": [
               [
                "#B0BEC5",
                "#B0BEC5",
                "#B0BEC5",
                "#B0BEC5",
                "#B0BEC5",
                "#B0BEC5",
                "#B0BEC5",
                "#B0BEC5",
                "#B0BEC5",
                "#B0BEC5",
                "#B0BEC5",
                "#B0BEC5",
                "#B0BEC5",
                "#B0BEC5",
                "#B0BEC5",
                "#B0BEC5",
                "#B0BEC5",
                "#B0BEC5",
                "#B0BEC5",
                "#B0BEC5",
                "#B0BEC5",
                "#B0BEC5",
                "#B0BEC5",
                "#B0BEC5",
                "#B0BEC5",
                "#B0BEC5",
                "#B0BEC5",
                "#B0BEC5",
                "#B0BEC5",
                "#B0BEC5",
                "#B0BEC5",
                "#B0BEC5",
                "#B0BEC5",
                "#B0BEC5",
                "#B0BEC5",
                "#B0BEC5",
                "#B0BEC5",
                "red",
                "#B0BEC5",
                "#B0BEC5",
                "#B0BEC5",
                "#B0BEC5",
                "#B0BEC5",
                "#B0BEC5",
                "#B0BEC5",
                "#B0BEC5",
                "#B0BEC5",
                "#B0BEC5",
                "#B0BEC5",
                "#B0BEC5",
                "#B0BEC5",
                "#B0BEC5",
                "#B0BEC5",
                "#B0BEC5"
               ]
              ]
             }
            ],
            "label": "Topic 37",
            "method": "update"
           },
           {
            "args": [
             {
              "marker.color": [
               [
                "#B0BEC5",
                "#B0BEC5",
                "#B0BEC5",
                "#B0BEC5",
                "#B0BEC5",
                "#B0BEC5",
                "#B0BEC5",
                "#B0BEC5",
                "#B0BEC5",
                "#B0BEC5",
                "#B0BEC5",
                "#B0BEC5",
                "#B0BEC5",
                "#B0BEC5",
                "#B0BEC5",
                "#B0BEC5",
                "#B0BEC5",
                "#B0BEC5",
                "#B0BEC5",
                "#B0BEC5",
                "#B0BEC5",
                "#B0BEC5",
                "#B0BEC5",
                "#B0BEC5",
                "#B0BEC5",
                "#B0BEC5",
                "#B0BEC5",
                "#B0BEC5",
                "#B0BEC5",
                "#B0BEC5",
                "#B0BEC5",
                "#B0BEC5",
                "#B0BEC5",
                "#B0BEC5",
                "#B0BEC5",
                "#B0BEC5",
                "#B0BEC5",
                "#B0BEC5",
                "red",
                "#B0BEC5",
                "#B0BEC5",
                "#B0BEC5",
                "#B0BEC5",
                "#B0BEC5",
                "#B0BEC5",
                "#B0BEC5",
                "#B0BEC5",
                "#B0BEC5",
                "#B0BEC5",
                "#B0BEC5",
                "#B0BEC5",
                "#B0BEC5",
                "#B0BEC5",
                "#B0BEC5"
               ]
              ]
             }
            ],
            "label": "Topic 38",
            "method": "update"
           },
           {
            "args": [
             {
              "marker.color": [
               [
                "#B0BEC5",
                "#B0BEC5",
                "#B0BEC5",
                "#B0BEC5",
                "#B0BEC5",
                "#B0BEC5",
                "#B0BEC5",
                "#B0BEC5",
                "#B0BEC5",
                "#B0BEC5",
                "#B0BEC5",
                "#B0BEC5",
                "#B0BEC5",
                "#B0BEC5",
                "#B0BEC5",
                "#B0BEC5",
                "#B0BEC5",
                "#B0BEC5",
                "#B0BEC5",
                "#B0BEC5",
                "#B0BEC5",
                "#B0BEC5",
                "#B0BEC5",
                "#B0BEC5",
                "#B0BEC5",
                "#B0BEC5",
                "#B0BEC5",
                "#B0BEC5",
                "#B0BEC5",
                "#B0BEC5",
                "#B0BEC5",
                "#B0BEC5",
                "#B0BEC5",
                "#B0BEC5",
                "#B0BEC5",
                "#B0BEC5",
                "#B0BEC5",
                "#B0BEC5",
                "#B0BEC5",
                "red",
                "#B0BEC5",
                "#B0BEC5",
                "#B0BEC5",
                "#B0BEC5",
                "#B0BEC5",
                "#B0BEC5",
                "#B0BEC5",
                "#B0BEC5",
                "#B0BEC5",
                "#B0BEC5",
                "#B0BEC5",
                "#B0BEC5",
                "#B0BEC5",
                "#B0BEC5"
               ]
              ]
             }
            ],
            "label": "Topic 39",
            "method": "update"
           },
           {
            "args": [
             {
              "marker.color": [
               [
                "#B0BEC5",
                "#B0BEC5",
                "#B0BEC5",
                "#B0BEC5",
                "#B0BEC5",
                "#B0BEC5",
                "#B0BEC5",
                "#B0BEC5",
                "#B0BEC5",
                "#B0BEC5",
                "#B0BEC5",
                "#B0BEC5",
                "#B0BEC5",
                "#B0BEC5",
                "#B0BEC5",
                "#B0BEC5",
                "#B0BEC5",
                "#B0BEC5",
                "#B0BEC5",
                "#B0BEC5",
                "#B0BEC5",
                "#B0BEC5",
                "#B0BEC5",
                "#B0BEC5",
                "#B0BEC5",
                "#B0BEC5",
                "#B0BEC5",
                "#B0BEC5",
                "#B0BEC5",
                "#B0BEC5",
                "#B0BEC5",
                "#B0BEC5",
                "#B0BEC5",
                "#B0BEC5",
                "#B0BEC5",
                "#B0BEC5",
                "#B0BEC5",
                "#B0BEC5",
                "#B0BEC5",
                "#B0BEC5",
                "red",
                "#B0BEC5",
                "#B0BEC5",
                "#B0BEC5",
                "#B0BEC5",
                "#B0BEC5",
                "#B0BEC5",
                "#B0BEC5",
                "#B0BEC5",
                "#B0BEC5",
                "#B0BEC5",
                "#B0BEC5",
                "#B0BEC5",
                "#B0BEC5"
               ]
              ]
             }
            ],
            "label": "Topic 40",
            "method": "update"
           },
           {
            "args": [
             {
              "marker.color": [
               [
                "#B0BEC5",
                "#B0BEC5",
                "#B0BEC5",
                "#B0BEC5",
                "#B0BEC5",
                "#B0BEC5",
                "#B0BEC5",
                "#B0BEC5",
                "#B0BEC5",
                "#B0BEC5",
                "#B0BEC5",
                "#B0BEC5",
                "#B0BEC5",
                "#B0BEC5",
                "#B0BEC5",
                "#B0BEC5",
                "#B0BEC5",
                "#B0BEC5",
                "#B0BEC5",
                "#B0BEC5",
                "#B0BEC5",
                "#B0BEC5",
                "#B0BEC5",
                "#B0BEC5",
                "#B0BEC5",
                "#B0BEC5",
                "#B0BEC5",
                "#B0BEC5",
                "#B0BEC5",
                "#B0BEC5",
                "#B0BEC5",
                "#B0BEC5",
                "#B0BEC5",
                "#B0BEC5",
                "#B0BEC5",
                "#B0BEC5",
                "#B0BEC5",
                "#B0BEC5",
                "#B0BEC5",
                "#B0BEC5",
                "#B0BEC5",
                "red",
                "#B0BEC5",
                "#B0BEC5",
                "#B0BEC5",
                "#B0BEC5",
                "#B0BEC5",
                "#B0BEC5",
                "#B0BEC5",
                "#B0BEC5",
                "#B0BEC5",
                "#B0BEC5",
                "#B0BEC5",
                "#B0BEC5"
               ]
              ]
             }
            ],
            "label": "Topic 41",
            "method": "update"
           },
           {
            "args": [
             {
              "marker.color": [
               [
                "#B0BEC5",
                "#B0BEC5",
                "#B0BEC5",
                "#B0BEC5",
                "#B0BEC5",
                "#B0BEC5",
                "#B0BEC5",
                "#B0BEC5",
                "#B0BEC5",
                "#B0BEC5",
                "#B0BEC5",
                "#B0BEC5",
                "#B0BEC5",
                "#B0BEC5",
                "#B0BEC5",
                "#B0BEC5",
                "#B0BEC5",
                "#B0BEC5",
                "#B0BEC5",
                "#B0BEC5",
                "#B0BEC5",
                "#B0BEC5",
                "#B0BEC5",
                "#B0BEC5",
                "#B0BEC5",
                "#B0BEC5",
                "#B0BEC5",
                "#B0BEC5",
                "#B0BEC5",
                "#B0BEC5",
                "#B0BEC5",
                "#B0BEC5",
                "#B0BEC5",
                "#B0BEC5",
                "#B0BEC5",
                "#B0BEC5",
                "#B0BEC5",
                "#B0BEC5",
                "#B0BEC5",
                "#B0BEC5",
                "#B0BEC5",
                "#B0BEC5",
                "red",
                "#B0BEC5",
                "#B0BEC5",
                "#B0BEC5",
                "#B0BEC5",
                "#B0BEC5",
                "#B0BEC5",
                "#B0BEC5",
                "#B0BEC5",
                "#B0BEC5",
                "#B0BEC5",
                "#B0BEC5"
               ]
              ]
             }
            ],
            "label": "Topic 42",
            "method": "update"
           },
           {
            "args": [
             {
              "marker.color": [
               [
                "#B0BEC5",
                "#B0BEC5",
                "#B0BEC5",
                "#B0BEC5",
                "#B0BEC5",
                "#B0BEC5",
                "#B0BEC5",
                "#B0BEC5",
                "#B0BEC5",
                "#B0BEC5",
                "#B0BEC5",
                "#B0BEC5",
                "#B0BEC5",
                "#B0BEC5",
                "#B0BEC5",
                "#B0BEC5",
                "#B0BEC5",
                "#B0BEC5",
                "#B0BEC5",
                "#B0BEC5",
                "#B0BEC5",
                "#B0BEC5",
                "#B0BEC5",
                "#B0BEC5",
                "#B0BEC5",
                "#B0BEC5",
                "#B0BEC5",
                "#B0BEC5",
                "#B0BEC5",
                "#B0BEC5",
                "#B0BEC5",
                "#B0BEC5",
                "#B0BEC5",
                "#B0BEC5",
                "#B0BEC5",
                "#B0BEC5",
                "#B0BEC5",
                "#B0BEC5",
                "#B0BEC5",
                "#B0BEC5",
                "#B0BEC5",
                "#B0BEC5",
                "#B0BEC5",
                "red",
                "#B0BEC5",
                "#B0BEC5",
                "#B0BEC5",
                "#B0BEC5",
                "#B0BEC5",
                "#B0BEC5",
                "#B0BEC5",
                "#B0BEC5",
                "#B0BEC5",
                "#B0BEC5"
               ]
              ]
             }
            ],
            "label": "Topic 43",
            "method": "update"
           },
           {
            "args": [
             {
              "marker.color": [
               [
                "#B0BEC5",
                "#B0BEC5",
                "#B0BEC5",
                "#B0BEC5",
                "#B0BEC5",
                "#B0BEC5",
                "#B0BEC5",
                "#B0BEC5",
                "#B0BEC5",
                "#B0BEC5",
                "#B0BEC5",
                "#B0BEC5",
                "#B0BEC5",
                "#B0BEC5",
                "#B0BEC5",
                "#B0BEC5",
                "#B0BEC5",
                "#B0BEC5",
                "#B0BEC5",
                "#B0BEC5",
                "#B0BEC5",
                "#B0BEC5",
                "#B0BEC5",
                "#B0BEC5",
                "#B0BEC5",
                "#B0BEC5",
                "#B0BEC5",
                "#B0BEC5",
                "#B0BEC5",
                "#B0BEC5",
                "#B0BEC5",
                "#B0BEC5",
                "#B0BEC5",
                "#B0BEC5",
                "#B0BEC5",
                "#B0BEC5",
                "#B0BEC5",
                "#B0BEC5",
                "#B0BEC5",
                "#B0BEC5",
                "#B0BEC5",
                "#B0BEC5",
                "#B0BEC5",
                "#B0BEC5",
                "red",
                "#B0BEC5",
                "#B0BEC5",
                "#B0BEC5",
                "#B0BEC5",
                "#B0BEC5",
                "#B0BEC5",
                "#B0BEC5",
                "#B0BEC5",
                "#B0BEC5"
               ]
              ]
             }
            ],
            "label": "Topic 44",
            "method": "update"
           },
           {
            "args": [
             {
              "marker.color": [
               [
                "#B0BEC5",
                "#B0BEC5",
                "#B0BEC5",
                "#B0BEC5",
                "#B0BEC5",
                "#B0BEC5",
                "#B0BEC5",
                "#B0BEC5",
                "#B0BEC5",
                "#B0BEC5",
                "#B0BEC5",
                "#B0BEC5",
                "#B0BEC5",
                "#B0BEC5",
                "#B0BEC5",
                "#B0BEC5",
                "#B0BEC5",
                "#B0BEC5",
                "#B0BEC5",
                "#B0BEC5",
                "#B0BEC5",
                "#B0BEC5",
                "#B0BEC5",
                "#B0BEC5",
                "#B0BEC5",
                "#B0BEC5",
                "#B0BEC5",
                "#B0BEC5",
                "#B0BEC5",
                "#B0BEC5",
                "#B0BEC5",
                "#B0BEC5",
                "#B0BEC5",
                "#B0BEC5",
                "#B0BEC5",
                "#B0BEC5",
                "#B0BEC5",
                "#B0BEC5",
                "#B0BEC5",
                "#B0BEC5",
                "#B0BEC5",
                "#B0BEC5",
                "#B0BEC5",
                "#B0BEC5",
                "#B0BEC5",
                "red",
                "#B0BEC5",
                "#B0BEC5",
                "#B0BEC5",
                "#B0BEC5",
                "#B0BEC5",
                "#B0BEC5",
                "#B0BEC5",
                "#B0BEC5"
               ]
              ]
             }
            ],
            "label": "Topic 45",
            "method": "update"
           },
           {
            "args": [
             {
              "marker.color": [
               [
                "#B0BEC5",
                "#B0BEC5",
                "#B0BEC5",
                "#B0BEC5",
                "#B0BEC5",
                "#B0BEC5",
                "#B0BEC5",
                "#B0BEC5",
                "#B0BEC5",
                "#B0BEC5",
                "#B0BEC5",
                "#B0BEC5",
                "#B0BEC5",
                "#B0BEC5",
                "#B0BEC5",
                "#B0BEC5",
                "#B0BEC5",
                "#B0BEC5",
                "#B0BEC5",
                "#B0BEC5",
                "#B0BEC5",
                "#B0BEC5",
                "#B0BEC5",
                "#B0BEC5",
                "#B0BEC5",
                "#B0BEC5",
                "#B0BEC5",
                "#B0BEC5",
                "#B0BEC5",
                "#B0BEC5",
                "#B0BEC5",
                "#B0BEC5",
                "#B0BEC5",
                "#B0BEC5",
                "#B0BEC5",
                "#B0BEC5",
                "#B0BEC5",
                "#B0BEC5",
                "#B0BEC5",
                "#B0BEC5",
                "#B0BEC5",
                "#B0BEC5",
                "#B0BEC5",
                "#B0BEC5",
                "#B0BEC5",
                "#B0BEC5",
                "red",
                "#B0BEC5",
                "#B0BEC5",
                "#B0BEC5",
                "#B0BEC5",
                "#B0BEC5",
                "#B0BEC5",
                "#B0BEC5"
               ]
              ]
             }
            ],
            "label": "Topic 46",
            "method": "update"
           },
           {
            "args": [
             {
              "marker.color": [
               [
                "#B0BEC5",
                "#B0BEC5",
                "#B0BEC5",
                "#B0BEC5",
                "#B0BEC5",
                "#B0BEC5",
                "#B0BEC5",
                "#B0BEC5",
                "#B0BEC5",
                "#B0BEC5",
                "#B0BEC5",
                "#B0BEC5",
                "#B0BEC5",
                "#B0BEC5",
                "#B0BEC5",
                "#B0BEC5",
                "#B0BEC5",
                "#B0BEC5",
                "#B0BEC5",
                "#B0BEC5",
                "#B0BEC5",
                "#B0BEC5",
                "#B0BEC5",
                "#B0BEC5",
                "#B0BEC5",
                "#B0BEC5",
                "#B0BEC5",
                "#B0BEC5",
                "#B0BEC5",
                "#B0BEC5",
                "#B0BEC5",
                "#B0BEC5",
                "#B0BEC5",
                "#B0BEC5",
                "#B0BEC5",
                "#B0BEC5",
                "#B0BEC5",
                "#B0BEC5",
                "#B0BEC5",
                "#B0BEC5",
                "#B0BEC5",
                "#B0BEC5",
                "#B0BEC5",
                "#B0BEC5",
                "#B0BEC5",
                "#B0BEC5",
                "#B0BEC5",
                "red",
                "#B0BEC5",
                "#B0BEC5",
                "#B0BEC5",
                "#B0BEC5",
                "#B0BEC5",
                "#B0BEC5"
               ]
              ]
             }
            ],
            "label": "Topic 47",
            "method": "update"
           },
           {
            "args": [
             {
              "marker.color": [
               [
                "#B0BEC5",
                "#B0BEC5",
                "#B0BEC5",
                "#B0BEC5",
                "#B0BEC5",
                "#B0BEC5",
                "#B0BEC5",
                "#B0BEC5",
                "#B0BEC5",
                "#B0BEC5",
                "#B0BEC5",
                "#B0BEC5",
                "#B0BEC5",
                "#B0BEC5",
                "#B0BEC5",
                "#B0BEC5",
                "#B0BEC5",
                "#B0BEC5",
                "#B0BEC5",
                "#B0BEC5",
                "#B0BEC5",
                "#B0BEC5",
                "#B0BEC5",
                "#B0BEC5",
                "#B0BEC5",
                "#B0BEC5",
                "#B0BEC5",
                "#B0BEC5",
                "#B0BEC5",
                "#B0BEC5",
                "#B0BEC5",
                "#B0BEC5",
                "#B0BEC5",
                "#B0BEC5",
                "#B0BEC5",
                "#B0BEC5",
                "#B0BEC5",
                "#B0BEC5",
                "#B0BEC5",
                "#B0BEC5",
                "#B0BEC5",
                "#B0BEC5",
                "#B0BEC5",
                "#B0BEC5",
                "#B0BEC5",
                "#B0BEC5",
                "#B0BEC5",
                "#B0BEC5",
                "red",
                "#B0BEC5",
                "#B0BEC5",
                "#B0BEC5",
                "#B0BEC5",
                "#B0BEC5"
               ]
              ]
             }
            ],
            "label": "Topic 48",
            "method": "update"
           },
           {
            "args": [
             {
              "marker.color": [
               [
                "#B0BEC5",
                "#B0BEC5",
                "#B0BEC5",
                "#B0BEC5",
                "#B0BEC5",
                "#B0BEC5",
                "#B0BEC5",
                "#B0BEC5",
                "#B0BEC5",
                "#B0BEC5",
                "#B0BEC5",
                "#B0BEC5",
                "#B0BEC5",
                "#B0BEC5",
                "#B0BEC5",
                "#B0BEC5",
                "#B0BEC5",
                "#B0BEC5",
                "#B0BEC5",
                "#B0BEC5",
                "#B0BEC5",
                "#B0BEC5",
                "#B0BEC5",
                "#B0BEC5",
                "#B0BEC5",
                "#B0BEC5",
                "#B0BEC5",
                "#B0BEC5",
                "#B0BEC5",
                "#B0BEC5",
                "#B0BEC5",
                "#B0BEC5",
                "#B0BEC5",
                "#B0BEC5",
                "#B0BEC5",
                "#B0BEC5",
                "#B0BEC5",
                "#B0BEC5",
                "#B0BEC5",
                "#B0BEC5",
                "#B0BEC5",
                "#B0BEC5",
                "#B0BEC5",
                "#B0BEC5",
                "#B0BEC5",
                "#B0BEC5",
                "#B0BEC5",
                "#B0BEC5",
                "#B0BEC5",
                "red",
                "#B0BEC5",
                "#B0BEC5",
                "#B0BEC5",
                "#B0BEC5"
               ]
              ]
             }
            ],
            "label": "Topic 49",
            "method": "update"
           },
           {
            "args": [
             {
              "marker.color": [
               [
                "#B0BEC5",
                "#B0BEC5",
                "#B0BEC5",
                "#B0BEC5",
                "#B0BEC5",
                "#B0BEC5",
                "#B0BEC5",
                "#B0BEC5",
                "#B0BEC5",
                "#B0BEC5",
                "#B0BEC5",
                "#B0BEC5",
                "#B0BEC5",
                "#B0BEC5",
                "#B0BEC5",
                "#B0BEC5",
                "#B0BEC5",
                "#B0BEC5",
                "#B0BEC5",
                "#B0BEC5",
                "#B0BEC5",
                "#B0BEC5",
                "#B0BEC5",
                "#B0BEC5",
                "#B0BEC5",
                "#B0BEC5",
                "#B0BEC5",
                "#B0BEC5",
                "#B0BEC5",
                "#B0BEC5",
                "#B0BEC5",
                "#B0BEC5",
                "#B0BEC5",
                "#B0BEC5",
                "#B0BEC5",
                "#B0BEC5",
                "#B0BEC5",
                "#B0BEC5",
                "#B0BEC5",
                "#B0BEC5",
                "#B0BEC5",
                "#B0BEC5",
                "#B0BEC5",
                "#B0BEC5",
                "#B0BEC5",
                "#B0BEC5",
                "#B0BEC5",
                "#B0BEC5",
                "#B0BEC5",
                "#B0BEC5",
                "red",
                "#B0BEC5",
                "#B0BEC5",
                "#B0BEC5"
               ]
              ]
             }
            ],
            "label": "Topic 50",
            "method": "update"
           },
           {
            "args": [
             {
              "marker.color": [
               [
                "#B0BEC5",
                "#B0BEC5",
                "#B0BEC5",
                "#B0BEC5",
                "#B0BEC5",
                "#B0BEC5",
                "#B0BEC5",
                "#B0BEC5",
                "#B0BEC5",
                "#B0BEC5",
                "#B0BEC5",
                "#B0BEC5",
                "#B0BEC5",
                "#B0BEC5",
                "#B0BEC5",
                "#B0BEC5",
                "#B0BEC5",
                "#B0BEC5",
                "#B0BEC5",
                "#B0BEC5",
                "#B0BEC5",
                "#B0BEC5",
                "#B0BEC5",
                "#B0BEC5",
                "#B0BEC5",
                "#B0BEC5",
                "#B0BEC5",
                "#B0BEC5",
                "#B0BEC5",
                "#B0BEC5",
                "#B0BEC5",
                "#B0BEC5",
                "#B0BEC5",
                "#B0BEC5",
                "#B0BEC5",
                "#B0BEC5",
                "#B0BEC5",
                "#B0BEC5",
                "#B0BEC5",
                "#B0BEC5",
                "#B0BEC5",
                "#B0BEC5",
                "#B0BEC5",
                "#B0BEC5",
                "#B0BEC5",
                "#B0BEC5",
                "#B0BEC5",
                "#B0BEC5",
                "#B0BEC5",
                "#B0BEC5",
                "#B0BEC5",
                "red",
                "#B0BEC5",
                "#B0BEC5"
               ]
              ]
             }
            ],
            "label": "Topic 51",
            "method": "update"
           },
           {
            "args": [
             {
              "marker.color": [
               [
                "#B0BEC5",
                "#B0BEC5",
                "#B0BEC5",
                "#B0BEC5",
                "#B0BEC5",
                "#B0BEC5",
                "#B0BEC5",
                "#B0BEC5",
                "#B0BEC5",
                "#B0BEC5",
                "#B0BEC5",
                "#B0BEC5",
                "#B0BEC5",
                "#B0BEC5",
                "#B0BEC5",
                "#B0BEC5",
                "#B0BEC5",
                "#B0BEC5",
                "#B0BEC5",
                "#B0BEC5",
                "#B0BEC5",
                "#B0BEC5",
                "#B0BEC5",
                "#B0BEC5",
                "#B0BEC5",
                "#B0BEC5",
                "#B0BEC5",
                "#B0BEC5",
                "#B0BEC5",
                "#B0BEC5",
                "#B0BEC5",
                "#B0BEC5",
                "#B0BEC5",
                "#B0BEC5",
                "#B0BEC5",
                "#B0BEC5",
                "#B0BEC5",
                "#B0BEC5",
                "#B0BEC5",
                "#B0BEC5",
                "#B0BEC5",
                "#B0BEC5",
                "#B0BEC5",
                "#B0BEC5",
                "#B0BEC5",
                "#B0BEC5",
                "#B0BEC5",
                "#B0BEC5",
                "#B0BEC5",
                "#B0BEC5",
                "#B0BEC5",
                "#B0BEC5",
                "red",
                "#B0BEC5"
               ]
              ]
             }
            ],
            "label": "Topic 52",
            "method": "update"
           },
           {
            "args": [
             {
              "marker.color": [
               [
                "#B0BEC5",
                "#B0BEC5",
                "#B0BEC5",
                "#B0BEC5",
                "#B0BEC5",
                "#B0BEC5",
                "#B0BEC5",
                "#B0BEC5",
                "#B0BEC5",
                "#B0BEC5",
                "#B0BEC5",
                "#B0BEC5",
                "#B0BEC5",
                "#B0BEC5",
                "#B0BEC5",
                "#B0BEC5",
                "#B0BEC5",
                "#B0BEC5",
                "#B0BEC5",
                "#B0BEC5",
                "#B0BEC5",
                "#B0BEC5",
                "#B0BEC5",
                "#B0BEC5",
                "#B0BEC5",
                "#B0BEC5",
                "#B0BEC5",
                "#B0BEC5",
                "#B0BEC5",
                "#B0BEC5",
                "#B0BEC5",
                "#B0BEC5",
                "#B0BEC5",
                "#B0BEC5",
                "#B0BEC5",
                "#B0BEC5",
                "#B0BEC5",
                "#B0BEC5",
                "#B0BEC5",
                "#B0BEC5",
                "#B0BEC5",
                "#B0BEC5",
                "#B0BEC5",
                "#B0BEC5",
                "#B0BEC5",
                "#B0BEC5",
                "#B0BEC5",
                "#B0BEC5",
                "#B0BEC5",
                "#B0BEC5",
                "#B0BEC5",
                "#B0BEC5",
                "#B0BEC5",
                "red"
               ]
              ]
             }
            ],
            "label": "Topic 53",
            "method": "update"
           }
          ]
         }
        ],
        "template": {
         "data": {
          "bar": [
           {
            "error_x": {
             "color": "rgb(36,36,36)"
            },
            "error_y": {
             "color": "rgb(36,36,36)"
            },
            "marker": {
             "line": {
              "color": "white",
              "width": 0.5
             },
             "pattern": {
              "fillmode": "overlay",
              "size": 10,
              "solidity": 0.2
             }
            },
            "type": "bar"
           }
          ],
          "barpolar": [
           {
            "marker": {
             "line": {
              "color": "white",
              "width": 0.5
             },
             "pattern": {
              "fillmode": "overlay",
              "size": 10,
              "solidity": 0.2
             }
            },
            "type": "barpolar"
           }
          ],
          "carpet": [
           {
            "aaxis": {
             "endlinecolor": "rgb(36,36,36)",
             "gridcolor": "white",
             "linecolor": "white",
             "minorgridcolor": "white",
             "startlinecolor": "rgb(36,36,36)"
            },
            "baxis": {
             "endlinecolor": "rgb(36,36,36)",
             "gridcolor": "white",
             "linecolor": "white",
             "minorgridcolor": "white",
             "startlinecolor": "rgb(36,36,36)"
            },
            "type": "carpet"
           }
          ],
          "choropleth": [
           {
            "colorbar": {
             "outlinewidth": 1,
             "tickcolor": "rgb(36,36,36)",
             "ticks": "outside"
            },
            "type": "choropleth"
           }
          ],
          "contour": [
           {
            "colorbar": {
             "outlinewidth": 1,
             "tickcolor": "rgb(36,36,36)",
             "ticks": "outside"
            },
            "colorscale": [
             [
              0,
              "#440154"
             ],
             [
              0.1111111111111111,
              "#482878"
             ],
             [
              0.2222222222222222,
              "#3e4989"
             ],
             [
              0.3333333333333333,
              "#31688e"
             ],
             [
              0.4444444444444444,
              "#26828e"
             ],
             [
              0.5555555555555556,
              "#1f9e89"
             ],
             [
              0.6666666666666666,
              "#35b779"
             ],
             [
              0.7777777777777778,
              "#6ece58"
             ],
             [
              0.8888888888888888,
              "#b5de2b"
             ],
             [
              1,
              "#fde725"
             ]
            ],
            "type": "contour"
           }
          ],
          "contourcarpet": [
           {
            "colorbar": {
             "outlinewidth": 1,
             "tickcolor": "rgb(36,36,36)",
             "ticks": "outside"
            },
            "type": "contourcarpet"
           }
          ],
          "heatmap": [
           {
            "colorbar": {
             "outlinewidth": 1,
             "tickcolor": "rgb(36,36,36)",
             "ticks": "outside"
            },
            "colorscale": [
             [
              0,
              "#440154"
             ],
             [
              0.1111111111111111,
              "#482878"
             ],
             [
              0.2222222222222222,
              "#3e4989"
             ],
             [
              0.3333333333333333,
              "#31688e"
             ],
             [
              0.4444444444444444,
              "#26828e"
             ],
             [
              0.5555555555555556,
              "#1f9e89"
             ],
             [
              0.6666666666666666,
              "#35b779"
             ],
             [
              0.7777777777777778,
              "#6ece58"
             ],
             [
              0.8888888888888888,
              "#b5de2b"
             ],
             [
              1,
              "#fde725"
             ]
            ],
            "type": "heatmap"
           }
          ],
          "histogram": [
           {
            "marker": {
             "line": {
              "color": "white",
              "width": 0.6
             }
            },
            "type": "histogram"
           }
          ],
          "histogram2d": [
           {
            "colorbar": {
             "outlinewidth": 1,
             "tickcolor": "rgb(36,36,36)",
             "ticks": "outside"
            },
            "colorscale": [
             [
              0,
              "#440154"
             ],
             [
              0.1111111111111111,
              "#482878"
             ],
             [
              0.2222222222222222,
              "#3e4989"
             ],
             [
              0.3333333333333333,
              "#31688e"
             ],
             [
              0.4444444444444444,
              "#26828e"
             ],
             [
              0.5555555555555556,
              "#1f9e89"
             ],
             [
              0.6666666666666666,
              "#35b779"
             ],
             [
              0.7777777777777778,
              "#6ece58"
             ],
             [
              0.8888888888888888,
              "#b5de2b"
             ],
             [
              1,
              "#fde725"
             ]
            ],
            "type": "histogram2d"
           }
          ],
          "histogram2dcontour": [
           {
            "colorbar": {
             "outlinewidth": 1,
             "tickcolor": "rgb(36,36,36)",
             "ticks": "outside"
            },
            "colorscale": [
             [
              0,
              "#440154"
             ],
             [
              0.1111111111111111,
              "#482878"
             ],
             [
              0.2222222222222222,
              "#3e4989"
             ],
             [
              0.3333333333333333,
              "#31688e"
             ],
             [
              0.4444444444444444,
              "#26828e"
             ],
             [
              0.5555555555555556,
              "#1f9e89"
             ],
             [
              0.6666666666666666,
              "#35b779"
             ],
             [
              0.7777777777777778,
              "#6ece58"
             ],
             [
              0.8888888888888888,
              "#b5de2b"
             ],
             [
              1,
              "#fde725"
             ]
            ],
            "type": "histogram2dcontour"
           }
          ],
          "mesh3d": [
           {
            "colorbar": {
             "outlinewidth": 1,
             "tickcolor": "rgb(36,36,36)",
             "ticks": "outside"
            },
            "type": "mesh3d"
           }
          ],
          "parcoords": [
           {
            "line": {
             "colorbar": {
              "outlinewidth": 1,
              "tickcolor": "rgb(36,36,36)",
              "ticks": "outside"
             }
            },
            "type": "parcoords"
           }
          ],
          "pie": [
           {
            "automargin": true,
            "type": "pie"
           }
          ],
          "scatter": [
           {
            "fillpattern": {
             "fillmode": "overlay",
             "size": 10,
             "solidity": 0.2
            },
            "type": "scatter"
           }
          ],
          "scatter3d": [
           {
            "line": {
             "colorbar": {
              "outlinewidth": 1,
              "tickcolor": "rgb(36,36,36)",
              "ticks": "outside"
             }
            },
            "marker": {
             "colorbar": {
              "outlinewidth": 1,
              "tickcolor": "rgb(36,36,36)",
              "ticks": "outside"
             }
            },
            "type": "scatter3d"
           }
          ],
          "scattercarpet": [
           {
            "marker": {
             "colorbar": {
              "outlinewidth": 1,
              "tickcolor": "rgb(36,36,36)",
              "ticks": "outside"
             }
            },
            "type": "scattercarpet"
           }
          ],
          "scattergeo": [
           {
            "marker": {
             "colorbar": {
              "outlinewidth": 1,
              "tickcolor": "rgb(36,36,36)",
              "ticks": "outside"
             }
            },
            "type": "scattergeo"
           }
          ],
          "scattergl": [
           {
            "marker": {
             "colorbar": {
              "outlinewidth": 1,
              "tickcolor": "rgb(36,36,36)",
              "ticks": "outside"
             }
            },
            "type": "scattergl"
           }
          ],
          "scattermap": [
           {
            "marker": {
             "colorbar": {
              "outlinewidth": 1,
              "tickcolor": "rgb(36,36,36)",
              "ticks": "outside"
             }
            },
            "type": "scattermap"
           }
          ],
          "scattermapbox": [
           {
            "marker": {
             "colorbar": {
              "outlinewidth": 1,
              "tickcolor": "rgb(36,36,36)",
              "ticks": "outside"
             }
            },
            "type": "scattermapbox"
           }
          ],
          "scatterpolar": [
           {
            "marker": {
             "colorbar": {
              "outlinewidth": 1,
              "tickcolor": "rgb(36,36,36)",
              "ticks": "outside"
             }
            },
            "type": "scatterpolar"
           }
          ],
          "scatterpolargl": [
           {
            "marker": {
             "colorbar": {
              "outlinewidth": 1,
              "tickcolor": "rgb(36,36,36)",
              "ticks": "outside"
             }
            },
            "type": "scatterpolargl"
           }
          ],
          "scatterternary": [
           {
            "marker": {
             "colorbar": {
              "outlinewidth": 1,
              "tickcolor": "rgb(36,36,36)",
              "ticks": "outside"
             }
            },
            "type": "scatterternary"
           }
          ],
          "surface": [
           {
            "colorbar": {
             "outlinewidth": 1,
             "tickcolor": "rgb(36,36,36)",
             "ticks": "outside"
            },
            "colorscale": [
             [
              0,
              "#440154"
             ],
             [
              0.1111111111111111,
              "#482878"
             ],
             [
              0.2222222222222222,
              "#3e4989"
             ],
             [
              0.3333333333333333,
              "#31688e"
             ],
             [
              0.4444444444444444,
              "#26828e"
             ],
             [
              0.5555555555555556,
              "#1f9e89"
             ],
             [
              0.6666666666666666,
              "#35b779"
             ],
             [
              0.7777777777777778,
              "#6ece58"
             ],
             [
              0.8888888888888888,
              "#b5de2b"
             ],
             [
              1,
              "#fde725"
             ]
            ],
            "type": "surface"
           }
          ],
          "table": [
           {
            "cells": {
             "fill": {
              "color": "rgb(237,237,237)"
             },
             "line": {
              "color": "white"
             }
            },
            "header": {
             "fill": {
              "color": "rgb(217,217,217)"
             },
             "line": {
              "color": "white"
             }
            },
            "type": "table"
           }
          ]
         },
         "layout": {
          "annotationdefaults": {
           "arrowhead": 0,
           "arrowwidth": 1
          },
          "autotypenumbers": "strict",
          "coloraxis": {
           "colorbar": {
            "outlinewidth": 1,
            "tickcolor": "rgb(36,36,36)",
            "ticks": "outside"
           }
          },
          "colorscale": {
           "diverging": [
            [
             0,
             "rgb(103,0,31)"
            ],
            [
             0.1,
             "rgb(178,24,43)"
            ],
            [
             0.2,
             "rgb(214,96,77)"
            ],
            [
             0.3,
             "rgb(244,165,130)"
            ],
            [
             0.4,
             "rgb(253,219,199)"
            ],
            [
             0.5,
             "rgb(247,247,247)"
            ],
            [
             0.6,
             "rgb(209,229,240)"
            ],
            [
             0.7,
             "rgb(146,197,222)"
            ],
            [
             0.8,
             "rgb(67,147,195)"
            ],
            [
             0.9,
             "rgb(33,102,172)"
            ],
            [
             1,
             "rgb(5,48,97)"
            ]
           ],
           "sequential": [
            [
             0,
             "#440154"
            ],
            [
             0.1111111111111111,
             "#482878"
            ],
            [
             0.2222222222222222,
             "#3e4989"
            ],
            [
             0.3333333333333333,
             "#31688e"
            ],
            [
             0.4444444444444444,
             "#26828e"
            ],
            [
             0.5555555555555556,
             "#1f9e89"
            ],
            [
             0.6666666666666666,
             "#35b779"
            ],
            [
             0.7777777777777778,
             "#6ece58"
            ],
            [
             0.8888888888888888,
             "#b5de2b"
            ],
            [
             1,
             "#fde725"
            ]
           ],
           "sequentialminus": [
            [
             0,
             "#440154"
            ],
            [
             0.1111111111111111,
             "#482878"
            ],
            [
             0.2222222222222222,
             "#3e4989"
            ],
            [
             0.3333333333333333,
             "#31688e"
            ],
            [
             0.4444444444444444,
             "#26828e"
            ],
            [
             0.5555555555555556,
             "#1f9e89"
            ],
            [
             0.6666666666666666,
             "#35b779"
            ],
            [
             0.7777777777777778,
             "#6ece58"
            ],
            [
             0.8888888888888888,
             "#b5de2b"
            ],
            [
             1,
             "#fde725"
            ]
           ]
          },
          "colorway": [
           "#1F77B4",
           "#FF7F0E",
           "#2CA02C",
           "#D62728",
           "#9467BD",
           "#8C564B",
           "#E377C2",
           "#7F7F7F",
           "#BCBD22",
           "#17BECF"
          ],
          "font": {
           "color": "rgb(36,36,36)"
          },
          "geo": {
           "bgcolor": "white",
           "lakecolor": "white",
           "landcolor": "white",
           "showlakes": true,
           "showland": true,
           "subunitcolor": "white"
          },
          "hoverlabel": {
           "align": "left"
          },
          "hovermode": "closest",
          "mapbox": {
           "style": "light"
          },
          "paper_bgcolor": "white",
          "plot_bgcolor": "white",
          "polar": {
           "angularaxis": {
            "gridcolor": "rgb(232,232,232)",
            "linecolor": "rgb(36,36,36)",
            "showgrid": false,
            "showline": true,
            "ticks": "outside"
           },
           "bgcolor": "white",
           "radialaxis": {
            "gridcolor": "rgb(232,232,232)",
            "linecolor": "rgb(36,36,36)",
            "showgrid": false,
            "showline": true,
            "ticks": "outside"
           }
          },
          "scene": {
           "xaxis": {
            "backgroundcolor": "white",
            "gridcolor": "rgb(232,232,232)",
            "gridwidth": 2,
            "linecolor": "rgb(36,36,36)",
            "showbackground": true,
            "showgrid": false,
            "showline": true,
            "ticks": "outside",
            "zeroline": false,
            "zerolinecolor": "rgb(36,36,36)"
           },
           "yaxis": {
            "backgroundcolor": "white",
            "gridcolor": "rgb(232,232,232)",
            "gridwidth": 2,
            "linecolor": "rgb(36,36,36)",
            "showbackground": true,
            "showgrid": false,
            "showline": true,
            "ticks": "outside",
            "zeroline": false,
            "zerolinecolor": "rgb(36,36,36)"
           },
           "zaxis": {
            "backgroundcolor": "white",
            "gridcolor": "rgb(232,232,232)",
            "gridwidth": 2,
            "linecolor": "rgb(36,36,36)",
            "showbackground": true,
            "showgrid": false,
            "showline": true,
            "ticks": "outside",
            "zeroline": false,
            "zerolinecolor": "rgb(36,36,36)"
           }
          },
          "shapedefaults": {
           "fillcolor": "black",
           "line": {
            "width": 0
           },
           "opacity": 0.3
          },
          "ternary": {
           "aaxis": {
            "gridcolor": "rgb(232,232,232)",
            "linecolor": "rgb(36,36,36)",
            "showgrid": false,
            "showline": true,
            "ticks": "outside"
           },
           "baxis": {
            "gridcolor": "rgb(232,232,232)",
            "linecolor": "rgb(36,36,36)",
            "showgrid": false,
            "showline": true,
            "ticks": "outside"
           },
           "bgcolor": "white",
           "caxis": {
            "gridcolor": "rgb(232,232,232)",
            "linecolor": "rgb(36,36,36)",
            "showgrid": false,
            "showline": true,
            "ticks": "outside"
           }
          },
          "title": {
           "x": 0.05
          },
          "xaxis": {
           "automargin": true,
           "gridcolor": "rgb(232,232,232)",
           "linecolor": "rgb(36,36,36)",
           "showgrid": false,
           "showline": true,
           "ticks": "outside",
           "title": {
            "standoff": 15
           },
           "zeroline": false,
           "zerolinecolor": "rgb(36,36,36)"
          },
          "yaxis": {
           "automargin": true,
           "gridcolor": "rgb(232,232,232)",
           "linecolor": "rgb(36,36,36)",
           "showgrid": false,
           "showline": true,
           "ticks": "outside",
           "title": {
            "standoff": 15
           },
           "zeroline": false,
           "zerolinecolor": "rgb(36,36,36)"
          }
         }
        },
        "title": {
         "font": {
          "color": "Black",
          "size": 22
         },
         "text": "<b>Intertopic Distance Map</b>",
         "x": 0.5,
         "xanchor": "center",
         "y": 0.95,
         "yanchor": "top"
        },
        "width": 650,
        "xaxis": {
         "anchor": "y",
         "domain": [
          0,
          1
         ],
         "range": [
          -12.274131345748902,
          23.810853004455566
         ],
         "title": {
          "text": ""
         },
         "visible": false
        },
        "yaxis": {
         "anchor": "x",
         "domain": [
          0,
          1
         ],
         "range": [
          -7.34147367477417,
          18.417850303649903
         ],
         "title": {
          "text": ""
         },
         "visible": false
        }
       }
      }
     },
     "metadata": {},
     "output_type": "display_data"
    }
   ],
   "source": [
    "topic_model.visualize_topics()"
   ]
  },
  {
   "cell_type": "code",
   "execution_count": 144,
   "metadata": {},
   "outputs": [
    {
     "name": "stdout",
     "output_type": "stream",
     "text": [
      "Number of topics: 15\n"
     ]
    }
   ],
   "source": [
    "print(f\"Number of topics: {model.num_topics}\")"
   ]
  },
  {
   "cell_type": "code",
   "execution_count": 145,
   "metadata": {},
   "outputs": [
    {
     "name": "stdout",
     "output_type": "stream",
     "text": [
      "[('game', 0.03721166), ('deal', 0.032482065), ('feature', 0.03174407), ('launch', 0.022629179), ('come', 0.020140609), ('tv', 0.019840265), ('app', 0.0194037), ('watch', 0.0178352), ('buy', 0.017170705), ('know', 0.016182683)]\n",
      "[('screen', 0.09300713), ('let', 0.070017315), ('range', 0.0688484), ('earn', 0.061454482), ('inch', 0.055857755), ('role', 0.048912395), ('trust', 0.048642136), ('color', 0.047595244), ('affiliate', 0.04015957), ('commission', 0.038798906)]\n",
      "[('pm', 0.08949963), ('menu', 0.041157372), ('message', 0.03769895), ('view', 0.03321853), ('delay', 0.027307708), ('account', 0.026133666), ('percent', 0.026127627), ('password', 0.023114445), ('sign', 0.022722425), ('volume', 0.021823762)]\n",
      "[('want', 0.037539802), ('use', 0.035151474), ('information', 0.034136355), ('base', 0.030252), ('website', 0.025309583), ('value', 0.025193227), ('risk', 0.023499614), ('experience', 0.022208333), ('leave', 0.02218078), ('help', 0.0196426)]\n",
      "[('hour', 0.09583142), ('case', 0.052168217), ('week', 0.048145343), ('child', 0.04379353), ('people', 0.03912056), ('city', 0.037168484), ('police', 0.026433557), ('kill', 0.02559422), ('die', 0.024179371), ('family', 0.02231475)]\n",
      "[('market', 0.12840426), ('report', 0.059973847), ('increase', 0.04218328), ('hold', 0.038161453), ('grow', 0.03572842), ('result', 0.027642015), ('gain', 0.021809738), ('supply', 0.021095453), ('reach', 0.020956323), ('impact', 0.020329872)]\n",
      "[('search_shopping', 0.0002878526), ('save_screeneretf', 0.0002878526), ('spark', 0.0002878526), ('sensor', 0.0002878526), ('selection', 0.0002878526), ('trend_activesstock', 0.0002878526), ('screeneretf', 0.0002878526), ('panel', 0.0002878526), ('recession_fear', 0.0002878526), ('affiliate_commission', 0.0002878526)]\n",
      "[('sell', 0.018505806), ('plan', 0.012158673), ('sale', 0.010510293), ('search', 0.0104975505), ('take', 0.0098663615), ('look', 0.009848822), ('continue', 0.009617445), ('issue', 0.009591333), ('follow', 0.00957265), ('pay', 0.00918779)]\n",
      "[('hit', 0.0198423), ('story', 0.01981968), ('show', 0.0197099), ('state', 0.019498566), ('review', 0.016952854), ('woman', 0.016826186), ('man', 0.016753945), ('drop', 0.016732901), ('file', 0.016453948), ('policy', 0.0142789055)]\n",
      "[('share', 0.082438454), ('stock', 0.06959329), ('price', 0.065240644), ('buy', 0.03260629), ('quarter', 0.030373968), ('research', 0.021914184), ('analyst', 0.02156431), ('investor', 0.020988418), ('earning', 0.019531513), ('rating', 0.018383369)]\n",
      "[('provide', 0.044190276), ('business', 0.036796533), ('lead', 0.03414305), ('technology', 0.02722077), ('industry', 0.024855314), ('product', 0.02430574), ('growth', 0.022612965), ('datum', 0.0220511), ('release', 0.019526167), ('transform', 0.016569784)]\n",
      "[('search_shopping', 0.0002878526), ('save_screeneretf', 0.0002878526), ('spark', 0.0002878526), ('sensor', 0.0002878526), ('selection', 0.0002878526), ('trend_activesstock', 0.0002878526), ('screeneretf', 0.0002878526), ('panel', 0.0002878526), ('recession_fear', 0.0002878526), ('affiliate_commission', 0.0002878526)]\n",
      "[('open', 0.07451024), ('link', 0.05206564), ('tab', 0.049939394), ('link_open', 0.026517356), ('email', 0.021617444), ('open_tab', 0.0201338), ('podcast', 0.019010693), ('window', 0.016677424), ('join', 0.016563179), ('people', 0.01526781)]\n",
      "[('user', 0.044426292), ('email', 0.037216764), ('min', 0.031823974), ('access', 0.030717935), ('list', 0.03007658), ('form', 0.029713752), ('click', 0.02524264), ('block', 0.023786068), ('security', 0.02181921), ('article', 0.021447962)]\n",
      "[('video', 0.053431943), ('play', 0.04961082), ('player', 0.045542195), ('write', 0.03661585), ('love', 0.030000124), ('series', 0.027940156), ('way', 0.026005158), ('post', 0.025022078), ('read', 0.022844434), ('go', 0.021839246)]\n"
     ]
    }
   ],
   "source": [
    "for i in range(15):\n",
    "    print(model.show_topic(i))"
   ]
  },
  {
   "cell_type": "markdown",
   "metadata": {},
   "source": [
    "# **Model Evaluation**"
   ]
  },
  {
   "cell_type": "code",
   "execution_count": 146,
   "metadata": {},
   "outputs": [],
   "source": [
    "lda_labels = {\n",
    "    0: \"Gaming\",\n",
    "    1: \"Screen Technology\",\n",
    "    2: \"Timing\",\n",
    "    3: \"Poltical Economy\",\n",
    "    4: \"Subcriptions\",\n",
    "    5: \"Pricing Strategy\",\n",
    "    6: \"Business Technology\",\n",
    "    7: \"Crime News\",\n",
    "    8: \"Entertainment\"\n",
    "}"
   ]
  },
  {
   "cell_type": "code",
   "execution_count": 147,
   "metadata": {},
   "outputs": [
    {
     "data": {
      "text/html": [
       "<div>\n",
       "<style scoped>\n",
       "    .dataframe tbody tr th:only-of-type {\n",
       "        vertical-align: middle;\n",
       "    }\n",
       "\n",
       "    .dataframe tbody tr th {\n",
       "        vertical-align: top;\n",
       "    }\n",
       "\n",
       "    .dataframe thead th {\n",
       "        text-align: right;\n",
       "    }\n",
       "</style>\n",
       "<table border=\"1\" class=\"dataframe\">\n",
       "  <thead>\n",
       "    <tr style=\"text-align: right;\">\n",
       "      <th></th>\n",
       "      <th>Topic ID</th>\n",
       "      <th>Top Words</th>\n",
       "      <th>Label</th>\n",
       "    </tr>\n",
       "  </thead>\n",
       "  <tbody>\n",
       "    <tr>\n",
       "      <th>0</th>\n",
       "      <td>0</td>\n",
       "      <td>game, deal, feature, launch, come, tv, app, wa...</td>\n",
       "      <td>Gaming</td>\n",
       "    </tr>\n",
       "    <tr>\n",
       "      <th>1</th>\n",
       "      <td>1</td>\n",
       "      <td>screen, let, range, earn, inch, role, trust, c...</td>\n",
       "      <td>Screen Technology</td>\n",
       "    </tr>\n",
       "    <tr>\n",
       "      <th>2</th>\n",
       "      <td>2</td>\n",
       "      <td>pm, menu, message, view, delay, account, perce...</td>\n",
       "      <td>Timing</td>\n",
       "    </tr>\n",
       "    <tr>\n",
       "      <th>3</th>\n",
       "      <td>3</td>\n",
       "      <td>want, use, information, base, website, value, ...</td>\n",
       "      <td>Poltical Economy</td>\n",
       "    </tr>\n",
       "    <tr>\n",
       "      <th>4</th>\n",
       "      <td>4</td>\n",
       "      <td>hour, case, week, child, people, city, police,...</td>\n",
       "      <td>Subcriptions</td>\n",
       "    </tr>\n",
       "    <tr>\n",
       "      <th>5</th>\n",
       "      <td>5</td>\n",
       "      <td>market, report, increase, hold, grow, result, ...</td>\n",
       "      <td>Pricing Strategy</td>\n",
       "    </tr>\n",
       "    <tr>\n",
       "      <th>6</th>\n",
       "      <td>6</td>\n",
       "      <td>search_shopping, save_screeneretf, spark, sens...</td>\n",
       "      <td>Business Technology</td>\n",
       "    </tr>\n",
       "    <tr>\n",
       "      <th>7</th>\n",
       "      <td>7</td>\n",
       "      <td>sell, plan, sale, search, take, look, continue...</td>\n",
       "      <td>Crime News</td>\n",
       "    </tr>\n",
       "    <tr>\n",
       "      <th>8</th>\n",
       "      <td>8</td>\n",
       "      <td>hit, story, show, state, review, woman, man, d...</td>\n",
       "      <td>Entertainment</td>\n",
       "    </tr>\n",
       "  </tbody>\n",
       "</table>\n",
       "</div>"
      ],
      "text/plain": [
       "   Topic ID                                          Top Words  \\\n",
       "0         0  game, deal, feature, launch, come, tv, app, wa...   \n",
       "1         1  screen, let, range, earn, inch, role, trust, c...   \n",
       "2         2  pm, menu, message, view, delay, account, perce...   \n",
       "3         3  want, use, information, base, website, value, ...   \n",
       "4         4  hour, case, week, child, people, city, police,...   \n",
       "5         5  market, report, increase, hold, grow, result, ...   \n",
       "6         6  search_shopping, save_screeneretf, spark, sens...   \n",
       "7         7  sell, plan, sale, search, take, look, continue...   \n",
       "8         8  hit, story, show, state, review, woman, man, d...   \n",
       "\n",
       "                 Label  \n",
       "0               Gaming  \n",
       "1    Screen Technology  \n",
       "2               Timing  \n",
       "3     Poltical Economy  \n",
       "4         Subcriptions  \n",
       "5     Pricing Strategy  \n",
       "6  Business Technology  \n",
       "7           Crime News  \n",
       "8        Entertainment  "
      ]
     },
     "metadata": {},
     "output_type": "display_data"
    }
   ],
   "source": [
    "# Build the DataFrame\n",
    "lda_label_df = pd.DataFrame({\n",
    "    \"Topic ID\": list(lda_labels.keys())\n",
    "})\n",
    "\n",
    "# Add top 10 words for each topic\n",
    "top_words = []\n",
    "for topic_id in lda_label_df[\"Topic ID\"]:\n",
    "    words = [word for word, _ in model.show_topic(topic_id, topn=10)]\n",
    "    top_words.append(\", \".join(words))\n",
    "\n",
    "lda_label_df[\"Top Words\"] = top_words\n",
    "\n",
    "lda_label_df[\"Label\"] = list(lda_labels.values())\n",
    "\n",
    "# Display the DataFrame\n",
    "display(lda_label_df)"
   ]
  },
  {
   "cell_type": "code",
   "execution_count": 148,
   "metadata": {},
   "outputs": [],
   "source": [
    "bertopic_words = []\n",
    "for topic_id in range(9):\n",
    "    words = [word for word, _ in topic_model.get_topic(topic_id)[:10]]\n",
    "    bertopic_words.append(\", \".join(words))"
   ]
  },
  {
   "cell_type": "code",
   "execution_count": 149,
   "metadata": {},
   "outputs": [
    {
     "data": {
      "text/plain": [
       "['pm, game, games, xbox, 2022 00, series, gaming, pc, 2022 11, activision',\n",
       " 'inflation, fed, stocks, oil, rates, td, bloomberg, prices, canada, billion',\n",
       " 'link, new tab, opens, tab, opens new, subscription, music, shopping, manage, celebrity',\n",
       " 'seattle, times, seattle times, advertising, streamingcomicsgames, justicelocal, nw, politicseducationeducation, musictv streamingcomicsgames, musictv',\n",
       " 'cloud, prnewswire, gray, customers, platform, oracle, gray media, partner, media group, solutions',\n",
       " 'equities, password, username, register, nasdaq, minute, delayed, financial, news financial, nasdaq stock',\n",
       " 'india, delhi, indian, rs, live, crore, bjp, express, singh, covid',\n",
       " 'ago, cloudy, hours ago, weeks ago, antonio, partly, nfl, weeks, oklahoma, local',\n",
       " 'shares, nyse, stock, rating, quarter, llc, nasdaq, management, holdings, position']"
      ]
     },
     "execution_count": 149,
     "metadata": {},
     "output_type": "execute_result"
    }
   ],
   "source": [
    "bertopic_words"
   ]
  },
  {
   "cell_type": "code",
   "execution_count": 150,
   "metadata": {},
   "outputs": [],
   "source": [
    "bertopic_labels = {\n",
    "    0: \"Gaming\",\n",
    "    1: \"Economic Markets\",\n",
    "    2: \"Financial Markets\",\n",
    "    3: \"Seattle Politics\",\n",
    "    4: \"Cloud Computing\",\n",
    "    5: \"India Market\",\n",
    "    6: \"Shopping & Subscriptions\",\n",
    "    7: \"Business Economy\",\n",
    "    8: \"Seattle Politics\"\n",
    "}"
   ]
  },
  {
   "cell_type": "code",
   "execution_count": 151,
   "metadata": {},
   "outputs": [
    {
     "data": {
      "text/html": [
       "<div>\n",
       "<style scoped>\n",
       "    .dataframe tbody tr th:only-of-type {\n",
       "        vertical-align: middle;\n",
       "    }\n",
       "\n",
       "    .dataframe tbody tr th {\n",
       "        vertical-align: top;\n",
       "    }\n",
       "\n",
       "    .dataframe thead th {\n",
       "        text-align: right;\n",
       "    }\n",
       "</style>\n",
       "<table border=\"1\" class=\"dataframe\">\n",
       "  <thead>\n",
       "    <tr style=\"text-align: right;\">\n",
       "      <th></th>\n",
       "      <th>Topic ID</th>\n",
       "      <th>Top Words</th>\n",
       "      <th>Label</th>\n",
       "    </tr>\n",
       "  </thead>\n",
       "  <tbody>\n",
       "    <tr>\n",
       "      <th>0</th>\n",
       "      <td>0</td>\n",
       "      <td>pm, game, games, xbox, 2022 00, series, gaming...</td>\n",
       "      <td>Gaming</td>\n",
       "    </tr>\n",
       "    <tr>\n",
       "      <th>1</th>\n",
       "      <td>1</td>\n",
       "      <td>inflation, fed, stocks, oil, rates, td, bloomb...</td>\n",
       "      <td>Economic Markets</td>\n",
       "    </tr>\n",
       "    <tr>\n",
       "      <th>2</th>\n",
       "      <td>2</td>\n",
       "      <td>link, new tab, opens, tab, opens new, subscrip...</td>\n",
       "      <td>Financial Markets</td>\n",
       "    </tr>\n",
       "    <tr>\n",
       "      <th>3</th>\n",
       "      <td>3</td>\n",
       "      <td>seattle, times, seattle times, advertising, st...</td>\n",
       "      <td>Seattle Politics</td>\n",
       "    </tr>\n",
       "    <tr>\n",
       "      <th>4</th>\n",
       "      <td>4</td>\n",
       "      <td>cloud, prnewswire, gray, customers, platform, ...</td>\n",
       "      <td>Cloud Computing</td>\n",
       "    </tr>\n",
       "    <tr>\n",
       "      <th>5</th>\n",
       "      <td>5</td>\n",
       "      <td>equities, password, username, register, nasdaq...</td>\n",
       "      <td>India Market</td>\n",
       "    </tr>\n",
       "    <tr>\n",
       "      <th>6</th>\n",
       "      <td>6</td>\n",
       "      <td>india, delhi, indian, rs, live, crore, bjp, ex...</td>\n",
       "      <td>Shopping &amp; Subscriptions</td>\n",
       "    </tr>\n",
       "    <tr>\n",
       "      <th>7</th>\n",
       "      <td>7</td>\n",
       "      <td>ago, cloudy, hours ago, weeks ago, antonio, pa...</td>\n",
       "      <td>Business Economy</td>\n",
       "    </tr>\n",
       "    <tr>\n",
       "      <th>8</th>\n",
       "      <td>8</td>\n",
       "      <td>shares, nyse, stock, rating, quarter, llc, nas...</td>\n",
       "      <td>Seattle Politics</td>\n",
       "    </tr>\n",
       "  </tbody>\n",
       "</table>\n",
       "</div>"
      ],
      "text/plain": [
       "   Topic ID                                          Top Words  \\\n",
       "0         0  pm, game, games, xbox, 2022 00, series, gaming...   \n",
       "1         1  inflation, fed, stocks, oil, rates, td, bloomb...   \n",
       "2         2  link, new tab, opens, tab, opens new, subscrip...   \n",
       "3         3  seattle, times, seattle times, advertising, st...   \n",
       "4         4  cloud, prnewswire, gray, customers, platform, ...   \n",
       "5         5  equities, password, username, register, nasdaq...   \n",
       "6         6  india, delhi, indian, rs, live, crore, bjp, ex...   \n",
       "7         7  ago, cloudy, hours ago, weeks ago, antonio, pa...   \n",
       "8         8  shares, nyse, stock, rating, quarter, llc, nas...   \n",
       "\n",
       "                      Label  \n",
       "0                    Gaming  \n",
       "1          Economic Markets  \n",
       "2         Financial Markets  \n",
       "3          Seattle Politics  \n",
       "4           Cloud Computing  \n",
       "5              India Market  \n",
       "6  Shopping & Subscriptions  \n",
       "7          Business Economy  \n",
       "8          Seattle Politics  "
      ]
     },
     "metadata": {},
     "output_type": "display_data"
    }
   ],
   "source": [
    "bertopic_df = pd.DataFrame({\n",
    "    \"Topic ID\": list(bertopic_labels.keys()),\n",
    "    \"Top Words\": bertopic_words,\n",
    "     \"Label\": list(bertopic_labels.values())\n",
    "})\n",
    "\n",
    "display(bertopic_df)"
   ]
  },
  {
   "cell_type": "markdown",
   "metadata": {},
   "source": [
    "# **Analysis**"
   ]
  },
  {
   "cell_type": "markdown",
   "metadata": {},
   "source": [
    "Overall the topic modeling outputs from LDA and BERTopic are slightly different in how each model groups text topics. With LDA, we can see that the topcis are generally broader and more conceptual topics in nature. For example, “Politics & History” or “Business Technology”. However, LDA also produced some noisy/redundant topics, such as Topics 3 and 5, which appear to be somewhat unrelated. \n",
    "\n",
    "In contrast, BERTopic is much more granular (especially since we only pulled the first 9 of 61 topics), and is better at producing more concrete topics. For example, “Gaming,” “India Market,” or “Seattle Politics.” It also produced less redundnat topics. However, there was some thematic overlap such as \"Seattle Politics\". \n",
    "\n",
    "Overall, LDA was more high level, while BERTopic was more granular. As such, the choice between the two comes down to the interpreation goal."
   ]
  }
 ],
 "metadata": {
  "kernelspec": {
   "display_name": "myenv",
   "language": "python",
   "name": "python3"
  },
  "language_info": {
   "codemirror_mode": {
    "name": "ipython",
    "version": 3
   },
   "file_extension": ".py",
   "mimetype": "text/x-python",
   "name": "python",
   "nbconvert_exporter": "python",
   "pygments_lexer": "ipython3",
   "version": "3.12.8"
  }
 },
 "nbformat": 4,
 "nbformat_minor": 2
}
