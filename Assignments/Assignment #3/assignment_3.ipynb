{
 "cells": [
  {
   "cell_type": "markdown",
   "metadata": {},
   "source": [
    "# **Import Library**"
   ]
  },
  {
   "cell_type": "code",
   "execution_count": 56,
   "metadata": {},
   "outputs": [],
   "source": [
    "import pandas as pd\n",
    "import numpy as np\n",
    "import matplotlib.pyplot as plt\n",
    "import seaborn as sns\n",
    "import spacy\n",
    "from tqdm import tqdm\n",
    "import pyLDAvis.gensim_models as gensimvis\n",
    "import pyLDAvis\n",
    "from gensim.models import Phrases, LdaModel, LdaMulticore, CoherenceModel\n",
    "from gensim.corpora import Dictionary\n",
    "from sklearn.datasets import fetch_20newsgroups\n",
    "\n",
    "from bertopic import BERTopic\n",
    "from bertopic.vectorizers import ClassTfidfTransformer\n",
    "from sklearn.cluster import HDBSCAN\n",
    "from sklearn.feature_extraction.text import CountVectorizer\n",
    "from umap import UMAP\n",
    "from sentence_transformers import SentenceTransformer"
   ]
  },
  {
   "cell_type": "markdown",
   "metadata": {},
   "source": [
    "# **Data Loading and Exploration**"
   ]
  },
  {
   "cell_type": "code",
   "execution_count": 4,
   "metadata": {},
   "outputs": [],
   "source": [
    "url = \"https://storage.googleapis.com/adsp-nlp-open/data/nlp_a_6_news.json\"\n",
    "news_df = pd.read_json(url, orient=\"records\", lines=True).sample(n=5000, random_state=0)"
   ]
  },
  {
   "cell_type": "code",
   "execution_count": 6,
   "metadata": {},
   "outputs": [
    {
     "name": "stdout",
     "output_type": "stream",
     "text": [
      "Shape: (5000, 5)\n",
      "Columns: Index(['url', 'date', 'language', 'title', 'text'], dtype='object')\n"
     ]
    }
   ],
   "source": [
    "print(f'Shape: {news_df.shape}')\n",
    "print(f'Columns: {news_df.columns}')"
   ]
  },
  {
   "cell_type": "code",
   "execution_count": 7,
   "metadata": {},
   "outputs": [
    {
     "data": {
      "text/html": [
       "<div>\n",
       "<style scoped>\n",
       "    .dataframe tbody tr th:only-of-type {\n",
       "        vertical-align: middle;\n",
       "    }\n",
       "\n",
       "    .dataframe tbody tr th {\n",
       "        vertical-align: top;\n",
       "    }\n",
       "\n",
       "    .dataframe thead th {\n",
       "        text-align: right;\n",
       "    }\n",
       "</style>\n",
       "<table border=\"1\" class=\"dataframe\">\n",
       "  <thead>\n",
       "    <tr style=\"text-align: right;\">\n",
       "      <th></th>\n",
       "      <th>url</th>\n",
       "      <th>date</th>\n",
       "      <th>language</th>\n",
       "      <th>title</th>\n",
       "      <th>text</th>\n",
       "    </tr>\n",
       "  </thead>\n",
       "  <tbody>\n",
       "    <tr>\n",
       "      <th>3844</th>\n",
       "      <td>https://www.kxii.com/prnewswire/2022/05/23/com...</td>\n",
       "      <td>2022-05-23</td>\n",
       "      <td>en</td>\n",
       "      <td>COMPUTEX 2022 Global Press Conference Industry...</td>\n",
       "      <td>COMPUTEX 2022 Global Press Conference Industry...</td>\n",
       "    </tr>\n",
       "    <tr>\n",
       "      <th>3617</th>\n",
       "      <td>https://www.bigrapidsnews.com/business/article...</td>\n",
       "      <td>2022-06-09</td>\n",
       "      <td>en</td>\n",
       "      <td>Moderna, Roku rise; Scotts Miracle-Gro, Charle...</td>\n",
       "      <td>Moderna, Roku rise; Scotts Miracle-Gro, Charle...</td>\n",
       "    </tr>\n",
       "    <tr>\n",
       "      <th>2608</th>\n",
       "      <td>https://www.devdiscourse.com/article/education...</td>\n",
       "      <td>2022-04-12</td>\n",
       "      <td>en</td>\n",
       "      <td>Create entrepreneurship ecosystem in districts...</td>\n",
       "      <td>Create entrepreneurship ecosystem in districts...</td>\n",
       "    </tr>\n",
       "    <tr>\n",
       "      <th>3857</th>\n",
       "      <td>https://www.seattletimes.com/seattle-news/heal...</td>\n",
       "      <td>2022-04-30</td>\n",
       "      <td>en</td>\n",
       "      <td>Connecticut Senate OKs bill that protects abor...</td>\n",
       "      <td>Connecticut Senate OKs bill that protects abor...</td>\n",
       "    </tr>\n",
       "    <tr>\n",
       "      <th>1595</th>\n",
       "      <td>https://www.breakinglatest.news/news/maturity-...</td>\n",
       "      <td>2022-07-24</td>\n",
       "      <td>en</td>\n",
       "      <td>Maturity, thanks from Fabio and Adriana: “Incl...</td>\n",
       "      <td>Maturity, thanks from Fabio and Adriana: “Incl...</td>\n",
       "    </tr>\n",
       "  </tbody>\n",
       "</table>\n",
       "</div>"
      ],
      "text/plain": [
       "                                                    url       date language  \\\n",
       "3844  https://www.kxii.com/prnewswire/2022/05/23/com... 2022-05-23       en   \n",
       "3617  https://www.bigrapidsnews.com/business/article... 2022-06-09       en   \n",
       "2608  https://www.devdiscourse.com/article/education... 2022-04-12       en   \n",
       "3857  https://www.seattletimes.com/seattle-news/heal... 2022-04-30       en   \n",
       "1595  https://www.breakinglatest.news/news/maturity-... 2022-07-24       en   \n",
       "\n",
       "                                                  title  \\\n",
       "3844  COMPUTEX 2022 Global Press Conference Industry...   \n",
       "3617  Moderna, Roku rise; Scotts Miracle-Gro, Charle...   \n",
       "2608  Create entrepreneurship ecosystem in districts...   \n",
       "3857  Connecticut Senate OKs bill that protects abor...   \n",
       "1595  Maturity, thanks from Fabio and Adriana: “Incl...   \n",
       "\n",
       "                                                   text  \n",
       "3844  COMPUTEX 2022 Global Press Conference Industry...  \n",
       "3617  Moderna, Roku rise; Scotts Miracle-Gro, Charle...  \n",
       "2608  Create entrepreneurship ecosystem in districts...  \n",
       "3857  Connecticut Senate OKs bill that protects abor...  \n",
       "1595  Maturity, thanks from Fabio and Adriana: “Incl...  "
      ]
     },
     "execution_count": 7,
     "metadata": {},
     "output_type": "execute_result"
    }
   ],
   "source": [
    "news_df.head()"
   ]
  },
  {
   "cell_type": "markdown",
   "metadata": {},
   "source": [
    "# **Model Preprocessing**"
   ]
  },
  {
   "cell_type": "code",
   "execution_count": 8,
   "metadata": {},
   "outputs": [],
   "source": [
    "news_df['combined_text'] = news_df.title + \" \" + news_df.text"
   ]
  },
  {
   "cell_type": "code",
   "execution_count": 15,
   "metadata": {},
   "outputs": [],
   "source": [
    "def clean_text(corpus, spacy_pipeline, as_string=True, batch_size=500):\n",
    "    \"\"\"\n",
    "    Cleans a sequence of text by applying simple processing techniques in batches with progress tracking.\n",
    "\n",
    "    Args:\n",
    "        corpus (Iterable): a sequence of text to be processed\n",
    "        spacy_pipeline: the Spacy pipeline object for processing text\n",
    "        as_string (bool): whether to return the cleaned tokens as joined strings or lists\n",
    "        batch_size (int): number of documents to process per batch\n",
    "\n",
    "    Returns:\n",
    "        clean_sequence (list): a cleaned version of the original text\n",
    "    \"\"\"\n",
    "    corpus_clean = []\n",
    "    total_batches = (len(corpus) + batch_size - 1) // batch_size  # ceiling division\n",
    "\n",
    "    for i in tqdm(range(0, len(corpus), batch_size), desc=\"Cleaning text (batches)\", total=total_batches):\n",
    "        batch = corpus[i:i + batch_size]\n",
    "\n",
    "        try:\n",
    "            docs = list(spacy_pipeline.pipe(\n",
    "                batch,\n",
    "                disable=[\"ner\"],\n",
    "                n_process=1  # safer for Mac/Jupyter\n",
    "            ))\n",
    "\n",
    "            for doc in tqdm(docs, desc=f\"Processing batch {i // batch_size + 1}\", leave=False):\n",
    "                doc_tokens = [\n",
    "                    token.lemma_.lower()\n",
    "                    for token in doc\n",
    "                    if not token.is_stop and token.is_alpha and len(token) > 1 and token.pos_ in (\"NOUN\", \"VERB\")\n",
    "                ]\n",
    "\n",
    "                if as_string:\n",
    "                    corpus_clean.append(\" \".join(doc_tokens))\n",
    "                else:\n",
    "                    corpus_clean.append(doc_tokens)\n",
    "\n",
    "        except Exception as e:\n",
    "            print(f\"\\nError processing batch {i // batch_size + 1}: {e}\")\n",
    "            continue\n",
    "\n",
    "    return corpus_clean"
   ]
  },
  {
   "cell_type": "code",
   "execution_count": 5,
   "metadata": {},
   "outputs": [],
   "source": [
    "# loading spacy model\n",
    "nlp = spacy.load(\"en_core_web_md\")"
   ]
  },
  {
   "cell_type": "code",
   "execution_count": 16,
   "metadata": {},
   "outputs": [
    {
     "name": "stderr",
     "output_type": "stream",
     "text": [
      "Cleaning text (batches): 100%|██████████| 10/10 [18:34<00:00, 111.43s/it]\n"
     ]
    }
   ],
   "source": [
    "# Apply cleaning to the full text\n",
    "normalized_corpus = clean_text(\n",
    "    corpus= news_df['combined_text'].tolist(),\n",
    "    spacy_pipeline= nlp,\n",
    "    as_string= False\n",
    ")"
   ]
  },
  {
   "cell_type": "code",
   "execution_count": 18,
   "metadata": {},
   "outputs": [
    {
     "data": {
      "text/plain": [
       "['rise',\n",
       " 'fall',\n",
       " 'rise',\n",
       " 'fall',\n",
       " 'content',\n",
       " 'rise',\n",
       " 'sportsopinioncolumnsletter',\n",
       " 'estatearchiveseventsclassifiedsadvertisecontacte',\n",
       " 'update',\n",
       " 'suspect',\n",
       " 'assault',\n",
       " 'cooperate',\n",
       " 'authority',\n",
       " 'got',\n",
       " 'snake',\n",
       " 'racer',\n",
       " 'snake',\n",
       " 'report',\n",
       " 'way',\n",
       " 'end',\n",
       " 'season',\n",
       " 'penalty',\n",
       " 'haunt',\n",
       " 'restaurant',\n",
       " 'restaurant',\n",
       " 'car',\n",
       " 'crash',\n",
       " 'official',\n",
       " 'assemble',\n",
       " 'emergency',\n",
       " 'exercise',\n",
       " 'sophomore',\n",
       " 'make',\n",
       " 'claim',\n",
       " 'sprinter',\n",
       " 'circuit',\n",
       " 'judge',\n",
       " 'retire',\n",
       " 'year',\n",
       " 'rise',\n",
       " 'falljune',\n",
       " 'stock',\n",
       " 'trade',\n",
       " 'price',\n",
       " 'change',\n",
       " 'lawn',\n",
       " 'garden',\n",
       " 'care',\n",
       " 'company',\n",
       " 'slash',\n",
       " 'profit',\n",
       " 'forecast',\n",
       " 'year',\n",
       " 'cent',\n",
       " 'maker',\n",
       " 'can',\n",
       " 'soup',\n",
       " 'cookie',\n",
       " 'raise',\n",
       " 'revenue',\n",
       " 'forecast',\n",
       " 'year',\n",
       " 'maker',\n",
       " 'signature',\n",
       " 'technology',\n",
       " 'announce',\n",
       " 'expand',\n",
       " 'partnership',\n",
       " 'drugmaker',\n",
       " 'say',\n",
       " 'vaccine',\n",
       " 'combine',\n",
       " 'shoot',\n",
       " 'protection',\n",
       " 'variant',\n",
       " 'appear',\n",
       " 'work',\n",
       " 'maker',\n",
       " 'datum',\n",
       " 'storage',\n",
       " 'device',\n",
       " 'say',\n",
       " 'review',\n",
       " 'option',\n",
       " 'separate',\n",
       " 'flash',\n",
       " 'disk',\n",
       " 'drive',\n",
       " 'business',\n",
       " 'create',\n",
       " 'day',\n",
       " 'news',\n",
       " 'inbox',\n",
       " 'blotter',\n",
       " 'teal',\n",
       " 'swing',\n",
       " 'report',\n",
       " 'steal',\n",
       " 'gas',\n",
       " 'price',\n",
       " 'strain',\n",
       " 'law',\n",
       " 'enforcement',\n",
       " 'golf',\n",
       " 'outing',\n",
       " 'set',\n",
       " 'provider',\n",
       " 'pharmaceutical',\n",
       " 'research',\n",
       " 'service',\n",
       " 'warn',\n",
       " 'investor',\n",
       " 'earning',\n",
       " 'growth',\n",
       " 'quarter',\n",
       " 'cent',\n",
       " 'glass',\n",
       " 'container',\n",
       " 'maker',\n",
       " 'give',\n",
       " 'investor',\n",
       " 'update',\n",
       " 'quarter',\n",
       " 'earning',\n",
       " 'growth',\n",
       " 'video',\n",
       " 'streaming',\n",
       " 'company',\n",
       " 'buyout',\n",
       " 'target',\n",
       " 'day',\n",
       " 'news',\n",
       " 'inbox',\n",
       " 'blotter',\n",
       " 'teal',\n",
       " 'swing',\n",
       " 'report',\n",
       " 'steal',\n",
       " 'gas',\n",
       " 'price',\n",
       " 'strain',\n",
       " 'law',\n",
       " 'enforcement',\n",
       " 'golf',\n",
       " 'outing',\n",
       " 'set',\n",
       " 'write',\n",
       " 'create',\n",
       " 'awareness',\n",
       " 'begin',\n",
       " 'year',\n",
       " 'host',\n",
       " 'community',\n",
       " 'kick',\n",
       " 'summer',\n",
       " 'celebrate',\n",
       " 'end',\n",
       " 'school',\n",
       " 'year',\n",
       " 'name',\n",
       " 'place',\n",
       " 'people',\n",
       " 'product',\n",
       " 'popularity',\n",
       " 'year',\n",
       " 'charge',\n",
       " 'threat',\n",
       " 'school',\n",
       " 'year',\n",
       " 'man',\n",
       " 'charge',\n",
       " 'threaten',\n",
       " 'school',\n",
       " 'medium',\n",
       " 'return',\n",
       " 'base',\n",
       " 'usecareersprint',\n",
       " 'editionfacebooktwitter']"
      ]
     },
     "execution_count": 18,
     "metadata": {},
     "output_type": "execute_result"
    }
   ],
   "source": [
    "normalized_corpus[1]"
   ]
  },
  {
   "cell_type": "code",
   "execution_count": 21,
   "metadata": {},
   "outputs": [
    {
     "data": {
      "text/plain": [
       "\"Moderna, Roku rise; Scotts Miracle-Gro, Charles River fall Moderna, Roku rise; Scotts Miracle-Gro, Charles River fall        Skip to main content Big Rapids Pioneer HomepageCurrently ReadingModerna, Roku rise; Scotts Miracle-Gro, Charles River fallSubscribeSubscribee-EditionSign In  homeFormsNewslettersPuzzlesNewsCoronavirusLocal NewsHeroes UnmaskedState NewsSpecial SectionsSportsLocal SportsFerris SportsState SportsOpinionColumnsLetters to the EditorObituariesSubmit an ObituaryCoronavirusCannabisPhotosWeatherReal EstateArchivesEventsClassifiedsAdvertiseContactE-EditionSubscriber Services   Most Popular Update: Suspect in assault ID'd, cooperating with authorities Got snakes? Blue racer snakes reported in Mecosta County Tough way to end the season: Penalty kicks haunt Big Rapids Michigan restaurants that have been on 'Restaurant: Impossible' Two dead in three-car crash in Grand Rapids Midland County officials assemble for emergency exercise Chippewa Hills sophomore makes her claim as the fastest sprinter in the... Mecosta, Osceola County circuit judge to retire after 17 years   NewsModerna, Roku rise; Scotts Miracle-Gro, Charles River fallJune 8, 2022Updated: June 8, 2022 5:57\\xa0p.m.FacebookTwitterEmailCommentsNEW YORK (AP) — Stocks that traded heavily or had substantial price changes Wednesday:Scotts Miracle-Gro Co., down $9.05 to $93.13.The lawn and garden care company slashed its profit forecast for the year.Campbell Soup Co., up 71 cents to $47.31.The maker of canned soup, Pepperidge Farm cookies and V8 juice raised its revenue forecast for the year.DocuSign Inc., up $2.36 to $90.10.The maker of electronic signature technology announced an expanded partnership with Microsoft.Moderna Inc., up $3.19 to $148.53.The drugmaker said an experimental vaccine that combines its original COVID-19 shot with protection against the omicron variant appears to work. Western Digital Corp., down $2.50 to $57.82.The maker of data storage devices said it's reviewing options for separating its flash and hard disk drive businesses.Charles River Laboratories International Inc., down $10.31 to $236.90.More NewsWorld Oceans Day creates awarenessEd Sheeran, Chicago among mispronounced namesNewslettersStart your day with local news in your inbox  More NewsNewsSHERIFF'S BLOTTER: Teal colored swing reported stolen...  NewsHigh gas prices straining Mecosta County law enforcement  NewsHabitat for Humanity golf outing set for June 22  The provider of pharmaceutical research services warned investors of weak earnings growth in the second quarter.O-I Glass Inc., up 68 cents to $17.65.The glass container maker gave investors an encouraging update on second-quarter earnings growth.Roku Inc., up $8.46 to $101.88.The video streaming company is reportedly a buyout target for Netflix.NewslettersStart your day with local news in your inbox  More NewsNewsSHERIFF'S BLOTTER: Teal colored swing reported stolen...  NewsHigh gas prices straining Mecosta County law enforcement  NewsHabitat for Humanity golf outing set for June 22  Written By  View CommentsMore NewsWorld Oceans Day creates awareness It all began 30 years ago in 1992 in Canada with the International Centre of Ocean Development... Mecosta County Parks host 7th annual community open house\\xa0 The Mecosta County Parks are kicking off summer and celebrating the end of the school year with... Ed Sheeran, Chicago among mispronounced names Some of the greatest places, people and products despite their popularity may not be the easiest... 19-year-old charged in online threat against Baldwin school A 19-year-old man has been charged for allegedly threatening a Lake County school on social media...   Return to TopAboutPrivacy NoticeYour California Privacy RightsInterest Based AdsTerms of UseCareersPrint ArchivesContactCustomer ServiceNewsroom ContactsAdvertiseConnecte-EditionFacebookTwitter ©2022 Hearst \""
      ]
     },
     "execution_count": 21,
     "metadata": {},
     "output_type": "execute_result"
    }
   ],
   "source": [
    "news_df.combined_text.iloc[1]"
   ]
  },
  {
   "cell_type": "code",
   "execution_count": null,
   "metadata": {},
   "outputs": [],
   "source": [
    "min_counts = np.insert(np.arange(5, 50, 5), 0, 2)\n",
    "bigram_counts = []\n",
    "\n",
    "for mc in min_counts:\n",
    "    phraser = Phrases(normalized_corpus, min_count=mc)\n",
    "    count = sum(1 for doc in phraser[normalized_corpus] for token in doc if '_' in token)\n",
    "    bigram_counts.append(count)"
   ]
  },
  {
   "cell_type": "code",
   "execution_count": 26,
   "metadata": {},
   "outputs": [
    {
     "data": {
      "text/plain": [
       "[475949, 398266, 329897, 255301, 149057]"
      ]
     },
     "execution_count": 26,
     "metadata": {},
     "output_type": "execute_result"
    }
   ],
   "source": [
    "bigram_counts"
   ]
  },
  {
   "cell_type": "code",
   "execution_count": 29,
   "metadata": {},
   "outputs": [
    {
     "data": {
      "image/png": "[encoded data removed]",
      "text/plain": [
       "<Figure size 800x500 with 1 Axes>"
      ]
     },
     "metadata": {},
     "output_type": "display_data"
    }
   ],
   "source": [
    "plt.figure(figsize=(8, 5))\n",
    "plt.plot(min_counts, bigram_counts, marker='o', linestyle='-')\n",
    "plt.title('Bigram Count vs. min_count')\n",
    "plt.xlabel('min_count')\n",
    "plt.ylabel('Number of Bigrams Found')\n",
    "plt.grid(True)\n",
    "plt.xticks(min_counts)\n",
    "plt.tight_layout()\n",
    "plt.show()"
   ]
  },
  {
   "cell_type": "code",
   "execution_count": 30,
   "metadata": {},
   "outputs": [],
   "source": [
    "# training the phrases to find bigrams\n",
    "bigram_phraser = Phrases(\n",
    "    normalized_corpus,\n",
    "    min_count= 10)\n",
    "\n",
    "# adding bigrams to the original unigram data\n",
    "for idx in range(len(normalized_corpus)):\n",
    "    for phrase in bigram_phraser[normalized_corpus[idx]]:\n",
    "        if '_' in phrase:\n",
    "            # phrase is a bigram, add to document.\n",
    "            normalized_corpus[idx].append(phrase)"
   ]
  },
  {
   "cell_type": "code",
   "execution_count": 31,
   "metadata": {},
   "outputs": [],
   "source": [
    "# a dictiohary is the mapping of an id to a word\n",
    "dictionary = Dictionary(normalized_corpus)\n",
    "\n",
    "# Filter out words that occur less than 20 documents, or more than 50% of the documents.\n",
    "dictionary.filter_extremes(no_below=0.01*len(normalized_corpus), no_above=0.5)"
   ]
  },
  {
   "cell_type": "code",
   "execution_count": 32,
   "metadata": {},
   "outputs": [
    {
     "data": {
      "text/plain": [
       "[('accelerate', 0),\n",
       " ('achieve', 1),\n",
       " ('achieve_goal', 2),\n",
       " ('adapt', 3),\n",
       " ('addition', 4),\n",
       " ('address', 5),\n",
       " ('adopt', 6),\n",
       " ('advantage', 7),\n",
       " ('agreement', 8),\n",
       " ('aim', 9)]"
      ]
     },
     "execution_count": 32,
     "metadata": {},
     "output_type": "execute_result"
    }
   ],
   "source": [
    "[(token, idx) for token, idx in dictionary.token2id.items()][:10]"
   ]
  },
  {
   "cell_type": "code",
   "execution_count": 33,
   "metadata": {},
   "outputs": [
    {
     "name": "stdout",
     "output_type": "stream",
     "text": [
      "Number of unique tokens: 4204\n",
      "Number of documents: 5000\n"
     ]
    }
   ],
   "source": [
    "corpus = [dictionary.doc2bow(doc) for doc in normalized_corpus]\n",
    "\n",
    "print('Number of unique tokens: %d' % len(dictionary))\n",
    "print('Number of documents: %d' % len(corpus))"
   ]
  },
  {
   "cell_type": "markdown",
   "metadata": {},
   "source": [
    "# **Topic Modeling**"
   ]
  },
  {
   "cell_type": "markdown",
   "metadata": {},
   "source": [
    "Here is where we will apply two approaches to topic modeling & identification: LDA and BERTopic."
   ]
  },
  {
   "cell_type": "markdown",
   "metadata": {},
   "source": [
    "## LDA Topic Modeling"
   ]
  },
  {
   "cell_type": "markdown",
   "metadata": {},
   "source": [
    "### Inital Model"
   ]
  },
  {
   "cell_type": "code",
   "execution_count": null,
   "metadata": {},
   "outputs": [],
   "source": [
    "num_topics = 5\n",
    "chunksize = 10 \n",
    "passes = 20 \n",
    "iterations = 400 \n",
    "eval_every = 0 \n",
    "\n",
    "model = LdaModel(\n",
    "    corpus= corpus,\n",
    "    id2word= dictionary,\n",
    "    chunksize= chunksize,\n",
    "    alpha=\"auto\",\n",
    "    eta='auto',\n",
    "    iterations=iterations,\n",
    "    num_topics=num_topics,\n",
    "    passes=passes,\n",
    "    eval_every=eval_every,\n",
    "    random_state= 42\n",
    ")"
   ]
  },
  {
   "cell_type": "code",
   "execution_count": 86,
   "metadata": {},
   "outputs": [
    {
     "data": {
      "text/plain": [
       "[(0,\n",
       "  '0.015*\"pm\" + 0.012*\"official\" + 0.011*\"history\" + 0.010*\"state\" + 0.010*\"people\" + 0.009*\"point\" + 0.009*\"case\" + 0.008*\"story\" + 0.008*\"value\" + 0.008*\"read\"'),\n",
       " (1,\n",
       "  '0.011*\"use\" + 0.011*\"cookie\" + 0.009*\"set\" + 0.009*\"user\" + 0.009*\"need\" + 0.007*\"feature\" + 0.007*\"game\" + 0.007*\"website\" + 0.006*\"come\" + 0.006*\"way\"'),\n",
       " (2,\n",
       "  '0.041*\"share\" + 0.034*\"stock\" + 0.031*\"price\" + 0.018*\"buy\" + 0.018*\"quarter\" + 0.015*\"rate\" + 0.013*\"sell\" + 0.012*\"market\" + 0.012*\"report\" + 0.011*\"investor\"'),\n",
       " (3,\n",
       "  '0.000*\"pound\" + 0.000*\"port\" + 0.000*\"wheel\" + 0.000*\"translate\" + 0.000*\"roof\" + 0.000*\"reinforce\" + 0.000*\"pricing\" + 0.000*\"outcome\" + 0.000*\"motor\" + 0.000*\"monitoring\"'),\n",
       " (4,\n",
       "  '0.057*\"open\" + 0.044*\"link\" + 0.035*\"tab\" + 0.017*\"link_open\" + 0.017*\"join\" + 0.016*\"open_tab\" + 0.015*\"subscription\" + 0.014*\"people\" + 0.014*\"device\" + 0.012*\"window\"'),\n",
       " (5,\n",
       "  '0.000*\"pound\" + 0.000*\"port\" + 0.000*\"wheel\" + 0.000*\"translate\" + 0.000*\"roof\" + 0.000*\"reinforce\" + 0.000*\"pricing\" + 0.000*\"outcome\" + 0.000*\"motor\" + 0.000*\"monitoring\"'),\n",
       " (6,\n",
       "  '0.021*\"market\" + 0.016*\"provide\" + 0.014*\"business\" + 0.012*\"technology\" + 0.011*\"datum\" + 0.010*\"growth\" + 0.010*\"industry\" + 0.009*\"base\" + 0.009*\"report\" + 0.008*\"lead\"'),\n",
       " (7,\n",
       "  '0.049*\"video\" + 0.020*\"hour\" + 0.015*\"music\" + 0.014*\"channel\" + 0.012*\"kill\" + 0.010*\"police\" + 0.010*\"talk\" + 0.009*\"today\" + 0.009*\"announce\" + 0.009*\"school\"'),\n",
       " (8,\n",
       "  '0.014*\"song\" + 0.013*\"star\" + 0.012*\"reveal\" + 0.011*\"look\" + 0.009*\"show\" + 0.009*\"child\" + 0.008*\"love\" + 0.007*\"share\" + 0.007*\"post\" + 0.007*\"dress\"')]"
      ]
     },
     "execution_count": 86,
     "metadata": {},
     "output_type": "execute_result"
    }
   ],
   "source": [
    "model.show_topics()"
   ]
  },
  {
   "cell_type": "code",
   "execution_count": 42,
   "metadata": {},
   "outputs": [
    {
     "data": {
      "text/html": [
       "\n",
       "<link rel=\"stylesheet\" type=\"text/css\" href=\"https://cdn.jsdelivr.net/gh/bmabey/pyLDAvis@3.4.0/pyLDAvis/js/ldavis.v1.0.0.css\">\n",
       "\n",
       "\n",
       "<div id=\"ldavis_el33819156793908803524564415\" style=\"background-color:white;\"></div>\n",
       "<script type=\"text/javascript\">\n",
       "\n",
       "var ldavis_el33819156793908803524564415_data = {\"mdsDat\": {\"x\": [0.02735798194158721, -0.02416479148132376, -0.18134189467381887, -0.17193665428823424, 0.35008535850178946], \"y\": [0.1306059200605493, 0.2248724593630018, -0.28797810453781136, 0.05120618446401039, -0.11870645934975008], \"topics\": [1, 2, 3, 4, 5], \"cluster\": [1, 1, 1, 1, 1], \"Freq\": [34.316980655193014, 31.79535884489033, 15.373503837175656, 14.054996281419902, 4.459160381321098]}, \"tinfo\": {\"Term\": [\"open\", \"stock\", \"share\", \"link\", \"price\", \"market\", \"tab\", \"people\", \"quarter\", \"video\", \"join\", \"pm\", \"buy\", \"provide\", \"business\", \"read\", \"technology\", \"way\", \"star\", \"rate\", \"report\", \"cookie\", \"email\", \"industry\", \"account\", \"investor\", \"view\", \"link_open\", \"datum\", \"research\", \"cookie\", \"game\", \"channel\", \"app\", \"file\", \"store\", \"ad\", \"min\", \"menu\", \"review\", \"student\", \"question\", \"gaming\", \"click\", \"screen\", \"track\", \"tablet\", \"improve\", \"crash\", \"tool\", \"internet\", \"pc\", \"blog\", \"remove\", \"version\", \"laptop\", \"package\", \"hire\", \"quality\", \"understand\", \"user\", \"support\", \"website\", \"list\", \"need\", \"point\", \"use\", \"hour\", \"feature\", \"set\", \"know\", \"way\", \"site\", \"come\", \"write\", \"search\", \"launch\", \"create\", \"people\", \"read\", \"want\", \"find\", \"help\", \"deal\", \"comment\", \"start\", \"change\", \"tv\", \"month\", \"official\", \"shoot\", \"kill\", \"die\", \"police\", \"dress\", \"husband\", \"wife\", \"arrest\", \"short\", \"son\", \"celebrate\", \"daughter\", \"baby\", \"film\", \"night\", \"storm\", \"lawsuit\", \"gun\", \"winter\", \"shooting\", \"court\", \"mother\", \"attend\", \"mask\", \"snow\", \"pose\", \"suit\", \"victim\", \"accuse\", \"song\", \"logo\", \"music\", \"fire\", \"child\", \"woman\", \"school\", \"video\", \"season\", \"man\", \"star\", \"charge\", \"death\", \"reveal\", \"history\", \"family\", \"win\", \"post\", \"hit\", \"leave\", \"show\", \"love\", \"look\", \"go\", \"take\", \"month\", \"find\", \"announce\", \"share\", \"technology\", \"industry\", \"platform\", \"customer\", \"solution\", \"cloud\", \"software\", \"client\", \"analysis\", \"organization\", \"application\", \"symbol\", \"example\", \"ability\", \"communication\", \"download\", \"container\", \"data\", \"factor\", \"purpose\", \"smartphone\", \"intelligence\", \"environment\", \"depth\", \"enterprise\", \"cybersecurity\", \"core\", \"insight\", \"affiliate\", \"storage\", \"development\", \"pm\", \"management\", \"opportunity\", \"project\", \"provide\", \"provider\", \"deliver\", \"system\", \"opinion\", \"trend\", \"business\", \"product\", \"security\", \"option\", \"market\", \"datum\", \"press\", \"transform\", \"base\", \"growth\", \"lead\", \"increase\", \"release\", \"report\", \"information\", \"view\", \"world\", \"grow\", \"drive\", \"help\", \"stock\", \"quarter\", \"investor\", \"analyst\", \"earning\", \"rating\", \"acquire\", \"dividend\", \"ratio\", \"segment\", \"income\", \"cent\", \"stake\", \"margin\", \"holding\", \"yield\", \"debt\", \"recession\", \"share_quarter\", \"low\", \"research_report\", \"shareholder\", \"interest_rate\", \"stock_value\", \"consensus\", \"target_price\", \"buy_rating\", \"email_newsletter\", \"post_earning\", \"lease\", \"wealth\", \"revenue\", \"inflation\", \"cash\", \"trade\", \"estimate\", \"research\", \"price\", \"investment\", \"share\", \"rate\", \"trading\", \"equity\", \"oil\", \"forecast\", \"buy\", \"rise\", \"market\", \"sell\", \"report\", \"sale\", \"value\", \"expect\", \"firm\", \"loss\", \"purchase\", \"growth\", \"increase\", \"business\", \"month\", \"tab\", \"link_open\", \"open_tab\", \"tab_link\", \"dialog\", \"manage_subscription\", \"dialog_window\", \"work_have\", \"join_join\", \"date_cheat\", \"email_send\", \"open_window\", \"podcast_mom\", \"mom_people\", \"call_go\", \"account_join\", \"join_manage\", \"link_site\", \"people_text\", \"rom\", \"delay_price\", \"base_minute\", \"say_episode\", \"receive_compensation\", \"date_ex\", \"device_browser\", \"keep_go\", \"change_notice\", \"web_link\", \"host_broadcast\", \"provide_minute\", \"open\", \"cheat\", \"window\", \"link\", \"notification\", \"subscription\", \"join\", \"ditch\", \"mom\", \"account\", \"podcast\", \"manage\", \"date\", \"send\", \"password\", \"message\", \"people\", \"view\", \"browser\", \"email\", \"read\", \"sign\", \"way\", \"go\", \"star\"], \"Freq\": [7817.0, 9773.0, 14617.0, 5976.0, 9486.0, 11046.0, 3974.0, 7555.0, 5085.0, 12518.0, 4521.0, 5451.0, 6769.0, 6081.0, 6594.0, 6030.0, 3980.0, 5381.0, 4964.0, 4608.0, 7991.0, 6040.0, 4601.0, 3288.0, 3010.0, 3100.0, 4119.0, 1935.0, 6025.0, 3511.0, 6039.701992501891, 5436.077994703174, 3894.386386728866, 3103.944779957325, 2621.1563833392024, 2446.9460329840213, 2324.9634563153268, 2207.7603611757304, 2049.7097123725116, 2020.2012749046626, 1954.804371155443, 1972.7386857639392, 1870.8140618659556, 1813.2095501715253, 1824.3460066285165, 1770.0964607860817, 1692.6355837859728, 1635.729837152071, 1592.7954600583228, 1464.6932383851067, 1422.9045857934168, 1370.4409118818928, 1415.7361677050817, 1339.4041268954659, 1312.3997167027053, 1291.5706203933291, 1227.0108050184103, 1225.5984417771426, 1216.456235783179, 1167.7931468229929, 4804.845449809621, 4303.641108956884, 3855.0060609800616, 2679.2423459474594, 5879.131142961186, 4612.145704467938, 5488.5475661203245, 6392.076166529136, 4114.9366556083405, 5557.073722097128, 4581.2291928538225, 4175.694903114317, 3069.182022401343, 4673.5587538106865, 2340.983404855183, 2845.387053153849, 2940.913240872267, 2569.0478107512768, 4154.224050965463, 3608.768402141475, 3586.482621942491, 3757.6550420511435, 3646.1675234245454, 3278.9069729236676, 3091.172569894447, 2911.215904512096, 2848.772757520016, 2705.9498256675683, 2695.8929701647085, 3908.4423134664135, 3299.4449981004364, 2900.8189818727838, 2644.0876376271135, 2420.489274598545, 2332.5985040816972, 2229.1522772453695, 2093.71110369387, 2017.8298839445129, 1971.3281019633635, 1959.9557048061488, 1955.0217382575527, 1887.6366174938662, 1874.3267633735961, 1846.0901619406595, 1781.8259016880118, 1683.8648587517896, 1479.9569928715514, 1442.8638237914133, 1428.6462575891444, 1419.018747319946, 1355.4225214333737, 1283.813608714249, 1258.82329499084, 1234.357540164872, 1167.4247852180445, 1204.4122311744402, 1172.4668758070538, 1196.3256126664753, 1137.2037019713978, 4675.542144146453, 2468.9639477612004, 3967.1366126234093, 1964.1862855604488, 3783.9734946806457, 3087.452997419134, 2445.932368089963, 10826.063766954869, 2490.5500100161935, 3043.812942529044, 4361.189958866296, 2380.559877818195, 2044.3338514434772, 4004.413079272824, 3237.4000127538507, 2507.873534488097, 2849.034686474631, 3880.328075993454, 2987.7079906063236, 2915.0400252647137, 3198.8909651598174, 2654.528810277002, 3796.6453672883395, 3451.259098702687, 2690.588260545043, 2788.7898918897185, 2766.4118582943024, 2599.114328872694, 2674.554773437396, 3979.52199563453, 3288.069372427103, 2655.491788524313, 2388.4948759284043, 2118.246546930898, 1691.8207079137233, 1509.5353137368134, 1388.3969152972334, 1275.5023449595085, 1294.0020012023342, 1226.9768846233387, 1109.356824241097, 1081.9811022493311, 1051.8598660583139, 968.3112261784961, 939.1940285251632, 1055.9712921857556, 937.3796177621027, 895.4815643432056, 871.7013587159566, 856.214298449092, 800.8110820602266, 782.8238929794867, 770.2232533648137, 712.8336562919128, 704.9547438789793, 692.9515156005795, 692.2930181145373, 697.0558964053741, 679.658913217291, 1218.6285775890478, 4978.86194359727, 1663.2474411929338, 1383.3191591203658, 1641.2074302594979, 4845.6765237942, 1112.897018810738, 1805.9871191102038, 2147.0750464766725, 1680.720481841411, 1580.5467219057814, 4498.819277784672, 3727.8387322957883, 1990.5375845181293, 1772.4645132298856, 6053.253472025103, 3795.619860031099, 1566.9444455679627, 1685.191059302881, 2755.9111740267726, 2657.4697628574627, 2765.1136463715297, 2314.911604751337, 2530.1790364163758, 2839.2938485219624, 2258.2012408299966, 1963.9208359206102, 1970.4755479178432, 1801.8377443130498, 1722.2678703376496, 1856.3988044641428, 9773.050458079548, 5084.303013062856, 3099.7538400332705, 2908.3574106315086, 2844.8410324739457, 2514.3544358848885, 1338.0324006230296, 1230.3843703804675, 1252.8076764189589, 1189.7030882813488, 1110.0490208207102, 985.7898086268191, 925.5970282698263, 873.7241483355122, 796.0600089360985, 802.2635750827535, 853.9964346992274, 716.6663660917045, 707.4344671534539, 668.0505505189029, 556.1311320441381, 531.7584108800856, 479.8654391646701, 466.16141716845766, 455.30501172508116, 448.4016367656344, 425.9343044745656, 422.69769786466634, 400.6726043401374, 444.7046392518067, 420.33674889851096, 2750.7880748062134, 1870.7787488999, 2040.1797649856455, 2034.871582293324, 1526.7824240593802, 2998.135247167817, 7387.634167382767, 2039.4727099567187, 10488.624694969738, 3579.624622367414, 1208.0452375597056, 1195.0546018822752, 1168.0508089172586, 1614.0166191500095, 4051.718384936182, 2367.7972991498714, 4992.512338711279, 3193.962847527263, 3598.447510510159, 2225.5801335209812, 1861.5437026152472, 2319.158939793539, 1431.527033677858, 1446.6395663830924, 1523.3573792329207, 1787.4318925863201, 1733.2164354055465, 1748.8780702667857, 1517.728606372204, 3973.7535043615753, 1934.769140112604, 1787.6342027057015, 1191.9651325722266, 913.0790480729396, 573.117225121788, 572.0667111252657, 435.07451213113677, 424.9179334437727, 420.60004643476776, 342.6322528451364, 334.99546334493004, 329.65177048061815, 301.3149461313907, 293.9198505538999, 286.9297455617433, 268.3638299663232, 278.27771618767076, 253.93420583075005, 237.4358554168226, 231.91012578654536, 231.9100096768592, 229.20307489754498, 240.1002243851897, 220.96634664893787, 213.27456760136505, 212.55791539643388, 210.79759966646395, 210.39878611643357, 210.39393273155198, 222.0552697296427, 5752.394129440389, 658.9479202144582, 1240.1947740103374, 4109.110275204171, 599.9467367471932, 1015.9450776561009, 1630.9622943406716, 416.4631047606783, 696.2574456690014, 1174.628377336458, 638.05537550578, 893.6049457342949, 988.7991903578405, 903.2675009289756, 540.2265556593366, 776.7617714625352, 1250.5708000045481, 898.339805848246, 601.7999866699676, 876.6826556342515, 953.5364000070927, 751.4188353710035, 775.4123446899565, 707.1875935294535, 603.1022264660897], \"Total\": [7817.0, 9773.0, 14617.0, 5976.0, 9486.0, 11046.0, 3974.0, 7555.0, 5085.0, 12518.0, 4521.0, 5451.0, 6769.0, 6081.0, 6594.0, 6030.0, 3980.0, 5381.0, 4964.0, 4608.0, 7991.0, 6040.0, 4601.0, 3288.0, 3010.0, 3100.0, 4119.0, 1935.0, 6025.0, 3511.0, 6040.473301102266, 5436.859227092665, 3895.1960975699267, 3104.7206451961597, 2621.9456930647452, 2447.7599039153374, 2325.7435559322157, 2208.542138614564, 2050.4943096387483, 2020.9822990219377, 1955.5918135020804, 1973.5335983670825, 1871.5921327393723, 1813.997169857832, 1825.1389219794883, 1770.8868815733545, 1693.416036174493, 1636.5363596652455, 1593.5972429611738, 1465.4953652069569, 1423.6870686396885, 1371.2185278710247, 1416.5463110813457, 1340.1935553652984, 1313.1746372131838, 1292.348008128646, 1227.7896615008335, 1226.3906533914758, 1217.2516708270127, 1168.586303368528, 5043.140307784274, 4559.523976995085, 4068.2468960144824, 2792.8989886744994, 6603.033217863527, 5126.925648828224, 6241.0783809661525, 7684.852961017856, 4744.221675225703, 7029.180963978318, 5757.177002478703, 5381.575314606915, 3684.4990528908847, 6431.92511201923, 2614.7197705941485, 3481.858508338499, 3849.6787654185937, 3205.6923135294137, 7555.00488750655, 6030.810122481109, 5968.300744323041, 6719.44359785239, 6928.799211339663, 5716.983709174133, 5082.752149779189, 4478.578545650973, 4516.663548355678, 4396.0148276721775, 7002.781209810274, 3909.2362069445285, 3300.2372366608965, 2901.6143093689193, 2644.8847839902264, 2421.283333908021, 2333.390656175625, 2229.9561234031908, 2094.508803708373, 2018.6240146765872, 1972.1179748316451, 1960.7517006641535, 1955.8189832862938, 1888.4339931943673, 1875.1343953264231, 1846.9193960877446, 1782.647898558324, 1684.655534508994, 1480.7523747275056, 1443.6544507423928, 1429.4353912840897, 1419.808078775587, 1356.2256891909449, 1284.607083441797, 1259.6197241260588, 1235.1566397223446, 1168.2160003079987, 1205.233111327784, 1173.2692910218645, 1197.1457527710625, 1137.9952487397727, 4716.1159032107325, 2492.0359105683688, 4057.3742763265586, 1995.108233447992, 3987.9557435409674, 3223.797422665878, 2527.392220845646, 12518.231717018052, 2627.7499336244377, 3285.7233739795374, 4964.934546902736, 2553.0021352048775, 2151.065498233484, 4738.207110983524, 3803.123937824336, 2867.5999549971093, 3455.6460427774723, 6419.988012699869, 4135.521506113521, 4005.7567895101665, 4749.162851606801, 3540.794261071286, 8232.91572798221, 7006.3547263119, 4687.453612636096, 7002.781209810274, 6719.44359785239, 5457.42283786397, 14617.436633497104, 3980.308190094072, 3288.856378992572, 2656.2808285799915, 2389.2944003129546, 2119.03205802659, 1692.6046784664654, 1510.3180761610079, 1389.207529475384, 1276.2832127317126, 1294.7957813850708, 1227.7504549579041, 1110.1311503433649, 1082.7676802774924, 1052.6523218188543, 969.1073030441743, 939.9774986194406, 1056.8527151081887, 938.164851538573, 896.2718232303735, 872.5006689572498, 857.0079675906562, 801.6051999987548, 783.609403883211, 771.0078234466425, 713.6073748895376, 705.732141410889, 693.7294205683927, 693.0735780141482, 697.8450159561602, 680.4371227495553, 1246.6531376824882, 5451.473484801925, 1745.5766964044155, 1442.4912252290312, 1761.6252872812827, 6081.254278933573, 1175.8871036550847, 2059.737600362078, 2520.698789501401, 1919.7308087663578, 1799.2454420068332, 6594.352733860694, 5366.301715344409, 2477.5252833669174, 2132.2213920816926, 11046.326989803796, 6025.141178143683, 1840.7893917927615, 2092.2087215571505, 4494.44854371295, 4445.451324231764, 5194.456097451218, 4048.6945788820403, 5034.217088308272, 7991.573257147192, 4657.58520458475, 4119.9358182962205, 4225.074812482641, 3580.2943957494026, 2951.2389789116296, 6928.799211339663, 9773.812810096251, 5085.059257116526, 3100.516403122153, 2909.121844064476, 2845.59521099883, 2515.1231096372912, 1338.8043685242253, 1231.1351935224811, 1253.5803269940307, 1190.5106534649694, 1110.8136080736026, 986.5931921223804, 926.3615125862156, 874.5014670209349, 796.8128085613121, 803.0273162394982, 854.8104280723201, 717.4212292825015, 708.183420947998, 668.8837291111001, 556.8871907875169, 532.5227428265805, 480.61923829322353, 466.9101719383572, 456.061771604822, 449.15102285521516, 426.6830669853648, 423.44749716101285, 401.4217866039592, 445.55189649358016, 421.14608567536135, 2927.420188224696, 1983.3151698288214, 2228.7988009138357, 2278.382742773171, 1680.0717706315286, 3511.3337855870077, 9486.81606028529, 2364.616887262521, 14617.436633497104, 4608.334777458748, 1358.18045103098, 1341.2851082713125, 1316.2787216621, 1978.9138426871543, 6769.879941488074, 3420.705678654048, 11046.326989803796, 6177.699279723194, 7991.573257147192, 3721.4481653702624, 3057.342445582582, 4749.446485573509, 1883.1614102235342, 2045.9771577838912, 2443.0369137598586, 4445.451324231764, 4048.6945788820403, 6594.352733860694, 7002.781209810274, 3974.5777618337324, 1935.5873505089237, 1788.454295696455, 1192.7833291893387, 913.9026387633195, 573.9355647482487, 572.8849541591901, 435.90163573593736, 425.7366465401284, 421.41829655651367, 343.45582166921196, 335.8218407460673, 330.46998940880394, 302.13323829393335, 294.7385718508813, 287.7481173037274, 269.1819668906065, 279.15021946207384, 254.75234339665496, 238.26947526734492, 232.72861246048305, 232.72849641002801, 230.0247946089107, 240.97662919267603, 221.79405535508812, 214.09440997208844, 213.37936215330734, 211.61697868714185, 211.2170403842697, 211.21225132029056, 222.92264637882985, 7817.085640156844, 749.340460457894, 1542.965987939872, 5976.126303169041, 740.9112533338382, 1954.364049281552, 4521.493441093728, 571.8978812410435, 1303.6560796565818, 3010.7167367354505, 1173.4774009565313, 2220.3977829597634, 2759.8248650300357, 2496.1525217889966, 962.401920635813, 2047.812355475793, 7555.00488750655, 4119.9358182962205, 1515.7357675853223, 4601.719034166363, 6030.810122481109, 3304.9389800213457, 5381.575314606915, 7006.3547263119, 4964.934546902736], \"Category\": [\"Default\", \"Default\", \"Default\", \"Default\", \"Default\", \"Default\", \"Default\", \"Default\", \"Default\", \"Default\", \"Default\", \"Default\", \"Default\", \"Default\", \"Default\", \"Default\", \"Default\", \"Default\", \"Default\", \"Default\", \"Default\", \"Default\", \"Default\", \"Default\", \"Default\", \"Default\", \"Default\", \"Default\", \"Default\", \"Default\", \"Topic1\", \"Topic1\", \"Topic1\", \"Topic1\", \"Topic1\", \"Topic1\", \"Topic1\", \"Topic1\", \"Topic1\", \"Topic1\", \"Topic1\", \"Topic1\", \"Topic1\", \"Topic1\", \"Topic1\", \"Topic1\", \"Topic1\", \"Topic1\", \"Topic1\", \"Topic1\", \"Topic1\", \"Topic1\", \"Topic1\", \"Topic1\", \"Topic1\", \"Topic1\", \"Topic1\", \"Topic1\", \"Topic1\", \"Topic1\", \"Topic1\", \"Topic1\", \"Topic1\", \"Topic1\", \"Topic1\", \"Topic1\", \"Topic1\", \"Topic1\", \"Topic1\", \"Topic1\", \"Topic1\", \"Topic1\", \"Topic1\", \"Topic1\", \"Topic1\", \"Topic1\", \"Topic1\", \"Topic1\", \"Topic1\", \"Topic1\", \"Topic1\", \"Topic1\", \"Topic1\", \"Topic1\", \"Topic1\", \"Topic1\", \"Topic1\", \"Topic1\", \"Topic1\", \"Topic2\", \"Topic2\", \"Topic2\", \"Topic2\", \"Topic2\", \"Topic2\", \"Topic2\", \"Topic2\", \"Topic2\", \"Topic2\", \"Topic2\", \"Topic2\", \"Topic2\", \"Topic2\", \"Topic2\", \"Topic2\", \"Topic2\", \"Topic2\", \"Topic2\", \"Topic2\", \"Topic2\", \"Topic2\", \"Topic2\", \"Topic2\", \"Topic2\", \"Topic2\", \"Topic2\", \"Topic2\", \"Topic2\", \"Topic2\", \"Topic2\", \"Topic2\", \"Topic2\", \"Topic2\", \"Topic2\", \"Topic2\", \"Topic2\", \"Topic2\", \"Topic2\", \"Topic2\", \"Topic2\", \"Topic2\", \"Topic2\", \"Topic2\", \"Topic2\", \"Topic2\", \"Topic2\", \"Topic2\", \"Topic2\", \"Topic2\", \"Topic2\", \"Topic2\", \"Topic2\", \"Topic2\", \"Topic2\", \"Topic2\", \"Topic2\", \"Topic2\", \"Topic2\", \"Topic3\", \"Topic3\", \"Topic3\", \"Topic3\", \"Topic3\", \"Topic3\", \"Topic3\", \"Topic3\", \"Topic3\", \"Topic3\", \"Topic3\", \"Topic3\", \"Topic3\", \"Topic3\", \"Topic3\", \"Topic3\", \"Topic3\", \"Topic3\", \"Topic3\", \"Topic3\", \"Topic3\", \"Topic3\", \"Topic3\", \"Topic3\", \"Topic3\", \"Topic3\", \"Topic3\", \"Topic3\", \"Topic3\", \"Topic3\", \"Topic3\", \"Topic3\", \"Topic3\", \"Topic3\", \"Topic3\", \"Topic3\", \"Topic3\", \"Topic3\", \"Topic3\", \"Topic3\", \"Topic3\", \"Topic3\", \"Topic3\", \"Topic3\", \"Topic3\", \"Topic3\", \"Topic3\", \"Topic3\", \"Topic3\", \"Topic3\", \"Topic3\", \"Topic3\", \"Topic3\", \"Topic3\", \"Topic3\", \"Topic3\", \"Topic3\", \"Topic3\", \"Topic3\", \"Topic3\", \"Topic3\", \"Topic4\", \"Topic4\", \"Topic4\", \"Topic4\", \"Topic4\", \"Topic4\", \"Topic4\", \"Topic4\", \"Topic4\", \"Topic4\", \"Topic4\", \"Topic4\", \"Topic4\", \"Topic4\", \"Topic4\", \"Topic4\", \"Topic4\", \"Topic4\", \"Topic4\", \"Topic4\", \"Topic4\", \"Topic4\", \"Topic4\", \"Topic4\", \"Topic4\", \"Topic4\", \"Topic4\", \"Topic4\", \"Topic4\", \"Topic4\", \"Topic4\", \"Topic4\", \"Topic4\", \"Topic4\", \"Topic4\", \"Topic4\", \"Topic4\", \"Topic4\", \"Topic4\", \"Topic4\", \"Topic4\", \"Topic4\", \"Topic4\", \"Topic4\", \"Topic4\", \"Topic4\", \"Topic4\", \"Topic4\", \"Topic4\", \"Topic4\", \"Topic4\", \"Topic4\", \"Topic4\", \"Topic4\", \"Topic4\", \"Topic4\", \"Topic4\", \"Topic4\", \"Topic4\", \"Topic4\", \"Topic5\", \"Topic5\", \"Topic5\", \"Topic5\", \"Topic5\", \"Topic5\", \"Topic5\", \"Topic5\", \"Topic5\", \"Topic5\", \"Topic5\", \"Topic5\", \"Topic5\", \"Topic5\", \"Topic5\", \"Topic5\", \"Topic5\", \"Topic5\", \"Topic5\", \"Topic5\", \"Topic5\", \"Topic5\", \"Topic5\", \"Topic5\", \"Topic5\", \"Topic5\", \"Topic5\", \"Topic5\", \"Topic5\", \"Topic5\", \"Topic5\", \"Topic5\", \"Topic5\", \"Topic5\", \"Topic5\", \"Topic5\", \"Topic5\", \"Topic5\", \"Topic5\", \"Topic5\", \"Topic5\", \"Topic5\", \"Topic5\", \"Topic5\", \"Topic5\", \"Topic5\", \"Topic5\", \"Topic5\", \"Topic5\", \"Topic5\", \"Topic5\", \"Topic5\", \"Topic5\", \"Topic5\", \"Topic5\", \"Topic5\"], \"logprob\": [30.0, 29.0, 28.0, 27.0, 26.0, 25.0, 24.0, 23.0, 22.0, 21.0, 20.0, 19.0, 18.0, 17.0, 16.0, 15.0, 14.0, 13.0, 12.0, 11.0, 10.0, 9.0, 8.0, 7.0, 6.0, 5.0, 4.0, 3.0, 2.0, 1.0, -4.8449, -4.9502, -5.2837, -5.5105, -5.6796, -5.7484, -5.7995, -5.8512, -5.9255, -5.94, -5.9729, -5.9638, -6.0168, -6.0481, -6.042, -6.0722, -6.1169, -6.1511, -6.1777, -6.2616, -6.2905, -6.3281, -6.2956, -6.351, -6.3714, -6.3874, -6.4386, -6.4398, -6.4473, -6.4881, -5.0736, -5.1838, -5.2938, -5.6577, -4.8718, -5.1145, -4.9406, -4.7882, -5.2286, -4.9281, -5.1213, -5.2139, -5.5218, -5.1013, -5.7927, -5.5975, -5.5645, -5.6997, -5.2191, -5.3599, -5.366, -5.3194, -5.3495, -5.4557, -5.5147, -5.5747, -5.5963, -5.6478, -5.6515, -5.2038, -5.3731, -5.5019, -5.5946, -5.6829, -5.7199, -5.7653, -5.828, -5.8649, -5.8882, -5.894, -5.8965, -5.9316, -5.9387, -5.9538, -5.9893, -6.0458, -6.1749, -6.2003, -6.2102, -6.2169, -6.2628, -6.3171, -6.3367, -6.3564, -6.4121, -6.3809, -6.4078, -6.3876, -6.4383, -5.0246, -5.6631, -5.1889, -5.8918, -5.2361, -5.4396, -5.6725, -4.1849, -5.6544, -5.4538, -5.0942, -5.6996, -5.8518, -5.1795, -5.3921, -5.6475, -5.5199, -5.211, -5.4724, -5.497, -5.4041, -5.5906, -5.2328, -5.3282, -5.5771, -5.5413, -5.5494, -5.6117, -5.5831, -4.4591, -4.6499, -4.8636, -4.9696, -5.0896, -5.3144, -5.4284, -5.5121, -5.5969, -5.5825, -5.6357, -5.7364, -5.7614, -5.7897, -5.8724, -5.903, -5.7858, -5.9049, -5.9506, -5.9775, -5.9955, -6.0624, -6.0851, -6.1013, -6.1787, -6.1898, -6.207, -6.208, -6.2011, -6.2264, -5.6425, -4.235, -5.3315, -5.5157, -5.3448, -4.2621, -5.7333, -5.2491, -5.0761, -5.321, -5.3825, -4.3364, -4.5244, -5.1518, -5.2679, -4.0396, -4.5064, -5.3911, -5.3183, -4.8265, -4.8629, -4.8231, -5.0009, -4.9119, -4.7967, -5.0257, -5.1653, -5.162, -5.2514, -5.2966, -5.2216, -3.4709, -4.1244, -4.6192, -4.683, -4.7051, -4.8285, -5.4594, -5.5432, -5.5252, -5.5769, -5.6462, -5.7649, -5.8279, -5.8855, -5.9786, -5.9709, -5.9084, -6.0837, -6.0967, -6.154, -6.3373, -6.3821, -6.4848, -6.5138, -6.5373, -6.5526, -6.604, -6.6117, -6.6652, -6.5609, -6.6173, -4.7387, -5.1242, -5.0375, -5.0401, -5.3274, -4.6526, -3.7508, -5.0379, -3.4003, -4.4753, -5.5616, -5.5724, -5.5952, -5.2718, -4.3514, -4.8886, -4.1426, -4.5893, -4.4701, -4.9505, -5.1292, -4.9094, -5.3918, -5.3813, -5.3296, -5.1698, -5.2006, -5.1916, -5.3333, -3.2228, -3.9426, -4.0216, -4.4269, -4.6935, -5.1592, -5.161, -5.4348, -5.4584, -5.4686, -5.6736, -5.6962, -5.7123, -5.8021, -5.827, -5.8511, -5.918, -5.8817, -5.9732, -6.0404, -6.0639, -6.0639, -6.0757, -6.0292, -6.1123, -6.1477, -6.1511, -6.1594, -6.1613, -6.1613, -6.1074, -2.8529, -5.0197, -4.3873, -3.1893, -5.1135, -4.5867, -4.1134, -5.4785, -4.9646, -4.4416, -5.0519, -4.715, -4.6138, -4.7043, -5.2183, -4.8552, -4.3789, -4.7097, -5.1104, -4.7342, -4.6501, -4.8883, -4.8569, -4.949, -5.1082], \"loglift\": [30.0, 29.0, 28.0, 27.0, 26.0, 25.0, 24.0, 23.0, 22.0, 21.0, 20.0, 19.0, 18.0, 17.0, 16.0, 15.0, 14.0, 13.0, 12.0, 11.0, 10.0, 9.0, 8.0, 7.0, 6.0, 5.0, 4.0, 3.0, 2.0, 1.0, 1.0694, 1.0694, 1.0693, 1.0693, 1.0692, 1.0692, 1.0692, 1.0692, 1.0691, 1.0691, 1.0691, 1.0691, 1.0691, 1.0691, 1.0691, 1.0691, 1.0691, 1.069, 1.069, 1.069, 1.069, 1.069, 1.069, 1.0689, 1.0689, 1.0689, 1.0689, 1.0689, 1.0689, 1.0689, 1.0211, 1.0118, 1.0157, 1.028, 0.9534, 0.9637, 0.941, 0.8853, 0.9272, 0.8345, 0.841, 0.8158, 0.8868, 0.7502, 0.9589, 0.8677, 0.8003, 0.8481, 0.4714, 0.556, 0.5602, 0.4883, 0.4275, 0.5136, 0.5722, 0.6388, 0.6086, 0.5843, 0.115, 1.1456, 1.1456, 1.1456, 1.1455, 1.1455, 1.1455, 1.1455, 1.1455, 1.1455, 1.1454, 1.1454, 1.1454, 1.1454, 1.1454, 1.1454, 1.1454, 1.1454, 1.1453, 1.1453, 1.1453, 1.1453, 1.1453, 1.1452, 1.1452, 1.1452, 1.1452, 1.1452, 1.1452, 1.1452, 1.1452, 1.1372, 1.1365, 1.1234, 1.1302, 1.0933, 1.1026, 1.1131, 1.0006, 1.0922, 1.0694, 1.0162, 1.0759, 1.095, 0.9776, 0.9848, 1.0118, 0.9528, 0.6424, 0.8207, 0.828, 0.7507, 0.8578, 0.3718, 0.4378, 0.5907, 0.2252, 0.2584, 0.404, -0.5526, 1.8723, 1.8723, 1.8722, 1.8722, 1.8722, 1.8721, 1.872, 1.8719, 1.8719, 1.8719, 1.8719, 1.8718, 1.8718, 1.8718, 1.8717, 1.8717, 1.8717, 1.8717, 1.8716, 1.8716, 1.8716, 1.8715, 1.8715, 1.8715, 1.8714, 1.8714, 1.8714, 1.8714, 1.8714, 1.8714, 1.8498, 1.7818, 1.8242, 1.8306, 1.8017, 1.6454, 1.8175, 1.7411, 1.7121, 1.7396, 1.7429, 1.4901, 1.5082, 1.6537, 1.6877, 1.271, 1.4104, 1.7115, 1.6562, 1.3834, 1.358, 1.242, 1.3135, 1.1846, 0.8377, 1.1486, 1.1316, 1.1098, 1.1859, 1.3339, 0.5555, 1.9621, 1.962, 1.9619, 1.9619, 1.9619, 1.9619, 1.9616, 1.9616, 1.9616, 1.9615, 1.9615, 1.9614, 1.9614, 1.9613, 1.9612, 1.9612, 1.9612, 1.9611, 1.9611, 1.9609, 1.9608, 1.9608, 1.9606, 1.9606, 1.9605, 1.9605, 1.9604, 1.9604, 1.9603, 1.9603, 1.9603, 1.9, 1.9038, 1.8738, 1.8492, 1.8665, 1.8042, 1.7121, 1.8143, 1.6303, 1.7096, 1.845, 1.8468, 1.8427, 1.7584, 1.4488, 1.5943, 1.168, 1.3025, 1.1643, 1.4481, 1.4661, 1.2454, 1.688, 1.6156, 1.4899, 1.0511, 1.1138, 0.635, 0.4331, 3.11, 3.1098, 3.1098, 3.1095, 3.1093, 3.1088, 3.1088, 3.1083, 3.1083, 3.1083, 3.1078, 3.1077, 3.1077, 3.1075, 3.1074, 3.1074, 3.1072, 3.1071, 3.107, 3.1067, 3.1067, 3.1067, 3.1066, 3.1066, 3.1065, 3.1064, 3.1064, 3.1063, 3.1063, 3.1063, 3.1063, 2.8035, 2.9817, 2.8918, 2.7356, 2.8992, 2.456, 2.0905, 2.793, 2.483, 2.169, 2.5009, 2.2, 2.0838, 2.0937, 2.5328, 2.1408, 1.3116, 1.5872, 2.1865, 1.4522, 1.2658, 1.629, 1.1729, 0.8169, 1.0021]}, \"token.table\": {\"Topic\": [3, 1, 2, 4, 5, 5, 2, 4, 1, 3, 3, 4, 1, 2, 3, 4, 1, 3, 2, 2, 2, 1, 3, 4, 5, 5, 1, 1, 5, 2, 3, 4, 1, 2, 4, 4, 5, 1, 2, 4, 2, 4, 1, 2, 3, 4, 5, 5, 1, 2, 4, 2, 5, 1, 2, 1, 3, 3, 1, 2, 4, 1, 2, 4, 3, 4, 3, 1, 3, 2, 1, 1, 3, 4, 3, 3, 3, 1, 2, 4, 5, 5, 5, 1, 3, 4, 5, 2, 1, 2, 4, 1, 2, 4, 5, 2, 3, 5, 3, 3, 4, 5, 5, 5, 2, 1, 2, 5, 4, 3, 2, 1, 2, 3, 4, 4, 1, 3, 4, 5, 4, 5, 3, 3, 4, 5, 3, 4, 3, 1, 2, 4, 3, 1, 2, 1, 3, 4, 5, 1, 2, 1, 2, 4, 2, 4, 2, 3, 4, 2, 4, 1, 1, 1, 2, 4, 5, 2, 3, 4, 3, 4, 2, 1, 2, 3, 4, 1, 1, 2, 1, 2, 4, 4, 5, 1, 2, 4, 2, 1, 4, 3, 4, 3, 2, 4, 1, 3, 4, 5, 3, 3, 4, 1, 1, 4, 5, 4, 1, 2, 3, 4, 5, 5, 5, 5, 2, 1, 2, 1, 1, 2, 3, 2, 2, 3, 4, 4, 1, 2, 4, 1, 2, 4, 5, 5, 5, 1, 2, 4, 1, 2, 1, 2, 3, 4, 5, 1, 2, 4, 1, 2, 5, 4, 1, 2, 1, 4, 5, 5, 3, 4, 4, 3, 4, 2, 1, 1, 5, 1, 2, 5, 5, 1, 2, 4, 2, 1, 2, 5, 1, 2, 3, 4, 2, 1, 5, 2, 2, 4, 1, 2, 4, 5, 5, 5, 3, 5, 3, 4, 3, 5, 3, 1, 1, 5, 1, 1, 2, 5, 5, 3, 2, 3, 5, 1, 5, 5, 1, 2, 2, 2, 1, 2, 4, 4, 2, 3, 1, 2, 4, 1, 3, 4, 5, 2, 3, 1, 2, 3, 4, 5, 5, 3, 4, 1, 3, 4, 3, 1, 4, 1, 1, 4, 4, 4, 1, 2, 4, 5, 5, 4, 1, 2, 3, 4, 5, 1, 1, 2, 3, 4, 1, 4, 4, 1, 2, 5, 1, 4, 1, 1, 2, 4, 5, 1, 2, 3, 4, 5, 1, 2, 1, 1, 2, 4, 5, 1, 2, 1, 2, 3, 4, 1, 2, 4, 1, 2, 4, 5, 1, 2, 4, 1, 2, 3, 4, 5, 4, 4, 2, 2, 2, 1, 2, 4, 1, 2, 3, 4, 5, 1, 3, 4, 5, 3, 2, 3, 3, 2, 2, 5, 4, 2, 5, 1, 2, 3, 4, 4, 4, 3, 1, 2, 1, 1, 5, 2, 1, 2, 4, 3, 2, 3, 5, 5, 1, 1, 2, 3, 4, 4, 3, 1, 1, 2, 4, 4, 5, 2, 3, 2, 3, 5, 1, 2, 5, 1, 1, 3, 1, 3, 3, 4, 1, 2, 1, 2, 5, 1, 2, 3, 5, 1, 2, 4, 1, 2, 4, 5, 4, 5, 1, 4, 5, 2, 1, 2, 3, 1, 5, 2, 1, 2, 5, 1, 2, 3, 5, 1, 2, 5, 4], \"Freq\": [0.9993803064836003, 0.3912689578619465, 0.05447207902322515, 0.16408053071630013, 0.39027251739200947, 0.9974000966166611, 0.9991254368233304, 0.999399188900831, 0.999680293241996, 0.9987891065539783, 0.9997780957009483, 0.9996143702035839, 0.03976235788336562, 0.47623211123901954, 0.299591959167294, 0.18433609230721573, 0.9997678872663552, 0.9993887561149958, 0.9996908712707021, 0.9995080069689376, 0.999395032521802, 0.2658835646637057, 0.6132009240277597, 0.08343626506183234, 0.037379446747700884, 0.996869758447008, 0.9996143358836403, 0.6023477307357309, 0.3971668498388937, 0.05246913745201384, 0.6822504317821106, 0.2652269404727521, 0.36514680044039816, 0.03633742431567069, 0.5985335094597465, 0.9983991232879457, 0.9974941459265297, 0.06505746500785453, 0.019292903416122376, 0.915291231834643, 0.9995812581362117, 0.9993987469940835, 0.630775343236978, 0.12797056805579968, 0.13771227219845572, 0.06110705325847874, 0.04250925444068086, 0.9970844556473231, 0.999692930075928, 0.9326275004501419, 0.06737166319925426, 0.12010561920679468, 0.8794400339697521, 0.05090327301871037, 0.9488570694719215, 0.9994502913927312, 0.9991307781956523, 0.9996427526910694, 0.7266875653240699, 0.20227225555982348, 0.07105182228350448, 0.6081351025810462, 0.37460020553682044, 0.017116711072323203, 0.9988573989271404, 0.9976718688762581, 0.9991931561550642, 0.9999216450303356, 0.9989485517742709, 0.9990962498345861, 0.9996252233970586, 0.8013869544365516, 0.18841483864526165, 0.009982243107033729, 0.9994582499700393, 0.9989625789050428, 0.9987583722235355, 0.20870889573412524, 0.2822642878070895, 0.150734202474646, 0.358356072710156, 0.9990074076993533, 0.9964198528503532, 0.19750574547808908, 0.6300267309536355, 0.10456186525310598, 0.06804819802186263, 0.9997701835510633, 0.5735541968989937, 0.34563680789033596, 0.08063692734688506, 0.049277904409256806, 0.9502267604954804, 0.9990519206999525, 0.996869261356479, 0.11797619267487443, 0.8768107159293136, 0.004854987352875491, 0.998692849260417, 0.9778180980365596, 0.02165798904592872, 0.9948881898773951, 0.999012325027816, 0.9984552672351311, 0.999665473522483, 0.03846840619912603, 0.2325590011128983, 0.7274025899471104, 0.9990779294358135, 0.9989600829585004, 0.9998325800377271, 0.13960238494543709, 0.23041170330800295, 0.5834837545535017, 0.046760022141918246, 0.9997908307560648, 0.5389290353423917, 0.026729141672223455, 0.243821926473453, 0.1905809532239022, 0.9989432050867862, 0.9986728375515761, 0.9991488668546459, 0.999222311676977, 0.8909366044778884, 0.10885083201152443, 0.09106753811028456, 0.9088897431006833, 0.9992910018543445, 0.3322492431051052, 0.17938932517461953, 0.4882674238027496, 0.998580984922867, 0.12519179998395624, 0.874598981503516, 0.8673709370471674, 0.0238184485750498, 0.013068529306664491, 0.0956953597617045, 0.9996393163034434, 0.999502200209878, 0.5592724970860831, 0.4116412259021037, 0.029020259960560457, 0.9844077464437957, 0.015036778204334965, 0.04195073219486936, 0.19754015666444813, 0.7604233987728218, 0.18393928636414345, 0.815598923603647, 0.9998419626006899, 0.9996836208439787, 0.33398251892846437, 0.49255285163338913, 0.07236287910116729, 0.10090839353949757, 0.13965332029500424, 0.5033105663431953, 0.35695388667403083, 0.5976895946463133, 0.4019839313635536, 0.9995466707825711, 0.5262095045318909, 0.1666955506676725, 0.2678674822850218, 0.03911211621726342, 0.9996814608865491, 0.14856207928980122, 0.8511423905505956, 0.05972644553652087, 0.7225207257616371, 0.21762672462699914, 0.9989799253317982, 0.9942605066102332, 0.8317660770380416, 0.16460952557151481, 0.0035134048936212646, 0.9995712366744994, 0.9996722592430789, 0.9992675566200403, 0.5717892409259573, 0.428039202818438, 0.9997396119216266, 0.05647110540160223, 0.9433699839856944, 0.4328423231024365, 0.4848005781573917, 0.012667508463811386, 0.06956394478432015, 0.998450989839745, 0.9992450148792003, 0.9987115823839625, 0.9995174019243253, 0.080774184194006, 0.8622961338826087, 0.05666879938218223, 0.9998334460925177, 0.05971478307280001, 0.4149071594243438, 0.10129396536052743, 0.06347460274775409, 0.3607215229323586, 0.9982697131052378, 0.9956090413326729, 0.9982221235011717, 0.9997882870349323, 0.7957024767568706, 0.20409308233776968, 0.9997307163964683, 0.7639598468367818, 0.0418216713161244, 0.19404216442947161, 0.9994918969975354, 0.3763627920465565, 0.532298271104209, 0.09125113218929298, 0.9987613193930416, 0.24764359199184036, 0.7277026921937647, 0.024714431055637292, 0.28396320859217933, 0.018573904628009372, 0.009872615973446424, 0.6875691361845992, 0.9996965517940747, 0.9958795681253975, 0.9592183644534329, 0.020408901371349635, 0.020050850470097886, 0.008828123185023594, 0.9907561883556024, 0.26855613163696135, 0.46119748160359214, 0.15875299142899524, 0.08441723721740757, 0.027086394099973942, 0.04398876089969835, 0.24878088108829402, 0.7072415224651502, 0.22170166977239, 0.7498317620964273, 0.028524673435683302, 0.9986788001073452, 0.07334762320788751, 0.9264322201029445, 0.4692852821222991, 0.12835537946723152, 0.40263055874984205, 0.9983699132695165, 0.9526937449528805, 0.04697587918589068, 0.9994265681192701, 0.5479649484925769, 0.45200544983040425, 0.9990635683886988, 0.9997589314749986, 0.6201740098911189, 0.3794292958152751, 0.9997545264792167, 0.4656135996848956, 0.5338831390126644, 0.9962492101156019, 0.38498989461831873, 0.39827033237777854, 0.21677101633182783, 0.9995274170214208, 0.0029575777788152413, 0.9777259207133385, 0.019224255562299068, 0.8903483908115497, 0.027865981273911402, 0.055731962547822804, 0.026048634669091093, 0.9996365527040714, 0.1889565037243659, 0.8098135873901395, 0.9996837727681094, 0.11243819227976008, 0.8873500579916201, 0.06255528243006284, 0.15159102183972284, 0.05001864096146129, 0.7358240992591442, 0.9997459841732897, 0.9975527477776862, 0.8756436018653214, 0.123975715195685, 0.9587579985316129, 0.04090146197640286, 0.8310581661831994, 0.16836900770867302, 0.9993854000789071, 0.9993568430118004, 0.4384862404692675, 0.5610961370933755, 0.9991113539919005, 0.5498341909572191, 0.28457956440973065, 0.16558559771003395, 0.9970467655503229, 0.9995178113073698, 0.047510090752905965, 0.913331049647563, 0.03925544178039334, 0.4559099302329196, 0.5436832439039303, 0.99857781516063, 0.8995644399590791, 0.10025501347332322, 0.9994699778047248, 0.998976869025424, 0.24392568909820014, 0.6043624991705087, 0.15171367891548337, 0.9989492682808087, 0.14830593940685569, 0.8512652272913657, 0.19532369851221468, 0.025930723062064117, 0.7787649674086573, 0.1863480760205113, 0.6947056274044661, 0.06484913045513793, 0.05422729012196878, 0.06811891317999645, 0.9315261377364514, 0.09323734446760065, 0.024665964144867897, 0.7968750816401989, 0.014635138725954953, 0.07070909721528798, 0.9958611366147971, 0.946519437572188, 0.05272615016125396, 0.32950791511418337, 0.047072559302026196, 0.6234044157998774, 0.9994261678242057, 0.9989717238784628, 0.9997916922767333, 0.9997296228614887, 0.22307407114352212, 0.776853282776079, 0.9995534573902216, 0.9995370643735115, 0.5984270648062183, 0.22501122941037358, 0.018571302648461196, 0.15818770291635695, 0.9959472036937858, 0.9994128564010815, 0.17261869815233255, 0.23260816517420185, 0.5025607667726137, 0.04389957686037456, 0.048269670484484245, 0.9991094156806529, 0.031282951673678866, 0.16304674412321424, 0.3552491992062972, 0.45022424048758625, 0.14609832938859704, 0.8538066111247834, 0.9984068752124423, 0.0742897032052561, 0.8450453739597882, 0.08041016170796186, 0.06012119500574101, 0.9397352696635994, 0.9995139497152384, 0.041219564980369654, 0.26631931700082806, 0.6922548217979811, 0.9946721028116567, 0.3272919427802419, 0.00940494088448971, 0.06529716099802856, 0.5981542402535455, 0.9955448515424041, 0.03204884439064152, 0.9677959676482613, 0.9993759806632949, 0.8170923640885108, 0.12895412002662263, 0.004882449978736268, 0.04882449978736268, 0.05213585898983806, 0.9479593046984424, 0.03107940028581998, 0.16508408723247237, 0.8036244931047738, 0.9995710635066699, 0.31338527700020175, 0.16948057077438597, 0.5170209580261593, 0.4110325755513786, 0.1858860770524753, 0.041263504173286544, 0.36175674047065776, 0.7905615218156078, 0.09033769414304678, 0.11907503936650418, 0.05821814189020398, 0.18300062227531805, 0.013408643725593396, 0.7175676736619854, 0.027843459164880166, 0.9983289344073971, 0.9990183652555272, 0.9996251067507654, 0.9994308535162837, 0.9994331095573831, 0.24320075686796563, 0.6735923993252139, 0.08317255321458565, 0.6051548945654308, 0.10166602228699238, 0.01059021065489504, 0.05537167285273692, 0.2272356629093193, 0.8329490538454719, 0.10802011190306218, 0.00488533169410834, 0.05401005595153109, 0.9988238527192577, 0.9989590963420479, 0.9997893978983444, 0.999512957804163, 0.9996166262847566, 0.991493868252173, 0.008481555759214483, 0.9996097499936, 0.8783600184055826, 0.12145175214367492, 0.6499830181223, 0.19090878752819185, 0.013397107896715216, 0.14558190581097202, 0.999916837971829, 0.9980506487263306, 0.9993575853889497, 0.9996895512855971, 0.9996108792001891, 0.9996973737065198, 0.47995152200267915, 0.5198622029368039, 0.9989181588305622, 0.9439581898715037, 0.044302870435419084, 0.011624020460778275, 0.9989810660271852, 0.14797483997434702, 0.8517479394770054, 0.9998546356699118, 0.9993432762093757, 0.9997543213447814, 0.2338156471661891, 0.5740856811352326, 0.0782941081295542, 0.11392112736016878, 0.9974373366715316, 0.999922571298665, 0.9996619810483761, 0.9994991879026364, 0.10665459996603932, 0.8931774112382306, 0.8894252594219129, 0.11044187823947593, 0.19405329679432262, 0.8053689780749596, 0.06613883643760708, 0.878701684099637, 0.05502306560775715, 0.6155575233655226, 0.28412097068866876, 0.10009065420577602, 0.9994982797874338, 0.8794954437265493, 0.1204919973915768, 0.9527793610229928, 0.04719281746586312, 0.39086233265318454, 0.6090256597491461, 0.999105498096067, 0.9990429295944873, 0.12230161852002346, 0.8648186297176838, 0.012861241398905144, 0.11917661382478785, 0.18616794868352807, 0.4767064552991514, 0.21796456051865476, 0.6008410356014566, 0.34230848737695924, 0.05663253486706423, 0.775980963913171, 0.06800982586020608, 0.011892428565719095, 0.14400987716300467, 0.9972786505339983, 0.9942379630826399, 0.9475826070872462, 0.013273530682934187, 0.03908317367752844, 0.9997570773121259, 0.04716918283360668, 0.8244478643738984, 0.12819599997109055, 0.19572693264821897, 0.8036470082244753, 0.9996954103090321, 0.042186273567877144, 0.9575663713532114, 0.9979315614762144, 0.37750810832691095, 0.10343012121558626, 0.46626393316866116, 0.05254344830631613, 0.8953158293777882, 0.011855955023798135, 0.09293538938009505, 0.9987206957737017], \"Term\": [\"ability\", \"account\", \"account\", \"account\", \"account\", \"account_join\", \"accuse\", \"acquire\", \"ad\", \"affiliate\", \"analysis\", \"analyst\", \"announce\", \"announce\", \"announce\", \"announce\", \"app\", \"application\", \"arrest\", \"attend\", \"baby\", \"base\", \"base\", \"base\", \"base\", \"base_minute\", \"blog\", \"browser\", \"browser\", \"business\", \"business\", \"business\", \"buy\", \"buy\", \"buy\", \"buy_rating\", \"call_go\", \"cash\", \"cash\", \"cash\", \"celebrate\", \"cent\", \"change\", \"change\", \"change\", \"change\", \"change\", \"change_notice\", \"channel\", \"charge\", \"charge\", \"cheat\", \"cheat\", \"child\", \"child\", \"click\", \"client\", \"cloud\", \"come\", \"come\", \"come\", \"comment\", \"comment\", \"comment\", \"communication\", \"consensus\", \"container\", \"cookie\", \"core\", \"court\", \"crash\", \"create\", \"create\", \"create\", \"customer\", \"cybersecurity\", \"data\", \"date\", \"date\", \"date\", \"date\", \"date_cheat\", \"date_ex\", \"datum\", \"datum\", \"datum\", \"datum\", \"daughter\", \"deal\", \"deal\", \"deal\", \"death\", \"death\", \"debt\", \"delay_price\", \"deliver\", \"deliver\", \"deliver\", \"depth\", \"development\", \"development\", \"device_browser\", \"dialog\", \"dialog_window\", \"die\", \"ditch\", \"ditch\", \"ditch\", \"dividend\", \"download\", \"dress\", \"drive\", \"drive\", \"drive\", \"drive\", \"earning\", \"email\", \"email\", \"email\", \"email\", \"email_newsletter\", \"email_send\", \"enterprise\", \"environment\", \"equity\", \"equity\", \"estimate\", \"estimate\", \"example\", \"expect\", \"expect\", \"expect\", \"factor\", \"family\", \"family\", \"feature\", \"feature\", \"feature\", \"feature\", \"file\", \"film\", \"find\", \"find\", \"find\", \"fire\", \"fire\", \"firm\", \"firm\", \"firm\", \"forecast\", \"forecast\", \"game\", \"gaming\", \"go\", \"go\", \"go\", \"go\", \"grow\", \"grow\", \"grow\", \"growth\", \"growth\", \"gun\", \"help\", \"help\", \"help\", \"help\", \"hire\", \"history\", \"history\", \"hit\", \"hit\", \"hit\", \"holding\", \"host_broadcast\", \"hour\", \"hour\", \"hour\", \"husband\", \"improve\", \"income\", \"increase\", \"increase\", \"industry\", \"inflation\", \"inflation\", \"information\", \"information\", \"information\", \"information\", \"insight\", \"intelligence\", \"interest_rate\", \"internet\", \"investment\", \"investment\", \"investment\", \"investor\", \"join\", \"join\", \"join\", \"join\", \"join\", \"join_join\", \"join_manage\", \"keep_go\", \"kill\", \"know\", \"know\", \"laptop\", \"launch\", \"launch\", \"launch\", \"lawsuit\", \"lead\", \"lead\", \"lead\", \"lease\", \"leave\", \"leave\", \"leave\", \"link\", \"link\", \"link\", \"link\", \"link_open\", \"link_site\", \"list\", \"list\", \"list\", \"logo\", \"logo\", \"look\", \"look\", \"look\", \"look\", \"look\", \"loss\", \"loss\", \"loss\", \"love\", \"love\", \"love\", \"low\", \"man\", \"man\", \"manage\", \"manage\", \"manage\", \"manage_subscription\", \"management\", \"management\", \"margin\", \"market\", \"market\", \"mask\", \"menu\", \"message\", \"message\", \"min\", \"mom\", \"mom\", \"mom_people\", \"month\", \"month\", \"month\", \"mother\", \"music\", \"music\", \"music\", \"need\", \"need\", \"need\", \"need\", \"night\", \"notification\", \"notification\", \"official\", \"oil\", \"oil\", \"open\", \"open\", \"open\", \"open\", \"open_tab\", \"open_window\", \"opinion\", \"opinion\", \"opportunity\", \"opportunity\", \"option\", \"option\", \"organization\", \"package\", \"password\", \"password\", \"pc\", \"people\", \"people\", \"people\", \"people_text\", \"platform\", \"pm\", \"pm\", \"pm\", \"podcast\", \"podcast\", \"podcast_mom\", \"point\", \"point\", \"police\", \"pose\", \"post\", \"post\", \"post\", \"post_earning\", \"press\", \"press\", \"price\", \"price\", \"price\", \"product\", \"product\", \"product\", \"product\", \"project\", \"project\", \"provide\", \"provide\", \"provide\", \"provide\", \"provide\", \"provide_minute\", \"provider\", \"provider\", \"purchase\", \"purchase\", \"purchase\", \"purpose\", \"quality\", \"quarter\", \"question\", \"rate\", \"rate\", \"rating\", \"ratio\", \"read\", \"read\", \"read\", \"read\", \"receive_compensation\", \"recession\", \"release\", \"release\", \"release\", \"release\", \"release\", \"remove\", \"report\", \"report\", \"report\", \"report\", \"research\", \"research\", \"research_report\", \"reveal\", \"reveal\", \"reveal\", \"revenue\", \"revenue\", \"review\", \"rise\", \"rise\", \"rise\", \"rom\", \"sale\", \"sale\", \"sale\", \"sale\", \"say_episode\", \"school\", \"school\", \"screen\", \"search\", \"search\", \"search\", \"search\", \"season\", \"season\", \"security\", \"security\", \"security\", \"segment\", \"sell\", \"sell\", \"sell\", \"send\", \"send\", \"send\", \"send\", \"set\", \"set\", \"set\", \"share\", \"share\", \"share\", \"share\", \"share\", \"share_quarter\", \"shareholder\", \"shoot\", \"shooting\", \"short\", \"show\", \"show\", \"show\", \"sign\", \"sign\", \"sign\", \"sign\", \"sign\", \"site\", \"site\", \"site\", \"site\", \"smartphone\", \"snow\", \"software\", \"solution\", \"son\", \"song\", \"song\", \"stake\", \"star\", \"star\", \"start\", \"start\", \"start\", \"start\", \"stock\", \"stock_value\", \"storage\", \"store\", \"storm\", \"student\", \"subscription\", \"subscription\", \"suit\", \"support\", \"support\", \"support\", \"symbol\", \"system\", \"system\", \"tab\", \"tab_link\", \"tablet\", \"take\", \"take\", \"take\", \"take\", \"target_price\", \"technology\", \"tool\", \"track\", \"trade\", \"trade\", \"trading\", \"trading\", \"transform\", \"transform\", \"trend\", \"trend\", \"trend\", \"tv\", \"tv\", \"tv\", \"understand\", \"use\", \"use\", \"user\", \"user\", \"value\", \"value\", \"version\", \"victim\", \"video\", \"video\", \"video\", \"view\", \"view\", \"view\", \"view\", \"want\", \"want\", \"want\", \"way\", \"way\", \"way\", \"way\", \"wealth\", \"web_link\", \"website\", \"website\", \"website\", \"wife\", \"win\", \"win\", \"win\", \"window\", \"window\", \"winter\", \"woman\", \"woman\", \"work_have\", \"world\", \"world\", \"world\", \"world\", \"write\", \"write\", \"write\", \"yield\"]}, \"R\": 30, \"lambda.step\": 0.01, \"plot.opts\": {\"xlab\": \"PC1\", \"ylab\": \"PC2\"}, \"topic.order\": [2, 1, 4, 3, 5]};\n",
       "\n",
       "function LDAvis_load_lib(url, callback){\n",
       "  var s = document.createElement('script');\n",
       "  s.src = url;\n",
       "  s.async = true;\n",
       "  s.onreadystatechange = s.onload = callback;\n",
       "  s.onerror = function(){console.warn(\"failed to load library \" + url);};\n",
       "  document.getElementsByTagName(\"head\")[0].appendChild(s);\n",
       "}\n",
       "\n",
       "if(typeof(LDAvis) !== \"undefined\"){\n",
       "   // already loaded: just create the visualization\n",
       "   !function(LDAvis){\n",
       "       new LDAvis(\"#\" + \"ldavis_el33819156793908803524564415\", ldavis_el33819156793908803524564415_data);\n",
       "   }(LDAvis);\n",
       "}else if(typeof define === \"function\" && define.amd){\n",
       "   // require.js is available: use it to load d3/LDAvis\n",
       "   require.config({paths: {d3: \"https://d3js.org/d3.v5\"}});\n",
       "   require([\"d3\"], function(d3){\n",
       "      window.d3 = d3;\n",
       "      LDAvis_load_lib(\"https://cdn.jsdelivr.net/gh/bmabey/pyLDAvis@3.4.0/pyLDAvis/js/ldavis.v3.0.0.js\", function(){\n",
       "        new LDAvis(\"#\" + \"ldavis_el33819156793908803524564415\", ldavis_el33819156793908803524564415_data);\n",
       "      });\n",
       "    });\n",
       "}else{\n",
       "    // require.js not available: dynamically load d3 & LDAvis\n",
       "    LDAvis_load_lib(\"https://d3js.org/d3.v5.js\", function(){\n",
       "         LDAvis_load_lib(\"https://cdn.jsdelivr.net/gh/bmabey/pyLDAvis@3.4.0/pyLDAvis/js/ldavis.v3.0.0.js\", function(){\n",
       "                 new LDAvis(\"#\" + \"ldavis_el33819156793908803524564415\", ldavis_el33819156793908803524564415_data);\n",
       "            })\n",
       "         });\n",
       "}\n",
       "</script>"
      ],
      "text/plain": [
       "<IPython.core.display.HTML object>"
      ]
     },
     "execution_count": 42,
     "metadata": {},
     "output_type": "execute_result"
    }
   ],
   "source": [
    "# Prepare the visualization\n",
    "vis_data = gensimvis.prepare(model, corpus, dictionary)\n",
    "\n",
    "# display\n",
    "pyLDAvis.display(vis_data)"
   ]
  },
  {
   "cell_type": "markdown",
   "metadata": {},
   "source": [
    "### Hyperparameter Tuning"
   ]
  },
  {
   "cell_type": "code",
   "execution_count": null,
   "metadata": {},
   "outputs": [],
   "source": [
    "min_topics = 2\n",
    "max_topics = 10\n",
    "step_size = 1\n",
    "topics_range = range(min_topics, max_topics + 1, step_size)\n",
    "\n",
    "coherence_scores = []\n",
    "\n",
    "for num_topics in topics_range:\n",
    "    model = LdaModel(\n",
    "        corpus= corpus,\n",
    "        id2word= dictionary,\n",
    "        chunksize= chunksize,\n",
    "        alpha= 'symmetric',\n",
    "        eta= 'auto',\n",
    "        iterations= iterations,\n",
    "        num_topics= num_topics,\n",
    "        passes= passes,\n",
    "        eval_every= eval_every,\n",
    "        random_state= 42\n",
    "    )\n",
    "    \n",
    "    # Compute Coherence Score\n",
    "    coherence_model = CoherenceModel(model= model, texts= normalized_corpus, dictionary= dictionary, coherence= 'c_v')\n",
    "    coherence_score = coherence_model.get_coherence()\n",
    "    coherence_scores.append(coherence_score)"
   ]
  },
  {
   "cell_type": "code",
   "execution_count": 51,
   "metadata": {},
   "outputs": [
    {
     "data": {
      "image/png": "[encoded data removed]",
      "text/plain": [
       "<Figure size 1000x600 with 1 Axes>"
      ]
     },
     "metadata": {},
     "output_type": "display_data"
    }
   ],
   "source": [
    "plt.figure(figsize=(10, 6))\n",
    "plt.plot(topics_range, coherence_scores, marker='o')\n",
    "plt.title(\"Coherence Scores by Number of Topics\")\n",
    "plt.xlabel(\"Number of Topics\")\n",
    "plt.ylabel(\"Coherence Score\")\n",
    "plt.xticks(topics_range)\n",
    "plt.show()"
   ]
  },
  {
   "cell_type": "code",
   "execution_count": null,
   "metadata": {},
   "outputs": [],
   "source": [
    "num_topics = 9\n",
    "chunksize = 10\n",
    "passes = 20\n",
    "iterations = 400 \n",
    "eval_every = 0  \n",
    "\n",
    "model = LdaModel(\n",
    "    corpus= corpus,\n",
    "    id2word= dictionary,\n",
    "    chunksize= chunksize,\n",
    "    alpha= 'auto',\n",
    "    eta= 'auto',\n",
    "    iterations= iterations,\n",
    "    num_topics= num_topics,\n",
    "    passes= passes,\n",
    "    eval_every= eval_every,\n",
    "    random_state= 42\n",
    ")"
   ]
  },
  {
   "cell_type": "code",
   "execution_count": null,
   "metadata": {},
   "outputs": [
    {
     "data": {
      "text/plain": [
       "[(0,\n",
       "  '0.015*\"pm\" + 0.012*\"official\" + 0.011*\"history\" + 0.010*\"state\" + 0.010*\"people\" + 0.009*\"point\" + 0.009*\"case\" + 0.008*\"story\" + 0.008*\"value\" + 0.008*\"read\" + 0.008*\"logo\" + 0.007*\"week\" + 0.007*\"type\" + 0.006*\"record\" + 0.006*\"decision\" + 0.006*\"hit\" + 0.006*\"man\" + 0.006*\"come\" + 0.005*\"woman\" + 0.005*\"war\"'),\n",
       " (1,\n",
       "  '0.011*\"use\" + 0.011*\"cookie\" + 0.009*\"set\" + 0.009*\"user\" + 0.009*\"need\" + 0.007*\"feature\" + 0.007*\"game\" + 0.007*\"website\" + 0.006*\"come\" + 0.006*\"way\" + 0.006*\"support\" + 0.006*\"know\" + 0.006*\"email\" + 0.006*\"find\" + 0.006*\"app\" + 0.006*\"site\" + 0.005*\"launch\" + 0.005*\"want\" + 0.005*\"help\" + 0.005*\"deal\"'),\n",
       " (2,\n",
       "  '0.041*\"share\" + 0.034*\"stock\" + 0.031*\"price\" + 0.018*\"buy\" + 0.018*\"quarter\" + 0.015*\"rate\" + 0.013*\"sell\" + 0.012*\"market\" + 0.012*\"report\" + 0.011*\"investor\" + 0.010*\"charge\" + 0.010*\"revenue\" + 0.010*\"analyst\" + 0.010*\"earning\" + 0.009*\"sale\" + 0.009*\"rating\" + 0.009*\"rise\" + 0.008*\"option\" + 0.008*\"trade\" + 0.008*\"cash\"'),\n",
       " (3,\n",
       "  '0.000*\"outcome\" + 0.000*\"buying\" + 0.000*\"business_owner\" + 0.000*\"led\" + 0.000*\"landscape\" + 0.000*\"wheel\" + 0.000*\"translate\" + 0.000*\"roof\" + 0.000*\"reinforce\" + 0.000*\"pricing\" + 0.000*\"pound\" + 0.000*\"port\" + 0.000*\"plug\" + 0.000*\"mph\" + 0.000*\"motor\" + 0.000*\"monitoring\" + 0.000*\"link_earn\" + 0.000*\"peace\" + 0.000*\"bunch\" + 0.000*\"brunch\"'),\n",
       " (4,\n",
       "  '0.057*\"open\" + 0.044*\"link\" + 0.035*\"tab\" + 0.017*\"link_open\" + 0.017*\"join\" + 0.016*\"open_tab\" + 0.015*\"subscription\" + 0.014*\"people\" + 0.014*\"device\" + 0.012*\"window\" + 0.012*\"account\" + 0.012*\"read\" + 0.011*\"email\" + 0.010*\"tab_link\" + 0.010*\"date\" + 0.010*\"message\" + 0.010*\"view\" + 0.009*\"manage\" + 0.009*\"newsletter\" + 0.009*\"send\"'),\n",
       " (5,\n",
       "  '0.000*\"outcome\" + 0.000*\"buying\" + 0.000*\"business_owner\" + 0.000*\"led\" + 0.000*\"landscape\" + 0.000*\"wheel\" + 0.000*\"translate\" + 0.000*\"roof\" + 0.000*\"reinforce\" + 0.000*\"pricing\" + 0.000*\"pound\" + 0.000*\"port\" + 0.000*\"plug\" + 0.000*\"mph\" + 0.000*\"motor\" + 0.000*\"monitoring\" + 0.000*\"link_earn\" + 0.000*\"peace\" + 0.000*\"bunch\" + 0.000*\"brunch\"'),\n",
       " (6,\n",
       "  '0.021*\"market\" + 0.016*\"provide\" + 0.014*\"business\" + 0.012*\"technology\" + 0.011*\"datum\" + 0.010*\"growth\" + 0.010*\"industry\" + 0.009*\"base\" + 0.009*\"report\" + 0.008*\"lead\" + 0.008*\"platform\" + 0.008*\"world\" + 0.008*\"product\" + 0.007*\"information\" + 0.007*\"release\" + 0.007*\"customer\" + 0.007*\"increase\" + 0.006*\"grow\" + 0.006*\"end\" + 0.006*\"solution\"'),\n",
       " (7,\n",
       "  '0.049*\"video\" + 0.020*\"hour\" + 0.015*\"music\" + 0.014*\"channel\" + 0.012*\"kill\" + 0.010*\"police\" + 0.010*\"talk\" + 0.009*\"today\" + 0.009*\"announce\" + 0.009*\"school\" + 0.009*\"live\" + 0.008*\"fire\" + 0.008*\"post\" + 0.008*\"win\" + 0.008*\"car\" + 0.008*\"weather\" + 0.007*\"student\" + 0.007*\"home\" + 0.007*\"die\" + 0.007*\"speak\"'),\n",
       " (8,\n",
       "  '0.014*\"song\" + 0.013*\"star\" + 0.012*\"reveal\" + 0.011*\"look\" + 0.009*\"show\" + 0.009*\"child\" + 0.008*\"love\" + 0.007*\"share\" + 0.007*\"post\" + 0.007*\"dress\" + 0.007*\"husband\" + 0.006*\"find\" + 0.006*\"deal\" + 0.006*\"wife\" + 0.006*\"leave\" + 0.006*\"short\" + 0.006*\"son\" + 0.006*\"celebrate\" + 0.006*\"shoot\" + 0.006*\"daughter\"')]"
      ]
     },
     "execution_count": 53,
     "metadata": {},
     "output_type": "execute_result"
    }
   ],
   "source": [
    "model.show_topics()"
   ]
  },
  {
   "cell_type": "code",
   "execution_count": 54,
   "metadata": {},
   "outputs": [
    {
     "data": {
      "text/html": [
       "\n",
       "<link rel=\"stylesheet\" type=\"text/css\" href=\"https://cdn.jsdelivr.net/gh/bmabey/pyLDAvis@3.4.0/pyLDAvis/js/ldavis.v1.0.0.css\">\n",
       "\n",
       "\n",
       "<div id=\"ldavis_el3381915782307072569147125\" style=\"background-color:white;\"></div>\n",
       "<script type=\"text/javascript\">\n",
       "\n",
       "var ldavis_el3381915782307072569147125_data = {\"mdsDat\": {\"x\": [-0.0367258787997865, 0.053697555974416, 0.1322141300692579, 0.02851577331172173, 0.17213273210895633, -0.15875335936052035, -0.3744927454913955, 0.09170589609367534, 0.09170589609367534], \"y\": [0.08517593177706403, 0.18119730053840089, -0.2696566867307281, 0.24351787719916038, -0.15306362536221613, -0.05817813190093386, -0.0898259093972895, 0.030416621938271236, 0.03041662193827121], \"topics\": [1, 2, 3, 4, 5, 6, 7, 8, 9], \"cluster\": [1, 1, 1, 1, 1, 1, 1, 1, 1], \"Freq\": [25.030761688084198, 15.778495536132658, 15.429499856279213, 14.624884030363718, 12.707986694350925, 11.068231984318079, 5.359913917553554, 0.00011314656062375928, 0.00011314635701693033]}, \"tinfo\": {\"Term\": [\"video\", \"share\", \"open\", \"stock\", \"price\", \"link\", \"market\", \"hour\", \"tab\", \"quarter\", \"pm\", \"buy\", \"use\", \"cookie\", \"provide\", \"rate\", \"song\", \"people\", \"business\", \"user\", \"official\", \"email\", \"star\", \"channel\", \"technology\", \"history\", \"music\", \"read\", \"reveal\", \"join\", \"use\", \"cookie\", \"user\", \"app\", \"file\", \"government\", \"design\", \"store\", \"min\", \"menu\", \"page\", \"gaming\", \"click\", \"period\", \"tablet\", \"consumer\", \"note\", \"measure\", \"bank\", \"enable\", \"blog\", \"pc\", \"strategy\", \"version\", \"laptop\", \"package\", \"acquire\", \"election\", \"remember\", \"collect\", \"website\", \"ad\", \"feature\", \"access\", \"investment\", \"set\", \"site\", \"game\", \"need\", \"level\", \"launch\", \"support\", \"email\", \"way\", \"allow\", \"know\", \"come\", \"number\", \"find\", \"want\", \"create\", \"search\", \"deal\", \"help\", \"change\", \"hour\", \"content\", \"comment\", \"pm\", \"official\", \"history\", \"value\", \"logo\", \"type\", \"record\", \"decision\", \"law\", \"vaccine\", \"winter\", \"staff\", \"vote\", \"retire\", \"bill\", \"concern\", \"invasion\", \"musictv\", \"radioentertainmentmoviesbooksmusictheaterclassical\", \"mandate\", \"shortage\", \"choice\", \"crisis\", \"discussion\", \"defense\", \"archive\", \"radioentertainmentmoviesbooksmusictheaterclassical_musictv\", \"tension\", \"abortion\", \"metal\", \"moment\", \"ram\", \"protest\", \"war\", \"state\", \"rule\", \"score\", \"case\", \"story\", \"policy\", \"point\", \"city\", \"react\", \"people\", \"man\", \"woman\", \"read\", \"week\", \"hit\", \"tell\", \"season\", \"come\", \"plan\", \"know\", \"go\", \"month\", \"run\", \"technology\", \"industry\", \"platform\", \"customer\", \"solution\", \"demand\", \"press\", \"cloud\", \"economy\", \"believe\", \"software\", \"opportunity\", \"organization\", \"analysis\", \"development\", \"application\", \"operate\", \"symbol\", \"example\", \"chain\", \"ability\", \"resource\", \"sector\", \"download\", \"data\", \"factor\", \"purpose\", \"conference\", \"smartphone\", \"pandemic\", \"trend\", \"management\", \"provide\", \"deliver\", \"business\", \"growth\", \"market\", \"opinion\", \"base\", \"datum\", \"system\", \"size\", \"expand\", \"project\", \"security\", \"world\", \"drive\", \"lead\", \"grow\", \"increase\", \"information\", \"product\", \"report\", \"release\", \"view\", \"end\", \"help\", \"result\", \"dress\", \"husband\", \"wife\", \"short\", \"son\", \"celebrate\", \"daughter\", \"baby\", \"film\", \"mother\", \"attend\", \"pose\", \"suit\", \"birthday\", \"actor\", \"girl\", \"snap\", \"father\", \"girlfriend\", \"admit\", \"bikini\", \"gown\", \"tribute\", \"boyfriend\", \"dinner\", \"premiere\", \"sister\", \"apartment\", \"carpet\", \"slam\", \"song\", \"star\", \"music_video\", \"reveal\", \"wedding\", \"fan\", \"figure\", \"movie\", \"child\", \"love\", \"wear\", \"show\", \"friend\", \"look\", \"shop\", \"shoot\", \"family\", \"leave\", \"post\", \"deal\", \"find\", \"life\", \"share\", \"claim\", \"want\", \"go\", \"take\", \"stock\", \"quarter\", \"investor\", \"charge\", \"revenue\", \"analyst\", \"earning\", \"rating\", \"option\", \"trade\", \"review\", \"care\", \"forecast\", \"inflation\", \"name\", \"trading\", \"equity\", \"ratio\", \"dividend\", \"container\", \"income\", \"basis\", \"cent\", \"stake\", \"average\", \"streaming\", \"margin\", \"debt\", \"cap\", \"yield\", \"cash\", \"price\", \"rate\", \"share\", \"buy\", \"oil\", \"estimate\", \"rise\", \"sell\", \"sale\", \"report\", \"fall\", \"market\", \"purchase\", \"research\", \"expect\", \"raise\", \"police\", \"fire\", \"weather\", \"student\", \"officer\", \"crash\", \"gun\", \"shooting\", \"food\", \"corner\", \"snow\", \"bet\", \"hire\", \"nation\", \"rock\", \"reaction\", \"surge\", \"sound\", \"football\", \"estate\", \"championship\", \"basketball\", \"propose\", \"morning\", \"injure\", \"rain\", \"read_article\", \"housing\", \"crew\", \"rap\", \"channel\", \"video\", \"storm\", \"kill\", \"vehicle\", \"music\", \"prepare\", \"school\", \"road\", \"car\", \"client\", \"driver\", \"hour\", \"live\", \"talk\", \"speak\", \"today\", \"die\", \"win\", \"announce\", \"home\", \"post\", \"office\", \"right\", \"death\", \"help\", \"tab\", \"link_open\", \"open_tab\", \"subscription\", \"tab_link\", \"dialog\", \"camera\", \"cheat\", \"notification\", \"load\", \"manage_subscription\", \"dialog_window\", \"product_service\", \"work_have\", \"join_join\", \"trademark\", \"date_cheat\", \"advertisement\", \"pdf\", \"send_message\", \"instruction\", \"email_send\", \"chapter\", \"open_window\", \"podcast_mom\", \"manual\", \"com\", \"mom_people\", \"call_go\", \"account_join\", \"window\", \"link\", \"open\", \"newsletter\", \"device\", \"podcast\", \"text\", \"compensation\", \"password\", \"message\", \"join\", \"account\", \"manage\", \"mom\", \"date\", \"send\", \"people\", \"email\", \"read\", \"view\", \"sign\", \"way\", \"go\", \"browser\", \"assurance\", \"permission_edit\", \"propel\", \"fund_investor\", \"augment\", \"grow_laterremote\", \"laterremote\", \"overlook\", \"residence\", \"third\", \"intensify\", \"mark_comment\", \"publish_field\", \"holding_filing\", \"press_secretary\", \"consumer_confidence\", \"recession_fear\", \"town_flash\", \"open_door\", \"hundred_thousand\", \"weaken\", \"restrain\", \"atmosphere\", \"swimming\", \"syndicate\", \"exacerbate\", \"crude\", \"dividend_pay\", \"presenter\", \"configure\", \"accelerate\", \"achieve\", \"achieve_goal\", \"adapt\", \"addition\", \"address\", \"adopt\", \"advantage\", \"agreement\", \"aim\", \"allow\", \"alternative\", \"application\", \"attract\", \"await\", \"barrier\", \"bear\", \"believe\", \"benefit\", \"branch\", \"break\", \"bring\", \"build\", \"building\", \"business\", \"buyer\", \"call\", \"chain\", \"challenge\", \"change\", \"assurance\", \"permission_edit\", \"propel\", \"fund_investor\", \"augment\", \"grow_laterremote\", \"laterremote\", \"overlook\", \"residence\", \"third\", \"intensify\", \"mark_comment\", \"publish_field\", \"holding_filing\", \"press_secretary\", \"consumer_confidence\", \"recession_fear\", \"town_flash\", \"open_door\", \"hundred_thousand\", \"weaken\", \"restrain\", \"atmosphere\", \"swimming\", \"syndicate\", \"exacerbate\", \"crude\", \"dividend_pay\", \"presenter\", \"configure\", \"accelerate\", \"achieve\", \"achieve_goal\", \"adapt\", \"addition\", \"address\", \"adopt\", \"advantage\", \"agreement\", \"aim\", \"allow\", \"alternative\", \"application\", \"attract\", \"await\", \"barrier\", \"bear\", \"believe\", \"benefit\", \"branch\", \"break\", \"bring\", \"build\", \"building\", \"business\", \"buyer\", \"call\", \"chain\", \"challenge\", \"change\"], \"Freq\": [12699.0, 14497.0, 7930.0, 9581.0, 9466.0, 5939.0, 10866.0, 7536.0, 4176.0, 4984.0, 5385.0, 6806.0, 6368.0, 6165.0, 6202.0, 4600.0, 4535.0, 7567.0, 6564.0, 5146.0, 4162.0, 4523.0, 4838.0, 3669.0, 3984.0, 3997.0, 4146.0, 6013.0, 4582.0, 4498.0, 6367.451354742285, 6164.909094107076, 5146.188018537395, 3168.2139886825635, 2675.4168236846854, 2648.3608554818466, 2645.5611441450737, 2497.6240738357565, 2253.4174992444055, 2092.2139319805897, 2000.5595585244446, 1909.5036334688546, 1850.7589686476397, 1817.6769339866728, 1727.694201194592, 1678.0923314869776, 1647.4716130314744, 1610.1257475750033, 1520.469287130252, 1481.9593737066805, 1444.791830491978, 1398.8073734534566, 1370.5082333063585, 1339.5337381226682, 1318.2805425181987, 1252.3876064293636, 1248.1671830216583, 1186.056034124482, 1170.6967275270051, 1148.2476779415526, 3925.5443781931544, 2282.013452070237, 4167.48360112272, 2463.2404693034014, 2013.8410460182731, 5228.026456487766, 3081.785577941874, 4157.152382121544, 4818.0365093385235, 1961.9689568935232, 3075.0228894163233, 3334.4507272908, 3251.8145319430428, 3367.472930146963, 2027.961221599484, 3323.130393398878, 3373.55100725894, 2244.1118938384298, 3242.161146024612, 3072.3691728973727, 2334.3035817135187, 2407.272573776159, 2884.961621474724, 2934.378260257226, 2432.3234595792287, 2558.775306805752, 2364.8592542635815, 2369.5949611666897, 5384.985839014318, 4161.749670648327, 3997.3379194658096, 2816.671826329384, 2650.6584261486996, 2295.112233588196, 2258.6425905832334, 2034.7925045652694, 1767.7218891073205, 1530.4443114985208, 1521.1557004760057, 1343.3236064540813, 1270.9586856451203, 1227.7808022050353, 988.5013276876396, 981.5277617541033, 876.5849124821054, 838.5662089952295, 838.5662089952295, 807.4900935190341, 804.3228679580669, 790.7052360131496, 775.1661511555938, 770.1444408706556, 755.3825978494257, 714.4593648741838, 713.1357776557104, 711.6188454704461, 667.5484363060591, 660.4612298756797, 1175.8687057411341, 1148.6895636584895, 1200.778653347409, 1828.1271952853917, 3433.45788260815, 1328.1212524396656, 1681.5994837680287, 3214.0898172270654, 2894.799955502468, 1806.6980322682498, 3230.6571719165045, 1752.0994843193243, 1221.3370655727604, 3406.152610256052, 1980.9949454545408, 1926.5896603028498, 2681.454754284511, 2512.253010966801, 2000.0747165080256, 1775.4338306768886, 1542.5654714777788, 1972.7084743448954, 1726.5413010806594, 1781.7033678490716, 1712.4945797109303, 1586.0119671985435, 1542.6920125950157, 3983.533502485724, 3291.427487127669, 2658.2123252609663, 2390.988579068321, 2120.3656178750643, 1877.6797942638946, 1868.110020527538, 1693.547023939308, 1621.2081225242994, 1547.7481486885142, 1510.9926901567035, 1438.2639203797676, 1295.3561134847323, 1276.7704329985738, 1244.819065485498, 1228.1453630850892, 1211.8882862940359, 1110.409215739897, 1083.0195973289087, 1080.4226176385778, 1052.9495134015297, 1048.5326391256074, 1040.4493791352634, 940.1154866302148, 938.2728524019143, 896.421062284112, 872.5633201815552, 865.8900787433747, 857.0053869636939, 831.3719439274544, 1816.2300479749467, 1696.6036176094872, 5461.868690923949, 1893.8352256555584, 4983.655772494028, 3472.3572622661177, 7350.052271669262, 1685.5867026533638, 3174.8060643877975, 3944.5514874186697, 2015.2295628015459, 1317.011163624076, 1536.361131985681, 1536.9128294656875, 1922.2367983431566, 2655.30936479524, 2093.804429557124, 2915.774053512908, 2227.6599302036043, 2322.6404447727427, 2520.495102958629, 2654.491380474461, 3085.2031940870716, 2448.2968177087837, 2102.0456617650175, 2225.4288739510753, 1956.1294724564302, 1751.689478023614, 2240.1833937388465, 2140.8304967263057, 2010.7155026931891, 1893.084053756057, 1882.2529172941995, 1877.4870100906076, 1812.839416432681, 1800.1054510016572, 1773.009178666636, 1232.8682815009786, 1208.8472744604255, 1156.71186277378, 1125.9269933443911, 1057.7008565410417, 1031.8504406052211, 1000.8847628195722, 976.013027329388, 939.9668175213983, 934.3646526296283, 932.5559597718091, 904.8783436358896, 867.1474325471621, 822.1791605224764, 794.1144134367382, 760.0110937585688, 700.3545418876815, 696.7734092375778, 695.9141506548796, 686.3236915828601, 655.3054620845662, 4519.326647023291, 4355.214807651538, 1705.5097787358366, 3989.846664467663, 1215.4834895008655, 1733.5563992888071, 1463.2952793833597, 1368.5995303778063, 2879.8792454440695, 2608.645690368981, 1329.1790436465883, 2970.2410775563544, 1488.4416546935413, 3663.896570834129, 1332.778607477069, 1826.669199315208, 1654.6409394858397, 1903.8579164673217, 2266.1264225479663, 2073.501699456847, 2120.688567697983, 1748.226095630827, 2305.948282504749, 1478.7805173761092, 1687.8071631170742, 1720.038270910836, 1598.1377950212666, 9580.825586586929, 4984.229168158405, 3038.7653143827574, 2959.5516160880993, 2885.1825065418684, 2851.1491448435177, 2788.817254004924, 2464.918072476782, 2405.6092516074273, 2279.439494005984, 2165.8947595663553, 2128.8109296726875, 2009.0932557748558, 1965.0145396406313, 1880.6581810751854, 1396.6273538804983, 1378.43466704723, 1228.3491699680396, 1206.0807653780828, 1126.7614449365137, 1088.1533736345384, 1022.2184175287549, 966.7118615896239, 907.4181957776892, 899.6781969105197, 891.1556279385725, 856.6513344122644, 837.4310817424732, 832.0805523216551, 786.4564835855984, 2174.82896372238, 8949.445511239235, 4359.827037153018, 11697.678712700032, 5221.201852212927, 1214.8223878000779, 1452.3773172484134, 2461.2615343432362, 3705.7853198739235, 2550.6663138704466, 3283.0404860179647, 2026.3001359036193, 3515.482006441712, 1667.9754142043223, 1808.509651427112, 1969.2142773868634, 1528.2775508491168, 2488.9689533078495, 2045.654323508563, 1914.8757295784303, 1838.267507763229, 1645.3441697293115, 1497.9019811448754, 1483.5615070896317, 1459.125164996284, 1277.5567820976787, 1270.4204950013998, 1200.4565456577855, 1177.3067272784863, 1152.548523696821, 961.8758528431212, 937.6986599710261, 884.6796458842365, 883.5081138731236, 857.8879048190747, 800.8939820474951, 793.2154182889506, 758.001500452926, 748.9316235487853, 742.8406369701711, 707.3974850476425, 688.1693160380894, 681.6185355675859, 627.0618604987319, 595.2585562238174, 576.4853393502405, 550.762646462698, 3588.7611281761656, 12022.028286797526, 1703.4285251004599, 2899.386387835572, 1715.0847066215076, 3791.3701683544073, 1524.0962264743816, 2235.589952304398, 1041.477951371199, 1951.9400627725242, 1188.3043147154517, 1236.4555772710976, 4977.570855405525, 2217.558792164453, 2408.45354975069, 1745.5466139486919, 2297.7253587360647, 1766.840541174544, 1991.887315773153, 2261.3294184177826, 1805.9641192704344, 1998.3054090756573, 1441.9408510215183, 1505.744703484854, 1365.194639162794, 1559.7458447026327, 4175.96652876015, 2033.1681376016822, 1878.5480575139804, 1810.656460966449, 1252.5567417285345, 959.5260939386835, 929.3664416199412, 769.9885157129685, 741.493079449212, 634.1987910262642, 602.2114653847824, 601.1076822228897, 479.8586761700459, 457.2190630282158, 446.4706032492485, 442.5645439707503, 441.9320123545342, 441.2024000728047, 398.59897707784864, 393.64733279375326, 377.81405683443853, 360.04826713269824, 356.20850071808576, 351.9789322638255, 346.35472943011945, 332.2191369547586, 318.64350285514956, 316.5753888041949, 308.8076794878058, 301.45788038535187, 1497.2720338071158, 5223.5574587238, 6838.696138973565, 1131.014651435354, 1627.6514234172055, 905.3240435655055, 923.4708706924681, 452.9462297575249, 740.0068353100725, 1163.6895806174502, 1981.194309013037, 1452.8062977234908, 1137.9596872455104, 813.55512517281, 1191.1640230390128, 1120.5579639958378, 1702.9911558080198, 1271.390614140416, 1439.8933968732451, 1162.235771134241, 989.0912039413143, 1002.8102260164101, 941.2122925330833, 746.8855503435586, 0.0006019824460829189, 0.0006019824460829189, 0.0006019824460829189, 0.0006019824460829189, 0.0006019824460829189, 0.0006019824460829189, 0.0006019824460829189, 0.0006019824460829189, 0.0006019824460829189, 0.0006019824460829189, 0.0006019824460829189, 0.0006019824460829189, 0.0006019824460829189, 0.0006019824460829189, 0.0006019824460829189, 0.0006019824460829189, 0.0006019824460829189, 0.0006019824460829189, 0.0006019824460829189, 0.0006019824460829189, 0.0006019824460829189, 0.0006019824460829189, 0.0006019824460829189, 0.0006019824460829189, 0.0006019824460829189, 0.0006019824460829189, 0.0006019824460829189, 0.0006019824460829189, 0.0006019824460829189, 0.0006019824460829189, 0.0006019824460829189, 0.0006019824460829189, 0.0006019824460829189, 0.0006019824460829189, 0.0006019824460829189, 0.0006019824460829189, 0.0006019824460829189, 0.0006019824460829189, 0.0006019824460829189, 0.0006019824460829189, 0.0006019824460829189, 0.0006019824460829189, 0.0006019824460829189, 0.0006019824460829189, 0.0006019824460829189, 0.0006019824460829189, 0.0006019824460829189, 0.0006019824460829189, 0.0006019824460829189, 0.0006019824460829189, 0.0006019824460829189, 0.0006019824460829189, 0.0006019824460829189, 0.0006019824460829189, 0.0006019824460829189, 0.0006019824460829189, 0.0006019824460829189, 0.0006019824460829189, 0.0006019824460829189, 0.0006019824460829189, 0.000601981362817672, 0.000601981362817672, 0.000601981362817672, 0.000601981362817672, 0.000601981362817672, 0.000601981362817672, 0.000601981362817672, 0.000601981362817672, 0.000601981362817672, 0.000601981362817672, 0.000601981362817672, 0.000601981362817672, 0.000601981362817672, 0.000601981362817672, 0.000601981362817672, 0.000601981362817672, 0.000601981362817672, 0.000601981362817672, 0.000601981362817672, 0.000601981362817672, 0.000601981362817672, 0.000601981362817672, 0.000601981362817672, 0.000601981362817672, 0.000601981362817672, 0.000601981362817672, 0.000601981362817672, 0.000601981362817672, 0.000601981362817672, 0.000601981362817672, 0.000601981362817672, 0.000601981362817672, 0.000601981362817672, 0.000601981362817672, 0.000601981362817672, 0.000601981362817672, 0.000601981362817672, 0.000601981362817672, 0.000601981362817672, 0.000601981362817672, 0.000601981362817672, 0.000601981362817672, 0.000601981362817672, 0.000601981362817672, 0.000601981362817672, 0.000601981362817672, 0.000601981362817672, 0.000601981362817672, 0.000601981362817672, 0.000601981362817672, 0.000601981362817672, 0.000601981362817672, 0.000601981362817672, 0.000601981362817672, 0.000601981362817672, 0.000601981362817672, 0.000601981362817672, 0.000601981362817672, 0.000601981362817672, 0.000601981362817672], \"Total\": [12699.0, 14497.0, 7930.0, 9581.0, 9466.0, 5939.0, 10866.0, 7536.0, 4176.0, 4984.0, 5385.0, 6806.0, 6368.0, 6165.0, 6202.0, 4600.0, 4535.0, 7567.0, 6564.0, 5146.0, 4162.0, 4523.0, 4838.0, 3669.0, 3984.0, 3997.0, 4146.0, 6013.0, 4582.0, 4498.0, 6368.09404909171, 6165.551556640003, 5146.830596940086, 3168.8566491717625, 2676.0597549178133, 2649.003933185444, 2646.2039052917958, 2498.2671282621054, 2254.0604018697504, 2092.856682825647, 2001.2027096404336, 1910.146367849183, 1851.4017063317415, 1818.3201377618298, 1728.3368395324405, 1678.7355276950177, 1648.1147739898404, 1610.7689916422942, 1521.112506366613, 1482.6022107417534, 1445.4354914907929, 1399.4499385724764, 1371.1513374338565, 1340.1763141683243, 1318.9231784900205, 1253.0302280099254, 1248.810638262639, 1186.6993785115267, 1171.3399479099037, 1148.8903359108629, 4139.158904126074, 2361.0255817576535, 4804.410140672691, 2741.805508474775, 2219.9351698283845, 7024.964248183181, 3716.883853030111, 5485.313884844588, 6630.70846621739, 2151.8182868763042, 3886.865405672696, 4567.638065596372, 4523.758285189234, 5402.155214609916, 2344.6629557870815, 5791.263348174453, 6438.757860726598, 2872.1938683827925, 6700.223566205602, 5954.187325151044, 3230.4030190622675, 3498.10411568988, 5682.01014910269, 6946.079815944529, 4535.064195477141, 7536.882410684737, 4543.829974324908, 5080.804749918799, 5385.634104692456, 4162.397633757178, 3997.985973677005, 2817.3214800988235, 2651.3064429221295, 2295.7604912983325, 2259.2912162365424, 2035.441401169058, 1768.3701966186647, 1531.0922944269828, 1521.8036579143695, 1343.9719351855854, 1271.6068077900236, 1228.4289070421914, 989.1494023142504, 982.1758557543185, 877.2330422331685, 839.2140197456588, 839.2140197456588, 808.138080449824, 804.9710282844803, 791.3537570868212, 775.8142972049982, 770.7925596095741, 756.0307769517947, 715.1073442677009, 713.7835971801458, 712.2667998804519, 668.1963396588546, 661.1105664327182, 1188.8105200049797, 1194.048746862995, 1252.7501800296307, 2016.374099532115, 4223.563375118825, 1437.4603266040604, 1990.4706085433438, 4466.316031079743, 3986.4395401071765, 2321.2891869084565, 5126.212814665361, 2399.8241500180493, 1441.5137828376219, 7567.327458991492, 3337.3413650977027, 3273.736720632279, 6013.036870822949, 5715.812727073194, 4156.715265031471, 3187.561025912632, 2663.5925687896706, 6438.757860726598, 4594.362444350427, 5791.263348174453, 6943.293322809803, 6993.823864573797, 4134.1452506442565, 3984.178147341176, 3292.072089551629, 2658.856970669446, 2391.6332981179185, 2121.0102293963714, 1878.324680657824, 1868.7549278904953, 1694.1915934083245, 1621.8530385645756, 1548.393737478866, 1511.637278239748, 1438.9086553991458, 1296.0007985050368, 1277.415008647383, 1245.463788685458, 1228.7898153918086, 1212.5332729552085, 1111.0536291945432, 1083.6643114444164, 1081.067408074615, 1053.5942651498701, 1049.1774417536908, 1041.0940095534465, 940.7601125311354, 938.9175258703964, 897.0656822763852, 873.2081598493131, 866.5351567282548, 857.6503296830186, 832.017075635028, 1839.1439472369332, 1743.3723161690182, 6202.915169246715, 2082.586670932986, 6564.423163188942, 4357.345263937115, 10866.057358538877, 1934.056674587112, 4555.386859720449, 6128.241370307272, 2542.8309473764552, 1420.2628849422238, 1770.069401873309, 1778.8004822698933, 2494.187003054632, 4254.765306098731, 2948.152098679879, 5188.941561569649, 3561.300623103804, 3998.721232611274, 4786.049786424863, 5331.286682280146, 7973.329973820954, 5016.1374179099375, 4096.157592134199, 5354.10415574108, 6946.079815944529, 3400.077210870062, 2240.8420329456053, 2141.489282508621, 2011.3743284376983, 1893.7429923284444, 1882.9117057790181, 1878.1459170508242, 1813.4981299950948, 1800.764327449188, 1773.6681205340174, 1233.527091979919, 1209.5062097699065, 1157.3708868639997, 1126.5859859026546, 1058.3595542785868, 1032.5093644800334, 1001.5436910439411, 976.6720069239854, 940.6256769036291, 935.0233091974005, 933.2148300529713, 905.5369235902325, 867.8060100663465, 822.83786967068, 794.7730744602906, 760.6699325531755, 701.0132487287653, 697.4322424538944, 696.573139805451, 686.9824378486594, 655.9642458551908, 4535.488438329889, 4838.9700388038245, 1808.493899154516, 4582.189369359858, 1285.6317205945718, 1957.497368871138, 1622.379465765991, 1538.4599458543062, 3898.8703283757873, 3447.271051333162, 1491.9584999688066, 4644.674404536926, 1805.9975948176452, 8142.606940218058, 1617.4305542926834, 3315.2385010978137, 2821.1864551467306, 3977.2934067364413, 6352.121350663615, 5682.01014910269, 6700.223566205602, 4211.489956748417, 14497.05232591957, 2462.046746548926, 5954.187325151044, 6943.293322809803, 4655.662462131032, 9581.462290429017, 4984.865876058412, 3039.4021020333794, 2960.1899002080477, 2885.8194438119317, 2851.785918291435, 2789.453871326712, 2465.5548536652727, 2406.2468469865066, 2280.0765067855455, 2166.5324780683995, 2129.4490158469603, 2009.7304612712765, 1965.6513124470493, 1881.2963632983135, 1397.2641358378494, 1379.0715840536036, 1228.9858501817316, 1206.7173711980379, 1127.4040413350513, 1088.790243907415, 1022.855438041096, 967.3490526457794, 908.054945292513, 900.3151247325688, 891.7933165641914, 857.288151182317, 838.0681514377701, 832.7177426802762, 787.0932151141644, 2202.5452439854575, 9466.453251682222, 4600.085803339459, 14497.05232591957, 6806.6268533588145, 1299.9280186572805, 1647.182062907778, 3405.844359482373, 6183.505232080114, 3722.4956318719533, 7973.329973820954, 3420.661864592472, 10866.057358538877, 2440.0292615169205, 3382.0046353563334, 4699.733781994174, 2259.830405793272, 2489.6206787463466, 2046.3060874574423, 1915.5275064012928, 1838.919241421435, 1645.996014254291, 1498.553793836349, 1484.2133636907158, 1459.7768411001177, 1278.2092742687494, 1271.0721689408726, 1201.108166959225, 1177.9585780706193, 1153.2003459427126, 962.5278138864643, 938.3510342885037, 885.3313287879374, 884.1605996970485, 858.5400347860998, 801.5456750139364, 793.8683913545506, 758.6531309345178, 749.5833358799979, 743.4925523991064, 708.0495193926425, 688.8210867648829, 682.2702591208329, 627.7144563576627, 595.9106127503393, 577.1371680677372, 551.4142722780131, 3669.144582962504, 12699.574210775188, 1730.2900509990664, 2978.0341356853137, 1788.63831977599, 4146.942218300954, 1664.1078507760353, 2568.2645442738853, 1089.4329541397403, 2277.748957214706, 1284.2933895396982, 1346.6835931862158, 7536.882410684737, 2780.781860022582, 3122.710571374316, 2285.033782604523, 3873.711374677521, 2656.6377931804095, 3529.8361372293216, 5433.81667616949, 4270.8882981275665, 6352.121350663615, 2289.036193718408, 3652.3403506132745, 2159.594286054496, 6946.079815944529, 4176.634856663287, 2033.8363951456777, 1879.216348937282, 1811.3253301761256, 1253.2249992836832, 960.194373419771, 930.0370733278828, 770.65715475597, 742.1615156748114, 634.8686294054983, 602.8797272673273, 601.7759412928252, 480.528045837539, 457.88743379300274, 447.13887119741963, 443.2334961923214, 442.60027176884375, 441.8721102290879, 399.2677166173215, 394.31602277445256, 378.48308974049905, 360.71656523179655, 356.8774904196029, 352.64737743160356, 347.02298794527735, 332.88828197305116, 319.3126307937838, 317.2436494610017, 309.4759443888812, 302.1261436071749, 1551.7905601059495, 5939.992582538025, 7930.114889497989, 1251.5084700067005, 2024.9605199780574, 1130.0763872713028, 1169.5122588704687, 491.42804627860113, 948.8066104583891, 1989.6276075474595, 4498.07384831184, 2967.5504241586523, 2210.9190999016537, 1340.6815094606109, 2720.253502573861, 2490.186470192196, 7567.327458991492, 4523.758285189234, 6013.036870822949, 4096.157592134199, 3305.0791825195356, 5402.155214609916, 6943.293322809803, 1532.108951666248, 9.526974687324216, 10.174625438322066, 11.540348249638596, 15.150470408161347, 15.89213742643263, 16.207666180806726, 16.207666180806726, 17.22806651504735, 17.919534996912, 17.975991034775376, 18.110825923401517, 18.20394197560083, 18.20394197560083, 19.309141130487088, 19.472541397105225, 19.806677011194637, 22.016463809983, 22.213767593234067, 22.320485941607203, 22.56564472520046, 22.5931333296519, 22.947691415598968, 23.350904744207654, 23.751165814334257, 23.994005076398754, 24.240721473970172, 24.30769056200157, 24.340883811507716, 24.780283009711944, 24.82918249334333, 612.8658682810077, 617.1214196772064, 38.988625437586144, 231.732952767311, 754.915737848553, 2163.729429330209, 312.4509449420522, 475.0719436792919, 748.5052735080938, 901.6931568928208, 2344.6629557870815, 488.4433631594363, 1228.7898153918086, 378.0510056457625, 398.7399734644242, 189.79309598192236, 797.3275457910086, 1548.393737478866, 1297.1918002119864, 166.8217481731135, 2448.8148601257817, 2507.705316001412, 3232.8849839072705, 928.5866521288721, 6564.423163188942, 329.7730748378702, 3603.063938081498, 1081.067408074615, 1439.571569059819, 4535.064195477141, 9.526974687324216, 10.174625438322066, 11.540348249638596, 15.150470408161347, 15.89213742643263, 16.207666180806726, 16.207666180806726, 17.22806651504735, 17.919534996912, 17.975991034775376, 18.110825923401517, 18.20394197560083, 18.20394197560083, 19.309141130487088, 19.472541397105225, 19.806677011194637, 22.016463809983, 22.213767593234067, 22.320485941607203, 22.56564472520046, 22.5931333296519, 22.947691415598968, 23.350904744207654, 23.751165814334257, 23.994005076398754, 24.240721473970172, 24.30769056200157, 24.340883811507716, 24.780283009711944, 24.82918249334333, 612.8658682810077, 617.1214196772064, 38.988625437586144, 231.732952767311, 754.915737848553, 2163.729429330209, 312.4509449420522, 475.0719436792919, 748.5052735080938, 901.6931568928208, 2344.6629557870815, 488.4433631594363, 1228.7898153918086, 378.0510056457625, 398.7399734644242, 189.79309598192236, 797.3275457910086, 1548.393737478866, 1297.1918002119864, 166.8217481731135, 2448.8148601257817, 2507.705316001412, 3232.8849839072705, 928.5866521288721, 6564.423163188942, 329.7730748378702, 3603.063938081498, 1081.067408074615, 1439.571569059819, 4535.064195477141], \"Category\": [\"Default\", \"Default\", \"Default\", \"Default\", \"Default\", \"Default\", \"Default\", \"Default\", \"Default\", \"Default\", \"Default\", \"Default\", \"Default\", \"Default\", \"Default\", \"Default\", \"Default\", \"Default\", \"Default\", \"Default\", \"Default\", \"Default\", \"Default\", \"Default\", \"Default\", \"Default\", \"Default\", \"Default\", \"Default\", \"Default\", \"Topic1\", \"Topic1\", \"Topic1\", \"Topic1\", \"Topic1\", \"Topic1\", \"Topic1\", \"Topic1\", \"Topic1\", \"Topic1\", \"Topic1\", \"Topic1\", \"Topic1\", \"Topic1\", \"Topic1\", \"Topic1\", \"Topic1\", \"Topic1\", \"Topic1\", \"Topic1\", \"Topic1\", \"Topic1\", \"Topic1\", \"Topic1\", \"Topic1\", \"Topic1\", \"Topic1\", \"Topic1\", \"Topic1\", \"Topic1\", \"Topic1\", \"Topic1\", \"Topic1\", \"Topic1\", \"Topic1\", \"Topic1\", \"Topic1\", \"Topic1\", \"Topic1\", \"Topic1\", \"Topic1\", \"Topic1\", \"Topic1\", \"Topic1\", \"Topic1\", \"Topic1\", \"Topic1\", \"Topic1\", \"Topic1\", \"Topic1\", \"Topic1\", \"Topic1\", \"Topic1\", \"Topic1\", \"Topic1\", \"Topic1\", \"Topic1\", \"Topic1\", \"Topic2\", \"Topic2\", \"Topic2\", \"Topic2\", \"Topic2\", \"Topic2\", \"Topic2\", \"Topic2\", \"Topic2\", \"Topic2\", \"Topic2\", \"Topic2\", \"Topic2\", \"Topic2\", \"Topic2\", \"Topic2\", \"Topic2\", \"Topic2\", \"Topic2\", \"Topic2\", \"Topic2\", \"Topic2\", \"Topic2\", \"Topic2\", \"Topic2\", \"Topic2\", \"Topic2\", \"Topic2\", \"Topic2\", \"Topic2\", \"Topic2\", \"Topic2\", \"Topic2\", \"Topic2\", \"Topic2\", \"Topic2\", \"Topic2\", \"Topic2\", \"Topic2\", \"Topic2\", \"Topic2\", \"Topic2\", \"Topic2\", \"Topic2\", \"Topic2\", \"Topic2\", \"Topic2\", \"Topic2\", \"Topic2\", \"Topic2\", \"Topic2\", \"Topic2\", \"Topic2\", \"Topic2\", \"Topic2\", \"Topic2\", \"Topic2\", \"Topic3\", \"Topic3\", \"Topic3\", \"Topic3\", \"Topic3\", \"Topic3\", \"Topic3\", \"Topic3\", \"Topic3\", \"Topic3\", \"Topic3\", \"Topic3\", \"Topic3\", \"Topic3\", \"Topic3\", \"Topic3\", \"Topic3\", \"Topic3\", \"Topic3\", \"Topic3\", \"Topic3\", \"Topic3\", \"Topic3\", \"Topic3\", \"Topic3\", \"Topic3\", \"Topic3\", \"Topic3\", \"Topic3\", \"Topic3\", \"Topic3\", \"Topic3\", \"Topic3\", \"Topic3\", \"Topic3\", \"Topic3\", \"Topic3\", \"Topic3\", \"Topic3\", \"Topic3\", \"Topic3\", \"Topic3\", \"Topic3\", \"Topic3\", \"Topic3\", \"Topic3\", \"Topic3\", \"Topic3\", \"Topic3\", \"Topic3\", \"Topic3\", \"Topic3\", \"Topic3\", \"Topic3\", \"Topic3\", \"Topic3\", \"Topic3\", \"Topic3\", \"Topic4\", \"Topic4\", \"Topic4\", \"Topic4\", \"Topic4\", \"Topic4\", \"Topic4\", \"Topic4\", \"Topic4\", \"Topic4\", \"Topic4\", \"Topic4\", \"Topic4\", \"Topic4\", \"Topic4\", \"Topic4\", \"Topic4\", \"Topic4\", \"Topic4\", \"Topic4\", \"Topic4\", \"Topic4\", \"Topic4\", \"Topic4\", \"Topic4\", \"Topic4\", \"Topic4\", \"Topic4\", \"Topic4\", \"Topic4\", \"Topic4\", \"Topic4\", \"Topic4\", \"Topic4\", \"Topic4\", \"Topic4\", \"Topic4\", \"Topic4\", \"Topic4\", \"Topic4\", \"Topic4\", \"Topic4\", \"Topic4\", \"Topic4\", \"Topic4\", \"Topic4\", \"Topic4\", \"Topic4\", \"Topic4\", \"Topic4\", \"Topic4\", \"Topic4\", \"Topic4\", \"Topic4\", \"Topic4\", \"Topic4\", \"Topic4\", \"Topic5\", \"Topic5\", \"Topic5\", \"Topic5\", \"Topic5\", \"Topic5\", \"Topic5\", \"Topic5\", \"Topic5\", \"Topic5\", \"Topic5\", \"Topic5\", \"Topic5\", \"Topic5\", \"Topic5\", \"Topic5\", \"Topic5\", \"Topic5\", \"Topic5\", \"Topic5\", \"Topic5\", \"Topic5\", \"Topic5\", \"Topic5\", \"Topic5\", \"Topic5\", \"Topic5\", \"Topic5\", \"Topic5\", \"Topic5\", \"Topic5\", \"Topic5\", \"Topic5\", \"Topic5\", \"Topic5\", \"Topic5\", \"Topic5\", \"Topic5\", \"Topic5\", \"Topic5\", \"Topic5\", \"Topic5\", \"Topic5\", \"Topic5\", \"Topic5\", \"Topic5\", \"Topic5\", \"Topic6\", \"Topic6\", \"Topic6\", \"Topic6\", \"Topic6\", \"Topic6\", \"Topic6\", \"Topic6\", \"Topic6\", \"Topic6\", \"Topic6\", \"Topic6\", \"Topic6\", \"Topic6\", \"Topic6\", \"Topic6\", \"Topic6\", \"Topic6\", \"Topic6\", \"Topic6\", \"Topic6\", \"Topic6\", \"Topic6\", \"Topic6\", \"Topic6\", \"Topic6\", \"Topic6\", \"Topic6\", \"Topic6\", \"Topic6\", \"Topic6\", \"Topic6\", \"Topic6\", \"Topic6\", \"Topic6\", \"Topic6\", \"Topic6\", \"Topic6\", \"Topic6\", \"Topic6\", \"Topic6\", \"Topic6\", \"Topic6\", \"Topic6\", \"Topic6\", \"Topic6\", \"Topic6\", \"Topic6\", \"Topic6\", \"Topic6\", \"Topic6\", \"Topic6\", \"Topic6\", \"Topic6\", \"Topic6\", \"Topic6\", \"Topic7\", \"Topic7\", \"Topic7\", \"Topic7\", \"Topic7\", \"Topic7\", \"Topic7\", \"Topic7\", \"Topic7\", \"Topic7\", \"Topic7\", \"Topic7\", \"Topic7\", \"Topic7\", \"Topic7\", \"Topic7\", \"Topic7\", \"Topic7\", \"Topic7\", \"Topic7\", \"Topic7\", \"Topic7\", \"Topic7\", \"Topic7\", \"Topic7\", \"Topic7\", \"Topic7\", \"Topic7\", \"Topic7\", \"Topic7\", \"Topic7\", \"Topic7\", \"Topic7\", \"Topic7\", \"Topic7\", \"Topic7\", \"Topic7\", \"Topic7\", \"Topic7\", \"Topic7\", \"Topic7\", \"Topic7\", \"Topic7\", \"Topic7\", \"Topic7\", \"Topic7\", \"Topic7\", \"Topic7\", \"Topic7\", \"Topic7\", \"Topic7\", \"Topic7\", \"Topic7\", \"Topic7\", \"Topic8\", \"Topic8\", \"Topic8\", \"Topic8\", \"Topic8\", \"Topic8\", \"Topic8\", \"Topic8\", \"Topic8\", \"Topic8\", \"Topic8\", \"Topic8\", \"Topic8\", \"Topic8\", \"Topic8\", \"Topic8\", \"Topic8\", \"Topic8\", \"Topic8\", \"Topic8\", \"Topic8\", \"Topic8\", \"Topic8\", \"Topic8\", \"Topic8\", \"Topic8\", \"Topic8\", \"Topic8\", \"Topic8\", \"Topic8\", \"Topic8\", \"Topic8\", \"Topic8\", \"Topic8\", \"Topic8\", \"Topic8\", \"Topic8\", \"Topic8\", \"Topic8\", \"Topic8\", \"Topic8\", \"Topic8\", \"Topic8\", \"Topic8\", \"Topic8\", \"Topic8\", \"Topic8\", \"Topic8\", \"Topic8\", \"Topic8\", \"Topic8\", \"Topic8\", \"Topic8\", \"Topic8\", \"Topic8\", \"Topic8\", \"Topic8\", \"Topic8\", \"Topic8\", \"Topic8\", \"Topic9\", \"Topic9\", \"Topic9\", \"Topic9\", \"Topic9\", \"Topic9\", \"Topic9\", \"Topic9\", \"Topic9\", \"Topic9\", \"Topic9\", \"Topic9\", \"Topic9\", \"Topic9\", \"Topic9\", \"Topic9\", \"Topic9\", \"Topic9\", \"Topic9\", \"Topic9\", \"Topic9\", \"Topic9\", \"Topic9\", \"Topic9\", \"Topic9\", \"Topic9\", \"Topic9\", \"Topic9\", \"Topic9\", \"Topic9\", \"Topic9\", \"Topic9\", \"Topic9\", \"Topic9\", \"Topic9\", \"Topic9\", \"Topic9\", \"Topic9\", \"Topic9\", \"Topic9\", \"Topic9\", \"Topic9\", \"Topic9\", \"Topic9\", \"Topic9\", \"Topic9\", \"Topic9\", \"Topic9\", \"Topic9\", \"Topic9\", \"Topic9\", \"Topic9\", \"Topic9\", \"Topic9\", \"Topic9\", \"Topic9\", \"Topic9\", \"Topic9\", \"Topic9\", \"Topic9\"], \"logprob\": [30.0, 29.0, 28.0, 27.0, 26.0, 25.0, 24.0, 23.0, 22.0, 21.0, 20.0, 19.0, 18.0, 17.0, 16.0, 15.0, 14.0, 13.0, 12.0, 11.0, 10.0, 9.0, 8.0, 7.0, 6.0, 5.0, 4.0, 3.0, 2.0, 1.0, -4.4765, -4.5088, -4.6894, -5.1745, -5.3436, -5.3537, -5.3548, -5.4123, -5.5152, -5.5895, -5.6343, -5.6808, -5.7121, -5.7301, -5.7809, -5.81, -5.8284, -5.8514, -5.9087, -5.9343, -5.9597, -5.9921, -6.0125, -6.0354, -6.0514, -6.1026, -6.106, -6.1571, -6.1701, -6.1894, -4.9602, -5.5026, -4.9004, -5.4262, -5.6276, -4.6737, -5.2022, -4.9029, -4.7553, -5.6537, -5.2044, -5.1234, -5.1485, -5.1135, -5.6207, -5.1268, -5.1117, -5.5194, -5.1514, -5.2052, -5.48, -5.4492, -5.2682, -5.2512, -5.4388, -5.3882, -5.467, -5.465, -4.1826, -4.4403, -4.4806, -4.8307, -4.8914, -5.0354, -5.0515, -5.1558, -5.2965, -5.4407, -5.4468, -5.5711, -5.6265, -5.661, -5.8778, -5.8849, -5.998, -6.0423, -6.0423, -6.0801, -6.084, -6.1011, -6.1209, -6.1274, -6.1468, -6.2025, -6.2043, -6.2064, -6.2704, -6.281, -5.7042, -5.7276, -5.6833, -5.2629, -4.6327, -5.5825, -5.3465, -4.6987, -4.8033, -5.2747, -4.6935, -5.3054, -5.6663, -4.6406, -5.1826, -5.2105, -4.8799, -4.945, -5.173, -5.2922, -5.4328, -5.1868, -5.3201, -5.2887, -5.3283, -5.405, -5.4327, -4.4617, -4.6525, -4.8662, -4.9722, -5.0923, -5.2138, -5.2189, -5.317, -5.3607, -5.4071, -5.4311, -5.4804, -5.5851, -5.5995, -5.6249, -5.6384, -5.6517, -5.7391, -5.7641, -5.7665, -5.7923, -5.7965, -5.8042, -5.9056, -5.9076, -5.9532, -5.9802, -5.9879, -5.9982, -6.0285, -5.2471, -5.3152, -4.1461, -5.2053, -4.2377, -4.599, -3.8492, -5.3217, -4.6886, -4.4715, -5.1431, -5.5685, -5.4144, -5.4141, -5.1904, -4.8673, -5.1049, -4.7737, -5.0429, -5.0012, -4.9194, -4.8676, -4.7172, -4.9485, -5.101, -5.0439, -5.1729, -5.2833, -4.9837, -5.0291, -5.0918, -5.1521, -5.1578, -5.1604, -5.1954, -5.2025, -5.2176, -5.581, -5.6006, -5.6447, -5.6717, -5.7342, -5.759, -5.7894, -5.8146, -5.8522, -5.8582, -5.8601, -5.8903, -5.9329, -5.9861, -6.0208, -6.0647, -6.1465, -6.1516, -6.1528, -6.1667, -6.213, -4.2819, -4.3189, -5.2564, -4.4066, -5.5952, -5.2401, -5.4096, -5.4765, -4.7326, -4.8315, -5.5057, -4.7017, -5.3926, -4.4918, -5.503, -5.1878, -5.2867, -5.1464, -4.9722, -5.0611, -5.0386, -5.2317, -4.9548, -5.3991, -5.2669, -5.248, -5.3215, -3.39, -4.0435, -4.5384, -4.5648, -4.5902, -4.6021, -4.6242, -4.7477, -4.772, -4.8259, -4.877, -4.8942, -4.9521, -4.9743, -5.0182, -5.3158, -5.3289, -5.4441, -5.4624, -5.5305, -5.5653, -5.6278, -5.6837, -5.747, -5.7555, -5.765, -5.8045, -5.8272, -5.8336, -5.89, -4.8729, -3.4582, -4.1774, -3.1904, -3.9971, -5.4552, -5.2766, -4.7491, -4.3399, -4.7135, -4.461, -4.9436, -4.3926, -5.1382, -5.0573, -4.9722, -5.2257, -4.5998, -4.7959, -4.862, -4.9028, -5.0137, -5.1076, -5.1172, -5.1338, -5.2667, -5.2723, -5.329, -5.3484, -5.3697, -5.5505, -5.576, -5.6342, -5.6355, -5.6649, -5.7337, -5.7433, -5.7887, -5.8008, -5.8089, -5.8578, -5.8854, -5.8949, -5.9784, -6.0304, -6.0625, -6.1081, -4.2339, -3.0249, -4.979, -4.4472, -4.9722, -4.1789, -5.0903, -4.7072, -5.471, -4.8428, -5.3391, -5.2994, -3.9067, -4.7153, -4.6327, -4.9546, -4.6797, -4.9425, -4.8226, -4.6957, -4.9206, -4.8194, -5.1457, -5.1024, -5.2004, -5.0671, -3.3572, -4.0769, -4.156, -4.1928, -4.5613, -4.8278, -4.8598, -5.0479, -5.0856, -5.2419, -5.2937, -5.2955, -5.5208, -5.5691, -5.5929, -5.6017, -5.6031, -5.6048, -5.7063, -5.7188, -5.7599, -5.808, -5.8188, -5.8307, -5.8468, -5.8885, -5.9302, -5.9367, -5.9616, -5.9857, -4.3829, -3.1334, -2.8639, -4.6634, -4.2994, -4.886, -4.8661, -5.5785, -5.0876, -4.6349, -4.1028, -4.413, -4.6573, -4.9929, -4.6116, -4.6727, -4.2541, -4.5464, -4.422, -4.6362, -4.7975, -4.7837, -4.8471, -5.0784, -8.3438, -8.3438, -8.3438, -8.3438, -8.3438, -8.3438, -8.3438, -8.3438, -8.3438, -8.3438, -8.3438, -8.3438, -8.3438, -8.3438, -8.3438, -8.3438, -8.3438, -8.3438, -8.3438, -8.3438, -8.3438, -8.3438, -8.3438, -8.3438, -8.3438, -8.3438, -8.3438, -8.3438, -8.3438, -8.3438, -8.3438, -8.3438, -8.3438, -8.3438, -8.3438, -8.3438, -8.3438, -8.3438, -8.3438, -8.3438, -8.3438, -8.3438, -8.3438, -8.3438, -8.3438, -8.3438, -8.3438, -8.3438, -8.3438, -8.3438, -8.3438, -8.3438, -8.3438, -8.3438, -8.3438, -8.3438, -8.3438, -8.3438, -8.3438, -8.3438, -8.3438, -8.3438, -8.3438, -8.3438, -8.3438, -8.3438, -8.3438, -8.3438, -8.3438, -8.3438, -8.3438, -8.3438, -8.3438, -8.3438, -8.3438, -8.3438, -8.3438, -8.3438, -8.3438, -8.3438, -8.3438, -8.3438, -8.3438, -8.3438, -8.3438, -8.3438, -8.3438, -8.3438, -8.3438, -8.3438, -8.3438, -8.3438, -8.3438, -8.3438, -8.3438, -8.3438, -8.3438, -8.3438, -8.3438, -8.3438, -8.3438, -8.3438, -8.3438, -8.3438, -8.3438, -8.3438, -8.3438, -8.3438, -8.3438, -8.3438, -8.3438, -8.3438, -8.3438, -8.3438, -8.3438, -8.3438, -8.3438, -8.3438, -8.3438, -8.3438], \"loglift\": [30.0, 29.0, 28.0, 27.0, 26.0, 25.0, 24.0, 23.0, 22.0, 21.0, 20.0, 19.0, 18.0, 17.0, 16.0, 15.0, 14.0, 13.0, 12.0, 11.0, 10.0, 9.0, 8.0, 7.0, 6.0, 5.0, 4.0, 3.0, 2.0, 1.0, 1.385, 1.385, 1.3849, 1.3849, 1.3848, 1.3848, 1.3848, 1.3848, 1.3848, 1.3848, 1.3847, 1.3847, 1.3847, 1.3847, 1.3847, 1.3847, 1.3847, 1.3847, 1.3846, 1.3846, 1.3846, 1.3846, 1.3846, 1.3846, 1.3846, 1.3846, 1.3845, 1.3845, 1.3845, 1.3845, 1.3321, 1.351, 1.2428, 1.2779, 1.2876, 1.0896, 1.1977, 1.1078, 1.0657, 1.2927, 1.1508, 1.0704, 1.0549, 0.9124, 1.24, 0.8296, 0.7387, 1.1383, 0.6592, 0.7234, 1.0602, 1.0113, 0.7073, 0.5234, 0.7621, 0.3048, 0.732, 0.6223, 1.8464, 1.8464, 1.8464, 1.8463, 1.8463, 1.8462, 1.8462, 1.8462, 1.8462, 1.8461, 1.8461, 1.846, 1.846, 1.846, 1.8459, 1.8459, 1.8458, 1.8457, 1.8457, 1.8457, 1.8457, 1.8457, 1.8457, 1.8457, 1.8457, 1.8456, 1.8456, 1.8456, 1.8456, 1.8455, 1.8356, 1.8078, 1.8042, 1.7485, 1.6394, 1.7674, 1.6779, 1.5175, 1.5265, 1.5959, 1.3848, 1.5319, 1.6808, 1.0483, 1.3249, 1.3163, 1.039, 1.0245, 1.115, 1.2613, 1.3003, 0.6636, 0.8678, 0.6677, 0.4467, 0.3627, 0.8608, 1.8687, 1.8687, 1.8686, 1.8686, 1.8686, 1.8685, 1.8685, 1.8685, 1.8685, 1.8685, 1.8685, 1.8684, 1.8684, 1.8684, 1.8684, 1.8684, 1.8684, 1.8683, 1.8683, 1.8683, 1.8683, 1.8683, 1.8683, 1.8682, 1.8682, 1.8682, 1.8682, 1.8681, 1.8681, 1.8681, 1.8564, 1.8417, 1.7417, 1.7739, 1.5934, 1.6419, 1.478, 1.7314, 1.5078, 1.4283, 1.6363, 1.7934, 1.7273, 1.7227, 1.6084, 1.3974, 1.5267, 1.2925, 1.3997, 1.3256, 1.2276, 1.1715, 0.9194, 1.1516, 1.2018, 0.991, 0.6017, 1.2057, 1.9222, 1.9221, 1.9221, 1.9221, 1.9221, 1.9221, 1.9221, 1.9221, 1.9221, 1.9219, 1.9219, 1.9219, 1.9219, 1.9218, 1.9218, 1.9218, 1.9218, 1.9217, 1.9217, 1.9217, 1.9217, 1.9217, 1.9216, 1.9216, 1.9216, 1.9215, 1.9215, 1.9215, 1.9215, 1.9214, 1.9189, 1.8171, 1.8638, 1.784, 1.8663, 1.801, 1.8192, 1.8055, 1.6195, 1.6437, 1.8069, 1.4754, 1.7291, 1.1239, 1.7289, 1.3264, 1.3889, 1.1857, 0.8917, 0.9144, 0.772, 1.0432, 0.084, 1.4127, 0.6618, 0.527, 0.8532, 2.0629, 2.0628, 2.0627, 2.0627, 2.0627, 2.0627, 2.0627, 2.0627, 2.0627, 2.0627, 2.0626, 2.0626, 2.0626, 2.0626, 2.0626, 2.0625, 2.0625, 2.0624, 2.0624, 2.0624, 2.0624, 2.0623, 2.0623, 2.0622, 2.0622, 2.0622, 2.0622, 2.0622, 2.0622, 2.0621, 2.0503, 2.0068, 2.0093, 1.8484, 1.7978, 1.9952, 1.9371, 1.7381, 1.5509, 1.6849, 1.1756, 1.5393, 0.9345, 1.6825, 1.437, 1.1931, 1.6718, 2.2008, 2.2008, 2.2008, 2.2007, 2.2007, 2.2007, 2.2007, 2.2006, 2.2006, 2.2006, 2.2005, 2.2005, 2.2005, 2.2004, 2.2004, 2.2004, 2.2004, 2.2003, 2.2003, 2.2003, 2.2002, 2.2002, 2.2002, 2.2002, 2.2001, 2.2001, 2.2001, 2.2, 2.2, 2.1999, 2.1789, 2.1463, 2.1854, 2.1743, 2.1591, 2.1114, 2.1132, 2.0624, 2.1561, 2.0467, 2.1234, 2.1157, 1.7862, 1.9748, 1.9414, 1.9318, 1.6788, 1.7932, 1.6289, 1.3244, 1.3404, 1.0446, 1.739, 1.315, 1.7425, 0.7074, 2.9261, 2.9259, 2.9259, 2.9259, 2.9257, 2.9255, 2.9255, 2.9254, 2.9253, 2.9252, 2.9251, 2.9251, 2.9248, 2.9248, 2.9247, 2.9247, 2.9247, 2.9247, 2.9245, 2.9245, 2.9245, 2.9244, 2.9243, 2.9243, 2.9243, 2.9242, 2.9241, 2.9241, 2.9241, 2.924, 2.8905, 2.7977, 2.7782, 2.825, 2.7078, 2.7045, 2.69, 2.8447, 2.6777, 2.3899, 2.1063, 2.212, 2.2621, 2.4267, 2.1004, 2.1277, 1.4348, 1.657, 1.4969, 1.6665, 1.7198, 1.2422, 0.9279, 2.2077, 4.0226, 3.9568, 3.8309, 3.5587, 3.5109, 3.4912, 3.4912, 3.4302, 3.3908, 3.3877, 3.3802, 3.3751, 3.3751, 3.3161, 3.3077, 3.2907, 3.1849, 3.176, 3.1712, 3.1603, 3.1591, 3.1435, 3.1261, 3.1091, 3.0989, 3.0887, 3.0859, 3.0846, 3.0667, 3.0647, -0.1414, -0.1484, 2.6134, 0.8311, -0.3499, -1.4029, 0.5323, 0.1132, -0.3414, -0.5276, -1.4832, 0.0855, -0.8371, 0.3417, 0.2884, 1.0308, -0.4046, -1.0683, -0.8912, 1.1598, -1.5266, -1.5504, -1.8044, -0.5569, -2.5127, 0.4783, -1.9128, -0.709, -0.9954, -2.1429, 4.0226, 3.9568, 3.8309, 3.5587, 3.5109, 3.4912, 3.4912, 3.4302, 3.3908, 3.3877, 3.3802, 3.3751, 3.3751, 3.3161, 3.3077, 3.2907, 3.1849, 3.176, 3.1712, 3.1603, 3.1591, 3.1435, 3.1261, 3.1091, 3.0989, 3.0887, 3.0859, 3.0846, 3.0667, 3.0647, -0.1414, -0.1484, 2.6134, 0.8311, -0.3499, -1.4029, 0.5323, 0.1132, -0.3414, -0.5276, -1.4832, 0.0855, -0.8371, 0.3417, 0.2884, 1.0308, -0.4046, -1.0683, -0.8912, 1.1598, -1.5266, -1.5504, -1.8044, -0.5569, -2.5127, 0.4783, -1.9128, -0.709, -0.9954, -2.1429]}, \"token.table\": {\"Topic\": [3, 2, 3, 1, 2, 1, 3, 4, 5, 7, 7, 3, 3, 1, 4, 1, 4, 3, 1, 3, 1, 2, 3, 5, 7, 4, 3, 3, 7, 2, 3, 2, 3, 6, 1, 2, 3, 1, 3, 5, 3, 4, 5, 6, 4, 1, 3, 2, 3, 4, 4, 3, 3, 5, 3, 7, 4, 1, 3, 1, 3, 5, 7, 5, 6, 2, 4, 5, 3, 1, 3, 6, 4, 2, 4, 1, 4, 3, 1, 2, 4, 6, 1, 2, 3, 4, 6, 7, 1, 7, 1, 3, 1, 3, 3, 5, 6, 1, 5, 6, 3, 1, 2, 4, 7, 7, 7, 5, 1, 4, 6, 5, 4, 1, 2, 6, 5, 6, 4, 5, 3, 2, 3, 6, 1, 2, 3, 4, 5, 6, 7, 1, 6, 7, 5, 7, 2, 4, 6, 2, 2, 6, 1, 2, 4, 1, 6, 7, 3, 1, 7, 1, 2, 4, 5, 6, 7, 1, 2, 4, 6, 7, 2, 3, 1, 1, 5, 5, 1, 3, 6, 7, 1, 6, 6, 1, 3, 6, 6, 2, 5, 3, 3, 1, 4, 5, 7, 7, 1, 3, 5, 7, 4, 1, 4, 5, 2, 4, 6, 5, 2, 2, 2, 3, 3, 1, 3, 5, 6, 7, 7, 7, 4, 6, 4, 2, 5, 5, 3, 4, 3, 4, 6, 1, 6, 5, 3, 1, 1, 7, 7, 1, 1, 2, 3, 4, 5, 6, 5, 6, 3, 5, 3, 5, 3, 3, 6, 1, 2, 3, 4, 5, 3, 2, 4, 5, 1, 2, 4, 6, 1, 4, 4, 1, 7, 3, 4, 1, 4, 1, 2, 4, 5, 6, 6, 6, 5, 1, 4, 5, 1, 2, 1, 4, 4, 1, 2, 4, 5, 6, 7, 1, 4, 3, 4, 5, 5, 3, 5, 6, 1, 2, 3, 4, 6, 6, 2, 2, 4, 5, 5, 1, 2, 4, 5, 6, 7, 1, 6, 6, 3, 4, 5, 2, 3, 5, 3, 5, 1, 2, 3, 6, 7, 5, 2, 1, 7, 5, 2, 3, 4, 5, 7, 7, 4, 6, 1, 2, 4, 1, 5, 1, 3, 4, 2, 1, 2, 3, 4, 5, 1, 2, 4, 1, 6, 1, 2, 3, 4, 6, 7, 1, 4, 7, 7, 1, 4, 6, 7, 2, 1, 3, 4, 5, 7, 1, 4, 7, 1, 2, 4, 1, 7, 7, 3, 5, 2, 7, 5, 1, 3, 3, 5, 1, 1, 1, 6, 7, 2, 1, 6, 7, 7, 2, 7, 1, 2, 4, 5, 6, 6, 4, 1, 4, 4, 6, 7, 4, 7, 2, 5, 6, 1, 2, 3, 6, 6, 7, 1, 7, 1, 2, 5, 3, 6, 6, 2, 4, 5, 5, 6, 7, 1, 7, 7, 3, 3, 7, 3, 5, 3, 1, 2, 1, 1, 3, 1, 7, 1, 7, 1, 2, 4, 6, 7, 1, 1, 1, 2, 3, 5, 6, 3, 2, 6, 7, 7, 1, 2, 6, 1, 2, 3, 5, 4, 1, 4, 5, 6, 4, 1, 6, 4, 3, 6, 1, 4, 5, 1, 3, 5, 7, 7, 1, 3, 3, 6, 2, 4, 5, 1, 3, 6, 7, 1, 3, 1, 5, 3, 5, 2, 2, 6, 2, 4, 5, 1, 2, 6, 1, 5, 5, 5, 2, 4, 6, 1, 2, 6, 7, 6, 5, 2, 1, 3, 4, 6, 7, 1, 2, 3, 5, 6, 3, 5, 4, 3, 1, 4, 1, 2, 3, 5, 2, 1, 4, 7, 5, 5, 1, 2, 6, 7, 2, 4, 5, 6, 2, 6, 6, 2, 4, 1, 2, 4, 1, 3, 5, 4, 6, 1, 2, 1, 4, 6, 7, 2, 4, 3, 1, 2, 3, 4, 1, 2, 4, 5, 1, 2, 4, 5, 7, 7, 1, 4, 5, 1, 3, 4, 5, 7, 2, 4, 6, 4, 7, 4, 2, 1, 2, 4, 5, 1, 2, 3, 4, 5, 7, 4, 1, 6, 7, 1, 3, 4, 3, 4, 6, 3, 3, 4, 4, 7, 6, 2, 4, 6, 7, 2, 5, 4, 7, 2, 3, 5, 1, 4, 6, 1, 2, 4, 7, 1, 5, 6, 7, 4, 1, 3, 4, 6, 4, 3, 1, 2, 3, 7, 7, 1, 1, 2, 3, 4, 5, 6, 1, 4, 6, 3, 1, 2, 4, 7, 2, 4, 7, 2, 1, 3, 6, 5, 5, 7, 5, 3, 7, 4, 2, 1, 1, 2, 2, 1, 6, 1, 1, 6, 7, 1, 2, 3, 4, 7, 2, 1, 2, 4, 5, 2, 4, 5, 1, 2, 4, 6, 7, 2, 1, 2, 4, 6, 1, 7, 4, 5, 1, 2, 4, 5, 6, 7, 4, 2, 3, 4, 6, 6, 7, 2, 2, 4, 7, 1, 2, 3, 4, 7, 5], \"Freq\": [0.9994359639478623, 0.999706164719557, 0.9985871814277465, 0.898313170787278, 0.10139304160733385, 0.12704080676468554, 0.20151300383363915, 0.10581117592602457, 0.0754831318707946, 0.4896294223583239, 0.9962726045693049, 0.9981828216596452, 0.9746432343666807, 0.9993508717512474, 0.9995066732588039, 0.9665291293884146, 0.033036490837991386, 0.9968370801020822, 0.23976185807946582, 0.7590251087267067, 0.24356095214877904, 0.3674211706988223, 0.10491145377186498, 0.1770091929278603, 0.10676011375022383, 0.9997697957147134, 0.9985567496294951, 0.9977436182170851, 0.9980263288655268, 0.4048067671987131, 0.5945181894502553, 0.5567304089673489, 0.39481279998481317, 0.04768806291951395, 0.8649430806225278, 0.09894812362151206, 0.03582604475951299, 0.9990922936150295, 0.9996751183878585, 0.9997244118899691, 0.2789935859721877, 0.13360774631649625, 0.17115041883518112, 0.4160979537487576, 0.9991772008240067, 0.9997296661646129, 0.9993572412613488, 0.9984514992377335, 0.9446860409920723, 0.9849725418328942, 0.9995814740215325, 0.9972199369130966, 0.9438629680518128, 0.9996499839623794, 0.8978282184490864, 0.10031600206135044, 0.9995755538703553, 0.9992686232202046, 0.9958212601052785, 0.23598434844367305, 0.6969770291243367, 0.061465690757421816, 0.005488008103341234, 0.9991636764988664, 0.9992217864884723, 0.31229323671863535, 0.303513908778754, 0.38252786023768587, 0.9997457123021519, 0.2628755438820026, 0.7369765980973445, 0.999186237879273, 0.9994070660441943, 0.9998489587984374, 0.9996602720907718, 0.9996987126071302, 0.9990273016473091, 0.9950740944624273, 0.18376236085764608, 0.146601527884211, 0.4063189978963508, 0.2629843564273868, 0.29987574504929454, 0.10128781814165001, 0.2404588753520274, 0.112852175331051, 0.23168591472558528, 0.014355753752359845, 0.5123656507236458, 0.4875632370580426, 0.6805067334443418, 0.31952884347636595, 0.696757807703451, 0.3026104234384385, 0.7592441675528446, 0.211595134175542, 0.029248571462709906, 0.1926064155188808, 0.7670466021541393, 0.040254887759094846, 0.9976557369389534, 0.18123464118921495, 0.4232508848599583, 0.2400734527238452, 0.15514573418801095, 0.9984620956894693, 0.9988849118410174, 0.9991380720699358, 0.11019651626004022, 0.032488215949175205, 0.8569864531458108, 0.9997891398931749, 0.9985699229055462, 0.10321705781499571, 0.7196087284542217, 0.17687955677623993, 0.9874939032191615, 0.012258545005479246, 0.9993898679328262, 0.9996391657749344, 0.9990126350432522, 0.41192811301996396, 0.5876748458935742, 0.9991390914926914, 0.5362658377417138, 0.09503724344846982, 0.12237974504385327, 0.016096795294056374, 0.02557846923439095, 0.14729670214287202, 0.05711054768713152, 0.021803447149909585, 0.9781571477628187, 0.9975411998706581, 0.9999358486399692, 0.9991472800169121, 0.14799158510110538, 0.7386755027576837, 0.11310968635977031, 0.9995529722533655, 0.7300534916222187, 0.2696030873741869, 0.15312463117462918, 0.24613667504462938, 0.6007197069158529, 0.9997830258390885, 0.925022280482024, 0.07397063690723256, 0.99988691160488, 0.9992250470884525, 0.9990209256896396, 0.524014114675723, 0.30642556261268566, 0.08433303623856478, 0.03214905801359652, 0.047214075536876045, 0.0060570689011123875, 0.4664615384084337, 0.2737755273949921, 0.2598013631641909, 0.07732566402703232, 0.9218033106380431, 0.9998209528840603, 0.999382417754087, 0.966604518954032, 0.9995618561215371, 0.9592724710591934, 0.9996416179823404, 0.520486024645184, 0.29226445696778197, 0.1305066438116677, 0.05678029359765644, 0.9999105422061699, 0.9991564846064044, 0.9996304478099973, 0.7225104688880342, 0.17830592548393645, 0.09905884749107581, 0.9980296398661267, 0.9989503967535378, 0.9873418430592267, 0.9997352026673918, 0.9990227833168351, 0.10844577526354644, 0.31467655466303646, 0.13895763745634088, 0.43782684182672477, 0.9986437609573876, 0.2601072483409831, 0.643740962801241, 0.07000377009929847, 0.026108632204866557, 0.9997253209215627, 0.5077428452773184, 0.3650116676274379, 0.1272437009135186, 0.05834429217267362, 0.30931735850274583, 0.6320631652039642, 0.998725459933136, 0.9997831422860887, 0.9986365939281591, 0.09027235342660536, 0.9094459435637795, 0.9998271434852731, 0.9999229442253531, 0.9996276176877471, 0.07555702863859189, 0.12000233960246946, 0.8039662916576966, 0.9997975686744771, 0.9987105810658395, 0.334633498884215, 0.665126425791235, 0.9991192861390921, 0.998971760171147, 0.9994055184625994, 0.9859954217707347, 0.9991920230024525, 0.9996242336883968, 0.7102754301372882, 0.016620580743422694, 0.27305239792765856, 0.0816821416378461, 0.917810246039798, 0.9998372902554951, 0.9994740346108482, 0.9994106523318451, 0.7188713001415293, 0.2809610770233345, 0.99801349507934, 0.9995938150251023, 0.08330058344527434, 0.2463530707720109, 0.4155690541832633, 0.08815667126943832, 0.1583831721111943, 0.00821799477935442, 0.9992229670555216, 0.9989061268038788, 0.11777690175761805, 0.8815054708869146, 0.12375869271141197, 0.8663108489798838, 0.9993869767257252, 0.8677625851135625, 0.13163325672621098, 0.05532228250802703, 0.22214024207069313, 0.23511970065911486, 0.06830174109644875, 0.4189599009934816, 0.9988120353978084, 0.30666579788498766, 0.10085767423290824, 0.5922830376691944, 0.029065785372110457, 0.15277260360219033, 0.586632619400522, 0.23181736138244194, 0.11392097049336064, 0.885824945450616, 0.9993348290196704, 0.8673281168740011, 0.13237837348976833, 0.09800419898986436, 0.9017619064287519, 0.9996039868258301, 0.9996233114153192, 0.48386445138217593, 0.19462037156149212, 0.3165566012898196, 0.004925208789516288, 0.9998504195147938, 0.9998362754261276, 0.9993192215603598, 0.999636537692316, 0.17552625812439582, 0.8239213630571008, 0.9900682682380416, 0.757841773008725, 0.24210100422313854, 0.9999233734903008, 0.9994571469534451, 0.9989055789440384, 0.1638991681744875, 0.24656887162980898, 0.2477210626187333, 0.02866075084949298, 0.1774374122943485, 0.1355264650722256, 0.9996210148377406, 0.9990712093981869, 0.625614132529541, 0.06711031313938971, 0.3071911404790475, 0.9871871632540997, 0.7968154437371451, 0.20287582150450353, 0.9998562445966763, 0.42239652836483194, 0.04966830343758249, 0.2815976855765546, 0.02173888063499987, 0.22458711119602515, 0.9998262696127195, 0.9997533824071678, 0.48114914601562386, 0.3180395855163274, 0.20087976846152297, 0.9839899077645153, 0.10302306435710432, 0.11894481066683862, 0.14376400344377738, 0.15500288319182512, 0.4228628505202963, 0.05619439874023872, 0.33953030716947474, 0.6604852946813776, 0.9984718970750722, 0.9749333674225239, 0.9997715223173811, 0.999274200047404, 0.04376399099111999, 0.5809357204135527, 0.37511992278102846, 0.9996743420185021, 0.999668653111096, 0.37880926461366693, 0.0944411404331922, 0.5265302519726645, 0.998807982536163, 0.9987236160515645, 0.9386650874951988, 0.9997343439862055, 0.9072337009533911, 0.09279550267944318, 0.999867703574624, 0.0693630230453188, 0.10582307362042227, 0.31902544253215537, 0.06536131017731964, 0.44041073286146326, 0.9974529810070644, 0.02619177499187746, 0.9734609705314455, 0.573795353486643, 0.307704881105386, 0.11845429205291516, 0.9993000513562303, 0.9871871632540997, 0.7911259277237085, 0.1342984501696832, 0.07435297336980544, 0.9997906566060814, 0.017730012741205378, 0.17344577681613957, 0.5619643168842922, 0.20100438357692618, 0.04586677209137913, 0.14582781321026994, 0.3753809053843673, 0.47871751095233445, 0.9117870277272089, 0.08783269533152012, 0.3744518011904654, 0.057461849009570465, 0.01757097862276122, 0.41505500854846766, 0.12442152430171456, 0.010922500224959676, 0.09107755480880464, 0.029461316250537547, 0.8794623776731894, 0.9995887598689481, 0.035601498061842235, 0.16685954647166462, 0.7976174010218796, 0.9986317966185986, 0.9998844181430073, 0.2717802807193756, 0.16211024426099224, 0.44997873861536025, 0.09358182282339098, 0.022597185563653463, 0.21234187538485372, 0.7568305367200593, 0.030748960096713792, 0.016180544359272974, 0.5935862662170326, 0.3901309028846928, 0.48486622601780627, 0.5147180645599473, 0.9985407914256549, 0.9734007958375069, 0.026385643257822815, 0.998591725254191, 0.9973315913441403, 0.9996638805961336, 0.4943984117320804, 0.4943984117320804, 0.676418295751416, 0.3234843958593506, 0.9995225934654292, 0.9995906634063014, 0.2754284258628173, 0.1397246393975606, 0.5850341016502177, 0.9983201502303757, 0.9995295592483365, 0.3930836640031122, 0.607153894684124, 0.9992319800209849, 0.9892240859334539, 0.01009412332585157, 0.2527944704120371, 0.22677151022256273, 0.14098153157594379, 0.18845198642707292, 0.19116866908421587, 0.9985177316502626, 0.9995726952546514, 0.10985011371625562, 0.8898509211689583, 0.0520865709309298, 0.9141675481442355, 0.03351867296018168, 0.9433263782629112, 0.05640052202978719, 0.9997449759648633, 0.9998424685742793, 0.9994516377824625, 0.7266191877605678, 0.0829473958630785, 0.05263389301129891, 0.13769267713271033, 0.09588428914057412, 0.903709425149911, 0.9993236065792058, 0.9984349556662806, 0.7812843083825323, 0.042128075451999286, 0.17652011780300528, 0.3700247302005728, 0.6299594580274215, 0.9993948865940954, 0.9999044700213279, 0.06538823594847817, 0.934667137381188, 0.019419642987007074, 0.11815717843393266, 0.8624086908320869, 0.9856416234643982, 0.9998848727889131, 0.9981642357974742, 0.999560199322276, 0.871742809894613, 0.12822788662744009, 0.9993685107141886, 0.9998974141049511, 0.9992277794070874, 0.8126274638986395, 0.17413445654970847, 0.9991778107288268, 0.9998987060933622, 0.9987775784117751, 0.21922275594128784, 0.7799271124834279, 0.9996784889833678, 0.9993294809317675, 0.1777377822340531, 0.4500928522596169, 0.02682585114759314, 0.12025381548921063, 0.22504642612980846, 0.9998239376250742, 0.9828371629618571, 0.13581862718891874, 0.375895463389844, 0.07335076500427182, 0.16694372925304593, 0.24813018428744768, 0.9996776920763698, 0.9998822599753103, 0.19821668917520993, 0.8008308201052009, 0.9970521032300066, 0.3696686166790962, 0.6302898683325381, 0.9997506934483452, 0.06246528903756027, 0.7784467399370442, 0.1494858985933339, 0.00947749212983673, 0.9996795436379046, 0.15695543975963905, 0.3567312201558095, 0.17175364571491092, 0.3145405904109918, 0.9985545940385537, 0.08352824003274736, 0.9158060274094026, 0.968511941150707, 0.9995960262743775, 0.9757329365762462, 0.03876847962406436, 0.015739791455001605, 0.9453382129584521, 0.36782865316882507, 0.49781603544623243, 0.02738550910894873, 0.10672845673282073, 0.9989011133853412, 0.13548455962439615, 0.8640654279779953, 0.9531774745484377, 0.9993375153557126, 0.9586907422927637, 0.010377168734226418, 0.031131506202679255, 0.08882920126520345, 0.8805537156271167, 0.00532007920463106, 0.02531067985233565, 0.4943984117320804, 0.4943984117320804, 0.3163896483438326, 0.6835983593750166, 0.9997616148601394, 0.9998262990259035, 0.9997449759648633, 0.998902192228511, 0.9996038826004505, 0.3097577580182518, 0.01371784356937972, 0.6761569346455553, 0.037686903585991784, 0.9622722715623235, 0.9992487095477206, 0.052172939866854354, 0.9478084075811875, 0.999774957890534, 0.9991978343920023, 0.8470262404265465, 0.15261734061739576, 0.9996257572988059, 0.24530034185506838, 0.44586455356843274, 0.06918301166895488, 0.2394796557771515, 0.9988618131215133, 0.9538316498618592, 0.9998711028332915, 0.23205105901684034, 0.4880249076230456, 0.1682569534452004, 0.050237858137666465, 0.06140182661270346, 0.9997097786082424, 0.15576929640161533, 0.38691487874314273, 0.41174766512600897, 0.045401356922209944, 0.4651087652439797, 0.5348898641617033, 0.9486853315629865, 0.9998308753632806, 0.5665057876437668, 0.4357736828028976, 0.08970384526119396, 0.048234198763396095, 0.5152824160577437, 0.3470509423219963, 0.9996508491132595, 0.041246658478107316, 0.8707627900933768, 0.08794922416231349, 0.9997160446701928, 0.9997542256699173, 0.2828323488052109, 0.22013282520754074, 0.4123383516947218, 0.08460328729991304, 0.101296466774669, 0.06048426711762844, 0.7225814629926388, 0.11538988823897077, 0.043141709475011315, 0.9555429694358889, 0.9996259030195774, 0.92385158422935, 0.07582817972966803, 0.4511210629837842, 0.3732331368278708, 0.17561066580494764, 0.2127604914345386, 0.10181341698698247, 0.6852929465271564, 0.12927017224149118, 0.8706268226866695, 0.1547372760381521, 0.8450262931693892, 0.6880870095329631, 0.032017343193889436, 0.2066833850819827, 0.07318249872889014, 0.5792928010386871, 0.4204847292050094, 0.9989491731357519, 0.08860602662484457, 0.07537526246819357, 0.7705917790631278, 0.06535195628891251, 0.16333777721414472, 0.1665721886441278, 0.07067188974512995, 0.5993364379758618, 0.15781950657280205, 0.2927491610472588, 0.09035467933557369, 0.008834679757256094, 0.4501670912674583, 0.9991985545699387, 0.7442030756743114, 0.15131749606767272, 0.10448451751050968, 0.00951917651240501, 0.004690608716257541, 0.15906681911308662, 0.806922658276187, 0.019866107504149588, 0.44883648627610384, 0.5510915728672323, 0.9994678357141683, 0.8241466667376842, 0.17558713679932658, 0.9996076593648376, 0.9987937102698593, 0.19226320775633188, 0.06545130476811298, 0.6394420235568932, 0.10291356473407237, 0.3527903374197323, 0.23690809108031766, 0.03600518881041865, 0.03086159040893027, 0.043871868718577345, 0.2992364011218827, 0.9993802373512678, 0.8291892138322979, 0.1000838376202514, 0.07048915445297277, 0.07252178529201658, 0.9272931187338431, 0.9985300329076111, 0.9992417309706404, 0.9993119420652775, 0.9990773795485627, 0.9995784185472787, 0.9995237036661256, 0.9995158000366029, 0.9963645727347593, 0.0035277347120504865, 0.999370984736624, 0.13916643264570813, 0.057329568165370326, 0.7641024886773786, 0.039386726220483434, 0.999276818838147, 0.9988382362785622, 0.8999849069279503, 0.09981462917249138, 0.8128207617823223, 0.1870458496382274, 0.9999517515787252, 0.9998930745799425, 0.015026382417784607, 0.9842280483648917, 0.08829934493137613, 0.7262119419782213, 0.03938351464268765, 0.14599493963085486, 0.9998896274760307, 0.9991104255330733, 0.999500118656258, 0.999820391085629, 0.9994798569217199, 0.7299177281824972, 0.14909237339300557, 0.12063127421372404, 0.9998183591339588, 0.9683735181588049, 0.9990516846650265, 0.9585727737727084, 0.20724932600955162, 0.7924238935659327, 0.9998479980450592, 0.9998204637764074, 0.9998051077054334, 0.1149138289881769, 0.3030717994435843, 0.10138192015405513, 0.34323794153851717, 0.0837689594493252, 0.053483258725338406, 0.14698768570088533, 0.08133959078001063, 0.7711249393632503, 0.9999552863013179, 0.09097865033563396, 0.556852083950863, 0.300856985075424, 0.050822556394388624, 0.9996254214284638, 0.20948903967592816, 0.7892178923301294, 0.9457058566124518, 0.05550232818207793, 0.3513426449107352, 0.5932295356391399, 0.9903767970769993, 0.9995278637438956, 0.9994731982254786, 0.9998109621287238, 0.9874159131090833, 0.011962087053083608, 0.9989817317583897, 0.9996687410114361, 0.9998281983458039, 0.9998386197244222, 0.9992865913890635, 0.9998858915813852, 0.04081317010425146, 0.9588299551889212, 0.9998684395728679, 0.015748559493459734, 0.9466459111518646, 0.03763905718936876, 0.019042236106780276, 0.03613142235645488, 0.5131638499545146, 0.14769939544361624, 0.2836804917445985, 0.9995228023424331, 0.5159394275392688, 0.15115412916189516, 0.28349796669475447, 0.049377015526219085, 0.9065778024148268, 0.05951276602285515, 0.03322796102942746, 0.6232697629446264, 0.06849118274116775, 0.03609670441764246, 0.08626186799293019, 0.18566663861997634, 0.9737471858817629, 0.060323393714960365, 0.04825871497196829, 0.8907754471909147, 0.9997246155956884, 0.9485018794727622, 0.051459730088563006, 0.9450606892602911, 0.05444794094503735, 0.028692332627205736, 0.439482558289883, 0.025368220920395316, 0.2232403440994788, 0.21221828949268634, 0.07103101857710689, 0.9998138941954235, 0.351007795215256, 0.02039754742170979, 0.06402563496258908, 0.5643321453339709, 0.0347985104357853, 0.9646920393031592, 0.999471904335234, 0.5886239989475469, 0.41145642272046995, 0.9980618952879936, 0.14430878223057322, 0.11540001966646815, 0.6240062163227555, 0.08038046176360919, 0.035489619082763116, 0.9986110728778091], \"Term\": [\"ability\", \"abortion\", \"accelerate\", \"access\", \"access\", \"account\", \"account\", \"account\", \"account\", \"account\", \"account_join\", \"achieve\", \"achieve_goal\", \"acquire\", \"actor\", \"ad\", \"ad\", \"adapt\", \"addition\", \"addition\", \"address\", \"address\", \"address\", \"address\", \"address\", \"admit\", \"adopt\", \"advantage\", \"advertisement\", \"agreement\", \"agreement\", \"aim\", \"aim\", \"aim\", \"allow\", \"allow\", \"allow\", \"alternative\", \"analysis\", \"analyst\", \"announce\", \"announce\", \"announce\", \"announce\", \"apartment\", \"app\", \"application\", \"archive\", \"assurance\", \"atmosphere\", \"attend\", \"attract\", \"augment\", \"average\", \"await\", \"await\", \"baby\", \"bank\", \"barrier\", \"base\", \"base\", \"base\", \"base\", \"basis\", \"basketball\", \"bear\", \"bear\", \"bear\", \"believe\", \"benefit\", \"benefit\", \"bet\", \"bikini\", \"bill\", \"birthday\", \"blog\", \"boyfriend\", \"branch\", \"break\", \"break\", \"break\", \"break\", \"bring\", \"bring\", \"bring\", \"bring\", \"bring\", \"bring\", \"browser\", \"browser\", \"build\", \"build\", \"building\", \"building\", \"business\", \"business\", \"business\", \"buy\", \"buy\", \"buy\", \"buyer\", \"call\", \"call\", \"call\", \"call\", \"call_go\", \"camera\", \"cap\", \"car\", \"car\", \"car\", \"care\", \"carpet\", \"case\", \"case\", \"case\", \"cash\", \"cash\", \"celebrate\", \"cent\", \"chain\", \"challenge\", \"challenge\", \"championship\", \"change\", \"change\", \"change\", \"change\", \"change\", \"change\", \"change\", \"channel\", \"channel\", \"chapter\", \"charge\", \"cheat\", \"child\", \"child\", \"child\", \"choice\", \"city\", \"city\", \"claim\", \"claim\", \"claim\", \"click\", \"client\", \"client\", \"cloud\", \"collect\", \"com\", \"come\", \"come\", \"come\", \"come\", \"come\", \"come\", \"comment\", \"comment\", \"comment\", \"compensation\", \"compensation\", \"concern\", \"conference\", \"configure\", \"consumer\", \"consumer_confidence\", \"container\", \"content\", \"content\", \"content\", \"content\", \"cookie\", \"corner\", \"crash\", \"create\", \"create\", \"create\", \"crew\", \"crisis\", \"crude\", \"customer\", \"data\", \"date\", \"date\", \"date\", \"date\", \"date_cheat\", \"datum\", \"datum\", \"datum\", \"datum\", \"daughter\", \"deal\", \"deal\", \"deal\", \"death\", \"death\", \"death\", \"debt\", \"decision\", \"defense\", \"deliver\", \"deliver\", \"demand\", \"design\", \"development\", \"device\", \"device\", \"device\", \"dialog\", \"dialog_window\", \"die\", \"die\", \"dinner\", \"discussion\", \"dividend\", \"dividend_pay\", \"download\", \"dress\", \"drive\", \"drive\", \"drive\", \"driver\", \"driver\", \"earning\", \"economy\", \"election\", \"email\", \"email\", \"email_send\", \"enable\", \"end\", \"end\", \"end\", \"end\", \"end\", \"end\", \"equity\", \"estate\", \"estimate\", \"estimate\", \"exacerbate\", \"exacerbate\", \"example\", \"expand\", \"expand\", \"expect\", \"expect\", \"expect\", \"expect\", \"expect\", \"factor\", \"fall\", \"fall\", \"fall\", \"family\", \"family\", \"family\", \"family\", \"fan\", \"fan\", \"father\", \"feature\", \"feature\", \"figure\", \"figure\", \"file\", \"film\", \"find\", \"find\", \"find\", \"find\", \"fire\", \"food\", \"football\", \"forecast\", \"friend\", \"friend\", \"fund_investor\", \"game\", \"game\", \"gaming\", \"girl\", \"girlfriend\", \"go\", \"go\", \"go\", \"go\", \"go\", \"go\", \"government\", \"gown\", \"grow\", \"grow\", \"grow\", \"grow_laterremote\", \"growth\", \"growth\", \"gun\", \"help\", \"help\", \"help\", \"help\", \"help\", \"hire\", \"history\", \"hit\", \"hit\", \"hit\", \"holding_filing\", \"home\", \"home\", \"home\", \"home\", \"home\", \"home\", \"hour\", \"hour\", \"housing\", \"hundred_thousand\", \"husband\", \"income\", \"increase\", \"increase\", \"increase\", \"industry\", \"inflation\", \"information\", \"information\", \"information\", \"injure\", \"instruction\", \"intensify\", \"invasion\", \"investment\", \"investment\", \"investor\", \"join\", \"join\", \"join\", \"join\", \"join\", \"join_join\", \"kill\", \"kill\", \"know\", \"know\", \"know\", \"laptop\", \"laterremote\", \"launch\", \"launch\", \"launch\", \"law\", \"lead\", \"lead\", \"lead\", \"lead\", \"lead\", \"leave\", \"leave\", \"leave\", \"level\", \"level\", \"life\", \"life\", \"life\", \"life\", \"life\", \"life\", \"link\", \"link\", \"link\", \"link_open\", \"live\", \"live\", \"live\", \"load\", \"logo\", \"look\", \"look\", \"look\", \"look\", \"look\", \"love\", \"love\", \"love\", \"man\", \"man\", \"man\", \"manage\", \"manage\", \"manage_subscription\", \"management\", \"management\", \"mandate\", \"manual\", \"margin\", \"mark_comment\", \"mark_comment\", \"market\", \"market\", \"measure\", \"menu\", \"message\", \"message\", \"message\", \"metal\", \"min\", \"mom\", \"mom\", \"mom_people\", \"moment\", \"moment\", \"month\", \"month\", \"month\", \"month\", \"month\", \"morning\", \"mother\", \"movie\", \"movie\", \"music\", \"music\", \"music\", \"music_video\", \"music_video\", \"musictv\", \"name\", \"nation\", \"need\", \"need\", \"need\", \"need\", \"newsletter\", \"newsletter\", \"note\", \"notification\", \"number\", \"number\", \"number\", \"office\", \"office\", \"officer\", \"official\", \"oil\", \"oil\", \"open\", \"open\", \"open\", \"open_door\", \"open_tab\", \"open_window\", \"operate\", \"opinion\", \"opinion\", \"opportunity\", \"option\", \"organization\", \"overlook\", \"overlook\", \"package\", \"page\", \"pandemic\", \"password\", \"password\", \"pc\", \"pdf\", \"people\", \"people\", \"people\", \"people\", \"people\", \"period\", \"permission_edit\", \"plan\", \"plan\", \"plan\", \"plan\", \"plan\", \"platform\", \"pm\", \"podcast\", \"podcast\", \"podcast_mom\", \"point\", \"point\", \"police\", \"policy\", \"policy\", \"policy\", \"policy\", \"pose\", \"post\", \"post\", \"post\", \"post\", \"premiere\", \"prepare\", \"prepare\", \"presenter\", \"press\", \"press_secretary\", \"price\", \"price\", \"price\", \"product\", \"product\", \"product\", \"product\", \"product_service\", \"project\", \"project\", \"propel\", \"propose\", \"protest\", \"protest\", \"protest\", \"provide\", \"provide\", \"provide\", \"provide\", \"publish_field\", \"publish_field\", \"purchase\", \"purchase\", \"purpose\", \"quarter\", \"radioentertainmentmoviesbooksmusictheaterclassical\", \"radioentertainmentmoviesbooksmusictheaterclassical_musictv\", \"rain\", \"raise\", \"raise\", \"raise\", \"ram\", \"ram\", \"rap\", \"rate\", \"rate\", \"rating\", \"ratio\", \"react\", \"react\", \"reaction\", \"read\", \"read\", \"read\", \"read\", \"read_article\", \"recession_fear\", \"record\", \"release\", \"release\", \"release\", \"release\", \"release\", \"remember\", \"report\", \"report\", \"report\", \"report\", \"research\", \"research\", \"residence\", \"resource\", \"restrain\", \"restrain\", \"result\", \"result\", \"result\", \"result\", \"retire\", \"reveal\", \"reveal\", \"reveal\", \"revenue\", \"review\", \"right\", \"right\", \"right\", \"right\", \"rise\", \"rise\", \"rise\", \"rise\", \"road\", \"road\", \"rock\", \"rule\", \"rule\", \"run\", \"run\", \"run\", \"sale\", \"sale\", \"sale\", \"school\", \"school\", \"score\", \"score\", \"search\", \"search\", \"search\", \"search\", \"season\", \"season\", \"sector\", \"security\", \"security\", \"security\", \"security\", \"sell\", \"sell\", \"sell\", \"sell\", \"send\", \"send\", \"send\", \"send\", \"send\", \"send_message\", \"set\", \"set\", \"set\", \"share\", \"share\", \"share\", \"share\", \"share\", \"shoot\", \"shoot\", \"shooting\", \"shop\", \"shop\", \"short\", \"shortage\", \"show\", \"show\", \"show\", \"show\", \"sign\", \"sign\", \"sign\", \"sign\", \"sign\", \"sign\", \"sister\", \"site\", \"site\", \"site\", \"size\", \"size\", \"slam\", \"smartphone\", \"snap\", \"snow\", \"software\", \"solution\", \"son\", \"song\", \"song\", \"sound\", \"speak\", \"speak\", \"speak\", \"speak\", \"staff\", \"stake\", \"star\", \"star\", \"state\", \"state\", \"stock\", \"store\", \"storm\", \"storm\", \"story\", \"story\", \"story\", \"story\", \"strategy\", \"streaming\", \"student\", \"subscription\", \"suit\", \"support\", \"support\", \"support\", \"surge\", \"swimming\", \"symbol\", \"syndicate\", \"system\", \"system\", \"tab\", \"tab_link\", \"tablet\", \"take\", \"take\", \"take\", \"take\", \"take\", \"take\", \"talk\", \"talk\", \"talk\", \"technology\", \"tell\", \"tell\", \"tell\", \"tell\", \"tension\", \"text\", \"text\", \"third\", \"today\", \"today\", \"today\", \"town_flash\", \"trade\", \"trademark\", \"trading\", \"trend\", \"trend\", \"tribute\", \"type\", \"use\", \"user\", \"vaccine\", \"value\", \"vehicle\", \"vehicle\", \"version\", \"video\", \"video\", \"video\", \"view\", \"view\", \"view\", \"view\", \"view\", \"vote\", \"want\", \"want\", \"want\", \"want\", \"war\", \"war\", \"war\", \"way\", \"way\", \"way\", \"way\", \"way\", \"weaken\", \"wear\", \"wear\", \"wear\", \"weather\", \"website\", \"website\", \"wedding\", \"wedding\", \"week\", \"week\", \"week\", \"week\", \"week\", \"week\", \"wife\", \"win\", \"win\", \"win\", \"win\", \"window\", \"window\", \"winter\", \"woman\", \"woman\", \"work_have\", \"world\", \"world\", \"world\", \"world\", \"world\", \"yield\"]}, \"R\": 30, \"lambda.step\": 0.01, \"plot.opts\": {\"xlab\": \"PC1\", \"ylab\": \"PC2\"}, \"topic.order\": [2, 1, 7, 9, 3, 8, 5, 6, 4]};\n",
       "\n",
       "function LDAvis_load_lib(url, callback){\n",
       "  var s = document.createElement('script');\n",
       "  s.src = url;\n",
       "  s.async = true;\n",
       "  s.onreadystatechange = s.onload = callback;\n",
       "  s.onerror = function(){console.warn(\"failed to load library \" + url);};\n",
       "  document.getElementsByTagName(\"head\")[0].appendChild(s);\n",
       "}\n",
       "\n",
       "if(typeof(LDAvis) !== \"undefined\"){\n",
       "   // already loaded: just create the visualization\n",
       "   !function(LDAvis){\n",
       "       new LDAvis(\"#\" + \"ldavis_el3381915782307072569147125\", ldavis_el3381915782307072569147125_data);\n",
       "   }(LDAvis);\n",
       "}else if(typeof define === \"function\" && define.amd){\n",
       "   // require.js is available: use it to load d3/LDAvis\n",
       "   require.config({paths: {d3: \"https://d3js.org/d3.v5\"}});\n",
       "   require([\"d3\"], function(d3){\n",
       "      window.d3 = d3;\n",
       "      LDAvis_load_lib(\"https://cdn.jsdelivr.net/gh/bmabey/pyLDAvis@3.4.0/pyLDAvis/js/ldavis.v3.0.0.js\", function(){\n",
       "        new LDAvis(\"#\" + \"ldavis_el3381915782307072569147125\", ldavis_el3381915782307072569147125_data);\n",
       "      });\n",
       "    });\n",
       "}else{\n",
       "    // require.js not available: dynamically load d3 & LDAvis\n",
       "    LDAvis_load_lib(\"https://d3js.org/d3.v5.js\", function(){\n",
       "         LDAvis_load_lib(\"https://cdn.jsdelivr.net/gh/bmabey/pyLDAvis@3.4.0/pyLDAvis/js/ldavis.v3.0.0.js\", function(){\n",
       "                 new LDAvis(\"#\" + \"ldavis_el3381915782307072569147125\", ldavis_el3381915782307072569147125_data);\n",
       "            })\n",
       "         });\n",
       "}\n",
       "</script>"
      ],
      "text/plain": [
       "<IPython.core.display.HTML object>"
      ]
     },
     "execution_count": 54,
     "metadata": {},
     "output_type": "execute_result"
    }
   ],
   "source": [
    "# Prepare the visualization\n",
    "vis_data = gensimvis.prepare(model, corpus, dictionary)\n",
    "\n",
    "# display\n",
    "pyLDAvis.display(vis_data)"
   ]
  },
  {
   "cell_type": "code",
   "execution_count": 55,
   "metadata": {},
   "outputs": [
    {
     "name": "stdout",
     "output_type": "stream",
     "text": [
      "[('share', 0.041154537), ('stock', 0.033707067), ('price', 0.03148576), ('buy', 0.018369127), ('quarter', 0.017535415), ('rate', 0.015338656), ('sell', 0.013037619), ('market', 0.012368098), ('report', 0.011550327), ('investor', 0.010690923)]\n"
     ]
    }
   ],
   "source": [
    "topic_words = model.show_topic(2, topn=10)\n",
    "print(topic_words)"
   ]
  },
  {
   "cell_type": "markdown",
   "metadata": {},
   "source": [
    "# **BERTopic Modeling**"
   ]
  },
  {
   "cell_type": "code",
   "execution_count": 57,
   "metadata": {},
   "outputs": [
    {
     "data": {
      "application/vnd.jupyter.widget-view+json": {
       "model_id": "a41a68a4e3be4423abf44dc181be0a08",
       "version_major": 2,
       "version_minor": 0
      },
      "text/plain": [
       "modules.json:   0%|          | 0.00/385 [00:00<?, ?B/s]"
      ]
     },
     "metadata": {},
     "output_type": "display_data"
    },
    {
     "data": {
      "application/vnd.jupyter.widget-view+json": {
       "model_id": "75fc641a75174f40b35fe58b6c978411",
       "version_major": 2,
       "version_minor": 0
      },
      "text/plain": [
       "README.md:   0%|          | 0.00/68.1k [00:00<?, ?B/s]"
      ]
     },
     "metadata": {},
     "output_type": "display_data"
    },
    {
     "data": {
      "application/vnd.jupyter.widget-view+json": {
       "model_id": "a5c9fd5823d84ed7b6e224c2fed5c66f",
       "version_major": 2,
       "version_minor": 0
      },
      "text/plain": [
       "sentence_bert_config.json:   0%|          | 0.00/57.0 [00:00<?, ?B/s]"
      ]
     },
     "metadata": {},
     "output_type": "display_data"
    },
    {
     "data": {
      "application/vnd.jupyter.widget-view+json": {
       "model_id": "1a86f21e8fc844d59f6b772eb1633aef",
       "version_major": 2,
       "version_minor": 0
      },
      "text/plain": [
       "config.json:   0%|          | 0.00/583 [00:00<?, ?B/s]"
      ]
     },
     "metadata": {},
     "output_type": "display_data"
    },
    {
     "data": {
      "application/vnd.jupyter.widget-view+json": {
       "model_id": "1e2ad8fb2c614eeb94cf109d5b0509a2",
       "version_major": 2,
       "version_minor": 0
      },
      "text/plain": [
       "model.safetensors:   0%|          | 0.00/66.7M [00:00<?, ?B/s]"
      ]
     },
     "metadata": {},
     "output_type": "display_data"
    },
    {
     "data": {
      "application/vnd.jupyter.widget-view+json": {
       "model_id": "877a33584ae541b29e07bab77b306adb",
       "version_major": 2,
       "version_minor": 0
      },
      "text/plain": [
       "tokenizer_config.json:   0%|          | 0.00/394 [00:00<?, ?B/s]"
      ]
     },
     "metadata": {},
     "output_type": "display_data"
    },
    {
     "data": {
      "application/vnd.jupyter.widget-view+json": {
       "model_id": "44e778cbd77a40f69add582da202b0c2",
       "version_major": 2,
       "version_minor": 0
      },
      "text/plain": [
       "vocab.txt:   0%|          | 0.00/232k [00:00<?, ?B/s]"
      ]
     },
     "metadata": {},
     "output_type": "display_data"
    },
    {
     "data": {
      "application/vnd.jupyter.widget-view+json": {
       "model_id": "3a39179b977b4fb6adbeea67e1b9abed",
       "version_major": 2,
       "version_minor": 0
      },
      "text/plain": [
       "tokenizer.json:   0%|          | 0.00/712k [00:00<?, ?B/s]"
      ]
     },
     "metadata": {},
     "output_type": "display_data"
    },
    {
     "data": {
      "application/vnd.jupyter.widget-view+json": {
       "model_id": "a5ee24b968044f4587f0f2ede9dc5ca9",
       "version_major": 2,
       "version_minor": 0
      },
      "text/plain": [
       "special_tokens_map.json:   0%|          | 0.00/125 [00:00<?, ?B/s]"
      ]
     },
     "metadata": {},
     "output_type": "display_data"
    },
    {
     "data": {
      "application/vnd.jupyter.widget-view+json": {
       "model_id": "16cb36f3cce445de9f648e01b2abecd2",
       "version_major": 2,
       "version_minor": 0
      },
      "text/plain": [
       "config.json:   0%|          | 0.00/190 [00:00<?, ?B/s]"
      ]
     },
     "metadata": {},
     "output_type": "display_data"
    }
   ],
   "source": [
    "# instantiating the embedding model\n",
    "embedding_model = SentenceTransformer(\"thenlper/gte-small\")"
   ]
  },
  {
   "cell_type": "code",
   "execution_count": 58,
   "metadata": {},
   "outputs": [],
   "source": [
    "# Step 2 - Reduce dimensionality\n",
    "umap_model = UMAP(n_components= 5, min_dist= 0.1, metric='cosine', random_state= 42)"
   ]
  },
  {
   "cell_type": "code",
   "execution_count": 59,
   "metadata": {},
   "outputs": [],
   "source": [
    "# Step 3 - Cluster reduced embeddings\n",
    "hdbscan_model = HDBSCAN(min_cluster_size=15, metric='euclidean', cluster_selection_method='eom')"
   ]
  },
  {
   "cell_type": "code",
   "execution_count": 60,
   "metadata": {},
   "outputs": [],
   "source": [
    "# Step 4 - Tokenize topics\n",
    "vectorizer_model = CountVectorizer(\n",
    "    stop_words=\"english\", \n",
    "    ngram_range=(1, 2),\n",
    "    min_df= 5,\n",
    "    max_df= 0.9,\n",
    "    max_features= 3000)\n",
    "\n",
    "# Step 5 - Create topic representation\n",
    "ctfidf_model = ClassTfidfTransformer()"
   ]
  },
  {
   "cell_type": "code",
   "execution_count": 61,
   "metadata": {},
   "outputs": [],
   "source": [
    "# All steps together\n",
    "topic_model = BERTopic(\n",
    "  embedding_model=embedding_model,          # Step 1 - Extract embeddings\n",
    "  umap_model=umap_model,                    # Step 2 - Reduce dimensionality\n",
    "  hdbscan_model=hdbscan_model,              # Step 3 - Cluster reduced embeddings\n",
    "  vectorizer_model=vectorizer_model,        # Step 4 - Tokenize topics\n",
    "  ctfidf_model=ctfidf_model,                # Step 5 - Extract topic words\n",
    ")"
   ]
  },
  {
   "cell_type": "code",
   "execution_count": 62,
   "metadata": {},
   "outputs": [
    {
     "name": "stderr",
     "output_type": "stream",
     "text": [
      "OMP: Info #276: omp_set_nested routine deprecated, please use omp_set_max_active_levels instead.\n"
     ]
    }
   ],
   "source": [
    "topics, probs = topic_model.fit_transform(news_df[\"combined_text\"])"
   ]
  },
  {
   "cell_type": "code",
   "execution_count": 63,
   "metadata": {},
   "outputs": [
    {
     "data": {
      "text/html": [
       "<div>\n",
       "<style scoped>\n",
       "    .dataframe tbody tr th:only-of-type {\n",
       "        vertical-align: middle;\n",
       "    }\n",
       "\n",
       "    .dataframe tbody tr th {\n",
       "        vertical-align: top;\n",
       "    }\n",
       "\n",
       "    .dataframe thead th {\n",
       "        text-align: right;\n",
       "    }\n",
       "</style>\n",
       "<table border=\"1\" class=\"dataframe\">\n",
       "  <thead>\n",
       "    <tr style=\"text-align: right;\">\n",
       "      <th></th>\n",
       "      <th>Topic</th>\n",
       "      <th>Count</th>\n",
       "      <th>Name</th>\n",
       "      <th>Representation</th>\n",
       "      <th>Representative_Docs</th>\n",
       "    </tr>\n",
       "  </thead>\n",
       "  <tbody>\n",
       "    <tr>\n",
       "      <th>0</th>\n",
       "      <td>-1</td>\n",
       "      <td>1794</td>\n",
       "      <td>-1_ago_05_2022 05_https</td>\n",
       "      <td>[ago, 05, 2022 05, https, shares, jpg, cr, qua...</td>\n",
       "      <td>[Carbon emissions in China are lower than duri...</td>\n",
       "    </tr>\n",
       "    <tr>\n",
       "      <th>1</th>\n",
       "      <td>0</td>\n",
       "      <td>322</td>\n",
       "      <td>0_pm_games_game_xbox</td>\n",
       "      <td>[pm, games, game, xbox, pc, gaming, 2022 00, s...</td>\n",
       "      <td>[Stray launches on July 19, also available to ...</td>\n",
       "    </tr>\n",
       "    <tr>\n",
       "      <th>2</th>\n",
       "      <td>1</td>\n",
       "      <td>260</td>\n",
       "      <td>1_markets_td_inflation_stocks</td>\n",
       "      <td>[markets, td, inflation, stocks, fed, oil, rat...</td>\n",
       "      <td>[ECB Seen Sticking to Quarter-Point Rate Hikes...</td>\n",
       "    </tr>\n",
       "    <tr>\n",
       "      <th>3</th>\n",
       "      <td>2</td>\n",
       "      <td>186</td>\n",
       "      <td>2_equities_password_username_nasdaq</td>\n",
       "      <td>[equities, password, username, nasdaq, registe...</td>\n",
       "      <td>[Petros (PTPI) falls 9.29% in Light Trading on...</td>\n",
       "    </tr>\n",
       "    <tr>\n",
       "      <th>4</th>\n",
       "      <td>3</td>\n",
       "      <td>184</td>\n",
       "      <td>3_seattle_seattle times_streamingcomicsgames_j...</td>\n",
       "      <td>[seattle, seattle times, streamingcomicsgames,...</td>\n",
       "      <td>[Get ready for Seattle’s Opening Day boat para...</td>\n",
       "    </tr>\n",
       "    <tr>\n",
       "      <th>...</th>\n",
       "      <td>...</td>\n",
       "      <td>...</td>\n",
       "      <td>...</td>\n",
       "      <td>...</td>\n",
       "      <td>...</td>\n",
       "    </tr>\n",
       "    <tr>\n",
       "      <th>58</th>\n",
       "      <td>57</td>\n",
       "      <td>16</td>\n",
       "      <td>57_traded_btc_dollar_trades</td>\n",
       "      <td>[traded, btc, dollar, trades, volume, reaches,...</td>\n",
       "      <td>[Validity Market Capitalization Tops $18.49 Mi...</td>\n",
       "    </tr>\n",
       "    <tr>\n",
       "      <th>59</th>\n",
       "      <td>58</td>\n",
       "      <td>15</td>\n",
       "      <td>58_internet_browser_windows_leadership</td>\n",
       "      <td>[internet, browser, windows, leadership, edge,...</td>\n",
       "      <td>[So long, Internet Explorer. The browser retir...</td>\n",
       "    </tr>\n",
       "    <tr>\n",
       "      <th>60</th>\n",
       "      <td>59</td>\n",
       "      <td>15</td>\n",
       "      <td>59_self_son_industry_software</td>\n",
       "      <td>[self, son, industry, software, releases, dist...</td>\n",
       "      <td>[   With 22.1% CAGR, Global Digital Transforma...</td>\n",
       "    </tr>\n",
       "    <tr>\n",
       "      <th>61</th>\n",
       "      <td>60</td>\n",
       "      <td>15</td>\n",
       "      <td>60_google_calendar_word_tab</td>\n",
       "      <td>[google, calendar, word, tab, islands, new tab...</td>\n",
       "      <td>[Google Calendar will now always tell your tea...</td>\n",
       "    </tr>\n",
       "    <tr>\n",
       "      <th>62</th>\n",
       "      <td>61</td>\n",
       "      <td>15</td>\n",
       "      <td>61_solar_peace_climate_prnewswire</td>\n",
       "      <td>[solar, peace, climate, prnewswire, gray, tran...</td>\n",
       "      <td>[First repeat Peace REC (P-REC) transaction to...</td>\n",
       "    </tr>\n",
       "  </tbody>\n",
       "</table>\n",
       "<p>63 rows × 5 columns</p>\n",
       "</div>"
      ],
      "text/plain": [
       "    Topic  Count                                               Name  \\\n",
       "0      -1   1794                            -1_ago_05_2022 05_https   \n",
       "1       0    322                               0_pm_games_game_xbox   \n",
       "2       1    260                      1_markets_td_inflation_stocks   \n",
       "3       2    186                2_equities_password_username_nasdaq   \n",
       "4       3    184  3_seattle_seattle times_streamingcomicsgames_j...   \n",
       "..    ...    ...                                                ...   \n",
       "58     57     16                        57_traded_btc_dollar_trades   \n",
       "59     58     15             58_internet_browser_windows_leadership   \n",
       "60     59     15                      59_self_son_industry_software   \n",
       "61     60     15                        60_google_calendar_word_tab   \n",
       "62     61     15                  61_solar_peace_climate_prnewswire   \n",
       "\n",
       "                                       Representation  \\\n",
       "0   [ago, 05, 2022 05, https, shares, jpg, cr, qua...   \n",
       "1   [pm, games, game, xbox, pc, gaming, 2022 00, s...   \n",
       "2   [markets, td, inflation, stocks, fed, oil, rat...   \n",
       "3   [equities, password, username, nasdaq, registe...   \n",
       "4   [seattle, seattle times, streamingcomicsgames,...   \n",
       "..                                                ...   \n",
       "58  [traded, btc, dollar, trades, volume, reaches,...   \n",
       "59  [internet, browser, windows, leadership, edge,...   \n",
       "60  [self, son, industry, software, releases, dist...   \n",
       "61  [google, calendar, word, tab, islands, new tab...   \n",
       "62  [solar, peace, climate, prnewswire, gray, tran...   \n",
       "\n",
       "                                  Representative_Docs  \n",
       "0   [Carbon emissions in China are lower than duri...  \n",
       "1   [Stray launches on July 19, also available to ...  \n",
       "2   [ECB Seen Sticking to Quarter-Point Rate Hikes...  \n",
       "3   [Petros (PTPI) falls 9.29% in Light Trading on...  \n",
       "4   [Get ready for Seattle’s Opening Day boat para...  \n",
       "..                                                ...  \n",
       "58  [Validity Market Capitalization Tops $18.49 Mi...  \n",
       "59  [So long, Internet Explorer. The browser retir...  \n",
       "60  [   With 22.1% CAGR, Global Digital Transforma...  \n",
       "61  [Google Calendar will now always tell your tea...  \n",
       "62  [First repeat Peace REC (P-REC) transaction to...  \n",
       "\n",
       "[63 rows x 5 columns]"
      ]
     },
     "execution_count": 63,
     "metadata": {},
     "output_type": "execute_result"
    }
   ],
   "source": [
    "topic_model.get_topic_info()"
   ]
  },
  {
   "cell_type": "code",
   "execution_count": 64,
   "metadata": {},
   "outputs": [
    {
     "data": {
      "application/vnd.plotly.v1+json": {
       "config": {
        "plotlyServerURL": "https://plot.ly"
       },
       "data": [
        {
         "customdata": [
          [
           0,
           "pm | games | game | xbox | pc",
           322
          ],
          [
           1,
           "markets | td | inflation | stocks | fed",
           260
          ],
          [
           2,
           "equities | password | username | nasdaq | register",
           186
          ],
          [
           3,
           "seattle | seattle times | streamingcomicsgames | justicelocal | nw",
           184
          ],
          [
           4,
           "cloud | prnewswire | gaap | gray | customers",
           169
          ],
          [
           5,
           "india | delhi | rs | indian | express",
           151
          ],
          [
           6,
           "link | new tab | opens | tab | opens new",
           126
          ],
          [
           7,
           "shares | nyse | llc | quarter | rating",
           85
          ],
          [
           8,
           "seattle | seattle times | musictv streamingcomicsgames | justicelocal politicseducationeducation | radioentertainmentmoviesbooksmusictheaterclassical",
           79
          ],
          [
           9,
           "earnings | nasdaq | stocks | dividend | symbols",
           78
          ],
          [
           10,
           "finance | yahoo | screener | yahoo finance | stocks",
           73
          ],
          [
           11,
           "galaxy | samsung | pro | oneplus | s22",
           70
          ],
          [
           12,
           "chapter | startups | writing | java | list",
           62
          ],
          [
           13,
           "cyber | cybersecurity | attacks | malware | threat",
           60
          ],
          [
           14,
           "jpg | strip | https | 85 | quality",
           50
          ],
          [
           15,
           "forbes | richest | paid | insurance | cards",
           49
          ],
          [
           16,
           "philips | accessories | care | pdf file | pdf",
           48
          ],
          [
           17,
           "ago | tablet | bestreviews | hours ago | headset",
           41
          ],
          [
           18,
           "laptop | oled | core | intel | surface",
           40
          ],
          [
           19,
           "crypto | bitcoin | cryptocurrency | blockchain | ethereum",
           38
          ],
          [
           20,
           "cookie | cookie used | cookie set | user | ads",
           36
          ],
          [
           21,
           "windows | windows 11 | apps | click | update",
           36
          ],
          [
           22,
           "medicine | marketing | growth | industrial | segment",
           36
          ],
          [
           23,
           "official | music video | music | official music | song",
           36
          ],
          [
           24,
           "ukraine | russian | russia | ukrainian | war",
           36
          ],
          [
           25,
           "package | types | packages | azure | module",
           34
          ],
          [
           26,
           "whatsapp | messages | instagram | reviews | feature",
           33
          ],
          [
           27,
           "federal | european | area | omicron | economic",
           32
          ],
          [
           28,
           "music | bet | official | music video | official music",
           31
          ],
          [
           29,
           "forecast | 2028 | 2027 | industry | market research",
           31
          ],
          [
           30,
           "deals | prime | reviews | 4k | smart",
           30
          ],
          [
           31,
           "biden | trump | 28 2022 | president | joe biden",
           29
          ],
          [
           32,
           "cloudy | mph | partly | highs | lows",
           29
          ],
          [
           33,
           "wi | iphone | windows | fi | articles",
           29
          ],
          [
           34,
           "linux | 22 04 | open source | install | 04",
           27
          ],
          [
           35,
           "kardashian | husband | dress | reveals | deals",
           27
          ],
          [
           36,
           "netflix | streaming | series | season | movies",
           26
          ],
          [
           37,
           "russia | russian | ukraine | war | ukrainian",
           25
          ],
          [
           38,
           "project | course | management | programming | python",
           25
          ],
          [
           39,
           "amd | intel | core | performance | gaming",
           25
          ],
          [
           40,
           "abortion | travel | court | supreme | supreme court",
           24
          ],
          [
           41,
           "philips | healthcare | patient | care | mr",
           23
          ],
          [
           42,
           "opinion | percent | married | travel | party",
           22
          ],
          [
           43,
           "macbook | iphone | ipad | pro | display",
           22
          ],
          [
           44,
           "link | new tab | tab | opens new | opens",
           22
          ],
          [
           45,
           "reveals | kardashian | dress | harry | star",
           21
          ],
          [
           46,
           "musk | elon | elon musk | tesla | billionaire",
           21
          ],
          [
           47,
           "marketing | sales | job | manager | client",
           21
          ],
          [
           48,
           "africa | african | south | tax | cookies",
           21
          ],
          [
           49,
           "communications | blockchain | forecast | growth | language",
           21
          ],
          [
           50,
           "shares | msft | nasdaq msft | nasdaq | llc",
           20
          ],
          [
           51,
           "metaverse | virtual | reality | meta | vr",
           20
          ],
          [
           52,
           "taiwan | industry | memory | semiconductor | wireless",
           19
          ],
          [
           53,
           "automation | jones | dow | revenue | terms use",
           18
          ],
          [
           54,
           "lp | options | symbol | pr | https www",
           17
          ],
          [
           55,
           "cars | electric | tesla | vehicle | metaverse",
           17
          ],
          [
           56,
           "flight | files | copyright | info | forum",
           17
          ],
          [
           57,
           "traded | btc | dollar | trades | volume",
           16
          ],
          [
           58,
           "internet | browser | windows | leadership | edge",
           15
          ],
          [
           59,
           "self | son | industry | software | releases",
           15
          ],
          [
           60,
           "google | calendar | word | tab | islands",
           15
          ],
          [
           61,
           "solar | peace | climate | prnewswire | gray",
           15
          ]
         ],
         "hovertemplate": "<b>Topic %{customdata[0]}</b><br>%{customdata[1]}<br>Size: %{customdata[2]}",
         "legendgroup": "",
         "marker": {
          "color": "#B0BEC5",
          "line": {
           "color": "DarkSlateGrey",
           "width": 2
          },
          "size": {
           "bdata": "QgEEAboAuACpAJcAfgBVAE8ATgBJAEYAPgA8ADIAMQAwACkAKAAmACQAJAAkACQAJAAiACEAIAAfAB8AHgAdAB0AHQAbABsAGgAZABkAGQAYABcAFgAWABYAFQAVABUAFQAVABQAFAATABIAEQARABEAEAAPAA8ADwAPAA==",
           "dtype": "i2"
          },
          "sizemode": "area",
          "sizeref": 0.20125,
          "symbol": "circle"
         },
         "mode": "markers",
         "name": "",
         "orientation": "v",
         "showlegend": false,
         "type": "scatter",
         "x": {
          "bdata": "pVpPwTanKMEI9CDBhWJFQblyEcDd/SZBB5YKQSs2HMEiWEdBycEfwQ2XGsHmqT9AEGJHwHGWPMDTlje/1XwZwYATQcBtD/LAxPPzwDWEbUD0/qC/DSqWwA+4yUCzJ1m/Btk+QXhJBcBhP6RA15Wnv0HnU78oHtNAm5b9wBNJDcA+Kje/7fyjQNEWQcDCywjAsakAwS7KQEF0EQPANKHswG7qQ0GcsjnAPDgoQZ6qP0AalgpB4PwOwC5OKcGz5QrAKCIqQXeAzUBBxBvBz1pPwY+l/L8uyCLBW5ohwSrIEsD2Jum/9YJtQIM5k8CLatZAjgWZwFarI8A=",
          "dtype": "f4"
         },
         "xaxis": "x",
         "y": {
          "bdata": "2aFHQDomrr+mor2/vIkqwUfJFUF4an7A8BODP5Tz/r/ifSzB6RK4v8FFjb94zKlBt2IeQViOHEFYv/xAbdlgv9KDC0G0f61AnFyvQFV/hMHQLwdBYMKTQfocJ0GmigBBcAwkwd+6HUExcFFB3RYIQQ44AEFIyCJBAgG5QP1Jg0HnvvxAh5FRQVjIHEFe1oNBVr+8QKv7JcH7zx9BGRWoQJ4QKcF3dA1Bh6SBwIbMqUHrEoM/QBKDQUwhp79ObhNBNHaFwFZyJUFceAHAsqFHQFVKEUFUv9a/Jribv2d5DUEmrxNBc3+EwVUGk0EUCyFBh3mUQa/bEkE=",
          "dtype": "f4"
         },
         "yaxis": "y"
        }
       ],
       "layout": {
        "annotations": [
         {
          "showarrow": false,
          "text": "D1",
          "x": -14.90362057685852,
          "y": 2.6810144901275645,
          "yshift": 10
         },
         {
          "showarrow": false,
          "text": "D2",
          "x": -0.28787562847137416,
          "xshift": 10,
          "y": 24.408594703674318
         }
        ],
        "height": 650,
        "hoverlabel": {
         "bgcolor": "white",
         "font": {
          "family": "Rockwell",
          "size": 16
         }
        },
        "legend": {
         "itemsizing": "constant",
         "tracegroupgap": 0
        },
        "margin": {
         "t": 60
        },
        "shapes": [
         {
          "line": {
           "color": "#CFD8DC",
           "width": 2
          },
          "type": "line",
          "x0": -0.28787562847137416,
          "x1": -0.28787562847137416,
          "y0": -19.04656572341919,
          "y1": 24.408594703674318
         },
         {
          "line": {
           "color": "#9E9E9E",
           "width": 2
          },
          "type": "line",
          "x0": -14.90362057685852,
          "x1": 14.327869319915772,
          "y0": 2.6810144901275645,
          "y1": 2.6810144901275645
         }
        ],
        "sliders": [
         {
          "active": 0,
          "pad": {
           "t": 50
          },
          "steps": [
           {
            "args": [
             {
              "marker.color": [
               [
                "red",
                "#B0BEC5",
                "#B0BEC5",
                "#B0BEC5",
                "#B0BEC5",
                "#B0BEC5",
                "#B0BEC5",
                "#B0BEC5",
                "#B0BEC5",
                "#B0BEC5",
                "#B0BEC5",
                "#B0BEC5",
                "#B0BEC5",
                "#B0BEC5",
                "#B0BEC5",
                "#B0BEC5",
                "#B0BEC5",
                "#B0BEC5",
                "#B0BEC5",
                "#B0BEC5",
                "#B0BEC5",
                "#B0BEC5",
                "#B0BEC5",
                "#B0BEC5",
                "#B0BEC5",
                "#B0BEC5",
                "#B0BEC5",
                "#B0BEC5",
                "#B0BEC5",
                "#B0BEC5",
                "#B0BEC5",
                "#B0BEC5",
                "#B0BEC5",
                "#B0BEC5",
                "#B0BEC5",
                "#B0BEC5",
                "#B0BEC5",
                "#B0BEC5",
                "#B0BEC5",
                "#B0BEC5",
                "#B0BEC5",
                "#B0BEC5",
                "#B0BEC5",
                "#B0BEC5",
                "#B0BEC5",
                "#B0BEC5",
                "#B0BEC5",
                "#B0BEC5",
                "#B0BEC5",
                "#B0BEC5",
                "#B0BEC5",
                "#B0BEC5",
                "#B0BEC5",
                "#B0BEC5",
                "#B0BEC5",
                "#B0BEC5",
                "#B0BEC5",
                "#B0BEC5",
                "#B0BEC5",
                "#B0BEC5",
                "#B0BEC5",
                "#B0BEC5"
               ]
              ]
             }
            ],
            "label": "Topic 0",
            "method": "update"
           },
           {
            "args": [
             {
              "marker.color": [
               [
                "#B0BEC5",
                "red",
                "#B0BEC5",
                "#B0BEC5",
                "#B0BEC5",
                "#B0BEC5",
                "#B0BEC5",
                "#B0BEC5",
                "#B0BEC5",
                "#B0BEC5",
                "#B0BEC5",
                "#B0BEC5",
                "#B0BEC5",
                "#B0BEC5",
                "#B0BEC5",
                "#B0BEC5",
                "#B0BEC5",
                "#B0BEC5",
                "#B0BEC5",
                "#B0BEC5",
                "#B0BEC5",
                "#B0BEC5",
                "#B0BEC5",
                "#B0BEC5",
                "#B0BEC5",
                "#B0BEC5",
                "#B0BEC5",
                "#B0BEC5",
                "#B0BEC5",
                "#B0BEC5",
                "#B0BEC5",
                "#B0BEC5",
                "#B0BEC5",
                "#B0BEC5",
                "#B0BEC5",
                "#B0BEC5",
                "#B0BEC5",
                "#B0BEC5",
                "#B0BEC5",
                "#B0BEC5",
                "#B0BEC5",
                "#B0BEC5",
                "#B0BEC5",
                "#B0BEC5",
                "#B0BEC5",
                "#B0BEC5",
                "#B0BEC5",
                "#B0BEC5",
                "#B0BEC5",
                "#B0BEC5",
                "#B0BEC5",
                "#B0BEC5",
                "#B0BEC5",
                "#B0BEC5",
                "#B0BEC5",
                "#B0BEC5",
                "#B0BEC5",
                "#B0BEC5",
                "#B0BEC5",
                "#B0BEC5",
                "#B0BEC5",
                "#B0BEC5"
               ]
              ]
             }
            ],
            "label": "Topic 1",
            "method": "update"
           },
           {
            "args": [
             {
              "marker.color": [
               [
                "#B0BEC5",
                "#B0BEC5",
                "red",
                "#B0BEC5",
                "#B0BEC5",
                "#B0BEC5",
                "#B0BEC5",
                "#B0BEC5",
                "#B0BEC5",
                "#B0BEC5",
                "#B0BEC5",
                "#B0BEC5",
                "#B0BEC5",
                "#B0BEC5",
                "#B0BEC5",
                "#B0BEC5",
                "#B0BEC5",
                "#B0BEC5",
                "#B0BEC5",
                "#B0BEC5",
                "#B0BEC5",
                "#B0BEC5",
                "#B0BEC5",
                "#B0BEC5",
                "#B0BEC5",
                "#B0BEC5",
                "#B0BEC5",
                "#B0BEC5",
                "#B0BEC5",
                "#B0BEC5",
                "#B0BEC5",
                "#B0BEC5",
                "#B0BEC5",
                "#B0BEC5",
                "#B0BEC5",
                "#B0BEC5",
                "#B0BEC5",
                "#B0BEC5",
                "#B0BEC5",
                "#B0BEC5",
                "#B0BEC5",
                "#B0BEC5",
                "#B0BEC5",
                "#B0BEC5",
                "#B0BEC5",
                "#B0BEC5",
                "#B0BEC5",
                "#B0BEC5",
                "#B0BEC5",
                "#B0BEC5",
                "#B0BEC5",
                "#B0BEC5",
                "#B0BEC5",
                "#B0BEC5",
                "#B0BEC5",
                "#B0BEC5",
                "#B0BEC5",
                "#B0BEC5",
                "#B0BEC5",
                "#B0BEC5",
                "#B0BEC5",
                "#B0BEC5"
               ]
              ]
             }
            ],
            "label": "Topic 2",
            "method": "update"
           },
           {
            "args": [
             {
              "marker.color": [
               [
                "#B0BEC5",
                "#B0BEC5",
                "#B0BEC5",
                "red",
                "#B0BEC5",
                "#B0BEC5",
                "#B0BEC5",
                "#B0BEC5",
                "#B0BEC5",
                "#B0BEC5",
                "#B0BEC5",
                "#B0BEC5",
                "#B0BEC5",
                "#B0BEC5",
                "#B0BEC5",
                "#B0BEC5",
                "#B0BEC5",
                "#B0BEC5",
                "#B0BEC5",
                "#B0BEC5",
                "#B0BEC5",
                "#B0BEC5",
                "#B0BEC5",
                "#B0BEC5",
                "#B0BEC5",
                "#B0BEC5",
                "#B0BEC5",
                "#B0BEC5",
                "#B0BEC5",
                "#B0BEC5",
                "#B0BEC5",
                "#B0BEC5",
                "#B0BEC5",
                "#B0BEC5",
                "#B0BEC5",
                "#B0BEC5",
                "#B0BEC5",
                "#B0BEC5",
                "#B0BEC5",
                "#B0BEC5",
                "#B0BEC5",
                "#B0BEC5",
                "#B0BEC5",
                "#B0BEC5",
                "#B0BEC5",
                "#B0BEC5",
                "#B0BEC5",
                "#B0BEC5",
                "#B0BEC5",
                "#B0BEC5",
                "#B0BEC5",
                "#B0BEC5",
                "#B0BEC5",
                "#B0BEC5",
                "#B0BEC5",
                "#B0BEC5",
                "#B0BEC5",
                "#B0BEC5",
                "#B0BEC5",
                "#B0BEC5",
                "#B0BEC5",
                "#B0BEC5"
               ]
              ]
             }
            ],
            "label": "Topic 3",
            "method": "update"
           },
           {
            "args": [
             {
              "marker.color": [
               [
                "#B0BEC5",
                "#B0BEC5",
                "#B0BEC5",
                "#B0BEC5",
                "red",
                "#B0BEC5",
                "#B0BEC5",
                "#B0BEC5",
                "#B0BEC5",
                "#B0BEC5",
                "#B0BEC5",
                "#B0BEC5",
                "#B0BEC5",
                "#B0BEC5",
                "#B0BEC5",
                "#B0BEC5",
                "#B0BEC5",
                "#B0BEC5",
                "#B0BEC5",
                "#B0BEC5",
                "#B0BEC5",
                "#B0BEC5",
                "#B0BEC5",
                "#B0BEC5",
                "#B0BEC5",
                "#B0BEC5",
                "#B0BEC5",
                "#B0BEC5",
                "#B0BEC5",
                "#B0BEC5",
                "#B0BEC5",
                "#B0BEC5",
                "#B0BEC5",
                "#B0BEC5",
                "#B0BEC5",
                "#B0BEC5",
                "#B0BEC5",
                "#B0BEC5",
                "#B0BEC5",
                "#B0BEC5",
                "#B0BEC5",
                "#B0BEC5",
                "#B0BEC5",
                "#B0BEC5",
                "#B0BEC5",
                "#B0BEC5",
                "#B0BEC5",
                "#B0BEC5",
                "#B0BEC5",
                "#B0BEC5",
                "#B0BEC5",
                "#B0BEC5",
                "#B0BEC5",
                "#B0BEC5",
                "#B0BEC5",
                "#B0BEC5",
                "#B0BEC5",
                "#B0BEC5",
                "#B0BEC5",
                "#B0BEC5",
                "#B0BEC5",
                "#B0BEC5"
               ]
              ]
             }
            ],
            "label": "Topic 4",
            "method": "update"
           },
           {
            "args": [
             {
              "marker.color": [
               [
                "#B0BEC5",
                "#B0BEC5",
                "#B0BEC5",
                "#B0BEC5",
                "#B0BEC5",
                "red",
                "#B0BEC5",
                "#B0BEC5",
                "#B0BEC5",
                "#B0BEC5",
                "#B0BEC5",
                "#B0BEC5",
                "#B0BEC5",
                "#B0BEC5",
                "#B0BEC5",
                "#B0BEC5",
                "#B0BEC5",
                "#B0BEC5",
                "#B0BEC5",
                "#B0BEC5",
                "#B0BEC5",
                "#B0BEC5",
                "#B0BEC5",
                "#B0BEC5",
                "#B0BEC5",
                "#B0BEC5",
                "#B0BEC5",
                "#B0BEC5",
                "#B0BEC5",
                "#B0BEC5",
                "#B0BEC5",
                "#B0BEC5",
                "#B0BEC5",
                "#B0BEC5",
                "#B0BEC5",
                "#B0BEC5",
                "#B0BEC5",
                "#B0BEC5",
                "#B0BEC5",
                "#B0BEC5",
                "#B0BEC5",
                "#B0BEC5",
                "#B0BEC5",
                "#B0BEC5",
                "#B0BEC5",
                "#B0BEC5",
                "#B0BEC5",
                "#B0BEC5",
                "#B0BEC5",
                "#B0BEC5",
                "#B0BEC5",
                "#B0BEC5",
                "#B0BEC5",
                "#B0BEC5",
                "#B0BEC5",
                "#B0BEC5",
                "#B0BEC5",
                "#B0BEC5",
                "#B0BEC5",
                "#B0BEC5",
                "#B0BEC5",
                "#B0BEC5"
               ]
              ]
             }
            ],
            "label": "Topic 5",
            "method": "update"
           },
           {
            "args": [
             {
              "marker.color": [
               [
                "#B0BEC5",
                "#B0BEC5",
                "#B0BEC5",
                "#B0BEC5",
                "#B0BEC5",
                "#B0BEC5",
                "red",
                "#B0BEC5",
                "#B0BEC5",
                "#B0BEC5",
                "#B0BEC5",
                "#B0BEC5",
                "#B0BEC5",
                "#B0BEC5",
                "#B0BEC5",
                "#B0BEC5",
                "#B0BEC5",
                "#B0BEC5",
                "#B0BEC5",
                "#B0BEC5",
                "#B0BEC5",
                "#B0BEC5",
                "#B0BEC5",
                "#B0BEC5",
                "#B0BEC5",
                "#B0BEC5",
                "#B0BEC5",
                "#B0BEC5",
                "#B0BEC5",
                "#B0BEC5",
                "#B0BEC5",
                "#B0BEC5",
                "#B0BEC5",
                "#B0BEC5",
                "#B0BEC5",
                "#B0BEC5",
                "#B0BEC5",
                "#B0BEC5",
                "#B0BEC5",
                "#B0BEC5",
                "#B0BEC5",
                "#B0BEC5",
                "#B0BEC5",
                "#B0BEC5",
                "#B0BEC5",
                "#B0BEC5",
                "#B0BEC5",
                "#B0BEC5",
                "#B0BEC5",
                "#B0BEC5",
                "#B0BEC5",
                "#B0BEC5",
                "#B0BEC5",
                "#B0BEC5",
                "#B0BEC5",
                "#B0BEC5",
                "#B0BEC5",
                "#B0BEC5",
                "#B0BEC5",
                "#B0BEC5",
                "#B0BEC5",
                "#B0BEC5"
               ]
              ]
             }
            ],
            "label": "Topic 6",
            "method": "update"
           },
           {
            "args": [
             {
              "marker.color": [
               [
                "#B0BEC5",
                "#B0BEC5",
                "#B0BEC5",
                "#B0BEC5",
                "#B0BEC5",
                "#B0BEC5",
                "#B0BEC5",
                "red",
                "#B0BEC5",
                "#B0BEC5",
                "#B0BEC5",
                "#B0BEC5",
                "#B0BEC5",
                "#B0BEC5",
                "#B0BEC5",
                "#B0BEC5",
                "#B0BEC5",
                "#B0BEC5",
                "#B0BEC5",
                "#B0BEC5",
                "#B0BEC5",
                "#B0BEC5",
                "#B0BEC5",
                "#B0BEC5",
                "#B0BEC5",
                "#B0BEC5",
                "#B0BEC5",
                "#B0BEC5",
                "#B0BEC5",
                "#B0BEC5",
                "#B0BEC5",
                "#B0BEC5",
                "#B0BEC5",
                "#B0BEC5",
                "#B0BEC5",
                "#B0BEC5",
                "#B0BEC5",
                "#B0BEC5",
                "#B0BEC5",
                "#B0BEC5",
                "#B0BEC5",
                "#B0BEC5",
                "#B0BEC5",
                "#B0BEC5",
                "#B0BEC5",
                "#B0BEC5",
                "#B0BEC5",
                "#B0BEC5",
                "#B0BEC5",
                "#B0BEC5",
                "#B0BEC5",
                "#B0BEC5",
                "#B0BEC5",
                "#B0BEC5",
                "#B0BEC5",
                "#B0BEC5",
                "#B0BEC5",
                "#B0BEC5",
                "#B0BEC5",
                "#B0BEC5",
                "#B0BEC5",
                "#B0BEC5"
               ]
              ]
             }
            ],
            "label": "Topic 7",
            "method": "update"
           },
           {
            "args": [
             {
              "marker.color": [
               [
                "#B0BEC5",
                "#B0BEC5",
                "#B0BEC5",
                "#B0BEC5",
                "#B0BEC5",
                "#B0BEC5",
                "#B0BEC5",
                "#B0BEC5",
                "red",
                "#B0BEC5",
                "#B0BEC5",
                "#B0BEC5",
                "#B0BEC5",
                "#B0BEC5",
                "#B0BEC5",
                "#B0BEC5",
                "#B0BEC5",
                "#B0BEC5",
                "#B0BEC5",
                "#B0BEC5",
                "#B0BEC5",
                "#B0BEC5",
                "#B0BEC5",
                "#B0BEC5",
                "#B0BEC5",
                "#B0BEC5",
                "#B0BEC5",
                "#B0BEC5",
                "#B0BEC5",
                "#B0BEC5",
                "#B0BEC5",
                "#B0BEC5",
                "#B0BEC5",
                "#B0BEC5",
                "#B0BEC5",
                "#B0BEC5",
                "#B0BEC5",
                "#B0BEC5",
                "#B0BEC5",
                "#B0BEC5",
                "#B0BEC5",
                "#B0BEC5",
                "#B0BEC5",
                "#B0BEC5",
                "#B0BEC5",
                "#B0BEC5",
                "#B0BEC5",
                "#B0BEC5",
                "#B0BEC5",
                "#B0BEC5",
                "#B0BEC5",
                "#B0BEC5",
                "#B0BEC5",
                "#B0BEC5",
                "#B0BEC5",
                "#B0BEC5",
                "#B0BEC5",
                "#B0BEC5",
                "#B0BEC5",
                "#B0BEC5",
                "#B0BEC5",
                "#B0BEC5"
               ]
              ]
             }
            ],
            "label": "Topic 8",
            "method": "update"
           },
           {
            "args": [
             {
              "marker.color": [
               [
                "#B0BEC5",
                "#B0BEC5",
                "#B0BEC5",
                "#B0BEC5",
                "#B0BEC5",
                "#B0BEC5",
                "#B0BEC5",
                "#B0BEC5",
                "#B0BEC5",
                "red",
                "#B0BEC5",
                "#B0BEC5",
                "#B0BEC5",
                "#B0BEC5",
                "#B0BEC5",
                "#B0BEC5",
                "#B0BEC5",
                "#B0BEC5",
                "#B0BEC5",
                "#B0BEC5",
                "#B0BEC5",
                "#B0BEC5",
                "#B0BEC5",
                "#B0BEC5",
                "#B0BEC5",
                "#B0BEC5",
                "#B0BEC5",
                "#B0BEC5",
                "#B0BEC5",
                "#B0BEC5",
                "#B0BEC5",
                "#B0BEC5",
                "#B0BEC5",
                "#B0BEC5",
                "#B0BEC5",
                "#B0BEC5",
                "#B0BEC5",
                "#B0BEC5",
                "#B0BEC5",
                "#B0BEC5",
                "#B0BEC5",
                "#B0BEC5",
                "#B0BEC5",
                "#B0BEC5",
                "#B0BEC5",
                "#B0BEC5",
                "#B0BEC5",
                "#B0BEC5",
                "#B0BEC5",
                "#B0BEC5",
                "#B0BEC5",
                "#B0BEC5",
                "#B0BEC5",
                "#B0BEC5",
                "#B0BEC5",
                "#B0BEC5",
                "#B0BEC5",
                "#B0BEC5",
                "#B0BEC5",
                "#B0BEC5",
                "#B0BEC5",
                "#B0BEC5"
               ]
              ]
             }
            ],
            "label": "Topic 9",
            "method": "update"
           },
           {
            "args": [
             {
              "marker.color": [
               [
                "#B0BEC5",
                "#B0BEC5",
                "#B0BEC5",
                "#B0BEC5",
                "#B0BEC5",
                "#B0BEC5",
                "#B0BEC5",
                "#B0BEC5",
                "#B0BEC5",
                "#B0BEC5",
                "red",
                "#B0BEC5",
                "#B0BEC5",
                "#B0BEC5",
                "#B0BEC5",
                "#B0BEC5",
                "#B0BEC5",
                "#B0BEC5",
                "#B0BEC5",
                "#B0BEC5",
                "#B0BEC5",
                "#B0BEC5",
                "#B0BEC5",
                "#B0BEC5",
                "#B0BEC5",
                "#B0BEC5",
                "#B0BEC5",
                "#B0BEC5",
                "#B0BEC5",
                "#B0BEC5",
                "#B0BEC5",
                "#B0BEC5",
                "#B0BEC5",
                "#B0BEC5",
                "#B0BEC5",
                "#B0BEC5",
                "#B0BEC5",
                "#B0BEC5",
                "#B0BEC5",
                "#B0BEC5",
                "#B0BEC5",
                "#B0BEC5",
                "#B0BEC5",
                "#B0BEC5",
                "#B0BEC5",
                "#B0BEC5",
                "#B0BEC5",
                "#B0BEC5",
                "#B0BEC5",
                "#B0BEC5",
                "#B0BEC5",
                "#B0BEC5",
                "#B0BEC5",
                "#B0BEC5",
                "#B0BEC5",
                "#B0BEC5",
                "#B0BEC5",
                "#B0BEC5",
                "#B0BEC5",
                "#B0BEC5",
                "#B0BEC5",
                "#B0BEC5"
               ]
              ]
             }
            ],
            "label": "Topic 10",
            "method": "update"
           },
           {
            "args": [
             {
              "marker.color": [
               [
                "#B0BEC5",
                "#B0BEC5",
                "#B0BEC5",
                "#B0BEC5",
                "#B0BEC5",
                "#B0BEC5",
                "#B0BEC5",
                "#B0BEC5",
                "#B0BEC5",
                "#B0BEC5",
                "#B0BEC5",
                "red",
                "#B0BEC5",
                "#B0BEC5",
                "#B0BEC5",
                "#B0BEC5",
                "#B0BEC5",
                "#B0BEC5",
                "#B0BEC5",
                "#B0BEC5",
                "#B0BEC5",
                "#B0BEC5",
                "#B0BEC5",
                "#B0BEC5",
                "#B0BEC5",
                "#B0BEC5",
                "#B0BEC5",
                "#B0BEC5",
                "#B0BEC5",
                "#B0BEC5",
                "#B0BEC5",
                "#B0BEC5",
                "#B0BEC5",
                "#B0BEC5",
                "#B0BEC5",
                "#B0BEC5",
                "#B0BEC5",
                "#B0BEC5",
                "#B0BEC5",
                "#B0BEC5",
                "#B0BEC5",
                "#B0BEC5",
                "#B0BEC5",
                "#B0BEC5",
                "#B0BEC5",
                "#B0BEC5",
                "#B0BEC5",
                "#B0BEC5",
                "#B0BEC5",
                "#B0BEC5",
                "#B0BEC5",
                "#B0BEC5",
                "#B0BEC5",
                "#B0BEC5",
                "#B0BEC5",
                "#B0BEC5",
                "#B0BEC5",
                "#B0BEC5",
                "#B0BEC5",
                "#B0BEC5",
                "#B0BEC5",
                "#B0BEC5"
               ]
              ]
             }
            ],
            "label": "Topic 11",
            "method": "update"
           },
           {
            "args": [
             {
              "marker.color": [
               [
                "#B0BEC5",
                "#B0BEC5",
                "#B0BEC5",
                "#B0BEC5",
                "#B0BEC5",
                "#B0BEC5",
                "#B0BEC5",
                "#B0BEC5",
                "#B0BEC5",
                "#B0BEC5",
                "#B0BEC5",
                "#B0BEC5",
                "red",
                "#B0BEC5",
                "#B0BEC5",
                "#B0BEC5",
                "#B0BEC5",
                "#B0BEC5",
                "#B0BEC5",
                "#B0BEC5",
                "#B0BEC5",
                "#B0BEC5",
                "#B0BEC5",
                "#B0BEC5",
                "#B0BEC5",
                "#B0BEC5",
                "#B0BEC5",
                "#B0BEC5",
                "#B0BEC5",
                "#B0BEC5",
                "#B0BEC5",
                "#B0BEC5",
                "#B0BEC5",
                "#B0BEC5",
                "#B0BEC5",
                "#B0BEC5",
                "#B0BEC5",
                "#B0BEC5",
                "#B0BEC5",
                "#B0BEC5",
                "#B0BEC5",
                "#B0BEC5",
                "#B0BEC5",
                "#B0BEC5",
                "#B0BEC5",
                "#B0BEC5",
                "#B0BEC5",
                "#B0BEC5",
                "#B0BEC5",
                "#B0BEC5",
                "#B0BEC5",
                "#B0BEC5",
                "#B0BEC5",
                "#B0BEC5",
                "#B0BEC5",
                "#B0BEC5",
                "#B0BEC5",
                "#B0BEC5",
                "#B0BEC5",
                "#B0BEC5",
                "#B0BEC5",
                "#B0BEC5"
               ]
              ]
             }
            ],
            "label": "Topic 12",
            "method": "update"
           },
           {
            "args": [
             {
              "marker.color": [
               [
                "#B0BEC5",
                "#B0BEC5",
                "#B0BEC5",
                "#B0BEC5",
                "#B0BEC5",
                "#B0BEC5",
                "#B0BEC5",
                "#B0BEC5",
                "#B0BEC5",
                "#B0BEC5",
                "#B0BEC5",
                "#B0BEC5",
                "#B0BEC5",
                "red",
                "#B0BEC5",
                "#B0BEC5",
                "#B0BEC5",
                "#B0BEC5",
                "#B0BEC5",
                "#B0BEC5",
                "#B0BEC5",
                "#B0BEC5",
                "#B0BEC5",
                "#B0BEC5",
                "#B0BEC5",
                "#B0BEC5",
                "#B0BEC5",
                "#B0BEC5",
                "#B0BEC5",
                "#B0BEC5",
                "#B0BEC5",
                "#B0BEC5",
                "#B0BEC5",
                "#B0BEC5",
                "#B0BEC5",
                "#B0BEC5",
                "#B0BEC5",
                "#B0BEC5",
                "#B0BEC5",
                "#B0BEC5",
                "#B0BEC5",
                "#B0BEC5",
                "#B0BEC5",
                "#B0BEC5",
                "#B0BEC5",
                "#B0BEC5",
                "#B0BEC5",
                "#B0BEC5",
                "#B0BEC5",
                "#B0BEC5",
                "#B0BEC5",
                "#B0BEC5",
                "#B0BEC5",
                "#B0BEC5",
                "#B0BEC5",
                "#B0BEC5",
                "#B0BEC5",
                "#B0BEC5",
                "#B0BEC5",
                "#B0BEC5",
                "#B0BEC5",
                "#B0BEC5"
               ]
              ]
             }
            ],
            "label": "Topic 13",
            "method": "update"
           },
           {
            "args": [
             {
              "marker.color": [
               [
                "#B0BEC5",
                "#B0BEC5",
                "#B0BEC5",
                "#B0BEC5",
                "#B0BEC5",
                "#B0BEC5",
                "#B0BEC5",
                "#B0BEC5",
                "#B0BEC5",
                "#B0BEC5",
                "#B0BEC5",
                "#B0BEC5",
                "#B0BEC5",
                "#B0BEC5",
                "red",
                "#B0BEC5",
                "#B0BEC5",
                "#B0BEC5",
                "#B0BEC5",
                "#B0BEC5",
                "#B0BEC5",
                "#B0BEC5",
                "#B0BEC5",
                "#B0BEC5",
                "#B0BEC5",
                "#B0BEC5",
                "#B0BEC5",
                "#B0BEC5",
                "#B0BEC5",
                "#B0BEC5",
                "#B0BEC5",
                "#B0BEC5",
                "#B0BEC5",
                "#B0BEC5",
                "#B0BEC5",
                "#B0BEC5",
                "#B0BEC5",
                "#B0BEC5",
                "#B0BEC5",
                "#B0BEC5",
                "#B0BEC5",
                "#B0BEC5",
                "#B0BEC5",
                "#B0BEC5",
                "#B0BEC5",
                "#B0BEC5",
                "#B0BEC5",
                "#B0BEC5",
                "#B0BEC5",
                "#B0BEC5",
                "#B0BEC5",
                "#B0BEC5",
                "#B0BEC5",
                "#B0BEC5",
                "#B0BEC5",
                "#B0BEC5",
                "#B0BEC5",
                "#B0BEC5",
                "#B0BEC5",
                "#B0BEC5",
                "#B0BEC5",
                "#B0BEC5"
               ]
              ]
             }
            ],
            "label": "Topic 14",
            "method": "update"
           },
           {
            "args": [
             {
              "marker.color": [
               [
                "#B0BEC5",
                "#B0BEC5",
                "#B0BEC5",
                "#B0BEC5",
                "#B0BEC5",
                "#B0BEC5",
                "#B0BEC5",
                "#B0BEC5",
                "#B0BEC5",
                "#B0BEC5",
                "#B0BEC5",
                "#B0BEC5",
                "#B0BEC5",
                "#B0BEC5",
                "#B0BEC5",
                "red",
                "#B0BEC5",
                "#B0BEC5",
                "#B0BEC5",
                "#B0BEC5",
                "#B0BEC5",
                "#B0BEC5",
                "#B0BEC5",
                "#B0BEC5",
                "#B0BEC5",
                "#B0BEC5",
                "#B0BEC5",
                "#B0BEC5",
                "#B0BEC5",
                "#B0BEC5",
                "#B0BEC5",
                "#B0BEC5",
                "#B0BEC5",
                "#B0BEC5",
                "#B0BEC5",
                "#B0BEC5",
                "#B0BEC5",
                "#B0BEC5",
                "#B0BEC5",
                "#B0BEC5",
                "#B0BEC5",
                "#B0BEC5",
                "#B0BEC5",
                "#B0BEC5",
                "#B0BEC5",
                "#B0BEC5",
                "#B0BEC5",
                "#B0BEC5",
                "#B0BEC5",
                "#B0BEC5",
                "#B0BEC5",
                "#B0BEC5",
                "#B0BEC5",
                "#B0BEC5",
                "#B0BEC5",
                "#B0BEC5",
                "#B0BEC5",
                "#B0BEC5",
                "#B0BEC5",
                "#B0BEC5",
                "#B0BEC5",
                "#B0BEC5"
               ]
              ]
             }
            ],
            "label": "Topic 15",
            "method": "update"
           },
           {
            "args": [
             {
              "marker.color": [
               [
                "#B0BEC5",
                "#B0BEC5",
                "#B0BEC5",
                "#B0BEC5",
                "#B0BEC5",
                "#B0BEC5",
                "#B0BEC5",
                "#B0BEC5",
                "#B0BEC5",
                "#B0BEC5",
                "#B0BEC5",
                "#B0BEC5",
                "#B0BEC5",
                "#B0BEC5",
                "#B0BEC5",
                "#B0BEC5",
                "red",
                "#B0BEC5",
                "#B0BEC5",
                "#B0BEC5",
                "#B0BEC5",
                "#B0BEC5",
                "#B0BEC5",
                "#B0BEC5",
                "#B0BEC5",
                "#B0BEC5",
                "#B0BEC5",
                "#B0BEC5",
                "#B0BEC5",
                "#B0BEC5",
                "#B0BEC5",
                "#B0BEC5",
                "#B0BEC5",
                "#B0BEC5",
                "#B0BEC5",
                "#B0BEC5",
                "#B0BEC5",
                "#B0BEC5",
                "#B0BEC5",
                "#B0BEC5",
                "#B0BEC5",
                "#B0BEC5",
                "#B0BEC5",
                "#B0BEC5",
                "#B0BEC5",
                "#B0BEC5",
                "#B0BEC5",
                "#B0BEC5",
                "#B0BEC5",
                "#B0BEC5",
                "#B0BEC5",
                "#B0BEC5",
                "#B0BEC5",
                "#B0BEC5",
                "#B0BEC5",
                "#B0BEC5",
                "#B0BEC5",
                "#B0BEC5",
                "#B0BEC5",
                "#B0BEC5",
                "#B0BEC5",
                "#B0BEC5"
               ]
              ]
             }
            ],
            "label": "Topic 16",
            "method": "update"
           },
           {
            "args": [
             {
              "marker.color": [
               [
                "#B0BEC5",
                "#B0BEC5",
                "#B0BEC5",
                "#B0BEC5",
                "#B0BEC5",
                "#B0BEC5",
                "#B0BEC5",
                "#B0BEC5",
                "#B0BEC5",
                "#B0BEC5",
                "#B0BEC5",
                "#B0BEC5",
                "#B0BEC5",
                "#B0BEC5",
                "#B0BEC5",
                "#B0BEC5",
                "#B0BEC5",
                "red",
                "#B0BEC5",
                "#B0BEC5",
                "#B0BEC5",
                "#B0BEC5",
                "#B0BEC5",
                "#B0BEC5",
                "#B0BEC5",
                "#B0BEC5",
                "#B0BEC5",
                "#B0BEC5",
                "#B0BEC5",
                "#B0BEC5",
                "#B0BEC5",
                "#B0BEC5",
                "#B0BEC5",
                "#B0BEC5",
                "#B0BEC5",
                "#B0BEC5",
                "#B0BEC5",
                "#B0BEC5",
                "#B0BEC5",
                "#B0BEC5",
                "#B0BEC5",
                "#B0BEC5",
                "#B0BEC5",
                "#B0BEC5",
                "#B0BEC5",
                "#B0BEC5",
                "#B0BEC5",
                "#B0BEC5",
                "#B0BEC5",
                "#B0BEC5",
                "#B0BEC5",
                "#B0BEC5",
                "#B0BEC5",
                "#B0BEC5",
                "#B0BEC5",
                "#B0BEC5",
                "#B0BEC5",
                "#B0BEC5",
                "#B0BEC5",
                "#B0BEC5",
                "#B0BEC5",
                "#B0BEC5"
               ]
              ]
             }
            ],
            "label": "Topic 17",
            "method": "update"
           },
           {
            "args": [
             {
              "marker.color": [
               [
                "#B0BEC5",
                "#B0BEC5",
                "#B0BEC5",
                "#B0BEC5",
                "#B0BEC5",
                "#B0BEC5",
                "#B0BEC5",
                "#B0BEC5",
                "#B0BEC5",
                "#B0BEC5",
                "#B0BEC5",
                "#B0BEC5",
                "#B0BEC5",
                "#B0BEC5",
                "#B0BEC5",
                "#B0BEC5",
                "#B0BEC5",
                "#B0BEC5",
                "red",
                "#B0BEC5",
                "#B0BEC5",
                "#B0BEC5",
                "#B0BEC5",
                "#B0BEC5",
                "#B0BEC5",
                "#B0BEC5",
                "#B0BEC5",
                "#B0BEC5",
                "#B0BEC5",
                "#B0BEC5",
                "#B0BEC5",
                "#B0BEC5",
                "#B0BEC5",
                "#B0BEC5",
                "#B0BEC5",
                "#B0BEC5",
                "#B0BEC5",
                "#B0BEC5",
                "#B0BEC5",
                "#B0BEC5",
                "#B0BEC5",
                "#B0BEC5",
                "#B0BEC5",
                "#B0BEC5",
                "#B0BEC5",
                "#B0BEC5",
                "#B0BEC5",
                "#B0BEC5",
                "#B0BEC5",
                "#B0BEC5",
                "#B0BEC5",
                "#B0BEC5",
                "#B0BEC5",
                "#B0BEC5",
                "#B0BEC5",
                "#B0BEC5",
                "#B0BEC5",
                "#B0BEC5",
                "#B0BEC5",
                "#B0BEC5",
                "#B0BEC5",
                "#B0BEC5"
               ]
              ]
             }
            ],
            "label": "Topic 18",
            "method": "update"
           },
           {
            "args": [
             {
              "marker.color": [
               [
                "#B0BEC5",
                "#B0BEC5",
                "#B0BEC5",
                "#B0BEC5",
                "#B0BEC5",
                "#B0BEC5",
                "#B0BEC5",
                "#B0BEC5",
                "#B0BEC5",
                "#B0BEC5",
                "#B0BEC5",
                "#B0BEC5",
                "#B0BEC5",
                "#B0BEC5",
                "#B0BEC5",
                "#B0BEC5",
                "#B0BEC5",
                "#B0BEC5",
                "#B0BEC5",
                "red",
                "#B0BEC5",
                "#B0BEC5",
                "#B0BEC5",
                "#B0BEC5",
                "#B0BEC5",
                "#B0BEC5",
                "#B0BEC5",
                "#B0BEC5",
                "#B0BEC5",
                "#B0BEC5",
                "#B0BEC5",
                "#B0BEC5",
                "#B0BEC5",
                "#B0BEC5",
                "#B0BEC5",
                "#B0BEC5",
                "#B0BEC5",
                "#B0BEC5",
                "#B0BEC5",
                "#B0BEC5",
                "#B0BEC5",
                "#B0BEC5",
                "#B0BEC5",
                "#B0BEC5",
                "#B0BEC5",
                "#B0BEC5",
                "#B0BEC5",
                "#B0BEC5",
                "#B0BEC5",
                "#B0BEC5",
                "#B0BEC5",
                "#B0BEC5",
                "#B0BEC5",
                "#B0BEC5",
                "#B0BEC5",
                "#B0BEC5",
                "#B0BEC5",
                "#B0BEC5",
                "#B0BEC5",
                "#B0BEC5",
                "#B0BEC5",
                "#B0BEC5"
               ]
              ]
             }
            ],
            "label": "Topic 19",
            "method": "update"
           },
           {
            "args": [
             {
              "marker.color": [
               [
                "#B0BEC5",
                "#B0BEC5",
                "#B0BEC5",
                "#B0BEC5",
                "#B0BEC5",
                "#B0BEC5",
                "#B0BEC5",
                "#B0BEC5",
                "#B0BEC5",
                "#B0BEC5",
                "#B0BEC5",
                "#B0BEC5",
                "#B0BEC5",
                "#B0BEC5",
                "#B0BEC5",
                "#B0BEC5",
                "#B0BEC5",
                "#B0BEC5",
                "#B0BEC5",
                "#B0BEC5",
                "red",
                "#B0BEC5",
                "#B0BEC5",
                "#B0BEC5",
                "#B0BEC5",
                "#B0BEC5",
                "#B0BEC5",
                "#B0BEC5",
                "#B0BEC5",
                "#B0BEC5",
                "#B0BEC5",
                "#B0BEC5",
                "#B0BEC5",
                "#B0BEC5",
                "#B0BEC5",
                "#B0BEC5",
                "#B0BEC5",
                "#B0BEC5",
                "#B0BEC5",
                "#B0BEC5",
                "#B0BEC5",
                "#B0BEC5",
                "#B0BEC5",
                "#B0BEC5",
                "#B0BEC5",
                "#B0BEC5",
                "#B0BEC5",
                "#B0BEC5",
                "#B0BEC5",
                "#B0BEC5",
                "#B0BEC5",
                "#B0BEC5",
                "#B0BEC5",
                "#B0BEC5",
                "#B0BEC5",
                "#B0BEC5",
                "#B0BEC5",
                "#B0BEC5",
                "#B0BEC5",
                "#B0BEC5",
                "#B0BEC5",
                "#B0BEC5"
               ]
              ]
             }
            ],
            "label": "Topic 20",
            "method": "update"
           },
           {
            "args": [
             {
              "marker.color": [
               [
                "#B0BEC5",
                "#B0BEC5",
                "#B0BEC5",
                "#B0BEC5",
                "#B0BEC5",
                "#B0BEC5",
                "#B0BEC5",
                "#B0BEC5",
                "#B0BEC5",
                "#B0BEC5",
                "#B0BEC5",
                "#B0BEC5",
                "#B0BEC5",
                "#B0BEC5",
                "#B0BEC5",
                "#B0BEC5",
                "#B0BEC5",
                "#B0BEC5",
                "#B0BEC5",
                "#B0BEC5",
                "#B0BEC5",
                "red",
                "#B0BEC5",
                "#B0BEC5",
                "#B0BEC5",
                "#B0BEC5",
                "#B0BEC5",
                "#B0BEC5",
                "#B0BEC5",
                "#B0BEC5",
                "#B0BEC5",
                "#B0BEC5",
                "#B0BEC5",
                "#B0BEC5",
                "#B0BEC5",
                "#B0BEC5",
                "#B0BEC5",
                "#B0BEC5",
                "#B0BEC5",
                "#B0BEC5",
                "#B0BEC5",
                "#B0BEC5",
                "#B0BEC5",
                "#B0BEC5",
                "#B0BEC5",
                "#B0BEC5",
                "#B0BEC5",
                "#B0BEC5",
                "#B0BEC5",
                "#B0BEC5",
                "#B0BEC5",
                "#B0BEC5",
                "#B0BEC5",
                "#B0BEC5",
                "#B0BEC5",
                "#B0BEC5",
                "#B0BEC5",
                "#B0BEC5",
                "#B0BEC5",
                "#B0BEC5",
                "#B0BEC5",
                "#B0BEC5"
               ]
              ]
             }
            ],
            "label": "Topic 21",
            "method": "update"
           },
           {
            "args": [
             {
              "marker.color": [
               [
                "#B0BEC5",
                "#B0BEC5",
                "#B0BEC5",
                "#B0BEC5",
                "#B0BEC5",
                "#B0BEC5",
                "#B0BEC5",
                "#B0BEC5",
                "#B0BEC5",
                "#B0BEC5",
                "#B0BEC5",
                "#B0BEC5",
                "#B0BEC5",
                "#B0BEC5",
                "#B0BEC5",
                "#B0BEC5",
                "#B0BEC5",
                "#B0BEC5",
                "#B0BEC5",
                "#B0BEC5",
                "#B0BEC5",
                "#B0BEC5",
                "red",
                "#B0BEC5",
                "#B0BEC5",
                "#B0BEC5",
                "#B0BEC5",
                "#B0BEC5",
                "#B0BEC5",
                "#B0BEC5",
                "#B0BEC5",
                "#B0BEC5",
                "#B0BEC5",
                "#B0BEC5",
                "#B0BEC5",
                "#B0BEC5",
                "#B0BEC5",
                "#B0BEC5",
                "#B0BEC5",
                "#B0BEC5",
                "#B0BEC5",
                "#B0BEC5",
                "#B0BEC5",
                "#B0BEC5",
                "#B0BEC5",
                "#B0BEC5",
                "#B0BEC5",
                "#B0BEC5",
                "#B0BEC5",
                "#B0BEC5",
                "#B0BEC5",
                "#B0BEC5",
                "#B0BEC5",
                "#B0BEC5",
                "#B0BEC5",
                "#B0BEC5",
                "#B0BEC5",
                "#B0BEC5",
                "#B0BEC5",
                "#B0BEC5",
                "#B0BEC5",
                "#B0BEC5"
               ]
              ]
             }
            ],
            "label": "Topic 22",
            "method": "update"
           },
           {
            "args": [
             {
              "marker.color": [
               [
                "#B0BEC5",
                "#B0BEC5",
                "#B0BEC5",
                "#B0BEC5",
                "#B0BEC5",
                "#B0BEC5",
                "#B0BEC5",
                "#B0BEC5",
                "#B0BEC5",
                "#B0BEC5",
                "#B0BEC5",
                "#B0BEC5",
                "#B0BEC5",
                "#B0BEC5",
                "#B0BEC5",
                "#B0BEC5",
                "#B0BEC5",
                "#B0BEC5",
                "#B0BEC5",
                "#B0BEC5",
                "#B0BEC5",
                "#B0BEC5",
                "#B0BEC5",
                "red",
                "#B0BEC5",
                "#B0BEC5",
                "#B0BEC5",
                "#B0BEC5",
                "#B0BEC5",
                "#B0BEC5",
                "#B0BEC5",
                "#B0BEC5",
                "#B0BEC5",
                "#B0BEC5",
                "#B0BEC5",
                "#B0BEC5",
                "#B0BEC5",
                "#B0BEC5",
                "#B0BEC5",
                "#B0BEC5",
                "#B0BEC5",
                "#B0BEC5",
                "#B0BEC5",
                "#B0BEC5",
                "#B0BEC5",
                "#B0BEC5",
                "#B0BEC5",
                "#B0BEC5",
                "#B0BEC5",
                "#B0BEC5",
                "#B0BEC5",
                "#B0BEC5",
                "#B0BEC5",
                "#B0BEC5",
                "#B0BEC5",
                "#B0BEC5",
                "#B0BEC5",
                "#B0BEC5",
                "#B0BEC5",
                "#B0BEC5",
                "#B0BEC5",
                "#B0BEC5"
               ]
              ]
             }
            ],
            "label": "Topic 23",
            "method": "update"
           },
           {
            "args": [
             {
              "marker.color": [
               [
                "#B0BEC5",
                "#B0BEC5",
                "#B0BEC5",
                "#B0BEC5",
                "#B0BEC5",
                "#B0BEC5",
                "#B0BEC5",
                "#B0BEC5",
                "#B0BEC5",
                "#B0BEC5",
                "#B0BEC5",
                "#B0BEC5",
                "#B0BEC5",
                "#B0BEC5",
                "#B0BEC5",
                "#B0BEC5",
                "#B0BEC5",
                "#B0BEC5",
                "#B0BEC5",
                "#B0BEC5",
                "#B0BEC5",
                "#B0BEC5",
                "#B0BEC5",
                "#B0BEC5",
                "red",
                "#B0BEC5",
                "#B0BEC5",
                "#B0BEC5",
                "#B0BEC5",
                "#B0BEC5",
                "#B0BEC5",
                "#B0BEC5",
                "#B0BEC5",
                "#B0BEC5",
                "#B0BEC5",
                "#B0BEC5",
                "#B0BEC5",
                "#B0BEC5",
                "#B0BEC5",
                "#B0BEC5",
                "#B0BEC5",
                "#B0BEC5",
                "#B0BEC5",
                "#B0BEC5",
                "#B0BEC5",
                "#B0BEC5",
                "#B0BEC5",
                "#B0BEC5",
                "#B0BEC5",
                "#B0BEC5",
                "#B0BEC5",
                "#B0BEC5",
                "#B0BEC5",
                "#B0BEC5",
                "#B0BEC5",
                "#B0BEC5",
                "#B0BEC5",
                "#B0BEC5",
                "#B0BEC5",
                "#B0BEC5",
                "#B0BEC5",
                "#B0BEC5"
               ]
              ]
             }
            ],
            "label": "Topic 24",
            "method": "update"
           },
           {
            "args": [
             {
              "marker.color": [
               [
                "#B0BEC5",
                "#B0BEC5",
                "#B0BEC5",
                "#B0BEC5",
                "#B0BEC5",
                "#B0BEC5",
                "#B0BEC5",
                "#B0BEC5",
                "#B0BEC5",
                "#B0BEC5",
                "#B0BEC5",
                "#B0BEC5",
                "#B0BEC5",
                "#B0BEC5",
                "#B0BEC5",
                "#B0BEC5",
                "#B0BEC5",
                "#B0BEC5",
                "#B0BEC5",
                "#B0BEC5",
                "#B0BEC5",
                "#B0BEC5",
                "#B0BEC5",
                "#B0BEC5",
                "#B0BEC5",
                "red",
                "#B0BEC5",
                "#B0BEC5",
                "#B0BEC5",
                "#B0BEC5",
                "#B0BEC5",
                "#B0BEC5",
                "#B0BEC5",
                "#B0BEC5",
                "#B0BEC5",
                "#B0BEC5",
                "#B0BEC5",
                "#B0BEC5",
                "#B0BEC5",
                "#B0BEC5",
                "#B0BEC5",
                "#B0BEC5",
                "#B0BEC5",
                "#B0BEC5",
                "#B0BEC5",
                "#B0BEC5",
                "#B0BEC5",
                "#B0BEC5",
                "#B0BEC5",
                "#B0BEC5",
                "#B0BEC5",
                "#B0BEC5",
                "#B0BEC5",
                "#B0BEC5",
                "#B0BEC5",
                "#B0BEC5",
                "#B0BEC5",
                "#B0BEC5",
                "#B0BEC5",
                "#B0BEC5",
                "#B0BEC5",
                "#B0BEC5"
               ]
              ]
             }
            ],
            "label": "Topic 25",
            "method": "update"
           },
           {
            "args": [
             {
              "marker.color": [
               [
                "#B0BEC5",
                "#B0BEC5",
                "#B0BEC5",
                "#B0BEC5",
                "#B0BEC5",
                "#B0BEC5",
                "#B0BEC5",
                "#B0BEC5",
                "#B0BEC5",
                "#B0BEC5",
                "#B0BEC5",
                "#B0BEC5",
                "#B0BEC5",
                "#B0BEC5",
                "#B0BEC5",
                "#B0BEC5",
                "#B0BEC5",
                "#B0BEC5",
                "#B0BEC5",
                "#B0BEC5",
                "#B0BEC5",
                "#B0BEC5",
                "#B0BEC5",
                "#B0BEC5",
                "#B0BEC5",
                "#B0BEC5",
                "red",
                "#B0BEC5",
                "#B0BEC5",
                "#B0BEC5",
                "#B0BEC5",
                "#B0BEC5",
                "#B0BEC5",
                "#B0BEC5",
                "#B0BEC5",
                "#B0BEC5",
                "#B0BEC5",
                "#B0BEC5",
                "#B0BEC5",
                "#B0BEC5",
                "#B0BEC5",
                "#B0BEC5",
                "#B0BEC5",
                "#B0BEC5",
                "#B0BEC5",
                "#B0BEC5",
                "#B0BEC5",
                "#B0BEC5",
                "#B0BEC5",
                "#B0BEC5",
                "#B0BEC5",
                "#B0BEC5",
                "#B0BEC5",
                "#B0BEC5",
                "#B0BEC5",
                "#B0BEC5",
                "#B0BEC5",
                "#B0BEC5",
                "#B0BEC5",
                "#B0BEC5",
                "#B0BEC5",
                "#B0BEC5"
               ]
              ]
             }
            ],
            "label": "Topic 26",
            "method": "update"
           },
           {
            "args": [
             {
              "marker.color": [
               [
                "#B0BEC5",
                "#B0BEC5",
                "#B0BEC5",
                "#B0BEC5",
                "#B0BEC5",
                "#B0BEC5",
                "#B0BEC5",
                "#B0BEC5",
                "#B0BEC5",
                "#B0BEC5",
                "#B0BEC5",
                "#B0BEC5",
                "#B0BEC5",
                "#B0BEC5",
                "#B0BEC5",
                "#B0BEC5",
                "#B0BEC5",
                "#B0BEC5",
                "#B0BEC5",
                "#B0BEC5",
                "#B0BEC5",
                "#B0BEC5",
                "#B0BEC5",
                "#B0BEC5",
                "#B0BEC5",
                "#B0BEC5",
                "#B0BEC5",
                "red",
                "#B0BEC5",
                "#B0BEC5",
                "#B0BEC5",
                "#B0BEC5",
                "#B0BEC5",
                "#B0BEC5",
                "#B0BEC5",
                "#B0BEC5",
                "#B0BEC5",
                "#B0BEC5",
                "#B0BEC5",
                "#B0BEC5",
                "#B0BEC5",
                "#B0BEC5",
                "#B0BEC5",
                "#B0BEC5",
                "#B0BEC5",
                "#B0BEC5",
                "#B0BEC5",
                "#B0BEC5",
                "#B0BEC5",
                "#B0BEC5",
                "#B0BEC5",
                "#B0BEC5",
                "#B0BEC5",
                "#B0BEC5",
                "#B0BEC5",
                "#B0BEC5",
                "#B0BEC5",
                "#B0BEC5",
                "#B0BEC5",
                "#B0BEC5",
                "#B0BEC5",
                "#B0BEC5"
               ]
              ]
             }
            ],
            "label": "Topic 27",
            "method": "update"
           },
           {
            "args": [
             {
              "marker.color": [
               [
                "#B0BEC5",
                "#B0BEC5",
                "#B0BEC5",
                "#B0BEC5",
                "#B0BEC5",
                "#B0BEC5",
                "#B0BEC5",
                "#B0BEC5",
                "#B0BEC5",
                "#B0BEC5",
                "#B0BEC5",
                "#B0BEC5",
                "#B0BEC5",
                "#B0BEC5",
                "#B0BEC5",
                "#B0BEC5",
                "#B0BEC5",
                "#B0BEC5",
                "#B0BEC5",
                "#B0BEC5",
                "#B0BEC5",
                "#B0BEC5",
                "#B0BEC5",
                "#B0BEC5",
                "#B0BEC5",
                "#B0BEC5",
                "#B0BEC5",
                "#B0BEC5",
                "red",
                "#B0BEC5",
                "#B0BEC5",
                "#B0BEC5",
                "#B0BEC5",
                "#B0BEC5",
                "#B0BEC5",
                "#B0BEC5",
                "#B0BEC5",
                "#B0BEC5",
                "#B0BEC5",
                "#B0BEC5",
                "#B0BEC5",
                "#B0BEC5",
                "#B0BEC5",
                "#B0BEC5",
                "#B0BEC5",
                "#B0BEC5",
                "#B0BEC5",
                "#B0BEC5",
                "#B0BEC5",
                "#B0BEC5",
                "#B0BEC5",
                "#B0BEC5",
                "#B0BEC5",
                "#B0BEC5",
                "#B0BEC5",
                "#B0BEC5",
                "#B0BEC5",
                "#B0BEC5",
                "#B0BEC5",
                "#B0BEC5",
                "#B0BEC5",
                "#B0BEC5"
               ]
              ]
             }
            ],
            "label": "Topic 28",
            "method": "update"
           },
           {
            "args": [
             {
              "marker.color": [
               [
                "#B0BEC5",
                "#B0BEC5",
                "#B0BEC5",
                "#B0BEC5",
                "#B0BEC5",
                "#B0BEC5",
                "#B0BEC5",
                "#B0BEC5",
                "#B0BEC5",
                "#B0BEC5",
                "#B0BEC5",
                "#B0BEC5",
                "#B0BEC5",
                "#B0BEC5",
                "#B0BEC5",
                "#B0BEC5",
                "#B0BEC5",
                "#B0BEC5",
                "#B0BEC5",
                "#B0BEC5",
                "#B0BEC5",
                "#B0BEC5",
                "#B0BEC5",
                "#B0BEC5",
                "#B0BEC5",
                "#B0BEC5",
                "#B0BEC5",
                "#B0BEC5",
                "#B0BEC5",
                "red",
                "#B0BEC5",
                "#B0BEC5",
                "#B0BEC5",
                "#B0BEC5",
                "#B0BEC5",
                "#B0BEC5",
                "#B0BEC5",
                "#B0BEC5",
                "#B0BEC5",
                "#B0BEC5",
                "#B0BEC5",
                "#B0BEC5",
                "#B0BEC5",
                "#B0BEC5",
                "#B0BEC5",
                "#B0BEC5",
                "#B0BEC5",
                "#B0BEC5",
                "#B0BEC5",
                "#B0BEC5",
                "#B0BEC5",
                "#B0BEC5",
                "#B0BEC5",
                "#B0BEC5",
                "#B0BEC5",
                "#B0BEC5",
                "#B0BEC5",
                "#B0BEC5",
                "#B0BEC5",
                "#B0BEC5",
                "#B0BEC5",
                "#B0BEC5"
               ]
              ]
             }
            ],
            "label": "Topic 29",
            "method": "update"
           },
           {
            "args": [
             {
              "marker.color": [
               [
                "#B0BEC5",
                "#B0BEC5",
                "#B0BEC5",
                "#B0BEC5",
                "#B0BEC5",
                "#B0BEC5",
                "#B0BEC5",
                "#B0BEC5",
                "#B0BEC5",
                "#B0BEC5",
                "#B0BEC5",
                "#B0BEC5",
                "#B0BEC5",
                "#B0BEC5",
                "#B0BEC5",
                "#B0BEC5",
                "#B0BEC5",
                "#B0BEC5",
                "#B0BEC5",
                "#B0BEC5",
                "#B0BEC5",
                "#B0BEC5",
                "#B0BEC5",
                "#B0BEC5",
                "#B0BEC5",
                "#B0BEC5",
                "#B0BEC5",
                "#B0BEC5",
                "#B0BEC5",
                "#B0BEC5",
                "red",
                "#B0BEC5",
                "#B0BEC5",
                "#B0BEC5",
                "#B0BEC5",
                "#B0BEC5",
                "#B0BEC5",
                "#B0BEC5",
                "#B0BEC5",
                "#B0BEC5",
                "#B0BEC5",
                "#B0BEC5",
                "#B0BEC5",
                "#B0BEC5",
                "#B0BEC5",
                "#B0BEC5",
                "#B0BEC5",
                "#B0BEC5",
                "#B0BEC5",
                "#B0BEC5",
                "#B0BEC5",
                "#B0BEC5",
                "#B0BEC5",
                "#B0BEC5",
                "#B0BEC5",
                "#B0BEC5",
                "#B0BEC5",
                "#B0BEC5",
                "#B0BEC5",
                "#B0BEC5",
                "#B0BEC5",
                "#B0BEC5"
               ]
              ]
             }
            ],
            "label": "Topic 30",
            "method": "update"
           },
           {
            "args": [
             {
              "marker.color": [
               [
                "#B0BEC5",
                "#B0BEC5",
                "#B0BEC5",
                "#B0BEC5",
                "#B0BEC5",
                "#B0BEC5",
                "#B0BEC5",
                "#B0BEC5",
                "#B0BEC5",
                "#B0BEC5",
                "#B0BEC5",
                "#B0BEC5",
                "#B0BEC5",
                "#B0BEC5",
                "#B0BEC5",
                "#B0BEC5",
                "#B0BEC5",
                "#B0BEC5",
                "#B0BEC5",
                "#B0BEC5",
                "#B0BEC5",
                "#B0BEC5",
                "#B0BEC5",
                "#B0BEC5",
                "#B0BEC5",
                "#B0BEC5",
                "#B0BEC5",
                "#B0BEC5",
                "#B0BEC5",
                "#B0BEC5",
                "#B0BEC5",
                "red",
                "#B0BEC5",
                "#B0BEC5",
                "#B0BEC5",
                "#B0BEC5",
                "#B0BEC5",
                "#B0BEC5",
                "#B0BEC5",
                "#B0BEC5",
                "#B0BEC5",
                "#B0BEC5",
                "#B0BEC5",
                "#B0BEC5",
                "#B0BEC5",
                "#B0BEC5",
                "#B0BEC5",
                "#B0BEC5",
                "#B0BEC5",
                "#B0BEC5",
                "#B0BEC5",
                "#B0BEC5",
                "#B0BEC5",
                "#B0BEC5",
                "#B0BEC5",
                "#B0BEC5",
                "#B0BEC5",
                "#B0BEC5",
                "#B0BEC5",
                "#B0BEC5",
                "#B0BEC5",
                "#B0BEC5"
               ]
              ]
             }
            ],
            "label": "Topic 31",
            "method": "update"
           },
           {
            "args": [
             {
              "marker.color": [
               [
                "#B0BEC5",
                "#B0BEC5",
                "#B0BEC5",
                "#B0BEC5",
                "#B0BEC5",
                "#B0BEC5",
                "#B0BEC5",
                "#B0BEC5",
                "#B0BEC5",
                "#B0BEC5",
                "#B0BEC5",
                "#B0BEC5",
                "#B0BEC5",
                "#B0BEC5",
                "#B0BEC5",
                "#B0BEC5",
                "#B0BEC5",
                "#B0BEC5",
                "#B0BEC5",
                "#B0BEC5",
                "#B0BEC5",
                "#B0BEC5",
                "#B0BEC5",
                "#B0BEC5",
                "#B0BEC5",
                "#B0BEC5",
                "#B0BEC5",
                "#B0BEC5",
                "#B0BEC5",
                "#B0BEC5",
                "#B0BEC5",
                "#B0BEC5",
                "red",
                "#B0BEC5",
                "#B0BEC5",
                "#B0BEC5",
                "#B0BEC5",
                "#B0BEC5",
                "#B0BEC5",
                "#B0BEC5",
                "#B0BEC5",
                "#B0BEC5",
                "#B0BEC5",
                "#B0BEC5",
                "#B0BEC5",
                "#B0BEC5",
                "#B0BEC5",
                "#B0BEC5",
                "#B0BEC5",
                "#B0BEC5",
                "#B0BEC5",
                "#B0BEC5",
                "#B0BEC5",
                "#B0BEC5",
                "#B0BEC5",
                "#B0BEC5",
                "#B0BEC5",
                "#B0BEC5",
                "#B0BEC5",
                "#B0BEC5",
                "#B0BEC5",
                "#B0BEC5"
               ]
              ]
             }
            ],
            "label": "Topic 32",
            "method": "update"
           },
           {
            "args": [
             {
              "marker.color": [
               [
                "#B0BEC5",
                "#B0BEC5",
                "#B0BEC5",
                "#B0BEC5",
                "#B0BEC5",
                "#B0BEC5",
                "#B0BEC5",
                "#B0BEC5",
                "#B0BEC5",
                "#B0BEC5",
                "#B0BEC5",
                "#B0BEC5",
                "#B0BEC5",
                "#B0BEC5",
                "#B0BEC5",
                "#B0BEC5",
                "#B0BEC5",
                "#B0BEC5",
                "#B0BEC5",
                "#B0BEC5",
                "#B0BEC5",
                "#B0BEC5",
                "#B0BEC5",
                "#B0BEC5",
                "#B0BEC5",
                "#B0BEC5",
                "#B0BEC5",
                "#B0BEC5",
                "#B0BEC5",
                "#B0BEC5",
                "#B0BEC5",
                "#B0BEC5",
                "#B0BEC5",
                "red",
                "#B0BEC5",
                "#B0BEC5",
                "#B0BEC5",
                "#B0BEC5",
                "#B0BEC5",
                "#B0BEC5",
                "#B0BEC5",
                "#B0BEC5",
                "#B0BEC5",
                "#B0BEC5",
                "#B0BEC5",
                "#B0BEC5",
                "#B0BEC5",
                "#B0BEC5",
                "#B0BEC5",
                "#B0BEC5",
                "#B0BEC5",
                "#B0BEC5",
                "#B0BEC5",
                "#B0BEC5",
                "#B0BEC5",
                "#B0BEC5",
                "#B0BEC5",
                "#B0BEC5",
                "#B0BEC5",
                "#B0BEC5",
                "#B0BEC5",
                "#B0BEC5"
               ]
              ]
             }
            ],
            "label": "Topic 33",
            "method": "update"
           },
           {
            "args": [
             {
              "marker.color": [
               [
                "#B0BEC5",
                "#B0BEC5",
                "#B0BEC5",
                "#B0BEC5",
                "#B0BEC5",
                "#B0BEC5",
                "#B0BEC5",
                "#B0BEC5",
                "#B0BEC5",
                "#B0BEC5",
                "#B0BEC5",
                "#B0BEC5",
                "#B0BEC5",
                "#B0BEC5",
                "#B0BEC5",
                "#B0BEC5",
                "#B0BEC5",
                "#B0BEC5",
                "#B0BEC5",
                "#B0BEC5",
                "#B0BEC5",
                "#B0BEC5",
                "#B0BEC5",
                "#B0BEC5",
                "#B0BEC5",
                "#B0BEC5",
                "#B0BEC5",
                "#B0BEC5",
                "#B0BEC5",
                "#B0BEC5",
                "#B0BEC5",
                "#B0BEC5",
                "#B0BEC5",
                "#B0BEC5",
                "red",
                "#B0BEC5",
                "#B0BEC5",
                "#B0BEC5",
                "#B0BEC5",
                "#B0BEC5",
                "#B0BEC5",
                "#B0BEC5",
                "#B0BEC5",
                "#B0BEC5",
                "#B0BEC5",
                "#B0BEC5",
                "#B0BEC5",
                "#B0BEC5",
                "#B0BEC5",
                "#B0BEC5",
                "#B0BEC5",
                "#B0BEC5",
                "#B0BEC5",
                "#B0BEC5",
                "#B0BEC5",
                "#B0BEC5",
                "#B0BEC5",
                "#B0BEC5",
                "#B0BEC5",
                "#B0BEC5",
                "#B0BEC5",
                "#B0BEC5"
               ]
              ]
             }
            ],
            "label": "Topic 34",
            "method": "update"
           },
           {
            "args": [
             {
              "marker.color": [
               [
                "#B0BEC5",
                "#B0BEC5",
                "#B0BEC5",
                "#B0BEC5",
                "#B0BEC5",
                "#B0BEC5",
                "#B0BEC5",
                "#B0BEC5",
                "#B0BEC5",
                "#B0BEC5",
                "#B0BEC5",
                "#B0BEC5",
                "#B0BEC5",
                "#B0BEC5",
                "#B0BEC5",
                "#B0BEC5",
                "#B0BEC5",
                "#B0BEC5",
                "#B0BEC5",
                "#B0BEC5",
                "#B0BEC5",
                "#B0BEC5",
                "#B0BEC5",
                "#B0BEC5",
                "#B0BEC5",
                "#B0BEC5",
                "#B0BEC5",
                "#B0BEC5",
                "#B0BEC5",
                "#B0BEC5",
                "#B0BEC5",
                "#B0BEC5",
                "#B0BEC5",
                "#B0BEC5",
                "#B0BEC5",
                "red",
                "#B0BEC5",
                "#B0BEC5",
                "#B0BEC5",
                "#B0BEC5",
                "#B0BEC5",
                "#B0BEC5",
                "#B0BEC5",
                "#B0BEC5",
                "#B0BEC5",
                "#B0BEC5",
                "#B0BEC5",
                "#B0BEC5",
                "#B0BEC5",
                "#B0BEC5",
                "#B0BEC5",
                "#B0BEC5",
                "#B0BEC5",
                "#B0BEC5",
                "#B0BEC5",
                "#B0BEC5",
                "#B0BEC5",
                "#B0BEC5",
                "#B0BEC5",
                "#B0BEC5",
                "#B0BEC5",
                "#B0BEC5"
               ]
              ]
             }
            ],
            "label": "Topic 35",
            "method": "update"
           },
           {
            "args": [
             {
              "marker.color": [
               [
                "#B0BEC5",
                "#B0BEC5",
                "#B0BEC5",
                "#B0BEC5",
                "#B0BEC5",
                "#B0BEC5",
                "#B0BEC5",
                "#B0BEC5",
                "#B0BEC5",
                "#B0BEC5",
                "#B0BEC5",
                "#B0BEC5",
                "#B0BEC5",
                "#B0BEC5",
                "#B0BEC5",
                "#B0BEC5",
                "#B0BEC5",
                "#B0BEC5",
                "#B0BEC5",
                "#B0BEC5",
                "#B0BEC5",
                "#B0BEC5",
                "#B0BEC5",
                "#B0BEC5",
                "#B0BEC5",
                "#B0BEC5",
                "#B0BEC5",
                "#B0BEC5",
                "#B0BEC5",
                "#B0BEC5",
                "#B0BEC5",
                "#B0BEC5",
                "#B0BEC5",
                "#B0BEC5",
                "#B0BEC5",
                "#B0BEC5",
                "red",
                "#B0BEC5",
                "#B0BEC5",
                "#B0BEC5",
                "#B0BEC5",
                "#B0BEC5",
                "#B0BEC5",
                "#B0BEC5",
                "#B0BEC5",
                "#B0BEC5",
                "#B0BEC5",
                "#B0BEC5",
                "#B0BEC5",
                "#B0BEC5",
                "#B0BEC5",
                "#B0BEC5",
                "#B0BEC5",
                "#B0BEC5",
                "#B0BEC5",
                "#B0BEC5",
                "#B0BEC5",
                "#B0BEC5",
                "#B0BEC5",
                "#B0BEC5",
                "#B0BEC5",
                "#B0BEC5"
               ]
              ]
             }
            ],
            "label": "Topic 36",
            "method": "update"
           },
           {
            "args": [
             {
              "marker.color": [
               [
                "#B0BEC5",
                "#B0BEC5",
                "#B0BEC5",
                "#B0BEC5",
                "#B0BEC5",
                "#B0BEC5",
                "#B0BEC5",
                "#B0BEC5",
                "#B0BEC5",
                "#B0BEC5",
                "#B0BEC5",
                "#B0BEC5",
                "#B0BEC5",
                "#B0BEC5",
                "#B0BEC5",
                "#B0BEC5",
                "#B0BEC5",
                "#B0BEC5",
                "#B0BEC5",
                "#B0BEC5",
                "#B0BEC5",
                "#B0BEC5",
                "#B0BEC5",
                "#B0BEC5",
                "#B0BEC5",
                "#B0BEC5",
                "#B0BEC5",
                "#B0BEC5",
                "#B0BEC5",
                "#B0BEC5",
                "#B0BEC5",
                "#B0BEC5",
                "#B0BEC5",
                "#B0BEC5",
                "#B0BEC5",
                "#B0BEC5",
                "#B0BEC5",
                "red",
                "#B0BEC5",
                "#B0BEC5",
                "#B0BEC5",
                "#B0BEC5",
                "#B0BEC5",
                "#B0BEC5",
                "#B0BEC5",
                "#B0BEC5",
                "#B0BEC5",
                "#B0BEC5",
                "#B0BEC5",
                "#B0BEC5",
                "#B0BEC5",
                "#B0BEC5",
                "#B0BEC5",
                "#B0BEC5",
                "#B0BEC5",
                "#B0BEC5",
                "#B0BEC5",
                "#B0BEC5",
                "#B0BEC5",
                "#B0BEC5",
                "#B0BEC5",
                "#B0BEC5"
               ]
              ]
             }
            ],
            "label": "Topic 37",
            "method": "update"
           },
           {
            "args": [
             {
              "marker.color": [
               [
                "#B0BEC5",
                "#B0BEC5",
                "#B0BEC5",
                "#B0BEC5",
                "#B0BEC5",
                "#B0BEC5",
                "#B0BEC5",
                "#B0BEC5",
                "#B0BEC5",
                "#B0BEC5",
                "#B0BEC5",
                "#B0BEC5",
                "#B0BEC5",
                "#B0BEC5",
                "#B0BEC5",
                "#B0BEC5",
                "#B0BEC5",
                "#B0BEC5",
                "#B0BEC5",
                "#B0BEC5",
                "#B0BEC5",
                "#B0BEC5",
                "#B0BEC5",
                "#B0BEC5",
                "#B0BEC5",
                "#B0BEC5",
                "#B0BEC5",
                "#B0BEC5",
                "#B0BEC5",
                "#B0BEC5",
                "#B0BEC5",
                "#B0BEC5",
                "#B0BEC5",
                "#B0BEC5",
                "#B0BEC5",
                "#B0BEC5",
                "#B0BEC5",
                "#B0BEC5",
                "red",
                "#B0BEC5",
                "#B0BEC5",
                "#B0BEC5",
                "#B0BEC5",
                "#B0BEC5",
                "#B0BEC5",
                "#B0BEC5",
                "#B0BEC5",
                "#B0BEC5",
                "#B0BEC5",
                "#B0BEC5",
                "#B0BEC5",
                "#B0BEC5",
                "#B0BEC5",
                "#B0BEC5",
                "#B0BEC5",
                "#B0BEC5",
                "#B0BEC5",
                "#B0BEC5",
                "#B0BEC5",
                "#B0BEC5",
                "#B0BEC5",
                "#B0BEC5"
               ]
              ]
             }
            ],
            "label": "Topic 38",
            "method": "update"
           },
           {
            "args": [
             {
              "marker.color": [
               [
                "#B0BEC5",
                "#B0BEC5",
                "#B0BEC5",
                "#B0BEC5",
                "#B0BEC5",
                "#B0BEC5",
                "#B0BEC5",
                "#B0BEC5",
                "#B0BEC5",
                "#B0BEC5",
                "#B0BEC5",
                "#B0BEC5",
                "#B0BEC5",
                "#B0BEC5",
                "#B0BEC5",
                "#B0BEC5",
                "#B0BEC5",
                "#B0BEC5",
                "#B0BEC5",
                "#B0BEC5",
                "#B0BEC5",
                "#B0BEC5",
                "#B0BEC5",
                "#B0BEC5",
                "#B0BEC5",
                "#B0BEC5",
                "#B0BEC5",
                "#B0BEC5",
                "#B0BEC5",
                "#B0BEC5",
                "#B0BEC5",
                "#B0BEC5",
                "#B0BEC5",
                "#B0BEC5",
                "#B0BEC5",
                "#B0BEC5",
                "#B0BEC5",
                "#B0BEC5",
                "#B0BEC5",
                "red",
                "#B0BEC5",
                "#B0BEC5",
                "#B0BEC5",
                "#B0BEC5",
                "#B0BEC5",
                "#B0BEC5",
                "#B0BEC5",
                "#B0BEC5",
                "#B0BEC5",
                "#B0BEC5",
                "#B0BEC5",
                "#B0BEC5",
                "#B0BEC5",
                "#B0BEC5",
                "#B0BEC5",
                "#B0BEC5",
                "#B0BEC5",
                "#B0BEC5",
                "#B0BEC5",
                "#B0BEC5",
                "#B0BEC5",
                "#B0BEC5"
               ]
              ]
             }
            ],
            "label": "Topic 39",
            "method": "update"
           },
           {
            "args": [
             {
              "marker.color": [
               [
                "#B0BEC5",
                "#B0BEC5",
                "#B0BEC5",
                "#B0BEC5",
                "#B0BEC5",
                "#B0BEC5",
                "#B0BEC5",
                "#B0BEC5",
                "#B0BEC5",
                "#B0BEC5",
                "#B0BEC5",
                "#B0BEC5",
                "#B0BEC5",
                "#B0BEC5",
                "#B0BEC5",
                "#B0BEC5",
                "#B0BEC5",
                "#B0BEC5",
                "#B0BEC5",
                "#B0BEC5",
                "#B0BEC5",
                "#B0BEC5",
                "#B0BEC5",
                "#B0BEC5",
                "#B0BEC5",
                "#B0BEC5",
                "#B0BEC5",
                "#B0BEC5",
                "#B0BEC5",
                "#B0BEC5",
                "#B0BEC5",
                "#B0BEC5",
                "#B0BEC5",
                "#B0BEC5",
                "#B0BEC5",
                "#B0BEC5",
                "#B0BEC5",
                "#B0BEC5",
                "#B0BEC5",
                "#B0BEC5",
                "red",
                "#B0BEC5",
                "#B0BEC5",
                "#B0BEC5",
                "#B0BEC5",
                "#B0BEC5",
                "#B0BEC5",
                "#B0BEC5",
                "#B0BEC5",
                "#B0BEC5",
                "#B0BEC5",
                "#B0BEC5",
                "#B0BEC5",
                "#B0BEC5",
                "#B0BEC5",
                "#B0BEC5",
                "#B0BEC5",
                "#B0BEC5",
                "#B0BEC5",
                "#B0BEC5",
                "#B0BEC5",
                "#B0BEC5"
               ]
              ]
             }
            ],
            "label": "Topic 40",
            "method": "update"
           },
           {
            "args": [
             {
              "marker.color": [
               [
                "#B0BEC5",
                "#B0BEC5",
                "#B0BEC5",
                "#B0BEC5",
                "#B0BEC5",
                "#B0BEC5",
                "#B0BEC5",
                "#B0BEC5",
                "#B0BEC5",
                "#B0BEC5",
                "#B0BEC5",
                "#B0BEC5",
                "#B0BEC5",
                "#B0BEC5",
                "#B0BEC5",
                "#B0BEC5",
                "#B0BEC5",
                "#B0BEC5",
                "#B0BEC5",
                "#B0BEC5",
                "#B0BEC5",
                "#B0BEC5",
                "#B0BEC5",
                "#B0BEC5",
                "#B0BEC5",
                "#B0BEC5",
                "#B0BEC5",
                "#B0BEC5",
                "#B0BEC5",
                "#B0BEC5",
                "#B0BEC5",
                "#B0BEC5",
                "#B0BEC5",
                "#B0BEC5",
                "#B0BEC5",
                "#B0BEC5",
                "#B0BEC5",
                "#B0BEC5",
                "#B0BEC5",
                "#B0BEC5",
                "#B0BEC5",
                "red",
                "#B0BEC5",
                "#B0BEC5",
                "#B0BEC5",
                "#B0BEC5",
                "#B0BEC5",
                "#B0BEC5",
                "#B0BEC5",
                "#B0BEC5",
                "#B0BEC5",
                "#B0BEC5",
                "#B0BEC5",
                "#B0BEC5",
                "#B0BEC5",
                "#B0BEC5",
                "#B0BEC5",
                "#B0BEC5",
                "#B0BEC5",
                "#B0BEC5",
                "#B0BEC5",
                "#B0BEC5"
               ]
              ]
             }
            ],
            "label": "Topic 41",
            "method": "update"
           },
           {
            "args": [
             {
              "marker.color": [
               [
                "#B0BEC5",
                "#B0BEC5",
                "#B0BEC5",
                "#B0BEC5",
                "#B0BEC5",
                "#B0BEC5",
                "#B0BEC5",
                "#B0BEC5",
                "#B0BEC5",
                "#B0BEC5",
                "#B0BEC5",
                "#B0BEC5",
                "#B0BEC5",
                "#B0BEC5",
                "#B0BEC5",
                "#B0BEC5",
                "#B0BEC5",
                "#B0BEC5",
                "#B0BEC5",
                "#B0BEC5",
                "#B0BEC5",
                "#B0BEC5",
                "#B0BEC5",
                "#B0BEC5",
                "#B0BEC5",
                "#B0BEC5",
                "#B0BEC5",
                "#B0BEC5",
                "#B0BEC5",
                "#B0BEC5",
                "#B0BEC5",
                "#B0BEC5",
                "#B0BEC5",
                "#B0BEC5",
                "#B0BEC5",
                "#B0BEC5",
                "#B0BEC5",
                "#B0BEC5",
                "#B0BEC5",
                "#B0BEC5",
                "#B0BEC5",
                "#B0BEC5",
                "red",
                "#B0BEC5",
                "#B0BEC5",
                "#B0BEC5",
                "#B0BEC5",
                "#B0BEC5",
                "#B0BEC5",
                "#B0BEC5",
                "#B0BEC5",
                "#B0BEC5",
                "#B0BEC5",
                "#B0BEC5",
                "#B0BEC5",
                "#B0BEC5",
                "#B0BEC5",
                "#B0BEC5",
                "#B0BEC5",
                "#B0BEC5",
                "#B0BEC5",
                "#B0BEC5"
               ]
              ]
             }
            ],
            "label": "Topic 42",
            "method": "update"
           },
           {
            "args": [
             {
              "marker.color": [
               [
                "#B0BEC5",
                "#B0BEC5",
                "#B0BEC5",
                "#B0BEC5",
                "#B0BEC5",
                "#B0BEC5",
                "#B0BEC5",
                "#B0BEC5",
                "#B0BEC5",
                "#B0BEC5",
                "#B0BEC5",
                "#B0BEC5",
                "#B0BEC5",
                "#B0BEC5",
                "#B0BEC5",
                "#B0BEC5",
                "#B0BEC5",
                "#B0BEC5",
                "#B0BEC5",
                "#B0BEC5",
                "#B0BEC5",
                "#B0BEC5",
                "#B0BEC5",
                "#B0BEC5",
                "#B0BEC5",
                "#B0BEC5",
                "#B0BEC5",
                "#B0BEC5",
                "#B0BEC5",
                "#B0BEC5",
                "#B0BEC5",
                "#B0BEC5",
                "#B0BEC5",
                "#B0BEC5",
                "#B0BEC5",
                "#B0BEC5",
                "#B0BEC5",
                "#B0BEC5",
                "#B0BEC5",
                "#B0BEC5",
                "#B0BEC5",
                "#B0BEC5",
                "#B0BEC5",
                "red",
                "#B0BEC5",
                "#B0BEC5",
                "#B0BEC5",
                "#B0BEC5",
                "#B0BEC5",
                "#B0BEC5",
                "#B0BEC5",
                "#B0BEC5",
                "#B0BEC5",
                "#B0BEC5",
                "#B0BEC5",
                "#B0BEC5",
                "#B0BEC5",
                "#B0BEC5",
                "#B0BEC5",
                "#B0BEC5",
                "#B0BEC5",
                "#B0BEC5"
               ]
              ]
             }
            ],
            "label": "Topic 43",
            "method": "update"
           },
           {
            "args": [
             {
              "marker.color": [
               [
                "#B0BEC5",
                "#B0BEC5",
                "#B0BEC5",
                "#B0BEC5",
                "#B0BEC5",
                "#B0BEC5",
                "#B0BEC5",
                "#B0BEC5",
                "#B0BEC5",
                "#B0BEC5",
                "#B0BEC5",
                "#B0BEC5",
                "#B0BEC5",
                "#B0BEC5",
                "#B0BEC5",
                "#B0BEC5",
                "#B0BEC5",
                "#B0BEC5",
                "#B0BEC5",
                "#B0BEC5",
                "#B0BEC5",
                "#B0BEC5",
                "#B0BEC5",
                "#B0BEC5",
                "#B0BEC5",
                "#B0BEC5",
                "#B0BEC5",
                "#B0BEC5",
                "#B0BEC5",
                "#B0BEC5",
                "#B0BEC5",
                "#B0BEC5",
                "#B0BEC5",
                "#B0BEC5",
                "#B0BEC5",
                "#B0BEC5",
                "#B0BEC5",
                "#B0BEC5",
                "#B0BEC5",
                "#B0BEC5",
                "#B0BEC5",
                "#B0BEC5",
                "#B0BEC5",
                "#B0BEC5",
                "red",
                "#B0BEC5",
                "#B0BEC5",
                "#B0BEC5",
                "#B0BEC5",
                "#B0BEC5",
                "#B0BEC5",
                "#B0BEC5",
                "#B0BEC5",
                "#B0BEC5",
                "#B0BEC5",
                "#B0BEC5",
                "#B0BEC5",
                "#B0BEC5",
                "#B0BEC5",
                "#B0BEC5",
                "#B0BEC5",
                "#B0BEC5"
               ]
              ]
             }
            ],
            "label": "Topic 44",
            "method": "update"
           },
           {
            "args": [
             {
              "marker.color": [
               [
                "#B0BEC5",
                "#B0BEC5",
                "#B0BEC5",
                "#B0BEC5",
                "#B0BEC5",
                "#B0BEC5",
                "#B0BEC5",
                "#B0BEC5",
                "#B0BEC5",
                "#B0BEC5",
                "#B0BEC5",
                "#B0BEC5",
                "#B0BEC5",
                "#B0BEC5",
                "#B0BEC5",
                "#B0BEC5",
                "#B0BEC5",
                "#B0BEC5",
                "#B0BEC5",
                "#B0BEC5",
                "#B0BEC5",
                "#B0BEC5",
                "#B0BEC5",
                "#B0BEC5",
                "#B0BEC5",
                "#B0BEC5",
                "#B0BEC5",
                "#B0BEC5",
                "#B0BEC5",
                "#B0BEC5",
                "#B0BEC5",
                "#B0BEC5",
                "#B0BEC5",
                "#B0BEC5",
                "#B0BEC5",
                "#B0BEC5",
                "#B0BEC5",
                "#B0BEC5",
                "#B0BEC5",
                "#B0BEC5",
                "#B0BEC5",
                "#B0BEC5",
                "#B0BEC5",
                "#B0BEC5",
                "#B0BEC5",
                "red",
                "#B0BEC5",
                "#B0BEC5",
                "#B0BEC5",
                "#B0BEC5",
                "#B0BEC5",
                "#B0BEC5",
                "#B0BEC5",
                "#B0BEC5",
                "#B0BEC5",
                "#B0BEC5",
                "#B0BEC5",
                "#B0BEC5",
                "#B0BEC5",
                "#B0BEC5",
                "#B0BEC5",
                "#B0BEC5"
               ]
              ]
             }
            ],
            "label": "Topic 45",
            "method": "update"
           },
           {
            "args": [
             {
              "marker.color": [
               [
                "#B0BEC5",
                "#B0BEC5",
                "#B0BEC5",
                "#B0BEC5",
                "#B0BEC5",
                "#B0BEC5",
                "#B0BEC5",
                "#B0BEC5",
                "#B0BEC5",
                "#B0BEC5",
                "#B0BEC5",
                "#B0BEC5",
                "#B0BEC5",
                "#B0BEC5",
                "#B0BEC5",
                "#B0BEC5",
                "#B0BEC5",
                "#B0BEC5",
                "#B0BEC5",
                "#B0BEC5",
                "#B0BEC5",
                "#B0BEC5",
                "#B0BEC5",
                "#B0BEC5",
                "#B0BEC5",
                "#B0BEC5",
                "#B0BEC5",
                "#B0BEC5",
                "#B0BEC5",
                "#B0BEC5",
                "#B0BEC5",
                "#B0BEC5",
                "#B0BEC5",
                "#B0BEC5",
                "#B0BEC5",
                "#B0BEC5",
                "#B0BEC5",
                "#B0BEC5",
                "#B0BEC5",
                "#B0BEC5",
                "#B0BEC5",
                "#B0BEC5",
                "#B0BEC5",
                "#B0BEC5",
                "#B0BEC5",
                "#B0BEC5",
                "red",
                "#B0BEC5",
                "#B0BEC5",
                "#B0BEC5",
                "#B0BEC5",
                "#B0BEC5",
                "#B0BEC5",
                "#B0BEC5",
                "#B0BEC5",
                "#B0BEC5",
                "#B0BEC5",
                "#B0BEC5",
                "#B0BEC5",
                "#B0BEC5",
                "#B0BEC5",
                "#B0BEC5"
               ]
              ]
             }
            ],
            "label": "Topic 46",
            "method": "update"
           },
           {
            "args": [
             {
              "marker.color": [
               [
                "#B0BEC5",
                "#B0BEC5",
                "#B0BEC5",
                "#B0BEC5",
                "#B0BEC5",
                "#B0BEC5",
                "#B0BEC5",
                "#B0BEC5",
                "#B0BEC5",
                "#B0BEC5",
                "#B0BEC5",
                "#B0BEC5",
                "#B0BEC5",
                "#B0BEC5",
                "#B0BEC5",
                "#B0BEC5",
                "#B0BEC5",
                "#B0BEC5",
                "#B0BEC5",
                "#B0BEC5",
                "#B0BEC5",
                "#B0BEC5",
                "#B0BEC5",
                "#B0BEC5",
                "#B0BEC5",
                "#B0BEC5",
                "#B0BEC5",
                "#B0BEC5",
                "#B0BEC5",
                "#B0BEC5",
                "#B0BEC5",
                "#B0BEC5",
                "#B0BEC5",
                "#B0BEC5",
                "#B0BEC5",
                "#B0BEC5",
                "#B0BEC5",
                "#B0BEC5",
                "#B0BEC5",
                "#B0BEC5",
                "#B0BEC5",
                "#B0BEC5",
                "#B0BEC5",
                "#B0BEC5",
                "#B0BEC5",
                "#B0BEC5",
                "#B0BEC5",
                "red",
                "#B0BEC5",
                "#B0BEC5",
                "#B0BEC5",
                "#B0BEC5",
                "#B0BEC5",
                "#B0BEC5",
                "#B0BEC5",
                "#B0BEC5",
                "#B0BEC5",
                "#B0BEC5",
                "#B0BEC5",
                "#B0BEC5",
                "#B0BEC5",
                "#B0BEC5"
               ]
              ]
             }
            ],
            "label": "Topic 47",
            "method": "update"
           },
           {
            "args": [
             {
              "marker.color": [
               [
                "#B0BEC5",
                "#B0BEC5",
                "#B0BEC5",
                "#B0BEC5",
                "#B0BEC5",
                "#B0BEC5",
                "#B0BEC5",
                "#B0BEC5",
                "#B0BEC5",
                "#B0BEC5",
                "#B0BEC5",
                "#B0BEC5",
                "#B0BEC5",
                "#B0BEC5",
                "#B0BEC5",
                "#B0BEC5",
                "#B0BEC5",
                "#B0BEC5",
                "#B0BEC5",
                "#B0BEC5",
                "#B0BEC5",
                "#B0BEC5",
                "#B0BEC5",
                "#B0BEC5",
                "#B0BEC5",
                "#B0BEC5",
                "#B0BEC5",
                "#B0BEC5",
                "#B0BEC5",
                "#B0BEC5",
                "#B0BEC5",
                "#B0BEC5",
                "#B0BEC5",
                "#B0BEC5",
                "#B0BEC5",
                "#B0BEC5",
                "#B0BEC5",
                "#B0BEC5",
                "#B0BEC5",
                "#B0BEC5",
                "#B0BEC5",
                "#B0BEC5",
                "#B0BEC5",
                "#B0BEC5",
                "#B0BEC5",
                "#B0BEC5",
                "#B0BEC5",
                "#B0BEC5",
                "red",
                "#B0BEC5",
                "#B0BEC5",
                "#B0BEC5",
                "#B0BEC5",
                "#B0BEC5",
                "#B0BEC5",
                "#B0BEC5",
                "#B0BEC5",
                "#B0BEC5",
                "#B0BEC5",
                "#B0BEC5",
                "#B0BEC5",
                "#B0BEC5"
               ]
              ]
             }
            ],
            "label": "Topic 48",
            "method": "update"
           },
           {
            "args": [
             {
              "marker.color": [
               [
                "#B0BEC5",
                "#B0BEC5",
                "#B0BEC5",
                "#B0BEC5",
                "#B0BEC5",
                "#B0BEC5",
                "#B0BEC5",
                "#B0BEC5",
                "#B0BEC5",
                "#B0BEC5",
                "#B0BEC5",
                "#B0BEC5",
                "#B0BEC5",
                "#B0BEC5",
                "#B0BEC5",
                "#B0BEC5",
                "#B0BEC5",
                "#B0BEC5",
                "#B0BEC5",
                "#B0BEC5",
                "#B0BEC5",
                "#B0BEC5",
                "#B0BEC5",
                "#B0BEC5",
                "#B0BEC5",
                "#B0BEC5",
                "#B0BEC5",
                "#B0BEC5",
                "#B0BEC5",
                "#B0BEC5",
                "#B0BEC5",
                "#B0BEC5",
                "#B0BEC5",
                "#B0BEC5",
                "#B0BEC5",
                "#B0BEC5",
                "#B0BEC5",
                "#B0BEC5",
                "#B0BEC5",
                "#B0BEC5",
                "#B0BEC5",
                "#B0BEC5",
                "#B0BEC5",
                "#B0BEC5",
                "#B0BEC5",
                "#B0BEC5",
                "#B0BEC5",
                "#B0BEC5",
                "#B0BEC5",
                "red",
                "#B0BEC5",
                "#B0BEC5",
                "#B0BEC5",
                "#B0BEC5",
                "#B0BEC5",
                "#B0BEC5",
                "#B0BEC5",
                "#B0BEC5",
                "#B0BEC5",
                "#B0BEC5",
                "#B0BEC5",
                "#B0BEC5"
               ]
              ]
             }
            ],
            "label": "Topic 49",
            "method": "update"
           },
           {
            "args": [
             {
              "marker.color": [
               [
                "#B0BEC5",
                "#B0BEC5",
                "#B0BEC5",
                "#B0BEC5",
                "#B0BEC5",
                "#B0BEC5",
                "#B0BEC5",
                "#B0BEC5",
                "#B0BEC5",
                "#B0BEC5",
                "#B0BEC5",
                "#B0BEC5",
                "#B0BEC5",
                "#B0BEC5",
                "#B0BEC5",
                "#B0BEC5",
                "#B0BEC5",
                "#B0BEC5",
                "#B0BEC5",
                "#B0BEC5",
                "#B0BEC5",
                "#B0BEC5",
                "#B0BEC5",
                "#B0BEC5",
                "#B0BEC5",
                "#B0BEC5",
                "#B0BEC5",
                "#B0BEC5",
                "#B0BEC5",
                "#B0BEC5",
                "#B0BEC5",
                "#B0BEC5",
                "#B0BEC5",
                "#B0BEC5",
                "#B0BEC5",
                "#B0BEC5",
                "#B0BEC5",
                "#B0BEC5",
                "#B0BEC5",
                "#B0BEC5",
                "#B0BEC5",
                "#B0BEC5",
                "#B0BEC5",
                "#B0BEC5",
                "#B0BEC5",
                "#B0BEC5",
                "#B0BEC5",
                "#B0BEC5",
                "#B0BEC5",
                "#B0BEC5",
                "red",
                "#B0BEC5",
                "#B0BEC5",
                "#B0BEC5",
                "#B0BEC5",
                "#B0BEC5",
                "#B0BEC5",
                "#B0BEC5",
                "#B0BEC5",
                "#B0BEC5",
                "#B0BEC5",
                "#B0BEC5"
               ]
              ]
             }
            ],
            "label": "Topic 50",
            "method": "update"
           },
           {
            "args": [
             {
              "marker.color": [
               [
                "#B0BEC5",
                "#B0BEC5",
                "#B0BEC5",
                "#B0BEC5",
                "#B0BEC5",
                "#B0BEC5",
                "#B0BEC5",
                "#B0BEC5",
                "#B0BEC5",
                "#B0BEC5",
                "#B0BEC5",
                "#B0BEC5",
                "#B0BEC5",
                "#B0BEC5",
                "#B0BEC5",
                "#B0BEC5",
                "#B0BEC5",
                "#B0BEC5",
                "#B0BEC5",
                "#B0BEC5",
                "#B0BEC5",
                "#B0BEC5",
                "#B0BEC5",
                "#B0BEC5",
                "#B0BEC5",
                "#B0BEC5",
                "#B0BEC5",
                "#B0BEC5",
                "#B0BEC5",
                "#B0BEC5",
                "#B0BEC5",
                "#B0BEC5",
                "#B0BEC5",
                "#B0BEC5",
                "#B0BEC5",
                "#B0BEC5",
                "#B0BEC5",
                "#B0BEC5",
                "#B0BEC5",
                "#B0BEC5",
                "#B0BEC5",
                "#B0BEC5",
                "#B0BEC5",
                "#B0BEC5",
                "#B0BEC5",
                "#B0BEC5",
                "#B0BEC5",
                "#B0BEC5",
                "#B0BEC5",
                "#B0BEC5",
                "#B0BEC5",
                "red",
                "#B0BEC5",
                "#B0BEC5",
                "#B0BEC5",
                "#B0BEC5",
                "#B0BEC5",
                "#B0BEC5",
                "#B0BEC5",
                "#B0BEC5",
                "#B0BEC5",
                "#B0BEC5"
               ]
              ]
             }
            ],
            "label": "Topic 51",
            "method": "update"
           },
           {
            "args": [
             {
              "marker.color": [
               [
                "#B0BEC5",
                "#B0BEC5",
                "#B0BEC5",
                "#B0BEC5",
                "#B0BEC5",
                "#B0BEC5",
                "#B0BEC5",
                "#B0BEC5",
                "#B0BEC5",
                "#B0BEC5",
                "#B0BEC5",
                "#B0BEC5",
                "#B0BEC5",
                "#B0BEC5",
                "#B0BEC5",
                "#B0BEC5",
                "#B0BEC5",
                "#B0BEC5",
                "#B0BEC5",
                "#B0BEC5",
                "#B0BEC5",
                "#B0BEC5",
                "#B0BEC5",
                "#B0BEC5",
                "#B0BEC5",
                "#B0BEC5",
                "#B0BEC5",
                "#B0BEC5",
                "#B0BEC5",
                "#B0BEC5",
                "#B0BEC5",
                "#B0BEC5",
                "#B0BEC5",
                "#B0BEC5",
                "#B0BEC5",
                "#B0BEC5",
                "#B0BEC5",
                "#B0BEC5",
                "#B0BEC5",
                "#B0BEC5",
                "#B0BEC5",
                "#B0BEC5",
                "#B0BEC5",
                "#B0BEC5",
                "#B0BEC5",
                "#B0BEC5",
                "#B0BEC5",
                "#B0BEC5",
                "#B0BEC5",
                "#B0BEC5",
                "#B0BEC5",
                "#B0BEC5",
                "red",
                "#B0BEC5",
                "#B0BEC5",
                "#B0BEC5",
                "#B0BEC5",
                "#B0BEC5",
                "#B0BEC5",
                "#B0BEC5",
                "#B0BEC5",
                "#B0BEC5"
               ]
              ]
             }
            ],
            "label": "Topic 52",
            "method": "update"
           },
           {
            "args": [
             {
              "marker.color": [
               [
                "#B0BEC5",
                "#B0BEC5",
                "#B0BEC5",
                "#B0BEC5",
                "#B0BEC5",
                "#B0BEC5",
                "#B0BEC5",
                "#B0BEC5",
                "#B0BEC5",
                "#B0BEC5",
                "#B0BEC5",
                "#B0BEC5",
                "#B0BEC5",
                "#B0BEC5",
                "#B0BEC5",
                "#B0BEC5",
                "#B0BEC5",
                "#B0BEC5",
                "#B0BEC5",
                "#B0BEC5",
                "#B0BEC5",
                "#B0BEC5",
                "#B0BEC5",
                "#B0BEC5",
                "#B0BEC5",
                "#B0BEC5",
                "#B0BEC5",
                "#B0BEC5",
                "#B0BEC5",
                "#B0BEC5",
                "#B0BEC5",
                "#B0BEC5",
                "#B0BEC5",
                "#B0BEC5",
                "#B0BEC5",
                "#B0BEC5",
                "#B0BEC5",
                "#B0BEC5",
                "#B0BEC5",
                "#B0BEC5",
                "#B0BEC5",
                "#B0BEC5",
                "#B0BEC5",
                "#B0BEC5",
                "#B0BEC5",
                "#B0BEC5",
                "#B0BEC5",
                "#B0BEC5",
                "#B0BEC5",
                "#B0BEC5",
                "#B0BEC5",
                "#B0BEC5",
                "#B0BEC5",
                "red",
                "#B0BEC5",
                "#B0BEC5",
                "#B0BEC5",
                "#B0BEC5",
                "#B0BEC5",
                "#B0BEC5",
                "#B0BEC5",
                "#B0BEC5"
               ]
              ]
             }
            ],
            "label": "Topic 53",
            "method": "update"
           },
           {
            "args": [
             {
              "marker.color": [
               [
                "#B0BEC5",
                "#B0BEC5",
                "#B0BEC5",
                "#B0BEC5",
                "#B0BEC5",
                "#B0BEC5",
                "#B0BEC5",
                "#B0BEC5",
                "#B0BEC5",
                "#B0BEC5",
                "#B0BEC5",
                "#B0BEC5",
                "#B0BEC5",
                "#B0BEC5",
                "#B0BEC5",
                "#B0BEC5",
                "#B0BEC5",
                "#B0BEC5",
                "#B0BEC5",
                "#B0BEC5",
                "#B0BEC5",
                "#B0BEC5",
                "#B0BEC5",
                "#B0BEC5",
                "#B0BEC5",
                "#B0BEC5",
                "#B0BEC5",
                "#B0BEC5",
                "#B0BEC5",
                "#B0BEC5",
                "#B0BEC5",
                "#B0BEC5",
                "#B0BEC5",
                "#B0BEC5",
                "#B0BEC5",
                "#B0BEC5",
                "#B0BEC5",
                "#B0BEC5",
                "#B0BEC5",
                "#B0BEC5",
                "#B0BEC5",
                "#B0BEC5",
                "#B0BEC5",
                "#B0BEC5",
                "#B0BEC5",
                "#B0BEC5",
                "#B0BEC5",
                "#B0BEC5",
                "#B0BEC5",
                "#B0BEC5",
                "#B0BEC5",
                "#B0BEC5",
                "#B0BEC5",
                "#B0BEC5",
                "red",
                "#B0BEC5",
                "#B0BEC5",
                "#B0BEC5",
                "#B0BEC5",
                "#B0BEC5",
                "#B0BEC5",
                "#B0BEC5"
               ]
              ]
             }
            ],
            "label": "Topic 54",
            "method": "update"
           },
           {
            "args": [
             {
              "marker.color": [
               [
                "#B0BEC5",
                "#B0BEC5",
                "#B0BEC5",
                "#B0BEC5",
                "#B0BEC5",
                "#B0BEC5",
                "#B0BEC5",
                "#B0BEC5",
                "#B0BEC5",
                "#B0BEC5",
                "#B0BEC5",
                "#B0BEC5",
                "#B0BEC5",
                "#B0BEC5",
                "#B0BEC5",
                "#B0BEC5",
                "#B0BEC5",
                "#B0BEC5",
                "#B0BEC5",
                "#B0BEC5",
                "#B0BEC5",
                "#B0BEC5",
                "#B0BEC5",
                "#B0BEC5",
                "#B0BEC5",
                "#B0BEC5",
                "#B0BEC5",
                "#B0BEC5",
                "#B0BEC5",
                "#B0BEC5",
                "#B0BEC5",
                "#B0BEC5",
                "#B0BEC5",
                "#B0BEC5",
                "#B0BEC5",
                "#B0BEC5",
                "#B0BEC5",
                "#B0BEC5",
                "#B0BEC5",
                "#B0BEC5",
                "#B0BEC5",
                "#B0BEC5",
                "#B0BEC5",
                "#B0BEC5",
                "#B0BEC5",
                "#B0BEC5",
                "#B0BEC5",
                "#B0BEC5",
                "#B0BEC5",
                "#B0BEC5",
                "#B0BEC5",
                "#B0BEC5",
                "#B0BEC5",
                "#B0BEC5",
                "#B0BEC5",
                "red",
                "#B0BEC5",
                "#B0BEC5",
                "#B0BEC5",
                "#B0BEC5",
                "#B0BEC5",
                "#B0BEC5"
               ]
              ]
             }
            ],
            "label": "Topic 55",
            "method": "update"
           },
           {
            "args": [
             {
              "marker.color": [
               [
                "#B0BEC5",
                "#B0BEC5",
                "#B0BEC5",
                "#B0BEC5",
                "#B0BEC5",
                "#B0BEC5",
                "#B0BEC5",
                "#B0BEC5",
                "#B0BEC5",
                "#B0BEC5",
                "#B0BEC5",
                "#B0BEC5",
                "#B0BEC5",
                "#B0BEC5",
                "#B0BEC5",
                "#B0BEC5",
                "#B0BEC5",
                "#B0BEC5",
                "#B0BEC5",
                "#B0BEC5",
                "#B0BEC5",
                "#B0BEC5",
                "#B0BEC5",
                "#B0BEC5",
                "#B0BEC5",
                "#B0BEC5",
                "#B0BEC5",
                "#B0BEC5",
                "#B0BEC5",
                "#B0BEC5",
                "#B0BEC5",
                "#B0BEC5",
                "#B0BEC5",
                "#B0BEC5",
                "#B0BEC5",
                "#B0BEC5",
                "#B0BEC5",
                "#B0BEC5",
                "#B0BEC5",
                "#B0BEC5",
                "#B0BEC5",
                "#B0BEC5",
                "#B0BEC5",
                "#B0BEC5",
                "#B0BEC5",
                "#B0BEC5",
                "#B0BEC5",
                "#B0BEC5",
                "#B0BEC5",
                "#B0BEC5",
                "#B0BEC5",
                "#B0BEC5",
                "#B0BEC5",
                "#B0BEC5",
                "#B0BEC5",
                "#B0BEC5",
                "red",
                "#B0BEC5",
                "#B0BEC5",
                "#B0BEC5",
                "#B0BEC5",
                "#B0BEC5"
               ]
              ]
             }
            ],
            "label": "Topic 56",
            "method": "update"
           },
           {
            "args": [
             {
              "marker.color": [
               [
                "#B0BEC5",
                "#B0BEC5",
                "#B0BEC5",
                "#B0BEC5",
                "#B0BEC5",
                "#B0BEC5",
                "#B0BEC5",
                "#B0BEC5",
                "#B0BEC5",
                "#B0BEC5",
                "#B0BEC5",
                "#B0BEC5",
                "#B0BEC5",
                "#B0BEC5",
                "#B0BEC5",
                "#B0BEC5",
                "#B0BEC5",
                "#B0BEC5",
                "#B0BEC5",
                "#B0BEC5",
                "#B0BEC5",
                "#B0BEC5",
                "#B0BEC5",
                "#B0BEC5",
                "#B0BEC5",
                "#B0BEC5",
                "#B0BEC5",
                "#B0BEC5",
                "#B0BEC5",
                "#B0BEC5",
                "#B0BEC5",
                "#B0BEC5",
                "#B0BEC5",
                "#B0BEC5",
                "#B0BEC5",
                "#B0BEC5",
                "#B0BEC5",
                "#B0BEC5",
                "#B0BEC5",
                "#B0BEC5",
                "#B0BEC5",
                "#B0BEC5",
                "#B0BEC5",
                "#B0BEC5",
                "#B0BEC5",
                "#B0BEC5",
                "#B0BEC5",
                "#B0BEC5",
                "#B0BEC5",
                "#B0BEC5",
                "#B0BEC5",
                "#B0BEC5",
                "#B0BEC5",
                "#B0BEC5",
                "#B0BEC5",
                "#B0BEC5",
                "#B0BEC5",
                "red",
                "#B0BEC5",
                "#B0BEC5",
                "#B0BEC5",
                "#B0BEC5"
               ]
              ]
             }
            ],
            "label": "Topic 57",
            "method": "update"
           },
           {
            "args": [
             {
              "marker.color": [
               [
                "#B0BEC5",
                "#B0BEC5",
                "#B0BEC5",
                "#B0BEC5",
                "#B0BEC5",
                "#B0BEC5",
                "#B0BEC5",
                "#B0BEC5",
                "#B0BEC5",
                "#B0BEC5",
                "#B0BEC5",
                "#B0BEC5",
                "#B0BEC5",
                "#B0BEC5",
                "#B0BEC5",
                "#B0BEC5",
                "#B0BEC5",
                "#B0BEC5",
                "#B0BEC5",
                "#B0BEC5",
                "#B0BEC5",
                "#B0BEC5",
                "#B0BEC5",
                "#B0BEC5",
                "#B0BEC5",
                "#B0BEC5",
                "#B0BEC5",
                "#B0BEC5",
                "#B0BEC5",
                "#B0BEC5",
                "#B0BEC5",
                "#B0BEC5",
                "#B0BEC5",
                "#B0BEC5",
                "#B0BEC5",
                "#B0BEC5",
                "#B0BEC5",
                "#B0BEC5",
                "#B0BEC5",
                "#B0BEC5",
                "#B0BEC5",
                "#B0BEC5",
                "#B0BEC5",
                "#B0BEC5",
                "#B0BEC5",
                "#B0BEC5",
                "#B0BEC5",
                "#B0BEC5",
                "#B0BEC5",
                "#B0BEC5",
                "#B0BEC5",
                "#B0BEC5",
                "#B0BEC5",
                "#B0BEC5",
                "#B0BEC5",
                "#B0BEC5",
                "#B0BEC5",
                "#B0BEC5",
                "red",
                "#B0BEC5",
                "#B0BEC5",
                "#B0BEC5"
               ]
              ]
             }
            ],
            "label": "Topic 58",
            "method": "update"
           },
           {
            "args": [
             {
              "marker.color": [
               [
                "#B0BEC5",
                "#B0BEC5",
                "#B0BEC5",
                "#B0BEC5",
                "#B0BEC5",
                "#B0BEC5",
                "#B0BEC5",
                "#B0BEC5",
                "#B0BEC5",
                "#B0BEC5",
                "#B0BEC5",
                "#B0BEC5",
                "#B0BEC5",
                "#B0BEC5",
                "#B0BEC5",
                "#B0BEC5",
                "#B0BEC5",
                "#B0BEC5",
                "#B0BEC5",
                "#B0BEC5",
                "#B0BEC5",
                "#B0BEC5",
                "#B0BEC5",
                "#B0BEC5",
                "#B0BEC5",
                "#B0BEC5",
                "#B0BEC5",
                "#B0BEC5",
                "#B0BEC5",
                "#B0BEC5",
                "#B0BEC5",
                "#B0BEC5",
                "#B0BEC5",
                "#B0BEC5",
                "#B0BEC5",
                "#B0BEC5",
                "#B0BEC5",
                "#B0BEC5",
                "#B0BEC5",
                "#B0BEC5",
                "#B0BEC5",
                "#B0BEC5",
                "#B0BEC5",
                "#B0BEC5",
                "#B0BEC5",
                "#B0BEC5",
                "#B0BEC5",
                "#B0BEC5",
                "#B0BEC5",
                "#B0BEC5",
                "#B0BEC5",
                "#B0BEC5",
                "#B0BEC5",
                "#B0BEC5",
                "#B0BEC5",
                "#B0BEC5",
                "#B0BEC5",
                "#B0BEC5",
                "#B0BEC5",
                "red",
                "#B0BEC5",
                "#B0BEC5"
               ]
              ]
             }
            ],
            "label": "Topic 59",
            "method": "update"
           },
           {
            "args": [
             {
              "marker.color": [
               [
                "#B0BEC5",
                "#B0BEC5",
                "#B0BEC5",
                "#B0BEC5",
                "#B0BEC5",
                "#B0BEC5",
                "#B0BEC5",
                "#B0BEC5",
                "#B0BEC5",
                "#B0BEC5",
                "#B0BEC5",
                "#B0BEC5",
                "#B0BEC5",
                "#B0BEC5",
                "#B0BEC5",
                "#B0BEC5",
                "#B0BEC5",
                "#B0BEC5",
                "#B0BEC5",
                "#B0BEC5",
                "#B0BEC5",
                "#B0BEC5",
                "#B0BEC5",
                "#B0BEC5",
                "#B0BEC5",
                "#B0BEC5",
                "#B0BEC5",
                "#B0BEC5",
                "#B0BEC5",
                "#B0BEC5",
                "#B0BEC5",
                "#B0BEC5",
                "#B0BEC5",
                "#B0BEC5",
                "#B0BEC5",
                "#B0BEC5",
                "#B0BEC5",
                "#B0BEC5",
                "#B0BEC5",
                "#B0BEC5",
                "#B0BEC5",
                "#B0BEC5",
                "#B0BEC5",
                "#B0BEC5",
                "#B0BEC5",
                "#B0BEC5",
                "#B0BEC5",
                "#B0BEC5",
                "#B0BEC5",
                "#B0BEC5",
                "#B0BEC5",
                "#B0BEC5",
                "#B0BEC5",
                "#B0BEC5",
                "#B0BEC5",
                "#B0BEC5",
                "#B0BEC5",
                "#B0BEC5",
                "#B0BEC5",
                "#B0BEC5",
                "red",
                "#B0BEC5"
               ]
              ]
             }
            ],
            "label": "Topic 60",
            "method": "update"
           },
           {
            "args": [
             {
              "marker.color": [
               [
                "#B0BEC5",
                "#B0BEC5",
                "#B0BEC5",
                "#B0BEC5",
                "#B0BEC5",
                "#B0BEC5",
                "#B0BEC5",
                "#B0BEC5",
                "#B0BEC5",
                "#B0BEC5",
                "#B0BEC5",
                "#B0BEC5",
                "#B0BEC5",
                "#B0BEC5",
                "#B0BEC5",
                "#B0BEC5",
                "#B0BEC5",
                "#B0BEC5",
                "#B0BEC5",
                "#B0BEC5",
                "#B0BEC5",
                "#B0BEC5",
                "#B0BEC5",
                "#B0BEC5",
                "#B0BEC5",
                "#B0BEC5",
                "#B0BEC5",
                "#B0BEC5",
                "#B0BEC5",
                "#B0BEC5",
                "#B0BEC5",
                "#B0BEC5",
                "#B0BEC5",
                "#B0BEC5",
                "#B0BEC5",
                "#B0BEC5",
                "#B0BEC5",
                "#B0BEC5",
                "#B0BEC5",
                "#B0BEC5",
                "#B0BEC5",
                "#B0BEC5",
                "#B0BEC5",
                "#B0BEC5",
                "#B0BEC5",
                "#B0BEC5",
                "#B0BEC5",
                "#B0BEC5",
                "#B0BEC5",
                "#B0BEC5",
                "#B0BEC5",
                "#B0BEC5",
                "#B0BEC5",
                "#B0BEC5",
                "#B0BEC5",
                "#B0BEC5",
                "#B0BEC5",
                "#B0BEC5",
                "#B0BEC5",
                "#B0BEC5",
                "#B0BEC5",
                "red"
               ]
              ]
             }
            ],
            "label": "Topic 61",
            "method": "update"
           }
          ]
         }
        ],
        "template": {
         "data": {
          "bar": [
           {
            "error_x": {
             "color": "rgb(36,36,36)"
            },
            "error_y": {
             "color": "rgb(36,36,36)"
            },
            "marker": {
             "line": {
              "color": "white",
              "width": 0.5
             },
             "pattern": {
              "fillmode": "overlay",
              "size": 10,
              "solidity": 0.2
             }
            },
            "type": "bar"
           }
          ],
          "barpolar": [
           {
            "marker": {
             "line": {
              "color": "white",
              "width": 0.5
             },
             "pattern": {
              "fillmode": "overlay",
              "size": 10,
              "solidity": 0.2
             }
            },
            "type": "barpolar"
           }
          ],
          "carpet": [
           {
            "aaxis": {
             "endlinecolor": "rgb(36,36,36)",
             "gridcolor": "white",
             "linecolor": "white",
             "minorgridcolor": "white",
             "startlinecolor": "rgb(36,36,36)"
            },
            "baxis": {
             "endlinecolor": "rgb(36,36,36)",
             "gridcolor": "white",
             "linecolor": "white",
             "minorgridcolor": "white",
             "startlinecolor": "rgb(36,36,36)"
            },
            "type": "carpet"
           }
          ],
          "choropleth": [
           {
            "colorbar": {
             "outlinewidth": 1,
             "tickcolor": "rgb(36,36,36)",
             "ticks": "outside"
            },
            "type": "choropleth"
           }
          ],
          "contour": [
           {
            "colorbar": {
             "outlinewidth": 1,
             "tickcolor": "rgb(36,36,36)",
             "ticks": "outside"
            },
            "colorscale": [
             [
              0,
              "#440154"
             ],
             [
              0.1111111111111111,
              "#482878"
             ],
             [
              0.2222222222222222,
              "#3e4989"
             ],
             [
              0.3333333333333333,
              "#31688e"
             ],
             [
              0.4444444444444444,
              "#26828e"
             ],
             [
              0.5555555555555556,
              "#1f9e89"
             ],
             [
              0.6666666666666666,
              "#35b779"
             ],
             [
              0.7777777777777778,
              "#6ece58"
             ],
             [
              0.8888888888888888,
              "#b5de2b"
             ],
             [
              1,
              "#fde725"
             ]
            ],
            "type": "contour"
           }
          ],
          "contourcarpet": [
           {
            "colorbar": {
             "outlinewidth": 1,
             "tickcolor": "rgb(36,36,36)",
             "ticks": "outside"
            },
            "type": "contourcarpet"
           }
          ],
          "heatmap": [
           {
            "colorbar": {
             "outlinewidth": 1,
             "tickcolor": "rgb(36,36,36)",
             "ticks": "outside"
            },
            "colorscale": [
             [
              0,
              "#440154"
             ],
             [
              0.1111111111111111,
              "#482878"
             ],
             [
              0.2222222222222222,
              "#3e4989"
             ],
             [
              0.3333333333333333,
              "#31688e"
             ],
             [
              0.4444444444444444,
              "#26828e"
             ],
             [
              0.5555555555555556,
              "#1f9e89"
             ],
             [
              0.6666666666666666,
              "#35b779"
             ],
             [
              0.7777777777777778,
              "#6ece58"
             ],
             [
              0.8888888888888888,
              "#b5de2b"
             ],
             [
              1,
              "#fde725"
             ]
            ],
            "type": "heatmap"
           }
          ],
          "histogram": [
           {
            "marker": {
             "line": {
              "color": "white",
              "width": 0.6
             }
            },
            "type": "histogram"
           }
          ],
          "histogram2d": [
           {
            "colorbar": {
             "outlinewidth": 1,
             "tickcolor": "rgb(36,36,36)",
             "ticks": "outside"
            },
            "colorscale": [
             [
              0,
              "#440154"
             ],
             [
              0.1111111111111111,
              "#482878"
             ],
             [
              0.2222222222222222,
              "#3e4989"
             ],
             [
              0.3333333333333333,
              "#31688e"
             ],
             [
              0.4444444444444444,
              "#26828e"
             ],
             [
              0.5555555555555556,
              "#1f9e89"
             ],
             [
              0.6666666666666666,
              "#35b779"
             ],
             [
              0.7777777777777778,
              "#6ece58"
             ],
             [
              0.8888888888888888,
              "#b5de2b"
             ],
             [
              1,
              "#fde725"
             ]
            ],
            "type": "histogram2d"
           }
          ],
          "histogram2dcontour": [
           {
            "colorbar": {
             "outlinewidth": 1,
             "tickcolor": "rgb(36,36,36)",
             "ticks": "outside"
            },
            "colorscale": [
             [
              0,
              "#440154"
             ],
             [
              0.1111111111111111,
              "#482878"
             ],
             [
              0.2222222222222222,
              "#3e4989"
             ],
             [
              0.3333333333333333,
              "#31688e"
             ],
             [
              0.4444444444444444,
              "#26828e"
             ],
             [
              0.5555555555555556,
              "#1f9e89"
             ],
             [
              0.6666666666666666,
              "#35b779"
             ],
             [
              0.7777777777777778,
              "#6ece58"
             ],
             [
              0.8888888888888888,
              "#b5de2b"
             ],
             [
              1,
              "#fde725"
             ]
            ],
            "type": "histogram2dcontour"
           }
          ],
          "mesh3d": [
           {
            "colorbar": {
             "outlinewidth": 1,
             "tickcolor": "rgb(36,36,36)",
             "ticks": "outside"
            },
            "type": "mesh3d"
           }
          ],
          "parcoords": [
           {
            "line": {
             "colorbar": {
              "outlinewidth": 1,
              "tickcolor": "rgb(36,36,36)",
              "ticks": "outside"
             }
            },
            "type": "parcoords"
           }
          ],
          "pie": [
           {
            "automargin": true,
            "type": "pie"
           }
          ],
          "scatter": [
           {
            "fillpattern": {
             "fillmode": "overlay",
             "size": 10,
             "solidity": 0.2
            },
            "type": "scatter"
           }
          ],
          "scatter3d": [
           {
            "line": {
             "colorbar": {
              "outlinewidth": 1,
              "tickcolor": "rgb(36,36,36)",
              "ticks": "outside"
             }
            },
            "marker": {
             "colorbar": {
              "outlinewidth": 1,
              "tickcolor": "rgb(36,36,36)",
              "ticks": "outside"
             }
            },
            "type": "scatter3d"
           }
          ],
          "scattercarpet": [
           {
            "marker": {
             "colorbar": {
              "outlinewidth": 1,
              "tickcolor": "rgb(36,36,36)",
              "ticks": "outside"
             }
            },
            "type": "scattercarpet"
           }
          ],
          "scattergeo": [
           {
            "marker": {
             "colorbar": {
              "outlinewidth": 1,
              "tickcolor": "rgb(36,36,36)",
              "ticks": "outside"
             }
            },
            "type": "scattergeo"
           }
          ],
          "scattergl": [
           {
            "marker": {
             "colorbar": {
              "outlinewidth": 1,
              "tickcolor": "rgb(36,36,36)",
              "ticks": "outside"
             }
            },
            "type": "scattergl"
           }
          ],
          "scattermap": [
           {
            "marker": {
             "colorbar": {
              "outlinewidth": 1,
              "tickcolor": "rgb(36,36,36)",
              "ticks": "outside"
             }
            },
            "type": "scattermap"
           }
          ],
          "scattermapbox": [
           {
            "marker": {
             "colorbar": {
              "outlinewidth": 1,
              "tickcolor": "rgb(36,36,36)",
              "ticks": "outside"
             }
            },
            "type": "scattermapbox"
           }
          ],
          "scatterpolar": [
           {
            "marker": {
             "colorbar": {
              "outlinewidth": 1,
              "tickcolor": "rgb(36,36,36)",
              "ticks": "outside"
             }
            },
            "type": "scatterpolar"
           }
          ],
          "scatterpolargl": [
           {
            "marker": {
             "colorbar": {
              "outlinewidth": 1,
              "tickcolor": "rgb(36,36,36)",
              "ticks": "outside"
             }
            },
            "type": "scatterpolargl"
           }
          ],
          "scatterternary": [
           {
            "marker": {
             "colorbar": {
              "outlinewidth": 1,
              "tickcolor": "rgb(36,36,36)",
              "ticks": "outside"
             }
            },
            "type": "scatterternary"
           }
          ],
          "surface": [
           {
            "colorbar": {
             "outlinewidth": 1,
             "tickcolor": "rgb(36,36,36)",
             "ticks": "outside"
            },
            "colorscale": [
             [
              0,
              "#440154"
             ],
             [
              0.1111111111111111,
              "#482878"
             ],
             [
              0.2222222222222222,
              "#3e4989"
             ],
             [
              0.3333333333333333,
              "#31688e"
             ],
             [
              0.4444444444444444,
              "#26828e"
             ],
             [
              0.5555555555555556,
              "#1f9e89"
             ],
             [
              0.6666666666666666,
              "#35b779"
             ],
             [
              0.7777777777777778,
              "#6ece58"
             ],
             [
              0.8888888888888888,
              "#b5de2b"
             ],
             [
              1,
              "#fde725"
             ]
            ],
            "type": "surface"
           }
          ],
          "table": [
           {
            "cells": {
             "fill": {
              "color": "rgb(237,237,237)"
             },
             "line": {
              "color": "white"
             }
            },
            "header": {
             "fill": {
              "color": "rgb(217,217,217)"
             },
             "line": {
              "color": "white"
             }
            },
            "type": "table"
           }
          ]
         },
         "layout": {
          "annotationdefaults": {
           "arrowhead": 0,
           "arrowwidth": 1
          },
          "autotypenumbers": "strict",
          "coloraxis": {
           "colorbar": {
            "outlinewidth": 1,
            "tickcolor": "rgb(36,36,36)",
            "ticks": "outside"
           }
          },
          "colorscale": {
           "diverging": [
            [
             0,
             "rgb(103,0,31)"
            ],
            [
             0.1,
             "rgb(178,24,43)"
            ],
            [
             0.2,
             "rgb(214,96,77)"
            ],
            [
             0.3,
             "rgb(244,165,130)"
            ],
            [
             0.4,
             "rgb(253,219,199)"
            ],
            [
             0.5,
             "rgb(247,247,247)"
            ],
            [
             0.6,
             "rgb(209,229,240)"
            ],
            [
             0.7,
             "rgb(146,197,222)"
            ],
            [
             0.8,
             "rgb(67,147,195)"
            ],
            [
             0.9,
             "rgb(33,102,172)"
            ],
            [
             1,
             "rgb(5,48,97)"
            ]
           ],
           "sequential": [
            [
             0,
             "#440154"
            ],
            [
             0.1111111111111111,
             "#482878"
            ],
            [
             0.2222222222222222,
             "#3e4989"
            ],
            [
             0.3333333333333333,
             "#31688e"
            ],
            [
             0.4444444444444444,
             "#26828e"
            ],
            [
             0.5555555555555556,
             "#1f9e89"
            ],
            [
             0.6666666666666666,
             "#35b779"
            ],
            [
             0.7777777777777778,
             "#6ece58"
            ],
            [
             0.8888888888888888,
             "#b5de2b"
            ],
            [
             1,
             "#fde725"
            ]
           ],
           "sequentialminus": [
            [
             0,
             "#440154"
            ],
            [
             0.1111111111111111,
             "#482878"
            ],
            [
             0.2222222222222222,
             "#3e4989"
            ],
            [
             0.3333333333333333,
             "#31688e"
            ],
            [
             0.4444444444444444,
             "#26828e"
            ],
            [
             0.5555555555555556,
             "#1f9e89"
            ],
            [
             0.6666666666666666,
             "#35b779"
            ],
            [
             0.7777777777777778,
             "#6ece58"
            ],
            [
             0.8888888888888888,
             "#b5de2b"
            ],
            [
             1,
             "#fde725"
            ]
           ]
          },
          "colorway": [
           "#1F77B4",
           "#FF7F0E",
           "#2CA02C",
           "#D62728",
           "#9467BD",
           "#8C564B",
           "#E377C2",
           "#7F7F7F",
           "#BCBD22",
           "#17BECF"
          ],
          "font": {
           "color": "rgb(36,36,36)"
          },
          "geo": {
           "bgcolor": "white",
           "lakecolor": "white",
           "landcolor": "white",
           "showlakes": true,
           "showland": true,
           "subunitcolor": "white"
          },
          "hoverlabel": {
           "align": "left"
          },
          "hovermode": "closest",
          "mapbox": {
           "style": "light"
          },
          "paper_bgcolor": "white",
          "plot_bgcolor": "white",
          "polar": {
           "angularaxis": {
            "gridcolor": "rgb(232,232,232)",
            "linecolor": "rgb(36,36,36)",
            "showgrid": false,
            "showline": true,
            "ticks": "outside"
           },
           "bgcolor": "white",
           "radialaxis": {
            "gridcolor": "rgb(232,232,232)",
            "linecolor": "rgb(36,36,36)",
            "showgrid": false,
            "showline": true,
            "ticks": "outside"
           }
          },
          "scene": {
           "xaxis": {
            "backgroundcolor": "white",
            "gridcolor": "rgb(232,232,232)",
            "gridwidth": 2,
            "linecolor": "rgb(36,36,36)",
            "showbackground": true,
            "showgrid": false,
            "showline": true,
            "ticks": "outside",
            "zeroline": false,
            "zerolinecolor": "rgb(36,36,36)"
           },
           "yaxis": {
            "backgroundcolor": "white",
            "gridcolor": "rgb(232,232,232)",
            "gridwidth": 2,
            "linecolor": "rgb(36,36,36)",
            "showbackground": true,
            "showgrid": false,
            "showline": true,
            "ticks": "outside",
            "zeroline": false,
            "zerolinecolor": "rgb(36,36,36)"
           },
           "zaxis": {
            "backgroundcolor": "white",
            "gridcolor": "rgb(232,232,232)",
            "gridwidth": 2,
            "linecolor": "rgb(36,36,36)",
            "showbackground": true,
            "showgrid": false,
            "showline": true,
            "ticks": "outside",
            "zeroline": false,
            "zerolinecolor": "rgb(36,36,36)"
           }
          },
          "shapedefaults": {
           "fillcolor": "black",
           "line": {
            "width": 0
           },
           "opacity": 0.3
          },
          "ternary": {
           "aaxis": {
            "gridcolor": "rgb(232,232,232)",
            "linecolor": "rgb(36,36,36)",
            "showgrid": false,
            "showline": true,
            "ticks": "outside"
           },
           "baxis": {
            "gridcolor": "rgb(232,232,232)",
            "linecolor": "rgb(36,36,36)",
            "showgrid": false,
            "showline": true,
            "ticks": "outside"
           },
           "bgcolor": "white",
           "caxis": {
            "gridcolor": "rgb(232,232,232)",
            "linecolor": "rgb(36,36,36)",
            "showgrid": false,
            "showline": true,
            "ticks": "outside"
           }
          },
          "title": {
           "x": 0.05
          },
          "xaxis": {
           "automargin": true,
           "gridcolor": "rgb(232,232,232)",
           "linecolor": "rgb(36,36,36)",
           "showgrid": false,
           "showline": true,
           "ticks": "outside",
           "title": {
            "standoff": 15
           },
           "zeroline": false,
           "zerolinecolor": "rgb(36,36,36)"
          },
          "yaxis": {
           "automargin": true,
           "gridcolor": "rgb(232,232,232)",
           "linecolor": "rgb(36,36,36)",
           "showgrid": false,
           "showline": true,
           "ticks": "outside",
           "title": {
            "standoff": 15
           },
           "zeroline": false,
           "zerolinecolor": "rgb(36,36,36)"
          }
         }
        },
        "title": {
         "font": {
          "color": "Black",
          "size": 22
         },
         "text": "<b>Intertopic Distance Map</b>",
         "x": 0.5,
         "xanchor": "center",
         "y": 0.95,
         "yanchor": "top"
        },
        "width": 650,
        "xaxis": {
         "anchor": "y",
         "domain": [
          0,
          1
         ],
         "range": [
          -14.90362057685852,
          14.327869319915772
         ],
         "title": {
          "text": ""
         },
         "visible": false
        },
        "yaxis": {
         "anchor": "x",
         "domain": [
          0,
          1
         ],
         "range": [
          -19.04656572341919,
          24.408594703674318
         ],
         "title": {
          "text": ""
         },
         "visible": false
        }
       }
      }
     },
     "metadata": {},
     "output_type": "display_data"
    }
   ],
   "source": [
    "topic_model.visualize_topics()"
   ]
  },
  {
   "cell_type": "code",
   "execution_count": 76,
   "metadata": {},
   "outputs": [
    {
     "name": "stdout",
     "output_type": "stream",
     "text": [
      "Number of topics: 9\n"
     ]
    }
   ],
   "source": [
    "print(f\"Number of topics: {model.num_topics}\")"
   ]
  },
  {
   "cell_type": "code",
   "execution_count": 77,
   "metadata": {},
   "outputs": [
    {
     "name": "stdout",
     "output_type": "stream",
     "text": [
      "[('pm', 0.015258567), ('official', 0.01179248), ('history', 0.011326613), ('state', 0.009728837), ('people', 0.009651466), ('point', 0.009154193), ('case', 0.009107249), ('story', 0.008202529), ('value', 0.0079811495), ('read', 0.0075980066)]\n",
      "[('use', 0.011373297), ('cookie', 0.011011524), ('set', 0.0093381), ('user', 0.009191924), ('need', 0.008605792), ('feature', 0.007443799), ('game', 0.007425346), ('website', 0.0070116566), ('come', 0.0060257073), ('way', 0.006014851)]\n",
      "[('share', 0.041154537), ('stock', 0.033707067), ('price', 0.03148576), ('buy', 0.018369127), ('quarter', 0.017535415), ('rate', 0.015338656), ('sell', 0.013037619), ('market', 0.012368098), ('report', 0.011550327), ('investor', 0.010690923)]\n",
      "[('pound', 0.00023786873), ('port', 0.00023786873), ('wheel', 0.00023786873), ('translate', 0.00023786873), ('roof', 0.00023786873), ('reinforce', 0.00023786873), ('pricing', 0.00023786873), ('outcome', 0.00023786873), ('motor', 0.00023786873), ('monitoring', 0.00023786873)]\n",
      "[('open', 0.057044048), ('link', 0.043571588), ('tab', 0.034833252), ('link_open', 0.016959393), ('join', 0.01652586), ('open_tab', 0.015669651), ('subscription', 0.015103343), ('people', 0.014205268), ('device', 0.013576832), ('window', 0.01248929)]\n",
      "[('pound', 0.00023786873), ('port', 0.00023786873), ('wheel', 0.00023786873), ('translate', 0.00023786873), ('roof', 0.00023786873), ('reinforce', 0.00023786873), ('pricing', 0.00023786873), ('outcome', 0.00023786873), ('motor', 0.00023786873), ('monitoring', 0.00023786873)]\n",
      "[('market', 0.021297732), ('provide', 0.015826475), ('business', 0.014440791), ('technology', 0.011542806), ('datum', 0.011429851), ('growth', 0.010061607), ('industry', 0.009537339), ('base', 0.0091994135), ('report', 0.0089397775), ('lead', 0.0084488345)]\n",
      "[('video', 0.048561744), ('hour', 0.020106385), ('music', 0.015314849), ('channel', 0.014496431), ('kill', 0.0117117725), ('police', 0.010053934), ('talk', 0.0097287), ('today', 0.009281425), ('announce', 0.009134407), ('school', 0.009030435)]\n",
      "[('song', 0.013815802), ('star', 0.013314104), ('reveal', 0.0121971555), ('look', 0.01120071), ('show', 0.009080172), ('child', 0.008803931), ('love', 0.007974757), ('share', 0.007049396), ('post', 0.006927659), ('dress', 0.0068483497)]\n"
     ]
    }
   ],
   "source": [
    "for i in range(9):\n",
    "    print(model.show_topic(i))"
   ]
  },
  {
   "cell_type": "markdown",
   "metadata": {},
   "source": [
    "# **Model Evaluation**"
   ]
  },
  {
   "cell_type": "code",
   "execution_count": 78,
   "metadata": {},
   "outputs": [],
   "source": [
    "lda_labels = {\n",
    "    0: \"Politics & History\",\n",
    "    1: \"Technology\",\n",
    "    2: \"Stock Market\",\n",
    "    3: \"Poltical Economy\",\n",
    "    4: \"Subcriptions\",\n",
    "    5: \"Pricing Strategy\",\n",
    "    6: \"Business Technology\",\n",
    "    7: \"Crime News\",\n",
    "    8: \"Entertainment\"\n",
    "}"
   ]
  },
  {
   "cell_type": "code",
   "execution_count": 81,
   "metadata": {},
   "outputs": [
    {
     "data": {
      "text/html": [
       "<div>\n",
       "<style scoped>\n",
       "    .dataframe tbody tr th:only-of-type {\n",
       "        vertical-align: middle;\n",
       "    }\n",
       "\n",
       "    .dataframe tbody tr th {\n",
       "        vertical-align: top;\n",
       "    }\n",
       "\n",
       "    .dataframe thead th {\n",
       "        text-align: right;\n",
       "    }\n",
       "</style>\n",
       "<table border=\"1\" class=\"dataframe\">\n",
       "  <thead>\n",
       "    <tr style=\"text-align: right;\">\n",
       "      <th></th>\n",
       "      <th>Topic ID</th>\n",
       "      <th>Top Words</th>\n",
       "      <th>Label</th>\n",
       "    </tr>\n",
       "  </thead>\n",
       "  <tbody>\n",
       "    <tr>\n",
       "      <th>0</th>\n",
       "      <td>0</td>\n",
       "      <td>pm, official, history, state, people, point, c...</td>\n",
       "      <td>Politics &amp; History</td>\n",
       "    </tr>\n",
       "    <tr>\n",
       "      <th>1</th>\n",
       "      <td>1</td>\n",
       "      <td>use, cookie, set, user, need, feature, game, w...</td>\n",
       "      <td>Technology</td>\n",
       "    </tr>\n",
       "    <tr>\n",
       "      <th>2</th>\n",
       "      <td>2</td>\n",
       "      <td>share, stock, price, buy, quarter, rate, sell,...</td>\n",
       "      <td>Stock Market</td>\n",
       "    </tr>\n",
       "    <tr>\n",
       "      <th>3</th>\n",
       "      <td>3</td>\n",
       "      <td>pound, port, wheel, translate, roof, reinforce...</td>\n",
       "      <td>Poltical Economy</td>\n",
       "    </tr>\n",
       "    <tr>\n",
       "      <th>4</th>\n",
       "      <td>4</td>\n",
       "      <td>open, link, tab, link_open, join, open_tab, su...</td>\n",
       "      <td>Subcriptions</td>\n",
       "    </tr>\n",
       "    <tr>\n",
       "      <th>5</th>\n",
       "      <td>5</td>\n",
       "      <td>pound, port, wheel, translate, roof, reinforce...</td>\n",
       "      <td>Pricing Strategy</td>\n",
       "    </tr>\n",
       "    <tr>\n",
       "      <th>6</th>\n",
       "      <td>6</td>\n",
       "      <td>market, provide, business, technology, datum, ...</td>\n",
       "      <td>Business Technology</td>\n",
       "    </tr>\n",
       "    <tr>\n",
       "      <th>7</th>\n",
       "      <td>7</td>\n",
       "      <td>video, hour, music, channel, kill, police, tal...</td>\n",
       "      <td>Crime News</td>\n",
       "    </tr>\n",
       "    <tr>\n",
       "      <th>8</th>\n",
       "      <td>8</td>\n",
       "      <td>song, star, reveal, look, show, child, love, s...</td>\n",
       "      <td>Entertainment</td>\n",
       "    </tr>\n",
       "  </tbody>\n",
       "</table>\n",
       "</div>"
      ],
      "text/plain": [
       "   Topic ID                                          Top Words  \\\n",
       "0         0  pm, official, history, state, people, point, c...   \n",
       "1         1  use, cookie, set, user, need, feature, game, w...   \n",
       "2         2  share, stock, price, buy, quarter, rate, sell,...   \n",
       "3         3  pound, port, wheel, translate, roof, reinforce...   \n",
       "4         4  open, link, tab, link_open, join, open_tab, su...   \n",
       "5         5  pound, port, wheel, translate, roof, reinforce...   \n",
       "6         6  market, provide, business, technology, datum, ...   \n",
       "7         7  video, hour, music, channel, kill, police, tal...   \n",
       "8         8  song, star, reveal, look, show, child, love, s...   \n",
       "\n",
       "                 Label  \n",
       "0   Politics & History  \n",
       "1           Technology  \n",
       "2         Stock Market  \n",
       "3     Poltical Economy  \n",
       "4         Subcriptions  \n",
       "5     Pricing Strategy  \n",
       "6  Business Technology  \n",
       "7           Crime News  \n",
       "8        Entertainment  "
      ]
     },
     "metadata": {},
     "output_type": "display_data"
    }
   ],
   "source": [
    "# Build the DataFrame\n",
    "lda_label_df = pd.DataFrame({\n",
    "    \"Topic ID\": list(lda_labels.keys())\n",
    "})\n",
    "\n",
    "# Add top 10 words for each topic\n",
    "top_words = []\n",
    "for topic_id in lda_label_df[\"Topic ID\"]:\n",
    "    words = [word for word, _ in model.show_topic(topic_id, topn=10)]\n",
    "    top_words.append(\", \".join(words))\n",
    "\n",
    "lda_label_df[\"Top Words\"] = top_words\n",
    "\n",
    "lda_label_df[\"Label\"] = list(lda_labels.values())\n",
    "\n",
    "# Display the DataFrame\n",
    "display(lda_label_df)"
   ]
  },
  {
   "cell_type": "code",
   "execution_count": 82,
   "metadata": {},
   "outputs": [],
   "source": [
    "bertopic_words = []\n",
    "for topic_id in range(9):\n",
    "    words = [word for word, _ in topic_model.get_topic(topic_id)[:10]]\n",
    "    bertopic_words.append(\", \".join(words))"
   ]
  },
  {
   "cell_type": "code",
   "execution_count": 83,
   "metadata": {},
   "outputs": [
    {
     "data": {
      "text/plain": [
       "['pm, games, game, xbox, pc, gaming, 2022 00, series, 2022 11, activision',\n",
       " 'markets, td, inflation, stocks, fed, oil, rates, investors, billion, bloomberg',\n",
       " 'equities, password, username, nasdaq, register, delayed, minute, mail address, financial markets, account facebook',\n",
       " 'seattle, seattle times, streamingcomicsgames, justicelocal, nw, justicelocal politicseducationeducation, radioentertainmentmoviesbooksmusictheaterclassical musictv, politicseducationeducation, musictv streamingcomicsgames, musictv',\n",
       " 'cloud, prnewswire, gaap, gray, customers, oracle, gray media, media group, partner, non',\n",
       " 'india, delhi, rs, indian, express, singh, new window, minister, covid, khan',\n",
       " 'link, new tab, opens, tab, opens new, subscription, manage, shopping, lifestyle, profile',\n",
       " 'shares, nyse, llc, quarter, rating, nasdaq, management, holdings, position, company stock',\n",
       " 'seattle, seattle times, musictv streamingcomicsgames, justicelocal politicseducationeducation, radioentertainmentmoviesbooksmusictheaterclassical, radioentertainmentmoviesbooksmusictheaterclassical musictv, musictv, politicseducationeducation, tv radioentertainmentmoviesbooksmusictheaterclassical, replicatoday']"
      ]
     },
     "execution_count": 83,
     "metadata": {},
     "output_type": "execute_result"
    }
   ],
   "source": [
    "bertopic_words"
   ]
  },
  {
   "cell_type": "code",
   "execution_count": 84,
   "metadata": {},
   "outputs": [],
   "source": [
    "bertopic_labels = {\n",
    "    0: \"Gaming\",\n",
    "    1: \"Economic Markets\",\n",
    "    2: \"Financial Markets\",\n",
    "    3: \"Seattle Politics\",\n",
    "    4: \"Cloud Computing\",\n",
    "    5: \"India Market\",\n",
    "    6: \"Shopping & Subscriptions\",\n",
    "    7: \"Business Economy\",\n",
    "    8: \"Seattle Politics\"\n",
    "}"
   ]
  },
  {
   "cell_type": "code",
   "execution_count": 85,
   "metadata": {},
   "outputs": [
    {
     "data": {
      "text/html": [
       "<div>\n",
       "<style scoped>\n",
       "    .dataframe tbody tr th:only-of-type {\n",
       "        vertical-align: middle;\n",
       "    }\n",
       "\n",
       "    .dataframe tbody tr th {\n",
       "        vertical-align: top;\n",
       "    }\n",
       "\n",
       "    .dataframe thead th {\n",
       "        text-align: right;\n",
       "    }\n",
       "</style>\n",
       "<table border=\"1\" class=\"dataframe\">\n",
       "  <thead>\n",
       "    <tr style=\"text-align: right;\">\n",
       "      <th></th>\n",
       "      <th>Topic ID</th>\n",
       "      <th>Top Words</th>\n",
       "      <th>Label</th>\n",
       "    </tr>\n",
       "  </thead>\n",
       "  <tbody>\n",
       "    <tr>\n",
       "      <th>0</th>\n",
       "      <td>0</td>\n",
       "      <td>pm, games, game, xbox, pc, gaming, 2022 00, se...</td>\n",
       "      <td>Gaming</td>\n",
       "    </tr>\n",
       "    <tr>\n",
       "      <th>1</th>\n",
       "      <td>1</td>\n",
       "      <td>markets, td, inflation, stocks, fed, oil, rate...</td>\n",
       "      <td>Economic Markets</td>\n",
       "    </tr>\n",
       "    <tr>\n",
       "      <th>2</th>\n",
       "      <td>2</td>\n",
       "      <td>equities, password, username, nasdaq, register...</td>\n",
       "      <td>Financial Markets</td>\n",
       "    </tr>\n",
       "    <tr>\n",
       "      <th>3</th>\n",
       "      <td>3</td>\n",
       "      <td>seattle, seattle times, streamingcomicsgames, ...</td>\n",
       "      <td>Seattle Politics</td>\n",
       "    </tr>\n",
       "    <tr>\n",
       "      <th>4</th>\n",
       "      <td>4</td>\n",
       "      <td>cloud, prnewswire, gaap, gray, customers, orac...</td>\n",
       "      <td>Cloud Computing</td>\n",
       "    </tr>\n",
       "    <tr>\n",
       "      <th>5</th>\n",
       "      <td>5</td>\n",
       "      <td>india, delhi, rs, indian, express, singh, new ...</td>\n",
       "      <td>India Market</td>\n",
       "    </tr>\n",
       "    <tr>\n",
       "      <th>6</th>\n",
       "      <td>6</td>\n",
       "      <td>link, new tab, opens, tab, opens new, subscrip...</td>\n",
       "      <td>Shopping &amp; Subscriptions</td>\n",
       "    </tr>\n",
       "    <tr>\n",
       "      <th>7</th>\n",
       "      <td>7</td>\n",
       "      <td>shares, nyse, llc, quarter, rating, nasdaq, ma...</td>\n",
       "      <td>Business Economy</td>\n",
       "    </tr>\n",
       "    <tr>\n",
       "      <th>8</th>\n",
       "      <td>8</td>\n",
       "      <td>seattle, seattle times, musictv streamingcomic...</td>\n",
       "      <td>Seattle Politics</td>\n",
       "    </tr>\n",
       "  </tbody>\n",
       "</table>\n",
       "</div>"
      ],
      "text/plain": [
       "   Topic ID                                          Top Words  \\\n",
       "0         0  pm, games, game, xbox, pc, gaming, 2022 00, se...   \n",
       "1         1  markets, td, inflation, stocks, fed, oil, rate...   \n",
       "2         2  equities, password, username, nasdaq, register...   \n",
       "3         3  seattle, seattle times, streamingcomicsgames, ...   \n",
       "4         4  cloud, prnewswire, gaap, gray, customers, orac...   \n",
       "5         5  india, delhi, rs, indian, express, singh, new ...   \n",
       "6         6  link, new tab, opens, tab, opens new, subscrip...   \n",
       "7         7  shares, nyse, llc, quarter, rating, nasdaq, ma...   \n",
       "8         8  seattle, seattle times, musictv streamingcomic...   \n",
       "\n",
       "                      Label  \n",
       "0                    Gaming  \n",
       "1          Economic Markets  \n",
       "2         Financial Markets  \n",
       "3          Seattle Politics  \n",
       "4           Cloud Computing  \n",
       "5              India Market  \n",
       "6  Shopping & Subscriptions  \n",
       "7          Business Economy  \n",
       "8          Seattle Politics  "
      ]
     },
     "metadata": {},
     "output_type": "display_data"
    }
   ],
   "source": [
    "bertopic_df = pd.DataFrame({\n",
    "    \"Topic ID\": list(bertopic_labels.keys()),\n",
    "    \"Top Words\": bertopic_words,\n",
    "     \"Label\": list(bertopic_labels.values())\n",
    "})\n",
    "\n",
    "display(bertopic_df)"
   ]
  },
  {
   "cell_type": "markdown",
   "metadata": {},
   "source": [
    "# **Analysis**"
   ]
  },
  {
   "cell_type": "markdown",
   "metadata": {},
   "source": [
    "Overall the topic modeling outputs from LDA and BERTopic are slightly different in how each model groups text topics. With LDA, we can see that the topcis are generally broader and more conceptual topics in nature. For example, “Politics & History” or “Business Technology”. However, LDA also produced some noisy/redundant topics, such as Topics 3 and 5, which appear to be somewhat unrelated. \n",
    "\n",
    "In contrast, BERTopic is much more granular (especially since we only pulled the first 9 of 61 topics), and is better at producing more concrete topics. For example, “Gaming,” “India Market,” or “Seattle Politics.” It also produced less redundnat topics. However, there was some thematic overlap such as \"Seattle Politics\". \n",
    "\n",
    "Overall, LDA was more high level, while BERTopic was more granular. As such, the choice between the two comes down to the interpreation goal."
   ]
  }
 ],
 "metadata": {
  "kernelspec": {
   "display_name": "nlp",
   "language": "python",
   "name": "python3"
  },
  "language_info": {
   "codemirror_mode": {
    "name": "ipython",
    "version": 3
   },
   "file_extension": ".py",
   "mimetype": "text/x-python",
   "name": "python",
   "nbconvert_exporter": "python",
   "pygments_lexer": "ipython3",
   "version": "3.11.9"
  }
 },
 "nbformat": 4,
 "nbformat_minor": 2
}
